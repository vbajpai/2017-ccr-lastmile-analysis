{
 "cells": [
  {
   "cell_type": "markdown",
   "metadata": {},
   "source": [
    "*This notebook reads the `metadata_snapshot_extensions` data from a `lastmile.db` sqlite3 database; fetches the holder names for each ASN from the RIPE stat API; the network type information for each probe from the peeringDB API and stores all such information in `sk_asn` table*\n",
    "- - - "
   ]
  },
  {
   "cell_type": "code",
   "execution_count": 1,
   "metadata": {
    "collapsed": false
   },
   "outputs": [],
   "source": [
    "import sqlite3\n",
    "import pandas as pd"
   ]
  },
  {
   "cell_type": "code",
   "execution_count": 2,
   "metadata": {
    "collapsed": false
   },
   "outputs": [],
   "source": [
    "DB_LOCATION = 'lastmile.db'\n",
    "METADATA_SNAPSHOT_EXTENSIONS = 'metadata_snapshot_extensions'\n",
    "SK_ASN = 'sk_asn'"
   ]
  },
  {
   "cell_type": "code",
   "execution_count": 29,
   "metadata": {
    "collapsed": false
   },
   "outputs": [],
   "source": [
    "con = sqlite3.connect(DB_LOCATION)"
   ]
  },
  {
   "cell_type": "code",
   "execution_count": 4,
   "metadata": {
    "collapsed": false
   },
   "outputs": [],
   "source": [
    "query = '''SELECT distinct(asn) as asn FROM %s\n",
    "        '''%(METADATA_SNAPSHOT_EXTENSIONS)"
   ]
  },
  {
   "cell_type": "code",
   "execution_count": 5,
   "metadata": {
    "collapsed": false
   },
   "outputs": [],
   "source": [
    "df = pd.read_sql(query, con)\n",
    "df = df.sort()"
   ]
  },
  {
   "cell_type": "code",
   "execution_count": 6,
   "metadata": {
    "collapsed": false
   },
   "outputs": [
    {
     "data": {
      "text/plain": [
       "asn    43\n",
       "dtype: int64"
      ]
     },
     "execution_count": 6,
     "metadata": {},
     "output_type": "execute_result"
    }
   ],
   "source": [
    "df.count()"
   ]
  },
  {
   "cell_type": "code",
   "execution_count": 7,
   "metadata": {
    "collapsed": true
   },
   "outputs": [],
   "source": [
    "import time\n",
    "timestamp = int(time.time())\n",
    "df['timestamp'] = timestamp"
   ]
  },
  {
   "cell_type": "code",
   "execution_count": 8,
   "metadata": {
    "collapsed": false
   },
   "outputs": [
    {
     "data": {
      "text/html": [
       "<div style=\"max-height:1000px;max-width:1500px;overflow:auto;\">\n",
       "<table border=\"1\" class=\"dataframe\">\n",
       "  <thead>\n",
       "    <tr style=\"text-align: right;\">\n",
       "      <th></th>\n",
       "      <th>asn</th>\n",
       "      <th>timestamp</th>\n",
       "    </tr>\n",
       "  </thead>\n",
       "  <tbody>\n",
       "    <tr>\n",
       "      <th>0</th>\n",
       "      <td>5089</td>\n",
       "      <td>1429899546</td>\n",
       "    </tr>\n",
       "    <tr>\n",
       "      <th>1</th>\n",
       "      <td>2856</td>\n",
       "      <td>1429899546</td>\n",
       "    </tr>\n",
       "    <tr>\n",
       "      <th>2</th>\n",
       "      <td>12390</td>\n",
       "      <td>1429899546</td>\n",
       "    </tr>\n",
       "    <tr>\n",
       "      <th>3</th>\n",
       "      <td>12576</td>\n",
       "      <td>1429899546</td>\n",
       "    </tr>\n",
       "    <tr>\n",
       "      <th>4</th>\n",
       "      <td>5607</td>\n",
       "      <td>1429899546</td>\n",
       "    </tr>\n",
       "  </tbody>\n",
       "</table>\n",
       "</div>"
      ],
      "text/plain": [
       "     asn   timestamp\n",
       "0   5089  1429899546\n",
       "1   2856  1429899546\n",
       "2  12390  1429899546\n",
       "3  12576  1429899546\n",
       "4   5607  1429899546"
      ]
     },
     "execution_count": 8,
     "metadata": {},
     "output_type": "execute_result"
    }
   ],
   "source": [
    "df.head()"
   ]
  },
  {
   "cell_type": "code",
   "execution_count": 9,
   "metadata": {
    "collapsed": true
   },
   "outputs": [],
   "source": [
    "import requests\n",
    "import sys\n",
    "import numpy as np"
   ]
  },
  {
   "cell_type": "code",
   "execution_count": 10,
   "metadata": {
    "collapsed": true
   },
   "outputs": [],
   "source": [
    "def get_json_resource_from_absolute_uri(url, query_params):\n",
    "    try: res = requests.get(url, params = query_params)\n",
    "    except Exception as e: print(e, file=sys.stderr)\n",
    "    else:\n",
    "        try: res_json = res.json()\n",
    "        except Exception as e: print(e, file=sys.stderr)\n",
    "        else: \n",
    "            return res_json"
   ]
  },
  {
   "cell_type": "code",
   "execution_count": 11,
   "metadata": {
    "collapsed": true
   },
   "outputs": [],
   "source": [
    "def get_holder_from_asn(asn):\n",
    "    if asn is None or asn is '': return None\n",
    "    try: asn=int(asn)\n",
    "    except ValueError as e: return None    \n",
    "    base_uri = 'https://stat.ripe.net'; url = '%s/data/as-overview/data.json'%base_uri\n",
    "    params = {'resource' : asn}\n",
    "    try: res = get_json_resource_from_absolute_uri(url, params)\n",
    "    except Exception as e: print(e, file=sys.stderr)\n",
    "    try: holder = res['data']['holder']\n",
    "    except Exception as e: print('%s, %s'%(asn,e), file=sys.stderr, end=''); holder=None\n",
    "    else: print('.', end='')\n",
    "    return holder"
   ]
  },
  {
   "cell_type": "code",
   "execution_count": 12,
   "metadata": {
    "collapsed": false
   },
   "outputs": [
    {
     "name": "stdout",
     "output_type": "stream",
     "text": [
      "..........................................."
     ]
    }
   ],
   "source": [
    "df['asn_holder_name'] = df['asn'].apply(get_holder_from_asn)"
   ]
  },
  {
   "cell_type": "code",
   "execution_count": 13,
   "metadata": {
    "collapsed": false
   },
   "outputs": [
    {
     "data": {
      "text/html": [
       "<div style=\"max-height:1000px;max-width:1500px;overflow:auto;\">\n",
       "<table border=\"1\" class=\"dataframe\">\n",
       "  <thead>\n",
       "    <tr style=\"text-align: right;\">\n",
       "      <th></th>\n",
       "      <th>asn</th>\n",
       "      <th>timestamp</th>\n",
       "      <th>asn_holder_name</th>\n",
       "    </tr>\n",
       "  </thead>\n",
       "  <tbody>\n",
       "    <tr>\n",
       "      <th>0</th>\n",
       "      <td>5089</td>\n",
       "      <td>1429899546</td>\n",
       "      <td>NTL Virgin Media Limited,GB</td>\n",
       "    </tr>\n",
       "    <tr>\n",
       "      <th>1</th>\n",
       "      <td>2856</td>\n",
       "      <td>1429899546</td>\n",
       "      <td>BT-UK-AS BT Public Internet Service,GB</td>\n",
       "    </tr>\n",
       "    <tr>\n",
       "      <th>2</th>\n",
       "      <td>12390</td>\n",
       "      <td>1429899546</td>\n",
       "      <td>KINGSTON-UK-AS KCOM Group Public Limited Compa...</td>\n",
       "    </tr>\n",
       "    <tr>\n",
       "      <th>3</th>\n",
       "      <td>12576</td>\n",
       "      <td>1429899546</td>\n",
       "      <td>ORANGE-PCS Orange Personal Communications Serv...</td>\n",
       "    </tr>\n",
       "    <tr>\n",
       "      <th>4</th>\n",
       "      <td>5607</td>\n",
       "      <td>1429899546</td>\n",
       "      <td>BSKYB-BROADBAND-AS British Sky Broadcasting Li...</td>\n",
       "    </tr>\n",
       "  </tbody>\n",
       "</table>\n",
       "</div>"
      ],
      "text/plain": [
       "     asn   timestamp                                    asn_holder_name\n",
       "0   5089  1429899546                        NTL Virgin Media Limited,GB\n",
       "1   2856  1429899546             BT-UK-AS BT Public Internet Service,GB\n",
       "2  12390  1429899546  KINGSTON-UK-AS KCOM Group Public Limited Compa...\n",
       "3  12576  1429899546  ORANGE-PCS Orange Personal Communications Serv...\n",
       "4   5607  1429899546  BSKYB-BROADBAND-AS British Sky Broadcasting Li..."
      ]
     },
     "execution_count": 13,
     "metadata": {},
     "output_type": "execute_result"
    }
   ],
   "source": [
    "df.head()"
   ]
  },
  {
   "cell_type": "code",
   "execution_count": 14,
   "metadata": {
    "collapsed": false
   },
   "outputs": [
    {
     "data": {
      "text/plain": [
       "asn                43\n",
       "timestamp          43\n",
       "asn_holder_name    43\n",
       "dtype: int64"
      ]
     },
     "execution_count": 14,
     "metadata": {},
     "output_type": "execute_result"
    }
   ],
   "source": [
    "df.count()"
   ]
  },
  {
   "cell_type": "code",
   "execution_count": 15,
   "metadata": {
    "collapsed": false
   },
   "outputs": [],
   "source": [
    "import pymysql"
   ]
  },
  {
   "cell_type": "code",
   "execution_count": 16,
   "metadata": {
    "collapsed": false
   },
   "outputs": [],
   "source": [
    "d = {}\n",
    "con = pymysql.connect (   host='peeringdb.com'\n",
    "                        , user='peeringdb'\n",
    "                        , passwd='peeringdb'\n",
    "                        , db='Peering'\n",
    "                       )\n",
    "cur = con.cursor()    \n",
    "query = 'select asn, name, info_type from peerParticipants where asn is not null;'\n",
    "num_records = cur.execute(query)\n",
    "for index, (asn, name, info_type) in enumerate(cur.fetchall()): \n",
    "    d[asn] = (name, info_type)"
   ]
  },
  {
   "cell_type": "code",
   "execution_count": 17,
   "metadata": {
    "collapsed": true
   },
   "outputs": [],
   "source": [
    "def get_network_type_from_asn(asn):\n",
    "    if asn == None or asn == 'None': return None\n",
    "    try: name, info_type = d[int(asn)]\n",
    "    except Exception as e: return None\n",
    "    else: return info_type"
   ]
  },
  {
   "cell_type": "code",
   "execution_count": 18,
   "metadata": {
    "collapsed": true
   },
   "outputs": [],
   "source": [
    "try: df['network_type'] = df['asn'].apply(get_network_type_from_asn)\n",
    "except Exception as e: None"
   ]
  },
  {
   "cell_type": "code",
   "execution_count": 19,
   "metadata": {
    "collapsed": false
   },
   "outputs": [
    {
     "data": {
      "text/plain": [
       "asn                43\n",
       "timestamp          43\n",
       "asn_holder_name    43\n",
       "network_type       31\n",
       "dtype: int64"
      ]
     },
     "execution_count": 19,
     "metadata": {},
     "output_type": "execute_result"
    }
   ],
   "source": [
    "df.count()"
   ]
  },
  {
   "cell_type": "code",
   "execution_count": 20,
   "metadata": {
    "collapsed": true
   },
   "outputs": [],
   "source": [
    "def rename_cable_dsl_isp_to_nsp(type_name):\n",
    "    if type_name == \"Cable/DSL/ISP\": return \"NSP\"\n",
    "    else: return type_name"
   ]
  },
  {
   "cell_type": "code",
   "execution_count": 21,
   "metadata": {
    "collapsed": true
   },
   "outputs": [],
   "source": [
    "try: df['network_type'] = df['network_type'].apply(rename_cable_dsl_isp_to_nsp)\n",
    "except Exception as e: None"
   ]
  },
  {
   "cell_type": "code",
   "execution_count": 22,
   "metadata": {
    "collapsed": true
   },
   "outputs": [],
   "source": [
    "df['asn_access_type'] = None"
   ]
  },
  {
   "cell_type": "code",
   "execution_count": 23,
   "metadata": {
    "collapsed": false
   },
   "outputs": [],
   "source": [
    "df = df.set_index('asn')"
   ]
  },
  {
   "cell_type": "code",
   "execution_count": 24,
   "metadata": {
    "collapsed": false
   },
   "outputs": [
    {
     "data": {
      "text/html": [
       "<div style=\"max-height:1000px;max-width:1500px;overflow:auto;\">\n",
       "<table border=\"1\" class=\"dataframe\">\n",
       "  <thead>\n",
       "    <tr style=\"text-align: right;\">\n",
       "      <th></th>\n",
       "      <th>timestamp</th>\n",
       "      <th>asn_holder_name</th>\n",
       "      <th>network_type</th>\n",
       "      <th>asn_access_type</th>\n",
       "    </tr>\n",
       "    <tr>\n",
       "      <th>asn</th>\n",
       "      <th></th>\n",
       "      <th></th>\n",
       "      <th></th>\n",
       "      <th></th>\n",
       "    </tr>\n",
       "  </thead>\n",
       "  <tbody>\n",
       "    <tr>\n",
       "      <th>5089</th>\n",
       "      <td>1429899546</td>\n",
       "      <td>NTL Virgin Media Limited,GB</td>\n",
       "      <td>NSP</td>\n",
       "      <td>None</td>\n",
       "    </tr>\n",
       "    <tr>\n",
       "      <th>2856</th>\n",
       "      <td>1429899546</td>\n",
       "      <td>BT-UK-AS BT Public Internet Service,GB</td>\n",
       "      <td>NSP</td>\n",
       "      <td>None</td>\n",
       "    </tr>\n",
       "    <tr>\n",
       "      <th>12390</th>\n",
       "      <td>1429899546</td>\n",
       "      <td>KINGSTON-UK-AS KCOM Group Public Limited Compa...</td>\n",
       "      <td>NSP</td>\n",
       "      <td>None</td>\n",
       "    </tr>\n",
       "    <tr>\n",
       "      <th>12576</th>\n",
       "      <td>1429899546</td>\n",
       "      <td>ORANGE-PCS Orange Personal Communications Serv...</td>\n",
       "      <td>NSP</td>\n",
       "      <td>None</td>\n",
       "    </tr>\n",
       "    <tr>\n",
       "      <th>5607</th>\n",
       "      <td>1429899546</td>\n",
       "      <td>BSKYB-BROADBAND-AS British Sky Broadcasting Li...</td>\n",
       "      <td>NSP</td>\n",
       "      <td>None</td>\n",
       "    </tr>\n",
       "  </tbody>\n",
       "</table>\n",
       "</div>"
      ],
      "text/plain": [
       "        timestamp                                    asn_holder_name  \\\n",
       "asn                                                                    \n",
       "5089   1429899546                        NTL Virgin Media Limited,GB   \n",
       "2856   1429899546             BT-UK-AS BT Public Internet Service,GB   \n",
       "12390  1429899546  KINGSTON-UK-AS KCOM Group Public Limited Compa...   \n",
       "12576  1429899546  ORANGE-PCS Orange Personal Communications Serv...   \n",
       "5607   1429899546  BSKYB-BROADBAND-AS British Sky Broadcasting Li...   \n",
       "\n",
       "      network_type asn_access_type  \n",
       "asn                                 \n",
       "5089           NSP            None  \n",
       "2856           NSP            None  \n",
       "12390          NSP            None  \n",
       "12576          NSP            None  \n",
       "5607           NSP            None  "
      ]
     },
     "execution_count": 24,
     "metadata": {},
     "output_type": "execute_result"
    }
   ],
   "source": [
    "df.head()"
   ]
  },
  {
   "cell_type": "code",
   "execution_count": 25,
   "metadata": {
    "collapsed": false
   },
   "outputs": [
    {
     "data": {
      "text/plain": [
       "timestamp          43\n",
       "asn_holder_name    43\n",
       "network_type       31\n",
       "asn_access_type     0\n",
       "dtype: int64"
      ]
     },
     "execution_count": 25,
     "metadata": {},
     "output_type": "execute_result"
    }
   ],
   "source": [
    "df.count()"
   ]
  },
  {
   "cell_type": "code",
   "execution_count": 26,
   "metadata": {
    "collapsed": true
   },
   "outputs": [],
   "source": [
    "import sqlite3\n",
    "con = sqlite3.connect(DB_LOCATION)\n",
    "cur = con.execute('pragma foreign_keys=ON')"
   ]
  },
  {
   "cell_type": "code",
   "execution_count": 30,
   "metadata": {
    "collapsed": false
   },
   "outputs": [],
   "source": [
    "df.to_sql(  '%s'%SK_ASN\n",
    "          , con\n",
    "          , flavor='sqlite'\n",
    "          , if_exists = 'append'\n",
    "          , index_label = 'asn'\n",
    "         )"
   ]
  },
  {
   "cell_type": "code",
   "execution_count": 31,
   "metadata": {
    "collapsed": true
   },
   "outputs": [],
   "source": [
    "con.commit()\n",
    "con.close()"
   ]
  }
 ],
 "metadata": {
  "kernelspec": {
   "display_name": "Python 3",
   "language": "python",
   "name": "python3"
  },
  "language_info": {
   "codemirror_mode": {
    "name": "ipython",
    "version": 3
   },
   "file_extension": ".py",
   "mimetype": "text/x-python",
   "name": "python",
   "nbconvert_exporter": "python",
   "pygments_lexer": "ipython3",
   "version": "3.4.2"
  }
 },
 "nbformat": 4,
 "nbformat_minor": 0
}
