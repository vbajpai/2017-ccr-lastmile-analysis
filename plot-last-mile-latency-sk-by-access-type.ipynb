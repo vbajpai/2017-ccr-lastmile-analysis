{
 "cells": [
  {
   "cell_type": "markdown",
   "metadata": {},
   "source": [
    "*This notebook plots the lastmile latency for DSL, CABLE and FIBRE probes separately for each service provider in SamKnows.*\n",
    "- - - "
   ]
  },
  {
   "cell_type": "code",
   "execution_count": 1,
   "metadata": {
    "collapsed": false
   },
   "outputs": [
    {
     "data": {
      "text/html": [
       "<style>body {\n",
       "    margin: 0;\n",
       "    font-family: Helvetica;\n",
       "}\n",
       "table.dataframe {\n",
       "    border-collapse: collapse;\n",
       "    border: none;\n",
       "}\n",
       "table.dataframe tr {\n",
       "    border: none;\n",
       "}\n",
       "table.dataframe td, table.dataframe th {\n",
       "    margin: 0;\n",
       "    border: 1px solid white;\n",
       "    padding-left: 0.25em;\n",
       "    padding-right: 0.25em;\n",
       "}\n",
       "table.dataframe th:not(:empty) {\n",
       "    background-color: #fec;\n",
       "    text-align: left;\n",
       "    font-weight: normal;\n",
       "}\n",
       "table.dataframe tr:nth-child(2) th:empty {\n",
       "    border-left: none;\n",
       "    border-right: 1px dashed #888;\n",
       "}\n",
       "table.dataframe td {\n",
       "    border: 2px solid #ccf;\n",
       "    background-color: #f4f4ff;\n",
       "}\n",
       "h3 {\n",
       "    color: white;\n",
       "    background-color: black;\n",
       "    padding: 0.5em;\n",
       "}\n",
       "\n",
       ".CodeMirror {\n",
       "    font-family: 'Monaco for Powerline';\n",
       "}\n",
       "\n",
       "div.cell.code_cell {\n",
       "    font-family: 'Monaco for Powerline';\n",
       "}\n",
       "\n",
       "div.output_area pre {\n",
       "    font-family: 'Monaco for Powerline';\n",
       "}\n",
       "</style>"
      ],
      "text/plain": [
       "<IPython.core.display.HTML object>"
      ]
     },
     "execution_count": 1,
     "metadata": {},
     "output_type": "execute_result"
    }
   ],
   "source": [
    "from IPython.core.display import HTML\n",
    "css = open('style-table.css').read() + open('style-notebook.css').read()\n",
    "HTML('<style>{}</style>'.format(css))"
   ]
  },
  {
   "cell_type": "code",
   "execution_count": 2,
   "metadata": {
    "collapsed": true
   },
   "outputs": [],
   "source": [
    "import warnings\n",
    "warnings.filterwarnings('ignore')"
   ]
  },
  {
   "cell_type": "code",
   "execution_count": 3,
   "metadata": {
    "collapsed": false
   },
   "outputs": [
    {
     "name": "stdout",
     "output_type": "stream",
     "text": [
      "Populating the interactive namespace from numpy and matplotlib\n"
     ]
    }
   ],
   "source": [
    "%pylab inline"
   ]
  },
  {
   "cell_type": "code",
   "execution_count": 4,
   "metadata": {
    "collapsed": false
   },
   "outputs": [],
   "source": [
    "import sqlite3\n",
    "import pandas as pd"
   ]
  },
  {
   "cell_type": "code",
   "execution_count": 5,
   "metadata": {
    "collapsed": true
   },
   "outputs": [],
   "source": [
    "DB_LOCATION = 'lastmile.db'"
   ]
  },
  {
   "cell_type": "code",
   "execution_count": 6,
   "metadata": {
    "collapsed": true
   },
   "outputs": [],
   "source": [
    "METADATA_SNAPSHOT = 'metadata_snapshot'\n",
    "METADATA_SNAPSHOT_EXTENSIONS = 'metadata_snapshot_extensions'\n",
    "SK_ASN = 'sk_asn'\n",
    "SK_ONE_OFF_EXTENSIONS = 'sk_one_off_extensions'\n",
    "SK_LATENCIES_AGG = 'sk_latencies_agg'"
   ]
  },
  {
   "cell_type": "code",
   "execution_count": 7,
   "metadata": {
    "collapsed": false
   },
   "outputs": [],
   "source": [
    "con = sqlite3.connect(DB_LOCATION)"
   ]
  },
  {
   "cell_type": "code",
   "execution_count": 8,
   "metadata": {
    "collapsed": false
   },
   "outputs": [],
   "source": [
    "query_sk = '''SELECT      agg.probeid\n",
    "                        , agg.timestamp\n",
    "                        , s.asn\n",
    "                        , meta.product\n",
    "                        , s.asn_holder_name\n",
    "                        , s.asn_access_type                \n",
    "                        , ext.access_type_technology\n",
    "                        , agg.h1_avg || ';' || agg.h2_avg as h1h2\n",
    "\n",
    "               FROM   %s                             as  agg\n",
    "                    , %s                             as  api\n",
    "                    , %s                             as  s\n",
    "                    , %s                             as  meta\n",
    "                    , %s                             as  ext\n",
    "\n",
    "               WHERE     agg.probeid                  =  api.probeid\n",
    "               AND       agg.probeid                  =  ext.probeid\n",
    "               AND       api.asn                      =  s.asn\n",
    "               AND       agg.probeid                  =  meta.id\n",
    "\n",
    "               AND       ext.if_residential           =  1\n",
    "               AND       agg.h1_avg                   <>   0\n",
    "               AND       agg.h2_avg                   <>   0\n",
    "\n",
    "               \n",
    "            '''%(  SK_LATENCIES_AGG\n",
    "                 , METADATA_SNAPSHOT_EXTENSIONS\n",
    "                 , SK_ASN\n",
    "                 , METADATA_SNAPSHOT\n",
    "                 , SK_ONE_OFF_EXTENSIONS\n",
    "                )\n",
    "\n",
    "df_sk = pd.read_sql(query_sk, con)"
   ]
  },
  {
   "cell_type": "code",
   "execution_count": 9,
   "metadata": {
    "collapsed": false
   },
   "outputs": [
    {
     "data": {
      "text/plain": [
       "probeid                   435841\n",
       "timestamp                 435841\n",
       "asn                       435841\n",
       "product                   435841\n",
       "asn_holder_name           435841\n",
       "asn_access_type           415903\n",
       "access_type_technology    102512\n",
       "h1h2                      435841\n",
       "dtype: int64"
      ]
     },
     "execution_count": 9,
     "metadata": {},
     "output_type": "execute_result"
    }
   ],
   "source": [
    "df_sk.count()"
   ]
  },
  {
   "cell_type": "code",
   "execution_count": 10,
   "metadata": {
    "collapsed": false
   },
   "outputs": [
    {
     "data": {
      "text/html": [
       "<div>\n",
       "<table border=\"1\" class=\"dataframe\">\n",
       "  <thead>\n",
       "    <tr style=\"text-align: right;\">\n",
       "      <th></th>\n",
       "      <th>probeid</th>\n",
       "      <th>timestamp</th>\n",
       "      <th>asn</th>\n",
       "      <th>product</th>\n",
       "      <th>asn_holder_name</th>\n",
       "      <th>asn_access_type</th>\n",
       "      <th>access_type_technology</th>\n",
       "      <th>h1h2</th>\n",
       "    </tr>\n",
       "  </thead>\n",
       "  <tbody>\n",
       "    <tr>\n",
       "      <th>0</th>\n",
       "      <td>14905</td>\n",
       "      <td>2014-07-28 00:36:14</td>\n",
       "      <td>2856</td>\n",
       "      <td>40</td>\n",
       "      <td>BT-UK-AS BT Public Internet Service,GB</td>\n",
       "      <td>DSL</td>\n",
       "      <td>None</td>\n",
       "      <td>0.794;7.423</td>\n",
       "    </tr>\n",
       "    <tr>\n",
       "      <th>1</th>\n",
       "      <td>14905</td>\n",
       "      <td>2014-07-28 00:36:18</td>\n",
       "      <td>2856</td>\n",
       "      <td>40</td>\n",
       "      <td>BT-UK-AS BT Public Internet Service,GB</td>\n",
       "      <td>DSL</td>\n",
       "      <td>None</td>\n",
       "      <td>0.787;7.41</td>\n",
       "    </tr>\n",
       "    <tr>\n",
       "      <th>2</th>\n",
       "      <td>14905</td>\n",
       "      <td>2014-07-28 12:36:52</td>\n",
       "      <td>2856</td>\n",
       "      <td>40</td>\n",
       "      <td>BT-UK-AS BT Public Internet Service,GB</td>\n",
       "      <td>DSL</td>\n",
       "      <td>None</td>\n",
       "      <td>0.786;7.687</td>\n",
       "    </tr>\n",
       "    <tr>\n",
       "      <th>3</th>\n",
       "      <td>14905</td>\n",
       "      <td>2014-07-28 12:36:56</td>\n",
       "      <td>2856</td>\n",
       "      <td>40</td>\n",
       "      <td>BT-UK-AS BT Public Internet Service,GB</td>\n",
       "      <td>DSL</td>\n",
       "      <td>None</td>\n",
       "      <td>0.808;7.539</td>\n",
       "    </tr>\n",
       "    <tr>\n",
       "      <th>4</th>\n",
       "      <td>14905</td>\n",
       "      <td>2014-07-28 16:36:10</td>\n",
       "      <td>2856</td>\n",
       "      <td>40</td>\n",
       "      <td>BT-UK-AS BT Public Internet Service,GB</td>\n",
       "      <td>DSL</td>\n",
       "      <td>None</td>\n",
       "      <td>0.813;7.576</td>\n",
       "    </tr>\n",
       "  </tbody>\n",
       "</table>\n",
       "</div>"
      ],
      "text/plain": [
       "   probeid            timestamp   asn product  \\\n",
       "0    14905  2014-07-28 00:36:14  2856      40   \n",
       "1    14905  2014-07-28 00:36:18  2856      40   \n",
       "2    14905  2014-07-28 12:36:52  2856      40   \n",
       "3    14905  2014-07-28 12:36:56  2856      40   \n",
       "4    14905  2014-07-28 16:36:10  2856      40   \n",
       "\n",
       "                          asn_holder_name asn_access_type  \\\n",
       "0  BT-UK-AS BT Public Internet Service,GB             DSL   \n",
       "1  BT-UK-AS BT Public Internet Service,GB             DSL   \n",
       "2  BT-UK-AS BT Public Internet Service,GB             DSL   \n",
       "3  BT-UK-AS BT Public Internet Service,GB             DSL   \n",
       "4  BT-UK-AS BT Public Internet Service,GB             DSL   \n",
       "\n",
       "  access_type_technology         h1h2  \n",
       "0                   None  0.794;7.423  \n",
       "1                   None   0.787;7.41  \n",
       "2                   None  0.786;7.687  \n",
       "3                   None  0.808;7.539  \n",
       "4                   None  0.813;7.576  "
      ]
     },
     "execution_count": 10,
     "metadata": {},
     "output_type": "execute_result"
    }
   ],
   "source": [
    "df_sk.head()"
   ]
  },
  {
   "cell_type": "code",
   "execution_count": 11,
   "metadata": {
    "collapsed": true
   },
   "outputs": [],
   "source": [
    "df_sk = df_sk.dropna(subset = ['h1h2'])"
   ]
  },
  {
   "cell_type": "code",
   "execution_count": 12,
   "metadata": {
    "collapsed": false
   },
   "outputs": [
    {
     "data": {
      "text/plain": [
       "probeid                   435841\n",
       "timestamp                 435841\n",
       "asn                       435841\n",
       "product                   435841\n",
       "asn_holder_name           435841\n",
       "asn_access_type           415903\n",
       "access_type_technology    102512\n",
       "h1h2                      435841\n",
       "dtype: int64"
      ]
     },
     "execution_count": 12,
     "metadata": {},
     "output_type": "execute_result"
    }
   ],
   "source": [
    "df_sk.count()"
   ]
  },
  {
   "cell_type": "code",
   "execution_count": 13,
   "metadata": {
    "collapsed": false
   },
   "outputs": [
    {
     "data": {
      "text/html": [
       "<div>\n",
       "<table border=\"1\" class=\"dataframe\">\n",
       "  <thead>\n",
       "    <tr style=\"text-align: right;\">\n",
       "      <th></th>\n",
       "      <th>probeid</th>\n",
       "      <th>timestamp</th>\n",
       "      <th>asn</th>\n",
       "      <th>product</th>\n",
       "      <th>asn_holder_name</th>\n",
       "      <th>asn_access_type</th>\n",
       "      <th>access_type_technology</th>\n",
       "      <th>h1h2</th>\n",
       "    </tr>\n",
       "  </thead>\n",
       "  <tbody>\n",
       "    <tr>\n",
       "      <th>0</th>\n",
       "      <td>14905</td>\n",
       "      <td>2014-07-28 00:36:14</td>\n",
       "      <td>2856</td>\n",
       "      <td>40</td>\n",
       "      <td>BT-UK-AS BT Public Internet Service,GB</td>\n",
       "      <td>DSL</td>\n",
       "      <td>None</td>\n",
       "      <td>0.794;7.423</td>\n",
       "    </tr>\n",
       "    <tr>\n",
       "      <th>1</th>\n",
       "      <td>14905</td>\n",
       "      <td>2014-07-28 00:36:18</td>\n",
       "      <td>2856</td>\n",
       "      <td>40</td>\n",
       "      <td>BT-UK-AS BT Public Internet Service,GB</td>\n",
       "      <td>DSL</td>\n",
       "      <td>None</td>\n",
       "      <td>0.787;7.41</td>\n",
       "    </tr>\n",
       "    <tr>\n",
       "      <th>2</th>\n",
       "      <td>14905</td>\n",
       "      <td>2014-07-28 12:36:52</td>\n",
       "      <td>2856</td>\n",
       "      <td>40</td>\n",
       "      <td>BT-UK-AS BT Public Internet Service,GB</td>\n",
       "      <td>DSL</td>\n",
       "      <td>None</td>\n",
       "      <td>0.786;7.687</td>\n",
       "    </tr>\n",
       "    <tr>\n",
       "      <th>3</th>\n",
       "      <td>14905</td>\n",
       "      <td>2014-07-28 12:36:56</td>\n",
       "      <td>2856</td>\n",
       "      <td>40</td>\n",
       "      <td>BT-UK-AS BT Public Internet Service,GB</td>\n",
       "      <td>DSL</td>\n",
       "      <td>None</td>\n",
       "      <td>0.808;7.539</td>\n",
       "    </tr>\n",
       "    <tr>\n",
       "      <th>4</th>\n",
       "      <td>14905</td>\n",
       "      <td>2014-07-28 16:36:10</td>\n",
       "      <td>2856</td>\n",
       "      <td>40</td>\n",
       "      <td>BT-UK-AS BT Public Internet Service,GB</td>\n",
       "      <td>DSL</td>\n",
       "      <td>None</td>\n",
       "      <td>0.813;7.576</td>\n",
       "    </tr>\n",
       "  </tbody>\n",
       "</table>\n",
       "</div>"
      ],
      "text/plain": [
       "   probeid            timestamp   asn product  \\\n",
       "0    14905  2014-07-28 00:36:14  2856      40   \n",
       "1    14905  2014-07-28 00:36:18  2856      40   \n",
       "2    14905  2014-07-28 12:36:52  2856      40   \n",
       "3    14905  2014-07-28 12:36:56  2856      40   \n",
       "4    14905  2014-07-28 16:36:10  2856      40   \n",
       "\n",
       "                          asn_holder_name asn_access_type  \\\n",
       "0  BT-UK-AS BT Public Internet Service,GB             DSL   \n",
       "1  BT-UK-AS BT Public Internet Service,GB             DSL   \n",
       "2  BT-UK-AS BT Public Internet Service,GB             DSL   \n",
       "3  BT-UK-AS BT Public Internet Service,GB             DSL   \n",
       "4  BT-UK-AS BT Public Internet Service,GB             DSL   \n",
       "\n",
       "  access_type_technology         h1h2  \n",
       "0                   None  0.794;7.423  \n",
       "1                   None   0.787;7.41  \n",
       "2                   None  0.786;7.687  \n",
       "3                   None  0.808;7.539  \n",
       "4                   None  0.813;7.576  "
      ]
     },
     "execution_count": 13,
     "metadata": {},
     "output_type": "execute_result"
    }
   ],
   "source": [
    "df_sk.head()"
   ]
  },
  {
   "cell_type": "code",
   "execution_count": 14,
   "metadata": {
    "collapsed": false
   },
   "outputs": [],
   "source": [
    "def calculate_lastmile_latency(h1h2):\n",
    "    try: h1,h2 = h1h2.split(';')\n",
    "    except Exception as e: print(e, type(e), h1h2); return None\n",
    "    \n",
    "    try: lastmile = float(h2) - float(h1)\n",
    "    except Exception as e: print(e, type(e), h1, h2); return None\n",
    "    \n",
    "    return lastmile"
   ]
  },
  {
   "cell_type": "code",
   "execution_count": 15,
   "metadata": {
    "collapsed": false
   },
   "outputs": [],
   "source": [
    "df_sk['lastmile'] = df_sk['h1h2'].apply(calculate_lastmile_latency)"
   ]
  },
  {
   "cell_type": "code",
   "execution_count": 16,
   "metadata": {
    "collapsed": false
   },
   "outputs": [
    {
     "data": {
      "text/html": [
       "<div>\n",
       "<table border=\"1\" class=\"dataframe\">\n",
       "  <thead>\n",
       "    <tr style=\"text-align: right;\">\n",
       "      <th></th>\n",
       "      <th>probeid</th>\n",
       "      <th>timestamp</th>\n",
       "      <th>asn</th>\n",
       "      <th>product</th>\n",
       "      <th>asn_holder_name</th>\n",
       "      <th>asn_access_type</th>\n",
       "      <th>access_type_technology</th>\n",
       "      <th>h1h2</th>\n",
       "      <th>lastmile</th>\n",
       "    </tr>\n",
       "  </thead>\n",
       "  <tbody>\n",
       "    <tr>\n",
       "      <th>0</th>\n",
       "      <td>14905</td>\n",
       "      <td>2014-07-28 00:36:14</td>\n",
       "      <td>2856</td>\n",
       "      <td>40</td>\n",
       "      <td>BT-UK-AS BT Public Internet Service,GB</td>\n",
       "      <td>DSL</td>\n",
       "      <td>None</td>\n",
       "      <td>0.794;7.423</td>\n",
       "      <td>6.629</td>\n",
       "    </tr>\n",
       "    <tr>\n",
       "      <th>1</th>\n",
       "      <td>14905</td>\n",
       "      <td>2014-07-28 00:36:18</td>\n",
       "      <td>2856</td>\n",
       "      <td>40</td>\n",
       "      <td>BT-UK-AS BT Public Internet Service,GB</td>\n",
       "      <td>DSL</td>\n",
       "      <td>None</td>\n",
       "      <td>0.787;7.41</td>\n",
       "      <td>6.623</td>\n",
       "    </tr>\n",
       "    <tr>\n",
       "      <th>2</th>\n",
       "      <td>14905</td>\n",
       "      <td>2014-07-28 12:36:52</td>\n",
       "      <td>2856</td>\n",
       "      <td>40</td>\n",
       "      <td>BT-UK-AS BT Public Internet Service,GB</td>\n",
       "      <td>DSL</td>\n",
       "      <td>None</td>\n",
       "      <td>0.786;7.687</td>\n",
       "      <td>6.901</td>\n",
       "    </tr>\n",
       "    <tr>\n",
       "      <th>3</th>\n",
       "      <td>14905</td>\n",
       "      <td>2014-07-28 12:36:56</td>\n",
       "      <td>2856</td>\n",
       "      <td>40</td>\n",
       "      <td>BT-UK-AS BT Public Internet Service,GB</td>\n",
       "      <td>DSL</td>\n",
       "      <td>None</td>\n",
       "      <td>0.808;7.539</td>\n",
       "      <td>6.731</td>\n",
       "    </tr>\n",
       "    <tr>\n",
       "      <th>4</th>\n",
       "      <td>14905</td>\n",
       "      <td>2014-07-28 16:36:10</td>\n",
       "      <td>2856</td>\n",
       "      <td>40</td>\n",
       "      <td>BT-UK-AS BT Public Internet Service,GB</td>\n",
       "      <td>DSL</td>\n",
       "      <td>None</td>\n",
       "      <td>0.813;7.576</td>\n",
       "      <td>6.763</td>\n",
       "    </tr>\n",
       "  </tbody>\n",
       "</table>\n",
       "</div>"
      ],
      "text/plain": [
       "   probeid            timestamp   asn product  \\\n",
       "0    14905  2014-07-28 00:36:14  2856      40   \n",
       "1    14905  2014-07-28 00:36:18  2856      40   \n",
       "2    14905  2014-07-28 12:36:52  2856      40   \n",
       "3    14905  2014-07-28 12:36:56  2856      40   \n",
       "4    14905  2014-07-28 16:36:10  2856      40   \n",
       "\n",
       "                          asn_holder_name asn_access_type  \\\n",
       "0  BT-UK-AS BT Public Internet Service,GB             DSL   \n",
       "1  BT-UK-AS BT Public Internet Service,GB             DSL   \n",
       "2  BT-UK-AS BT Public Internet Service,GB             DSL   \n",
       "3  BT-UK-AS BT Public Internet Service,GB             DSL   \n",
       "4  BT-UK-AS BT Public Internet Service,GB             DSL   \n",
       "\n",
       "  access_type_technology         h1h2  lastmile  \n",
       "0                   None  0.794;7.423     6.629  \n",
       "1                   None   0.787;7.41     6.623  \n",
       "2                   None  0.786;7.687     6.901  \n",
       "3                   None  0.808;7.539     6.731  \n",
       "4                   None  0.813;7.576     6.763  "
      ]
     },
     "execution_count": 16,
     "metadata": {},
     "output_type": "execute_result"
    }
   ],
   "source": [
    "df_sk.head()"
   ]
  },
  {
   "cell_type": "code",
   "execution_count": 17,
   "metadata": {
    "collapsed": false
   },
   "outputs": [
    {
     "data": {
      "text/plain": [
       "probeid                   435841\n",
       "timestamp                 435841\n",
       "asn                       435841\n",
       "product                   435841\n",
       "asn_holder_name           435841\n",
       "asn_access_type           415903\n",
       "access_type_technology    102512\n",
       "h1h2                      435841\n",
       "lastmile                  435841\n",
       "dtype: int64"
      ]
     },
     "execution_count": 17,
     "metadata": {},
     "output_type": "execute_result"
    }
   ],
   "source": [
    "df_sk.count()"
   ]
  },
  {
   "cell_type": "code",
   "execution_count": 18,
   "metadata": {
    "collapsed": true
   },
   "outputs": [],
   "source": [
    "df_sk_groupby = df_sk.groupby('probeid')\n",
    "df_sk_agg = df_sk_groupby['lastmile'].agg(['median'])\n",
    "df_sk_merged = pd.merge(df_sk, df_sk_agg, left_on='probeid', right_index=True)\n",
    "\n",
    "del df_sk_merged['timestamp']\n",
    "del df_sk_merged['h1h2']\n",
    "del df_sk_merged['lastmile']\n",
    "\n",
    "df_sk_merged = df_sk_merged.drop_duplicates()\n",
    "df_sk_merged.rename(columns={'median': 'lastmile_median'}, inplace=True)"
   ]
  },
  {
   "cell_type": "code",
   "execution_count": 19,
   "metadata": {
    "collapsed": false
   },
   "outputs": [],
   "source": [
    "df_sk_merged = df_sk_merged.sort('lastmile_median')"
   ]
  },
  {
   "cell_type": "code",
   "execution_count": 20,
   "metadata": {
    "collapsed": false
   },
   "outputs": [
    {
     "data": {
      "text/plain": [
       "probeid                   1245\n",
       "asn                       1245\n",
       "product                   1245\n",
       "asn_holder_name           1245\n",
       "asn_access_type           1187\n",
       "access_type_technology     290\n",
       "lastmile_median           1245\n",
       "dtype: int64"
      ]
     },
     "execution_count": 20,
     "metadata": {},
     "output_type": "execute_result"
    }
   ],
   "source": [
    "df_sk_merged.count()"
   ]
  },
  {
   "cell_type": "code",
   "execution_count": 21,
   "metadata": {
    "collapsed": false
   },
   "outputs": [
    {
     "data": {
      "text/html": [
       "<div>\n",
       "<table border=\"1\" class=\"dataframe\">\n",
       "  <thead>\n",
       "    <tr style=\"text-align: right;\">\n",
       "      <th></th>\n",
       "      <th>probeid</th>\n",
       "      <th>asn</th>\n",
       "      <th>product</th>\n",
       "      <th>asn_holder_name</th>\n",
       "      <th>asn_access_type</th>\n",
       "      <th>access_type_technology</th>\n",
       "      <th>lastmile_median</th>\n",
       "    </tr>\n",
       "  </thead>\n",
       "  <tbody>\n",
       "    <tr>\n",
       "      <th>411520</th>\n",
       "      <td>421758</td>\n",
       "      <td>13037</td>\n",
       "      <td>40</td>\n",
       "      <td>ZEN-AS Zen Internet Ltd,GB</td>\n",
       "      <td>DSL</td>\n",
       "      <td>DSL</td>\n",
       "      <td>-46.8325</td>\n",
       "    </tr>\n",
       "    <tr>\n",
       "      <th>235617</th>\n",
       "      <td>146348</td>\n",
       "      <td>13037</td>\n",
       "      <td>80</td>\n",
       "      <td>ZEN-AS Zen Internet Ltd,GB</td>\n",
       "      <td>DSL</td>\n",
       "      <td>DSL</td>\n",
       "      <td>-45.8645</td>\n",
       "    </tr>\n",
       "    <tr>\n",
       "      <th>53135</th>\n",
       "      <td>141004</td>\n",
       "      <td>2856</td>\n",
       "      <td>20</td>\n",
       "      <td>BT-UK-AS BT Public Internet Service,GB</td>\n",
       "      <td>DSL</td>\n",
       "      <td>None</td>\n",
       "      <td>-44.1935</td>\n",
       "    </tr>\n",
       "    <tr>\n",
       "      <th>313640</th>\n",
       "      <td>148302</td>\n",
       "      <td>6871</td>\n",
       "      <td>80</td>\n",
       "      <td>PLUSNET PlusNet PLC,GB</td>\n",
       "      <td>DSL</td>\n",
       "      <td>None</td>\n",
       "      <td>-43.7715</td>\n",
       "    </tr>\n",
       "    <tr>\n",
       "      <th>149707</th>\n",
       "      <td>143906</td>\n",
       "      <td>6871</td>\n",
       "      <td>80</td>\n",
       "      <td>PLUSNET PlusNet PLC,GB</td>\n",
       "      <td>DSL</td>\n",
       "      <td>None</td>\n",
       "      <td>-41.7680</td>\n",
       "    </tr>\n",
       "  </tbody>\n",
       "</table>\n",
       "</div>"
      ],
      "text/plain": [
       "        probeid    asn product                         asn_holder_name  \\\n",
       "411520   421758  13037      40              ZEN-AS Zen Internet Ltd,GB   \n",
       "235617   146348  13037      80              ZEN-AS Zen Internet Ltd,GB   \n",
       "53135    141004   2856      20  BT-UK-AS BT Public Internet Service,GB   \n",
       "313640   148302   6871      80                  PLUSNET PlusNet PLC,GB   \n",
       "149707   143906   6871      80                  PLUSNET PlusNet PLC,GB   \n",
       "\n",
       "       asn_access_type access_type_technology  lastmile_median  \n",
       "411520             DSL                    DSL         -46.8325  \n",
       "235617             DSL                    DSL         -45.8645  \n",
       "53135              DSL                   None         -44.1935  \n",
       "313640             DSL                   None         -43.7715  \n",
       "149707             DSL                   None         -41.7680  "
      ]
     },
     "execution_count": 21,
     "metadata": {},
     "output_type": "execute_result"
    }
   ],
   "source": [
    "df_sk_merged.head()"
   ]
  },
  {
   "cell_type": "code",
   "execution_count": 22,
   "metadata": {
    "collapsed": false
   },
   "outputs": [
    {
     "name": "stdout",
     "output_type": "stream",
     "text": [
      "146332,143508,143020,147324,141472,143084,"
     ]
    }
   ],
   "source": [
    "def myfunc(x):\n",
    "    count = 0\n",
    "    manual = x['asn_access_type']; rdns = x['access_type_technology']\n",
    "    \n",
    "    chosen = None\n",
    "    if manual is None and rdns is None: chosen = None\n",
    "    elif manual is None and rdns is not None: chosen = rdns\n",
    "    elif manual is not None and rdns is None: chosen = manual\n",
    "    elif manual == rdns: chosen = rdns\n",
    "    elif manual != rdns:\n",
    "        if rdns == 'FIBRE': chosen = rdns    \n",
    "        else: print(x['probeid'], end=','); count += 1\n",
    "        \n",
    "    return chosen\n",
    "\n",
    "df_sk_merged['chosen'] = df_sk_merged.apply(myfunc, axis=1)"
   ]
  },
  {
   "cell_type": "code",
   "execution_count": 23,
   "metadata": {
    "collapsed": false
   },
   "outputs": [
    {
     "data": {
      "text/html": [
       "<div>\n",
       "<table border=\"1\" class=\"dataframe\">\n",
       "  <thead>\n",
       "    <tr style=\"text-align: right;\">\n",
       "      <th></th>\n",
       "      <th>probeid</th>\n",
       "      <th>asn</th>\n",
       "      <th>product</th>\n",
       "      <th>asn_holder_name</th>\n",
       "      <th>asn_access_type</th>\n",
       "      <th>access_type_technology</th>\n",
       "      <th>lastmile_median</th>\n",
       "      <th>chosen</th>\n",
       "    </tr>\n",
       "  </thead>\n",
       "  <tbody>\n",
       "    <tr>\n",
       "      <th>106248</th>\n",
       "      <td>143084</td>\n",
       "      <td>5089</td>\n",
       "      <td>8</td>\n",
       "      <td>NTL Virgin Media Limited,GB</td>\n",
       "      <td>CABLE</td>\n",
       "      <td>DSL</td>\n",
       "      <td>42.8175</td>\n",
       "      <td>None</td>\n",
       "    </tr>\n",
       "  </tbody>\n",
       "</table>\n",
       "</div>"
      ],
      "text/plain": [
       "        probeid   asn product              asn_holder_name asn_access_type  \\\n",
       "106248   143084  5089       8  NTL Virgin Media Limited,GB           CABLE   \n",
       "\n",
       "       access_type_technology  lastmile_median chosen  \n",
       "106248                    DSL          42.8175   None  "
      ]
     },
     "execution_count": 23,
     "metadata": {},
     "output_type": "execute_result"
    }
   ],
   "source": [
    "df_sk_merged[df_sk_merged.probeid == 143084  ]"
   ]
  },
  {
   "cell_type": "code",
   "execution_count": 24,
   "metadata": {
    "collapsed": false
   },
   "outputs": [
    {
     "data": {
      "text/plain": [
       "probeid                   1245\n",
       "asn                       1245\n",
       "product                   1245\n",
       "asn_holder_name           1245\n",
       "asn_access_type           1187\n",
       "access_type_technology     290\n",
       "lastmile_median           1245\n",
       "chosen                    1189\n",
       "dtype: int64"
      ]
     },
     "execution_count": 24,
     "metadata": {},
     "output_type": "execute_result"
    }
   ],
   "source": [
    "df_sk_merged.count()"
   ]
  },
  {
   "cell_type": "code",
   "execution_count": 25,
   "metadata": {
    "collapsed": false
   },
   "outputs": [],
   "source": [
    "def create_pretty_node_names(asn, holder):\n",
    "    \n",
    "    d = {\n",
    "          'NTL'        : 'VIRGINMEDIA'\n",
    "        , 'AS3215'     : 'ORANGE'        \n",
    "        , 'VODANET'    : 'VODAFONE'\n",
    "        , 'PROXAD'     : 'FREE'\n",
    "        , 'ROADRUNNER' : 'TWC'\n",
    "        , 'TDDE'       : 'TELEFONICA-DE'\n",
    "        , 'TT'         : 'TALKTALK'\n",
    "        , 'AS20712'    : 'A&A'\n",
    "        \n",
    "    }\n",
    "    \n",
    "    firstname = holder.split('-')[0].split(' ')[0]\n",
    "    try: firstname = d[firstname]\n",
    "    except Exception as e: pass\n",
    "    \n",
    "    if 'AS' in str(asn): nodename = '%s (%s)'%(firstname, asn)\n",
    "    else: nodename = '%s (AS%s)'%(firstname, asn)\n",
    "    return nodename\n",
    "\n",
    "def myfunc(x):\n",
    "    asn = x['asn']; holder = x['asn_holder_name']; \n",
    "    nodename = create_pretty_node_names(asn, holder)\n",
    "    x['nodename'] = nodename\n",
    "    return x\n",
    "\n",
    "df_sk_merged = df_sk_merged.apply(myfunc, axis=1)"
   ]
  },
  {
   "cell_type": "code",
   "execution_count": 26,
   "metadata": {
    "collapsed": false
   },
   "outputs": [],
   "source": [
    "del df_sk_merged['asn_access_type']\n",
    "del df_sk_merged['access_type_technology']\n",
    "del df_sk_merged['asn']\n",
    "del df_sk_merged['asn_holder_name']"
   ]
  },
  {
   "cell_type": "code",
   "execution_count": 27,
   "metadata": {
    "collapsed": false
   },
   "outputs": [
    {
     "data": {
      "text/html": [
       "<div>\n",
       "<table border=\"1\" class=\"dataframe\">\n",
       "  <thead>\n",
       "    <tr style=\"text-align: right;\">\n",
       "      <th></th>\n",
       "      <th>probeid</th>\n",
       "      <th>product</th>\n",
       "      <th>lastmile_median</th>\n",
       "      <th>chosen</th>\n",
       "      <th>nodename</th>\n",
       "    </tr>\n",
       "  </thead>\n",
       "  <tbody>\n",
       "    <tr>\n",
       "      <th>411520</th>\n",
       "      <td>421758</td>\n",
       "      <td>40</td>\n",
       "      <td>-46.8325</td>\n",
       "      <td>DSL</td>\n",
       "      <td>ZEN (AS13037)</td>\n",
       "    </tr>\n",
       "    <tr>\n",
       "      <th>235617</th>\n",
       "      <td>146348</td>\n",
       "      <td>80</td>\n",
       "      <td>-45.8645</td>\n",
       "      <td>DSL</td>\n",
       "      <td>ZEN (AS13037)</td>\n",
       "    </tr>\n",
       "    <tr>\n",
       "      <th>53135</th>\n",
       "      <td>141004</td>\n",
       "      <td>20</td>\n",
       "      <td>-44.1935</td>\n",
       "      <td>DSL</td>\n",
       "      <td>BT (AS2856)</td>\n",
       "    </tr>\n",
       "    <tr>\n",
       "      <th>313640</th>\n",
       "      <td>148302</td>\n",
       "      <td>80</td>\n",
       "      <td>-43.7715</td>\n",
       "      <td>DSL</td>\n",
       "      <td>PLUSNET (AS6871)</td>\n",
       "    </tr>\n",
       "    <tr>\n",
       "      <th>149707</th>\n",
       "      <td>143906</td>\n",
       "      <td>80</td>\n",
       "      <td>-41.7680</td>\n",
       "      <td>DSL</td>\n",
       "      <td>PLUSNET (AS6871)</td>\n",
       "    </tr>\n",
       "  </tbody>\n",
       "</table>\n",
       "</div>"
      ],
      "text/plain": [
       "        probeid product  lastmile_median chosen          nodename\n",
       "411520   421758      40         -46.8325    DSL     ZEN (AS13037)\n",
       "235617   146348      80         -45.8645    DSL     ZEN (AS13037)\n",
       "53135    141004      20         -44.1935    DSL       BT (AS2856)\n",
       "313640   148302      80         -43.7715    DSL  PLUSNET (AS6871)\n",
       "149707   143906      80         -41.7680    DSL  PLUSNET (AS6871)"
      ]
     },
     "execution_count": 27,
     "metadata": {},
     "output_type": "execute_result"
    }
   ],
   "source": [
    "df_sk_merged.head()"
   ]
  },
  {
   "cell_type": "code",
   "execution_count": 28,
   "metadata": {
    "collapsed": true
   },
   "outputs": [],
   "source": [
    "df_sk_merged['nodename'] = df_sk_merged['nodename'].apply(lambda node: node.split(' ')[0])"
   ]
  },
  {
   "cell_type": "code",
   "execution_count": 29,
   "metadata": {
    "collapsed": false
   },
   "outputs": [
    {
     "data": {
      "text/plain": [
       "probeid            1245\n",
       "product            1245\n",
       "lastmile_median    1245\n",
       "chosen             1189\n",
       "nodename           1245\n",
       "dtype: int64"
      ]
     },
     "execution_count": 29,
     "metadata": {},
     "output_type": "execute_result"
    }
   ],
   "source": [
    "df_sk_merged.count()"
   ]
  },
  {
   "cell_type": "code",
   "execution_count": 30,
   "metadata": {
    "collapsed": false
   },
   "outputs": [],
   "source": [
    "df_sk_merged = df_sk_merged.dropna()"
   ]
  },
  {
   "cell_type": "code",
   "execution_count": 31,
   "metadata": {
    "collapsed": false
   },
   "outputs": [
    {
     "data": {
      "text/plain": [
       "probeid            1189\n",
       "product            1189\n",
       "lastmile_median    1189\n",
       "chosen             1189\n",
       "nodename           1189\n",
       "dtype: int64"
      ]
     },
     "execution_count": 31,
     "metadata": {},
     "output_type": "execute_result"
    }
   ],
   "source": [
    "df_sk_merged.count()"
   ]
  },
  {
   "cell_type": "code",
   "execution_count": 32,
   "metadata": {
    "collapsed": false
   },
   "outputs": [],
   "source": [
    "df_dsl   = df_sk_merged[df_sk_merged.chosen == 'DSL']\n",
    "df_cable = df_sk_merged[df_sk_merged.chosen == 'CABLE']\n",
    "df_fibre = df_sk_merged[df_sk_merged.chosen == 'FIBRE']"
   ]
  },
  {
   "cell_type": "code",
   "execution_count": 33,
   "metadata": {
    "collapsed": false
   },
   "outputs": [
    {
     "name": "stdout",
     "output_type": "stream",
     "text": [
      "dsl: 994\n",
      "cable: 195\n",
      "fibre: 0\n",
      "total: 1189\n"
     ]
    }
   ],
   "source": [
    "dsl_count   = df_dsl['probeid'].count()\n",
    "cable_count = df_cable['probeid'].count()\n",
    "fibre_count = df_fibre['probeid'].count()\n",
    "\n",
    "print('dsl: %d'%(dsl_count))\n",
    "print('cable: %d'%(cable_count))\n",
    "print('fibre: %d'%(fibre_count))\n",
    "\n",
    "print('total: %d'%(dsl_count + cable_count + fibre_count))"
   ]
  },
  {
   "cell_type": "code",
   "execution_count": 34,
   "metadata": {
    "collapsed": false
   },
   "outputs": [],
   "source": [
    "df_dsl_groupby = df_dsl.groupby(['nodename', 'product'])\n",
    "df_cable_groupby = df_cable.groupby(['nodename', 'product'])\n",
    "df_fibre_groupby = df_fibre.groupby(['nodename','product'])"
   ]
  },
  {
   "cell_type": "code",
   "execution_count": 35,
   "metadata": {
    "collapsed": false
   },
   "outputs": [],
   "source": [
    "def draw_cdf_step(df, nodename, index):\n",
    "    \n",
    "    if index >= 7: linestyle = 'dashed'\n",
    "    else: linestyle = 'solid'\n",
    "        \n",
    "    n,bins,patches = \\\n",
    "    plt.hist (      df['lastmile_median'].values \n",
    "                  , normed=True\n",
    "                  , cumulative=True\n",
    "                  , histtype='step'\n",
    "                  , label=\"%s (%d)\"%(nodename, df['probeid'].count())          \n",
    "                  , linewidth=7\n",
    "                  , bins=df['probeid'].count()\n",
    "                  , linestyle=(linestyle)\n",
    "             );\n",
    "    \n",
    "    patches[0].set_xy(patches[0].get_xy()[:-1])"
   ]
  },
  {
   "cell_type": "code",
   "execution_count": 36,
   "metadata": {
    "collapsed": false
   },
   "outputs": [],
   "source": [
    "import Cdf\n",
    "\n",
    "markers = ['d', 'x', '+', 'o', 'p', 'v', '8', '*', 'D', '<', 's']\n",
    "\n",
    "def draw_cdf(df, nodename, index, ax):\n",
    "    \n",
    "    sample = df['lastmile_median'].values\n",
    "    sample = [x for x in sample if x > 0]\n",
    "    c = Cdf.MakeCdfFromList(sample)\n",
    "    \n",
    "    ax.plot (  c.xs\n",
    "              , c.ps\n",
    "              , marker=markers[index%11]\n",
    "              , linewidth=0.3\n",
    "              , markersize=5\n",
    "              , fillstyle='none'\n",
    "              , label=\"%s (%d)\"%(nodename, df['probeid'].count())\n",
    "             )"
   ]
  },
  {
   "cell_type": "code",
   "execution_count": 37,
   "metadata": {
    "collapsed": true
   },
   "outputs": [],
   "source": [
    "def start_plot():    \n",
    "    # ------ plt.style.use('ggplot')\n",
    "    #color_list = plt.cm.Set1(np.linspace(0, 1, num_colors))\n",
    "    fig = plt.figure(figsize=(6,3))\n",
    "    plt.rcParams['font.size'] = 22\n",
    "    ax = fig.add_subplot(111)\n",
    "    #ax.set_color_cycle(color_list)  \n",
    "    return ax"
   ]
  },
  {
   "cell_type": "code",
   "execution_count": 38,
   "metadata": {
    "collapsed": true
   },
   "outputs": [],
   "source": [
    "def stop_plot(ax, chosen, count, extraname=''):\n",
    "    \n",
    "    d = {        \n",
    "          '8 Mbps'  : 'ADSL1 [8 Mbps]'\n",
    "        , '20 Mbps' : 'ADSL2+ [20 Mbps]'        \n",
    "        , '40 Mbps' : 'VDSL [40 Mbps]'        \n",
    "        , '80 Mbps' : 'VDSL [80 Mbps]'                \n",
    "    }\n",
    "    \n",
    "    try: title = d[chosen]\n",
    "    except Exception as e: title = chosen\n",
    "    \n",
    "    xticks = [1, 2, 4, 8, 16, 32, 64]\n",
    "    yticks = np.arange(0,1.1,0.2)\n",
    "    #ax.yaxis.set_label_coords(-0.15, 0.45)\n",
    "    ax.grid(False)\n",
    "    ax.set_yticks(yticks)\n",
    "    ax.set_ylim([0,1.05])\n",
    "    ax.set_xlim([1, 64])    \n",
    "    ax.set_xscale('log', basex=2)\n",
    "    ax.set_xlabel('Last-mile latency (ms)', fontsize=15)\n",
    "    ax.set_ylabel('CDF (%d)'%count, fontsize=15)\n",
    "    \n",
    "    ax.spines['right'].set_color('none')\n",
    "    ax.spines['top'].set_color('none')\n",
    "    ax.yaxis.set_ticks_position('left')\n",
    "    ax.xaxis.set_ticks_position('bottom')\n",
    "    ax.spines['bottom'].set_position(('axes', -0.05))\n",
    "    ax.spines['left'].set_position(('axes', -0.05))\n",
    "    \n",
    "    ax.set_xticks(xticks, xticks)\n",
    "    \n",
    "    if chosen == 'FIBRE': ax.legend(fontsize=15, loc='lower right', ncol=1)\n",
    "    elif chosen == '8 Mbps': ax.legend(fontsize=15, loc='best', bbox_to_anchor=(0.8, -0.5), ncol=1)        \n",
    "    elif chosen == 'VIRGINMEDIA (AS5089)': ax.legend(fontsize=15, loc='best', ncol=1)                        \n",
    "    else: ax.legend(fontsize=15, loc='best', bbox_to_anchor=(1.07, -0.5), ncol=2)        \n",
    "    ax.set_title('%s (SamKnows)'%(title), fontsize=15, y=1.05)\n",
    "    plt.savefig('samknows-%s-%s-lastmile-latency.pdf'%(chosen.split()[0], extraname), format='pdf', bbox_inches='tight')"
   ]
  },
  {
   "cell_type": "code",
   "execution_count": 39,
   "metadata": {
    "collapsed": true
   },
   "outputs": [],
   "source": [
    "def sort_by_bp(x):\n",
    "    name = x[0][0]\n",
    "    bb = x[0][1]\n",
    "    try: bbp = int(bb)\n",
    "    except Exception as e: print('.', end=''); return 0\n",
    "    return bbp"
   ]
  },
  {
   "cell_type": "code",
   "execution_count": 40,
   "metadata": {
    "collapsed": true
   },
   "outputs": [],
   "source": [
    "d = {\n",
    "      80 : 'VDSL'\n",
    "    , 40 : 'VDSL'\n",
    "    , 20 : 'ADSL2+'\n",
    "    , 8 :  'ADSL1'\n",
    "}"
   ]
  },
  {
   "cell_type": "code",
   "execution_count": 41,
   "metadata": {
    "collapsed": true
   },
   "outputs": [],
   "source": [
    "def draw_specific_isp(isp, ax):\n",
    "    isp_count=0\n",
    "    for index, (k, v) in enumerate(sorted(df_dsl_groupby.groups.items(), key=sort_by_bp , reverse=True)):\n",
    "        if k[0] != isp: continue\n",
    "        groups = df_dsl_groupby.get_group(k)\n",
    "        probes = groups['probeid'].count()\n",
    "        if probes < 10: continue               # if num(probes) < 10; don't plot :P    \n",
    "        isp_count += probes\n",
    "        bb = '%s Mbps'%(k[1])\n",
    "        try: draw_cdf(groups, bb, index, ax)\n",
    "        except Exception as e: print(e, k, groups['probeid'].count())\n",
    "    return isp_count"
   ]
  },
  {
   "cell_type": "code",
   "execution_count": 104,
   "metadata": {
    "collapsed": false
   },
   "outputs": [
    {
     "name": "stdout",
     "output_type": "stream",
     "text": [
      ".............................."
     ]
    },
    {
     "data": {
      "image/png": "[encoded data removed]",
      "text/plain": [
       "<matplotlib.figure.Figure at 0x7f03a042ae10>"
      ]
     },
     "metadata": {},
     "output_type": "display_data"
    }
   ],
   "source": [
    "fig = plt.figure(figsize=(5,8))\n",
    "plt.rcParams['font.size'] = 12\n",
    "yticks = np.arange(0,1.1,0.2)\n",
    "\n",
    "ax1 = fig.add_subplot(311)\n",
    "ax2 = fig.add_subplot(312, sharex = ax1)\n",
    "ax3 = fig.add_subplot(313, sharex = ax1)\n",
    "\n",
    "isp = 'BT'\n",
    "count = draw_specific_isp(isp, ax1)\n",
    "stop_plot(ax=ax1, count=count, chosen=isp, extraname = 'marker')\n",
    "ax1.set_ylabel('CDF (%d)'%count, fontsize=12)\n",
    "ax1.legend(fontsize=12, loc='best', bbox_to_anchor=(1, -0.30), ncol=2)                                \n",
    "ax1.set_title('%s (SamKnows)'%(isp), fontsize=12, y=1.05)\n",
    "\n",
    "\n",
    "isp = 'PLUSNET'\n",
    "count = draw_specific_isp(isp, ax2)\n",
    "stop_plot(ax=ax2, count=count, chosen=isp, extraname = 'marker')\n",
    "ax2.set_ylabel('CDF (%d)'%count, fontsize=12)\n",
    "ax2.legend(fontsize=12, loc='best', bbox_to_anchor=(1, -0.30), ncol=2) \n",
    "ax2.set_title('%s (SamKnows)'%(isp), fontsize=12, y=1.05)\n",
    "\n",
    "isp = 'ORANGE'\n",
    "count = draw_specific_isp(isp, ax3)\n",
    "stop_plot(ax=ax3, count=count, chosen=isp, extraname = 'marker')                            \n",
    "ax3.set_ylabel('CDF (%d)'%count, fontsize=12)\n",
    "ax3.legend(fontsize=12, loc='best', bbox_to_anchor=(1, -0.50), ncol=2) \n",
    "ax3.set_title('%s (SamKnows)'%(isp), fontsize=12, y=1.05)\n",
    "\n",
    "xticklabels = ax1.get_xticklabels() + ax2.get_xticklabels()\n",
    "plt.setp(xticklabels, visible=True)\n",
    "\n",
    "fig.subplots_adjust(hspace = 1.3)\n",
    "\n",
    "ax1.set_xlabel('', fontsize=12)\n",
    "ax2.set_xlabel('', fontsize=12)\n",
    "ax3.set_xlabel('Last-mile Latency (ms)', fontsize=12)\n",
    "\n",
    "xticks = [1, 2, 4, 8, 16, 32, 64]\n",
    "plt.xticks(xticks, xticks)    \n",
    "\n",
    "plt.savefig('samknows-product-lastmile-latency.pdf', format='pdf', bbox_inches='tight')"
   ]
  },
  {
   "cell_type": "code",
   "execution_count": 57,
   "metadata": {
    "collapsed": true
   },
   "outputs": [],
   "source": [
    "df_dsl   = df_dsl[df_dsl['lastmile_median'] > 0]\n",
    "df_cable = df_cable[df_cable['lastmile_median'] > 0]"
   ]
  },
  {
   "cell_type": "code",
   "execution_count": 58,
   "metadata": {
    "collapsed": false
   },
   "outputs": [
    {
     "data": {
      "text/html": [
       "<div>\n",
       "<table border=\"1\" class=\"dataframe\">\n",
       "  <thead>\n",
       "    <tr style=\"text-align: right;\">\n",
       "      <th></th>\n",
       "      <th>probeid</th>\n",
       "      <th>product</th>\n",
       "      <th>lastmile_median</th>\n",
       "      <th>chosen</th>\n",
       "      <th>nodename</th>\n",
       "    </tr>\n",
       "  </thead>\n",
       "  <tbody>\n",
       "    <tr>\n",
       "      <th>14242</th>\n",
       "      <td>35224</td>\n",
       "      <td>20</td>\n",
       "      <td>0.1115</td>\n",
       "      <td>DSL</td>\n",
       "      <td>A&amp;A</td>\n",
       "    </tr>\n",
       "    <tr>\n",
       "      <th>194976</th>\n",
       "      <td>145012</td>\n",
       "      <td>80</td>\n",
       "      <td>0.1310</td>\n",
       "      <td>DSL</td>\n",
       "      <td>ECLIPSE</td>\n",
       "    </tr>\n",
       "    <tr>\n",
       "      <th>396176</th>\n",
       "      <td>243748</td>\n",
       "      <td>80</td>\n",
       "      <td>0.2595</td>\n",
       "      <td>DSL</td>\n",
       "      <td>BT</td>\n",
       "    </tr>\n",
       "    <tr>\n",
       "      <th>45233</th>\n",
       "      <td>140864</td>\n",
       "      <td>20</td>\n",
       "      <td>0.8830</td>\n",
       "      <td>DSL</td>\n",
       "      <td>PLUSNET</td>\n",
       "    </tr>\n",
       "    <tr>\n",
       "      <th>90417</th>\n",
       "      <td>142052</td>\n",
       "      <td>80</td>\n",
       "      <td>0.9680</td>\n",
       "      <td>DSL</td>\n",
       "      <td>BT</td>\n",
       "    </tr>\n",
       "  </tbody>\n",
       "</table>\n",
       "</div>"
      ],
      "text/plain": [
       "        probeid product  lastmile_median chosen nodename\n",
       "14242     35224      20           0.1115    DSL      A&A\n",
       "194976   145012      80           0.1310    DSL  ECLIPSE\n",
       "396176   243748      80           0.2595    DSL       BT\n",
       "45233    140864      20           0.8830    DSL  PLUSNET\n",
       "90417    142052      80           0.9680    DSL       BT"
      ]
     },
     "execution_count": 58,
     "metadata": {},
     "output_type": "execute_result"
    }
   ],
   "source": [
    "df_dsl.head()"
   ]
  },
  {
   "cell_type": "code",
   "execution_count": 59,
   "metadata": {
    "collapsed": false
   },
   "outputs": [],
   "source": [
    "def strip_out_nodes_with_less_than_ten_probes(df):\n",
    "\n",
    "    df_gby = df[['probeid', 'nodename']].groupby('nodename')\n",
    "    df_agg = df_gby.agg([len])\n",
    "    df = pd.merge(df, df_agg, left_on = 'nodename', right_index = True)\n",
    "    df.columns = ['probeid', 'product', 'lastmile_median', 'chosen', 'nodename', 'num_probes']\n",
    "    df = df[df['num_probes'] >= 10]\n",
    "    return df\n",
    "\n",
    "df_dsl   = strip_out_nodes_with_less_than_ten_probes(df_dsl)\n",
    "df_cable = strip_out_nodes_with_less_than_ten_probes(df_cable)"
   ]
  },
  {
   "cell_type": "code",
   "execution_count": 60,
   "metadata": {
    "collapsed": false
   },
   "outputs": [
    {
     "name": "stdout",
     "output_type": "stream",
     "text": [
      "dsl: 859\n",
      "cable: 194\n",
      "fibre: 0\n",
      "total: 1053\n"
     ]
    }
   ],
   "source": [
    "dsl_count   = df_dsl['probeid'].count()\n",
    "cable_count = df_cable['probeid'].count()\n",
    "fibre_count = df_fibre['probeid'].count()\n",
    "\n",
    "print('dsl: %d'%(dsl_count))\n",
    "print('cable: %d'%(cable_count))\n",
    "print('fibre: %d'%(fibre_count))\n",
    "\n",
    "print('total: %d'%(dsl_count + cable_count + fibre_count))"
   ]
  },
  {
   "cell_type": "code",
   "execution_count": 61,
   "metadata": {
    "collapsed": false
   },
   "outputs": [],
   "source": [
    "df_dsl_asn_gby      = df_dsl.groupby('nodename')\n",
    "dsl_probes_by_asn   = ['%d'%len(set(v['probeid'].values)) for k, v in df_dsl_asn_gby] "
   ]
  },
  {
   "cell_type": "code",
   "execution_count": 62,
   "metadata": {
    "collapsed": true
   },
   "outputs": [],
   "source": [
    "def stop_plot_box(ax, chosen, count, probes_by_asn = [], fs = 22):\n",
    "    \n",
    "    ax2 = ax.twinx()\n",
    "    ax.set_title(\"\"); plt.suptitle(\"\")\n",
    "    ax2.set_ylim(ax.get_ylim())\n",
    "    ax2.set_yticks(ax.get_yticks())\n",
    "    ax2.set_yticklabels( probes_by_asn, fontsize = fs)\n",
    "    ax2.yaxis.set_label_position(\"right\")    \n",
    "    if chosen != 'CABLE': ax2.set_ylabel('[%d probes]'%count, fontsize=fs)\n",
    "    if chosen == 'CABLE': ax2.set_ylabel('[%d]'%count, fontsize=fs)        \n",
    "        \n",
    "    xticks = [1, 2, 4, 8, 16, 32, 64]\n",
    "    ax.grid(False)\n",
    "    ax.set_xlim([1, 64])\n",
    "    ax.set_xscale('log', basex=2)\n",
    "    ax.yaxis.set_label_position(\"left\")    \n",
    "    ax.set_xlabel('Last-mile latency (ms)', fontsize=fs)\n",
    "    plt.xticks(xticks, xticks)    \n",
    "    plt.suptitle('')\n",
    "    plt.title('%s (SamKnows)'%(chosen), fontsize=fs, y=1.05)\n",
    "    plt.savefig('samknows-%s-lastmile-latency-boxplot.pdf'%chosen, format='pdf', bbox_inches='tight')"
   ]
  },
  {
   "cell_type": "code",
   "execution_count": 63,
   "metadata": {
    "collapsed": true
   },
   "outputs": [],
   "source": [
    "def stop_plot_box_dsl(ax, chosen, count, probes_by_asn = [], shrink_right = True, fs = 22):\n",
    "    \n",
    "    d = {        \n",
    "          '8 Mbps'  : 'ADSL1 [8 Mbps]'\n",
    "        , '20 Mbps' : 'ADSL2+ [20 Mbps]'        \n",
    "        , '40 Mbps' : 'VDSL [40 Mbps]'        \n",
    "        , '80 Mbps' : 'VDSL [80 Mbps]'                \n",
    "    }\n",
    "    \n",
    "    try: title = d[chosen]\n",
    "    except Exception as e: title = chosen\n",
    "    \n",
    "    ax2 = ax.twinx()\n",
    "    ax.set_title(\"\"); plt.suptitle(\"\")\n",
    "    ax2.set_ylim(ax.get_ylim())\n",
    "    ax2.set_yticks(ax.get_yticks())\n",
    "    ax2.set_yticklabels( probes_by_asn, fontsize = fs)\n",
    "    ax2.yaxis.set_label_position(\"right\")    \n",
    "    if shrink_right: ax2.set_ylabel('[%d]'%count, fontsize=fs)        \n",
    "    else: ax2.set_ylabel('[%d probes]'%count, fontsize=fs)\n",
    "    \n",
    "    xticks = [1, 2, 4, 8, 16, 32, 64]\n",
    "    ax.grid(False)\n",
    "    ax.set_xlim([1, 64])\n",
    "    ax.set_xscale('log', basex=2)\n",
    "    ax.set_xlabel('Last-mile latency (ms)', fontsize=fs)\n",
    "    plt.xticks(xticks, xticks)    \n",
    "    plt.suptitle('')\n",
    "    plt.title('%s (SamKnows)'%(title), fontsize=fs, y=1.05)\n",
    "    plt.savefig('samknows-DSL-%s-lastmile-latency-boxplot.pdf'%chosen.split()[0], format='pdf', bbox_inches='tight')"
   ]
  },
  {
   "cell_type": "code",
   "execution_count": 64,
   "metadata": {
    "collapsed": true
   },
   "outputs": [],
   "source": [
    "def start_plot_box(height=6):    \n",
    "    # ------ plt.style.use('ggplot')\n",
    "    fig = plt.figure(figsize=(6,height))\n",
    "    plt.rcParams['font.size'] = 22\n",
    "    ax = fig.add_subplot(111)\n",
    "    return ax"
   ]
  },
  {
   "cell_type": "code",
   "execution_count": 68,
   "metadata": {
    "collapsed": false
   },
   "outputs": [
    {
     "data": {
      "image/png": "[encoded data removed]",
      "text/plain": [
       "<matplotlib.figure.Figure at 0x7f039f4abeb8>"
      ]
     },
     "metadata": {},
     "output_type": "display_data"
    }
   ],
   "source": [
    "import matplotlib.gridspec as gridspec\n",
    "\n",
    "fs = 12\n",
    "\n",
    "fig = plt.figure(figsize=(5,4))\n",
    "plt.rcParams['font.size'] = fs\n",
    "\n",
    "gs = gridspec.GridSpec(2,1, width_ratios=[1], height_ratios=[5, 1])\n",
    "\n",
    "ax1 = plt.subplot(gs[0])\n",
    "ax2 = plt.subplot(gs[1])\n",
    "\n",
    "ax1.set_xlabel('', fontsize=fs)\n",
    "ax2.set_xlabel('', fontsize=fs)\n",
    "\n",
    "a = df_dsl.boxplot (  column='lastmile_median'\n",
    "                    , by=['nodename']\n",
    "                    , ax=ax1\n",
    "                    , vert=False\n",
    "                 )\n",
    "\n",
    "stop_plot_box(a, chosen='DSL', count=dsl_count, probes_by_asn = dsl_probes_by_asn, fs = fs)\n",
    "\n",
    "a = df_cable.boxplot (    column='lastmile_median'\n",
    "                        , by=['nodename']\n",
    "                        , ax=ax2\n",
    "                        , vert=False\n",
    "                     )\n",
    "\n",
    "stop_plot_box(a, chosen='CABLE', count=cable_count, fs = fs)\n",
    "\n",
    "ax1.set_xlabel('', fontsize=fs)\n",
    "\n",
    "xticklabels = ax1.get_xticklabels()\n",
    "plt.setp(xticklabels, visible=True)\n",
    "\n",
    "fig.subplots_adjust(hspace = 0.6)\n",
    "\n",
    "plt.savefig('samknows-lastmile-latency-boxplot.pdf', format='pdf', bbox_inches='tight')"
   ]
  },
  {
   "cell_type": "code",
   "execution_count": 69,
   "metadata": {
    "collapsed": false
   },
   "outputs": [],
   "source": [
    "df_dsl_08 = df_dsl[df_dsl['product'] == 8]\n",
    "df_dsl_20 = df_dsl[df_dsl['product'] == 20]\n",
    "df_dsl_40 = df_dsl[df_dsl['product'] == 40]\n",
    "df_dsl_80 = df_dsl[df_dsl['product'] == 80]"
   ]
  },
  {
   "cell_type": "code",
   "execution_count": 70,
   "metadata": {
    "collapsed": false
   },
   "outputs": [
    {
     "data": {
      "text/html": [
       "<div>\n",
       "<table border=\"1\" class=\"dataframe\">\n",
       "  <thead>\n",
       "    <tr style=\"text-align: right;\">\n",
       "      <th></th>\n",
       "      <th>probeid</th>\n",
       "      <th>product</th>\n",
       "      <th>lastmile_median</th>\n",
       "      <th>chosen</th>\n",
       "      <th>nodename</th>\n",
       "      <th>num_probes</th>\n",
       "    </tr>\n",
       "  </thead>\n",
       "  <tbody>\n",
       "    <tr>\n",
       "      <th>306586</th>\n",
       "      <td>147760</td>\n",
       "      <td>8</td>\n",
       "      <td>5.4885</td>\n",
       "      <td>DSL</td>\n",
       "      <td>BT</td>\n",
       "      <td>305</td>\n",
       "    </tr>\n",
       "    <tr>\n",
       "      <th>18632</th>\n",
       "      <td>37300</td>\n",
       "      <td>8</td>\n",
       "      <td>6.5010</td>\n",
       "      <td>DSL</td>\n",
       "      <td>BT</td>\n",
       "      <td>305</td>\n",
       "    </tr>\n",
       "    <tr>\n",
       "      <th>261212</th>\n",
       "      <td>146982</td>\n",
       "      <td>8</td>\n",
       "      <td>8.4705</td>\n",
       "      <td>DSL</td>\n",
       "      <td>BT</td>\n",
       "      <td>305</td>\n",
       "    </tr>\n",
       "    <tr>\n",
       "      <th>118453</th>\n",
       "      <td>143204</td>\n",
       "      <td>8</td>\n",
       "      <td>8.4895</td>\n",
       "      <td>DSL</td>\n",
       "      <td>BT</td>\n",
       "      <td>305</td>\n",
       "    </tr>\n",
       "    <tr>\n",
       "      <th>75417</th>\n",
       "      <td>141588</td>\n",
       "      <td>8</td>\n",
       "      <td>8.7430</td>\n",
       "      <td>DSL</td>\n",
       "      <td>BT</td>\n",
       "      <td>305</td>\n",
       "    </tr>\n",
       "  </tbody>\n",
       "</table>\n",
       "</div>"
      ],
      "text/plain": [
       "        probeid product  lastmile_median chosen nodename  num_probes\n",
       "306586   147760       8           5.4885    DSL       BT         305\n",
       "18632     37300       8           6.5010    DSL       BT         305\n",
       "261212   146982       8           8.4705    DSL       BT         305\n",
       "118453   143204       8           8.4895    DSL       BT         305\n",
       "75417    141588       8           8.7430    DSL       BT         305"
      ]
     },
     "execution_count": 70,
     "metadata": {},
     "output_type": "execute_result"
    }
   ],
   "source": [
    "df_dsl_08.head()"
   ]
  },
  {
   "cell_type": "code",
   "execution_count": 71,
   "metadata": {
    "collapsed": false
   },
   "outputs": [],
   "source": [
    "def strip_out_nodes_with_less_than_ten_probes(df):\n",
    "\n",
    "    del df['num_probes']\n",
    "    df_gby = df[['probeid', 'nodename']].groupby('nodename')\n",
    "    df_agg = df_gby.agg([len])\n",
    "    df = pd.merge(df, df_agg, left_on = 'nodename', right_index = True)\n",
    "    df.columns = ['probeid', 'product', 'lastmile_median', 'chosen', 'nodename', 'num_probes']\n",
    "    df = df[df['num_probes'] >= 10]\n",
    "    return df\n",
    "\n",
    "df_dsl_08  = strip_out_nodes_with_less_than_ten_probes(df_dsl_08)\n",
    "df_dsl_20  = strip_out_nodes_with_less_than_ten_probes(df_dsl_20)\n",
    "df_dsl_40  = strip_out_nodes_with_less_than_ten_probes(df_dsl_40)\n",
    "df_dsl_80  = strip_out_nodes_with_less_than_ten_probes(df_dsl_80)"
   ]
  },
  {
   "cell_type": "code",
   "execution_count": 72,
   "metadata": {
    "collapsed": true
   },
   "outputs": [],
   "source": [
    "df_dsl_08_gby      = df_dsl_08.groupby('nodename')\n",
    "df_dsl_20_gby      = df_dsl_20.groupby('nodename')\n",
    "df_dsl_40_gby      = df_dsl_40.groupby('nodename')\n",
    "df_dsl_80_gby      = df_dsl_80.groupby('nodename')\n",
    "\n",
    "dsl_08_probes_by_asn  = ['%d'%len(set(v['probeid'].values)) for k, v in df_dsl_08_gby] \n",
    "dsl_20_probes_by_asn  = ['%d'%len(set(v['probeid'].values)) for k, v in df_dsl_20_gby] \n",
    "dsl_40_probes_by_asn  = ['%d'%len(set(v['probeid'].values)) for k, v in df_dsl_40_gby] \n",
    "dsl_80_probes_by_asn  = ['%d'%len(set(v['probeid'].values)) for k, v in df_dsl_80_gby] "
   ]
  },
  {
   "cell_type": "code",
   "execution_count": 95,
   "metadata": {
    "collapsed": false
   },
   "outputs": [
    {
     "data": {
      "image/png": "[encoded data removed]",
      "text/plain": [
       "<matplotlib.figure.Figure at 0x7f03a02f9160>"
      ]
     },
     "metadata": {},
     "output_type": "display_data"
    }
   ],
   "source": [
    "import matplotlib.gridspec as gridspec\n",
    "\n",
    "fs = 12\n",
    "\n",
    "fig = plt.figure(figsize=(5,9))\n",
    "plt.rcParams['font.size'] = 12\n",
    "\n",
    "gs = gridspec.GridSpec(4,1, width_ratios=[1], height_ratios=[2, 5, 4, 2.5])\n",
    "\n",
    "ax1 = plt.subplot(gs[0])\n",
    "ax2 = plt.subplot(gs[1])\n",
    "ax3 = plt.subplot(gs[2])\n",
    "ax4 = plt.subplot(gs[3])\n",
    "\n",
    "a = df_dsl_08.boxplot (  column='lastmile_median'\n",
    "                        , by=['nodename']\n",
    "                        , ax=ax1\n",
    "                        , vert=False\n",
    "                      )\n",
    "\n",
    "stop_plot_box_dsl(a, chosen='8 Mbps', count=df_dsl_08['probeid'].count()\n",
    "                  , probes_by_asn = dsl_08_probes_by_asn, fs = fs)\n",
    "\n",
    "a = df_dsl_20.boxplot (  column='lastmile_median'\n",
    "                        , by=['nodename']\n",
    "                        , ax=ax2\n",
    "                        , vert=False\n",
    "                      )\n",
    "\n",
    "stop_plot_box_dsl(a, chosen='20 Mbps', count=df_dsl_20['probeid'].count()\n",
    "                  , probes_by_asn = dsl_20_probes_by_asn, shrink_right = False, fs = fs)                  \n",
    "\n",
    "a = df_dsl_40.boxplot (  column='lastmile_median'\n",
    "                        , by=['nodename']\n",
    "                        , ax=ax3\n",
    "                        , vert=False\n",
    "                      )\n",
    "\n",
    "stop_plot_box_dsl(a, chosen='40 Mbps', count=df_dsl_40['probeid'].count()\n",
    "                  , probes_by_asn = dsl_40_probes_by_asn, fs = fs)                \n",
    "\n",
    "a = df_dsl_80.boxplot (  column='lastmile_median'\n",
    "                        , by=['nodename']\n",
    "                        , ax=ax4\n",
    "                        , vert=False\n",
    "                      )\n",
    "\n",
    "stop_plot_box_dsl(a, chosen='80 Mbps', count=df_dsl_80['probeid'].count()\n",
    "                  , probes_by_asn = dsl_80_probes_by_asn, fs = fs)                                  \n",
    "\n",
    "xticklabels = ax1.get_xticklabels() + ax2.get_xticklabels() + ax3.get_xticklabels()\n",
    "plt.setp(xticklabels, visible=True)\n",
    "\n",
    "fig.subplots_adjust(hspace = 0.7)\n",
    "\n",
    "ax1.set_xlabel('', fontsize=12)\n",
    "ax2.set_xlabel('', fontsize=12)\n",
    "ax3.set_xlabel('', fontsize=12)\n",
    "\n",
    "plt.savefig('samknows-dsl-product-lastmile-latency-boxplot.pdf', format='pdf', bbox_inches='tight')"
   ]
  }
 ],
 "metadata": {
  "kernelspec": {
   "display_name": "Python 3",
   "language": "python",
   "name": "python3"
  },
  "language_info": {
   "codemirror_mode": {
    "name": "ipython",
    "version": 3
   },
   "file_extension": ".py",
   "mimetype": "text/x-python",
   "name": "python",
   "nbconvert_exporter": "python",
   "pygments_lexer": "ipython3",
   "version": "3.4.2"
  }
 },
 "nbformat": 4,
 "nbformat_minor": 0
}
