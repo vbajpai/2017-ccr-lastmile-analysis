{
 "cells": [
  {
   "cell_type": "markdown",
   "metadata": {},
   "source": [
    "*This notebook gets the raw atlas traceroute measurement data from `ra_traceroute_parameters` table; prunes the data to fetch (probeid, timestamp, h1_latencies, h2_latencies) then inserts entire dataframe in `ra_latencies` table.*\n",
    "- - - "
   ]
  },
  {
   "cell_type": "code",
   "execution_count": 126,
   "metadata": {
    "collapsed": false
   },
   "outputs": [],
   "source": [
    "import sqlite3\n",
    "import pandas as pd\n",
    "import requests\n",
    "import ipaddress\n",
    "import time"
   ]
  },
  {
   "cell_type": "code",
   "execution_count": 127,
   "metadata": {
    "collapsed": true
   },
   "outputs": [],
   "source": [
    "DB_LOCATION = 'lastmile.db'\n",
    "RA_TRACEROUTE_PARAMETERS = 'ra_traceroute_parameters'\n",
    "RA_LATENCIES = 'ra_latencies'"
   ]
  },
  {
   "cell_type": "code",
   "execution_count": 128,
   "metadata": {
    "collapsed": false
   },
   "outputs": [],
   "source": [
    "con = sqlite3.connect(DB_LOCATION)"
   ]
  },
  {
   "cell_type": "code",
   "execution_count": 129,
   "metadata": {
    "collapsed": false
   },
   "outputs": [],
   "source": [
    "query = '''SELECT    probeid\n",
    "                   , starttime as timestamp\n",
    "                   , GROUP_CONCAT(result_hop_no, ';') as hop_no\n",
    "                   , GROUP_CONCAT(result_hop_blob, ';') as result_hop_blob\n",
    "                   , '' as h1_latencies\n",
    "                   , '' as h2_latencies\n",
    "           FROM      %s\n",
    "           WHERE     result_hop_no IN (1, 2)\n",
    "           GROUP BY  probeid, starttime\n",
    "        '''%(RA_TRACEROUTE_PARAMETERS)\n",
    "\n",
    "df = pd.read_sql(query, con)"
   ]
  },
  {
   "cell_type": "code",
   "execution_count": 130,
   "metadata": {
    "collapsed": false
   },
   "outputs": [],
   "source": [
    "def return_all_rtt_field_values(json_string):\n",
    "    import json\n",
    "    try: json_data = json.loads(json_string)\n",
    "    except Exception as e: print(e, type(e), json_string)\n",
    "    try: \n",
    "        rtt_field_values = ', '.join([str(item['rtt']) for item in json_data])        \n",
    "    except Exception as e: print('*', end=\"\"); return None\n",
    "    else: return rtt_field_values"
   ]
  },
  {
   "cell_type": "code",
   "execution_count": 131,
   "metadata": {
    "collapsed": false
   },
   "outputs": [],
   "source": [
    "def return_concat_from_field_values(concat_result_blob):\n",
    "    try: a, b = concat_result_blob.split(';')\n",
    "    except Exception as e: return '%s; %s'%(None,None)\n",
    "    a = a.replace(\"'\", '\"')\n",
    "    b = b.replace(\"'\", '\"')  \n",
    "    a = return_all_rtt_field_values(a)\n",
    "    b = return_all_rtt_field_values(b)\n",
    "    concat_rtt_field_values = '%s; %s'%(a,b)\n",
    "    return concat_rtt_field_values"
   ]
  },
  {
   "cell_type": "code",
   "execution_count": 132,
   "metadata": {
    "collapsed": false
   },
   "outputs": [
    {
     "data": {
      "text/html": [
       "<div style=\"max-height:1000px;max-width:1500px;overflow:auto;\">\n",
       "<table border=\"1\" class=\"dataframe\">\n",
       "  <thead>\n",
       "    <tr style=\"text-align: right;\">\n",
       "      <th></th>\n",
       "      <th>probeid</th>\n",
       "      <th>timestamp</th>\n",
       "      <th>hop_no</th>\n",
       "      <th>result_hop_blob</th>\n",
       "      <th>h1_latencies</th>\n",
       "      <th>h2_latencies</th>\n",
       "    </tr>\n",
       "  </thead>\n",
       "  <tbody>\n",
       "    <tr>\n",
       "      <th>0</th>\n",
       "      <td> 10006</td>\n",
       "      <td> 1406548034</td>\n",
       "      <td> 1;2</td>\n",
       "      <td> [{'size': 76, 'rtt': 0.559, 'ttl': 64, 'from':...</td>\n",
       "      <td> </td>\n",
       "      <td> </td>\n",
       "    </tr>\n",
       "    <tr>\n",
       "      <th>1</th>\n",
       "      <td> 10006</td>\n",
       "      <td> 1406562432</td>\n",
       "      <td> 1;2</td>\n",
       "      <td> [{'size': 76, 'rtt': 0.579, 'ttl': 64, 'from':...</td>\n",
       "      <td> </td>\n",
       "      <td> </td>\n",
       "    </tr>\n",
       "    <tr>\n",
       "      <th>2</th>\n",
       "      <td> 10006</td>\n",
       "      <td> 1406576835</td>\n",
       "      <td> 1;2</td>\n",
       "      <td> [{'size': 76, 'rtt': 0.58, 'ttl': 64, 'from': ...</td>\n",
       "      <td> </td>\n",
       "      <td> </td>\n",
       "    </tr>\n",
       "    <tr>\n",
       "      <th>3</th>\n",
       "      <td> 10006</td>\n",
       "      <td> 1406591230</td>\n",
       "      <td> 1;2</td>\n",
       "      <td> [{'size': 76, 'rtt': 0.769, 'ttl': 64, 'from':...</td>\n",
       "      <td> </td>\n",
       "      <td> </td>\n",
       "    </tr>\n",
       "    <tr>\n",
       "      <th>4</th>\n",
       "      <td> 10006</td>\n",
       "      <td> 1406605631</td>\n",
       "      <td> 1;2</td>\n",
       "      <td> [{'size': 76, 'rtt': 0.534, 'ttl': 64, 'from':...</td>\n",
       "      <td> </td>\n",
       "      <td> </td>\n",
       "    </tr>\n",
       "  </tbody>\n",
       "</table>\n",
       "</div>"
      ],
      "text/plain": [
       "   probeid   timestamp hop_no  \\\n",
       "0    10006  1406548034    1;2   \n",
       "1    10006  1406562432    1;2   \n",
       "2    10006  1406576835    1;2   \n",
       "3    10006  1406591230    1;2   \n",
       "4    10006  1406605631    1;2   \n",
       "\n",
       "                                     result_hop_blob h1_latencies h2_latencies  \n",
       "0  [{'size': 76, 'rtt': 0.559, 'ttl': 64, 'from':...                            \n",
       "1  [{'size': 76, 'rtt': 0.579, 'ttl': 64, 'from':...                            \n",
       "2  [{'size': 76, 'rtt': 0.58, 'ttl': 64, 'from': ...                            \n",
       "3  [{'size': 76, 'rtt': 0.769, 'ttl': 64, 'from':...                            \n",
       "4  [{'size': 76, 'rtt': 0.534, 'ttl': 64, 'from':...                            "
      ]
     },
     "execution_count": 132,
     "metadata": {},
     "output_type": "execute_result"
    }
   ],
   "source": [
    "df.head()"
   ]
  },
  {
   "cell_type": "code",
   "execution_count": 133,
   "metadata": {
    "collapsed": false
   },
   "outputs": [
    {
     "name": "stdout",
     "output_type": "stream",
     "text": [
      "********************************************************************************************************************************************************************************************************************************************************************************************************************************************************************************************************************************************************************************************************************************************************************************************************************************************************************************************************************************************************************************************************************************************************************************************************************************************************************************************************************************************************************************************************************************************************************************************************************************************************************************************************************************************************************************************************************************************************************************************************************************************************************************************************************************************************************************************************************************************************************************************************************************************************************************************************************************************************************************************************************************************************************************************************************************************************************************************************************************************************************************************************************************************************************************************************************************************************************************************************************************************************************************************************************************************************************************************************************************************************************************************************************************************************************************************************************************************************************************************************************************************************************************************************************************************************************************************************************************************************************************************************************************************************************************************************************************************************************************************************************************************************************************************************************************************************************************************************************************************************************************************************************************************************************************************************************************************************************************************************************************************************************************************************************************************************************************************************************************************************************************************************************************************************************************************************************************************************************************************************************************************************************************************************************************************************************************************************************************************************************************************************************************************************************************************************************************************************************************"
     ]
    }
   ],
   "source": [
    "def get_rtts(result_hop_blob):\n",
    "    result_hop_blob = result_hop_blob.replace('True', '\"True\"')\n",
    "    rtts = return_concat_from_field_values(result_hop_blob)\n",
    "    return rtts    \n",
    "df['rtts_h1_h2'] = df['result_hop_blob'].apply(get_rtts)"
   ]
  },
  {
   "cell_type": "code",
   "execution_count": 134,
   "metadata": {
    "collapsed": false
   },
   "outputs": [],
   "source": [
    "def get_h1_rtt(rtts): h1, h2 = rtts.split(';'); return h1\n",
    "def get_h2_rtt(rtts): h1, h2 = rtts.split(';'); return h2\n",
    "\n",
    "df['h1_latencies'] = df['rtts_h1_h2'].apply(get_h1_rtt)\n",
    "df['h2_latencies'] = df['rtts_h1_h2'].apply(get_h2_rtt)"
   ]
  },
  {
   "cell_type": "code",
   "execution_count": 135,
   "metadata": {
    "collapsed": false
   },
   "outputs": [],
   "source": [
    "del df['hop_no']\n",
    "del df['result_hop_blob']\n",
    "del df['rtts_h1_h2']"
   ]
  },
  {
   "cell_type": "code",
   "execution_count": 136,
   "metadata": {
    "collapsed": false
   },
   "outputs": [
    {
     "data": {
      "text/html": [
       "<div style=\"max-height:1000px;max-width:1500px;overflow:auto;\">\n",
       "<table border=\"1\" class=\"dataframe\">\n",
       "  <thead>\n",
       "    <tr style=\"text-align: right;\">\n",
       "      <th></th>\n",
       "      <th>probeid</th>\n",
       "      <th>timestamp</th>\n",
       "      <th>h1_latencies</th>\n",
       "      <th>h2_latencies</th>\n",
       "    </tr>\n",
       "  </thead>\n",
       "  <tbody>\n",
       "    <tr>\n",
       "      <th>0</th>\n",
       "      <td> 10006</td>\n",
       "      <td> 1406548034</td>\n",
       "      <td> 0.559, 0.429, 0.412</td>\n",
       "      <td>   20.49, 27.571, 17.716</td>\n",
       "    </tr>\n",
       "    <tr>\n",
       "      <th>1</th>\n",
       "      <td> 10006</td>\n",
       "      <td> 1406562432</td>\n",
       "      <td> 0.579, 0.431, 0.423</td>\n",
       "      <td>    17.7, 17.281, 51.434</td>\n",
       "    </tr>\n",
       "    <tr>\n",
       "      <th>2</th>\n",
       "      <td> 10006</td>\n",
       "      <td> 1406576835</td>\n",
       "      <td>   0.58, 0.438, 0.42</td>\n",
       "      <td>  34.678, 17.776, 17.473</td>\n",
       "    </tr>\n",
       "    <tr>\n",
       "      <th>3</th>\n",
       "      <td> 10006</td>\n",
       "      <td> 1406591230</td>\n",
       "      <td> 0.769, 0.453, 0.478</td>\n",
       "      <td>   17.577, 18.21, 17.533</td>\n",
       "    </tr>\n",
       "    <tr>\n",
       "      <th>4</th>\n",
       "      <td> 10006</td>\n",
       "      <td> 1406605631</td>\n",
       "      <td> 0.534, 0.422, 0.416</td>\n",
       "      <td>  17.442, 37.561, 17.526</td>\n",
       "    </tr>\n",
       "  </tbody>\n",
       "</table>\n",
       "</div>"
      ],
      "text/plain": [
       "   probeid   timestamp         h1_latencies             h2_latencies\n",
       "0    10006  1406548034  0.559, 0.429, 0.412    20.49, 27.571, 17.716\n",
       "1    10006  1406562432  0.579, 0.431, 0.423     17.7, 17.281, 51.434\n",
       "2    10006  1406576835    0.58, 0.438, 0.42   34.678, 17.776, 17.473\n",
       "3    10006  1406591230  0.769, 0.453, 0.478    17.577, 18.21, 17.533\n",
       "4    10006  1406605631  0.534, 0.422, 0.416   17.442, 37.561, 17.526"
      ]
     },
     "execution_count": 136,
     "metadata": {},
     "output_type": "execute_result"
    }
   ],
   "source": [
    "df.head()"
   ]
  },
  {
   "cell_type": "code",
   "execution_count": 137,
   "metadata": {
    "collapsed": false
   },
   "outputs": [
    {
     "data": {
      "text/plain": [
       "probeid         137017\n",
       "timestamp       137017\n",
       "h1_latencies    137017\n",
       "h2_latencies    137017\n",
       "dtype: int64"
      ]
     },
     "execution_count": 137,
     "metadata": {},
     "output_type": "execute_result"
    }
   ],
   "source": [
    "df.count()"
   ]
  },
  {
   "cell_type": "code",
   "execution_count": 138,
   "metadata": {
    "collapsed": true
   },
   "outputs": [],
   "source": [
    "cur = con.execute('pragma foreign_keys=ON')"
   ]
  },
  {
   "cell_type": "code",
   "execution_count": 139,
   "metadata": {
    "collapsed": false
   },
   "outputs": [],
   "source": [
    "index_label = ['probeid', 'timestamp']\n",
    "df = df.set_index(index_label)"
   ]
  },
  {
   "cell_type": "code",
   "execution_count": 140,
   "metadata": {
    "collapsed": false
   },
   "outputs": [
    {
     "data": {
      "text/html": [
       "<div style=\"max-height:1000px;max-width:1500px;overflow:auto;\">\n",
       "<table border=\"1\" class=\"dataframe\">\n",
       "  <thead>\n",
       "    <tr style=\"text-align: right;\">\n",
       "      <th></th>\n",
       "      <th></th>\n",
       "      <th>h1_latencies</th>\n",
       "      <th>h2_latencies</th>\n",
       "    </tr>\n",
       "    <tr>\n",
       "      <th>probeid</th>\n",
       "      <th>timestamp</th>\n",
       "      <th></th>\n",
       "      <th></th>\n",
       "    </tr>\n",
       "  </thead>\n",
       "  <tbody>\n",
       "    <tr>\n",
       "      <th rowspan=\"5\" valign=\"top\">10006</th>\n",
       "      <th>1406548034</th>\n",
       "      <td> 0.559, 0.429, 0.412</td>\n",
       "      <td>   20.49, 27.571, 17.716</td>\n",
       "    </tr>\n",
       "    <tr>\n",
       "      <th>1406562432</th>\n",
       "      <td> 0.579, 0.431, 0.423</td>\n",
       "      <td>    17.7, 17.281, 51.434</td>\n",
       "    </tr>\n",
       "    <tr>\n",
       "      <th>1406576835</th>\n",
       "      <td>   0.58, 0.438, 0.42</td>\n",
       "      <td>  34.678, 17.776, 17.473</td>\n",
       "    </tr>\n",
       "    <tr>\n",
       "      <th>1406591230</th>\n",
       "      <td> 0.769, 0.453, 0.478</td>\n",
       "      <td>   17.577, 18.21, 17.533</td>\n",
       "    </tr>\n",
       "    <tr>\n",
       "      <th>1406605631</th>\n",
       "      <td> 0.534, 0.422, 0.416</td>\n",
       "      <td>  17.442, 37.561, 17.526</td>\n",
       "    </tr>\n",
       "  </tbody>\n",
       "</table>\n",
       "</div>"
      ],
      "text/plain": [
       "                           h1_latencies             h2_latencies\n",
       "probeid timestamp                                               \n",
       "10006   1406548034  0.559, 0.429, 0.412    20.49, 27.571, 17.716\n",
       "        1406562432  0.579, 0.431, 0.423     17.7, 17.281, 51.434\n",
       "        1406576835    0.58, 0.438, 0.42   34.678, 17.776, 17.473\n",
       "        1406591230  0.769, 0.453, 0.478    17.577, 18.21, 17.533\n",
       "        1406605631  0.534, 0.422, 0.416   17.442, 37.561, 17.526"
      ]
     },
     "execution_count": 140,
     "metadata": {},
     "output_type": "execute_result"
    }
   ],
   "source": [
    "df.head()"
   ]
  },
  {
   "cell_type": "code",
   "execution_count": 141,
   "metadata": {
    "collapsed": false
   },
   "outputs": [],
   "source": [
    "df.to_sql(  '%s'%RA_LATENCIES\n",
    "          , con\n",
    "          , flavor='sqlite'\n",
    "          , if_exists = 'append'\n",
    "          , index_label = index_label\n",
    "         )"
   ]
  },
  {
   "cell_type": "code",
   "execution_count": 142,
   "metadata": {
    "collapsed": true
   },
   "outputs": [],
   "source": [
    "con.commit()\n",
    "con.close()"
   ]
  }
 ],
 "metadata": {
  "kernelspec": {
   "display_name": "Python 3",
   "language": "python",
   "name": "python3"
  },
  "language_info": {
   "codemirror_mode": {
    "name": "ipython",
    "version": 3
   },
   "file_extension": ".py",
   "mimetype": "text/x-python",
   "name": "python",
   "nbconvert_exporter": "python",
   "pygments_lexer": "ipython3",
   "version": "3.4.2"
  }
 },
 "nbformat": 4,
 "nbformat_minor": 0
}
