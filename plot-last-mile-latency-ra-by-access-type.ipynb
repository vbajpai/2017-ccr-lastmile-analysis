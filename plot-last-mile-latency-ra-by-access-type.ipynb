{
 "cells": [
  {
   "cell_type": "markdown",
   "metadata": {},
   "source": [
    "*This notebook plots the lastmile latency for DSL, CABLE and FIBRE probes separately for each service provider in RIPE Atlas.*\n",
    "- - - "
   ]
  },
  {
   "cell_type": "code",
   "execution_count": 59,
   "metadata": {
    "collapsed": false
   },
   "outputs": [
    {
     "data": {
      "text/html": [
       "<style>body {\n",
       "    margin: 0;\n",
       "    font-family: Helvetica;\n",
       "}\n",
       "table.dataframe {\n",
       "    border-collapse: collapse;\n",
       "    border: none;\n",
       "}\n",
       "table.dataframe tr {\n",
       "    border: none;\n",
       "}\n",
       "table.dataframe td, table.dataframe th {\n",
       "    margin: 0;\n",
       "    border: 1px solid white;\n",
       "    padding-left: 0.25em;\n",
       "    padding-right: 0.25em;\n",
       "}\n",
       "table.dataframe th:not(:empty) {\n",
       "    background-color: #fec;\n",
       "    text-align: left;\n",
       "    font-weight: normal;\n",
       "}\n",
       "table.dataframe tr:nth-child(2) th:empty {\n",
       "    border-left: none;\n",
       "    border-right: 1px dashed #888;\n",
       "}\n",
       "table.dataframe td {\n",
       "    border: 2px solid #ccf;\n",
       "    background-color: #f4f4ff;\n",
       "}\n",
       "h3 {\n",
       "    color: white;\n",
       "    background-color: black;\n",
       "    padding: 0.5em;\n",
       "}\n",
       "\n",
       ".CodeMirror {\n",
       "    font-family: 'Monaco for Powerline';\n",
       "}\n",
       "\n",
       "div.cell.code_cell {\n",
       "    font-family: 'Monaco for Powerline';\n",
       "}\n",
       "\n",
       "div.output_area pre {\n",
       "    font-family: 'Monaco for Powerline';\n",
       "}\n",
       "</style>"
      ],
      "text/plain": [
       "<IPython.core.display.HTML object>"
      ]
     },
     "execution_count": 59,
     "metadata": {},
     "output_type": "execute_result"
    }
   ],
   "source": [
    "from IPython.core.display import HTML\n",
    "css = open('style-table.css').read() + open('style-notebook.css').read()\n",
    "HTML('<style>{}</style>'.format(css))"
   ]
  },
  {
   "cell_type": "code",
   "execution_count": 60,
   "metadata": {
    "collapsed": false
   },
   "outputs": [
    {
     "name": "stdout",
     "output_type": "stream",
     "text": [
      "Populating the interactive namespace from numpy and matplotlib\n"
     ]
    }
   ],
   "source": [
    "%pylab inline"
   ]
  },
  {
   "cell_type": "code",
   "execution_count": 61,
   "metadata": {
    "collapsed": false
   },
   "outputs": [],
   "source": [
    "import sqlite3\n",
    "import pandas as pd\n",
    "import matplotlib.gridspec as gridspec"
   ]
  },
  {
   "cell_type": "code",
   "execution_count": 62,
   "metadata": {
    "collapsed": true
   },
   "outputs": [],
   "source": [
    "DB_LOCATION = 'lastmile.db'"
   ]
  },
  {
   "cell_type": "code",
   "execution_count": 63,
   "metadata": {
    "collapsed": true
   },
   "outputs": [],
   "source": [
    "RA_PROBE = 'ra_probe'\n",
    "RA_PROBE_API = 'ra_probe_api'\n",
    "RA_ASN = 'ra_asn'\n",
    "RA_ONE_OFF_EXTENSIONS = 'ra_one_off_extensions'\n",
    "RA_LATENCIES_AGG = 'ra_latencies_agg'"
   ]
  },
  {
   "cell_type": "code",
   "execution_count": 64,
   "metadata": {
    "collapsed": false
   },
   "outputs": [],
   "source": [
    "con = sqlite3.connect(DB_LOCATION)"
   ]
  },
  {
   "cell_type": "code",
   "execution_count": 65,
   "metadata": {
    "collapsed": false
   },
   "outputs": [],
   "source": [
    "query_ra = '''SELECT      agg.probeid\n",
    "                        , agg.timestamp\n",
    "                        , s.asn\n",
    "                        , s.asn_holder_name\n",
    "                        , s.asn_access_type                \n",
    "                        , ext.access_type_technology\n",
    "                        , agg.h1_median || ';' || agg.h2_median as h1h2\n",
    "\n",
    "               FROM   %s                             as  agg\n",
    "                    , %s                             as  api\n",
    "                    , %s                             as  s               \n",
    "                    , %s                             as  hardware\n",
    "                    , %s                             as  ext\n",
    "\n",
    "               WHERE     agg.probeid                  =  api.probeid\n",
    "               AND       agg.probeid                  =  hardware.probeid\n",
    "               AND       agg.probeid                  =  ext.probeid\n",
    "               AND       api.asn_v4                   =  s.asn\n",
    "\n",
    "               AND       hardware.hardware_version    =  'v3'\n",
    "               AND       ext.if_residential           =  1\n",
    "\n",
    "               \n",
    "            '''%(  RA_LATENCIES_AGG\n",
    "                 , RA_PROBE_API\n",
    "                 , RA_ASN\n",
    "                 , RA_PROBE\n",
    "                 , RA_ONE_OFF_EXTENSIONS\n",
    "                )\n",
    "\n",
    "df_ra = pd.read_sql(query_ra, con)"
   ]
  },
  {
   "cell_type": "code",
   "execution_count": 66,
   "metadata": {
    "collapsed": false
   },
   "outputs": [
    {
     "data": {
      "text/plain": [
       "probeid                   134724\n",
       "timestamp                 134724\n",
       "asn                       134724\n",
       "asn_holder_name           134724\n",
       "asn_access_type           134724\n",
       "access_type_technology     43963\n",
       "h1h2                      130006\n",
       "dtype: int64"
      ]
     },
     "execution_count": 66,
     "metadata": {},
     "output_type": "execute_result"
    }
   ],
   "source": [
    "df_ra.count()"
   ]
  },
  {
   "cell_type": "code",
   "execution_count": 67,
   "metadata": {
    "collapsed": false
   },
   "outputs": [
    {
     "data": {
      "text/html": [
       "<div>\n",
       "<table border=\"1\" class=\"dataframe\">\n",
       "  <thead>\n",
       "    <tr style=\"text-align: right;\">\n",
       "      <th></th>\n",
       "      <th>probeid</th>\n",
       "      <th>timestamp</th>\n",
       "      <th>asn</th>\n",
       "      <th>asn_holder_name</th>\n",
       "      <th>asn_access_type</th>\n",
       "      <th>access_type_technology</th>\n",
       "      <th>h1h2</th>\n",
       "    </tr>\n",
       "  </thead>\n",
       "  <tbody>\n",
       "    <tr>\n",
       "      <th>0</th>\n",
       "      <td>10006</td>\n",
       "      <td>1406548034</td>\n",
       "      <td>3265</td>\n",
       "      <td>XS4ALL-NL XS4ALL Internet BV,NL</td>\n",
       "      <td>DSL</td>\n",
       "      <td>DSL</td>\n",
       "      <td>0.429;20.49</td>\n",
       "    </tr>\n",
       "    <tr>\n",
       "      <th>1</th>\n",
       "      <td>10006</td>\n",
       "      <td>1406562432</td>\n",
       "      <td>3265</td>\n",
       "      <td>XS4ALL-NL XS4ALL Internet BV,NL</td>\n",
       "      <td>DSL</td>\n",
       "      <td>DSL</td>\n",
       "      <td>0.431;17.7</td>\n",
       "    </tr>\n",
       "    <tr>\n",
       "      <th>2</th>\n",
       "      <td>10006</td>\n",
       "      <td>1406576835</td>\n",
       "      <td>3265</td>\n",
       "      <td>XS4ALL-NL XS4ALL Internet BV,NL</td>\n",
       "      <td>DSL</td>\n",
       "      <td>DSL</td>\n",
       "      <td>0.438;17.776</td>\n",
       "    </tr>\n",
       "    <tr>\n",
       "      <th>3</th>\n",
       "      <td>10006</td>\n",
       "      <td>1406591230</td>\n",
       "      <td>3265</td>\n",
       "      <td>XS4ALL-NL XS4ALL Internet BV,NL</td>\n",
       "      <td>DSL</td>\n",
       "      <td>DSL</td>\n",
       "      <td>0.478;17.577</td>\n",
       "    </tr>\n",
       "    <tr>\n",
       "      <th>4</th>\n",
       "      <td>10006</td>\n",
       "      <td>1406605631</td>\n",
       "      <td>3265</td>\n",
       "      <td>XS4ALL-NL XS4ALL Internet BV,NL</td>\n",
       "      <td>DSL</td>\n",
       "      <td>DSL</td>\n",
       "      <td>0.422;17.526</td>\n",
       "    </tr>\n",
       "  </tbody>\n",
       "</table>\n",
       "</div>"
      ],
      "text/plain": [
       "   probeid   timestamp   asn                  asn_holder_name asn_access_type  \\\n",
       "0    10006  1406548034  3265  XS4ALL-NL XS4ALL Internet BV,NL             DSL   \n",
       "1    10006  1406562432  3265  XS4ALL-NL XS4ALL Internet BV,NL             DSL   \n",
       "2    10006  1406576835  3265  XS4ALL-NL XS4ALL Internet BV,NL             DSL   \n",
       "3    10006  1406591230  3265  XS4ALL-NL XS4ALL Internet BV,NL             DSL   \n",
       "4    10006  1406605631  3265  XS4ALL-NL XS4ALL Internet BV,NL             DSL   \n",
       "\n",
       "  access_type_technology          h1h2  \n",
       "0                    DSL   0.429;20.49  \n",
       "1                    DSL    0.431;17.7  \n",
       "2                    DSL  0.438;17.776  \n",
       "3                    DSL  0.478;17.577  \n",
       "4                    DSL  0.422;17.526  "
      ]
     },
     "execution_count": 67,
     "metadata": {},
     "output_type": "execute_result"
    }
   ],
   "source": [
    "df_ra.head()"
   ]
  },
  {
   "cell_type": "code",
   "execution_count": 68,
   "metadata": {
    "collapsed": true
   },
   "outputs": [],
   "source": [
    "df_ra = df_ra.dropna(subset = ['h1h2'])"
   ]
  },
  {
   "cell_type": "code",
   "execution_count": 69,
   "metadata": {
    "collapsed": false
   },
   "outputs": [
    {
     "data": {
      "text/plain": [
       "probeid                   130006\n",
       "timestamp                 130006\n",
       "asn                       130006\n",
       "asn_holder_name           130006\n",
       "asn_access_type           130006\n",
       "access_type_technology     40625\n",
       "h1h2                      130006\n",
       "dtype: int64"
      ]
     },
     "execution_count": 69,
     "metadata": {},
     "output_type": "execute_result"
    }
   ],
   "source": [
    "df_ra.count()"
   ]
  },
  {
   "cell_type": "code",
   "execution_count": 70,
   "metadata": {
    "collapsed": false
   },
   "outputs": [
    {
     "data": {
      "text/html": [
       "<div>\n",
       "<table border=\"1\" class=\"dataframe\">\n",
       "  <thead>\n",
       "    <tr style=\"text-align: right;\">\n",
       "      <th></th>\n",
       "      <th>probeid</th>\n",
       "      <th>timestamp</th>\n",
       "      <th>asn</th>\n",
       "      <th>asn_holder_name</th>\n",
       "      <th>asn_access_type</th>\n",
       "      <th>access_type_technology</th>\n",
       "      <th>h1h2</th>\n",
       "    </tr>\n",
       "  </thead>\n",
       "  <tbody>\n",
       "    <tr>\n",
       "      <th>0</th>\n",
       "      <td>10006</td>\n",
       "      <td>1406548034</td>\n",
       "      <td>3265</td>\n",
       "      <td>XS4ALL-NL XS4ALL Internet BV,NL</td>\n",
       "      <td>DSL</td>\n",
       "      <td>DSL</td>\n",
       "      <td>0.429;20.49</td>\n",
       "    </tr>\n",
       "    <tr>\n",
       "      <th>1</th>\n",
       "      <td>10006</td>\n",
       "      <td>1406562432</td>\n",
       "      <td>3265</td>\n",
       "      <td>XS4ALL-NL XS4ALL Internet BV,NL</td>\n",
       "      <td>DSL</td>\n",
       "      <td>DSL</td>\n",
       "      <td>0.431;17.7</td>\n",
       "    </tr>\n",
       "    <tr>\n",
       "      <th>2</th>\n",
       "      <td>10006</td>\n",
       "      <td>1406576835</td>\n",
       "      <td>3265</td>\n",
       "      <td>XS4ALL-NL XS4ALL Internet BV,NL</td>\n",
       "      <td>DSL</td>\n",
       "      <td>DSL</td>\n",
       "      <td>0.438;17.776</td>\n",
       "    </tr>\n",
       "    <tr>\n",
       "      <th>3</th>\n",
       "      <td>10006</td>\n",
       "      <td>1406591230</td>\n",
       "      <td>3265</td>\n",
       "      <td>XS4ALL-NL XS4ALL Internet BV,NL</td>\n",
       "      <td>DSL</td>\n",
       "      <td>DSL</td>\n",
       "      <td>0.478;17.577</td>\n",
       "    </tr>\n",
       "    <tr>\n",
       "      <th>4</th>\n",
       "      <td>10006</td>\n",
       "      <td>1406605631</td>\n",
       "      <td>3265</td>\n",
       "      <td>XS4ALL-NL XS4ALL Internet BV,NL</td>\n",
       "      <td>DSL</td>\n",
       "      <td>DSL</td>\n",
       "      <td>0.422;17.526</td>\n",
       "    </tr>\n",
       "  </tbody>\n",
       "</table>\n",
       "</div>"
      ],
      "text/plain": [
       "   probeid   timestamp   asn                  asn_holder_name asn_access_type  \\\n",
       "0    10006  1406548034  3265  XS4ALL-NL XS4ALL Internet BV,NL             DSL   \n",
       "1    10006  1406562432  3265  XS4ALL-NL XS4ALL Internet BV,NL             DSL   \n",
       "2    10006  1406576835  3265  XS4ALL-NL XS4ALL Internet BV,NL             DSL   \n",
       "3    10006  1406591230  3265  XS4ALL-NL XS4ALL Internet BV,NL             DSL   \n",
       "4    10006  1406605631  3265  XS4ALL-NL XS4ALL Internet BV,NL             DSL   \n",
       "\n",
       "  access_type_technology          h1h2  \n",
       "0                    DSL   0.429;20.49  \n",
       "1                    DSL    0.431;17.7  \n",
       "2                    DSL  0.438;17.776  \n",
       "3                    DSL  0.478;17.577  \n",
       "4                    DSL  0.422;17.526  "
      ]
     },
     "execution_count": 70,
     "metadata": {},
     "output_type": "execute_result"
    }
   ],
   "source": [
    "df_ra.head()"
   ]
  },
  {
   "cell_type": "code",
   "execution_count": 71,
   "metadata": {
    "collapsed": false
   },
   "outputs": [
    {
     "data": {
      "text/plain": [
       "probeid                   130006\n",
       "timestamp                 130006\n",
       "asn                       130006\n",
       "asn_holder_name           130006\n",
       "asn_access_type           130006\n",
       "access_type_technology     40625\n",
       "h1h2                      130006\n",
       "dtype: int64"
      ]
     },
     "execution_count": 71,
     "metadata": {},
     "output_type": "execute_result"
    }
   ],
   "source": [
    "df_ra.count()"
   ]
  },
  {
   "cell_type": "code",
   "execution_count": 72,
   "metadata": {
    "collapsed": false
   },
   "outputs": [],
   "source": [
    "def calculate_lastmile_latency(h1h2):\n",
    "    try: h1,h2 = h1h2.split(';')\n",
    "    except Exception as e: print(e, type(e), h1h2); return None\n",
    "    \n",
    "    try: lastmile = float(h2) - float(h1)\n",
    "    except Exception as e: print(e, type(e), h1, h2); return None\n",
    "    \n",
    "    return lastmile"
   ]
  },
  {
   "cell_type": "code",
   "execution_count": 73,
   "metadata": {
    "collapsed": false
   },
   "outputs": [],
   "source": [
    "df_ra['lastmile'] = df_ra['h1h2'].apply(calculate_lastmile_latency)"
   ]
  },
  {
   "cell_type": "code",
   "execution_count": 74,
   "metadata": {
    "collapsed": false
   },
   "outputs": [
    {
     "data": {
      "text/html": [
       "<div>\n",
       "<table border=\"1\" class=\"dataframe\">\n",
       "  <thead>\n",
       "    <tr style=\"text-align: right;\">\n",
       "      <th></th>\n",
       "      <th>probeid</th>\n",
       "      <th>timestamp</th>\n",
       "      <th>asn</th>\n",
       "      <th>asn_holder_name</th>\n",
       "      <th>asn_access_type</th>\n",
       "      <th>access_type_technology</th>\n",
       "      <th>h1h2</th>\n",
       "      <th>lastmile</th>\n",
       "    </tr>\n",
       "  </thead>\n",
       "  <tbody>\n",
       "    <tr>\n",
       "      <th>0</th>\n",
       "      <td>10006</td>\n",
       "      <td>1406548034</td>\n",
       "      <td>3265</td>\n",
       "      <td>XS4ALL-NL XS4ALL Internet BV,NL</td>\n",
       "      <td>DSL</td>\n",
       "      <td>DSL</td>\n",
       "      <td>0.429;20.49</td>\n",
       "      <td>20.061</td>\n",
       "    </tr>\n",
       "    <tr>\n",
       "      <th>1</th>\n",
       "      <td>10006</td>\n",
       "      <td>1406562432</td>\n",
       "      <td>3265</td>\n",
       "      <td>XS4ALL-NL XS4ALL Internet BV,NL</td>\n",
       "      <td>DSL</td>\n",
       "      <td>DSL</td>\n",
       "      <td>0.431;17.7</td>\n",
       "      <td>17.269</td>\n",
       "    </tr>\n",
       "    <tr>\n",
       "      <th>2</th>\n",
       "      <td>10006</td>\n",
       "      <td>1406576835</td>\n",
       "      <td>3265</td>\n",
       "      <td>XS4ALL-NL XS4ALL Internet BV,NL</td>\n",
       "      <td>DSL</td>\n",
       "      <td>DSL</td>\n",
       "      <td>0.438;17.776</td>\n",
       "      <td>17.338</td>\n",
       "    </tr>\n",
       "    <tr>\n",
       "      <th>3</th>\n",
       "      <td>10006</td>\n",
       "      <td>1406591230</td>\n",
       "      <td>3265</td>\n",
       "      <td>XS4ALL-NL XS4ALL Internet BV,NL</td>\n",
       "      <td>DSL</td>\n",
       "      <td>DSL</td>\n",
       "      <td>0.478;17.577</td>\n",
       "      <td>17.099</td>\n",
       "    </tr>\n",
       "    <tr>\n",
       "      <th>4</th>\n",
       "      <td>10006</td>\n",
       "      <td>1406605631</td>\n",
       "      <td>3265</td>\n",
       "      <td>XS4ALL-NL XS4ALL Internet BV,NL</td>\n",
       "      <td>DSL</td>\n",
       "      <td>DSL</td>\n",
       "      <td>0.422;17.526</td>\n",
       "      <td>17.104</td>\n",
       "    </tr>\n",
       "  </tbody>\n",
       "</table>\n",
       "</div>"
      ],
      "text/plain": [
       "   probeid   timestamp   asn                  asn_holder_name asn_access_type  \\\n",
       "0    10006  1406548034  3265  XS4ALL-NL XS4ALL Internet BV,NL             DSL   \n",
       "1    10006  1406562432  3265  XS4ALL-NL XS4ALL Internet BV,NL             DSL   \n",
       "2    10006  1406576835  3265  XS4ALL-NL XS4ALL Internet BV,NL             DSL   \n",
       "3    10006  1406591230  3265  XS4ALL-NL XS4ALL Internet BV,NL             DSL   \n",
       "4    10006  1406605631  3265  XS4ALL-NL XS4ALL Internet BV,NL             DSL   \n",
       "\n",
       "  access_type_technology          h1h2  lastmile  \n",
       "0                    DSL   0.429;20.49    20.061  \n",
       "1                    DSL    0.431;17.7    17.269  \n",
       "2                    DSL  0.438;17.776    17.338  \n",
       "3                    DSL  0.478;17.577    17.099  \n",
       "4                    DSL  0.422;17.526    17.104  "
      ]
     },
     "execution_count": 74,
     "metadata": {},
     "output_type": "execute_result"
    }
   ],
   "source": [
    "df_ra.head()"
   ]
  },
  {
   "cell_type": "code",
   "execution_count": 75,
   "metadata": {
    "collapsed": false
   },
   "outputs": [
    {
     "data": {
      "text/plain": [
       "probeid                   130006\n",
       "timestamp                 130006\n",
       "asn                       130006\n",
       "asn_holder_name           130006\n",
       "asn_access_type           130006\n",
       "access_type_technology     40625\n",
       "h1h2                      130006\n",
       "lastmile                  130006\n",
       "dtype: int64"
      ]
     },
     "execution_count": 75,
     "metadata": {},
     "output_type": "execute_result"
    }
   ],
   "source": [
    "df_ra.count()"
   ]
  },
  {
   "cell_type": "code",
   "execution_count": 76,
   "metadata": {
    "collapsed": true
   },
   "outputs": [],
   "source": [
    "df_ra_groupby = df_ra.groupby('probeid')\n",
    "df_ra_agg = df_ra_groupby['lastmile'].agg(['median'])\n",
    "df_ra_merged = pd.merge(df_ra, df_ra_agg, left_on='probeid', right_index=True)\n",
    "\n",
    "del df_ra_merged['timestamp']\n",
    "del df_ra_merged['h1h2']\n",
    "del df_ra_merged['lastmile']\n",
    "\n",
    "df_ra_merged = df_ra_merged.drop_duplicates()\n",
    "df_ra_merged.rename(columns={'median': 'lastmile_median'}, inplace=True)"
   ]
  },
  {
   "cell_type": "code",
   "execution_count": 77,
   "metadata": {
    "collapsed": false
   },
   "outputs": [
    {
     "name": "stderr",
     "output_type": "stream",
     "text": [
      "/home/vbajpai/.virtualenvs/lastmile-data-collection-analysis-python3/lib/python3.4/site-packages/ipykernel/__main__.py:1: FutureWarning: sort(columns=....) is deprecated, use sort_values(by=.....)\n",
      "  if __name__ == '__main__':\n"
     ]
    }
   ],
   "source": [
    "df_ra_merged = df_ra_merged.sort('lastmile_median')"
   ]
  },
  {
   "cell_type": "code",
   "execution_count": 78,
   "metadata": {
    "collapsed": false
   },
   "outputs": [
    {
     "data": {
      "text/plain": [
       "probeid                   691\n",
       "asn                       691\n",
       "asn_holder_name           691\n",
       "asn_access_type           691\n",
       "access_type_technology    221\n",
       "lastmile_median           691\n",
       "dtype: int64"
      ]
     },
     "execution_count": 78,
     "metadata": {},
     "output_type": "execute_result"
    }
   ],
   "source": [
    "df_ra_merged.count()"
   ]
  },
  {
   "cell_type": "code",
   "execution_count": 79,
   "metadata": {
    "collapsed": false
   },
   "outputs": [
    {
     "data": {
      "text/html": [
       "<div>\n",
       "<table border=\"1\" class=\"dataframe\">\n",
       "  <thead>\n",
       "    <tr style=\"text-align: right;\">\n",
       "      <th></th>\n",
       "      <th>probeid</th>\n",
       "      <th>asn</th>\n",
       "      <th>asn_holder_name</th>\n",
       "      <th>asn_access_type</th>\n",
       "      <th>access_type_technology</th>\n",
       "      <th>lastmile_median</th>\n",
       "    </tr>\n",
       "  </thead>\n",
       "  <tbody>\n",
       "    <tr>\n",
       "      <th>71433</th>\n",
       "      <td>14682</td>\n",
       "      <td>13037</td>\n",
       "      <td>ZEN-AS Zen Internet Ltd,GB</td>\n",
       "      <td>DSL</td>\n",
       "      <td>DSL</td>\n",
       "      <td>-83.901</td>\n",
       "    </tr>\n",
       "    <tr>\n",
       "      <th>81120</th>\n",
       "      <td>15389</td>\n",
       "      <td>3265</td>\n",
       "      <td>XS4ALL-NL XS4ALL Internet BV,NL</td>\n",
       "      <td>DSL</td>\n",
       "      <td>DSL</td>\n",
       "      <td>-72.740</td>\n",
       "    </tr>\n",
       "    <tr>\n",
       "      <th>68553</th>\n",
       "      <td>14582</td>\n",
       "      <td>2856</td>\n",
       "      <td>BT-UK-AS BT Public Internet Service,GB</td>\n",
       "      <td>DSL</td>\n",
       "      <td>None</td>\n",
       "      <td>-39.872</td>\n",
       "    </tr>\n",
       "    <tr>\n",
       "      <th>94226</th>\n",
       "      <td>16233</td>\n",
       "      <td>3265</td>\n",
       "      <td>XS4ALL-NL XS4ALL Internet BV,NL</td>\n",
       "      <td>DSL</td>\n",
       "      <td>None</td>\n",
       "      <td>0.007</td>\n",
       "    </tr>\n",
       "    <tr>\n",
       "      <th>208</th>\n",
       "      <td>10007</td>\n",
       "      <td>7922</td>\n",
       "      <td>COMCAST-7922 - Comcast Cable Communications, I...</td>\n",
       "      <td>CABLE</td>\n",
       "      <td>CABLE</td>\n",
       "      <td>0.049</td>\n",
       "    </tr>\n",
       "  </tbody>\n",
       "</table>\n",
       "</div>"
      ],
      "text/plain": [
       "       probeid    asn                                    asn_holder_name  \\\n",
       "71433    14682  13037                         ZEN-AS Zen Internet Ltd,GB   \n",
       "81120    15389   3265                    XS4ALL-NL XS4ALL Internet BV,NL   \n",
       "68553    14582   2856             BT-UK-AS BT Public Internet Service,GB   \n",
       "94226    16233   3265                    XS4ALL-NL XS4ALL Internet BV,NL   \n",
       "208      10007   7922  COMCAST-7922 - Comcast Cable Communications, I...   \n",
       "\n",
       "      asn_access_type access_type_technology  lastmile_median  \n",
       "71433             DSL                    DSL          -83.901  \n",
       "81120             DSL                    DSL          -72.740  \n",
       "68553             DSL                   None          -39.872  \n",
       "94226             DSL                   None            0.007  \n",
       "208             CABLE                  CABLE            0.049  "
      ]
     },
     "execution_count": 79,
     "metadata": {},
     "output_type": "execute_result"
    }
   ],
   "source": [
    "df_ra_merged.head()"
   ]
  },
  {
   "cell_type": "code",
   "execution_count": 80,
   "metadata": {
    "collapsed": false
   },
   "outputs": [
    {
     "name": "stdout",
     "output_type": "stream",
     "text": [
      "10151\n"
     ]
    }
   ],
   "source": [
    "def myfunc(x):\n",
    "    count = 0\n",
    "    manual = x['asn_access_type']; rdns = x['access_type_technology']\n",
    "    \n",
    "    chosen = None\n",
    "    if manual is None and rdns is None: chosen = None\n",
    "    elif manual is None and rdns is not None: chosen = rdns\n",
    "    elif manual is not None and rdns is None: chosen = manual\n",
    "    elif manual == rdns: chosen = rdns\n",
    "    elif manual != rdns:\n",
    "        if rdns == 'FIBRE': chosen = rdns    \n",
    "        else: print(x['probeid']); count += 1\n",
    "    else: print('wow!')   \n",
    "        \n",
    "    return chosen\n",
    "\n",
    "df_ra_merged['chosen'] = df_ra_merged.apply(myfunc, axis=1)"
   ]
  },
  {
   "cell_type": "code",
   "execution_count": 81,
   "metadata": {
    "collapsed": false
   },
   "outputs": [
    {
     "data": {
      "text/html": [
       "<div>\n",
       "<table border=\"1\" class=\"dataframe\">\n",
       "  <thead>\n",
       "    <tr style=\"text-align: right;\">\n",
       "      <th></th>\n",
       "      <th>probeid</th>\n",
       "      <th>asn</th>\n",
       "      <th>asn_holder_name</th>\n",
       "      <th>asn_access_type</th>\n",
       "      <th>access_type_technology</th>\n",
       "      <th>lastmile_median</th>\n",
       "      <th>chosen</th>\n",
       "    </tr>\n",
       "  </thead>\n",
       "  <tbody>\n",
       "    <tr>\n",
       "      <th>3261</th>\n",
       "      <td>10151</td>\n",
       "      <td>5089</td>\n",
       "      <td>NTL Virgin Media Limited,GB</td>\n",
       "      <td>CABLE</td>\n",
       "      <td>DSL</td>\n",
       "      <td>30.4395</td>\n",
       "      <td>None</td>\n",
       "    </tr>\n",
       "  </tbody>\n",
       "</table>\n",
       "</div>"
      ],
      "text/plain": [
       "      probeid   asn              asn_holder_name asn_access_type  \\\n",
       "3261    10151  5089  NTL Virgin Media Limited,GB           CABLE   \n",
       "\n",
       "     access_type_technology  lastmile_median chosen  \n",
       "3261                    DSL          30.4395   None  "
      ]
     },
     "execution_count": 81,
     "metadata": {},
     "output_type": "execute_result"
    }
   ],
   "source": [
    "df_ra_merged[df_ra_merged.probeid == 10151]"
   ]
  },
  {
   "cell_type": "code",
   "execution_count": 82,
   "metadata": {
    "collapsed": false
   },
   "outputs": [
    {
     "data": {
      "text/plain": [
       "probeid                   691\n",
       "asn                       691\n",
       "asn_holder_name           691\n",
       "asn_access_type           691\n",
       "access_type_technology    221\n",
       "lastmile_median           691\n",
       "chosen                    690\n",
       "dtype: int64"
      ]
     },
     "execution_count": 82,
     "metadata": {},
     "output_type": "execute_result"
    }
   ],
   "source": [
    "df_ra_merged.count()"
   ]
  },
  {
   "cell_type": "code",
   "execution_count": 83,
   "metadata": {
    "collapsed": false
   },
   "outputs": [],
   "source": [
    "def create_pretty_node_names(asn, holder):\n",
    "    \n",
    "    d = {\n",
    "          'NTL'        : 'VIRGINMEDIA'\n",
    "        , 'AS3215'     : 'ORANGE'        \n",
    "        , 'VODANET'    : 'VODAFONE'\n",
    "        , 'PROXAD'     : 'FREE'\n",
    "        , 'ROADRUNNER' : 'TWC'\n",
    "        , 'TDDE'       : 'TELEFONICA-DE'\n",
    "        , 'TT'         : 'TALKTALK'\n",
    "    }\n",
    "    \n",
    "    firstname = holder.split('-')[0].split(' ')[0]\n",
    "    try: firstname = d[firstname]\n",
    "    except Exception as e: pass\n",
    "    \n",
    "    if 'AS' in str(asn): nodename = '%s (%s)'%(firstname, asn)\n",
    "    else: nodename = '%s (AS%s)'%(firstname, asn)\n",
    "    return nodename\n",
    "\n",
    "def myfunc(x):\n",
    "    asn = x['asn']; holder = x['asn_holder_name']; \n",
    "    nodename = create_pretty_node_names(asn, holder)\n",
    "    x['nodename'] = nodename\n",
    "    return x\n",
    "\n",
    "df_ra_merged = df_ra_merged.apply(myfunc, axis=1)"
   ]
  },
  {
   "cell_type": "code",
   "execution_count": 84,
   "metadata": {
    "collapsed": false
   },
   "outputs": [],
   "source": [
    "del df_ra_merged['asn_access_type']\n",
    "del df_ra_merged['access_type_technology']\n",
    "del df_ra_merged['asn']\n",
    "del df_ra_merged['asn_holder_name']"
   ]
  },
  {
   "cell_type": "code",
   "execution_count": 85,
   "metadata": {
    "collapsed": false
   },
   "outputs": [
    {
     "data": {
      "text/html": [
       "<div>\n",
       "<table border=\"1\" class=\"dataframe\">\n",
       "  <thead>\n",
       "    <tr style=\"text-align: right;\">\n",
       "      <th></th>\n",
       "      <th>probeid</th>\n",
       "      <th>lastmile_median</th>\n",
       "      <th>chosen</th>\n",
       "      <th>nodename</th>\n",
       "    </tr>\n",
       "  </thead>\n",
       "  <tbody>\n",
       "    <tr>\n",
       "      <th>71433</th>\n",
       "      <td>14682</td>\n",
       "      <td>-83.901</td>\n",
       "      <td>DSL</td>\n",
       "      <td>ZEN (AS13037)</td>\n",
       "    </tr>\n",
       "    <tr>\n",
       "      <th>81120</th>\n",
       "      <td>15389</td>\n",
       "      <td>-72.740</td>\n",
       "      <td>DSL</td>\n",
       "      <td>XS4ALL (AS3265)</td>\n",
       "    </tr>\n",
       "    <tr>\n",
       "      <th>68553</th>\n",
       "      <td>14582</td>\n",
       "      <td>-39.872</td>\n",
       "      <td>DSL</td>\n",
       "      <td>BT (AS2856)</td>\n",
       "    </tr>\n",
       "    <tr>\n",
       "      <th>94226</th>\n",
       "      <td>16233</td>\n",
       "      <td>0.007</td>\n",
       "      <td>DSL</td>\n",
       "      <td>XS4ALL (AS3265)</td>\n",
       "    </tr>\n",
       "    <tr>\n",
       "      <th>208</th>\n",
       "      <td>10007</td>\n",
       "      <td>0.049</td>\n",
       "      <td>CABLE</td>\n",
       "      <td>COMCAST (AS7922)</td>\n",
       "    </tr>\n",
       "  </tbody>\n",
       "</table>\n",
       "</div>"
      ],
      "text/plain": [
       "       probeid  lastmile_median chosen          nodename\n",
       "71433    14682          -83.901    DSL     ZEN (AS13037)\n",
       "81120    15389          -72.740    DSL   XS4ALL (AS3265)\n",
       "68553    14582          -39.872    DSL       BT (AS2856)\n",
       "94226    16233            0.007    DSL   XS4ALL (AS3265)\n",
       "208      10007            0.049  CABLE  COMCAST (AS7922)"
      ]
     },
     "execution_count": 85,
     "metadata": {},
     "output_type": "execute_result"
    }
   ],
   "source": [
    "df_ra_merged.head()"
   ]
  },
  {
   "cell_type": "code",
   "execution_count": 86,
   "metadata": {
    "collapsed": false
   },
   "outputs": [],
   "source": [
    "df_ra_merged['nodename'] = df_ra_merged['nodename'].apply(lambda node: node.split(' ')[0])"
   ]
  },
  {
   "cell_type": "code",
   "execution_count": 87,
   "metadata": {
    "collapsed": false
   },
   "outputs": [],
   "source": [
    "df_ra_merged = df_ra_merged.dropna()"
   ]
  },
  {
   "cell_type": "code",
   "execution_count": 88,
   "metadata": {
    "collapsed": false
   },
   "outputs": [
    {
     "data": {
      "text/plain": [
       "probeid            690\n",
       "lastmile_median    690\n",
       "chosen             690\n",
       "nodename           690\n",
       "dtype: int64"
      ]
     },
     "execution_count": 88,
     "metadata": {},
     "output_type": "execute_result"
    }
   ],
   "source": [
    "df_ra_merged.count()"
   ]
  },
  {
   "cell_type": "code",
   "execution_count": 89,
   "metadata": {
    "collapsed": false
   },
   "outputs": [],
   "source": [
    "df_dsl   = df_ra_merged[df_ra_merged.chosen == 'DSL']\n",
    "df_cable = df_ra_merged[df_ra_merged.chosen == 'CABLE']\n",
    "df_fibre = df_ra_merged[df_ra_merged.chosen == 'FIBRE']"
   ]
  },
  {
   "cell_type": "code",
   "execution_count": 90,
   "metadata": {
    "collapsed": false
   },
   "outputs": [
    {
     "name": "stdout",
     "output_type": "stream",
     "text": [
      "dsl: 429\n",
      "cable: 225\n",
      "fibre: 36\n",
      "total: 690\n"
     ]
    }
   ],
   "source": [
    "dsl_count   = df_dsl['probeid'].count()\n",
    "cable_count = df_cable['probeid'].count()\n",
    "fibre_count = df_fibre['probeid'].count()\n",
    "\n",
    "print('dsl: %d'%(dsl_count))\n",
    "print('cable: %d'%(cable_count))\n",
    "print('fibre: %d'%(fibre_count))\n",
    "\n",
    "print('total: %d'%(dsl_count + cable_count + fibre_count))"
   ]
  },
  {
   "cell_type": "code",
   "execution_count": 91,
   "metadata": {
    "collapsed": true
   },
   "outputs": [],
   "source": [
    "df_dsl_groupby = df_dsl.groupby('nodename', )\n",
    "df_cable_groupby = df_cable.groupby('nodename')\n",
    "df_fibre_groupby = df_fibre.groupby('nodename')"
   ]
  },
  {
   "cell_type": "code",
   "execution_count": 92,
   "metadata": {
    "collapsed": false
   },
   "outputs": [],
   "source": [
    "def draw_cdf_step(df, nodename, index):\n",
    "    \n",
    "    if index >= 7: linestyle = 'dashed'\n",
    "    else: linestyle = 'solid'\n",
    "        \n",
    "    n,bins,patches = \\\n",
    "    plt.hist (      df['lastmile_median'].values \n",
    "                  , normed=True\n",
    "                  , cumulative=True\n",
    "                  , histtype='step'\n",
    "                  , label=\"%s (%d)\"%(nodename, df['probeid'].count())          \n",
    "                  , linewidth=7\n",
    "                  , bins=df['probeid'].count()\n",
    "                  , linestyle=(linestyle)\n",
    "             );\n",
    "    \n",
    "    patches[0].set_xy(patches[0].get_xy()[:-1])"
   ]
  },
  {
   "cell_type": "code",
   "execution_count": 93,
   "metadata": {
    "collapsed": true
   },
   "outputs": [],
   "source": [
    "def start_plot():    \n",
    "    #----- plt.style.use('ggplot')\n",
    "    #color_list = plt.cm.Set1(np.linspace(0, 1, num_colors))\n",
    "    fig = plt.figure(figsize=(6,3))\n",
    "    plt.rcParams['font.size'] = 22\n",
    "    ax = fig.add_subplot(111)\n",
    "    #ax.set_color_cycle(color_list)  \n",
    "    return ax"
   ]
  },
  {
   "cell_type": "code",
   "execution_count": 94,
   "metadata": {
    "collapsed": false
   },
   "outputs": [],
   "source": [
    "def stop_plot(ax, chosen, count):\n",
    "    \n",
    "    xticks = [1, 2, 4, 8, 16, 32, 64]\n",
    "    yticks = np.arange(0,1.1,0.2)\n",
    "    #ax.yaxis.set_label_coords(-0.15, 0.45)\n",
    "    ax.grid(False)\n",
    "    ax.set_yticks(yticks)\n",
    "    ax.set_ylim([0,1.05])\n",
    "    ax.set_xlim([1, 64])    \n",
    "    ax.set_xscale('log', basex=2)\n",
    "    ax.set_xlabel('Last-mile latency (ms)', fontsize=22)\n",
    "    ax.set_ylabel('CDF (%d probes)'%count, fontsize=22)\n",
    "    \n",
    "    ax.spines['right'].set_color('none')\n",
    "    ax.spines['top'].set_color('none')\n",
    "    ax.yaxis.set_ticks_position('left')\n",
    "    ax.xaxis.set_ticks_position('bottom')\n",
    "    ax.spines['bottom'].set_position(('axes', -0.05))\n",
    "    ax.spines['left'].set_position(('axes', -0.05))\n",
    "    \n",
    "    plt.xticks(xticks, xticks)\n",
    "    \n",
    "    if chosen == 'FIBRE': plt.legend(fontsize=15, loc='lower right', ncol=1)    \n",
    "    else: plt.legend(fontsize=15, loc='best', bbox_to_anchor=(1.1, -0.40), ncol=2)        \n",
    "    plt.title('%s (RIPE Atlas)'%(chosen), fontsize=22, y=1.05)\n",
    "    plt.savefig('ripeatlas-%s-lastmile-latency.pdf'%chosen, format='pdf', bbox_inches='tight')"
   ]
  },
  {
   "cell_type": "code",
   "execution_count": 95,
   "metadata": {
    "collapsed": true
   },
   "outputs": [],
   "source": [
    "import Cdf\n",
    "\n",
    "markers = ['d', 'x', '+', 'o', 'p', 'v', '8', '*', 'D', '<', 's']\n",
    "\n",
    "def draw_cdf(df, nodename, index, ax):\n",
    "    \n",
    "    sample = df['lastmile_median'].values\n",
    "    sample = [x for x in sample if x > 0]\n",
    "    c = Cdf.MakeCdfFromList(sample)\n",
    "    \n",
    "    ax.plot (  c.xs\n",
    "              , c.ps\n",
    "              , marker=markers[index]\n",
    "              , linewidth=0.3\n",
    "              , markersize=5\n",
    "              , fillstyle='none'\n",
    "              , label=\"%s (%d)\"%(nodename, df['probeid'].count())\n",
    "             )"
   ]
  },
  {
   "cell_type": "code",
   "execution_count": 100,
   "metadata": {
    "collapsed": true
   },
   "outputs": [],
   "source": [
    "def stop_plot_box(ax, chosen, count, probes_by_asn = [], shrink_right = False, fs = 22):\n",
    "    \n",
    "    ax2 = ax.twinx()\n",
    "    ax.set_title(\"\"); plt.suptitle(\"\")\n",
    "    ax2.set_ylim(ax.get_ylim())\n",
    "    ax2.set_yticks(ax.get_yticks())\n",
    "    ax2.set_yticklabels( probes_by_asn, fontsize = fs)\n",
    "    ax2.yaxis.set_label_position(\"right\")    \n",
    "    ax2.set_ylabel('[# Probes]', fontsize=fs)\n",
    "    if shrink_right: ax2.set_ylabel('[%d]'%count, fontsize=fs)        \n",
    "    else: ax2.set_ylabel('[%d probes]'%count, fontsize=fs)        \n",
    "    \n",
    "    xticks = [1, 2, 4, 8, 16, 32, 64]\n",
    "    ax.grid(False)\n",
    "    ax.set_xlim([1, 64])\n",
    "    ax.set_xscale('log', basex=2)\n",
    "    ax.set_xlabel('Last-mile latency (ms)', fontsize=fs)\n",
    "    plt.xticks(xticks, xticks)    \n",
    "    plt.suptitle('')\n",
    "    plt.title('%s (RIPE Atlas)'%(chosen), fontsize=fs, y=1.05)\n",
    "    plt.savefig('ripeatlas-%s-lastmile-latency-boxplot.pdf'%chosen, format='pdf', bbox_inches='tight')"
   ]
  },
  {
   "cell_type": "code",
   "execution_count": 101,
   "metadata": {
    "collapsed": true
   },
   "outputs": [],
   "source": [
    "def start_plot_box(height=6, fs = 22):    \n",
    "    # ------ plt.style.use('ggplot')\n",
    "    fig = plt.figure(figsize=(6,height))\n",
    "    plt.rcParams['font.size'] = fs\n",
    "    ax = fig.add_subplot(111)\n",
    "    return ax"
   ]
  },
  {
   "cell_type": "code",
   "execution_count": 102,
   "metadata": {
    "collapsed": false
   },
   "outputs": [],
   "source": [
    "df_dsl   = df_dsl[df_dsl['lastmile_median'] > 0]\n",
    "df_cable = df_cable[df_cable['lastmile_median'] > 0]\n",
    "df_fibre = df_fibre[df_fibre['lastmile_median'] > 0]"
   ]
  },
  {
   "cell_type": "code",
   "execution_count": 103,
   "metadata": {
    "collapsed": false
   },
   "outputs": [],
   "source": [
    "def strip_out_nodes_with_less_than_ten_probes(df):\n",
    "\n",
    "    df_gby = df[['probeid', 'nodename']].groupby('nodename')\n",
    "    df_agg = df_gby.agg([len])\n",
    "    df = pd.merge(df, df_agg, left_on = 'nodename', right_index = True)\n",
    "    df.columns = ['probeid', 'lastmile_median', 'chosen', 'nodename', 'num_probes']\n",
    "    df = df[df['num_probes'] >= 10]\n",
    "    return df\n",
    "\n",
    "df_dsl   = strip_out_nodes_with_less_than_ten_probes(df_dsl)\n",
    "df_cable = strip_out_nodes_with_less_than_ten_probes(df_cable)\n",
    "df_fibre = strip_out_nodes_with_less_than_ten_probes(df_fibre)"
   ]
  },
  {
   "cell_type": "code",
   "execution_count": 104,
   "metadata": {
    "collapsed": false
   },
   "outputs": [
    {
     "name": "stdout",
     "output_type": "stream",
     "text": [
      "dsl: 425\n",
      "cable: 225\n",
      "fibre: 36\n",
      "total: 686\n"
     ]
    }
   ],
   "source": [
    "dsl_count   = df_dsl['probeid'].count()\n",
    "cable_count = df_cable['probeid'].count()\n",
    "fibre_count = df_fibre['probeid'].count()\n",
    "\n",
    "print('dsl: %d'%(dsl_count))\n",
    "print('cable: %d'%(cable_count))\n",
    "print('fibre: %d'%(fibre_count))\n",
    "\n",
    "print('total: %d'%(dsl_count + cable_count + fibre_count))"
   ]
  },
  {
   "cell_type": "code",
   "execution_count": 105,
   "metadata": {
    "collapsed": false
   },
   "outputs": [],
   "source": [
    "df_dsl_asn_gby    = df_dsl.groupby('nodename')\n",
    "dsl_probes_by_asn = ['%d'%len(set(v['probeid'].values)) for k, v in df_dsl_asn_gby] \n",
    "\n",
    "df_cable_asn_gby    = df_cable.groupby('nodename')\n",
    "cable_probes_by_asn = ['%d'%len(set(v['probeid'].values)) for k, v in df_cable_asn_gby] \n",
    "\n",
    "df_fibre_asn_gby    = df_fibre.groupby('nodename')\n",
    "fibre_probes_by_asn = ['%d'%len(set(v['probeid'].values)) for k, v in df_fibre_asn_gby] "
   ]
  },
  {
   "cell_type": "code",
   "execution_count": 110,
   "metadata": {
    "collapsed": false
   },
   "outputs": [
    {
     "data": {
      "image/png": "[encoded data removed]",
      "text/plain": [
       "<matplotlib.figure.Figure at 0x7f39a67a9ef0>"
      ]
     },
     "metadata": {},
     "output_type": "display_data"
    }
   ],
   "source": [
    "fig = plt.figure(figsize=(5,8))\n",
    "fs = 12\n",
    "plt.rcParams['font.size'] = fs\n",
    "\n",
    "gs = gridspec.GridSpec(3,1, width_ratios=[1], height_ratios=[7, 4, 1.5])\n",
    "\n",
    "ax1 = plt.subplot(gs[0])\n",
    "ax2 = plt.subplot(gs[1])\n",
    "ax3 = plt.subplot(gs[2])\n",
    "\n",
    "a = df_dsl.boxplot (  column='lastmile_median'\n",
    "                    , by=['nodename']\n",
    "                    , ax=ax1\n",
    "                    , vert=False\n",
    "                 )\n",
    "\n",
    "stop_plot_box(a, chosen='DSL', count=dsl_count, probes_by_asn = dsl_probes_by_asn, fs = 12)\n",
    "\n",
    "b = df_cable.boxplot (  column='lastmile_median'\n",
    "                      , by=['nodename']\n",
    "                      , ax=ax2\n",
    "                      , vert=False\n",
    "                     )\n",
    "\n",
    "stop_plot_box(b, chosen='CABLE', count=cable_count, probes_by_asn = cable_probes_by_asn, shrink_right = True, fs = 12)\n",
    "\n",
    "c = df_fibre.boxplot (  column='lastmile_median'\n",
    "                      , by=['nodename']\n",
    "                      , ax=ax3\n",
    "                      , vert=False\n",
    "                     )\n",
    "\n",
    "stop_plot_box(c, chosen='FIBRE', count=fibre_count, probes_by_asn = fibre_probes_by_asn, shrink_right = True, fs = 12)\n",
    "\n",
    "ax1.set_xlabel('', fontsize=fs)\n",
    "ax2.set_xlabel('', fontsize=fs)\n",
    "\n",
    "xticklabels = ax1.get_xticklabels() + ax2.get_xticklabels()\n",
    "plt.setp(xticklabels, visible=True)\n",
    "\n",
    "fig.subplots_adjust(hspace = 0.5)\n",
    "\n",
    "plt.savefig('ripeatlas-lastmile-latency-boxplot.pdf', format='pdf', bbox_inches='tight')"
   ]
  },
  {
   "cell_type": "code",
   "execution_count": 111,
   "metadata": {
    "collapsed": true
   },
   "outputs": [],
   "source": [
    "d = {  'FREE'          :    'FR'\n",
    "     , 'COMCAST'       :    'US'\n",
    "     , 'DTAG'          :    'DE'\n",
    "     , 'ORANGE'        :    'FR'\n",
    "     , 'TELENET'       :    'BE'\n",
    "     , 'XS4ALL'        :    'NL'\n",
    "     , 'OVH'           :    'FR'\n",
    "     , 'LDCOMNET'      :    'FR'\n",
    "     , 'BELGACOM'      :    'BE'\n",
    "     , 'UUNET'         :    'US'\n",
    "     , 'BT'            :    'UK'\n",
    "     , 'LGI'           :    'EU'\n",
    "     , 'VIRGINMEDIA'   :    'UK'\n",
    "     , 'ZIGGO'         :    'NL'\n",
    "     , 'TWC'           :    'US'\n",
    "     , 'VIEWQWEST'     :    'SG'\n",
    "     , 'TELEFONICA-DE' :    'DE'\n",
    "     , 'ZEN'           :    'UK'\n",
    "     , 'VODAFONE'      :    'DE'\n",
    "    }"
   ]
  }
 ],
 "metadata": {
  "kernelspec": {
   "display_name": "Python 3",
   "language": "python",
   "name": "python3"
  },
  "language_info": {
   "codemirror_mode": {
    "name": "ipython",
    "version": 3
   },
   "file_extension": ".py",
   "mimetype": "text/x-python",
   "name": "python",
   "nbconvert_exporter": "python",
   "pygments_lexer": "ipython3",
   "version": "3.4.2"
  }
 },
 "nbformat": 4,
 "nbformat_minor": 0
}
