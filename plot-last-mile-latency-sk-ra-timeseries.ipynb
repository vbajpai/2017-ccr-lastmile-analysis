{
 "cells": [
  {
   "cell_type": "markdown",
   "metadata": {},
   "source": [
    "*This notebook plots the lastmile latency by time of day and last-mile latency by timezone*\n",
    "- - - "
   ]
  },
  {
   "cell_type": "code",
   "execution_count": 164,
   "metadata": {
    "collapsed": false
   },
   "outputs": [
    {
     "data": {
      "text/html": [
       "<style>body {\n",
       "    margin: 0;\n",
       "    font-family: Helvetica;\n",
       "}\n",
       "table.dataframe {\n",
       "    border-collapse: collapse;\n",
       "    border: none;\n",
       "}\n",
       "table.dataframe tr {\n",
       "    border: none;\n",
       "}\n",
       "table.dataframe td, table.dataframe th {\n",
       "    margin: 0;\n",
       "    border: 1px solid white;\n",
       "    padding-left: 0.25em;\n",
       "    padding-right: 0.25em;\n",
       "}\n",
       "table.dataframe th:not(:empty) {\n",
       "    background-color: #fec;\n",
       "    text-align: left;\n",
       "    font-weight: normal;\n",
       "}\n",
       "table.dataframe tr:nth-child(2) th:empty {\n",
       "    border-left: none;\n",
       "    border-right: 1px dashed #888;\n",
       "}\n",
       "table.dataframe td {\n",
       "    border: 2px solid #ccf;\n",
       "    background-color: #f4f4ff;\n",
       "}\n",
       "h3 {\n",
       "    color: white;\n",
       "    background-color: black;\n",
       "    padding: 0.5em;\n",
       "}\n",
       "\n",
       ".CodeMirror {\n",
       "    font-family: 'Monaco for Powerline';\n",
       "}\n",
       "\n",
       "div.cell.code_cell {\n",
       "    font-family: 'Monaco for Powerline';\n",
       "}\n",
       "\n",
       "div.output_area pre {\n",
       "    font-family: 'Monaco for Powerline';\n",
       "}\n",
       "</style>"
      ],
      "text/plain": [
       "<IPython.core.display.HTML object>"
      ]
     },
     "execution_count": 164,
     "metadata": {},
     "output_type": "execute_result"
    }
   ],
   "source": [
    "from IPython.core.display import HTML\n",
    "css = open('style-table.css').read() + open('style-notebook.css').read()\n",
    "HTML('<style>{}</style>'.format(css))"
   ]
  },
  {
   "cell_type": "code",
   "execution_count": 165,
   "metadata": {
    "collapsed": false
   },
   "outputs": [
    {
     "name": "stdout",
     "output_type": "stream",
     "text": [
      "Populating the interactive namespace from numpy and matplotlib\n"
     ]
    },
    {
     "name": "stderr",
     "output_type": "stream",
     "text": [
      "WARNING: pylab import has clobbered these variables: ['colors', 'datetime']\n",
      "`%matplotlib` prevents importing * from pylab and numpy\n"
     ]
    }
   ],
   "source": [
    "%pylab inline"
   ]
  },
  {
   "cell_type": "code",
   "execution_count": 166,
   "metadata": {
    "collapsed": false
   },
   "outputs": [],
   "source": [
    "import sqlite3\n",
    "import pandas as pd"
   ]
  },
  {
   "cell_type": "code",
   "execution_count": 167,
   "metadata": {
    "collapsed": true
   },
   "outputs": [],
   "source": [
    "DB_LOCATION = 'lastmile.db'"
   ]
  },
  {
   "cell_type": "code",
   "execution_count": 168,
   "metadata": {
    "collapsed": true
   },
   "outputs": [],
   "source": [
    "METADATA_SNAPSHOT = 'metadata_snapshot'\n",
    "METADATA_SNAPSHOT_EXTENSIONS = 'metadata_snapshot_extensions'\n",
    "SK_ASN = 'sk_asn'\n",
    "SK_ONE_OFF_EXTENSIONS = 'sk_one_off_extensions'\n",
    "SK_LATENCIES_AGG = 'sk_latencies_agg'\n",
    "UNIT_REPORT = 'unit_report'"
   ]
  },
  {
   "cell_type": "code",
   "execution_count": 169,
   "metadata": {
    "collapsed": false
   },
   "outputs": [],
   "source": [
    "con = sqlite3.connect(DB_LOCATION)"
   ]
  },
  {
   "cell_type": "code",
   "execution_count": 170,
   "metadata": {
    "collapsed": false
   },
   "outputs": [],
   "source": [
    "query_sk = '''SELECT      agg.probeid\n",
    "                        , agg.timestamp\n",
    "--                      , unit.latitude || ';' || unit.longitude as latlon\n",
    "                        , s.asn\n",
    "                        , meta.product\n",
    "                        , s.asn_holder_name\n",
    "                        , s.asn_access_type                \n",
    "                        , ext.access_type_technology\n",
    "                        , agg.h1_avg || ';' || agg.h2_avg as h1h2\n",
    "\n",
    "               FROM   %s                             as  agg\n",
    "                    , %s                             as  api\n",
    "                    , %s                             as  s\n",
    "                    , %s                             as  meta\n",
    "                    , %s                             as  ext\n",
    "--                  , %s                             as  unit\n",
    "\n",
    "               WHERE     agg.probeid                  =  api.probeid\n",
    "               AND       agg.probeid                  =  ext.probeid\n",
    "               AND       api.asn                      =  s.asn\n",
    "               AND       agg.probeid                  =  meta.id\n",
    "--             AND       agg.probeid                  =  unit.unit_id\n",
    "               \n",
    "\n",
    "               AND       ext.if_residential           =  1\n",
    "               AND       agg.h1_avg                   <>   0\n",
    "               AND       agg.h2_avg                   <>   0\n",
    "\n",
    "               \n",
    "            '''%(  SK_LATENCIES_AGG\n",
    "                 , METADATA_SNAPSHOT_EXTENSIONS\n",
    "                 , SK_ASN\n",
    "                 , METADATA_SNAPSHOT\n",
    "                 , SK_ONE_OFF_EXTENSIONS\n",
    "                 , UNIT_REPORT\n",
    "                )\n",
    "\n",
    "df_sk = pd.read_sql(query_sk, con)"
   ]
  },
  {
   "cell_type": "code",
   "execution_count": 171,
   "metadata": {
    "collapsed": false
   },
   "outputs": [
    {
     "data": {
      "text/plain": [
       "probeid                   435841\n",
       "timestamp                 435841\n",
       "asn                       435841\n",
       "product                   435841\n",
       "asn_holder_name           435841\n",
       "asn_access_type           415903\n",
       "access_type_technology    102512\n",
       "h1h2                      435841\n",
       "dtype: int64"
      ]
     },
     "execution_count": 171,
     "metadata": {},
     "output_type": "execute_result"
    }
   ],
   "source": [
    "df_sk.count()"
   ]
  },
  {
   "cell_type": "code",
   "execution_count": 172,
   "metadata": {
    "collapsed": false
   },
   "outputs": [
    {
     "data": {
      "text/html": [
       "<div>\n",
       "<table border=\"1\" class=\"dataframe\">\n",
       "  <thead>\n",
       "    <tr style=\"text-align: right;\">\n",
       "      <th></th>\n",
       "      <th>probeid</th>\n",
       "      <th>timestamp</th>\n",
       "      <th>asn</th>\n",
       "      <th>product</th>\n",
       "      <th>asn_holder_name</th>\n",
       "      <th>asn_access_type</th>\n",
       "      <th>access_type_technology</th>\n",
       "      <th>h1h2</th>\n",
       "    </tr>\n",
       "  </thead>\n",
       "  <tbody>\n",
       "    <tr>\n",
       "      <th>0</th>\n",
       "      <td>14905</td>\n",
       "      <td>2014-07-28 00:36:14</td>\n",
       "      <td>2856</td>\n",
       "      <td>40</td>\n",
       "      <td>BT-UK-AS BT Public Internet Service,GB</td>\n",
       "      <td>DSL</td>\n",
       "      <td>None</td>\n",
       "      <td>0.794;7.423</td>\n",
       "    </tr>\n",
       "    <tr>\n",
       "      <th>1</th>\n",
       "      <td>14905</td>\n",
       "      <td>2014-07-28 00:36:18</td>\n",
       "      <td>2856</td>\n",
       "      <td>40</td>\n",
       "      <td>BT-UK-AS BT Public Internet Service,GB</td>\n",
       "      <td>DSL</td>\n",
       "      <td>None</td>\n",
       "      <td>0.787;7.41</td>\n",
       "    </tr>\n",
       "    <tr>\n",
       "      <th>2</th>\n",
       "      <td>14905</td>\n",
       "      <td>2014-07-28 12:36:52</td>\n",
       "      <td>2856</td>\n",
       "      <td>40</td>\n",
       "      <td>BT-UK-AS BT Public Internet Service,GB</td>\n",
       "      <td>DSL</td>\n",
       "      <td>None</td>\n",
       "      <td>0.786;7.687</td>\n",
       "    </tr>\n",
       "    <tr>\n",
       "      <th>3</th>\n",
       "      <td>14905</td>\n",
       "      <td>2014-07-28 12:36:56</td>\n",
       "      <td>2856</td>\n",
       "      <td>40</td>\n",
       "      <td>BT-UK-AS BT Public Internet Service,GB</td>\n",
       "      <td>DSL</td>\n",
       "      <td>None</td>\n",
       "      <td>0.808;7.539</td>\n",
       "    </tr>\n",
       "    <tr>\n",
       "      <th>4</th>\n",
       "      <td>14905</td>\n",
       "      <td>2014-07-28 16:36:10</td>\n",
       "      <td>2856</td>\n",
       "      <td>40</td>\n",
       "      <td>BT-UK-AS BT Public Internet Service,GB</td>\n",
       "      <td>DSL</td>\n",
       "      <td>None</td>\n",
       "      <td>0.813;7.576</td>\n",
       "    </tr>\n",
       "  </tbody>\n",
       "</table>\n",
       "</div>"
      ],
      "text/plain": [
       "   probeid            timestamp   asn product  \\\n",
       "0    14905  2014-07-28 00:36:14  2856      40   \n",
       "1    14905  2014-07-28 00:36:18  2856      40   \n",
       "2    14905  2014-07-28 12:36:52  2856      40   \n",
       "3    14905  2014-07-28 12:36:56  2856      40   \n",
       "4    14905  2014-07-28 16:36:10  2856      40   \n",
       "\n",
       "                          asn_holder_name asn_access_type  \\\n",
       "0  BT-UK-AS BT Public Internet Service,GB             DSL   \n",
       "1  BT-UK-AS BT Public Internet Service,GB             DSL   \n",
       "2  BT-UK-AS BT Public Internet Service,GB             DSL   \n",
       "3  BT-UK-AS BT Public Internet Service,GB             DSL   \n",
       "4  BT-UK-AS BT Public Internet Service,GB             DSL   \n",
       "\n",
       "  access_type_technology         h1h2  \n",
       "0                   None  0.794;7.423  \n",
       "1                   None   0.787;7.41  \n",
       "2                   None  0.786;7.687  \n",
       "3                   None  0.808;7.539  \n",
       "4                   None  0.813;7.576  "
      ]
     },
     "execution_count": 172,
     "metadata": {},
     "output_type": "execute_result"
    }
   ],
   "source": [
    "df_sk.head()"
   ]
  },
  {
   "cell_type": "code",
   "execution_count": 173,
   "metadata": {
    "collapsed": true
   },
   "outputs": [],
   "source": [
    "df_sk = df_sk.dropna(subset = ['h1h2'])"
   ]
  },
  {
   "cell_type": "code",
   "execution_count": 174,
   "metadata": {
    "collapsed": false
   },
   "outputs": [
    {
     "data": {
      "text/plain": [
       "probeid                   435841\n",
       "timestamp                 435841\n",
       "asn                       435841\n",
       "product                   435841\n",
       "asn_holder_name           435841\n",
       "asn_access_type           415903\n",
       "access_type_technology    102512\n",
       "h1h2                      435841\n",
       "dtype: int64"
      ]
     },
     "execution_count": 174,
     "metadata": {},
     "output_type": "execute_result"
    }
   ],
   "source": [
    "df_sk.count()"
   ]
  },
  {
   "cell_type": "code",
   "execution_count": 175,
   "metadata": {
    "collapsed": false
   },
   "outputs": [
    {
     "data": {
      "text/html": [
       "<div>\n",
       "<table border=\"1\" class=\"dataframe\">\n",
       "  <thead>\n",
       "    <tr style=\"text-align: right;\">\n",
       "      <th></th>\n",
       "      <th>probeid</th>\n",
       "      <th>timestamp</th>\n",
       "      <th>asn</th>\n",
       "      <th>product</th>\n",
       "      <th>asn_holder_name</th>\n",
       "      <th>asn_access_type</th>\n",
       "      <th>access_type_technology</th>\n",
       "      <th>h1h2</th>\n",
       "    </tr>\n",
       "  </thead>\n",
       "  <tbody>\n",
       "    <tr>\n",
       "      <th>0</th>\n",
       "      <td>14905</td>\n",
       "      <td>2014-07-28 00:36:14</td>\n",
       "      <td>2856</td>\n",
       "      <td>40</td>\n",
       "      <td>BT-UK-AS BT Public Internet Service,GB</td>\n",
       "      <td>DSL</td>\n",
       "      <td>None</td>\n",
       "      <td>0.794;7.423</td>\n",
       "    </tr>\n",
       "    <tr>\n",
       "      <th>1</th>\n",
       "      <td>14905</td>\n",
       "      <td>2014-07-28 00:36:18</td>\n",
       "      <td>2856</td>\n",
       "      <td>40</td>\n",
       "      <td>BT-UK-AS BT Public Internet Service,GB</td>\n",
       "      <td>DSL</td>\n",
       "      <td>None</td>\n",
       "      <td>0.787;7.41</td>\n",
       "    </tr>\n",
       "    <tr>\n",
       "      <th>2</th>\n",
       "      <td>14905</td>\n",
       "      <td>2014-07-28 12:36:52</td>\n",
       "      <td>2856</td>\n",
       "      <td>40</td>\n",
       "      <td>BT-UK-AS BT Public Internet Service,GB</td>\n",
       "      <td>DSL</td>\n",
       "      <td>None</td>\n",
       "      <td>0.786;7.687</td>\n",
       "    </tr>\n",
       "    <tr>\n",
       "      <th>3</th>\n",
       "      <td>14905</td>\n",
       "      <td>2014-07-28 12:36:56</td>\n",
       "      <td>2856</td>\n",
       "      <td>40</td>\n",
       "      <td>BT-UK-AS BT Public Internet Service,GB</td>\n",
       "      <td>DSL</td>\n",
       "      <td>None</td>\n",
       "      <td>0.808;7.539</td>\n",
       "    </tr>\n",
       "    <tr>\n",
       "      <th>4</th>\n",
       "      <td>14905</td>\n",
       "      <td>2014-07-28 16:36:10</td>\n",
       "      <td>2856</td>\n",
       "      <td>40</td>\n",
       "      <td>BT-UK-AS BT Public Internet Service,GB</td>\n",
       "      <td>DSL</td>\n",
       "      <td>None</td>\n",
       "      <td>0.813;7.576</td>\n",
       "    </tr>\n",
       "  </tbody>\n",
       "</table>\n",
       "</div>"
      ],
      "text/plain": [
       "   probeid            timestamp   asn product  \\\n",
       "0    14905  2014-07-28 00:36:14  2856      40   \n",
       "1    14905  2014-07-28 00:36:18  2856      40   \n",
       "2    14905  2014-07-28 12:36:52  2856      40   \n",
       "3    14905  2014-07-28 12:36:56  2856      40   \n",
       "4    14905  2014-07-28 16:36:10  2856      40   \n",
       "\n",
       "                          asn_holder_name asn_access_type  \\\n",
       "0  BT-UK-AS BT Public Internet Service,GB             DSL   \n",
       "1  BT-UK-AS BT Public Internet Service,GB             DSL   \n",
       "2  BT-UK-AS BT Public Internet Service,GB             DSL   \n",
       "3  BT-UK-AS BT Public Internet Service,GB             DSL   \n",
       "4  BT-UK-AS BT Public Internet Service,GB             DSL   \n",
       "\n",
       "  access_type_technology         h1h2  \n",
       "0                   None  0.794;7.423  \n",
       "1                   None   0.787;7.41  \n",
       "2                   None  0.786;7.687  \n",
       "3                   None  0.808;7.539  \n",
       "4                   None  0.813;7.576  "
      ]
     },
     "execution_count": 175,
     "metadata": {},
     "output_type": "execute_result"
    }
   ],
   "source": [
    "df_sk.head()"
   ]
  },
  {
   "cell_type": "code",
   "execution_count": 176,
   "metadata": {
    "collapsed": false
   },
   "outputs": [],
   "source": [
    "def calculate_lastmile_latency(h1h2):\n",
    "    try: h1,h2 = h1h2.split(';')\n",
    "    except Exception as e: print(e, type(e), h1h2); return None\n",
    "    \n",
    "    try: lastmile = float(h2) - float(h1)\n",
    "    except Exception as e: print(e, type(e), h1, h2); return None\n",
    "    \n",
    "    return lastmile"
   ]
  },
  {
   "cell_type": "code",
   "execution_count": 177,
   "metadata": {
    "collapsed": false
   },
   "outputs": [],
   "source": [
    "df_sk['lastmile'] = df_sk['h1h2'].apply(calculate_lastmile_latency)"
   ]
  },
  {
   "cell_type": "code",
   "execution_count": 178,
   "metadata": {
    "collapsed": false
   },
   "outputs": [
    {
     "data": {
      "text/html": [
       "<div>\n",
       "<table border=\"1\" class=\"dataframe\">\n",
       "  <thead>\n",
       "    <tr style=\"text-align: right;\">\n",
       "      <th></th>\n",
       "      <th>probeid</th>\n",
       "      <th>timestamp</th>\n",
       "      <th>asn</th>\n",
       "      <th>product</th>\n",
       "      <th>asn_holder_name</th>\n",
       "      <th>asn_access_type</th>\n",
       "      <th>access_type_technology</th>\n",
       "      <th>h1h2</th>\n",
       "      <th>lastmile</th>\n",
       "    </tr>\n",
       "  </thead>\n",
       "  <tbody>\n",
       "    <tr>\n",
       "      <th>0</th>\n",
       "      <td>14905</td>\n",
       "      <td>2014-07-28 00:36:14</td>\n",
       "      <td>2856</td>\n",
       "      <td>40</td>\n",
       "      <td>BT-UK-AS BT Public Internet Service,GB</td>\n",
       "      <td>DSL</td>\n",
       "      <td>None</td>\n",
       "      <td>0.794;7.423</td>\n",
       "      <td>6.629</td>\n",
       "    </tr>\n",
       "    <tr>\n",
       "      <th>1</th>\n",
       "      <td>14905</td>\n",
       "      <td>2014-07-28 00:36:18</td>\n",
       "      <td>2856</td>\n",
       "      <td>40</td>\n",
       "      <td>BT-UK-AS BT Public Internet Service,GB</td>\n",
       "      <td>DSL</td>\n",
       "      <td>None</td>\n",
       "      <td>0.787;7.41</td>\n",
       "      <td>6.623</td>\n",
       "    </tr>\n",
       "    <tr>\n",
       "      <th>2</th>\n",
       "      <td>14905</td>\n",
       "      <td>2014-07-28 12:36:52</td>\n",
       "      <td>2856</td>\n",
       "      <td>40</td>\n",
       "      <td>BT-UK-AS BT Public Internet Service,GB</td>\n",
       "      <td>DSL</td>\n",
       "      <td>None</td>\n",
       "      <td>0.786;7.687</td>\n",
       "      <td>6.901</td>\n",
       "    </tr>\n",
       "    <tr>\n",
       "      <th>3</th>\n",
       "      <td>14905</td>\n",
       "      <td>2014-07-28 12:36:56</td>\n",
       "      <td>2856</td>\n",
       "      <td>40</td>\n",
       "      <td>BT-UK-AS BT Public Internet Service,GB</td>\n",
       "      <td>DSL</td>\n",
       "      <td>None</td>\n",
       "      <td>0.808;7.539</td>\n",
       "      <td>6.731</td>\n",
       "    </tr>\n",
       "    <tr>\n",
       "      <th>4</th>\n",
       "      <td>14905</td>\n",
       "      <td>2014-07-28 16:36:10</td>\n",
       "      <td>2856</td>\n",
       "      <td>40</td>\n",
       "      <td>BT-UK-AS BT Public Internet Service,GB</td>\n",
       "      <td>DSL</td>\n",
       "      <td>None</td>\n",
       "      <td>0.813;7.576</td>\n",
       "      <td>6.763</td>\n",
       "    </tr>\n",
       "  </tbody>\n",
       "</table>\n",
       "</div>"
      ],
      "text/plain": [
       "   probeid            timestamp   asn product  \\\n",
       "0    14905  2014-07-28 00:36:14  2856      40   \n",
       "1    14905  2014-07-28 00:36:18  2856      40   \n",
       "2    14905  2014-07-28 12:36:52  2856      40   \n",
       "3    14905  2014-07-28 12:36:56  2856      40   \n",
       "4    14905  2014-07-28 16:36:10  2856      40   \n",
       "\n",
       "                          asn_holder_name asn_access_type  \\\n",
       "0  BT-UK-AS BT Public Internet Service,GB             DSL   \n",
       "1  BT-UK-AS BT Public Internet Service,GB             DSL   \n",
       "2  BT-UK-AS BT Public Internet Service,GB             DSL   \n",
       "3  BT-UK-AS BT Public Internet Service,GB             DSL   \n",
       "4  BT-UK-AS BT Public Internet Service,GB             DSL   \n",
       "\n",
       "  access_type_technology         h1h2  lastmile  \n",
       "0                   None  0.794;7.423     6.629  \n",
       "1                   None   0.787;7.41     6.623  \n",
       "2                   None  0.786;7.687     6.901  \n",
       "3                   None  0.808;7.539     6.731  \n",
       "4                   None  0.813;7.576     6.763  "
      ]
     },
     "execution_count": 178,
     "metadata": {},
     "output_type": "execute_result"
    }
   ],
   "source": [
    "df_sk.head()"
   ]
  },
  {
   "cell_type": "code",
   "execution_count": 179,
   "metadata": {
    "collapsed": false
   },
   "outputs": [
    {
     "data": {
      "text/plain": [
       "probeid                   435841\n",
       "timestamp                 435841\n",
       "asn                       435841\n",
       "product                   435841\n",
       "asn_holder_name           435841\n",
       "asn_access_type           415903\n",
       "access_type_technology    102512\n",
       "h1h2                      435841\n",
       "lastmile                  435841\n",
       "dtype: int64"
      ]
     },
     "execution_count": 179,
     "metadata": {},
     "output_type": "execute_result"
    }
   ],
   "source": [
    "df_sk.count()"
   ]
  },
  {
   "cell_type": "code",
   "execution_count": 180,
   "metadata": {
    "collapsed": false
   },
   "outputs": [],
   "source": [
    "del df_sk['h1h2']"
   ]
  },
  {
   "cell_type": "code",
   "execution_count": 181,
   "metadata": {
    "collapsed": false
   },
   "outputs": [
    {
     "data": {
      "text/plain": [
       "probeid                   435841\n",
       "timestamp                 435841\n",
       "asn                       435841\n",
       "product                   435841\n",
       "asn_holder_name           435841\n",
       "asn_access_type           415903\n",
       "access_type_technology    102512\n",
       "lastmile                  435841\n",
       "dtype: int64"
      ]
     },
     "execution_count": 181,
     "metadata": {},
     "output_type": "execute_result"
    }
   ],
   "source": [
    "df_sk.count()"
   ]
  },
  {
   "cell_type": "code",
   "execution_count": 182,
   "metadata": {
    "collapsed": false
   },
   "outputs": [
    {
     "data": {
      "text/html": [
       "<div>\n",
       "<table border=\"1\" class=\"dataframe\">\n",
       "  <thead>\n",
       "    <tr style=\"text-align: right;\">\n",
       "      <th></th>\n",
       "      <th>probeid</th>\n",
       "      <th>timestamp</th>\n",
       "      <th>asn</th>\n",
       "      <th>product</th>\n",
       "      <th>asn_holder_name</th>\n",
       "      <th>asn_access_type</th>\n",
       "      <th>access_type_technology</th>\n",
       "      <th>lastmile</th>\n",
       "    </tr>\n",
       "  </thead>\n",
       "  <tbody>\n",
       "    <tr>\n",
       "      <th>0</th>\n",
       "      <td>14905</td>\n",
       "      <td>2014-07-28 00:36:14</td>\n",
       "      <td>2856</td>\n",
       "      <td>40</td>\n",
       "      <td>BT-UK-AS BT Public Internet Service,GB</td>\n",
       "      <td>DSL</td>\n",
       "      <td>None</td>\n",
       "      <td>6.629</td>\n",
       "    </tr>\n",
       "    <tr>\n",
       "      <th>1</th>\n",
       "      <td>14905</td>\n",
       "      <td>2014-07-28 00:36:18</td>\n",
       "      <td>2856</td>\n",
       "      <td>40</td>\n",
       "      <td>BT-UK-AS BT Public Internet Service,GB</td>\n",
       "      <td>DSL</td>\n",
       "      <td>None</td>\n",
       "      <td>6.623</td>\n",
       "    </tr>\n",
       "    <tr>\n",
       "      <th>2</th>\n",
       "      <td>14905</td>\n",
       "      <td>2014-07-28 12:36:52</td>\n",
       "      <td>2856</td>\n",
       "      <td>40</td>\n",
       "      <td>BT-UK-AS BT Public Internet Service,GB</td>\n",
       "      <td>DSL</td>\n",
       "      <td>None</td>\n",
       "      <td>6.901</td>\n",
       "    </tr>\n",
       "    <tr>\n",
       "      <th>3</th>\n",
       "      <td>14905</td>\n",
       "      <td>2014-07-28 12:36:56</td>\n",
       "      <td>2856</td>\n",
       "      <td>40</td>\n",
       "      <td>BT-UK-AS BT Public Internet Service,GB</td>\n",
       "      <td>DSL</td>\n",
       "      <td>None</td>\n",
       "      <td>6.731</td>\n",
       "    </tr>\n",
       "    <tr>\n",
       "      <th>4</th>\n",
       "      <td>14905</td>\n",
       "      <td>2014-07-28 16:36:10</td>\n",
       "      <td>2856</td>\n",
       "      <td>40</td>\n",
       "      <td>BT-UK-AS BT Public Internet Service,GB</td>\n",
       "      <td>DSL</td>\n",
       "      <td>None</td>\n",
       "      <td>6.763</td>\n",
       "    </tr>\n",
       "  </tbody>\n",
       "</table>\n",
       "</div>"
      ],
      "text/plain": [
       "   probeid            timestamp   asn product  \\\n",
       "0    14905  2014-07-28 00:36:14  2856      40   \n",
       "1    14905  2014-07-28 00:36:18  2856      40   \n",
       "2    14905  2014-07-28 12:36:52  2856      40   \n",
       "3    14905  2014-07-28 12:36:56  2856      40   \n",
       "4    14905  2014-07-28 16:36:10  2856      40   \n",
       "\n",
       "                          asn_holder_name asn_access_type  \\\n",
       "0  BT-UK-AS BT Public Internet Service,GB             DSL   \n",
       "1  BT-UK-AS BT Public Internet Service,GB             DSL   \n",
       "2  BT-UK-AS BT Public Internet Service,GB             DSL   \n",
       "3  BT-UK-AS BT Public Internet Service,GB             DSL   \n",
       "4  BT-UK-AS BT Public Internet Service,GB             DSL   \n",
       "\n",
       "  access_type_technology  lastmile  \n",
       "0                   None     6.629  \n",
       "1                   None     6.623  \n",
       "2                   None     6.901  \n",
       "3                   None     6.731  \n",
       "4                   None     6.763  "
      ]
     },
     "execution_count": 182,
     "metadata": {},
     "output_type": "execute_result"
    }
   ],
   "source": [
    "df_sk.head()"
   ]
  },
  {
   "cell_type": "code",
   "execution_count": 183,
   "metadata": {
    "collapsed": true
   },
   "outputs": [],
   "source": [
    "df_sk_probes_access_type = df_sk[['probeid', 'asn_access_type', 'access_type_technology']].drop_duplicates()"
   ]
  },
  {
   "cell_type": "code",
   "execution_count": 184,
   "metadata": {
    "collapsed": false
   },
   "outputs": [],
   "source": [
    "d = []\n",
    "def myfunc(x):\n",
    "    count = 0\n",
    "    manual = x['asn_access_type']; rdns = x['access_type_technology']\n",
    "    \n",
    "    chosen = None\n",
    "    if manual is None and rdns is None: chosen = None\n",
    "    elif manual is None and rdns is not None: chosen = rdns\n",
    "    elif manual is not None and rdns is None: chosen = manual\n",
    "    elif manual == rdns: chosen = rdns\n",
    "    elif manual != rdns:\n",
    "        if rdns == 'FIBRE': chosen = rdns    \n",
    "        else: d.append(x['probeid']); \n",
    "    else: print('wow!')   \n",
    "        \n",
    "    return chosen"
   ]
  },
  {
   "cell_type": "code",
   "execution_count": 185,
   "metadata": {
    "collapsed": false
   },
   "outputs": [
    {
     "name": "stdout",
     "output_type": "stream",
     "text": [
      "{141472, 143020, 143084, 143508, 147324, 146332}\n"
     ]
    }
   ],
   "source": [
    "df_sk_probes_access_type['chosen'] = df_sk_probes_access_type.apply(myfunc, axis=1)\n",
    "print(set(d));"
   ]
  },
  {
   "cell_type": "code",
   "execution_count": 186,
   "metadata": {
    "collapsed": false
   },
   "outputs": [],
   "source": [
    "del df_sk['asn_access_type']; del df_sk_probes_access_type['asn_access_type']\n",
    "del df_sk['access_type_technology']; del df_sk_probes_access_type['access_type_technology']"
   ]
  },
  {
   "cell_type": "code",
   "execution_count": 187,
   "metadata": {
    "collapsed": false
   },
   "outputs": [
    {
     "data": {
      "text/plain": [
       "probeid    1245\n",
       "chosen     1189\n",
       "dtype: int64"
      ]
     },
     "execution_count": 187,
     "metadata": {},
     "output_type": "execute_result"
    }
   ],
   "source": [
    "df_sk_probes_access_type.count()"
   ]
  },
  {
   "cell_type": "code",
   "execution_count": 188,
   "metadata": {
    "collapsed": false
   },
   "outputs": [],
   "source": [
    "df_sk_probes_access_type = df_sk_probes_access_type.dropna()"
   ]
  },
  {
   "cell_type": "code",
   "execution_count": 189,
   "metadata": {
    "collapsed": false
   },
   "outputs": [
    {
     "data": {
      "text/plain": [
       "probeid    1189\n",
       "chosen     1189\n",
       "dtype: int64"
      ]
     },
     "execution_count": 189,
     "metadata": {},
     "output_type": "execute_result"
    }
   ],
   "source": [
    "df_sk_probes_access_type.count()"
   ]
  },
  {
   "cell_type": "code",
   "execution_count": 190,
   "metadata": {
    "collapsed": false
   },
   "outputs": [
    {
     "data": {
      "text/html": [
       "<div>\n",
       "<table border=\"1\" class=\"dataframe\">\n",
       "  <thead>\n",
       "    <tr style=\"text-align: right;\">\n",
       "      <th></th>\n",
       "      <th>probeid</th>\n",
       "      <th>chosen</th>\n",
       "    </tr>\n",
       "  </thead>\n",
       "  <tbody>\n",
       "    <tr>\n",
       "      <th>0</th>\n",
       "      <td>14905</td>\n",
       "      <td>DSL</td>\n",
       "    </tr>\n",
       "    <tr>\n",
       "      <th>418</th>\n",
       "      <td>14971</td>\n",
       "      <td>DSL</td>\n",
       "    </tr>\n",
       "    <tr>\n",
       "      <th>564</th>\n",
       "      <td>15015</td>\n",
       "      <td>DSL</td>\n",
       "    </tr>\n",
       "    <tr>\n",
       "      <th>978</th>\n",
       "      <td>15058</td>\n",
       "      <td>DSL</td>\n",
       "    </tr>\n",
       "    <tr>\n",
       "      <th>1304</th>\n",
       "      <td>15129</td>\n",
       "      <td>DSL</td>\n",
       "    </tr>\n",
       "  </tbody>\n",
       "</table>\n",
       "</div>"
      ],
      "text/plain": [
       "      probeid chosen\n",
       "0       14905    DSL\n",
       "418     14971    DSL\n",
       "564     15015    DSL\n",
       "978     15058    DSL\n",
       "1304    15129    DSL"
      ]
     },
     "execution_count": 190,
     "metadata": {},
     "output_type": "execute_result"
    }
   ],
   "source": [
    "df_sk_probes_access_type.head()"
   ]
  },
  {
   "cell_type": "code",
   "execution_count": 191,
   "metadata": {
    "collapsed": false
   },
   "outputs": [
    {
     "data": {
      "text/plain": [
       "probeid            435841\n",
       "timestamp          435841\n",
       "asn                435841\n",
       "product            435841\n",
       "asn_holder_name    435841\n",
       "lastmile           435841\n",
       "dtype: int64"
      ]
     },
     "execution_count": 191,
     "metadata": {},
     "output_type": "execute_result"
    }
   ],
   "source": [
    "df_sk.count()"
   ]
  },
  {
   "cell_type": "code",
   "execution_count": 192,
   "metadata": {
    "collapsed": false
   },
   "outputs": [
    {
     "data": {
      "text/html": [
       "<div>\n",
       "<table border=\"1\" class=\"dataframe\">\n",
       "  <thead>\n",
       "    <tr style=\"text-align: right;\">\n",
       "      <th></th>\n",
       "      <th>probeid</th>\n",
       "      <th>timestamp</th>\n",
       "      <th>asn</th>\n",
       "      <th>product</th>\n",
       "      <th>asn_holder_name</th>\n",
       "      <th>lastmile</th>\n",
       "    </tr>\n",
       "  </thead>\n",
       "  <tbody>\n",
       "    <tr>\n",
       "      <th>0</th>\n",
       "      <td>14905</td>\n",
       "      <td>2014-07-28 00:36:14</td>\n",
       "      <td>2856</td>\n",
       "      <td>40</td>\n",
       "      <td>BT-UK-AS BT Public Internet Service,GB</td>\n",
       "      <td>6.629</td>\n",
       "    </tr>\n",
       "    <tr>\n",
       "      <th>1</th>\n",
       "      <td>14905</td>\n",
       "      <td>2014-07-28 00:36:18</td>\n",
       "      <td>2856</td>\n",
       "      <td>40</td>\n",
       "      <td>BT-UK-AS BT Public Internet Service,GB</td>\n",
       "      <td>6.623</td>\n",
       "    </tr>\n",
       "    <tr>\n",
       "      <th>2</th>\n",
       "      <td>14905</td>\n",
       "      <td>2014-07-28 12:36:52</td>\n",
       "      <td>2856</td>\n",
       "      <td>40</td>\n",
       "      <td>BT-UK-AS BT Public Internet Service,GB</td>\n",
       "      <td>6.901</td>\n",
       "    </tr>\n",
       "    <tr>\n",
       "      <th>3</th>\n",
       "      <td>14905</td>\n",
       "      <td>2014-07-28 12:36:56</td>\n",
       "      <td>2856</td>\n",
       "      <td>40</td>\n",
       "      <td>BT-UK-AS BT Public Internet Service,GB</td>\n",
       "      <td>6.731</td>\n",
       "    </tr>\n",
       "    <tr>\n",
       "      <th>4</th>\n",
       "      <td>14905</td>\n",
       "      <td>2014-07-28 16:36:10</td>\n",
       "      <td>2856</td>\n",
       "      <td>40</td>\n",
       "      <td>BT-UK-AS BT Public Internet Service,GB</td>\n",
       "      <td>6.763</td>\n",
       "    </tr>\n",
       "  </tbody>\n",
       "</table>\n",
       "</div>"
      ],
      "text/plain": [
       "   probeid            timestamp   asn product  \\\n",
       "0    14905  2014-07-28 00:36:14  2856      40   \n",
       "1    14905  2014-07-28 00:36:18  2856      40   \n",
       "2    14905  2014-07-28 12:36:52  2856      40   \n",
       "3    14905  2014-07-28 12:36:56  2856      40   \n",
       "4    14905  2014-07-28 16:36:10  2856      40   \n",
       "\n",
       "                          asn_holder_name  lastmile  \n",
       "0  BT-UK-AS BT Public Internet Service,GB     6.629  \n",
       "1  BT-UK-AS BT Public Internet Service,GB     6.623  \n",
       "2  BT-UK-AS BT Public Internet Service,GB     6.901  \n",
       "3  BT-UK-AS BT Public Internet Service,GB     6.731  \n",
       "4  BT-UK-AS BT Public Internet Service,GB     6.763  "
      ]
     },
     "execution_count": 192,
     "metadata": {},
     "output_type": "execute_result"
    }
   ],
   "source": [
    "df_sk.head()"
   ]
  },
  {
   "cell_type": "code",
   "execution_count": 193,
   "metadata": {
    "collapsed": false
   },
   "outputs": [],
   "source": [
    "df_sk_probes_asn = df_sk[['probeid', 'asn', 'asn_holder_name']].drop_duplicates()"
   ]
  },
  {
   "cell_type": "code",
   "execution_count": 194,
   "metadata": {
    "collapsed": false
   },
   "outputs": [
    {
     "data": {
      "text/plain": [
       "probeid            1245\n",
       "asn                1245\n",
       "asn_holder_name    1245\n",
       "dtype: int64"
      ]
     },
     "execution_count": 194,
     "metadata": {},
     "output_type": "execute_result"
    }
   ],
   "source": [
    "df_sk_probes_asn.count()"
   ]
  },
  {
   "cell_type": "code",
   "execution_count": 195,
   "metadata": {
    "collapsed": false
   },
   "outputs": [
    {
     "data": {
      "text/html": [
       "<div>\n",
       "<table border=\"1\" class=\"dataframe\">\n",
       "  <thead>\n",
       "    <tr style=\"text-align: right;\">\n",
       "      <th></th>\n",
       "      <th>probeid</th>\n",
       "      <th>asn</th>\n",
       "      <th>asn_holder_name</th>\n",
       "    </tr>\n",
       "  </thead>\n",
       "  <tbody>\n",
       "    <tr>\n",
       "      <th>0</th>\n",
       "      <td>14905</td>\n",
       "      <td>2856</td>\n",
       "      <td>BT-UK-AS BT Public Internet Service,GB</td>\n",
       "    </tr>\n",
       "    <tr>\n",
       "      <th>418</th>\n",
       "      <td>14971</td>\n",
       "      <td>12576</td>\n",
       "      <td>ORANGE-PCS Orange Personal Communications Serv...</td>\n",
       "    </tr>\n",
       "    <tr>\n",
       "      <th>564</th>\n",
       "      <td>15015</td>\n",
       "      <td>2856</td>\n",
       "      <td>BT-UK-AS BT Public Internet Service,GB</td>\n",
       "    </tr>\n",
       "    <tr>\n",
       "      <th>978</th>\n",
       "      <td>15058</td>\n",
       "      <td>2856</td>\n",
       "      <td>BT-UK-AS BT Public Internet Service,GB</td>\n",
       "    </tr>\n",
       "    <tr>\n",
       "      <th>1304</th>\n",
       "      <td>15129</td>\n",
       "      <td>6871</td>\n",
       "      <td>PLUSNET PlusNet PLC,GB</td>\n",
       "    </tr>\n",
       "  </tbody>\n",
       "</table>\n",
       "</div>"
      ],
      "text/plain": [
       "      probeid    asn                                    asn_holder_name\n",
       "0       14905   2856             BT-UK-AS BT Public Internet Service,GB\n",
       "418     14971  12576  ORANGE-PCS Orange Personal Communications Serv...\n",
       "564     15015   2856             BT-UK-AS BT Public Internet Service,GB\n",
       "978     15058   2856             BT-UK-AS BT Public Internet Service,GB\n",
       "1304    15129   6871                             PLUSNET PlusNet PLC,GB"
      ]
     },
     "execution_count": 195,
     "metadata": {},
     "output_type": "execute_result"
    }
   ],
   "source": [
    "df_sk_probes_asn.head()"
   ]
  },
  {
   "cell_type": "code",
   "execution_count": 196,
   "metadata": {
    "collapsed": false
   },
   "outputs": [],
   "source": [
    "def create_pretty_node_names(asn, holder):\n",
    "    \n",
    "    d = {\n",
    "          'NTL'        : 'VIRGINMEDIA'\n",
    "        , 'AS3215'     : 'ORANGE'        \n",
    "        , 'VODANET'    : 'VODAFONE'\n",
    "        , 'PROXAD'     : 'FREE'\n",
    "        , 'ROADRUNNER' : 'TWC'\n",
    "        , 'TDDE'       : 'TELEFONICA-DE'\n",
    "        , 'TT'         : 'TALKTALK'\n",
    "        , 'AS20712'    : 'A&A'\n",
    "        \n",
    "    }\n",
    "    \n",
    "    firstname = holder.split('-')[0].split(' ')[0]\n",
    "    try: firstname = d[firstname]\n",
    "    except Exception as e: pass\n",
    "    \n",
    "    if 'AS' in str(asn): nodename = '%s (%s)'%(firstname, asn)\n",
    "    else: nodename = '%s (AS%s)'%(firstname, asn)\n",
    "    return nodename\n",
    "\n",
    "def myfunc(x):\n",
    "    asn = x['asn']; holder = x['asn_holder_name']; \n",
    "    nodename = create_pretty_node_names(asn, holder)\n",
    "    x['nodename'] = nodename\n",
    "    return x\n",
    "\n",
    "df_sk_probes_asn = df_sk_probes_asn.apply(myfunc, axis=1)"
   ]
  },
  {
   "cell_type": "code",
   "execution_count": 197,
   "metadata": {
    "collapsed": false
   },
   "outputs": [],
   "source": [
    "del df_sk_probes_asn['asn']; del df_sk['asn']\n",
    "del df_sk_probes_asn['asn_holder_name']; del df_sk['asn_holder_name']"
   ]
  },
  {
   "cell_type": "code",
   "execution_count": 198,
   "metadata": {
    "collapsed": false
   },
   "outputs": [
    {
     "data": {
      "text/plain": [
       "probeid     1245\n",
       "nodename    1245\n",
       "dtype: int64"
      ]
     },
     "execution_count": 198,
     "metadata": {},
     "output_type": "execute_result"
    }
   ],
   "source": [
    "df_sk_probes_asn.count()"
   ]
  },
  {
   "cell_type": "code",
   "execution_count": 199,
   "metadata": {
    "collapsed": false
   },
   "outputs": [
    {
     "data": {
      "text/html": [
       "<div>\n",
       "<table border=\"1\" class=\"dataframe\">\n",
       "  <thead>\n",
       "    <tr style=\"text-align: right;\">\n",
       "      <th></th>\n",
       "      <th>probeid</th>\n",
       "      <th>nodename</th>\n",
       "    </tr>\n",
       "  </thead>\n",
       "  <tbody>\n",
       "    <tr>\n",
       "      <th>0</th>\n",
       "      <td>14905</td>\n",
       "      <td>BT (AS2856)</td>\n",
       "    </tr>\n",
       "    <tr>\n",
       "      <th>418</th>\n",
       "      <td>14971</td>\n",
       "      <td>ORANGE (AS12576)</td>\n",
       "    </tr>\n",
       "    <tr>\n",
       "      <th>564</th>\n",
       "      <td>15015</td>\n",
       "      <td>BT (AS2856)</td>\n",
       "    </tr>\n",
       "    <tr>\n",
       "      <th>978</th>\n",
       "      <td>15058</td>\n",
       "      <td>BT (AS2856)</td>\n",
       "    </tr>\n",
       "    <tr>\n",
       "      <th>1304</th>\n",
       "      <td>15129</td>\n",
       "      <td>PLUSNET (AS6871)</td>\n",
       "    </tr>\n",
       "  </tbody>\n",
       "</table>\n",
       "</div>"
      ],
      "text/plain": [
       "      probeid          nodename\n",
       "0       14905       BT (AS2856)\n",
       "418     14971  ORANGE (AS12576)\n",
       "564     15015       BT (AS2856)\n",
       "978     15058       BT (AS2856)\n",
       "1304    15129  PLUSNET (AS6871)"
      ]
     },
     "execution_count": 199,
     "metadata": {},
     "output_type": "execute_result"
    }
   ],
   "source": [
    "df_sk_probes_asn.head()"
   ]
  },
  {
   "cell_type": "code",
   "execution_count": 200,
   "metadata": {
    "collapsed": false
   },
   "outputs": [
    {
     "data": {
      "text/plain": [
       "probeid      435841\n",
       "timestamp    435841\n",
       "product      435841\n",
       "lastmile     435841\n",
       "dtype: int64"
      ]
     },
     "execution_count": 200,
     "metadata": {},
     "output_type": "execute_result"
    }
   ],
   "source": [
    "df_sk.count()"
   ]
  },
  {
   "cell_type": "code",
   "execution_count": 201,
   "metadata": {
    "collapsed": false
   },
   "outputs": [],
   "source": [
    "df_sk = pd.merge(df_sk, df_sk_probes_asn, on='probeid', how='outer')\n",
    "df_sk = pd.merge(df_sk, df_sk_probes_access_type, on='probeid', how='outer')"
   ]
  },
  {
   "cell_type": "code",
   "execution_count": 202,
   "metadata": {
    "collapsed": false
   },
   "outputs": [
    {
     "data": {
      "text/plain": [
       "probeid      435841\n",
       "timestamp    435841\n",
       "product      435841\n",
       "lastmile     435841\n",
       "nodename     435841\n",
       "chosen       416973\n",
       "dtype: int64"
      ]
     },
     "execution_count": 202,
     "metadata": {},
     "output_type": "execute_result"
    }
   ],
   "source": [
    "df_sk.count()"
   ]
  },
  {
   "cell_type": "code",
   "execution_count": 203,
   "metadata": {
    "collapsed": false
   },
   "outputs": [
    {
     "data": {
      "text/html": [
       "<div>\n",
       "<table border=\"1\" class=\"dataframe\">\n",
       "  <thead>\n",
       "    <tr style=\"text-align: right;\">\n",
       "      <th></th>\n",
       "      <th>probeid</th>\n",
       "      <th>timestamp</th>\n",
       "      <th>product</th>\n",
       "      <th>lastmile</th>\n",
       "      <th>nodename</th>\n",
       "      <th>chosen</th>\n",
       "    </tr>\n",
       "  </thead>\n",
       "  <tbody>\n",
       "    <tr>\n",
       "      <th>0</th>\n",
       "      <td>14905</td>\n",
       "      <td>2014-07-28 00:36:14</td>\n",
       "      <td>40</td>\n",
       "      <td>6.629</td>\n",
       "      <td>BT (AS2856)</td>\n",
       "      <td>DSL</td>\n",
       "    </tr>\n",
       "    <tr>\n",
       "      <th>1</th>\n",
       "      <td>14905</td>\n",
       "      <td>2014-07-28 00:36:18</td>\n",
       "      <td>40</td>\n",
       "      <td>6.623</td>\n",
       "      <td>BT (AS2856)</td>\n",
       "      <td>DSL</td>\n",
       "    </tr>\n",
       "    <tr>\n",
       "      <th>2</th>\n",
       "      <td>14905</td>\n",
       "      <td>2014-07-28 12:36:52</td>\n",
       "      <td>40</td>\n",
       "      <td>6.901</td>\n",
       "      <td>BT (AS2856)</td>\n",
       "      <td>DSL</td>\n",
       "    </tr>\n",
       "    <tr>\n",
       "      <th>3</th>\n",
       "      <td>14905</td>\n",
       "      <td>2014-07-28 12:36:56</td>\n",
       "      <td>40</td>\n",
       "      <td>6.731</td>\n",
       "      <td>BT (AS2856)</td>\n",
       "      <td>DSL</td>\n",
       "    </tr>\n",
       "    <tr>\n",
       "      <th>4</th>\n",
       "      <td>14905</td>\n",
       "      <td>2014-07-28 16:36:10</td>\n",
       "      <td>40</td>\n",
       "      <td>6.763</td>\n",
       "      <td>BT (AS2856)</td>\n",
       "      <td>DSL</td>\n",
       "    </tr>\n",
       "  </tbody>\n",
       "</table>\n",
       "</div>"
      ],
      "text/plain": [
       "   probeid            timestamp product  lastmile     nodename chosen\n",
       "0    14905  2014-07-28 00:36:14      40     6.629  BT (AS2856)    DSL\n",
       "1    14905  2014-07-28 00:36:18      40     6.623  BT (AS2856)    DSL\n",
       "2    14905  2014-07-28 12:36:52      40     6.901  BT (AS2856)    DSL\n",
       "3    14905  2014-07-28 12:36:56      40     6.731  BT (AS2856)    DSL\n",
       "4    14905  2014-07-28 16:36:10      40     6.763  BT (AS2856)    DSL"
      ]
     },
     "execution_count": 203,
     "metadata": {},
     "output_type": "execute_result"
    }
   ],
   "source": [
    "df_sk.head()"
   ]
  },
  {
   "cell_type": "code",
   "execution_count": 204,
   "metadata": {
    "collapsed": false
   },
   "outputs": [],
   "source": [
    "df_sk = df_sk.dropna()"
   ]
  },
  {
   "cell_type": "code",
   "execution_count": 205,
   "metadata": {
    "collapsed": false
   },
   "outputs": [
    {
     "data": {
      "text/plain": [
       "probeid      416973\n",
       "timestamp    416973\n",
       "product      416973\n",
       "lastmile     416973\n",
       "nodename     416973\n",
       "chosen       416973\n",
       "dtype: int64"
      ]
     },
     "execution_count": 205,
     "metadata": {},
     "output_type": "execute_result"
    }
   ],
   "source": [
    "df_sk.count()"
   ]
  },
  {
   "cell_type": "code",
   "execution_count": 206,
   "metadata": {
    "collapsed": false
   },
   "outputs": [
    {
     "data": {
      "text/html": [
       "<div>\n",
       "<table border=\"1\" class=\"dataframe\">\n",
       "  <thead>\n",
       "    <tr style=\"text-align: right;\">\n",
       "      <th></th>\n",
       "      <th>probeid</th>\n",
       "      <th>timestamp</th>\n",
       "      <th>product</th>\n",
       "      <th>lastmile</th>\n",
       "      <th>nodename</th>\n",
       "      <th>chosen</th>\n",
       "    </tr>\n",
       "  </thead>\n",
       "  <tbody>\n",
       "    <tr>\n",
       "      <th>0</th>\n",
       "      <td>14905</td>\n",
       "      <td>2014-07-28 00:36:14</td>\n",
       "      <td>40</td>\n",
       "      <td>6.629</td>\n",
       "      <td>BT (AS2856)</td>\n",
       "      <td>DSL</td>\n",
       "    </tr>\n",
       "    <tr>\n",
       "      <th>1</th>\n",
       "      <td>14905</td>\n",
       "      <td>2014-07-28 00:36:18</td>\n",
       "      <td>40</td>\n",
       "      <td>6.623</td>\n",
       "      <td>BT (AS2856)</td>\n",
       "      <td>DSL</td>\n",
       "    </tr>\n",
       "    <tr>\n",
       "      <th>2</th>\n",
       "      <td>14905</td>\n",
       "      <td>2014-07-28 12:36:52</td>\n",
       "      <td>40</td>\n",
       "      <td>6.901</td>\n",
       "      <td>BT (AS2856)</td>\n",
       "      <td>DSL</td>\n",
       "    </tr>\n",
       "    <tr>\n",
       "      <th>3</th>\n",
       "      <td>14905</td>\n",
       "      <td>2014-07-28 12:36:56</td>\n",
       "      <td>40</td>\n",
       "      <td>6.731</td>\n",
       "      <td>BT (AS2856)</td>\n",
       "      <td>DSL</td>\n",
       "    </tr>\n",
       "    <tr>\n",
       "      <th>4</th>\n",
       "      <td>14905</td>\n",
       "      <td>2014-07-28 16:36:10</td>\n",
       "      <td>40</td>\n",
       "      <td>6.763</td>\n",
       "      <td>BT (AS2856)</td>\n",
       "      <td>DSL</td>\n",
       "    </tr>\n",
       "  </tbody>\n",
       "</table>\n",
       "</div>"
      ],
      "text/plain": [
       "   probeid            timestamp product  lastmile     nodename chosen\n",
       "0    14905  2014-07-28 00:36:14      40     6.629  BT (AS2856)    DSL\n",
       "1    14905  2014-07-28 00:36:18      40     6.623  BT (AS2856)    DSL\n",
       "2    14905  2014-07-28 12:36:52      40     6.901  BT (AS2856)    DSL\n",
       "3    14905  2014-07-28 12:36:56      40     6.731  BT (AS2856)    DSL\n",
       "4    14905  2014-07-28 16:36:10      40     6.763  BT (AS2856)    DSL"
      ]
     },
     "execution_count": 206,
     "metadata": {},
     "output_type": "execute_result"
    }
   ],
   "source": [
    "df_sk.head()"
   ]
  },
  {
   "cell_type": "code",
   "execution_count": 207,
   "metadata": {
    "collapsed": false
   },
   "outputs": [],
   "source": [
    "query_sk = '''SELECT      unit_id as 'probeid'\n",
    "                        , GROUP_CONCAT(unit.region) as cities\n",
    "  \n",
    "               FROM   %s                             as  unit\n",
    "                    , %s                             as  ext\n",
    "                    , %s                             as  agg \n",
    "\n",
    "               WHERE     agg.probeid                  =  ext.probeid\n",
    "               AND       ext.probeid                  =  unit.unit_id\n",
    "               AND       ext.if_residential           =  1\n",
    "               AND       agg.h1_avg                   <>   0\n",
    "               AND       agg.h2_avg                   <>   0\n",
    "               AND       unit.region                  <> ''\n",
    "\n",
    "               GROUP BY unit_id\n",
    "               \n",
    "            '''%(  UNIT_REPORT\n",
    "                 , SK_ONE_OFF_EXTENSIONS\n",
    "                 , SK_LATENCIES_AGG\n",
    "                )\n",
    "\n",
    "df_sk_geo = pd.read_sql(query_sk, con)"
   ]
  },
  {
   "cell_type": "code",
   "execution_count": 208,
   "metadata": {
    "collapsed": false
   },
   "outputs": [],
   "source": [
    "df_sk_geo = df_sk_geo.drop_duplicates()"
   ]
  },
  {
   "cell_type": "code",
   "execution_count": 209,
   "metadata": {
    "collapsed": false
   },
   "outputs": [
    {
     "data": {
      "text/plain": [
       "probeid    1064\n",
       "cities     1064\n",
       "dtype: int64"
      ]
     },
     "execution_count": 209,
     "metadata": {},
     "output_type": "execute_result"
    }
   ],
   "source": [
    "df_sk_geo.count()"
   ]
  },
  {
   "cell_type": "code",
   "execution_count": 210,
   "metadata": {
    "collapsed": false
   },
   "outputs": [],
   "source": [
    "def get_uniq_city(city):\n",
    "    if city is None: return None\n",
    "    else: return list(set(city.split(',')))[0] ## -- here I am getting the first city only\n",
    "    \n",
    "df_sk_geo['city'] = df_sk_geo['cities'].apply(get_uniq_city)"
   ]
  },
  {
   "cell_type": "code",
   "execution_count": 211,
   "metadata": {
    "collapsed": true
   },
   "outputs": [],
   "source": [
    "del df_sk_geo['cities']"
   ]
  },
  {
   "cell_type": "code",
   "execution_count": 212,
   "metadata": {
    "collapsed": false
   },
   "outputs": [
    {
     "data": {
      "text/html": [
       "<div>\n",
       "<table border=\"1\" class=\"dataframe\">\n",
       "  <thead>\n",
       "    <tr style=\"text-align: right;\">\n",
       "      <th></th>\n",
       "      <th>probeid</th>\n",
       "      <th>city</th>\n",
       "    </tr>\n",
       "  </thead>\n",
       "  <tbody>\n",
       "    <tr>\n",
       "      <th>0</th>\n",
       "      <td>14905</td>\n",
       "      <td>Midlothian</td>\n",
       "    </tr>\n",
       "    <tr>\n",
       "      <th>1</th>\n",
       "      <td>14971</td>\n",
       "      <td>Edinburgh</td>\n",
       "    </tr>\n",
       "    <tr>\n",
       "      <th>2</th>\n",
       "      <td>15015</td>\n",
       "      <td>Sheffield</td>\n",
       "    </tr>\n",
       "    <tr>\n",
       "      <th>3</th>\n",
       "      <td>15058</td>\n",
       "      <td>Lincolnshire</td>\n",
       "    </tr>\n",
       "    <tr>\n",
       "      <th>4</th>\n",
       "      <td>15163</td>\n",
       "      <td>Somerset</td>\n",
       "    </tr>\n",
       "  </tbody>\n",
       "</table>\n",
       "</div>"
      ],
      "text/plain": [
       "   probeid          city\n",
       "0    14905    Midlothian\n",
       "1    14971     Edinburgh\n",
       "2    15015     Sheffield\n",
       "3    15058  Lincolnshire\n",
       "4    15163      Somerset"
      ]
     },
     "execution_count": 212,
     "metadata": {},
     "output_type": "execute_result"
    }
   ],
   "source": [
    "df_sk_geo.head()"
   ]
  },
  {
   "cell_type": "code",
   "execution_count": 213,
   "metadata": {
    "collapsed": true
   },
   "outputs": [],
   "source": [
    "df_sk = pd.merge(df_sk, df_sk_geo, on='probeid', how='outer')"
   ]
  },
  {
   "cell_type": "code",
   "execution_count": 214,
   "metadata": {
    "collapsed": false
   },
   "outputs": [
    {
     "data": {
      "text/plain": [
       "probeid      417011\n",
       "timestamp    416973\n",
       "product      416973\n",
       "lastmile     416973\n",
       "nodename     416973\n",
       "chosen       416973\n",
       "city         359994\n",
       "dtype: int64"
      ]
     },
     "execution_count": 214,
     "metadata": {},
     "output_type": "execute_result"
    }
   ],
   "source": [
    "df_sk.count()"
   ]
  },
  {
   "cell_type": "code",
   "execution_count": 215,
   "metadata": {
    "collapsed": true
   },
   "outputs": [],
   "source": [
    "df_sk = df_sk.dropna()"
   ]
  },
  {
   "cell_type": "code",
   "execution_count": 216,
   "metadata": {
    "collapsed": false
   },
   "outputs": [
    {
     "data": {
      "text/plain": [
       "probeid      359956\n",
       "timestamp    359956\n",
       "product      359956\n",
       "lastmile     359956\n",
       "nodename     359956\n",
       "chosen       359956\n",
       "city         359956\n",
       "dtype: int64"
      ]
     },
     "execution_count": 216,
     "metadata": {},
     "output_type": "execute_result"
    }
   ],
   "source": [
    "df_sk.count()"
   ]
  },
  {
   "cell_type": "code",
   "execution_count": 217,
   "metadata": {
    "collapsed": false
   },
   "outputs": [
    {
     "data": {
      "text/html": [
       "<div>\n",
       "<table border=\"1\" class=\"dataframe\">\n",
       "  <thead>\n",
       "    <tr style=\"text-align: right;\">\n",
       "      <th></th>\n",
       "      <th>probeid</th>\n",
       "      <th>timestamp</th>\n",
       "      <th>product</th>\n",
       "      <th>lastmile</th>\n",
       "      <th>nodename</th>\n",
       "      <th>chosen</th>\n",
       "      <th>city</th>\n",
       "    </tr>\n",
       "  </thead>\n",
       "  <tbody>\n",
       "    <tr>\n",
       "      <th>0</th>\n",
       "      <td>14905</td>\n",
       "      <td>2014-07-28 00:36:14</td>\n",
       "      <td>40</td>\n",
       "      <td>6.629</td>\n",
       "      <td>BT (AS2856)</td>\n",
       "      <td>DSL</td>\n",
       "      <td>Midlothian</td>\n",
       "    </tr>\n",
       "    <tr>\n",
       "      <th>1</th>\n",
       "      <td>14905</td>\n",
       "      <td>2014-07-28 00:36:18</td>\n",
       "      <td>40</td>\n",
       "      <td>6.623</td>\n",
       "      <td>BT (AS2856)</td>\n",
       "      <td>DSL</td>\n",
       "      <td>Midlothian</td>\n",
       "    </tr>\n",
       "    <tr>\n",
       "      <th>2</th>\n",
       "      <td>14905</td>\n",
       "      <td>2014-07-28 12:36:52</td>\n",
       "      <td>40</td>\n",
       "      <td>6.901</td>\n",
       "      <td>BT (AS2856)</td>\n",
       "      <td>DSL</td>\n",
       "      <td>Midlothian</td>\n",
       "    </tr>\n",
       "    <tr>\n",
       "      <th>3</th>\n",
       "      <td>14905</td>\n",
       "      <td>2014-07-28 12:36:56</td>\n",
       "      <td>40</td>\n",
       "      <td>6.731</td>\n",
       "      <td>BT (AS2856)</td>\n",
       "      <td>DSL</td>\n",
       "      <td>Midlothian</td>\n",
       "    </tr>\n",
       "    <tr>\n",
       "      <th>4</th>\n",
       "      <td>14905</td>\n",
       "      <td>2014-07-28 16:36:10</td>\n",
       "      <td>40</td>\n",
       "      <td>6.763</td>\n",
       "      <td>BT (AS2856)</td>\n",
       "      <td>DSL</td>\n",
       "      <td>Midlothian</td>\n",
       "    </tr>\n",
       "  </tbody>\n",
       "</table>\n",
       "</div>"
      ],
      "text/plain": [
       "   probeid            timestamp product  lastmile     nodename chosen  \\\n",
       "0    14905  2014-07-28 00:36:14      40     6.629  BT (AS2856)    DSL   \n",
       "1    14905  2014-07-28 00:36:18      40     6.623  BT (AS2856)    DSL   \n",
       "2    14905  2014-07-28 12:36:52      40     6.901  BT (AS2856)    DSL   \n",
       "3    14905  2014-07-28 12:36:56      40     6.731  BT (AS2856)    DSL   \n",
       "4    14905  2014-07-28 16:36:10      40     6.763  BT (AS2856)    DSL   \n",
       "\n",
       "         city  \n",
       "0  Midlothian  \n",
       "1  Midlothian  \n",
       "2  Midlothian  \n",
       "3  Midlothian  \n",
       "4  Midlothian  "
      ]
     },
     "execution_count": 217,
     "metadata": {},
     "output_type": "execute_result"
    }
   ],
   "source": [
    "df_sk.head()"
   ]
  },
  {
   "cell_type": "code",
   "execution_count": 218,
   "metadata": {
    "collapsed": false
   },
   "outputs": [],
   "source": [
    "from datetime import datetime\n",
    "def timestamp_string_to_datetime(timestamp_str):\n",
    "    date_object = datetime.strptime(timestamp_str, '%Y-%m-%d %H:%M:%S')\n",
    "    return date_object\n",
    "\n",
    "df_sk['datetime'] = df_sk['timestamp'].apply(timestamp_string_to_datetime)"
   ]
  },
  {
   "cell_type": "code",
   "execution_count": 219,
   "metadata": {
    "collapsed": true
   },
   "outputs": [],
   "source": [
    "del df_sk['timestamp']"
   ]
  },
  {
   "cell_type": "code",
   "execution_count": 220,
   "metadata": {
    "collapsed": false
   },
   "outputs": [],
   "source": [
    "df_sk['hour'] = df_sk['datetime'].apply(lambda date: date.hour)"
   ]
  },
  {
   "cell_type": "code",
   "execution_count": 221,
   "metadata": {
    "collapsed": false
   },
   "outputs": [
    {
     "data": {
      "text/html": [
       "<div>\n",
       "<table border=\"1\" class=\"dataframe\">\n",
       "  <thead>\n",
       "    <tr style=\"text-align: right;\">\n",
       "      <th></th>\n",
       "      <th>probeid</th>\n",
       "      <th>product</th>\n",
       "      <th>lastmile</th>\n",
       "      <th>nodename</th>\n",
       "      <th>chosen</th>\n",
       "      <th>city</th>\n",
       "      <th>datetime</th>\n",
       "      <th>hour</th>\n",
       "    </tr>\n",
       "  </thead>\n",
       "  <tbody>\n",
       "    <tr>\n",
       "      <th>0</th>\n",
       "      <td>14905</td>\n",
       "      <td>40</td>\n",
       "      <td>6.629</td>\n",
       "      <td>BT (AS2856)</td>\n",
       "      <td>DSL</td>\n",
       "      <td>Midlothian</td>\n",
       "      <td>2014-07-28 00:36:14</td>\n",
       "      <td>0</td>\n",
       "    </tr>\n",
       "    <tr>\n",
       "      <th>1</th>\n",
       "      <td>14905</td>\n",
       "      <td>40</td>\n",
       "      <td>6.623</td>\n",
       "      <td>BT (AS2856)</td>\n",
       "      <td>DSL</td>\n",
       "      <td>Midlothian</td>\n",
       "      <td>2014-07-28 00:36:18</td>\n",
       "      <td>0</td>\n",
       "    </tr>\n",
       "    <tr>\n",
       "      <th>2</th>\n",
       "      <td>14905</td>\n",
       "      <td>40</td>\n",
       "      <td>6.901</td>\n",
       "      <td>BT (AS2856)</td>\n",
       "      <td>DSL</td>\n",
       "      <td>Midlothian</td>\n",
       "      <td>2014-07-28 12:36:52</td>\n",
       "      <td>12</td>\n",
       "    </tr>\n",
       "    <tr>\n",
       "      <th>3</th>\n",
       "      <td>14905</td>\n",
       "      <td>40</td>\n",
       "      <td>6.731</td>\n",
       "      <td>BT (AS2856)</td>\n",
       "      <td>DSL</td>\n",
       "      <td>Midlothian</td>\n",
       "      <td>2014-07-28 12:36:56</td>\n",
       "      <td>12</td>\n",
       "    </tr>\n",
       "    <tr>\n",
       "      <th>4</th>\n",
       "      <td>14905</td>\n",
       "      <td>40</td>\n",
       "      <td>6.763</td>\n",
       "      <td>BT (AS2856)</td>\n",
       "      <td>DSL</td>\n",
       "      <td>Midlothian</td>\n",
       "      <td>2014-07-28 16:36:10</td>\n",
       "      <td>16</td>\n",
       "    </tr>\n",
       "  </tbody>\n",
       "</table>\n",
       "</div>"
      ],
      "text/plain": [
       "   probeid product  lastmile     nodename chosen        city  \\\n",
       "0    14905      40     6.629  BT (AS2856)    DSL  Midlothian   \n",
       "1    14905      40     6.623  BT (AS2856)    DSL  Midlothian   \n",
       "2    14905      40     6.901  BT (AS2856)    DSL  Midlothian   \n",
       "3    14905      40     6.731  BT (AS2856)    DSL  Midlothian   \n",
       "4    14905      40     6.763  BT (AS2856)    DSL  Midlothian   \n",
       "\n",
       "             datetime  hour  \n",
       "0 2014-07-28 00:36:14     0  \n",
       "1 2014-07-28 00:36:18     0  \n",
       "2 2014-07-28 12:36:52    12  \n",
       "3 2014-07-28 12:36:56    12  \n",
       "4 2014-07-28 16:36:10    16  "
      ]
     },
     "execution_count": 221,
     "metadata": {},
     "output_type": "execute_result"
    }
   ],
   "source": [
    "df_sk.head()"
   ]
  },
  {
   "cell_type": "code",
   "execution_count": 222,
   "metadata": {
    "collapsed": true
   },
   "outputs": [],
   "source": [
    "df_sk['hour'] = df_sk['hour'].apply(lambda h: '%02dh'%h)"
   ]
  },
  {
   "cell_type": "code",
   "execution_count": 223,
   "metadata": {
    "collapsed": true
   },
   "outputs": [],
   "source": [
    "df_sk[['probeid']] = df_sk[['probeid']].astype(str)"
   ]
  },
  {
   "cell_type": "code",
   "execution_count": 224,
   "metadata": {
    "collapsed": false
   },
   "outputs": [],
   "source": [
    "df_sk_dsl   = df_sk[df_sk.chosen == 'DSL']\n",
    "df_sk_cable = df_sk[df_sk.chosen == 'CABLE']\n",
    "df_sk_fibre = df_sk[df_sk.chosen == 'FIBRE']"
   ]
  },
  {
   "cell_type": "code",
   "execution_count": 225,
   "metadata": {
    "collapsed": false
   },
   "outputs": [
    {
     "data": {
      "text/html": [
       "<div>\n",
       "<table border=\"1\" class=\"dataframe\">\n",
       "  <thead>\n",
       "    <tr style=\"text-align: right;\">\n",
       "      <th></th>\n",
       "      <th>probeid</th>\n",
       "      <th>product</th>\n",
       "      <th>lastmile</th>\n",
       "      <th>nodename</th>\n",
       "      <th>chosen</th>\n",
       "      <th>city</th>\n",
       "      <th>datetime</th>\n",
       "      <th>hour</th>\n",
       "    </tr>\n",
       "  </thead>\n",
       "  <tbody>\n",
       "    <tr>\n",
       "      <th>0</th>\n",
       "      <td>14905.0</td>\n",
       "      <td>40</td>\n",
       "      <td>6.629</td>\n",
       "      <td>BT (AS2856)</td>\n",
       "      <td>DSL</td>\n",
       "      <td>Midlothian</td>\n",
       "      <td>2014-07-28 00:36:14</td>\n",
       "      <td>00h</td>\n",
       "    </tr>\n",
       "    <tr>\n",
       "      <th>1</th>\n",
       "      <td>14905.0</td>\n",
       "      <td>40</td>\n",
       "      <td>6.623</td>\n",
       "      <td>BT (AS2856)</td>\n",
       "      <td>DSL</td>\n",
       "      <td>Midlothian</td>\n",
       "      <td>2014-07-28 00:36:18</td>\n",
       "      <td>00h</td>\n",
       "    </tr>\n",
       "    <tr>\n",
       "      <th>2</th>\n",
       "      <td>14905.0</td>\n",
       "      <td>40</td>\n",
       "      <td>6.901</td>\n",
       "      <td>BT (AS2856)</td>\n",
       "      <td>DSL</td>\n",
       "      <td>Midlothian</td>\n",
       "      <td>2014-07-28 12:36:52</td>\n",
       "      <td>12h</td>\n",
       "    </tr>\n",
       "    <tr>\n",
       "      <th>3</th>\n",
       "      <td>14905.0</td>\n",
       "      <td>40</td>\n",
       "      <td>6.731</td>\n",
       "      <td>BT (AS2856)</td>\n",
       "      <td>DSL</td>\n",
       "      <td>Midlothian</td>\n",
       "      <td>2014-07-28 12:36:56</td>\n",
       "      <td>12h</td>\n",
       "    </tr>\n",
       "    <tr>\n",
       "      <th>4</th>\n",
       "      <td>14905.0</td>\n",
       "      <td>40</td>\n",
       "      <td>6.763</td>\n",
       "      <td>BT (AS2856)</td>\n",
       "      <td>DSL</td>\n",
       "      <td>Midlothian</td>\n",
       "      <td>2014-07-28 16:36:10</td>\n",
       "      <td>16h</td>\n",
       "    </tr>\n",
       "  </tbody>\n",
       "</table>\n",
       "</div>"
      ],
      "text/plain": [
       "   probeid product  lastmile     nodename chosen        city  \\\n",
       "0  14905.0      40     6.629  BT (AS2856)    DSL  Midlothian   \n",
       "1  14905.0      40     6.623  BT (AS2856)    DSL  Midlothian   \n",
       "2  14905.0      40     6.901  BT (AS2856)    DSL  Midlothian   \n",
       "3  14905.0      40     6.731  BT (AS2856)    DSL  Midlothian   \n",
       "4  14905.0      40     6.763  BT (AS2856)    DSL  Midlothian   \n",
       "\n",
       "             datetime hour  \n",
       "0 2014-07-28 00:36:14  00h  \n",
       "1 2014-07-28 00:36:18  00h  \n",
       "2 2014-07-28 12:36:52  12h  \n",
       "3 2014-07-28 12:36:56  12h  \n",
       "4 2014-07-28 16:36:10  16h  "
      ]
     },
     "execution_count": 225,
     "metadata": {},
     "output_type": "execute_result"
    }
   ],
   "source": [
    "df_sk_dsl.head()"
   ]
  },
  {
   "cell_type": "code",
   "execution_count": 226,
   "metadata": {
    "collapsed": false
   },
   "outputs": [],
   "source": [
    "df_sk_dsl_hour_gby   = df_sk_dsl.groupby('hour')\n",
    "df_sk_cable_hour_gby = df_sk_cable.groupby('hour')\n",
    "sk_dsl_probes_by_hour   = ['%d'%len(set(v['probeid'].values)) for k, v in df_sk_dsl_hour_gby] \n",
    "sk_cable_probes_by_hour = ['%d'%len(set(v['probeid'].values)) for k, v in df_sk_cable_hour_gby] "
   ]
  },
  {
   "cell_type": "code",
   "execution_count": 227,
   "metadata": {
    "collapsed": true
   },
   "outputs": [],
   "source": [
    "def stop_plot_box(ax, chosen, count, probes_by_hour = [], platform = '-', savefig = True):\n",
    "    \n",
    "    ax2 = ax.twinx()\n",
    "    ax.set_title(\"\"); plt.suptitle(\"\")\n",
    "    ax2.set_ylim(ax.get_ylim())\n",
    "    ax2.set_yticks(ax.get_yticks())\n",
    "    ax2.set_yticklabels( probes_by_hour, fontsize = 22)\n",
    "    ax2.yaxis.set_label_position(\"right\")    \n",
    "    ax2.set_ylabel('[# Probes]', fontsize=22)\n",
    "   \n",
    "    xticks = [1, 2, 4, 8, 16, 32, 64]\n",
    "    ax.grid(False)\n",
    "    ax.set_xlim([1, 64])\n",
    "    ax.set_xscale('log', basex=2)\n",
    "    if chosen != 'CABLE': ax.set_ylabel('[%d probes]'%count, fontsize=22)\n",
    "    if chosen == 'CABLE': ax.set_ylabel('[%d]'%count, fontsize=22)        \n",
    "    ax.set_xlabel('Last-mile latency (ms)', fontsize=22)\n",
    "    ax.yaxis.set_label_position(\"left\")    \n",
    "    ax.set_ylabel('[35 days]', fontsize=22)    \n",
    "    plt.xticks(xticks, xticks)    \n",
    "    plt.suptitle('')\n",
    "    plt.title('%s (%s)'%(chosen, platform), fontsize=22, y=1.05)\n",
    "    if platform == 'RIPE Atlas' : platform = 'ra'\n",
    "    if platform == 'SamKnows'   : platform = 'sk'\n",
    "    if savefig: plt.savefig('%s-%s-lastmile-latency-hour-boxplot.pdf'%(platform, chosen), format='pdf', bbox_inches='tight')\n",
    "    return ax2"
   ]
  },
  {
   "cell_type": "code",
   "execution_count": 228,
   "metadata": {
    "collapsed": true
   },
   "outputs": [],
   "source": [
    "def start_plot_box(width=5, height=10):    \n",
    "    # ---- plt.style.use('ggplot')\n",
    "    fig = plt.figure(figsize=(width,height))\n",
    "    plt.rcParams['font.size'] = 22\n",
    "    ax = fig.add_subplot(111)\n",
    "    return ax"
   ]
  },
  {
   "cell_type": "code",
   "execution_count": 229,
   "metadata": {
    "collapsed": false
   },
   "outputs": [
    {
     "data": {
      "text/plain": [
       "833"
      ]
     },
     "execution_count": 229,
     "metadata": {},
     "output_type": "execute_result"
    }
   ],
   "source": [
    "len(set(df_sk_dsl['probeid'].values))"
   ]
  },
  {
   "cell_type": "code",
   "execution_count": 230,
   "metadata": {
    "collapsed": false
   },
   "outputs": [
    {
     "data": {
      "text/plain": [
       "<matplotlib.axes._subplots.AxesSubplot at 0x7f7233944390>"
      ]
     },
     "execution_count": 230,
     "metadata": {},
     "output_type": "execute_result"
    },
    {
     "data": {
      "image/png": "[encoded data removed]",
      "text/plain": [
       "<matplotlib.figure.Figure at 0x7f72338efcf8>"
      ]
     },
     "metadata": {},
     "output_type": "display_data"
    }
   ],
   "source": [
    "ax = start_plot_box(width = 4)\n",
    "\n",
    "a  = df_sk_dsl.boxplot (  column='lastmile'\n",
    "                        , by=['hour']\n",
    "                        , ax=ax\n",
    "                        , vert=False\n",
    "                       )\n",
    "\n",
    "stop_plot_box(a, chosen='DSL', count = 0, probes_by_hour = sk_dsl_probes_by_hour, platform = 'SamKnows')"
   ]
  },
  {
   "cell_type": "code",
   "execution_count": 232,
   "metadata": {
    "collapsed": true
   },
   "outputs": [],
   "source": [
    "df_sk_cable_gby_nodename = df_sk_cable.groupby('nodename')\n",
    "df_sk_dsl_gby_nodename   = df_sk_dsl.groupby('nodename')"
   ]
  },
  {
   "cell_type": "code",
   "execution_count": 233,
   "metadata": {
    "collapsed": true
   },
   "outputs": [],
   "source": [
    "def get_frac_probes_by_nodename_within_city(provider):\n",
    "\n",
    "    def num_probes(x):\n",
    "        probeids = \"%s\" % ','.join(x)\n",
    "        return len(set(probeids.split(',')))\n",
    "\n",
    "    provider_gby   = provider.groupby('city')\n",
    "    provider_city_probes  =   provider_gby['probeid'].agg([num_probes])\n",
    "    \n",
    "    provider  =   pd.merge(provider, provider_city_probes, left_on='city', right_index=True)    \n",
    "    provider_probes    =   len(set(provider['probeid'].values))\n",
    "    provider['frac_probes']   = provider['num_probes']   / provider_probes\n",
    "    return provider"
   ]
  },
  {
   "cell_type": "code",
   "execution_count": 235,
   "metadata": {
    "collapsed": true
   },
   "outputs": [],
   "source": [
    "RA_PROBE = 'ra_probe'\n",
    "RA_PROBE_API = 'ra_probe_api'\n",
    "RA_ASN = 'ra_asn'\n",
    "RA_ONE_OFF_EXTENSIONS = 'ra_one_off_extensions'\n",
    "RA_LATENCIES_AGG = 'ra_latencies_agg'"
   ]
  },
  {
   "cell_type": "code",
   "execution_count": 236,
   "metadata": {
    "collapsed": false
   },
   "outputs": [],
   "source": [
    "query_ra = '''SELECT      agg.probeid\n",
    "                        , agg.timestamp\n",
    "                        , api.latitude || ';' || api.longitude as latlon                        \n",
    "                        , s.asn\n",
    "                        , s.asn_holder_name\n",
    "                        , s.asn_access_type                \n",
    "                        , ext.access_type_technology\n",
    "                        , agg.h1_median || ';' || agg.h2_median as h1h2\n",
    "\n",
    "               FROM   %s                             as  agg\n",
    "                    , %s                             as  api\n",
    "                    , %s                             as  s               \n",
    "                    , %s                             as  hardware\n",
    "                    , %s                             as  ext\n",
    "\n",
    "               WHERE     agg.probeid                  =  api.probeid\n",
    "               AND       agg.probeid                  =  hardware.probeid\n",
    "               AND       agg.probeid                  =  ext.probeid\n",
    "               AND       api.asn_v4                   =  s.asn\n",
    "\n",
    "               AND       hardware.hardware_version    =  'v3'\n",
    "               AND       ext.if_residential           =  1\n",
    "\n",
    "               \n",
    "            '''%(  RA_LATENCIES_AGG\n",
    "                 , RA_PROBE_API\n",
    "                 , RA_ASN\n",
    "                 , RA_PROBE\n",
    "                 , RA_ONE_OFF_EXTENSIONS\n",
    "                )\n",
    "\n",
    "df_ra = pd.read_sql(query_ra, con)"
   ]
  },
  {
   "cell_type": "code",
   "execution_count": 237,
   "metadata": {
    "collapsed": false
   },
   "outputs": [
    {
     "data": {
      "text/plain": [
       "probeid                   134724\n",
       "timestamp                 134724\n",
       "latlon                    134724\n",
       "asn                       134724\n",
       "asn_holder_name           134724\n",
       "asn_access_type           134724\n",
       "access_type_technology     43963\n",
       "h1h2                      130006\n",
       "dtype: int64"
      ]
     },
     "execution_count": 237,
     "metadata": {},
     "output_type": "execute_result"
    }
   ],
   "source": [
    "df_ra.count()"
   ]
  },
  {
   "cell_type": "code",
   "execution_count": 238,
   "metadata": {
    "collapsed": false
   },
   "outputs": [
    {
     "data": {
      "text/html": [
       "<div>\n",
       "<table border=\"1\" class=\"dataframe\">\n",
       "  <thead>\n",
       "    <tr style=\"text-align: right;\">\n",
       "      <th></th>\n",
       "      <th>probeid</th>\n",
       "      <th>timestamp</th>\n",
       "      <th>latlon</th>\n",
       "      <th>asn</th>\n",
       "      <th>asn_holder_name</th>\n",
       "      <th>asn_access_type</th>\n",
       "      <th>access_type_technology</th>\n",
       "      <th>h1h2</th>\n",
       "    </tr>\n",
       "  </thead>\n",
       "  <tbody>\n",
       "    <tr>\n",
       "      <th>0</th>\n",
       "      <td>10006</td>\n",
       "      <td>1406548034</td>\n",
       "      <td>52.3805;4.9275</td>\n",
       "      <td>3265</td>\n",
       "      <td>XS4ALL-NL XS4ALL Internet BV,NL</td>\n",
       "      <td>DSL</td>\n",
       "      <td>DSL</td>\n",
       "      <td>0.429;20.49</td>\n",
       "    </tr>\n",
       "    <tr>\n",
       "      <th>1</th>\n",
       "      <td>10006</td>\n",
       "      <td>1406562432</td>\n",
       "      <td>52.3805;4.9275</td>\n",
       "      <td>3265</td>\n",
       "      <td>XS4ALL-NL XS4ALL Internet BV,NL</td>\n",
       "      <td>DSL</td>\n",
       "      <td>DSL</td>\n",
       "      <td>0.431;17.7</td>\n",
       "    </tr>\n",
       "    <tr>\n",
       "      <th>2</th>\n",
       "      <td>10006</td>\n",
       "      <td>1406576835</td>\n",
       "      <td>52.3805;4.9275</td>\n",
       "      <td>3265</td>\n",
       "      <td>XS4ALL-NL XS4ALL Internet BV,NL</td>\n",
       "      <td>DSL</td>\n",
       "      <td>DSL</td>\n",
       "      <td>0.438;17.776</td>\n",
       "    </tr>\n",
       "    <tr>\n",
       "      <th>3</th>\n",
       "      <td>10006</td>\n",
       "      <td>1406591230</td>\n",
       "      <td>52.3805;4.9275</td>\n",
       "      <td>3265</td>\n",
       "      <td>XS4ALL-NL XS4ALL Internet BV,NL</td>\n",
       "      <td>DSL</td>\n",
       "      <td>DSL</td>\n",
       "      <td>0.478;17.577</td>\n",
       "    </tr>\n",
       "    <tr>\n",
       "      <th>4</th>\n",
       "      <td>10006</td>\n",
       "      <td>1406605631</td>\n",
       "      <td>52.3805;4.9275</td>\n",
       "      <td>3265</td>\n",
       "      <td>XS4ALL-NL XS4ALL Internet BV,NL</td>\n",
       "      <td>DSL</td>\n",
       "      <td>DSL</td>\n",
       "      <td>0.422;17.526</td>\n",
       "    </tr>\n",
       "  </tbody>\n",
       "</table>\n",
       "</div>"
      ],
      "text/plain": [
       "   probeid   timestamp          latlon   asn                  asn_holder_name  \\\n",
       "0    10006  1406548034  52.3805;4.9275  3265  XS4ALL-NL XS4ALL Internet BV,NL   \n",
       "1    10006  1406562432  52.3805;4.9275  3265  XS4ALL-NL XS4ALL Internet BV,NL   \n",
       "2    10006  1406576835  52.3805;4.9275  3265  XS4ALL-NL XS4ALL Internet BV,NL   \n",
       "3    10006  1406591230  52.3805;4.9275  3265  XS4ALL-NL XS4ALL Internet BV,NL   \n",
       "4    10006  1406605631  52.3805;4.9275  3265  XS4ALL-NL XS4ALL Internet BV,NL   \n",
       "\n",
       "  asn_access_type access_type_technology          h1h2  \n",
       "0             DSL                    DSL   0.429;20.49  \n",
       "1             DSL                    DSL    0.431;17.7  \n",
       "2             DSL                    DSL  0.438;17.776  \n",
       "3             DSL                    DSL  0.478;17.577  \n",
       "4             DSL                    DSL  0.422;17.526  "
      ]
     },
     "execution_count": 238,
     "metadata": {},
     "output_type": "execute_result"
    }
   ],
   "source": [
    "df_ra.head()"
   ]
  },
  {
   "cell_type": "code",
   "execution_count": 239,
   "metadata": {
    "collapsed": false
   },
   "outputs": [],
   "source": [
    "df_ra = df_ra.dropna(subset = ['h1h2'])"
   ]
  },
  {
   "cell_type": "code",
   "execution_count": 240,
   "metadata": {
    "collapsed": false
   },
   "outputs": [
    {
     "data": {
      "text/plain": [
       "probeid                   130006\n",
       "timestamp                 130006\n",
       "latlon                    130006\n",
       "asn                       130006\n",
       "asn_holder_name           130006\n",
       "asn_access_type           130006\n",
       "access_type_technology     40625\n",
       "h1h2                      130006\n",
       "dtype: int64"
      ]
     },
     "execution_count": 240,
     "metadata": {},
     "output_type": "execute_result"
    }
   ],
   "source": [
    "df_ra.count()"
   ]
  },
  {
   "cell_type": "code",
   "execution_count": 241,
   "metadata": {
    "collapsed": true
   },
   "outputs": [],
   "source": [
    "def calculate_lastmile_latency(h1h2):\n",
    "    try: h1,h2 = h1h2.split(';')\n",
    "    except Exception as e: print(e, type(e), h1h2); return None\n",
    "    \n",
    "    try: lastmile = float(h2) - float(h1)\n",
    "    except Exception as e: print(e, type(e), h1, h2); return None\n",
    "    \n",
    "    return lastmile"
   ]
  },
  {
   "cell_type": "code",
   "execution_count": 242,
   "metadata": {
    "collapsed": true
   },
   "outputs": [],
   "source": [
    "df_ra['lastmile'] = df_ra['h1h2'].apply(calculate_lastmile_latency)"
   ]
  },
  {
   "cell_type": "code",
   "execution_count": 243,
   "metadata": {
    "collapsed": false
   },
   "outputs": [],
   "source": [
    "del df_ra['h1h2']"
   ]
  },
  {
   "cell_type": "code",
   "execution_count": 244,
   "metadata": {
    "collapsed": false
   },
   "outputs": [
    {
     "data": {
      "text/html": [
       "<div>\n",
       "<table border=\"1\" class=\"dataframe\">\n",
       "  <thead>\n",
       "    <tr style=\"text-align: right;\">\n",
       "      <th></th>\n",
       "      <th>probeid</th>\n",
       "      <th>timestamp</th>\n",
       "      <th>latlon</th>\n",
       "      <th>asn</th>\n",
       "      <th>asn_holder_name</th>\n",
       "      <th>asn_access_type</th>\n",
       "      <th>access_type_technology</th>\n",
       "      <th>lastmile</th>\n",
       "    </tr>\n",
       "  </thead>\n",
       "  <tbody>\n",
       "    <tr>\n",
       "      <th>0</th>\n",
       "      <td>10006</td>\n",
       "      <td>1406548034</td>\n",
       "      <td>52.3805;4.9275</td>\n",
       "      <td>3265</td>\n",
       "      <td>XS4ALL-NL XS4ALL Internet BV,NL</td>\n",
       "      <td>DSL</td>\n",
       "      <td>DSL</td>\n",
       "      <td>20.061</td>\n",
       "    </tr>\n",
       "    <tr>\n",
       "      <th>1</th>\n",
       "      <td>10006</td>\n",
       "      <td>1406562432</td>\n",
       "      <td>52.3805;4.9275</td>\n",
       "      <td>3265</td>\n",
       "      <td>XS4ALL-NL XS4ALL Internet BV,NL</td>\n",
       "      <td>DSL</td>\n",
       "      <td>DSL</td>\n",
       "      <td>17.269</td>\n",
       "    </tr>\n",
       "    <tr>\n",
       "      <th>2</th>\n",
       "      <td>10006</td>\n",
       "      <td>1406576835</td>\n",
       "      <td>52.3805;4.9275</td>\n",
       "      <td>3265</td>\n",
       "      <td>XS4ALL-NL XS4ALL Internet BV,NL</td>\n",
       "      <td>DSL</td>\n",
       "      <td>DSL</td>\n",
       "      <td>17.338</td>\n",
       "    </tr>\n",
       "    <tr>\n",
       "      <th>3</th>\n",
       "      <td>10006</td>\n",
       "      <td>1406591230</td>\n",
       "      <td>52.3805;4.9275</td>\n",
       "      <td>3265</td>\n",
       "      <td>XS4ALL-NL XS4ALL Internet BV,NL</td>\n",
       "      <td>DSL</td>\n",
       "      <td>DSL</td>\n",
       "      <td>17.099</td>\n",
       "    </tr>\n",
       "    <tr>\n",
       "      <th>4</th>\n",
       "      <td>10006</td>\n",
       "      <td>1406605631</td>\n",
       "      <td>52.3805;4.9275</td>\n",
       "      <td>3265</td>\n",
       "      <td>XS4ALL-NL XS4ALL Internet BV,NL</td>\n",
       "      <td>DSL</td>\n",
       "      <td>DSL</td>\n",
       "      <td>17.104</td>\n",
       "    </tr>\n",
       "  </tbody>\n",
       "</table>\n",
       "</div>"
      ],
      "text/plain": [
       "   probeid   timestamp          latlon   asn                  asn_holder_name  \\\n",
       "0    10006  1406548034  52.3805;4.9275  3265  XS4ALL-NL XS4ALL Internet BV,NL   \n",
       "1    10006  1406562432  52.3805;4.9275  3265  XS4ALL-NL XS4ALL Internet BV,NL   \n",
       "2    10006  1406576835  52.3805;4.9275  3265  XS4ALL-NL XS4ALL Internet BV,NL   \n",
       "3    10006  1406591230  52.3805;4.9275  3265  XS4ALL-NL XS4ALL Internet BV,NL   \n",
       "4    10006  1406605631  52.3805;4.9275  3265  XS4ALL-NL XS4ALL Internet BV,NL   \n",
       "\n",
       "  asn_access_type access_type_technology  lastmile  \n",
       "0             DSL                    DSL    20.061  \n",
       "1             DSL                    DSL    17.269  \n",
       "2             DSL                    DSL    17.338  \n",
       "3             DSL                    DSL    17.099  \n",
       "4             DSL                    DSL    17.104  "
      ]
     },
     "execution_count": 244,
     "metadata": {},
     "output_type": "execute_result"
    }
   ],
   "source": [
    "df_ra.head()"
   ]
  },
  {
   "cell_type": "code",
   "execution_count": 245,
   "metadata": {
    "collapsed": false
   },
   "outputs": [
    {
     "data": {
      "text/plain": [
       "probeid                   130006\n",
       "timestamp                 130006\n",
       "latlon                    130006\n",
       "asn                       130006\n",
       "asn_holder_name           130006\n",
       "asn_access_type           130006\n",
       "access_type_technology     40625\n",
       "lastmile                  130006\n",
       "dtype: int64"
      ]
     },
     "execution_count": 245,
     "metadata": {},
     "output_type": "execute_result"
    }
   ],
   "source": [
    "df_ra.count()"
   ]
  },
  {
   "cell_type": "code",
   "execution_count": 246,
   "metadata": {
    "collapsed": false
   },
   "outputs": [],
   "source": [
    "df_ra_probes_access_type = df_ra[['probeid', 'asn_access_type', 'access_type_technology']].drop_duplicates()"
   ]
  },
  {
   "cell_type": "code",
   "execution_count": 247,
   "metadata": {
    "collapsed": false
   },
   "outputs": [
    {
     "data": {
      "text/html": [
       "<div>\n",
       "<table border=\"1\" class=\"dataframe\">\n",
       "  <thead>\n",
       "    <tr style=\"text-align: right;\">\n",
       "      <th></th>\n",
       "      <th>probeid</th>\n",
       "      <th>asn_access_type</th>\n",
       "      <th>access_type_technology</th>\n",
       "    </tr>\n",
       "  </thead>\n",
       "  <tbody>\n",
       "    <tr>\n",
       "      <th>0</th>\n",
       "      <td>10006</td>\n",
       "      <td>DSL</td>\n",
       "      <td>DSL</td>\n",
       "    </tr>\n",
       "    <tr>\n",
       "      <th>208</th>\n",
       "      <td>10007</td>\n",
       "      <td>CABLE</td>\n",
       "      <td>CABLE</td>\n",
       "    </tr>\n",
       "    <tr>\n",
       "      <th>370</th>\n",
       "      <td>10010</td>\n",
       "      <td>CABLE</td>\n",
       "      <td>None</td>\n",
       "    </tr>\n",
       "    <tr>\n",
       "      <th>570</th>\n",
       "      <td>10012</td>\n",
       "      <td>DSL</td>\n",
       "      <td>None</td>\n",
       "    </tr>\n",
       "    <tr>\n",
       "      <th>778</th>\n",
       "      <td>10013</td>\n",
       "      <td>DSL</td>\n",
       "      <td>DSL</td>\n",
       "    </tr>\n",
       "  </tbody>\n",
       "</table>\n",
       "</div>"
      ],
      "text/plain": [
       "     probeid asn_access_type access_type_technology\n",
       "0      10006             DSL                    DSL\n",
       "208    10007           CABLE                  CABLE\n",
       "370    10010           CABLE                   None\n",
       "570    10012             DSL                   None\n",
       "778    10013             DSL                    DSL"
      ]
     },
     "execution_count": 247,
     "metadata": {},
     "output_type": "execute_result"
    }
   ],
   "source": [
    "df_ra_probes_access_type.head()"
   ]
  },
  {
   "cell_type": "code",
   "execution_count": 248,
   "metadata": {
    "collapsed": true
   },
   "outputs": [],
   "source": [
    "d = []\n",
    "def myfunc(x):\n",
    "    count = 0\n",
    "    manual = x['asn_access_type']; rdns = x['access_type_technology']\n",
    "    \n",
    "    chosen = None\n",
    "    if manual is None and rdns is None: chosen = None\n",
    "    elif manual is None and rdns is not None: chosen = rdns\n",
    "    elif manual is not None and rdns is None: chosen = manual\n",
    "    elif manual == rdns: chosen = rdns\n",
    "    elif manual != rdns:\n",
    "        if rdns == 'FIBRE': chosen = rdns    \n",
    "        else: d.append(x['probeid']); \n",
    "    else: print('wow!')   \n",
    "        \n",
    "    return chosen"
   ]
  },
  {
   "cell_type": "code",
   "execution_count": 249,
   "metadata": {
    "collapsed": false
   },
   "outputs": [
    {
     "name": "stdout",
     "output_type": "stream",
     "text": [
      "{10151}\n"
     ]
    }
   ],
   "source": [
    "df_ra_probes_access_type['chosen'] = df_ra_probes_access_type.apply(myfunc, axis=1)\n",
    "print(set(d));"
   ]
  },
  {
   "cell_type": "code",
   "execution_count": 250,
   "metadata": {
    "collapsed": false
   },
   "outputs": [
    {
     "data": {
      "text/plain": [
       "probeid                   691\n",
       "asn_access_type           691\n",
       "access_type_technology    221\n",
       "chosen                    690\n",
       "dtype: int64"
      ]
     },
     "execution_count": 250,
     "metadata": {},
     "output_type": "execute_result"
    }
   ],
   "source": [
    "df_ra_probes_access_type.count()"
   ]
  },
  {
   "cell_type": "code",
   "execution_count": 251,
   "metadata": {
    "collapsed": true
   },
   "outputs": [],
   "source": [
    "del df_ra['asn_access_type']; del df_ra_probes_access_type['asn_access_type']; \n",
    "del df_ra['access_type_technology']; del df_ra_probes_access_type['access_type_technology']; "
   ]
  },
  {
   "cell_type": "code",
   "execution_count": 252,
   "metadata": {
    "collapsed": true
   },
   "outputs": [],
   "source": [
    "df_ra_probes_access_type = df_ra_probes_access_type.dropna()"
   ]
  },
  {
   "cell_type": "code",
   "execution_count": 253,
   "metadata": {
    "collapsed": false
   },
   "outputs": [
    {
     "data": {
      "text/plain": [
       "probeid    690\n",
       "chosen     690\n",
       "dtype: int64"
      ]
     },
     "execution_count": 253,
     "metadata": {},
     "output_type": "execute_result"
    }
   ],
   "source": [
    "df_ra_probes_access_type.count()"
   ]
  },
  {
   "cell_type": "code",
   "execution_count": 254,
   "metadata": {
    "collapsed": false
   },
   "outputs": [
    {
     "data": {
      "text/html": [
       "<div>\n",
       "<table border=\"1\" class=\"dataframe\">\n",
       "  <thead>\n",
       "    <tr style=\"text-align: right;\">\n",
       "      <th></th>\n",
       "      <th>probeid</th>\n",
       "      <th>chosen</th>\n",
       "    </tr>\n",
       "  </thead>\n",
       "  <tbody>\n",
       "    <tr>\n",
       "      <th>0</th>\n",
       "      <td>10006</td>\n",
       "      <td>DSL</td>\n",
       "    </tr>\n",
       "    <tr>\n",
       "      <th>208</th>\n",
       "      <td>10007</td>\n",
       "      <td>CABLE</td>\n",
       "    </tr>\n",
       "    <tr>\n",
       "      <th>370</th>\n",
       "      <td>10010</td>\n",
       "      <td>CABLE</td>\n",
       "    </tr>\n",
       "    <tr>\n",
       "      <th>570</th>\n",
       "      <td>10012</td>\n",
       "      <td>DSL</td>\n",
       "    </tr>\n",
       "    <tr>\n",
       "      <th>778</th>\n",
       "      <td>10013</td>\n",
       "      <td>DSL</td>\n",
       "    </tr>\n",
       "  </tbody>\n",
       "</table>\n",
       "</div>"
      ],
      "text/plain": [
       "     probeid chosen\n",
       "0      10006    DSL\n",
       "208    10007  CABLE\n",
       "370    10010  CABLE\n",
       "570    10012    DSL\n",
       "778    10013    DSL"
      ]
     },
     "execution_count": 254,
     "metadata": {},
     "output_type": "execute_result"
    }
   ],
   "source": [
    "df_ra_probes_access_type.head()"
   ]
  },
  {
   "cell_type": "code",
   "execution_count": 255,
   "metadata": {
    "collapsed": false
   },
   "outputs": [
    {
     "data": {
      "text/plain": [
       "probeid            130006\n",
       "timestamp          130006\n",
       "latlon             130006\n",
       "asn                130006\n",
       "asn_holder_name    130006\n",
       "lastmile           130006\n",
       "dtype: int64"
      ]
     },
     "execution_count": 255,
     "metadata": {},
     "output_type": "execute_result"
    }
   ],
   "source": [
    "df_ra.count()"
   ]
  },
  {
   "cell_type": "code",
   "execution_count": 256,
   "metadata": {
    "collapsed": true
   },
   "outputs": [],
   "source": [
    "df_ra_probes_asn = df_ra[['probeid', 'asn', 'asn_holder_name']].drop_duplicates()"
   ]
  },
  {
   "cell_type": "code",
   "execution_count": 257,
   "metadata": {
    "collapsed": false
   },
   "outputs": [
    {
     "data": {
      "text/plain": [
       "probeid            691\n",
       "asn                691\n",
       "asn_holder_name    691\n",
       "dtype: int64"
      ]
     },
     "execution_count": 257,
     "metadata": {},
     "output_type": "execute_result"
    }
   ],
   "source": [
    "df_ra_probes_asn.count()"
   ]
  },
  {
   "cell_type": "code",
   "execution_count": 258,
   "metadata": {
    "collapsed": false
   },
   "outputs": [
    {
     "data": {
      "text/html": [
       "<div>\n",
       "<table border=\"1\" class=\"dataframe\">\n",
       "  <thead>\n",
       "    <tr style=\"text-align: right;\">\n",
       "      <th></th>\n",
       "      <th>probeid</th>\n",
       "      <th>asn</th>\n",
       "      <th>asn_holder_name</th>\n",
       "    </tr>\n",
       "  </thead>\n",
       "  <tbody>\n",
       "    <tr>\n",
       "      <th>0</th>\n",
       "      <td>10006</td>\n",
       "      <td>3265</td>\n",
       "      <td>XS4ALL-NL XS4ALL Internet BV,NL</td>\n",
       "    </tr>\n",
       "    <tr>\n",
       "      <th>208</th>\n",
       "      <td>10007</td>\n",
       "      <td>7922</td>\n",
       "      <td>COMCAST-7922 - Comcast Cable Communications, I...</td>\n",
       "    </tr>\n",
       "    <tr>\n",
       "      <th>370</th>\n",
       "      <td>10010</td>\n",
       "      <td>6830</td>\n",
       "      <td>LGI-UPC Liberty Global Operations B.V.,AT</td>\n",
       "    </tr>\n",
       "    <tr>\n",
       "      <th>570</th>\n",
       "      <td>10012</td>\n",
       "      <td>3265</td>\n",
       "      <td>XS4ALL-NL XS4ALL Internet BV,NL</td>\n",
       "    </tr>\n",
       "    <tr>\n",
       "      <th>778</th>\n",
       "      <td>10013</td>\n",
       "      <td>3265</td>\n",
       "      <td>XS4ALL-NL XS4ALL Internet BV,NL</td>\n",
       "    </tr>\n",
       "  </tbody>\n",
       "</table>\n",
       "</div>"
      ],
      "text/plain": [
       "     probeid   asn                                    asn_holder_name\n",
       "0      10006  3265                    XS4ALL-NL XS4ALL Internet BV,NL\n",
       "208    10007  7922  COMCAST-7922 - Comcast Cable Communications, I...\n",
       "370    10010  6830          LGI-UPC Liberty Global Operations B.V.,AT\n",
       "570    10012  3265                    XS4ALL-NL XS4ALL Internet BV,NL\n",
       "778    10013  3265                    XS4ALL-NL XS4ALL Internet BV,NL"
      ]
     },
     "execution_count": 258,
     "metadata": {},
     "output_type": "execute_result"
    }
   ],
   "source": [
    "df_ra_probes_asn.head()"
   ]
  },
  {
   "cell_type": "code",
   "execution_count": 259,
   "metadata": {
    "collapsed": true
   },
   "outputs": [],
   "source": [
    "def create_pretty_node_names(asn, holder):\n",
    "    \n",
    "    d = {\n",
    "          'NTL'        : 'VIRGINMEDIA'\n",
    "        , 'AS3215'     : 'ORANGE'        \n",
    "        , 'VODANET'    : 'VODAFONE'\n",
    "        , 'PROXAD'     : 'FREE'\n",
    "        , 'ROADRUNNER' : 'TWC'\n",
    "        , 'TDDE'       : 'TELEFONICA-DE'\n",
    "        , 'TT'         : 'TALKTALK'\n",
    "    }\n",
    "    \n",
    "    firstname = holder.split('-')[0].split(' ')[0]\n",
    "    try: firstname = d[firstname]\n",
    "    except Exception as e: pass\n",
    "    \n",
    "    if 'AS' in str(asn): nodename = '%s (%s)'%(firstname, asn)\n",
    "    else: nodename = '%s (AS%s)'%(firstname, asn)\n",
    "    return nodename\n",
    "\n",
    "def myfunc(x):\n",
    "    asn = x['asn']; holder = x['asn_holder_name']; \n",
    "    nodename = create_pretty_node_names(asn, holder)\n",
    "    x['nodename'] = nodename\n",
    "    return x\n",
    "\n",
    "df_ra_probes_asn = df_ra_probes_asn.apply(myfunc, axis=1)"
   ]
  },
  {
   "cell_type": "code",
   "execution_count": 260,
   "metadata": {
    "collapsed": true
   },
   "outputs": [],
   "source": [
    "del df_ra['asn']; del df_ra_probes_asn['asn']\n",
    "del df_ra['asn_holder_name']; del df_ra_probes_asn['asn_holder_name']"
   ]
  },
  {
   "cell_type": "code",
   "execution_count": 261,
   "metadata": {
    "collapsed": false
   },
   "outputs": [
    {
     "data": {
      "text/plain": [
       "probeid     691\n",
       "nodename    691\n",
       "dtype: int64"
      ]
     },
     "execution_count": 261,
     "metadata": {},
     "output_type": "execute_result"
    }
   ],
   "source": [
    "df_ra_probes_asn.count()"
   ]
  },
  {
   "cell_type": "code",
   "execution_count": 262,
   "metadata": {
    "collapsed": false
   },
   "outputs": [
    {
     "data": {
      "text/html": [
       "<div>\n",
       "<table border=\"1\" class=\"dataframe\">\n",
       "  <thead>\n",
       "    <tr style=\"text-align: right;\">\n",
       "      <th></th>\n",
       "      <th>probeid</th>\n",
       "      <th>nodename</th>\n",
       "    </tr>\n",
       "  </thead>\n",
       "  <tbody>\n",
       "    <tr>\n",
       "      <th>0</th>\n",
       "      <td>10006</td>\n",
       "      <td>XS4ALL (AS3265)</td>\n",
       "    </tr>\n",
       "    <tr>\n",
       "      <th>208</th>\n",
       "      <td>10007</td>\n",
       "      <td>COMCAST (AS7922)</td>\n",
       "    </tr>\n",
       "    <tr>\n",
       "      <th>370</th>\n",
       "      <td>10010</td>\n",
       "      <td>LGI (AS6830)</td>\n",
       "    </tr>\n",
       "    <tr>\n",
       "      <th>570</th>\n",
       "      <td>10012</td>\n",
       "      <td>XS4ALL (AS3265)</td>\n",
       "    </tr>\n",
       "    <tr>\n",
       "      <th>778</th>\n",
       "      <td>10013</td>\n",
       "      <td>XS4ALL (AS3265)</td>\n",
       "    </tr>\n",
       "  </tbody>\n",
       "</table>\n",
       "</div>"
      ],
      "text/plain": [
       "     probeid          nodename\n",
       "0      10006   XS4ALL (AS3265)\n",
       "208    10007  COMCAST (AS7922)\n",
       "370    10010      LGI (AS6830)\n",
       "570    10012   XS4ALL (AS3265)\n",
       "778    10013   XS4ALL (AS3265)"
      ]
     },
     "execution_count": 262,
     "metadata": {},
     "output_type": "execute_result"
    }
   ],
   "source": [
    "df_ra_probes_asn.head()"
   ]
  },
  {
   "cell_type": "code",
   "execution_count": 263,
   "metadata": {
    "collapsed": false
   },
   "outputs": [
    {
     "data": {
      "text/plain": [
       "probeid      130006\n",
       "timestamp    130006\n",
       "latlon       130006\n",
       "lastmile     130006\n",
       "dtype: int64"
      ]
     },
     "execution_count": 263,
     "metadata": {},
     "output_type": "execute_result"
    }
   ],
   "source": [
    "df_ra.count()"
   ]
  },
  {
   "cell_type": "code",
   "execution_count": 264,
   "metadata": {
    "collapsed": false
   },
   "outputs": [
    {
     "data": {
      "text/html": [
       "<div>\n",
       "<table border=\"1\" class=\"dataframe\">\n",
       "  <thead>\n",
       "    <tr style=\"text-align: right;\">\n",
       "      <th></th>\n",
       "      <th>probeid</th>\n",
       "      <th>timestamp</th>\n",
       "      <th>latlon</th>\n",
       "      <th>lastmile</th>\n",
       "    </tr>\n",
       "  </thead>\n",
       "  <tbody>\n",
       "    <tr>\n",
       "      <th>0</th>\n",
       "      <td>10006</td>\n",
       "      <td>1406548034</td>\n",
       "      <td>52.3805;4.9275</td>\n",
       "      <td>20.061</td>\n",
       "    </tr>\n",
       "    <tr>\n",
       "      <th>1</th>\n",
       "      <td>10006</td>\n",
       "      <td>1406562432</td>\n",
       "      <td>52.3805;4.9275</td>\n",
       "      <td>17.269</td>\n",
       "    </tr>\n",
       "    <tr>\n",
       "      <th>2</th>\n",
       "      <td>10006</td>\n",
       "      <td>1406576835</td>\n",
       "      <td>52.3805;4.9275</td>\n",
       "      <td>17.338</td>\n",
       "    </tr>\n",
       "    <tr>\n",
       "      <th>3</th>\n",
       "      <td>10006</td>\n",
       "      <td>1406591230</td>\n",
       "      <td>52.3805;4.9275</td>\n",
       "      <td>17.099</td>\n",
       "    </tr>\n",
       "    <tr>\n",
       "      <th>4</th>\n",
       "      <td>10006</td>\n",
       "      <td>1406605631</td>\n",
       "      <td>52.3805;4.9275</td>\n",
       "      <td>17.104</td>\n",
       "    </tr>\n",
       "  </tbody>\n",
       "</table>\n",
       "</div>"
      ],
      "text/plain": [
       "   probeid   timestamp          latlon  lastmile\n",
       "0    10006  1406548034  52.3805;4.9275    20.061\n",
       "1    10006  1406562432  52.3805;4.9275    17.269\n",
       "2    10006  1406576835  52.3805;4.9275    17.338\n",
       "3    10006  1406591230  52.3805;4.9275    17.099\n",
       "4    10006  1406605631  52.3805;4.9275    17.104"
      ]
     },
     "execution_count": 264,
     "metadata": {},
     "output_type": "execute_result"
    }
   ],
   "source": [
    "df_ra.head()"
   ]
  },
  {
   "cell_type": "code",
   "execution_count": 265,
   "metadata": {
    "collapsed": false
   },
   "outputs": [],
   "source": [
    "df_ra_probes_geo = df_ra[['probeid', 'latlon']].drop_duplicates()"
   ]
  },
  {
   "cell_type": "code",
   "execution_count": 266,
   "metadata": {
    "collapsed": false
   },
   "outputs": [
    {
     "data": {
      "text/plain": [
       "probeid    691\n",
       "latlon     691\n",
       "dtype: int64"
      ]
     },
     "execution_count": 266,
     "metadata": {},
     "output_type": "execute_result"
    }
   ],
   "source": [
    "df_ra_probes_geo.count()"
   ]
  },
  {
   "cell_type": "code",
   "execution_count": 267,
   "metadata": {
    "collapsed": false
   },
   "outputs": [
    {
     "data": {
      "text/html": [
       "<div>\n",
       "<table border=\"1\" class=\"dataframe\">\n",
       "  <thead>\n",
       "    <tr style=\"text-align: right;\">\n",
       "      <th></th>\n",
       "      <th>probeid</th>\n",
       "      <th>latlon</th>\n",
       "    </tr>\n",
       "  </thead>\n",
       "  <tbody>\n",
       "    <tr>\n",
       "      <th>0</th>\n",
       "      <td>10006</td>\n",
       "      <td>52.3805;4.9275</td>\n",
       "    </tr>\n",
       "    <tr>\n",
       "      <th>208</th>\n",
       "      <td>10007</td>\n",
       "      <td>38.3205;-122.3225</td>\n",
       "    </tr>\n",
       "    <tr>\n",
       "      <th>370</th>\n",
       "      <td>10010</td>\n",
       "      <td>52.3475;4.9175</td>\n",
       "    </tr>\n",
       "    <tr>\n",
       "      <th>570</th>\n",
       "      <td>10012</td>\n",
       "      <td>52.3685;4.8975</td>\n",
       "    </tr>\n",
       "    <tr>\n",
       "      <th>778</th>\n",
       "      <td>10013</td>\n",
       "      <td>52.3685;5.2175</td>\n",
       "    </tr>\n",
       "  </tbody>\n",
       "</table>\n",
       "</div>"
      ],
      "text/plain": [
       "     probeid             latlon\n",
       "0      10006     52.3805;4.9275\n",
       "208    10007  38.3205;-122.3225\n",
       "370    10010     52.3475;4.9175\n",
       "570    10012     52.3685;4.8975\n",
       "778    10013     52.3685;5.2175"
      ]
     },
     "execution_count": 267,
     "metadata": {},
     "output_type": "execute_result"
    }
   ],
   "source": [
    "df_ra_probes_geo.head()"
   ]
  },
  {
   "cell_type": "code",
   "execution_count": 268,
   "metadata": {
    "collapsed": true
   },
   "outputs": [],
   "source": [
    "d = {}\n",
    "df_temp = pd.read_csv('ripeatlas-probes-timezones.csv')\n",
    "for k, v in df_temp.iterrows(): \n",
    "    d[v['latlon']] = v['tz']\n",
    "\n",
    "from tzwhere import tzwhere\n",
    "def get_tzname_from_lat_lon_using_tzwhere(latlon):\n",
    "    try: \n",
    "        lat, lon = latlon.split(';')\n",
    "        tz = tzwhere.tzwhere().tzNameAt(float(lat), float(lon))\n",
    "        print('.', end='')\n",
    "    except Exception as e: print('*', end=''); tz = None\n",
    "    return tz\n",
    "\n",
    "import requests\n",
    "def get_tzname_from_lat_lon(latlon):\n",
    "    try: tz = d[latlon]\n",
    "    except KeyError as e:\n",
    "        try: \n",
    "            lat, lon = latlon.split(';')\n",
    "            url = 'http://api.geonames.org/timezoneJSON?lat=%f&lng=%f&username=demo'\n",
    "            res = requests.get(url%(float(lat), float(lon)))\n",
    "            tz = res.json()['timezoneId']\n",
    "            print('.', end='')\n",
    "        except Exception as e: \n",
    "            tz = get_tzname_from_lat_lon_using_tzwhere(latlon)\n",
    "    return tz"
   ]
  },
  {
   "cell_type": "code",
   "execution_count": 269,
   "metadata": {
    "collapsed": false
   },
   "outputs": [],
   "source": [
    "df_ra_probes_geo['tz'] = df_ra_probes_geo['latlon'].apply(get_tzname_from_lat_lon)"
   ]
  },
  {
   "cell_type": "code",
   "execution_count": 270,
   "metadata": {
    "collapsed": false
   },
   "outputs": [],
   "source": [
    "def get_city_from_lat_lon(latlon):\n",
    "    lat, lon = latlon.split(';')\n",
    "    url = \"http://maps.googleapis.com/maps/api/geocode/json?\"\n",
    "    url += \"latlng=%s,%s&sensor=false\" % (lat, lon)\n",
    "    try: res = requests.get(url)\n",
    "    except Exception as e: print('*', end=''); return None\n",
    "    j = res.json()\n",
    "    try: components = j['results'][0]['address_components']\n",
    "    except Exception as e: print('-', end=''); return None\n",
    "    town = None\n",
    "    for c in components: \n",
    "        if \"locality\" in c['types']: town = c['long_name']\n",
    "    if town is None: print('^', end=''); return None\n",
    "    else: print('.', end=''); return town"
   ]
  },
  {
   "cell_type": "code",
   "execution_count": 271,
   "metadata": {
    "collapsed": false
   },
   "outputs": [
    {
     "data": {
      "text/plain": [
       "probeid    691\n",
       "latlon     691\n",
       "tz         691\n",
       "dtype: int64"
      ]
     },
     "execution_count": 271,
     "metadata": {},
     "output_type": "execute_result"
    }
   ],
   "source": [
    "df_ra_probes_geo[df_ra_probes_geo['tz'].isnull() == False].count()"
   ]
  },
  {
   "cell_type": "code",
   "execution_count": 272,
   "metadata": {
    "collapsed": false
   },
   "outputs": [
    {
     "data": {
      "text/plain": [
       "probeid    0\n",
       "latlon     0\n",
       "tz         0\n",
       "dtype: int64"
      ]
     },
     "execution_count": 272,
     "metadata": {},
     "output_type": "execute_result"
    }
   ],
   "source": [
    "df_ra_probes_geo[df_ra_probes_geo['tz'].isnull() == True].count()"
   ]
  },
  {
   "cell_type": "code",
   "execution_count": 273,
   "metadata": {
    "collapsed": true
   },
   "outputs": [],
   "source": [
    "df_ra_probes_geo = df_ra_probes_geo.reset_index(drop=True)\n",
    "df_ra_probes_geo.to_csv('ripeatlas-probes-timezones.csv')"
   ]
  },
  {
   "cell_type": "code",
   "execution_count": 274,
   "metadata": {
    "collapsed": false
   },
   "outputs": [],
   "source": [
    "del df_ra['latlon']; del df_ra_probes_geo['latlon']"
   ]
  },
  {
   "cell_type": "code",
   "execution_count": 275,
   "metadata": {
    "collapsed": false
   },
   "outputs": [
    {
     "data": {
      "text/html": [
       "<div>\n",
       "<table border=\"1\" class=\"dataframe\">\n",
       "  <thead>\n",
       "    <tr style=\"text-align: right;\">\n",
       "      <th></th>\n",
       "      <th>probeid</th>\n",
       "      <th>tz</th>\n",
       "    </tr>\n",
       "  </thead>\n",
       "  <tbody>\n",
       "    <tr>\n",
       "      <th>0</th>\n",
       "      <td>10006</td>\n",
       "      <td>Europe/Amsterdam</td>\n",
       "    </tr>\n",
       "    <tr>\n",
       "      <th>1</th>\n",
       "      <td>10007</td>\n",
       "      <td>America/Los_Angeles</td>\n",
       "    </tr>\n",
       "    <tr>\n",
       "      <th>2</th>\n",
       "      <td>10010</td>\n",
       "      <td>Europe/Amsterdam</td>\n",
       "    </tr>\n",
       "    <tr>\n",
       "      <th>3</th>\n",
       "      <td>10012</td>\n",
       "      <td>Europe/Amsterdam</td>\n",
       "    </tr>\n",
       "    <tr>\n",
       "      <th>4</th>\n",
       "      <td>10013</td>\n",
       "      <td>Europe/Amsterdam</td>\n",
       "    </tr>\n",
       "  </tbody>\n",
       "</table>\n",
       "</div>"
      ],
      "text/plain": [
       "   probeid                   tz\n",
       "0    10006     Europe/Amsterdam\n",
       "1    10007  America/Los_Angeles\n",
       "2    10010     Europe/Amsterdam\n",
       "3    10012     Europe/Amsterdam\n",
       "4    10013     Europe/Amsterdam"
      ]
     },
     "execution_count": 275,
     "metadata": {},
     "output_type": "execute_result"
    }
   ],
   "source": [
    "df_ra_probes_geo.head()"
   ]
  },
  {
   "cell_type": "code",
   "execution_count": 276,
   "metadata": {
    "collapsed": true
   },
   "outputs": [],
   "source": [
    "df_ra = pd.merge(df_ra, df_ra_probes_asn, on='probeid', how='outer')\n",
    "df_ra = pd.merge(df_ra, df_ra_probes_access_type, on='probeid', how='outer')\n",
    "df_ra = pd.merge(df_ra, df_ra_probes_geo, on='probeid', how='outer')"
   ]
  },
  {
   "cell_type": "code",
   "execution_count": 277,
   "metadata": {
    "collapsed": false
   },
   "outputs": [
    {
     "data": {
      "text/plain": [
       "probeid      130006\n",
       "timestamp    130006\n",
       "lastmile     130006\n",
       "nodename     130006\n",
       "chosen       129820\n",
       "tz           130006\n",
       "dtype: int64"
      ]
     },
     "execution_count": 277,
     "metadata": {},
     "output_type": "execute_result"
    }
   ],
   "source": [
    "df_ra.count()"
   ]
  },
  {
   "cell_type": "code",
   "execution_count": 278,
   "metadata": {
    "collapsed": true
   },
   "outputs": [],
   "source": [
    "df_ra = df_ra.dropna()"
   ]
  },
  {
   "cell_type": "code",
   "execution_count": 279,
   "metadata": {
    "collapsed": false
   },
   "outputs": [
    {
     "data": {
      "text/plain": [
       "probeid      129820\n",
       "timestamp    129820\n",
       "lastmile     129820\n",
       "nodename     129820\n",
       "chosen       129820\n",
       "tz           129820\n",
       "dtype: int64"
      ]
     },
     "execution_count": 279,
     "metadata": {},
     "output_type": "execute_result"
    }
   ],
   "source": [
    "df_ra.count()"
   ]
  },
  {
   "cell_type": "code",
   "execution_count": 280,
   "metadata": {
    "collapsed": false
   },
   "outputs": [
    {
     "data": {
      "text/html": [
       "<div>\n",
       "<table border=\"1\" class=\"dataframe\">\n",
       "  <thead>\n",
       "    <tr style=\"text-align: right;\">\n",
       "      <th></th>\n",
       "      <th>probeid</th>\n",
       "      <th>timestamp</th>\n",
       "      <th>lastmile</th>\n",
       "      <th>nodename</th>\n",
       "      <th>chosen</th>\n",
       "      <th>tz</th>\n",
       "    </tr>\n",
       "  </thead>\n",
       "  <tbody>\n",
       "    <tr>\n",
       "      <th>0</th>\n",
       "      <td>10006</td>\n",
       "      <td>1406548034</td>\n",
       "      <td>20.061</td>\n",
       "      <td>XS4ALL (AS3265)</td>\n",
       "      <td>DSL</td>\n",
       "      <td>Europe/Amsterdam</td>\n",
       "    </tr>\n",
       "    <tr>\n",
       "      <th>1</th>\n",
       "      <td>10006</td>\n",
       "      <td>1406562432</td>\n",
       "      <td>17.269</td>\n",
       "      <td>XS4ALL (AS3265)</td>\n",
       "      <td>DSL</td>\n",
       "      <td>Europe/Amsterdam</td>\n",
       "    </tr>\n",
       "    <tr>\n",
       "      <th>2</th>\n",
       "      <td>10006</td>\n",
       "      <td>1406576835</td>\n",
       "      <td>17.338</td>\n",
       "      <td>XS4ALL (AS3265)</td>\n",
       "      <td>DSL</td>\n",
       "      <td>Europe/Amsterdam</td>\n",
       "    </tr>\n",
       "    <tr>\n",
       "      <th>3</th>\n",
       "      <td>10006</td>\n",
       "      <td>1406591230</td>\n",
       "      <td>17.099</td>\n",
       "      <td>XS4ALL (AS3265)</td>\n",
       "      <td>DSL</td>\n",
       "      <td>Europe/Amsterdam</td>\n",
       "    </tr>\n",
       "    <tr>\n",
       "      <th>4</th>\n",
       "      <td>10006</td>\n",
       "      <td>1406605631</td>\n",
       "      <td>17.104</td>\n",
       "      <td>XS4ALL (AS3265)</td>\n",
       "      <td>DSL</td>\n",
       "      <td>Europe/Amsterdam</td>\n",
       "    </tr>\n",
       "  </tbody>\n",
       "</table>\n",
       "</div>"
      ],
      "text/plain": [
       "   probeid   timestamp  lastmile         nodename chosen                tz\n",
       "0    10006  1406548034    20.061  XS4ALL (AS3265)    DSL  Europe/Amsterdam\n",
       "1    10006  1406562432    17.269  XS4ALL (AS3265)    DSL  Europe/Amsterdam\n",
       "2    10006  1406576835    17.338  XS4ALL (AS3265)    DSL  Europe/Amsterdam\n",
       "3    10006  1406591230    17.099  XS4ALL (AS3265)    DSL  Europe/Amsterdam\n",
       "4    10006  1406605631    17.104  XS4ALL (AS3265)    DSL  Europe/Amsterdam"
      ]
     },
     "execution_count": 280,
     "metadata": {},
     "output_type": "execute_result"
    }
   ],
   "source": [
    "df_ra.head()"
   ]
  },
  {
   "cell_type": "code",
   "execution_count": 281,
   "metadata": {
    "collapsed": false
   },
   "outputs": [],
   "source": [
    "from datetime import datetime\n",
    "def timestamp_to_datetime(timestamp):\n",
    "    return datetime.fromtimestamp(int(timestamp))\n",
    "\n",
    "df_ra['datetime'] = df_ra['timestamp'].apply(timestamp_to_datetime)"
   ]
  },
  {
   "cell_type": "code",
   "execution_count": 282,
   "metadata": {
    "collapsed": true
   },
   "outputs": [],
   "source": [
    "del df_ra['timestamp']"
   ]
  },
  {
   "cell_type": "code",
   "execution_count": 283,
   "metadata": {
    "collapsed": false
   },
   "outputs": [
    {
     "data": {
      "text/plain": [
       "probeid     129820\n",
       "lastmile    129820\n",
       "nodename    129820\n",
       "chosen      129820\n",
       "tz          129820\n",
       "datetime    129820\n",
       "dtype: int64"
      ]
     },
     "execution_count": 283,
     "metadata": {},
     "output_type": "execute_result"
    }
   ],
   "source": [
    "df_ra.count()"
   ]
  },
  {
   "cell_type": "code",
   "execution_count": 284,
   "metadata": {
    "collapsed": false
   },
   "outputs": [
    {
     "data": {
      "text/html": [
       "<div>\n",
       "<table border=\"1\" class=\"dataframe\">\n",
       "  <thead>\n",
       "    <tr style=\"text-align: right;\">\n",
       "      <th></th>\n",
       "      <th>probeid</th>\n",
       "      <th>lastmile</th>\n",
       "      <th>nodename</th>\n",
       "      <th>chosen</th>\n",
       "      <th>tz</th>\n",
       "      <th>datetime</th>\n",
       "    </tr>\n",
       "  </thead>\n",
       "  <tbody>\n",
       "    <tr>\n",
       "      <th>0</th>\n",
       "      <td>10006</td>\n",
       "      <td>20.061</td>\n",
       "      <td>XS4ALL (AS3265)</td>\n",
       "      <td>DSL</td>\n",
       "      <td>Europe/Amsterdam</td>\n",
       "      <td>2014-07-28 13:47:14</td>\n",
       "    </tr>\n",
       "    <tr>\n",
       "      <th>1</th>\n",
       "      <td>10006</td>\n",
       "      <td>17.269</td>\n",
       "      <td>XS4ALL (AS3265)</td>\n",
       "      <td>DSL</td>\n",
       "      <td>Europe/Amsterdam</td>\n",
       "      <td>2014-07-28 17:47:12</td>\n",
       "    </tr>\n",
       "    <tr>\n",
       "      <th>2</th>\n",
       "      <td>10006</td>\n",
       "      <td>17.338</td>\n",
       "      <td>XS4ALL (AS3265)</td>\n",
       "      <td>DSL</td>\n",
       "      <td>Europe/Amsterdam</td>\n",
       "      <td>2014-07-28 21:47:15</td>\n",
       "    </tr>\n",
       "    <tr>\n",
       "      <th>3</th>\n",
       "      <td>10006</td>\n",
       "      <td>17.099</td>\n",
       "      <td>XS4ALL (AS3265)</td>\n",
       "      <td>DSL</td>\n",
       "      <td>Europe/Amsterdam</td>\n",
       "      <td>2014-07-29 01:47:10</td>\n",
       "    </tr>\n",
       "    <tr>\n",
       "      <th>4</th>\n",
       "      <td>10006</td>\n",
       "      <td>17.104</td>\n",
       "      <td>XS4ALL (AS3265)</td>\n",
       "      <td>DSL</td>\n",
       "      <td>Europe/Amsterdam</td>\n",
       "      <td>2014-07-29 05:47:11</td>\n",
       "    </tr>\n",
       "  </tbody>\n",
       "</table>\n",
       "</div>"
      ],
      "text/plain": [
       "   probeid  lastmile         nodename chosen                tz  \\\n",
       "0    10006    20.061  XS4ALL (AS3265)    DSL  Europe/Amsterdam   \n",
       "1    10006    17.269  XS4ALL (AS3265)    DSL  Europe/Amsterdam   \n",
       "2    10006    17.338  XS4ALL (AS3265)    DSL  Europe/Amsterdam   \n",
       "3    10006    17.099  XS4ALL (AS3265)    DSL  Europe/Amsterdam   \n",
       "4    10006    17.104  XS4ALL (AS3265)    DSL  Europe/Amsterdam   \n",
       "\n",
       "             datetime  \n",
       "0 2014-07-28 13:47:14  \n",
       "1 2014-07-28 17:47:12  \n",
       "2 2014-07-28 21:47:15  \n",
       "3 2014-07-29 01:47:10  \n",
       "4 2014-07-29 05:47:11  "
      ]
     },
     "execution_count": 284,
     "metadata": {},
     "output_type": "execute_result"
    }
   ],
   "source": [
    "df_ra.head()"
   ]
  },
  {
   "cell_type": "code",
   "execution_count": 285,
   "metadata": {
    "collapsed": false
   },
   "outputs": [],
   "source": [
    "df_ra['hour'] = df_ra['datetime'].apply(lambda date: date.hour)"
   ]
  },
  {
   "cell_type": "code",
   "execution_count": 286,
   "metadata": {
    "collapsed": false
   },
   "outputs": [
    {
     "data": {
      "text/html": [
       "<div>\n",
       "<table border=\"1\" class=\"dataframe\">\n",
       "  <thead>\n",
       "    <tr style=\"text-align: right;\">\n",
       "      <th></th>\n",
       "      <th>probeid</th>\n",
       "      <th>lastmile</th>\n",
       "      <th>nodename</th>\n",
       "      <th>chosen</th>\n",
       "      <th>tz</th>\n",
       "      <th>datetime</th>\n",
       "      <th>hour</th>\n",
       "    </tr>\n",
       "  </thead>\n",
       "  <tbody>\n",
       "    <tr>\n",
       "      <th>0</th>\n",
       "      <td>10006</td>\n",
       "      <td>20.061</td>\n",
       "      <td>XS4ALL (AS3265)</td>\n",
       "      <td>DSL</td>\n",
       "      <td>Europe/Amsterdam</td>\n",
       "      <td>2014-07-28 13:47:14</td>\n",
       "      <td>13</td>\n",
       "    </tr>\n",
       "    <tr>\n",
       "      <th>1</th>\n",
       "      <td>10006</td>\n",
       "      <td>17.269</td>\n",
       "      <td>XS4ALL (AS3265)</td>\n",
       "      <td>DSL</td>\n",
       "      <td>Europe/Amsterdam</td>\n",
       "      <td>2014-07-28 17:47:12</td>\n",
       "      <td>17</td>\n",
       "    </tr>\n",
       "    <tr>\n",
       "      <th>2</th>\n",
       "      <td>10006</td>\n",
       "      <td>17.338</td>\n",
       "      <td>XS4ALL (AS3265)</td>\n",
       "      <td>DSL</td>\n",
       "      <td>Europe/Amsterdam</td>\n",
       "      <td>2014-07-28 21:47:15</td>\n",
       "      <td>21</td>\n",
       "    </tr>\n",
       "    <tr>\n",
       "      <th>3</th>\n",
       "      <td>10006</td>\n",
       "      <td>17.099</td>\n",
       "      <td>XS4ALL (AS3265)</td>\n",
       "      <td>DSL</td>\n",
       "      <td>Europe/Amsterdam</td>\n",
       "      <td>2014-07-29 01:47:10</td>\n",
       "      <td>1</td>\n",
       "    </tr>\n",
       "    <tr>\n",
       "      <th>4</th>\n",
       "      <td>10006</td>\n",
       "      <td>17.104</td>\n",
       "      <td>XS4ALL (AS3265)</td>\n",
       "      <td>DSL</td>\n",
       "      <td>Europe/Amsterdam</td>\n",
       "      <td>2014-07-29 05:47:11</td>\n",
       "      <td>5</td>\n",
       "    </tr>\n",
       "  </tbody>\n",
       "</table>\n",
       "</div>"
      ],
      "text/plain": [
       "   probeid  lastmile         nodename chosen                tz  \\\n",
       "0    10006    20.061  XS4ALL (AS3265)    DSL  Europe/Amsterdam   \n",
       "1    10006    17.269  XS4ALL (AS3265)    DSL  Europe/Amsterdam   \n",
       "2    10006    17.338  XS4ALL (AS3265)    DSL  Europe/Amsterdam   \n",
       "3    10006    17.099  XS4ALL (AS3265)    DSL  Europe/Amsterdam   \n",
       "4    10006    17.104  XS4ALL (AS3265)    DSL  Europe/Amsterdam   \n",
       "\n",
       "             datetime  hour  \n",
       "0 2014-07-28 13:47:14    13  \n",
       "1 2014-07-28 17:47:12    17  \n",
       "2 2014-07-28 21:47:15    21  \n",
       "3 2014-07-29 01:47:10     1  \n",
       "4 2014-07-29 05:47:11     5  "
      ]
     },
     "execution_count": 286,
     "metadata": {},
     "output_type": "execute_result"
    }
   ],
   "source": [
    "df_ra.head()"
   ]
  },
  {
   "cell_type": "code",
   "execution_count": 287,
   "metadata": {
    "collapsed": false
   },
   "outputs": [
    {
     "data": {
      "text/plain": [
       "probeid     129820\n",
       "lastmile    129820\n",
       "nodename    129820\n",
       "chosen      129820\n",
       "tz          129820\n",
       "datetime    129820\n",
       "hour        129820\n",
       "dtype: int64"
      ]
     },
     "execution_count": 287,
     "metadata": {},
     "output_type": "execute_result"
    }
   ],
   "source": [
    "df_ra.count()"
   ]
  },
  {
   "cell_type": "code",
   "execution_count": 288,
   "metadata": {
    "collapsed": false
   },
   "outputs": [],
   "source": [
    "df_ra[['probeid']] = df_ra[['probeid']].astype(str)"
   ]
  },
  {
   "cell_type": "code",
   "execution_count": 289,
   "metadata": {
    "collapsed": false
   },
   "outputs": [],
   "source": [
    "df_ra['hour'] = df_ra['hour'].apply(lambda h: '%02dh'%h)"
   ]
  },
  {
   "cell_type": "code",
   "execution_count": 290,
   "metadata": {
    "collapsed": true
   },
   "outputs": [],
   "source": [
    "df_ra_dsl   = df_ra[df_ra.chosen == 'DSL']\n",
    "df_ra_cable = df_ra[df_ra.chosen == 'CABLE']\n",
    "df_ra_fibre = df_ra[df_ra.chosen == 'FIBRE']"
   ]
  },
  {
   "cell_type": "code",
   "execution_count": 291,
   "metadata": {
    "collapsed": false
   },
   "outputs": [
    {
     "data": {
      "text/html": [
       "<div>\n",
       "<table border=\"1\" class=\"dataframe\">\n",
       "  <thead>\n",
       "    <tr style=\"text-align: right;\">\n",
       "      <th></th>\n",
       "      <th>probeid</th>\n",
       "      <th>lastmile</th>\n",
       "      <th>nodename</th>\n",
       "      <th>chosen</th>\n",
       "      <th>tz</th>\n",
       "      <th>datetime</th>\n",
       "      <th>hour</th>\n",
       "    </tr>\n",
       "  </thead>\n",
       "  <tbody>\n",
       "    <tr>\n",
       "      <th>0</th>\n",
       "      <td>10006</td>\n",
       "      <td>20.061</td>\n",
       "      <td>XS4ALL (AS3265)</td>\n",
       "      <td>DSL</td>\n",
       "      <td>Europe/Amsterdam</td>\n",
       "      <td>2014-07-28 13:47:14</td>\n",
       "      <td>13h</td>\n",
       "    </tr>\n",
       "    <tr>\n",
       "      <th>1</th>\n",
       "      <td>10006</td>\n",
       "      <td>17.269</td>\n",
       "      <td>XS4ALL (AS3265)</td>\n",
       "      <td>DSL</td>\n",
       "      <td>Europe/Amsterdam</td>\n",
       "      <td>2014-07-28 17:47:12</td>\n",
       "      <td>17h</td>\n",
       "    </tr>\n",
       "    <tr>\n",
       "      <th>2</th>\n",
       "      <td>10006</td>\n",
       "      <td>17.338</td>\n",
       "      <td>XS4ALL (AS3265)</td>\n",
       "      <td>DSL</td>\n",
       "      <td>Europe/Amsterdam</td>\n",
       "      <td>2014-07-28 21:47:15</td>\n",
       "      <td>21h</td>\n",
       "    </tr>\n",
       "    <tr>\n",
       "      <th>3</th>\n",
       "      <td>10006</td>\n",
       "      <td>17.099</td>\n",
       "      <td>XS4ALL (AS3265)</td>\n",
       "      <td>DSL</td>\n",
       "      <td>Europe/Amsterdam</td>\n",
       "      <td>2014-07-29 01:47:10</td>\n",
       "      <td>01h</td>\n",
       "    </tr>\n",
       "    <tr>\n",
       "      <th>4</th>\n",
       "      <td>10006</td>\n",
       "      <td>17.104</td>\n",
       "      <td>XS4ALL (AS3265)</td>\n",
       "      <td>DSL</td>\n",
       "      <td>Europe/Amsterdam</td>\n",
       "      <td>2014-07-29 05:47:11</td>\n",
       "      <td>05h</td>\n",
       "    </tr>\n",
       "  </tbody>\n",
       "</table>\n",
       "</div>"
      ],
      "text/plain": [
       "  probeid  lastmile         nodename chosen                tz  \\\n",
       "0   10006    20.061  XS4ALL (AS3265)    DSL  Europe/Amsterdam   \n",
       "1   10006    17.269  XS4ALL (AS3265)    DSL  Europe/Amsterdam   \n",
       "2   10006    17.338  XS4ALL (AS3265)    DSL  Europe/Amsterdam   \n",
       "3   10006    17.099  XS4ALL (AS3265)    DSL  Europe/Amsterdam   \n",
       "4   10006    17.104  XS4ALL (AS3265)    DSL  Europe/Amsterdam   \n",
       "\n",
       "             datetime hour  \n",
       "0 2014-07-28 13:47:14  13h  \n",
       "1 2014-07-28 17:47:12  17h  \n",
       "2 2014-07-28 21:47:15  21h  \n",
       "3 2014-07-29 01:47:10  01h  \n",
       "4 2014-07-29 05:47:11  05h  "
      ]
     },
     "execution_count": 291,
     "metadata": {},
     "output_type": "execute_result"
    }
   ],
   "source": [
    "df_ra_dsl.head()"
   ]
  },
  {
   "cell_type": "code",
   "execution_count": 292,
   "metadata": {
    "collapsed": true
   },
   "outputs": [],
   "source": [
    "df_ra_dsl_hour_gby   = df_ra_dsl.groupby('hour')\n",
    "df_ra_cable_hour_gby = df_ra_cable.groupby('hour')\n",
    "df_ra_fibre_hour_gby = df_ra_fibre.groupby('hour')\n",
    "\n",
    "ra_dsl_probes_by_hour   = ['%d'%len(set(v['probeid'].values)) for k, v in df_ra_dsl_hour_gby] \n",
    "ra_cable_probes_by_hour = ['%d'%len(set(v['probeid'].values)) for k, v in df_ra_cable_hour_gby] \n",
    "ra_fibre_probes_by_hour = ['%d'%len(set(v['probeid'].values)) for k, v in df_ra_fibre_hour_gby] "
   ]
  },
  {
   "cell_type": "code",
   "execution_count": 293,
   "metadata": {
    "collapsed": false
   },
   "outputs": [],
   "source": [
    "def num_probes(x):\n",
    "    probeids = \"%s\" % ','.join(x)\n",
    "    return len(set(probeids.split(',')))\n",
    "\n",
    "df_ra_dsl_hour_probes    =   df_ra_dsl_hour_gby['probeid'].agg([num_probes])\n",
    "df_ra_cable_hour_probes  =   df_ra_cable_hour_gby['probeid'].agg([num_probes])\n",
    "df_ra_fibre_hour_probes  =   df_ra_fibre_hour_gby['probeid'].agg([num_probes])"
   ]
  },
  {
   "cell_type": "code",
   "execution_count": 294,
   "metadata": {
    "collapsed": false
   },
   "outputs": [
    {
     "data": {
      "text/html": [
       "<div>\n",
       "<table border=\"1\" class=\"dataframe\">\n",
       "  <thead>\n",
       "    <tr style=\"text-align: right;\">\n",
       "      <th></th>\n",
       "      <th>probeid</th>\n",
       "      <th>lastmile</th>\n",
       "      <th>nodename</th>\n",
       "      <th>chosen</th>\n",
       "      <th>tz</th>\n",
       "      <th>datetime</th>\n",
       "      <th>hour</th>\n",
       "    </tr>\n",
       "  </thead>\n",
       "  <tbody>\n",
       "    <tr>\n",
       "      <th>0</th>\n",
       "      <td>10006</td>\n",
       "      <td>20.061</td>\n",
       "      <td>XS4ALL (AS3265)</td>\n",
       "      <td>DSL</td>\n",
       "      <td>Europe/Amsterdam</td>\n",
       "      <td>2014-07-28 13:47:14</td>\n",
       "      <td>13h</td>\n",
       "    </tr>\n",
       "    <tr>\n",
       "      <th>1</th>\n",
       "      <td>10006</td>\n",
       "      <td>17.269</td>\n",
       "      <td>XS4ALL (AS3265)</td>\n",
       "      <td>DSL</td>\n",
       "      <td>Europe/Amsterdam</td>\n",
       "      <td>2014-07-28 17:47:12</td>\n",
       "      <td>17h</td>\n",
       "    </tr>\n",
       "    <tr>\n",
       "      <th>2</th>\n",
       "      <td>10006</td>\n",
       "      <td>17.338</td>\n",
       "      <td>XS4ALL (AS3265)</td>\n",
       "      <td>DSL</td>\n",
       "      <td>Europe/Amsterdam</td>\n",
       "      <td>2014-07-28 21:47:15</td>\n",
       "      <td>21h</td>\n",
       "    </tr>\n",
       "    <tr>\n",
       "      <th>3</th>\n",
       "      <td>10006</td>\n",
       "      <td>17.099</td>\n",
       "      <td>XS4ALL (AS3265)</td>\n",
       "      <td>DSL</td>\n",
       "      <td>Europe/Amsterdam</td>\n",
       "      <td>2014-07-29 01:47:10</td>\n",
       "      <td>01h</td>\n",
       "    </tr>\n",
       "    <tr>\n",
       "      <th>4</th>\n",
       "      <td>10006</td>\n",
       "      <td>17.104</td>\n",
       "      <td>XS4ALL (AS3265)</td>\n",
       "      <td>DSL</td>\n",
       "      <td>Europe/Amsterdam</td>\n",
       "      <td>2014-07-29 05:47:11</td>\n",
       "      <td>05h</td>\n",
       "    </tr>\n",
       "  </tbody>\n",
       "</table>\n",
       "</div>"
      ],
      "text/plain": [
       "  probeid  lastmile         nodename chosen                tz  \\\n",
       "0   10006    20.061  XS4ALL (AS3265)    DSL  Europe/Amsterdam   \n",
       "1   10006    17.269  XS4ALL (AS3265)    DSL  Europe/Amsterdam   \n",
       "2   10006    17.338  XS4ALL (AS3265)    DSL  Europe/Amsterdam   \n",
       "3   10006    17.099  XS4ALL (AS3265)    DSL  Europe/Amsterdam   \n",
       "4   10006    17.104  XS4ALL (AS3265)    DSL  Europe/Amsterdam   \n",
       "\n",
       "             datetime hour  \n",
       "0 2014-07-28 13:47:14  13h  \n",
       "1 2014-07-28 17:47:12  17h  \n",
       "2 2014-07-28 21:47:15  21h  \n",
       "3 2014-07-29 01:47:10  01h  \n",
       "4 2014-07-29 05:47:11  05h  "
      ]
     },
     "execution_count": 294,
     "metadata": {},
     "output_type": "execute_result"
    }
   ],
   "source": [
    "df_ra_dsl.head()"
   ]
  },
  {
   "cell_type": "code",
   "execution_count": 295,
   "metadata": {
    "collapsed": false
   },
   "outputs": [
    {
     "data": {
      "text/html": [
       "<div>\n",
       "<table border=\"1\" class=\"dataframe\">\n",
       "  <thead>\n",
       "    <tr style=\"text-align: right;\">\n",
       "      <th></th>\n",
       "      <th>num_probes</th>\n",
       "    </tr>\n",
       "    <tr>\n",
       "      <th>hour</th>\n",
       "      <th></th>\n",
       "    </tr>\n",
       "  </thead>\n",
       "  <tbody>\n",
       "    <tr>\n",
       "      <th>00h</th>\n",
       "      <td>30</td>\n",
       "    </tr>\n",
       "    <tr>\n",
       "      <th>01h</th>\n",
       "      <td>424</td>\n",
       "    </tr>\n",
       "    <tr>\n",
       "      <th>02h</th>\n",
       "      <td>15</td>\n",
       "    </tr>\n",
       "    <tr>\n",
       "      <th>03h</th>\n",
       "      <td>40</td>\n",
       "    </tr>\n",
       "    <tr>\n",
       "      <th>04h</th>\n",
       "      <td>26</td>\n",
       "    </tr>\n",
       "  </tbody>\n",
       "</table>\n",
       "</div>"
      ],
      "text/plain": [
       "      num_probes\n",
       "hour            \n",
       "00h           30\n",
       "01h          424\n",
       "02h           15\n",
       "03h           40\n",
       "04h           26"
      ]
     },
     "execution_count": 295,
     "metadata": {},
     "output_type": "execute_result"
    }
   ],
   "source": [
    "df_ra_dsl_hour_probes.head()"
   ]
  },
  {
   "cell_type": "code",
   "execution_count": 296,
   "metadata": {
    "collapsed": false
   },
   "outputs": [],
   "source": [
    "df_ra_dsl    =   pd.merge(df_ra_dsl, df_ra_dsl_hour_probes, left_on='hour', right_index=True)\n",
    "df_ra_cable  =   pd.merge(df_ra_cable, df_ra_cable_hour_probes, left_on='hour', right_index=True)\n",
    "df_ra_fibre  =   pd.merge(df_ra_fibre, df_ra_fibre_hour_probes, left_on='hour', right_index=True)"
   ]
  },
  {
   "cell_type": "code",
   "execution_count": 297,
   "metadata": {
    "collapsed": false
   },
   "outputs": [],
   "source": [
    "ra_dsl_probes    =   len(set(df_ra_dsl['probeid'].values))\n",
    "ra_cable_probes  =   len(set(df_ra_cable['probeid'].values))\n",
    "ra_fibre_probes  =   len(set(df_ra_fibre['probeid'].values))"
   ]
  },
  {
   "cell_type": "code",
   "execution_count": 298,
   "metadata": {
    "collapsed": false
   },
   "outputs": [],
   "source": [
    "df_ra_dsl['frac_probes']   = df_ra_dsl['num_probes']   / ra_dsl_probes\n",
    "df_ra_cable['frac_probes'] = df_ra_cable['num_probes'] / ra_cable_probes\n",
    "df_ra_fibre['frac_probes'] = df_ra_fibre['num_probes'] / ra_fibre_probes"
   ]
  },
  {
   "cell_type": "code",
   "execution_count": 299,
   "metadata": {
    "collapsed": false
   },
   "outputs": [],
   "source": [
    "df_ra_dsl   = df_ra_dsl[df_ra_dsl['frac_probes'] > 0.25]\n",
    "df_ra_cable = df_ra_cable[df_ra_cable['frac_probes'] > 0.25]\n",
    "df_ra_fibre = df_ra_fibre[df_ra_fibre['frac_probes'] > 0.25]"
   ]
  },
  {
   "cell_type": "code",
   "execution_count": 300,
   "metadata": {
    "collapsed": false
   },
   "outputs": [],
   "source": [
    "df_ra_dsl_hour_gby   = df_ra_dsl.groupby('hour')\n",
    "df_ra_cable_hour_gby = df_ra_cable.groupby('hour')\n",
    "df_ra_fibre_hour_gby = df_ra_fibre.groupby('hour')\n",
    "\n",
    "ra_dsl_probes_by_hour   = ['%d'%len(set(v['probeid'].values)) for k, v in df_ra_dsl_hour_gby] \n",
    "ra_cable_probes_by_hour = ['%d'%len(set(v['probeid'].values)) for k, v in df_ra_cable_hour_gby] \n",
    "ra_fibre_probes_by_hour = ['%d'%len(set(v['probeid'].values)) for k, v in df_ra_fibre_hour_gby] "
   ]
  },
  {
   "cell_type": "code",
   "execution_count": 307,
   "metadata": {
    "collapsed": false
   },
   "outputs": [
    {
     "data": {
      "image/png": "[encoded data removed]",
      "text/plain": [
       "<matplotlib.figure.Figure at 0x7f7239d1e550>"
      ]
     },
     "metadata": {},
     "output_type": "display_data"
    }
   ],
   "source": [
    "fig = plt.figure(figsize=(3,12))\n",
    "plt.rcParams['font.size'] = 22\n",
    "\n",
    "ax1 = fig.add_subplot(311)\n",
    "ax2 = fig.add_subplot(312, sharex = ax1)\n",
    "ax3 = fig.add_subplot(313, sharex = ax1)\n",
    "\n",
    "a  = df_ra_dsl.boxplot (  column='lastmile'\n",
    "                        , by=['hour']\n",
    "                        , ax=ax1\n",
    "                        , vert=False\n",
    "                       )\n",
    "\n",
    "stop_plot_box(a, chosen='DSL', count = 0, probes_by_hour = ra_dsl_probes_by_hour, platform = 'RIPE Atlas')\n",
    "\n",
    "b  = df_ra_cable.boxplot (  column='lastmile'\n",
    "                        , by=['hour']\n",
    "                        , ax=ax2\n",
    "                        , vert=False\n",
    "                       )\n",
    "\n",
    "stop_plot_box(b, chosen='CABLE', count = 0, probes_by_hour = ra_cable_probes_by_hour, platform = 'RIPE Atlas')\n",
    "\n",
    "c  = df_ra_fibre.boxplot (  column='lastmile'\n",
    "                          , by=['hour']\n",
    "                          , ax=ax3\n",
    "                          , vert=False\n",
    "                         )\n",
    "\n",
    "stop_plot_box(c, chosen='FIBRE', count = 0, probes_by_hour = ra_fibre_probes_by_hour, platform = 'RIPE Atlas')\n",
    "\n",
    "xticklabels = ax1.get_xticklabels() + ax2.get_xticklabels()\n",
    "plt.setp(xticklabels, visible=True)\n",
    "\n",
    "fig.subplots_adjust(hspace = 0.5)\n",
    "\n",
    "ax1.set_xlabel('', fontsize=22)\n",
    "ax2.set_xlabel('', fontsize=22)\n",
    "\n",
    "plt.savefig('ra-lastmile-latency-hour-boxplot.pdf', format='pdf', bbox_inches='tight')"
   ]
  },
  {
   "cell_type": "code",
   "execution_count": 142,
   "metadata": {
    "collapsed": false
   },
   "outputs": [],
   "source": [
    "del df_ra_dsl['num_probes']; del df_ra_dsl['frac_probes']\n",
    "del df_ra_cable['num_probes']; del df_ra_cable['frac_probes']\n",
    "del df_ra_fibre['num_probes']; del df_ra_fibre['frac_probes']"
   ]
  },
  {
   "cell_type": "code",
   "execution_count": 143,
   "metadata": {
    "collapsed": false
   },
   "outputs": [],
   "source": [
    "df_ra_cable['tz'] = df_ra_cable['tz'].apply(lambda tz: tz.split('/')[-1].replace('_', ' '))\n",
    "df_ra_dsl['tz']   = df_ra_dsl['tz'].apply(lambda tz: tz.split('/')[-1].replace('_', ' '))\n",
    "df_ra_fibre['tz'] = df_ra_fibre['tz'].apply(lambda tz: tz.split('/')[-1].replace('_', ' '))"
   ]
  },
  {
   "cell_type": "code",
   "execution_count": 144,
   "metadata": {
    "collapsed": false
   },
   "outputs": [],
   "source": [
    "df_ra_cable_gby_nodename = df_ra_cable.groupby('nodename')\n",
    "df_ra_dsl_gby_nodename   = df_ra_dsl.groupby('nodename')\n",
    "df_ra_fibre_gby_nodename = df_ra_fibre.groupby('nodename')"
   ]
  },
  {
   "cell_type": "code",
   "execution_count": 145,
   "metadata": {
    "collapsed": false
   },
   "outputs": [],
   "source": [
    "def get_frac_probes_by_nodename_within_tz(provider):\n",
    "\n",
    "    def num_probes(x):\n",
    "        probeids = \"%s\" % ','.join(x)\n",
    "        return len(set(probeids.split(',')))\n",
    "\n",
    "    provider_gby   = provider.groupby('tz')\n",
    "    provider_tz_probes  =   provider_gby['probeid'].agg([num_probes])\n",
    "    provider_tz_probes  =   provider_gby['probeid'].agg([num_probes])\n",
    "    provider_tz_probes  =   provider_gby['probeid'].agg([num_probes])\n",
    "    \n",
    "    provider  =   pd.merge(provider, provider_tz_probes, left_on='tz', right_index=True)    \n",
    "    provider_probes    =   len(set(provider['probeid'].values))\n",
    "    provider['frac_probes']   = provider['num_probes']   / provider_probes\n",
    "    return provider"
   ]
  },
  {
   "cell_type": "code",
   "execution_count": 147,
   "metadata": {
    "collapsed": false
   },
   "outputs": [],
   "source": [
    "for name, provider in df_ra_dsl_gby_nodename:\n",
    "    \n",
    "    provider_gby   = provider.groupby('tz')\n",
    "    probes_by_tz   = ['%d'%len(set(v['probeid'].values)) for k, v in provider_gby]\n",
    "    if len(probes_by_tz) <= 1: continue\n",
    "    \n",
    "    ax = start_plot_box(height=3)\n",
    "\n",
    "    a  = provider.boxplot (   column='lastmile'\n",
    "                            , by=['tz']\n",
    "                            , ax=ax\n",
    "                            , vert=False\n",
    "                           )\n",
    "\n",
    "    stop_plot_box(a, platform = 'RIPE Atlas', chosen=name, count=0\n",
    "                  , probes_by_hour = probes_by_tz)"
   ]
  },
  {
   "cell_type": "code",
   "execution_count": 149,
   "metadata": {
    "collapsed": false
   },
   "outputs": [],
   "source": [
    "def get_tcode_from_tz(tz):\n",
    "    d = {   'Honolulu'    : 'HST'\n",
    "          , 'Zurich'      : 'CET'\n",
    "          , 'Dublin'      : 'GMT'\n",
    "          , 'Los Angeles' : 'PST'\n",
    "          , 'New York'    : 'EST'\n",
    "        }\n",
    "    \n",
    "    return d.get(tz, None)\n",
    "    \n",
    "df_ra_cable['acode'] = df_ra_cable['tz'].apply(get_tcode_from_tz)"
   ]
  },
  {
   "cell_type": "code",
   "execution_count": 151,
   "metadata": {
    "collapsed": false
   },
   "outputs": [
    {
     "data": {
      "text/html": [
       "<div>\n",
       "<table border=\"1\" class=\"dataframe\">\n",
       "  <thead>\n",
       "    <tr style=\"text-align: right;\">\n",
       "      <th></th>\n",
       "      <th>probeid</th>\n",
       "      <th>lastmile</th>\n",
       "      <th>nodename</th>\n",
       "      <th>chosen</th>\n",
       "      <th>tz</th>\n",
       "      <th>datetime</th>\n",
       "      <th>hour</th>\n",
       "    </tr>\n",
       "  </thead>\n",
       "  <tbody>\n",
       "    <tr>\n",
       "      <th>0</th>\n",
       "      <td>10006</td>\n",
       "      <td>20.061</td>\n",
       "      <td>XS4ALL (AS3265)</td>\n",
       "      <td>DSL</td>\n",
       "      <td>Europe/Amsterdam</td>\n",
       "      <td>2014-07-28 13:47:14</td>\n",
       "      <td>13h</td>\n",
       "    </tr>\n",
       "    <tr>\n",
       "      <th>1</th>\n",
       "      <td>10006</td>\n",
       "      <td>17.269</td>\n",
       "      <td>XS4ALL (AS3265)</td>\n",
       "      <td>DSL</td>\n",
       "      <td>Europe/Amsterdam</td>\n",
       "      <td>2014-07-28 17:47:12</td>\n",
       "      <td>17h</td>\n",
       "    </tr>\n",
       "    <tr>\n",
       "      <th>2</th>\n",
       "      <td>10006</td>\n",
       "      <td>17.338</td>\n",
       "      <td>XS4ALL (AS3265)</td>\n",
       "      <td>DSL</td>\n",
       "      <td>Europe/Amsterdam</td>\n",
       "      <td>2014-07-28 21:47:15</td>\n",
       "      <td>21h</td>\n",
       "    </tr>\n",
       "    <tr>\n",
       "      <th>3</th>\n",
       "      <td>10006</td>\n",
       "      <td>17.099</td>\n",
       "      <td>XS4ALL (AS3265)</td>\n",
       "      <td>DSL</td>\n",
       "      <td>Europe/Amsterdam</td>\n",
       "      <td>2014-07-29 01:47:10</td>\n",
       "      <td>01h</td>\n",
       "    </tr>\n",
       "    <tr>\n",
       "      <th>4</th>\n",
       "      <td>10006</td>\n",
       "      <td>17.104</td>\n",
       "      <td>XS4ALL (AS3265)</td>\n",
       "      <td>DSL</td>\n",
       "      <td>Europe/Amsterdam</td>\n",
       "      <td>2014-07-29 05:47:11</td>\n",
       "      <td>05h</td>\n",
       "    </tr>\n",
       "  </tbody>\n",
       "</table>\n",
       "</div>"
      ],
      "text/plain": [
       "  probeid  lastmile         nodename chosen                tz  \\\n",
       "0   10006    20.061  XS4ALL (AS3265)    DSL  Europe/Amsterdam   \n",
       "1   10006    17.269  XS4ALL (AS3265)    DSL  Europe/Amsterdam   \n",
       "2   10006    17.338  XS4ALL (AS3265)    DSL  Europe/Amsterdam   \n",
       "3   10006    17.099  XS4ALL (AS3265)    DSL  Europe/Amsterdam   \n",
       "4   10006    17.104  XS4ALL (AS3265)    DSL  Europe/Amsterdam   \n",
       "\n",
       "             datetime hour  \n",
       "0 2014-07-28 13:47:14  13h  \n",
       "1 2014-07-28 17:47:12  17h  \n",
       "2 2014-07-28 21:47:15  21h  \n",
       "3 2014-07-29 01:47:10  01h  \n",
       "4 2014-07-29 05:47:11  05h  "
      ]
     },
     "execution_count": 151,
     "metadata": {},
     "output_type": "execute_result"
    }
   ],
   "source": [
    "df_ra.head()"
   ]
  },
  {
   "cell_type": "code",
   "execution_count": 152,
   "metadata": {
    "collapsed": false
   },
   "outputs": [],
   "source": [
    "df_ra_groupby = df_ra.groupby('probeid')\n",
    "df_ra_agg = df_ra_groupby['lastmile'].agg(['median'])\n",
    "df_ra_merged = pd.merge(df_ra, df_ra_agg, left_on='probeid', right_index=True)\n",
    "\n",
    "del df_ra_merged['datetime']\n",
    "del df_ra_merged['hour']\n",
    "del df_ra_merged['lastmile']\n",
    "\n",
    "df_ra_merged = df_ra_merged.drop_duplicates()\n",
    "df_ra_merged.rename(columns={'median': 'lastmile_median'}, inplace=True)"
   ]
  },
  {
   "cell_type": "code",
   "execution_count": 153,
   "metadata": {
    "collapsed": true
   },
   "outputs": [],
   "source": [
    "df_ra_dsl   = df_ra_merged[df_ra_merged.chosen == 'DSL']\n",
    "df_ra_cable = df_ra_merged[df_ra_merged.chosen == 'CABLE']\n",
    "df_ra_fibre = df_ra_merged[df_ra_merged.chosen == 'FIBRE']"
   ]
  },
  {
   "cell_type": "code",
   "execution_count": 154,
   "metadata": {
    "collapsed": false
   },
   "outputs": [
    {
     "name": "stderr",
     "output_type": "stream",
     "text": [
      "/home/vbajpai/.virtualenvs/lastmile-data-collection-analysis-python3/lib/python3.4/site-packages/ipykernel/__main__.py:1: SettingWithCopyWarning: \n",
      "A value is trying to be set on a copy of a slice from a DataFrame.\n",
      "Try using .loc[row_indexer,col_indexer] = value instead\n",
      "\n",
      "See the caveats in the documentation: http://pandas.pydata.org/pandas-docs/stable/indexing.html#indexing-view-versus-copy\n",
      "  if __name__ == '__main__':\n",
      "/home/vbajpai/.virtualenvs/lastmile-data-collection-analysis-python3/lib/python3.4/site-packages/ipykernel/__main__.py:2: SettingWithCopyWarning: \n",
      "A value is trying to be set on a copy of a slice from a DataFrame.\n",
      "Try using .loc[row_indexer,col_indexer] = value instead\n",
      "\n",
      "See the caveats in the documentation: http://pandas.pydata.org/pandas-docs/stable/indexing.html#indexing-view-versus-copy\n",
      "  from ipykernel import kernelapp as app\n",
      "/home/vbajpai/.virtualenvs/lastmile-data-collection-analysis-python3/lib/python3.4/site-packages/ipykernel/__main__.py:3: SettingWithCopyWarning: \n",
      "A value is trying to be set on a copy of a slice from a DataFrame.\n",
      "Try using .loc[row_indexer,col_indexer] = value instead\n",
      "\n",
      "See the caveats in the documentation: http://pandas.pydata.org/pandas-docs/stable/indexing.html#indexing-view-versus-copy\n",
      "  app.launch_new_instance()\n"
     ]
    }
   ],
   "source": [
    "df_ra_cable['tz'] = df_ra_cable['tz'].apply(lambda tz: tz.split('/')[-1].replace('_', ' '))\n",
    "df_ra_dsl['tz']   = df_ra_dsl['tz'].apply(lambda tz: tz.split('/')[-1].replace('_', ' '))\n",
    "df_ra_fibre['tz'] = df_ra_fibre['tz'].apply(lambda tz: tz.split('/')[-1].replace('_', ' '))"
   ]
  },
  {
   "cell_type": "code",
   "execution_count": 155,
   "metadata": {
    "collapsed": true
   },
   "outputs": [],
   "source": [
    "df_ra_cable_gby_nodename = df_ra_cable.groupby('nodename')\n",
    "df_ra_dsl_gby_nodename = df_ra_cable.groupby('nodename')\n",
    "df_ra_fibre_gby_nodename = df_ra_cable.groupby('nodename')"
   ]
  },
  {
   "cell_type": "code",
   "execution_count": 156,
   "metadata": {
    "collapsed": true
   },
   "outputs": [],
   "source": [
    "def start_plot(fontsize=22, height = 1.5):    \n",
    "    # ----- plt.style.use('ggplot')\n",
    "    fig = plt.figure(figsize=(5, height))\n",
    "    plt.rcParams['font.size'] = fontsize\n",
    "    ax = fig.add_subplot(111)\n",
    "    return ax"
   ]
  },
  {
   "cell_type": "code",
   "execution_count": 157,
   "metadata": {
    "collapsed": true
   },
   "outputs": [],
   "source": [
    "def stop_plot(ax, chosen, count, fontsize = 22):\n",
    "    \n",
    "    xticks = [1, 2, 4, 8, 16, 32, 64]\n",
    "    yticks = np.arange(0,1.1,0.2)\n",
    "    #ax.yaxis.set_label_coords(-0.15, 0.45)\n",
    "    ax.grid(False)\n",
    "    ax.set_yticks(yticks)\n",
    "    ax.set_ylim([0,1.05])\n",
    "    ax.set_xlim([1, 64])    \n",
    "    ax.set_xscale('log', basex=2)\n",
    "    ax.set_xlabel('Last-mile latency (ms)', fontsize=fontsize)\n",
    "    ax.set_ylabel('CDF (%d)'%count, fontsize=fontsize)\n",
    "    \n",
    "    ax.spines['right'].set_color('none')\n",
    "    ax.spines['top'].set_color('none')\n",
    "    ax.yaxis.set_ticks_position('left')\n",
    "    ax.xaxis.set_ticks_position('bottom')\n",
    "    ax.spines['bottom'].set_position(('axes', -0.05))\n",
    "    ax.spines['left'].set_position(('axes', -0.05))\n",
    "    \n",
    "    plt.xticks(xticks, xticks)\n",
    "    \n",
    "    plt.legend(fontsize=12, loc='upper left', ncol=1)    \n",
    "    plt.title('%s (RIPE Atlas)'%(chosen), fontsize=fontsize, y=1.05)"
   ]
  },
  {
   "cell_type": "code",
   "execution_count": 158,
   "metadata": {
    "collapsed": true
   },
   "outputs": [],
   "source": [
    "import Cdf\n",
    "\n",
    "markers = ['d', 'x', '+', 'o', 'p', 'v', '8', '*', 'D', '<', 's']\n",
    "colors  = ['Red', 'Blue']\n",
    "\n",
    "def draw_cdf(df, nodename, index):\n",
    "    \n",
    "    sample = df['lastmile_median'].values\n",
    "    sample = [x for x in sample if x > 0]\n",
    "    c = Cdf.MakeCdfFromList(sample)\n",
    "    \n",
    "    plt.plot (  c.xs\n",
    "              , c.ps\n",
    "              , marker=markers[index]\n",
    "              , linewidth=0.3\n",
    "              , markersize=5\n",
    "              , fillstyle='none'\n",
    "              , color = colors[index]\n",
    "              , label=\"%s (%d)\"%(nodename, df['probeid'].count())\n",
    "             )"
   ]
  },
  {
   "cell_type": "code",
   "execution_count": 159,
   "metadata": {
    "collapsed": false
   },
   "outputs": [
    {
     "data": {
      "image/png": "[encoded data removed]",
      "text/plain": [
       "<matplotlib.figure.Figure at 0x7f72389062e8>"
      ]
     },
     "metadata": {},
     "output_type": "display_data"
    },
    {
     "data": {
      "image/png": "[encoded data removed]",
      "text/plain": [
       "<matplotlib.figure.Figure at 0x7f7238906a90>"
      ]
     },
     "metadata": {},
     "output_type": "display_data"
    },
    {
     "data": {
      "image/png": "[encoded data removed]",
      "text/plain": [
       "<matplotlib.figure.Figure at 0x7f72388b1e48>"
      ]
     },
     "metadata": {},
     "output_type": "display_data"
    }
   ],
   "source": [
    "for index, (name, provider) in enumerate(df_ra_cable_gby_nodename):\n",
    "    \n",
    "    provider   = get_frac_probes_by_nodename_within_tz(provider)\n",
    "    provider   = provider[provider['frac_probes'] > 0.20]\n",
    "    provider['tcode'] = provider['tz'].apply(get_tcode_from_tz)    \n",
    "    provider_gby   = provider.groupby('tcode')\n",
    "    provider_count = provider['probeid'].count()\n",
    "    \n",
    "    name = name.split(' ')[0]\n",
    "    \n",
    "    probes_by_tz   = ['%d'%len(set(v['probeid'].values)) for k, v in provider_gby]\n",
    "    if len(probes_by_tz) <= 1: continue      # -- skip if provider only in 1 timezone\n",
    "\n",
    "    ax = start_plot(fontsize = 12)\n",
    "    name = '%s (RIPE Atlas)'%name\n",
    "    \n",
    "    for index, (k, v) in \\\n",
    "    enumerate(sorted(provider_gby.groups.items(), key=lambda x: len(x[1]), reverse=True)):\n",
    "        groups = provider_gby.get_group(k)\n",
    "        probes = groups['probeid'].count()\n",
    "        try: draw_cdf(groups, k, index)\n",
    "        except Exception as e: print(e, k, groups['probeid'].count())\n",
    "    \n",
    "    stop_plot(ax=ax, count=provider_count, chosen=name, fontsize = 12)\n",
    "    \n",
    "    plt.title('%s'%(name), fontsize=12, y=1.05)\n",
    "    name = name.split()[0]\n",
    "    plt.savefig('ra-%s-lastmile-latency-cdf.pdf'%name, format='pdf', bbox_inches='tight')\n",
    "    name = name.split(' ')[0]"
   ]
  }
 ],
 "metadata": {
  "kernelspec": {
   "display_name": "Python 3",
   "language": "python",
   "name": "python3"
  },
  "language_info": {
   "codemirror_mode": {
    "name": "ipython",
    "version": 3
   },
   "file_extension": ".py",
   "mimetype": "text/x-python",
   "name": "python",
   "nbconvert_exporter": "python",
   "pygments_lexer": "ipython3",
   "version": "3.4.2"
  }
 },
 "nbformat": 4,
 "nbformat_minor": 0
}
