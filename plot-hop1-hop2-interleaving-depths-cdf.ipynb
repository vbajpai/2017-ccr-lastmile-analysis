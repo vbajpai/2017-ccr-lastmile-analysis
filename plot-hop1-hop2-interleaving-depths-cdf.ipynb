{
 "cells": [
  {
   "cell_type": "markdown",
   "metadata": {},
   "source": [
    "*This notebook plots the distribution of probes that witness 2-levels and 3-levels of interleaving depth level changes*\n",
    "- - - "
   ]
  },
  {
   "cell_type": "code",
   "execution_count": 1,
   "metadata": {
    "collapsed": false
   },
   "outputs": [
    {
     "name": "stdout",
     "output_type": "stream",
     "text": [
      "Populating the interactive namespace from numpy and matplotlib\n"
     ]
    }
   ],
   "source": [
    "%pylab inline"
   ]
  },
  {
   "cell_type": "code",
   "execution_count": 2,
   "metadata": {
    "collapsed": false
   },
   "outputs": [],
   "source": [
    "import sqlite3\n",
    "import pandas as pd\n",
    "import matplotlib.dates as dates"
   ]
  },
  {
   "cell_type": "code",
   "execution_count": 3,
   "metadata": {
    "collapsed": true
   },
   "outputs": [],
   "source": [
    "DB_LOCATION = 'lastmile.db'"
   ]
  },
  {
   "cell_type": "code",
   "execution_count": 4,
   "metadata": {
    "collapsed": true
   },
   "outputs": [],
   "source": [
    "RA_PROBE = 'ra_probe'\n",
    "RA_PROBE_API = 'ra_probe_api'\n",
    "RA_ASN = 'ra_asn'\n",
    "RA_ONE_OFF_EXTENSIONS = 'ra_one_off_extensions'\n",
    "RA_LATENCIES_AGG = 'ra_latencies_agg'"
   ]
  },
  {
   "cell_type": "code",
   "execution_count": 5,
   "metadata": {
    "collapsed": true
   },
   "outputs": [],
   "source": [
    "SK_ONE_OFF_EXTENSIONS = 'sk_one_off_extensions'\n",
    "SK_LATENCIES_AGG = 'sk_latencies_agg'\n",
    "SK_ASN = 'sk_asn'\n",
    "METADATA_SNAPSHOT = 'metadata_snapshot'\n",
    "METADATA_SNAPSHOT_EXTENSIONS = 'metadata_snapshot_extensions'"
   ]
  },
  {
   "cell_type": "code",
   "execution_count": 6,
   "metadata": {
    "collapsed": false
   },
   "outputs": [],
   "source": [
    "con = sqlite3.connect(DB_LOCATION)"
   ]
  },
  {
   "cell_type": "code",
   "execution_count": 7,
   "metadata": {
    "collapsed": false
   },
   "outputs": [],
   "source": [
    "query_ra = '''SELECT      agg.probeid\n",
    "                        , agg.timestamp\n",
    "                        , s.asn\n",
    "                        , s.asn_holder_name\n",
    "                        , s.asn_access_type\n",
    "                        , agg.h1_median as h1\n",
    "                        , agg.h2_median as h2                        \n",
    "\n",
    "               FROM   %s                             as  agg\n",
    "                    , %s                             as  api               \n",
    "                    , %s                             as  s                  \n",
    "                    , %s                             as  hardware\n",
    "                    , %s                             as  ext\n",
    "\n",
    "               WHERE     agg.probeid                  =  api.probeid\n",
    "               AND       agg.probeid                  =  hardware.probeid\n",
    "               AND       agg.probeid                  =  ext.probeid\n",
    "               AND       api.asn_v4                   =  s.asn\n",
    "               \n",
    "\n",
    "               AND       hardware.hardware_version    =  'v3'\n",
    "               AND       ext.if_residential           =  1\n",
    "               \n",
    "            '''%(  RA_LATENCIES_AGG\n",
    "                 , RA_PROBE_API\n",
    "                 , RA_ASN\n",
    "                 , RA_PROBE\n",
    "                 , RA_ONE_OFF_EXTENSIONS\n",
    "                )\n",
    "\n",
    "df_ra = pd.read_sql(query_ra, con)"
   ]
  },
  {
   "cell_type": "code",
   "execution_count": 8,
   "metadata": {
    "collapsed": false
   },
   "outputs": [
    {
     "data": {
      "text/plain": [
       "probeid            134724\n",
       "timestamp          134724\n",
       "asn                134724\n",
       "asn_holder_name    134724\n",
       "asn_access_type    134724\n",
       "h1                 133920\n",
       "h2                 130563\n",
       "dtype: int64"
      ]
     },
     "execution_count": 8,
     "metadata": {},
     "output_type": "execute_result"
    }
   ],
   "source": [
    "df_ra.count()"
   ]
  },
  {
   "cell_type": "code",
   "execution_count": 9,
   "metadata": {
    "collapsed": false
   },
   "outputs": [
    {
     "data": {
      "text/html": [
       "<div>\n",
       "<table border=\"1\" class=\"dataframe\">\n",
       "  <thead>\n",
       "    <tr style=\"text-align: right;\">\n",
       "      <th></th>\n",
       "      <th>probeid</th>\n",
       "      <th>timestamp</th>\n",
       "      <th>asn</th>\n",
       "      <th>asn_holder_name</th>\n",
       "      <th>asn_access_type</th>\n",
       "      <th>h1</th>\n",
       "      <th>h2</th>\n",
       "    </tr>\n",
       "  </thead>\n",
       "  <tbody>\n",
       "    <tr>\n",
       "      <th>0</th>\n",
       "      <td>10006</td>\n",
       "      <td>1406548034</td>\n",
       "      <td>3265</td>\n",
       "      <td>XS4ALL-NL XS4ALL Internet BV,NL</td>\n",
       "      <td>DSL</td>\n",
       "      <td>0.429</td>\n",
       "      <td>20.490</td>\n",
       "    </tr>\n",
       "    <tr>\n",
       "      <th>1</th>\n",
       "      <td>10006</td>\n",
       "      <td>1406562432</td>\n",
       "      <td>3265</td>\n",
       "      <td>XS4ALL-NL XS4ALL Internet BV,NL</td>\n",
       "      <td>DSL</td>\n",
       "      <td>0.431</td>\n",
       "      <td>17.700</td>\n",
       "    </tr>\n",
       "    <tr>\n",
       "      <th>2</th>\n",
       "      <td>10006</td>\n",
       "      <td>1406576835</td>\n",
       "      <td>3265</td>\n",
       "      <td>XS4ALL-NL XS4ALL Internet BV,NL</td>\n",
       "      <td>DSL</td>\n",
       "      <td>0.438</td>\n",
       "      <td>17.776</td>\n",
       "    </tr>\n",
       "    <tr>\n",
       "      <th>3</th>\n",
       "      <td>10006</td>\n",
       "      <td>1406591230</td>\n",
       "      <td>3265</td>\n",
       "      <td>XS4ALL-NL XS4ALL Internet BV,NL</td>\n",
       "      <td>DSL</td>\n",
       "      <td>0.478</td>\n",
       "      <td>17.577</td>\n",
       "    </tr>\n",
       "    <tr>\n",
       "      <th>4</th>\n",
       "      <td>10006</td>\n",
       "      <td>1406605631</td>\n",
       "      <td>3265</td>\n",
       "      <td>XS4ALL-NL XS4ALL Internet BV,NL</td>\n",
       "      <td>DSL</td>\n",
       "      <td>0.422</td>\n",
       "      <td>17.526</td>\n",
       "    </tr>\n",
       "  </tbody>\n",
       "</table>\n",
       "</div>"
      ],
      "text/plain": [
       "   probeid   timestamp   asn                  asn_holder_name asn_access_type  \\\n",
       "0    10006  1406548034  3265  XS4ALL-NL XS4ALL Internet BV,NL             DSL   \n",
       "1    10006  1406562432  3265  XS4ALL-NL XS4ALL Internet BV,NL             DSL   \n",
       "2    10006  1406576835  3265  XS4ALL-NL XS4ALL Internet BV,NL             DSL   \n",
       "3    10006  1406591230  3265  XS4ALL-NL XS4ALL Internet BV,NL             DSL   \n",
       "4    10006  1406605631  3265  XS4ALL-NL XS4ALL Internet BV,NL             DSL   \n",
       "\n",
       "      h1      h2  \n",
       "0  0.429  20.490  \n",
       "1  0.431  17.700  \n",
       "2  0.438  17.776  \n",
       "3  0.478  17.577  \n",
       "4  0.422  17.526  "
      ]
     },
     "execution_count": 9,
     "metadata": {},
     "output_type": "execute_result"
    }
   ],
   "source": [
    "df_ra.head()"
   ]
  },
  {
   "cell_type": "code",
   "execution_count": 10,
   "metadata": {
    "collapsed": false
   },
   "outputs": [],
   "source": [
    "query_sk = ''' SELECT     agg.probeid\n",
    "                        , agg.timestamp\n",
    "                        , s.asn \n",
    "                        , s.asn_access_type\n",
    "                        , s.asn_holder_name\n",
    "                        , meta.product                        \n",
    "                        , agg.h1_avg as h1\n",
    "                        , agg.h2_avg as h2\n",
    "                                                                                     \n",
    "               FROM       %s                            as   agg\n",
    "                        , %s                            as   api               \n",
    "                        , %s                            as   ext\n",
    "                        , %s                            as   s\n",
    "                        , %s                            as   meta\n",
    "                        \n",
    "                        \n",
    "\n",
    "               WHERE      agg.probeid                    =    ext.probeid\n",
    "               AND        agg.probeid                    =    api.probeid\n",
    "               AND        agg.probeid                    =    meta.id               \n",
    "               AND        api.asn                        =    s.asn               \n",
    "               \n",
    "               AND        ext.if_residential             =    1\n",
    "               AND        agg.h1_avg                     <>   0\n",
    "               AND        agg.h2_avg                     <>   0\n",
    "               \n",
    "           '''%(   SK_LATENCIES_AGG\n",
    "                 , METADATA_SNAPSHOT_EXTENSIONS                \n",
    "                 , SK_ONE_OFF_EXTENSIONS\n",
    "                 , SK_ASN        \n",
    "                 , METADATA_SNAPSHOT                \n",
    "               )\n",
    "\n",
    "df_sk = pd.read_sql(query_sk, con)"
   ]
  },
  {
   "cell_type": "code",
   "execution_count": 11,
   "metadata": {
    "collapsed": true
   },
   "outputs": [],
   "source": [
    "df_ra = df_ra.dropna()"
   ]
  },
  {
   "cell_type": "code",
   "execution_count": 12,
   "metadata": {
    "collapsed": true
   },
   "outputs": [],
   "source": [
    "df_sk = df_sk.dropna()"
   ]
  },
  {
   "cell_type": "code",
   "execution_count": 13,
   "metadata": {
    "collapsed": false
   },
   "outputs": [
    {
     "data": {
      "text/plain": [
       "probeid            415903\n",
       "timestamp          415903\n",
       "asn                415903\n",
       "asn_access_type    415903\n",
       "asn_holder_name    415903\n",
       "product            415903\n",
       "h1                 415903\n",
       "h2                 415903\n",
       "dtype: int64"
      ]
     },
     "execution_count": 13,
     "metadata": {},
     "output_type": "execute_result"
    }
   ],
   "source": [
    "df_sk.count()"
   ]
  },
  {
   "cell_type": "code",
   "execution_count": 14,
   "metadata": {
    "collapsed": false
   },
   "outputs": [
    {
     "data": {
      "text/plain": [
       "probeid            130006\n",
       "timestamp          130006\n",
       "asn                130006\n",
       "asn_holder_name    130006\n",
       "asn_access_type    130006\n",
       "h1                 130006\n",
       "h2                 130006\n",
       "dtype: int64"
      ]
     },
     "execution_count": 14,
     "metadata": {},
     "output_type": "execute_result"
    }
   ],
   "source": [
    "df_ra.count()"
   ]
  },
  {
   "cell_type": "code",
   "execution_count": 15,
   "metadata": {
    "collapsed": false
   },
   "outputs": [],
   "source": [
    "df_ra = df_ra[df_ra.asn_access_type == 'DSL']\n",
    "df_sk = df_sk[df_sk.asn_access_type == 'DSL']"
   ]
  },
  {
   "cell_type": "code",
   "execution_count": 16,
   "metadata": {
    "collapsed": true
   },
   "outputs": [],
   "source": [
    "def create_pretty_node_names(asn, holder):\n",
    "    \n",
    "    d = {\n",
    "          'NTL'        : 'VIRGINMEDIA'\n",
    "        , 'AS3215'     : 'ORANGE'        \n",
    "        , 'VODANET'    : 'VODAFONE'\n",
    "        , 'PROXAD'     : 'FREE'\n",
    "        , 'ROADRUNNER' : 'TWC'\n",
    "        , 'TDDE'       : 'TELEFONICA-DE'\n",
    "        , 'TT'         : 'TALKTALK'\n",
    "    }\n",
    "    \n",
    "    firstname = holder.split('-')[0].split(' ')[0]\n",
    "    try: firstname = d[firstname]\n",
    "    except Exception as e: pass\n",
    "    \n",
    "    if 'AS' in str(asn): nodename = '%s (%s)'%(firstname, asn)\n",
    "    else: nodename = '%s (AS%s)'%(firstname, asn)\n",
    "    return nodename\n",
    "\n",
    "def myfunc(x):\n",
    "    asn = x['asn']; holder = x['asn_holder_name']; \n",
    "    nodename = create_pretty_node_names(asn, holder)\n",
    "    x['nodename'] = nodename\n",
    "    return x"
   ]
  },
  {
   "cell_type": "code",
   "execution_count": 17,
   "metadata": {
    "collapsed": false
   },
   "outputs": [],
   "source": [
    "df_ra_groupby = df_ra.groupby(['asn', 'asn_holder_name'])\n",
    "df_sk_groupby = df_sk.groupby(['asn', 'asn_holder_name'])"
   ]
  },
  {
   "cell_type": "code",
   "execution_count": 18,
   "metadata": {
    "collapsed": false
   },
   "outputs": [],
   "source": [
    "from scipy.cluster.vq import kmeans\n",
    "from scipy.signal import argrelextrema\n",
    "\n",
    "def calculate_kde(df):\n",
    "\n",
    "    x = df.sort('h2')['h2'].values\n",
    "    from scipy.stats import kde    \n",
    "    try: density = kde.gaussian_kde(x)\n",
    "    except Exception as e: print(e, type(e), key, end=''); return None\n",
    "    else: \n",
    "        xgrid = np.linspace(x.min(), x.max(), len(x))   \n",
    "        ygrid = density(xgrid)\n",
    "        return xgrid, ygrid\n",
    "        \n",
    "def calculate_kde_peaks(df):\n",
    "    \n",
    "    xgrid, ygrid = calculate_kde(df)\n",
    "    maximas_indexes = argrelextrema(ygrid, np.greater)[0]\n",
    "    max_y = ygrid[maximas_indexes]        \n",
    "    max_x = xgrid[maximas_indexes]\n",
    "    zipped_x_y = zip(max_x, max_y)\n",
    "    peaks = []\n",
    "    prev = None; interval = False\n",
    "    for x, y in zipped_x_y:\n",
    "        if prev is None: interval = True\n",
    "        if prev is not None: \n",
    "            if abs(x - prev) < 5: continue\n",
    "            else: interval = True\n",
    "        if interval:\n",
    "            prev = x\n",
    "            if y >= 0.01: peaks.append((x,y))\n",
    "    return (peaks)"
   ]
  },
  {
   "cell_type": "code",
   "execution_count": 19,
   "metadata": {
    "collapsed": true
   },
   "outputs": [],
   "source": [
    "def start_plot():    \n",
    "    plt.style.use('ggplot')\n",
    "    fig = plt.figure(figsize=(9,5))\n",
    "    plt.rcParams['font.size'] = 22\n",
    "    ax = fig.add_subplot(111)\n",
    "    return ax\n",
    "\n",
    "def stop_plot_cdf(ax, chosen, count):\n",
    "    \n",
    "    ax.grid(True)\n",
    "    ax.set_xlim([0.25, 64])    \n",
    "    ax.set_xscale('log', basex=2)\n",
    "    ax.set_xlabel('Latency (ms)', fontsize=22)\n",
    "    ax.set_ylabel('CDF', fontsize=22)\n",
    "    plt.legend(loc='best', fontsize=22)\n",
    "    plt.title('%s (RIPE Atlas)'%(chosen), fontsize=22, y=1.05)"
   ]
  },
  {
   "cell_type": "code",
   "execution_count": 20,
   "metadata": {
    "collapsed": true
   },
   "outputs": [],
   "source": [
    "def add_to_d(df_groupby):\n",
    "    d = {}\n",
    "    for i, (key, group) in enumerate(df_groupby):\n",
    "        asn, holder_name = key; draw=False\n",
    "        nodename = create_pretty_node_names(asn, holder_name)\n",
    "        df_groupby_probeid = group.groupby('probeid')\n",
    "\n",
    "        for j, (probeid, group) in enumerate(df_groupby_probeid):\n",
    "            if group['timestamp'].count() <= 1: continue\n",
    "            try: peaks = calculate_kde_peaks(group)\n",
    "            except Exception as e: print(e)\n",
    "            if len(peaks) <= 1: continue\n",
    "            print('.', end='')\n",
    "            try: d[len(peaks)].append(probeid)\n",
    "            except Exception as e: d[len(peaks)] = [probeid]\n",
    "    return d"
   ]
  },
  {
   "cell_type": "code",
   "execution_count": 21,
   "metadata": {
    "collapsed": false
   },
   "outputs": [
    {
     "name": "stdout",
     "output_type": "stream",
     "text": [
      "..................................................................................................................................."
     ]
    },
    {
     "name": "stderr",
     "output_type": "stream",
     "text": [
      "/home/vbajpai/.virtualenvs/lastmile-data-collection-analysis-python3/lib/python3.4/site-packages/ipykernel/__main__.py:6: FutureWarning: sort(columns=....) is deprecated, use sort_values(by=.....)\n"
     ]
    }
   ],
   "source": [
    "d_ra = add_to_d(df_ra_groupby)\n",
    "d_sk = add_to_d(df_sk_groupby)"
   ]
  },
  {
   "cell_type": "code",
   "execution_count": 24,
   "metadata": {
    "collapsed": false
   },
   "outputs": [],
   "source": [
    "df_ra_groupby = df_ra.groupby('probeid')\n",
    "df_agg = df_ra_groupby.agg([len])\n",
    "df_ra_merge = pd.merge(df_ra, df_agg, left_on=\"probeid\", right_index=True)\n",
    "df_ra_merge_cut = df_ra_merge.iloc[:,[0,2,3]]\n",
    "df_ra_probes = df_ra_merge_cut.drop_duplicates()"
   ]
  },
  {
   "cell_type": "code",
   "execution_count": 25,
   "metadata": {
    "collapsed": true
   },
   "outputs": [],
   "source": [
    "df_sk_groupby = df_sk.groupby('probeid')\n",
    "df_agg = df_sk_groupby.agg([len])\n",
    "df_sk_merge = pd.merge(df_sk, df_agg, left_on=\"probeid\", right_index=True)\n",
    "df_sk_merge_cut = df_sk_merge.iloc[:,[0,2,4]]\n",
    "df_sk_probes = df_sk_merge_cut.drop_duplicates()"
   ]
  },
  {
   "cell_type": "code",
   "execution_count": 26,
   "metadata": {
    "collapsed": false
   },
   "outputs": [
    {
     "data": {
      "text/plain": [
       "probeid            451\n",
       "asn                451\n",
       "asn_holder_name    451\n",
       "dtype: int64"
      ]
     },
     "execution_count": 26,
     "metadata": {},
     "output_type": "execute_result"
    }
   ],
   "source": [
    "df_ra_probes.count()"
   ]
  },
  {
   "cell_type": "code",
   "execution_count": 27,
   "metadata": {
    "collapsed": false
   },
   "outputs": [
    {
     "data": {
      "text/plain": [
       "probeid            986\n",
       "asn                986\n",
       "asn_holder_name    986\n",
       "dtype: int64"
      ]
     },
     "execution_count": 27,
     "metadata": {},
     "output_type": "execute_result"
    }
   ],
   "source": [
    "df_sk_probes.count()"
   ]
  },
  {
   "cell_type": "code",
   "execution_count": 28,
   "metadata": {
    "collapsed": false
   },
   "outputs": [
    {
     "name": "stderr",
     "output_type": "stream",
     "text": [
      "/home/vbajpai/.virtualenvs/lastmile-data-collection-analysis-python3/lib/python3.4/site-packages/ipykernel/__main__.py:9: SettingWithCopyWarning: \n",
      "A value is trying to be set on a copy of a slice from a DataFrame.\n",
      "Try using .loc[row_indexer,col_indexer] = value instead\n",
      "\n",
      "See the caveats in the documentation: http://pandas.pydata.org/pandas-docs/stable/indexing.html#indexing-view-versus-copy\n",
      "/home/vbajpai/.virtualenvs/lastmile-data-collection-analysis-python3/lib/python3.4/site-packages/ipykernel/__main__.py:10: SettingWithCopyWarning: \n",
      "A value is trying to be set on a copy of a slice from a DataFrame.\n",
      "Try using .loc[row_indexer,col_indexer] = value instead\n",
      "\n",
      "See the caveats in the documentation: http://pandas.pydata.org/pandas-docs/stable/indexing.html#indexing-view-versus-copy\n"
     ]
    }
   ],
   "source": [
    "def get_depth_level(d, probeid):\n",
    "    for k, v in d.items():\n",
    "        if probeid in v: return k\n",
    "    return 1\n",
    "\n",
    "def get_ra_depth_level(probeid): return get_depth_level(d_ra, probeid)\n",
    "def get_sk_depth_level(probeid): return get_depth_level(d_sk, probeid)   \n",
    "    \n",
    "df_ra_probes['level'] = df_ra_probes['probeid'].apply(get_ra_depth_level)\n",
    "df_sk_probes['level'] = df_sk_probes['probeid'].apply(get_sk_depth_level)"
   ]
  },
  {
   "cell_type": "code",
   "execution_count": 29,
   "metadata": {
    "collapsed": false
   },
   "outputs": [
    {
     "data": {
      "text/html": [
       "<div>\n",
       "<table border=\"1\" class=\"dataframe\">\n",
       "  <thead>\n",
       "    <tr style=\"text-align: right;\">\n",
       "      <th></th>\n",
       "      <th>probeid</th>\n",
       "      <th>asn</th>\n",
       "      <th>asn_holder_name</th>\n",
       "      <th>level</th>\n",
       "    </tr>\n",
       "  </thead>\n",
       "  <tbody>\n",
       "    <tr>\n",
       "      <th>0</th>\n",
       "      <td>10006</td>\n",
       "      <td>3265</td>\n",
       "      <td>XS4ALL-NL XS4ALL Internet BV,NL</td>\n",
       "      <td>1</td>\n",
       "    </tr>\n",
       "    <tr>\n",
       "      <th>570</th>\n",
       "      <td>10012</td>\n",
       "      <td>3265</td>\n",
       "      <td>XS4ALL-NL XS4ALL Internet BV,NL</td>\n",
       "      <td>1</td>\n",
       "    </tr>\n",
       "    <tr>\n",
       "      <th>778</th>\n",
       "      <td>10013</td>\n",
       "      <td>3265</td>\n",
       "      <td>XS4ALL-NL XS4ALL Internet BV,NL</td>\n",
       "      <td>1</td>\n",
       "    </tr>\n",
       "    <tr>\n",
       "      <th>986</th>\n",
       "      <td>10015</td>\n",
       "      <td>3265</td>\n",
       "      <td>XS4ALL-NL XS4ALL Internet BV,NL</td>\n",
       "      <td>1</td>\n",
       "    </tr>\n",
       "    <tr>\n",
       "      <th>1194</th>\n",
       "      <td>10022</td>\n",
       "      <td>3265</td>\n",
       "      <td>XS4ALL-NL XS4ALL Internet BV,NL</td>\n",
       "      <td>1</td>\n",
       "    </tr>\n",
       "  </tbody>\n",
       "</table>\n",
       "</div>"
      ],
      "text/plain": [
       "      probeid   asn                  asn_holder_name  level\n",
       "0       10006  3265  XS4ALL-NL XS4ALL Internet BV,NL      1\n",
       "570     10012  3265  XS4ALL-NL XS4ALL Internet BV,NL      1\n",
       "778     10013  3265  XS4ALL-NL XS4ALL Internet BV,NL      1\n",
       "986     10015  3265  XS4ALL-NL XS4ALL Internet BV,NL      1\n",
       "1194    10022  3265  XS4ALL-NL XS4ALL Internet BV,NL      1"
      ]
     },
     "execution_count": 29,
     "metadata": {},
     "output_type": "execute_result"
    }
   ],
   "source": [
    "df_ra_probes.head()"
   ]
  },
  {
   "cell_type": "code",
   "execution_count": 30,
   "metadata": {
    "collapsed": false
   },
   "outputs": [
    {
     "data": {
      "text/html": [
       "<div>\n",
       "<table border=\"1\" class=\"dataframe\">\n",
       "  <thead>\n",
       "    <tr style=\"text-align: right;\">\n",
       "      <th></th>\n",
       "      <th>probeid</th>\n",
       "      <th>asn</th>\n",
       "      <th>asn_holder_name</th>\n",
       "      <th>level</th>\n",
       "    </tr>\n",
       "  </thead>\n",
       "  <tbody>\n",
       "    <tr>\n",
       "      <th>0</th>\n",
       "      <td>14905</td>\n",
       "      <td>2856</td>\n",
       "      <td>BT-UK-AS BT Public Internet Service,GB</td>\n",
       "      <td>1</td>\n",
       "    </tr>\n",
       "    <tr>\n",
       "      <th>418</th>\n",
       "      <td>14971</td>\n",
       "      <td>12576</td>\n",
       "      <td>ORANGE-PCS Orange Personal Communications Serv...</td>\n",
       "      <td>1</td>\n",
       "    </tr>\n",
       "    <tr>\n",
       "      <th>564</th>\n",
       "      <td>15015</td>\n",
       "      <td>2856</td>\n",
       "      <td>BT-UK-AS BT Public Internet Service,GB</td>\n",
       "      <td>1</td>\n",
       "    </tr>\n",
       "    <tr>\n",
       "      <th>978</th>\n",
       "      <td>15058</td>\n",
       "      <td>2856</td>\n",
       "      <td>BT-UK-AS BT Public Internet Service,GB</td>\n",
       "      <td>1</td>\n",
       "    </tr>\n",
       "    <tr>\n",
       "      <th>1304</th>\n",
       "      <td>15129</td>\n",
       "      <td>6871</td>\n",
       "      <td>PLUSNET PlusNet PLC,GB</td>\n",
       "      <td>1</td>\n",
       "    </tr>\n",
       "  </tbody>\n",
       "</table>\n",
       "</div>"
      ],
      "text/plain": [
       "      probeid    asn                                    asn_holder_name  level\n",
       "0       14905   2856             BT-UK-AS BT Public Internet Service,GB      1\n",
       "418     14971  12576  ORANGE-PCS Orange Personal Communications Serv...      1\n",
       "564     15015   2856             BT-UK-AS BT Public Internet Service,GB      1\n",
       "978     15058   2856             BT-UK-AS BT Public Internet Service,GB      1\n",
       "1304    15129   6871                             PLUSNET PlusNet PLC,GB      1"
      ]
     },
     "execution_count": 30,
     "metadata": {},
     "output_type": "execute_result"
    }
   ],
   "source": [
    "df_sk_probes.head()"
   ]
  },
  {
   "cell_type": "code",
   "execution_count": 31,
   "metadata": {
    "collapsed": true
   },
   "outputs": [],
   "source": [
    "import Cdf\n",
    "\n",
    "markers = ['d', 'x', '+', 'o', 'p', 'v', '8', '*', 'D', '<', 's']\n",
    "\n",
    "def draw_cdf(df):\n",
    "    \n",
    "    sample = df['level'].values\n",
    "    c = Cdf.MakeCdfFromList(sample)\n",
    "    \n",
    "    print(c.xs, c.ps)\n",
    "    plt.plot (  c.xs\n",
    "              , c.ps\n",
    "              , marker='s'\n",
    "              , linewidth=0.3\n",
    "              , color='Red'\n",
    "              , markersize=15\n",
    "              , fillstyle='none'\n",
    "             )"
   ]
  },
  {
   "cell_type": "code",
   "execution_count": 36,
   "metadata": {
    "collapsed": false
   },
   "outputs": [
    {
     "data": {
      "text/html": [
       "<div>\n",
       "<table border=\"1\" class=\"dataframe\">\n",
       "  <thead>\n",
       "    <tr style=\"text-align: right;\">\n",
       "      <th></th>\n",
       "      <th>probeid</th>\n",
       "      <th>asn</th>\n",
       "      <th>asn_holder_name</th>\n",
       "      <th>level</th>\n",
       "    </tr>\n",
       "  </thead>\n",
       "  <tbody>\n",
       "    <tr>\n",
       "      <th>54245</th>\n",
       "      <td>141012</td>\n",
       "      <td>2856</td>\n",
       "      <td>BT-UK-AS BT Public Internet Service,GB</td>\n",
       "      <td>3</td>\n",
       "    </tr>\n",
       "    <tr>\n",
       "      <th>90763</th>\n",
       "      <td>142056</td>\n",
       "      <td>2856</td>\n",
       "      <td>BT-UK-AS BT Public Internet Service,GB</td>\n",
       "      <td>3</td>\n",
       "    </tr>\n",
       "    <tr>\n",
       "      <th>96334</th>\n",
       "      <td>142920</td>\n",
       "      <td>2856</td>\n",
       "      <td>BT-UK-AS BT Public Internet Service,GB</td>\n",
       "      <td>3</td>\n",
       "    </tr>\n",
       "    <tr>\n",
       "      <th>105848</th>\n",
       "      <td>143082</td>\n",
       "      <td>13285</td>\n",
       "      <td>OPALTELECOM-AS TalkTalk Communications Limited,GB</td>\n",
       "      <td>3</td>\n",
       "    </tr>\n",
       "    <tr>\n",
       "      <th>123386</th>\n",
       "      <td>143268</td>\n",
       "      <td>2856</td>\n",
       "      <td>BT-UK-AS BT Public Internet Service,GB</td>\n",
       "      <td>3</td>\n",
       "    </tr>\n",
       "    <tr>\n",
       "      <th>231957</th>\n",
       "      <td>146314</td>\n",
       "      <td>2856</td>\n",
       "      <td>BT-UK-AS BT Public Internet Service,GB</td>\n",
       "      <td>3</td>\n",
       "    </tr>\n",
       "    <tr>\n",
       "      <th>236809</th>\n",
       "      <td>146358</td>\n",
       "      <td>13285</td>\n",
       "      <td>OPALTELECOM-AS TalkTalk Communications Limited,GB</td>\n",
       "      <td>3</td>\n",
       "    </tr>\n",
       "    <tr>\n",
       "      <th>280620</th>\n",
       "      <td>147230</td>\n",
       "      <td>2856</td>\n",
       "      <td>BT-UK-AS BT Public Internet Service,GB</td>\n",
       "      <td>3</td>\n",
       "    </tr>\n",
       "    <tr>\n",
       "      <th>282214</th>\n",
       "      <td>147250</td>\n",
       "      <td>2856</td>\n",
       "      <td>BT-UK-AS BT Public Internet Service,GB</td>\n",
       "      <td>3</td>\n",
       "    </tr>\n",
       "    <tr>\n",
       "      <th>292598</th>\n",
       "      <td>147542</td>\n",
       "      <td>2856</td>\n",
       "      <td>BT-UK-AS BT Public Internet Service,GB</td>\n",
       "      <td>3</td>\n",
       "    </tr>\n",
       "    <tr>\n",
       "      <th>324427</th>\n",
       "      <td>148550</td>\n",
       "      <td>9105</td>\n",
       "      <td>TISCALI-UK Tiscali UK,GB</td>\n",
       "      <td>3</td>\n",
       "    </tr>\n",
       "    <tr>\n",
       "      <th>385452</th>\n",
       "      <td>202328</td>\n",
       "      <td>2856</td>\n",
       "      <td>BT-UK-AS BT Public Internet Service,GB</td>\n",
       "      <td>3</td>\n",
       "    </tr>\n",
       "    <tr>\n",
       "      <th>397728</th>\n",
       "      <td>249892</td>\n",
       "      <td>12576</td>\n",
       "      <td>ORANGE-PCS Orange Personal Communications Serv...</td>\n",
       "      <td>3</td>\n",
       "    </tr>\n",
       "    <tr>\n",
       "      <th>415516</th>\n",
       "      <td>469838</td>\n",
       "      <td>2856</td>\n",
       "      <td>BT-UK-AS BT Public Internet Service,GB</td>\n",
       "      <td>3</td>\n",
       "    </tr>\n",
       "  </tbody>\n",
       "</table>\n",
       "</div>"
      ],
      "text/plain": [
       "        probeid    asn                                    asn_holder_name  \\\n",
       "54245    141012   2856             BT-UK-AS BT Public Internet Service,GB   \n",
       "90763    142056   2856             BT-UK-AS BT Public Internet Service,GB   \n",
       "96334    142920   2856             BT-UK-AS BT Public Internet Service,GB   \n",
       "105848   143082  13285  OPALTELECOM-AS TalkTalk Communications Limited,GB   \n",
       "123386   143268   2856             BT-UK-AS BT Public Internet Service,GB   \n",
       "231957   146314   2856             BT-UK-AS BT Public Internet Service,GB   \n",
       "236809   146358  13285  OPALTELECOM-AS TalkTalk Communications Limited,GB   \n",
       "280620   147230   2856             BT-UK-AS BT Public Internet Service,GB   \n",
       "282214   147250   2856             BT-UK-AS BT Public Internet Service,GB   \n",
       "292598   147542   2856             BT-UK-AS BT Public Internet Service,GB   \n",
       "324427   148550   9105                           TISCALI-UK Tiscali UK,GB   \n",
       "385452   202328   2856             BT-UK-AS BT Public Internet Service,GB   \n",
       "397728   249892  12576  ORANGE-PCS Orange Personal Communications Serv...   \n",
       "415516   469838   2856             BT-UK-AS BT Public Internet Service,GB   \n",
       "\n",
       "        level  \n",
       "54245       3  \n",
       "90763       3  \n",
       "96334       3  \n",
       "105848      3  \n",
       "123386      3  \n",
       "231957      3  \n",
       "236809      3  \n",
       "280620      3  \n",
       "282214      3  \n",
       "292598      3  \n",
       "324427      3  \n",
       "385452      3  \n",
       "397728      3  \n",
       "415516      3  "
      ]
     },
     "execution_count": 36,
     "metadata": {},
     "output_type": "execute_result"
    }
   ],
   "source": [
    "df_sk_probes[df_sk_probes.level == 3]"
   ]
  },
  {
   "cell_type": "code",
   "execution_count": 37,
   "metadata": {
    "collapsed": false
   },
   "outputs": [
    {
     "data": {
      "text/plain": [
       "probeid            986\n",
       "asn                986\n",
       "asn_holder_name    986\n",
       "level              986\n",
       "dtype: int64"
      ]
     },
     "execution_count": 37,
     "metadata": {},
     "output_type": "execute_result"
    }
   ],
   "source": [
    "df_sk_probes.count()"
   ]
  },
  {
   "cell_type": "code",
   "execution_count": 38,
   "metadata": {
    "collapsed": false
   },
   "outputs": [
    {
     "data": {
      "text/plain": [
       "probeid            451\n",
       "asn                451\n",
       "asn_holder_name    451\n",
       "level              451\n",
       "dtype: int64"
      ]
     },
     "execution_count": 38,
     "metadata": {},
     "output_type": "execute_result"
    }
   ],
   "source": [
    "df_ra_probes.count()"
   ]
  },
  {
   "cell_type": "code",
   "execution_count": 39,
   "metadata": {
    "collapsed": false
   },
   "outputs": [],
   "source": [
    "def get_levels_by_asn(df):\n",
    "    df_groupby = df.groupby(['asn', 'level'])\n",
    "    df_groupby_agg = df_groupby.agg([len])\n",
    "    df_merge = pd.merge(  df\n",
    "                        , df_groupby_agg\n",
    "                        , left_on=['asn', 'level']\n",
    "                        , right_index=True\n",
    "                       )\n",
    "    del df_merge['probeid']\n",
    "    df_levels = df_merge.drop_duplicates()\n",
    "    df_levels = df_levels.sort('asn')\n",
    "    return df_levels"
   ]
  },
  {
   "cell_type": "code",
   "execution_count": 40,
   "metadata": {
    "collapsed": false
   },
   "outputs": [
    {
     "name": "stderr",
     "output_type": "stream",
     "text": [
      "/home/vbajpai/.virtualenvs/lastmile-data-collection-analysis-python3/lib/python3.4/site-packages/ipykernel/__main__.py:11: FutureWarning: sort(columns=....) is deprecated, use sort_values(by=.....)\n"
     ]
    }
   ],
   "source": [
    "df_ra_levels = get_levels_by_asn(df_ra_probes)\n",
    "df_sk_levels = get_levels_by_asn(df_sk_probes)"
   ]
  },
  {
   "cell_type": "code",
   "execution_count": 41,
   "metadata": {
    "collapsed": false
   },
   "outputs": [
    {
     "data": {
      "text/html": [
       "<div>\n",
       "<table border=\"1\" class=\"dataframe\">\n",
       "  <thead>\n",
       "    <tr style=\"text-align: right;\">\n",
       "      <th></th>\n",
       "      <th>asn</th>\n",
       "      <th>asn_holder_name</th>\n",
       "      <th>level</th>\n",
       "      <th>(probeid, len)</th>\n",
       "      <th>(asn_holder_name, len)</th>\n",
       "    </tr>\n",
       "  </thead>\n",
       "  <tbody>\n",
       "    <tr>\n",
       "      <th>6346</th>\n",
       "      <td>701</td>\n",
       "      <td>UUNET - MCI Communications Services, Inc. d/b/...</td>\n",
       "      <td>1</td>\n",
       "      <td>23</td>\n",
       "      <td>23</td>\n",
       "    </tr>\n",
       "    <tr>\n",
       "      <th>1811</th>\n",
       "      <td>2856</td>\n",
       "      <td>BT-UK-AS BT Public Internet Service,GB</td>\n",
       "      <td>1</td>\n",
       "      <td>23</td>\n",
       "      <td>23</td>\n",
       "    </tr>\n",
       "    <tr>\n",
       "      <th>3955</th>\n",
       "      <td>3209</td>\n",
       "      <td>VODANET Vodafone GmbH,DE</td>\n",
       "      <td>1</td>\n",
       "      <td>10</td>\n",
       "      <td>10</td>\n",
       "    </tr>\n",
       "    <tr>\n",
       "      <th>24705</th>\n",
       "      <td>3215</td>\n",
       "      <td>AS3215 Orange S.A.,FR</td>\n",
       "      <td>1</td>\n",
       "      <td>60</td>\n",
       "      <td>60</td>\n",
       "    </tr>\n",
       "    <tr>\n",
       "      <th>0</th>\n",
       "      <td>3265</td>\n",
       "      <td>XS4ALL-NL XS4ALL Internet BV,NL</td>\n",
       "      <td>1</td>\n",
       "      <td>29</td>\n",
       "      <td>29</td>\n",
       "    </tr>\n",
       "  </tbody>\n",
       "</table>\n",
       "</div>"
      ],
      "text/plain": [
       "        asn                                    asn_holder_name  level  \\\n",
       "6346    701  UUNET - MCI Communications Services, Inc. d/b/...      1   \n",
       "1811   2856             BT-UK-AS BT Public Internet Service,GB      1   \n",
       "3955   3209                           VODANET Vodafone GmbH,DE      1   \n",
       "24705  3215                              AS3215 Orange S.A.,FR      1   \n",
       "0      3265                    XS4ALL-NL XS4ALL Internet BV,NL      1   \n",
       "\n",
       "       (probeid, len)  (asn_holder_name, len)  \n",
       "6346               23                      23  \n",
       "1811               23                      23  \n",
       "3955               10                      10  \n",
       "24705              60                      60  \n",
       "0                  29                      29  "
      ]
     },
     "execution_count": 41,
     "metadata": {},
     "output_type": "execute_result"
    }
   ],
   "source": [
    "df_ra_levels.head()"
   ]
  },
  {
   "cell_type": "code",
   "execution_count": 42,
   "metadata": {
    "collapsed": false
   },
   "outputs": [
    {
     "data": {
      "text/html": [
       "<div>\n",
       "<table border=\"1\" class=\"dataframe\">\n",
       "  <thead>\n",
       "    <tr style=\"text-align: right;\">\n",
       "      <th></th>\n",
       "      <th>asn</th>\n",
       "      <th>asn_holder_name</th>\n",
       "      <th>level</th>\n",
       "      <th>(probeid, len)</th>\n",
       "      <th>(asn_holder_name, len)</th>\n",
       "    </tr>\n",
       "  </thead>\n",
       "  <tbody>\n",
       "    <tr>\n",
       "      <th>0</th>\n",
       "      <td>2856</td>\n",
       "      <td>BT-UK-AS BT Public Internet Service,GB</td>\n",
       "      <td>1</td>\n",
       "      <td>264</td>\n",
       "      <td>264</td>\n",
       "    </tr>\n",
       "    <tr>\n",
       "      <th>6056</th>\n",
       "      <td>2856</td>\n",
       "      <td>BT-UK-AS BT Public Internet Service,GB</td>\n",
       "      <td>2</td>\n",
       "      <td>40</td>\n",
       "      <td>40</td>\n",
       "    </tr>\n",
       "    <tr>\n",
       "      <th>54245</th>\n",
       "      <td>2856</td>\n",
       "      <td>BT-UK-AS BT Public Internet Service,GB</td>\n",
       "      <td>3</td>\n",
       "      <td>10</td>\n",
       "      <td>10</td>\n",
       "    </tr>\n",
       "    <tr>\n",
       "      <th>173243</th>\n",
       "      <td>5607</td>\n",
       "      <td>BSKYB-BROADBAND-AS British Sky Broadcasting Li...</td>\n",
       "      <td>2</td>\n",
       "      <td>1</td>\n",
       "      <td>1</td>\n",
       "    </tr>\n",
       "    <tr>\n",
       "      <th>15622</th>\n",
       "      <td>5607</td>\n",
       "      <td>BSKYB-BROADBAND-AS British Sky Broadcasting Li...</td>\n",
       "      <td>1</td>\n",
       "      <td>35</td>\n",
       "      <td>35</td>\n",
       "    </tr>\n",
       "  </tbody>\n",
       "</table>\n",
       "</div>"
      ],
      "text/plain": [
       "         asn                                    asn_holder_name  level  \\\n",
       "0       2856             BT-UK-AS BT Public Internet Service,GB      1   \n",
       "6056    2856             BT-UK-AS BT Public Internet Service,GB      2   \n",
       "54245   2856             BT-UK-AS BT Public Internet Service,GB      3   \n",
       "173243  5607  BSKYB-BROADBAND-AS British Sky Broadcasting Li...      2   \n",
       "15622   5607  BSKYB-BROADBAND-AS British Sky Broadcasting Li...      1   \n",
       "\n",
       "        (probeid, len)  (asn_holder_name, len)  \n",
       "0                  264                     264  \n",
       "6056                40                      40  \n",
       "54245               10                      10  \n",
       "173243               1                       1  \n",
       "15622               35                      35  "
      ]
     },
     "execution_count": 42,
     "metadata": {},
     "output_type": "execute_result"
    }
   ],
   "source": [
    "df_sk_levels.head()"
   ]
  },
  {
   "cell_type": "code",
   "execution_count": 43,
   "metadata": {
    "collapsed": false
   },
   "outputs": [],
   "source": [
    "df_ra_levels = df_ra_levels.apply(myfunc, axis=1)\n",
    "df_sk_levels = df_sk_levels.apply(myfunc, axis=1)"
   ]
  },
  {
   "cell_type": "code",
   "execution_count": 44,
   "metadata": {
    "collapsed": false
   },
   "outputs": [],
   "source": [
    "del df_ra_levels['asn']; del df_ra_levels['asn_holder_name'];\n",
    "del df_sk_levels['asn']; del df_sk_levels['asn_holder_name'];"
   ]
  },
  {
   "cell_type": "code",
   "execution_count": 45,
   "metadata": {
    "collapsed": false
   },
   "outputs": [
    {
     "data": {
      "text/html": [
       "<div>\n",
       "<table border=\"1\" class=\"dataframe\">\n",
       "  <thead>\n",
       "    <tr style=\"text-align: right;\">\n",
       "      <th></th>\n",
       "      <th>level</th>\n",
       "      <th>(probeid, len)</th>\n",
       "      <th>(asn_holder_name, len)</th>\n",
       "      <th>nodename</th>\n",
       "    </tr>\n",
       "  </thead>\n",
       "  <tbody>\n",
       "    <tr>\n",
       "      <th>6346</th>\n",
       "      <td>1</td>\n",
       "      <td>23</td>\n",
       "      <td>23</td>\n",
       "      <td>UUNET (AS701)</td>\n",
       "    </tr>\n",
       "    <tr>\n",
       "      <th>1811</th>\n",
       "      <td>1</td>\n",
       "      <td>23</td>\n",
       "      <td>23</td>\n",
       "      <td>BT (AS2856)</td>\n",
       "    </tr>\n",
       "    <tr>\n",
       "      <th>3955</th>\n",
       "      <td>1</td>\n",
       "      <td>10</td>\n",
       "      <td>10</td>\n",
       "      <td>VODAFONE (AS3209)</td>\n",
       "    </tr>\n",
       "    <tr>\n",
       "      <th>24705</th>\n",
       "      <td>1</td>\n",
       "      <td>60</td>\n",
       "      <td>60</td>\n",
       "      <td>ORANGE (AS3215)</td>\n",
       "    </tr>\n",
       "    <tr>\n",
       "      <th>0</th>\n",
       "      <td>1</td>\n",
       "      <td>29</td>\n",
       "      <td>29</td>\n",
       "      <td>XS4ALL (AS3265)</td>\n",
       "    </tr>\n",
       "  </tbody>\n",
       "</table>\n",
       "</div>"
      ],
      "text/plain": [
       "       level  (probeid, len)  (asn_holder_name, len)           nodename\n",
       "6346       1              23                      23      UUNET (AS701)\n",
       "1811       1              23                      23        BT (AS2856)\n",
       "3955       1              10                      10  VODAFONE (AS3209)\n",
       "24705      1              60                      60    ORANGE (AS3215)\n",
       "0          1              29                      29    XS4ALL (AS3265)"
      ]
     },
     "execution_count": 45,
     "metadata": {},
     "output_type": "execute_result"
    }
   ],
   "source": [
    "df_ra_levels.head()"
   ]
  },
  {
   "cell_type": "code",
   "execution_count": 46,
   "metadata": {
    "collapsed": false
   },
   "outputs": [
    {
     "data": {
      "text/html": [
       "<div>\n",
       "<table border=\"1\" class=\"dataframe\">\n",
       "  <thead>\n",
       "    <tr style=\"text-align: right;\">\n",
       "      <th></th>\n",
       "      <th>level</th>\n",
       "      <th>(probeid, len)</th>\n",
       "      <th>(asn_holder_name, len)</th>\n",
       "      <th>nodename</th>\n",
       "    </tr>\n",
       "  </thead>\n",
       "  <tbody>\n",
       "    <tr>\n",
       "      <th>0</th>\n",
       "      <td>1</td>\n",
       "      <td>264</td>\n",
       "      <td>264</td>\n",
       "      <td>BT (AS2856)</td>\n",
       "    </tr>\n",
       "    <tr>\n",
       "      <th>6056</th>\n",
       "      <td>2</td>\n",
       "      <td>40</td>\n",
       "      <td>40</td>\n",
       "      <td>BT (AS2856)</td>\n",
       "    </tr>\n",
       "    <tr>\n",
       "      <th>54245</th>\n",
       "      <td>3</td>\n",
       "      <td>10</td>\n",
       "      <td>10</td>\n",
       "      <td>BT (AS2856)</td>\n",
       "    </tr>\n",
       "    <tr>\n",
       "      <th>173243</th>\n",
       "      <td>2</td>\n",
       "      <td>1</td>\n",
       "      <td>1</td>\n",
       "      <td>BSKYB (AS5607)</td>\n",
       "    </tr>\n",
       "    <tr>\n",
       "      <th>15622</th>\n",
       "      <td>1</td>\n",
       "      <td>35</td>\n",
       "      <td>35</td>\n",
       "      <td>BSKYB (AS5607)</td>\n",
       "    </tr>\n",
       "  </tbody>\n",
       "</table>\n",
       "</div>"
      ],
      "text/plain": [
       "        level  (probeid, len)  (asn_holder_name, len)        nodename\n",
       "0           1             264                     264     BT (AS2856)\n",
       "6056        2              40                      40     BT (AS2856)\n",
       "54245       3              10                      10     BT (AS2856)\n",
       "173243      2               1                       1  BSKYB (AS5607)\n",
       "15622       1              35                      35  BSKYB (AS5607)"
      ]
     },
     "execution_count": 46,
     "metadata": {},
     "output_type": "execute_result"
    }
   ],
   "source": [
    "df_sk_levels.head()"
   ]
  },
  {
   "cell_type": "code",
   "execution_count": 47,
   "metadata": {
    "collapsed": true
   },
   "outputs": [],
   "source": [
    "df_ra_levels.rename(columns={df_ra_levels.columns[1]: 'probes'}, inplace=True)\n",
    "df_sk_levels.rename(columns={df_sk_levels.columns[1]: 'probes'}, inplace=True)"
   ]
  },
  {
   "cell_type": "code",
   "execution_count": 48,
   "metadata": {
    "collapsed": false
   },
   "outputs": [],
   "source": [
    "df_ra = df_ra_levels.iloc[:,[0,1,3]]\n",
    "df_sk = df_sk_levels.iloc[:,[0,1,3]]"
   ]
  },
  {
   "cell_type": "code",
   "execution_count": 49,
   "metadata": {
    "collapsed": false
   },
   "outputs": [
    {
     "data": {
      "text/html": [
       "<div>\n",
       "<table border=\"1\" class=\"dataframe\">\n",
       "  <thead>\n",
       "    <tr style=\"text-align: right;\">\n",
       "      <th></th>\n",
       "      <th>level</th>\n",
       "      <th>probes</th>\n",
       "      <th>nodename</th>\n",
       "    </tr>\n",
       "  </thead>\n",
       "  <tbody>\n",
       "    <tr>\n",
       "      <th>6346</th>\n",
       "      <td>1</td>\n",
       "      <td>23</td>\n",
       "      <td>UUNET (AS701)</td>\n",
       "    </tr>\n",
       "    <tr>\n",
       "      <th>1811</th>\n",
       "      <td>1</td>\n",
       "      <td>23</td>\n",
       "      <td>BT (AS2856)</td>\n",
       "    </tr>\n",
       "    <tr>\n",
       "      <th>3955</th>\n",
       "      <td>1</td>\n",
       "      <td>10</td>\n",
       "      <td>VODAFONE (AS3209)</td>\n",
       "    </tr>\n",
       "    <tr>\n",
       "      <th>24705</th>\n",
       "      <td>1</td>\n",
       "      <td>60</td>\n",
       "      <td>ORANGE (AS3215)</td>\n",
       "    </tr>\n",
       "    <tr>\n",
       "      <th>0</th>\n",
       "      <td>1</td>\n",
       "      <td>29</td>\n",
       "      <td>XS4ALL (AS3265)</td>\n",
       "    </tr>\n",
       "    <tr>\n",
       "      <th>17953</th>\n",
       "      <td>2</td>\n",
       "      <td>1</td>\n",
       "      <td>XS4ALL (AS3265)</td>\n",
       "    </tr>\n",
       "    <tr>\n",
       "      <th>1400</th>\n",
       "      <td>1</td>\n",
       "      <td>60</td>\n",
       "      <td>DTAG (AS3320)</td>\n",
       "    </tr>\n",
       "    <tr>\n",
       "      <th>92869</th>\n",
       "      <td>2</td>\n",
       "      <td>1</td>\n",
       "      <td>DTAG (AS3320)</td>\n",
       "    </tr>\n",
       "    <tr>\n",
       "      <th>13375</th>\n",
       "      <td>1</td>\n",
       "      <td>23</td>\n",
       "      <td>BELGACOM (AS5432)</td>\n",
       "    </tr>\n",
       "    <tr>\n",
       "      <th>20046</th>\n",
       "      <td>2</td>\n",
       "      <td>1</td>\n",
       "      <td>BELGACOM (AS5432)</td>\n",
       "    </tr>\n",
       "  </tbody>\n",
       "</table>\n",
       "</div>"
      ],
      "text/plain": [
       "       level  probes           nodename\n",
       "6346       1      23      UUNET (AS701)\n",
       "1811       1      23        BT (AS2856)\n",
       "3955       1      10  VODAFONE (AS3209)\n",
       "24705      1      60    ORANGE (AS3215)\n",
       "0          1      29    XS4ALL (AS3265)\n",
       "17953      2       1    XS4ALL (AS3265)\n",
       "1400       1      60      DTAG (AS3320)\n",
       "92869      2       1      DTAG (AS3320)\n",
       "13375      1      23  BELGACOM (AS5432)\n",
       "20046      2       1  BELGACOM (AS5432)"
      ]
     },
     "execution_count": 49,
     "metadata": {},
     "output_type": "execute_result"
    }
   ],
   "source": [
    "df_ra.head(n=10)"
   ]
  },
  {
   "cell_type": "code",
   "execution_count": 50,
   "metadata": {
    "collapsed": false
   },
   "outputs": [
    {
     "data": {
      "text/html": [
       "<div>\n",
       "<table border=\"1\" class=\"dataframe\">\n",
       "  <thead>\n",
       "    <tr style=\"text-align: right;\">\n",
       "      <th></th>\n",
       "      <th>level</th>\n",
       "      <th>probes</th>\n",
       "      <th>nodename</th>\n",
       "    </tr>\n",
       "  </thead>\n",
       "  <tbody>\n",
       "    <tr>\n",
       "      <th>0</th>\n",
       "      <td>1</td>\n",
       "      <td>264</td>\n",
       "      <td>BT (AS2856)</td>\n",
       "    </tr>\n",
       "    <tr>\n",
       "      <th>6056</th>\n",
       "      <td>2</td>\n",
       "      <td>40</td>\n",
       "      <td>BT (AS2856)</td>\n",
       "    </tr>\n",
       "    <tr>\n",
       "      <th>54245</th>\n",
       "      <td>3</td>\n",
       "      <td>10</td>\n",
       "      <td>BT (AS2856)</td>\n",
       "    </tr>\n",
       "    <tr>\n",
       "      <th>173243</th>\n",
       "      <td>2</td>\n",
       "      <td>1</td>\n",
       "      <td>BSKYB (AS5607)</td>\n",
       "    </tr>\n",
       "    <tr>\n",
       "      <th>15622</th>\n",
       "      <td>1</td>\n",
       "      <td>35</td>\n",
       "      <td>BSKYB (AS5607)</td>\n",
       "    </tr>\n",
       "    <tr>\n",
       "      <th>1304</th>\n",
       "      <td>1</td>\n",
       "      <td>261</td>\n",
       "      <td>PLUSNET (AS6871)</td>\n",
       "    </tr>\n",
       "    <tr>\n",
       "      <th>128310</th>\n",
       "      <td>2</td>\n",
       "      <td>10</td>\n",
       "      <td>PLUSNET (AS6871)</td>\n",
       "    </tr>\n",
       "    <tr>\n",
       "      <th>4800</th>\n",
       "      <td>2</td>\n",
       "      <td>12</td>\n",
       "      <td>TISCALI (AS9105)</td>\n",
       "    </tr>\n",
       "    <tr>\n",
       "      <th>20588</th>\n",
       "      <td>1</td>\n",
       "      <td>60</td>\n",
       "      <td>TISCALI (AS9105)</td>\n",
       "    </tr>\n",
       "    <tr>\n",
       "      <th>324427</th>\n",
       "      <td>3</td>\n",
       "      <td>1</td>\n",
       "      <td>TISCALI (AS9105)</td>\n",
       "    </tr>\n",
       "  </tbody>\n",
       "</table>\n",
       "</div>"
      ],
      "text/plain": [
       "        level  probes          nodename\n",
       "0           1     264       BT (AS2856)\n",
       "6056        2      40       BT (AS2856)\n",
       "54245       3      10       BT (AS2856)\n",
       "173243      2       1    BSKYB (AS5607)\n",
       "15622       1      35    BSKYB (AS5607)\n",
       "1304        1     261  PLUSNET (AS6871)\n",
       "128310      2      10  PLUSNET (AS6871)\n",
       "4800        2      12  TISCALI (AS9105)\n",
       "20588       1      60  TISCALI (AS9105)\n",
       "324427      3       1  TISCALI (AS9105)"
      ]
     },
     "execution_count": 50,
     "metadata": {},
     "output_type": "execute_result"
    }
   ],
   "source": [
    "df_sk.head(n=10)"
   ]
  },
  {
   "cell_type": "code",
   "execution_count": 51,
   "metadata": {
    "collapsed": false
   },
   "outputs": [],
   "source": [
    "def split_by_levels(df):\n",
    "    df['l1'] = 0; df['l2'] = 0; df['l3'] = 0\n",
    "    for index, row in df.iterrows():\n",
    "        try: l = row['level']; count = row['probes']\n",
    "        except Exception as e: print(e, type(e))\n",
    "        else: df.ix[index, 'l%d'%l] = count\n",
    "    return df"
   ]
  },
  {
   "cell_type": "code",
   "execution_count": 52,
   "metadata": {
    "collapsed": false
   },
   "outputs": [],
   "source": [
    "df_ra = split_by_levels(df_ra)\n",
    "df_sk = split_by_levels(df_sk)"
   ]
  },
  {
   "cell_type": "code",
   "execution_count": 53,
   "metadata": {
    "collapsed": false
   },
   "outputs": [
    {
     "data": {
      "text/plain": [
       "level       20\n",
       "probes      20\n",
       "nodename    20\n",
       "l1          20\n",
       "l2          20\n",
       "l3          20\n",
       "dtype: int64"
      ]
     },
     "execution_count": 53,
     "metadata": {},
     "output_type": "execute_result"
    }
   ],
   "source": [
    "df_ra.count()"
   ]
  },
  {
   "cell_type": "code",
   "execution_count": 54,
   "metadata": {
    "collapsed": false
   },
   "outputs": [
    {
     "data": {
      "text/plain": [
       "level       22\n",
       "probes      22\n",
       "nodename    22\n",
       "l1          22\n",
       "l2          22\n",
       "l3          22\n",
       "dtype: int64"
      ]
     },
     "execution_count": 54,
     "metadata": {},
     "output_type": "execute_result"
    }
   ],
   "source": [
    "df_sk.count()"
   ]
  },
  {
   "cell_type": "code",
   "execution_count": 55,
   "metadata": {
    "collapsed": false
   },
   "outputs": [],
   "source": [
    "del df_ra['level']; del df_ra['probes']\n",
    "del df_sk['level']; del df_sk['probes']"
   ]
  },
  {
   "cell_type": "code",
   "execution_count": 56,
   "metadata": {
    "collapsed": false
   },
   "outputs": [
    {
     "data": {
      "text/html": [
       "<div>\n",
       "<table border=\"1\" class=\"dataframe\">\n",
       "  <thead>\n",
       "    <tr style=\"text-align: right;\">\n",
       "      <th></th>\n",
       "      <th>nodename</th>\n",
       "      <th>l1</th>\n",
       "      <th>l2</th>\n",
       "      <th>l3</th>\n",
       "    </tr>\n",
       "  </thead>\n",
       "  <tbody>\n",
       "    <tr>\n",
       "      <th>6346</th>\n",
       "      <td>UUNET (AS701)</td>\n",
       "      <td>23</td>\n",
       "      <td>0</td>\n",
       "      <td>0</td>\n",
       "    </tr>\n",
       "    <tr>\n",
       "      <th>1811</th>\n",
       "      <td>BT (AS2856)</td>\n",
       "      <td>23</td>\n",
       "      <td>0</td>\n",
       "      <td>0</td>\n",
       "    </tr>\n",
       "    <tr>\n",
       "      <th>3955</th>\n",
       "      <td>VODAFONE (AS3209)</td>\n",
       "      <td>10</td>\n",
       "      <td>0</td>\n",
       "      <td>0</td>\n",
       "    </tr>\n",
       "    <tr>\n",
       "      <th>24705</th>\n",
       "      <td>ORANGE (AS3215)</td>\n",
       "      <td>60</td>\n",
       "      <td>0</td>\n",
       "      <td>0</td>\n",
       "    </tr>\n",
       "    <tr>\n",
       "      <th>0</th>\n",
       "      <td>XS4ALL (AS3265)</td>\n",
       "      <td>29</td>\n",
       "      <td>0</td>\n",
       "      <td>0</td>\n",
       "    </tr>\n",
       "    <tr>\n",
       "      <th>17953</th>\n",
       "      <td>XS4ALL (AS3265)</td>\n",
       "      <td>0</td>\n",
       "      <td>1</td>\n",
       "      <td>0</td>\n",
       "    </tr>\n",
       "    <tr>\n",
       "      <th>1400</th>\n",
       "      <td>DTAG (AS3320)</td>\n",
       "      <td>60</td>\n",
       "      <td>0</td>\n",
       "      <td>0</td>\n",
       "    </tr>\n",
       "    <tr>\n",
       "      <th>92869</th>\n",
       "      <td>DTAG (AS3320)</td>\n",
       "      <td>0</td>\n",
       "      <td>1</td>\n",
       "      <td>0</td>\n",
       "    </tr>\n",
       "    <tr>\n",
       "      <th>13375</th>\n",
       "      <td>BELGACOM (AS5432)</td>\n",
       "      <td>23</td>\n",
       "      <td>0</td>\n",
       "      <td>0</td>\n",
       "    </tr>\n",
       "    <tr>\n",
       "      <th>20046</th>\n",
       "      <td>BELGACOM (AS5432)</td>\n",
       "      <td>0</td>\n",
       "      <td>1</td>\n",
       "      <td>0</td>\n",
       "    </tr>\n",
       "  </tbody>\n",
       "</table>\n",
       "</div>"
      ],
      "text/plain": [
       "                nodename  l1  l2  l3\n",
       "6346       UUNET (AS701)  23   0   0\n",
       "1811         BT (AS2856)  23   0   0\n",
       "3955   VODAFONE (AS3209)  10   0   0\n",
       "24705    ORANGE (AS3215)  60   0   0\n",
       "0        XS4ALL (AS3265)  29   0   0\n",
       "17953    XS4ALL (AS3265)   0   1   0\n",
       "1400       DTAG (AS3320)  60   0   0\n",
       "92869      DTAG (AS3320)   0   1   0\n",
       "13375  BELGACOM (AS5432)  23   0   0\n",
       "20046  BELGACOM (AS5432)   0   1   0"
      ]
     },
     "execution_count": 56,
     "metadata": {},
     "output_type": "execute_result"
    }
   ],
   "source": [
    "df_ra.head(n=10)"
   ]
  },
  {
   "cell_type": "code",
   "execution_count": 57,
   "metadata": {
    "collapsed": false
   },
   "outputs": [
    {
     "data": {
      "text/html": [
       "<div>\n",
       "<table border=\"1\" class=\"dataframe\">\n",
       "  <thead>\n",
       "    <tr style=\"text-align: right;\">\n",
       "      <th></th>\n",
       "      <th>nodename</th>\n",
       "      <th>l1</th>\n",
       "      <th>l2</th>\n",
       "      <th>l3</th>\n",
       "    </tr>\n",
       "  </thead>\n",
       "  <tbody>\n",
       "    <tr>\n",
       "      <th>0</th>\n",
       "      <td>BT (AS2856)</td>\n",
       "      <td>264</td>\n",
       "      <td>0</td>\n",
       "      <td>0</td>\n",
       "    </tr>\n",
       "    <tr>\n",
       "      <th>6056</th>\n",
       "      <td>BT (AS2856)</td>\n",
       "      <td>0</td>\n",
       "      <td>40</td>\n",
       "      <td>0</td>\n",
       "    </tr>\n",
       "    <tr>\n",
       "      <th>54245</th>\n",
       "      <td>BT (AS2856)</td>\n",
       "      <td>0</td>\n",
       "      <td>0</td>\n",
       "      <td>10</td>\n",
       "    </tr>\n",
       "    <tr>\n",
       "      <th>173243</th>\n",
       "      <td>BSKYB (AS5607)</td>\n",
       "      <td>0</td>\n",
       "      <td>1</td>\n",
       "      <td>0</td>\n",
       "    </tr>\n",
       "    <tr>\n",
       "      <th>15622</th>\n",
       "      <td>BSKYB (AS5607)</td>\n",
       "      <td>35</td>\n",
       "      <td>0</td>\n",
       "      <td>0</td>\n",
       "    </tr>\n",
       "    <tr>\n",
       "      <th>1304</th>\n",
       "      <td>PLUSNET (AS6871)</td>\n",
       "      <td>261</td>\n",
       "      <td>0</td>\n",
       "      <td>0</td>\n",
       "    </tr>\n",
       "    <tr>\n",
       "      <th>128310</th>\n",
       "      <td>PLUSNET (AS6871)</td>\n",
       "      <td>0</td>\n",
       "      <td>10</td>\n",
       "      <td>0</td>\n",
       "    </tr>\n",
       "    <tr>\n",
       "      <th>4800</th>\n",
       "      <td>TISCALI (AS9105)</td>\n",
       "      <td>0</td>\n",
       "      <td>12</td>\n",
       "      <td>0</td>\n",
       "    </tr>\n",
       "    <tr>\n",
       "      <th>20588</th>\n",
       "      <td>TISCALI (AS9105)</td>\n",
       "      <td>60</td>\n",
       "      <td>0</td>\n",
       "      <td>0</td>\n",
       "    </tr>\n",
       "    <tr>\n",
       "      <th>324427</th>\n",
       "      <td>TISCALI (AS9105)</td>\n",
       "      <td>0</td>\n",
       "      <td>0</td>\n",
       "      <td>1</td>\n",
       "    </tr>\n",
       "  </tbody>\n",
       "</table>\n",
       "</div>"
      ],
      "text/plain": [
       "                nodename   l1  l2  l3\n",
       "0            BT (AS2856)  264   0   0\n",
       "6056         BT (AS2856)    0  40   0\n",
       "54245        BT (AS2856)    0   0  10\n",
       "173243    BSKYB (AS5607)    0   1   0\n",
       "15622     BSKYB (AS5607)   35   0   0\n",
       "1304    PLUSNET (AS6871)  261   0   0\n",
       "128310  PLUSNET (AS6871)    0  10   0\n",
       "4800    TISCALI (AS9105)    0  12   0\n",
       "20588   TISCALI (AS9105)   60   0   0\n",
       "324427  TISCALI (AS9105)    0   0   1"
      ]
     },
     "execution_count": 57,
     "metadata": {},
     "output_type": "execute_result"
    }
   ],
   "source": [
    "df_sk.head(n=10)"
   ]
  },
  {
   "cell_type": "code",
   "execution_count": 58,
   "metadata": {
    "collapsed": false
   },
   "outputs": [],
   "source": [
    "def merge_levels(df):\n",
    "    df_gby = df.groupby('nodename')\n",
    "    df_gby_agg = df_gby.agg([sum])\n",
    "    df_gby_merged = pd.merge(  df\n",
    "                             , df_gby_agg\n",
    "                             , left_on='nodename'\n",
    "                             , right_index=True\n",
    "                            )\n",
    "\n",
    "    del df_gby_merged['l1']; \n",
    "    del df_gby_merged['l2']; \n",
    "    del df_gby_merged['l3'];\n",
    "\n",
    "    df = df_gby_merged.drop_duplicates()\n",
    "\n",
    "    df.rename(  columns={  df.columns[1]: 'l1'\n",
    "                         , df.columns[2]: 'l2'\n",
    "                         , df.columns[3]: 'l3'                   \n",
    "                        }\n",
    "                 , inplace=True\n",
    "             )\n",
    "    return df"
   ]
  },
  {
   "cell_type": "code",
   "execution_count": 59,
   "metadata": {
    "collapsed": false
   },
   "outputs": [
    {
     "name": "stderr",
     "output_type": "stream",
     "text": [
      "/home/vbajpai/.virtualenvs/lastmile-data-collection-analysis-python3/lib/python3.4/site-packages/pandas/core/frame.py:2697: SettingWithCopyWarning: \n",
      "A value is trying to be set on a copy of a slice from a DataFrame\n",
      "\n",
      "See the caveats in the documentation: http://pandas.pydata.org/pandas-docs/stable/indexing.html#indexing-view-versus-copy\n",
      "  **kwargs)\n"
     ]
    }
   ],
   "source": [
    "df_ra = merge_levels(df_ra)\n",
    "df_sk = merge_levels(df_sk)"
   ]
  },
  {
   "cell_type": "code",
   "execution_count": 60,
   "metadata": {
    "collapsed": false
   },
   "outputs": [
    {
     "data": {
      "text/html": [
       "<div>\n",
       "<table border=\"1\" class=\"dataframe\">\n",
       "  <thead>\n",
       "    <tr style=\"text-align: right;\">\n",
       "      <th></th>\n",
       "      <th>nodename</th>\n",
       "      <th>l1</th>\n",
       "      <th>l2</th>\n",
       "      <th>l3</th>\n",
       "    </tr>\n",
       "  </thead>\n",
       "  <tbody>\n",
       "    <tr>\n",
       "      <th>6346</th>\n",
       "      <td>UUNET (AS701)</td>\n",
       "      <td>23</td>\n",
       "      <td>0</td>\n",
       "      <td>0</td>\n",
       "    </tr>\n",
       "    <tr>\n",
       "      <th>1811</th>\n",
       "      <td>BT (AS2856)</td>\n",
       "      <td>23</td>\n",
       "      <td>0</td>\n",
       "      <td>0</td>\n",
       "    </tr>\n",
       "    <tr>\n",
       "      <th>3955</th>\n",
       "      <td>VODAFONE (AS3209)</td>\n",
       "      <td>10</td>\n",
       "      <td>0</td>\n",
       "      <td>0</td>\n",
       "    </tr>\n",
       "    <tr>\n",
       "      <th>24705</th>\n",
       "      <td>ORANGE (AS3215)</td>\n",
       "      <td>60</td>\n",
       "      <td>0</td>\n",
       "      <td>0</td>\n",
       "    </tr>\n",
       "    <tr>\n",
       "      <th>0</th>\n",
       "      <td>XS4ALL (AS3265)</td>\n",
       "      <td>29</td>\n",
       "      <td>1</td>\n",
       "      <td>0</td>\n",
       "    </tr>\n",
       "    <tr>\n",
       "      <th>1400</th>\n",
       "      <td>DTAG (AS3320)</td>\n",
       "      <td>60</td>\n",
       "      <td>1</td>\n",
       "      <td>0</td>\n",
       "    </tr>\n",
       "    <tr>\n",
       "      <th>13375</th>\n",
       "      <td>BELGACOM (AS5432)</td>\n",
       "      <td>23</td>\n",
       "      <td>1</td>\n",
       "      <td>0</td>\n",
       "    </tr>\n",
       "    <tr>\n",
       "      <th>50853</th>\n",
       "      <td>TELEFONICA-DE (AS6805)</td>\n",
       "      <td>11</td>\n",
       "      <td>2</td>\n",
       "      <td>0</td>\n",
       "    </tr>\n",
       "    <tr>\n",
       "      <th>15250</th>\n",
       "      <td>FREE (AS12322)</td>\n",
       "      <td>125</td>\n",
       "      <td>12</td>\n",
       "      <td>0</td>\n",
       "    </tr>\n",
       "    <tr>\n",
       "      <th>46481</th>\n",
       "      <td>ZEN (AS13037)</td>\n",
       "      <td>10</td>\n",
       "      <td>2</td>\n",
       "      <td>0</td>\n",
       "    </tr>\n",
       "    <tr>\n",
       "      <th>32133</th>\n",
       "      <td>LDCOMNET (AS15557)</td>\n",
       "      <td>28</td>\n",
       "      <td>1</td>\n",
       "      <td>0</td>\n",
       "    </tr>\n",
       "    <tr>\n",
       "      <th>3542</th>\n",
       "      <td>OVH (AS35540)</td>\n",
       "      <td>28</td>\n",
       "      <td>1</td>\n",
       "      <td>0</td>\n",
       "    </tr>\n",
       "  </tbody>\n",
       "</table>\n",
       "</div>"
      ],
      "text/plain": [
       "                     nodename   l1  l2  l3\n",
       "6346            UUNET (AS701)   23   0   0\n",
       "1811              BT (AS2856)   23   0   0\n",
       "3955        VODAFONE (AS3209)   10   0   0\n",
       "24705         ORANGE (AS3215)   60   0   0\n",
       "0             XS4ALL (AS3265)   29   1   0\n",
       "1400            DTAG (AS3320)   60   1   0\n",
       "13375       BELGACOM (AS5432)   23   1   0\n",
       "50853  TELEFONICA-DE (AS6805)   11   2   0\n",
       "15250          FREE (AS12322)  125  12   0\n",
       "46481           ZEN (AS13037)   10   2   0\n",
       "32133      LDCOMNET (AS15557)   28   1   0\n",
       "3542            OVH (AS35540)   28   1   0"
      ]
     },
     "execution_count": 60,
     "metadata": {},
     "output_type": "execute_result"
    }
   ],
   "source": [
    "df_ra.head(n=20)"
   ]
  },
  {
   "cell_type": "code",
   "execution_count": 61,
   "metadata": {
    "collapsed": false
   },
   "outputs": [
    {
     "data": {
      "text/html": [
       "<div>\n",
       "<table border=\"1\" class=\"dataframe\">\n",
       "  <thead>\n",
       "    <tr style=\"text-align: right;\">\n",
       "      <th></th>\n",
       "      <th>nodename</th>\n",
       "      <th>l1</th>\n",
       "      <th>l2</th>\n",
       "      <th>l3</th>\n",
       "    </tr>\n",
       "  </thead>\n",
       "  <tbody>\n",
       "    <tr>\n",
       "      <th>0</th>\n",
       "      <td>BT (AS2856)</td>\n",
       "      <td>264</td>\n",
       "      <td>40</td>\n",
       "      <td>10</td>\n",
       "    </tr>\n",
       "    <tr>\n",
       "      <th>173243</th>\n",
       "      <td>BSKYB (AS5607)</td>\n",
       "      <td>35</td>\n",
       "      <td>1</td>\n",
       "      <td>0</td>\n",
       "    </tr>\n",
       "    <tr>\n",
       "      <th>1304</th>\n",
       "      <td>PLUSNET (AS6871)</td>\n",
       "      <td>261</td>\n",
       "      <td>10</td>\n",
       "      <td>0</td>\n",
       "    </tr>\n",
       "    <tr>\n",
       "      <th>4800</th>\n",
       "      <td>TISCALI (AS9105)</td>\n",
       "      <td>60</td>\n",
       "      <td>12</td>\n",
       "      <td>1</td>\n",
       "    </tr>\n",
       "    <tr>\n",
       "      <th>2522</th>\n",
       "      <td>ECLIPSE (AS12513)</td>\n",
       "      <td>6</td>\n",
       "      <td>0</td>\n",
       "      <td>0</td>\n",
       "    </tr>\n",
       "    <tr>\n",
       "      <th>40875</th>\n",
       "      <td>ORANGE (AS12576)</td>\n",
       "      <td>73</td>\n",
       "      <td>8</td>\n",
       "      <td>1</td>\n",
       "    </tr>\n",
       "    <tr>\n",
       "      <th>156741</th>\n",
       "      <td>ZEN (AS13037)</td>\n",
       "      <td>33</td>\n",
       "      <td>2</td>\n",
       "      <td>0</td>\n",
       "    </tr>\n",
       "    <tr>\n",
       "      <th>20200</th>\n",
       "      <td>OPALTELECOM (AS13285)</td>\n",
       "      <td>109</td>\n",
       "      <td>21</td>\n",
       "      <td>2</td>\n",
       "    </tr>\n",
       "    <tr>\n",
       "      <th>14242</th>\n",
       "      <td>AS20712 (AS20712)</td>\n",
       "      <td>3</td>\n",
       "      <td>0</td>\n",
       "      <td>0</td>\n",
       "    </tr>\n",
       "    <tr>\n",
       "      <th>44826</th>\n",
       "      <td>TALKTALK (AS43234)</td>\n",
       "      <td>32</td>\n",
       "      <td>2</td>\n",
       "      <td>0</td>\n",
       "    </tr>\n",
       "  </tbody>\n",
       "</table>\n",
       "</div>"
      ],
      "text/plain": [
       "                     nodename   l1  l2  l3\n",
       "0                 BT (AS2856)  264  40  10\n",
       "173243         BSKYB (AS5607)   35   1   0\n",
       "1304         PLUSNET (AS6871)  261  10   0\n",
       "4800         TISCALI (AS9105)   60  12   1\n",
       "2522        ECLIPSE (AS12513)    6   0   0\n",
       "40875        ORANGE (AS12576)   73   8   1\n",
       "156741          ZEN (AS13037)   33   2   0\n",
       "20200   OPALTELECOM (AS13285)  109  21   2\n",
       "14242       AS20712 (AS20712)    3   0   0\n",
       "44826      TALKTALK (AS43234)   32   2   0"
      ]
     },
     "execution_count": 61,
     "metadata": {},
     "output_type": "execute_result"
    }
   ],
   "source": [
    "df_sk.head(n=20)"
   ]
  },
  {
   "cell_type": "code",
   "execution_count": 62,
   "metadata": {
    "collapsed": false
   },
   "outputs": [
    {
     "name": "stderr",
     "output_type": "stream",
     "text": [
      "/home/vbajpai/.virtualenvs/lastmile-data-collection-analysis-python3/lib/python3.4/site-packages/ipykernel/__main__.py:1: FutureWarning: sort(columns=....) is deprecated, use sort_values(by=.....)\n",
      "  if __name__ == '__main__':\n",
      "/home/vbajpai/.virtualenvs/lastmile-data-collection-analysis-python3/lib/python3.4/site-packages/ipykernel/__main__.py:2: FutureWarning: sort(columns=....) is deprecated, use sort_values(by=.....)\n",
      "  from ipykernel import kernelapp as app\n"
     ]
    }
   ],
   "source": [
    "df_ra = df_ra.sort('l2')\n",
    "df_sk = df_sk.sort('l2')"
   ]
  },
  {
   "cell_type": "code",
   "execution_count": 63,
   "metadata": {
    "collapsed": true
   },
   "outputs": [],
   "source": [
    "df_ra = df_ra.reset_index()\n",
    "df_sk = df_sk.reset_index()\n",
    "del df_ra['index']; del df_sk['index']"
   ]
  },
  {
   "cell_type": "code",
   "execution_count": 64,
   "metadata": {
    "collapsed": false
   },
   "outputs": [
    {
     "data": {
      "text/html": [
       "<div>\n",
       "<table border=\"1\" class=\"dataframe\">\n",
       "  <thead>\n",
       "    <tr style=\"text-align: right;\">\n",
       "      <th></th>\n",
       "      <th>nodename</th>\n",
       "      <th>l1</th>\n",
       "      <th>l2</th>\n",
       "      <th>l3</th>\n",
       "    </tr>\n",
       "  </thead>\n",
       "  <tbody>\n",
       "    <tr>\n",
       "      <th>0</th>\n",
       "      <td>UUNET (AS701)</td>\n",
       "      <td>23</td>\n",
       "      <td>0</td>\n",
       "      <td>0</td>\n",
       "    </tr>\n",
       "    <tr>\n",
       "      <th>1</th>\n",
       "      <td>BT (AS2856)</td>\n",
       "      <td>23</td>\n",
       "      <td>0</td>\n",
       "      <td>0</td>\n",
       "    </tr>\n",
       "    <tr>\n",
       "      <th>2</th>\n",
       "      <td>VODAFONE (AS3209)</td>\n",
       "      <td>10</td>\n",
       "      <td>0</td>\n",
       "      <td>0</td>\n",
       "    </tr>\n",
       "    <tr>\n",
       "      <th>3</th>\n",
       "      <td>ORANGE (AS3215)</td>\n",
       "      <td>60</td>\n",
       "      <td>0</td>\n",
       "      <td>0</td>\n",
       "    </tr>\n",
       "    <tr>\n",
       "      <th>4</th>\n",
       "      <td>XS4ALL (AS3265)</td>\n",
       "      <td>29</td>\n",
       "      <td>1</td>\n",
       "      <td>0</td>\n",
       "    </tr>\n",
       "    <tr>\n",
       "      <th>5</th>\n",
       "      <td>DTAG (AS3320)</td>\n",
       "      <td>60</td>\n",
       "      <td>1</td>\n",
       "      <td>0</td>\n",
       "    </tr>\n",
       "    <tr>\n",
       "      <th>6</th>\n",
       "      <td>BELGACOM (AS5432)</td>\n",
       "      <td>23</td>\n",
       "      <td>1</td>\n",
       "      <td>0</td>\n",
       "    </tr>\n",
       "    <tr>\n",
       "      <th>7</th>\n",
       "      <td>LDCOMNET (AS15557)</td>\n",
       "      <td>28</td>\n",
       "      <td>1</td>\n",
       "      <td>0</td>\n",
       "    </tr>\n",
       "    <tr>\n",
       "      <th>8</th>\n",
       "      <td>OVH (AS35540)</td>\n",
       "      <td>28</td>\n",
       "      <td>1</td>\n",
       "      <td>0</td>\n",
       "    </tr>\n",
       "    <tr>\n",
       "      <th>9</th>\n",
       "      <td>TELEFONICA-DE (AS6805)</td>\n",
       "      <td>11</td>\n",
       "      <td>2</td>\n",
       "      <td>0</td>\n",
       "    </tr>\n",
       "    <tr>\n",
       "      <th>10</th>\n",
       "      <td>ZEN (AS13037)</td>\n",
       "      <td>10</td>\n",
       "      <td>2</td>\n",
       "      <td>0</td>\n",
       "    </tr>\n",
       "    <tr>\n",
       "      <th>11</th>\n",
       "      <td>FREE (AS12322)</td>\n",
       "      <td>125</td>\n",
       "      <td>12</td>\n",
       "      <td>0</td>\n",
       "    </tr>\n",
       "  </tbody>\n",
       "</table>\n",
       "</div>"
      ],
      "text/plain": [
       "                  nodename   l1  l2  l3\n",
       "0            UUNET (AS701)   23   0   0\n",
       "1              BT (AS2856)   23   0   0\n",
       "2        VODAFONE (AS3209)   10   0   0\n",
       "3          ORANGE (AS3215)   60   0   0\n",
       "4          XS4ALL (AS3265)   29   1   0\n",
       "5            DTAG (AS3320)   60   1   0\n",
       "6        BELGACOM (AS5432)   23   1   0\n",
       "7       LDCOMNET (AS15557)   28   1   0\n",
       "8            OVH (AS35540)   28   1   0\n",
       "9   TELEFONICA-DE (AS6805)   11   2   0\n",
       "10           ZEN (AS13037)   10   2   0\n",
       "11          FREE (AS12322)  125  12   0"
      ]
     },
     "execution_count": 64,
     "metadata": {},
     "output_type": "execute_result"
    }
   ],
   "source": [
    "df_ra.head(n=50)"
   ]
  },
  {
   "cell_type": "code",
   "execution_count": 65,
   "metadata": {
    "collapsed": false
   },
   "outputs": [
    {
     "data": {
      "text/html": [
       "<div>\n",
       "<table border=\"1\" class=\"dataframe\">\n",
       "  <thead>\n",
       "    <tr style=\"text-align: right;\">\n",
       "      <th></th>\n",
       "      <th>nodename</th>\n",
       "      <th>l1</th>\n",
       "      <th>l2</th>\n",
       "      <th>l3</th>\n",
       "    </tr>\n",
       "  </thead>\n",
       "  <tbody>\n",
       "    <tr>\n",
       "      <th>0</th>\n",
       "      <td>ECLIPSE (AS12513)</td>\n",
       "      <td>6</td>\n",
       "      <td>0</td>\n",
       "      <td>0</td>\n",
       "    </tr>\n",
       "    <tr>\n",
       "      <th>1</th>\n",
       "      <td>AS20712 (AS20712)</td>\n",
       "      <td>3</td>\n",
       "      <td>0</td>\n",
       "      <td>0</td>\n",
       "    </tr>\n",
       "    <tr>\n",
       "      <th>2</th>\n",
       "      <td>BSKYB (AS5607)</td>\n",
       "      <td>35</td>\n",
       "      <td>1</td>\n",
       "      <td>0</td>\n",
       "    </tr>\n",
       "    <tr>\n",
       "      <th>3</th>\n",
       "      <td>ZEN (AS13037)</td>\n",
       "      <td>33</td>\n",
       "      <td>2</td>\n",
       "      <td>0</td>\n",
       "    </tr>\n",
       "    <tr>\n",
       "      <th>4</th>\n",
       "      <td>TALKTALK (AS43234)</td>\n",
       "      <td>32</td>\n",
       "      <td>2</td>\n",
       "      <td>0</td>\n",
       "    </tr>\n",
       "    <tr>\n",
       "      <th>5</th>\n",
       "      <td>ORANGE (AS12576)</td>\n",
       "      <td>73</td>\n",
       "      <td>8</td>\n",
       "      <td>1</td>\n",
       "    </tr>\n",
       "    <tr>\n",
       "      <th>6</th>\n",
       "      <td>PLUSNET (AS6871)</td>\n",
       "      <td>261</td>\n",
       "      <td>10</td>\n",
       "      <td>0</td>\n",
       "    </tr>\n",
       "    <tr>\n",
       "      <th>7</th>\n",
       "      <td>TISCALI (AS9105)</td>\n",
       "      <td>60</td>\n",
       "      <td>12</td>\n",
       "      <td>1</td>\n",
       "    </tr>\n",
       "    <tr>\n",
       "      <th>8</th>\n",
       "      <td>OPALTELECOM (AS13285)</td>\n",
       "      <td>109</td>\n",
       "      <td>21</td>\n",
       "      <td>2</td>\n",
       "    </tr>\n",
       "    <tr>\n",
       "      <th>9</th>\n",
       "      <td>BT (AS2856)</td>\n",
       "      <td>264</td>\n",
       "      <td>40</td>\n",
       "      <td>10</td>\n",
       "    </tr>\n",
       "  </tbody>\n",
       "</table>\n",
       "</div>"
      ],
      "text/plain": [
       "                nodename   l1  l2  l3\n",
       "0      ECLIPSE (AS12513)    6   0   0\n",
       "1      AS20712 (AS20712)    3   0   0\n",
       "2         BSKYB (AS5607)   35   1   0\n",
       "3          ZEN (AS13037)   33   2   0\n",
       "4     TALKTALK (AS43234)   32   2   0\n",
       "5       ORANGE (AS12576)   73   8   1\n",
       "6       PLUSNET (AS6871)  261  10   0\n",
       "7       TISCALI (AS9105)   60  12   1\n",
       "8  OPALTELECOM (AS13285)  109  21   2\n",
       "9            BT (AS2856)  264  40  10"
      ]
     },
     "execution_count": 65,
     "metadata": {},
     "output_type": "execute_result"
    }
   ],
   "source": [
    "df_sk.head(n=50)"
   ]
  },
  {
   "cell_type": "code",
   "execution_count": 68,
   "metadata": {
    "collapsed": true
   },
   "outputs": [],
   "source": [
    "df = pd.concat([df_ra, df_sk])"
   ]
  },
  {
   "cell_type": "code",
   "execution_count": 69,
   "metadata": {
    "collapsed": false
   },
   "outputs": [
    {
     "name": "stderr",
     "output_type": "stream",
     "text": [
      "/home/vbajpai/.virtualenvs/lastmile-data-collection-analysis-python3/lib/python3.4/site-packages/ipykernel/__main__.py:2: FutureWarning: sort(columns=....) is deprecated, use sort_values(by=.....)\n",
      "  from ipykernel import kernelapp as app\n"
     ]
    }
   ],
   "source": [
    "df_l2 = df[df.l2 > 0]\n",
    "df_l2 = df_l2.sort('l2')"
   ]
  },
  {
   "cell_type": "code",
   "execution_count": 70,
   "metadata": {
    "collapsed": false
   },
   "outputs": [
    {
     "name": "stderr",
     "output_type": "stream",
     "text": [
      "/home/vbajpai/.virtualenvs/lastmile-data-collection-analysis-python3/lib/python3.4/site-packages/ipykernel/__main__.py:2: FutureWarning: sort(columns=....) is deprecated, use sort_values(by=.....)\n",
      "  from ipykernel import kernelapp as app\n"
     ]
    }
   ],
   "source": [
    "df_l3 = df[df.l3 > 0]\n",
    "df_l3 = df_l3.sort('l3')"
   ]
  },
  {
   "cell_type": "code",
   "execution_count": 71,
   "metadata": {
    "collapsed": false
   },
   "outputs": [
    {
     "data": {
      "text/html": [
       "<div>\n",
       "<table border=\"1\" class=\"dataframe\">\n",
       "  <thead>\n",
       "    <tr style=\"text-align: right;\">\n",
       "      <th></th>\n",
       "      <th>nodename</th>\n",
       "      <th>l1</th>\n",
       "      <th>l2</th>\n",
       "      <th>l3</th>\n",
       "    </tr>\n",
       "  </thead>\n",
       "  <tbody>\n",
       "    <tr>\n",
       "      <th>4</th>\n",
       "      <td>XS4ALL (AS3265)</td>\n",
       "      <td>29</td>\n",
       "      <td>1</td>\n",
       "      <td>0</td>\n",
       "    </tr>\n",
       "    <tr>\n",
       "      <th>5</th>\n",
       "      <td>DTAG (AS3320)</td>\n",
       "      <td>60</td>\n",
       "      <td>1</td>\n",
       "      <td>0</td>\n",
       "    </tr>\n",
       "    <tr>\n",
       "      <th>6</th>\n",
       "      <td>BELGACOM (AS5432)</td>\n",
       "      <td>23</td>\n",
       "      <td>1</td>\n",
       "      <td>0</td>\n",
       "    </tr>\n",
       "    <tr>\n",
       "      <th>7</th>\n",
       "      <td>LDCOMNET (AS15557)</td>\n",
       "      <td>28</td>\n",
       "      <td>1</td>\n",
       "      <td>0</td>\n",
       "    </tr>\n",
       "    <tr>\n",
       "      <th>8</th>\n",
       "      <td>OVH (AS35540)</td>\n",
       "      <td>28</td>\n",
       "      <td>1</td>\n",
       "      <td>0</td>\n",
       "    </tr>\n",
       "    <tr>\n",
       "      <th>2</th>\n",
       "      <td>BSKYB (AS5607)</td>\n",
       "      <td>35</td>\n",
       "      <td>1</td>\n",
       "      <td>0</td>\n",
       "    </tr>\n",
       "    <tr>\n",
       "      <th>9</th>\n",
       "      <td>TELEFONICA-DE (AS6805)</td>\n",
       "      <td>11</td>\n",
       "      <td>2</td>\n",
       "      <td>0</td>\n",
       "    </tr>\n",
       "    <tr>\n",
       "      <th>10</th>\n",
       "      <td>ZEN (AS13037)</td>\n",
       "      <td>10</td>\n",
       "      <td>2</td>\n",
       "      <td>0</td>\n",
       "    </tr>\n",
       "    <tr>\n",
       "      <th>3</th>\n",
       "      <td>ZEN (AS13037)</td>\n",
       "      <td>33</td>\n",
       "      <td>2</td>\n",
       "      <td>0</td>\n",
       "    </tr>\n",
       "    <tr>\n",
       "      <th>4</th>\n",
       "      <td>TALKTALK (AS43234)</td>\n",
       "      <td>32</td>\n",
       "      <td>2</td>\n",
       "      <td>0</td>\n",
       "    </tr>\n",
       "    <tr>\n",
       "      <th>5</th>\n",
       "      <td>ORANGE (AS12576)</td>\n",
       "      <td>73</td>\n",
       "      <td>8</td>\n",
       "      <td>1</td>\n",
       "    </tr>\n",
       "    <tr>\n",
       "      <th>6</th>\n",
       "      <td>PLUSNET (AS6871)</td>\n",
       "      <td>261</td>\n",
       "      <td>10</td>\n",
       "      <td>0</td>\n",
       "    </tr>\n",
       "    <tr>\n",
       "      <th>11</th>\n",
       "      <td>FREE (AS12322)</td>\n",
       "      <td>125</td>\n",
       "      <td>12</td>\n",
       "      <td>0</td>\n",
       "    </tr>\n",
       "    <tr>\n",
       "      <th>7</th>\n",
       "      <td>TISCALI (AS9105)</td>\n",
       "      <td>60</td>\n",
       "      <td>12</td>\n",
       "      <td>1</td>\n",
       "    </tr>\n",
       "    <tr>\n",
       "      <th>8</th>\n",
       "      <td>OPALTELECOM (AS13285)</td>\n",
       "      <td>109</td>\n",
       "      <td>21</td>\n",
       "      <td>2</td>\n",
       "    </tr>\n",
       "    <tr>\n",
       "      <th>9</th>\n",
       "      <td>BT (AS2856)</td>\n",
       "      <td>264</td>\n",
       "      <td>40</td>\n",
       "      <td>10</td>\n",
       "    </tr>\n",
       "  </tbody>\n",
       "</table>\n",
       "</div>"
      ],
      "text/plain": [
       "                  nodename   l1  l2  l3\n",
       "4          XS4ALL (AS3265)   29   1   0\n",
       "5            DTAG (AS3320)   60   1   0\n",
       "6        BELGACOM (AS5432)   23   1   0\n",
       "7       LDCOMNET (AS15557)   28   1   0\n",
       "8            OVH (AS35540)   28   1   0\n",
       "2           BSKYB (AS5607)   35   1   0\n",
       "9   TELEFONICA-DE (AS6805)   11   2   0\n",
       "10           ZEN (AS13037)   10   2   0\n",
       "3            ZEN (AS13037)   33   2   0\n",
       "4       TALKTALK (AS43234)   32   2   0\n",
       "5         ORANGE (AS12576)   73   8   1\n",
       "6         PLUSNET (AS6871)  261  10   0\n",
       "11          FREE (AS12322)  125  12   0\n",
       "7         TISCALI (AS9105)   60  12   1\n",
       "8    OPALTELECOM (AS13285)  109  21   2\n",
       "9              BT (AS2856)  264  40  10"
      ]
     },
     "execution_count": 71,
     "metadata": {},
     "output_type": "execute_result"
    }
   ],
   "source": [
    "df_l2"
   ]
  },
  {
   "cell_type": "code",
   "execution_count": 72,
   "metadata": {
    "collapsed": false
   },
   "outputs": [
    {
     "name": "stderr",
     "output_type": "stream",
     "text": [
      "/home/vbajpai/.virtualenvs/lastmile-data-collection-analysis-python3/lib/python3.4/site-packages/pandas/core/frame.py:2697: SettingWithCopyWarning: \n",
      "A value is trying to be set on a copy of a slice from a DataFrame\n",
      "\n",
      "See the caveats in the documentation: http://pandas.pydata.org/pandas-docs/stable/indexing.html#indexing-view-versus-copy\n",
      "  **kwargs)\n",
      "/home/vbajpai/.virtualenvs/lastmile-data-collection-analysis-python3/lib/python3.4/site-packages/ipykernel/__main__.py:2: FutureWarning: sort(columns=....) is deprecated, use sort_values(by=.....)\n",
      "  from ipykernel import kernelapp as app\n"
     ]
    }
   ],
   "source": [
    "df_l2 = merge_levels(df_l2)\n",
    "df_l2 = df_l2.sort('l2')"
   ]
  },
  {
   "cell_type": "code",
   "execution_count": 73,
   "metadata": {
    "collapsed": false
   },
   "outputs": [
    {
     "name": "stderr",
     "output_type": "stream",
     "text": [
      "/home/vbajpai/.virtualenvs/lastmile-data-collection-analysis-python3/lib/python3.4/site-packages/ipykernel/__main__.py:2: FutureWarning: sort(columns=....) is deprecated, use sort_values(by=.....)\n",
      "  from ipykernel import kernelapp as app\n"
     ]
    }
   ],
   "source": [
    "df_l3 = merge_levels(df_l3)\n",
    "df_l3 = df_l3.sort('l3')"
   ]
  },
  {
   "cell_type": "code",
   "execution_count": 74,
   "metadata": {
    "collapsed": true
   },
   "outputs": [],
   "source": [
    "df_l2 = df_l2.reset_index(); df_l3 = df_l3.reset_index()\n",
    "del df_l2['index']; del df_l3['index']"
   ]
  },
  {
   "cell_type": "code",
   "execution_count": 75,
   "metadata": {
    "collapsed": false
   },
   "outputs": [],
   "source": [
    "df_l2['nodename'] = df_l2['nodename'].apply(lambda x: x.split()[0])\n",
    "df_l3['nodename'] = df_l3['nodename'].apply(lambda x: x.split()[0])"
   ]
  },
  {
   "cell_type": "code",
   "execution_count": 92,
   "metadata": {
    "collapsed": false
   },
   "outputs": [
    {
     "data": {
      "text/plain": [
       "<matplotlib.figure.Figure at 0x7f011bbbdcc0>"
      ]
     },
     "metadata": {},
     "output_type": "display_data"
    },
    {
     "data": {
      "image/png": "[encoded data removed]",
      "text/plain": [
       "<matplotlib.figure.Figure at 0x7f011be00f98>"
      ]
     },
     "metadata": {},
     "output_type": "display_data"
    }
   ],
   "source": [
    "plt.style.use('ggplot')\n",
    "plt.figure()\n",
    "plt.rcParams['font.size'] = 12\n",
    "\n",
    "xticks = [i for i in range(0, 60, 10)]\n",
    "\n",
    "ax = df_l2.plot(  kind='barh'\n",
    "                , x='nodename'\n",
    "                , y=['l2']\n",
    "                , xticks=xticks\n",
    "                , stacked=False\n",
    "                , legend=None\n",
    "                , figsize=(4,3.5)\n",
    "                , grid=False\n",
    "               );\n",
    "\n",
    "for idx, label in enumerate(df_l2.index):\n",
    "    pos      = df_l2.ix[idx][0]\n",
    "    l2_value = df_l2.ix[idx][2]\n",
    "    try: \n",
    "        plt.annotate(str(l2_value), xy=(l2_value + 1, idx), va='center', fontsize=12, color='blue')            \n",
    "    except Exception as e: print(e, type(e), value)\n",
    "\n",
    "ax.yaxis.set_ticks_position('none')\n",
    "ax.xaxis.set_ticks_position('none')\n",
    "\n",
    "ax.spines['top'].set_visible(False)\n",
    "ax.spines['right'].set_visible(False)\n",
    "ax.spines['left'].set_visible(False)\n",
    "ax.spines['bottom'].set_visible(False)\n",
    "\n",
    "ax.set_axis_bgcolor('#E2E2E2')    \n",
    "plt.xlim(0,max(xticks))\n",
    "plt.xlabel('# (Probes)', fontsize=12)\n",
    "plt.ylabel('')\n",
    "plt.legend([\"depth levels = 2\"], loc='lower right', fontsize=12)\n",
    "plt.title('Residential Probes', fontsize=12, y=1.02)\n",
    "plt.savefig('interleaving-depth-level2.pdf', format='pdf', bbox_inches='tight')"
   ]
  },
  {
   "cell_type": "code",
   "execution_count": 91,
   "metadata": {
    "collapsed": false
   },
   "outputs": [
    {
     "data": {
      "text/plain": [
       "<matplotlib.figure.Figure at 0x7f011d426550>"
      ]
     },
     "metadata": {},
     "output_type": "display_data"
    },
    {
     "data": {
      "image/png": "[encoded data removed]",
      "text/plain": [
       "<matplotlib.figure.Figure at 0x7f011d426630>"
      ]
     },
     "metadata": {},
     "output_type": "display_data"
    }
   ],
   "source": [
    "plt.style.use('ggplot')\n",
    "plt.figure()\n",
    "plt.rcParams['font.size'] = 12\n",
    "\n",
    "xticks = [i for i in range(0, 15, 2)]\n",
    "\n",
    "ax = df_l3.plot(  kind='barh'\n",
    "                , x='nodename'\n",
    "                , y=['l3']\n",
    "                , xticks=xticks\n",
    "                , stacked=False\n",
    "                , legend=None\n",
    "                , figsize=(4,1)\n",
    "                , grid=False\n",
    "               );\n",
    "\n",
    "for idx, label in enumerate(df_l3.index):\n",
    "    pos      = df_l3.ix[idx][0]\n",
    "    l3_value = df_l3.ix[idx][3]\n",
    "    try: \n",
    "        plt.annotate(str(l3_value), xy=(l3_value + 1, idx), va='center', fontsize=12, color='blue')            \n",
    "    except Exception as e: print(e, type(e), value)\n",
    "\n",
    "ax.yaxis.set_ticks_position('none')\n",
    "ax.xaxis.set_ticks_position('none')\n",
    "\n",
    "ax.spines['top'].set_visible(False)\n",
    "ax.spines['right'].set_visible(False)\n",
    "ax.spines['left'].set_visible(False)\n",
    "ax.spines['bottom'].set_visible(False)\n",
    "\n",
    "ax.set_axis_bgcolor('#E2E2E2')    \n",
    "plt.xlim(0,max(xticks))\n",
    "plt.xlabel('# (Probes)', fontsize=12)\n",
    "plt.ylabel('')\n",
    "plt.legend([\"depth levels = 3\"], loc='lower right', fontsize=12)\n",
    "plt.title('Residential Probes', fontsize=12, y=1.02)\n",
    "plt.savefig('interleaving-depth-level3.pdf', format='pdf', bbox_inches='tight')"
   ]
  }
 ],
 "metadata": {
  "kernelspec": {
   "display_name": "Python 3",
   "language": "python",
   "name": "python3"
  },
  "language_info": {
   "codemirror_mode": {
    "name": "ipython",
    "version": 3
   },
   "file_extension": ".py",
   "mimetype": "text/x-python",
   "name": "python",
   "nbconvert_exporter": "python",
   "pygments_lexer": "ipython3",
   "version": "3.4.2"
  }
 },
 "nbformat": 4,
 "nbformat_minor": 0
}
