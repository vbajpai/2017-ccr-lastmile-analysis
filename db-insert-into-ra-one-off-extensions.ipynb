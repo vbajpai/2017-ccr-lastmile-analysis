{
 "cells": [
  {
   "cell_type": "markdown",
   "metadata": {},
   "source": [
    "*This notebook gets the one-off measurement data from `ra_one_off_parameters` table and filters the NATed and residential probe IDs, then inserts entire dataframe (probeid, timestamp, if_nat, if_residential, reverse_dns column) in `ra_one_off_extensions` table. Corresponding access_types derived from reverse_dns should be a separate notebook*\n",
    "- - - "
   ]
  },
  {
   "cell_type": "code",
   "execution_count": 2,
   "metadata": {
    "collapsed": false
   },
   "outputs": [
    {
     "data": {
      "text/html": [
       "<style>body {\n",
       "    margin: 0;\n",
       "    font-family: Helvetica;\n",
       "}\n",
       "table.dataframe {\n",
       "    border-collapse: collapse;\n",
       "    border: none;\n",
       "}\n",
       "table.dataframe tr {\n",
       "    border: none;\n",
       "}\n",
       "table.dataframe td, table.dataframe th {\n",
       "    margin: 0;\n",
       "    border: 1px solid white;\n",
       "    padding-left: 0.25em;\n",
       "    padding-right: 0.25em;\n",
       "}\n",
       "table.dataframe th:not(:empty) {\n",
       "    background-color: #fec;\n",
       "    text-align: left;\n",
       "    font-weight: normal;\n",
       "}\n",
       "table.dataframe tr:nth-child(2) th:empty {\n",
       "    border-left: none;\n",
       "    border-right: 1px dashed #888;\n",
       "}\n",
       "table.dataframe td {\n",
       "    border: 2px solid #ccf;\n",
       "    background-color: #f4f4ff;\n",
       "}\n",
       "h3 {\n",
       "    color: white;\n",
       "    background-color: black;\n",
       "    padding: 0.5em;\n",
       "}\n",
       "\n",
       ".CodeMirror {\n",
       "    font-family: 'Monaco for Powerline';\n",
       "}\n",
       "\n",
       "div.cell.code_cell {\n",
       "    font-family: 'Monaco for Powerline';\n",
       "}\n",
       "\n",
       "div.output_area pre {\n",
       "    font-family: 'Monaco for Powerline';\n",
       "}\n",
       "</style>"
      ],
      "text/plain": [
       "<IPython.core.display.HTML object>"
      ]
     },
     "execution_count": 2,
     "metadata": {},
     "output_type": "execute_result"
    }
   ],
   "source": [
    "from IPython.core.display import HTML\n",
    "css = open('style-table.css').read() + open('style-notebook.css').read()\n",
    "HTML('<style>{}</style>'.format(css))"
   ]
  },
  {
   "cell_type": "code",
   "execution_count": 3,
   "metadata": {
    "collapsed": false
   },
   "outputs": [],
   "source": [
    "import sqlite3\n",
    "import pandas as pd\n",
    "import requests\n",
    "import ipaddress\n",
    "import time"
   ]
  },
  {
   "cell_type": "code",
   "execution_count": 4,
   "metadata": {
    "collapsed": true
   },
   "outputs": [],
   "source": [
    "DB_LOCATION = 'lastmile.db'\n",
    "RA_PROBE_API = 'ra_probe_api'\n",
    "RA_ASN = 'ra_asn'\n",
    "RA_ONE_OFF_PARAMETERS = 'ra_one_off_parameters'\n",
    "RA_ONE_OFF_EXTENSIONS = 'ra_one_off_extensions'"
   ]
  },
  {
   "cell_type": "code",
   "execution_count": 5,
   "metadata": {
    "collapsed": false
   },
   "outputs": [],
   "source": [
    "con = sqlite3.connect(DB_LOCATION)"
   ]
  },
  {
   "cell_type": "code",
   "execution_count": 6,
   "metadata": {
    "collapsed": false
   },
   "outputs": [],
   "source": [
    "timestamp = int(time.time())\n",
    "query = '''SELECT    probeid\n",
    "                   , %d as timestamp \n",
    "                   , GROUP_CONCAT(probe_ip) as probe_ip\n",
    "                   , GROUP_CONCAT(result_hop_no, ';') as hop_no\n",
    "                   , GROUP_CONCAT(result_hop_blob, ';') as result_hop_blob\n",
    "                   , '' as hop1\n",
    "                   , '' as hop2\n",
    "                   , 0  as if_residential\n",
    "                   , 0  as if_nat\n",
    "           FROM      %s\n",
    "           WHERE     result_hop_no == 1 OR result_hop_no == 2\n",
    "           GROUP BY  probeid\n",
    "        '''%(timestamp, RA_ONE_OFF_PARAMETERS)\n",
    "\n",
    "df = pd.read_sql(query, con)"
   ]
  },
  {
   "cell_type": "code",
   "execution_count": 7,
   "metadata": {
    "collapsed": false
   },
   "outputs": [],
   "source": [
    "def return_all_from_field_values(json_string):\n",
    "    import json\n",
    "    try: json_data = json.loads(json_string)\n",
    "    except Exception as e: print(e, type(e), json_string)\n",
    "    try: from_field_values = ', '.join([item['from'] for item in json_data])\n",
    "    except Exception as e: print('*', end=\"\"); return None\n",
    "    else: return from_field_values"
   ]
  },
  {
   "cell_type": "code",
   "execution_count": 8,
   "metadata": {
    "collapsed": false
   },
   "outputs": [],
   "source": [
    "def return_concat_from_field_values(concat_result_blob):\n",
    "    try: a, b = concat_result_blob.split(';')\n",
    "    except Exception as e: return '%s; %s'%(None,None)\n",
    "    a = a.replace(\"'\", '\"')\n",
    "    b = b.replace(\"'\", '\"')\n",
    "    a = return_all_from_field_values(a)\n",
    "    b = return_all_from_field_values(b)\n",
    "    concat_from_field_values = '%s; %s'%(a,b)\n",
    "    return concat_from_field_values"
   ]
  },
  {
   "cell_type": "code",
   "execution_count": 9,
   "metadata": {
    "collapsed": false
   },
   "outputs": [
    {
     "data": {
      "text/html": [
       "<div>\n",
       "<table border=\"1\" class=\"dataframe\">\n",
       "  <thead>\n",
       "    <tr style=\"text-align: right;\">\n",
       "      <th></th>\n",
       "      <th>probeid</th>\n",
       "      <th>timestamp</th>\n",
       "      <th>probe_ip</th>\n",
       "      <th>hop_no</th>\n",
       "      <th>result_hop_blob</th>\n",
       "      <th>hop1</th>\n",
       "      <th>hop2</th>\n",
       "      <th>if_residential</th>\n",
       "      <th>if_nat</th>\n",
       "    </tr>\n",
       "  </thead>\n",
       "  <tbody>\n",
       "    <tr>\n",
       "      <th>0</th>\n",
       "      <td>3</td>\n",
       "      <td>1446062329</td>\n",
       "      <td>83.160.101.12,83.160.101.12</td>\n",
       "      <td>1;2</td>\n",
       "      <td>[{'ttl': 64, 'size': 68, 'rtt': 1.942, 'from':...</td>\n",
       "      <td></td>\n",
       "      <td></td>\n",
       "      <td>0</td>\n",
       "      <td>0</td>\n",
       "    </tr>\n",
       "    <tr>\n",
       "      <th>1</th>\n",
       "      <td>4</td>\n",
       "      <td>1446062329</td>\n",
       "      <td>83.163.50.165,83.163.50.165</td>\n",
       "      <td>1;2</td>\n",
       "      <td>[{'ttl': 64, 'size': 68, 'rtt': 1.925, 'from':...</td>\n",
       "      <td></td>\n",
       "      <td></td>\n",
       "      <td>0</td>\n",
       "      <td>0</td>\n",
       "    </tr>\n",
       "    <tr>\n",
       "      <th>2</th>\n",
       "      <td>5</td>\n",
       "      <td>1446062329</td>\n",
       "      <td>83.163.239.181,83.163.239.181</td>\n",
       "      <td>1;2</td>\n",
       "      <td>[{'ttl': 64, 'size': 68, 'rtt': 3.094, 'from':...</td>\n",
       "      <td></td>\n",
       "      <td></td>\n",
       "      <td>0</td>\n",
       "      <td>0</td>\n",
       "    </tr>\n",
       "    <tr>\n",
       "      <th>3</th>\n",
       "      <td>7</td>\n",
       "      <td>1446062329</td>\n",
       "      <td>84.28.33.3,84.28.33.3</td>\n",
       "      <td>1;2</td>\n",
       "      <td>[{'ttl': 64, 'size': 68, 'rtt': 15.795, 'from'...</td>\n",
       "      <td></td>\n",
       "      <td></td>\n",
       "      <td>0</td>\n",
       "      <td>0</td>\n",
       "    </tr>\n",
       "    <tr>\n",
       "      <th>4</th>\n",
       "      <td>8</td>\n",
       "      <td>1446062329</td>\n",
       "      <td>83.68.21.139,83.68.21.139</td>\n",
       "      <td>1;2</td>\n",
       "      <td>[{'ttl': 64, 'size': 68, 'rtt': 16.722, 'from'...</td>\n",
       "      <td></td>\n",
       "      <td></td>\n",
       "      <td>0</td>\n",
       "      <td>0</td>\n",
       "    </tr>\n",
       "  </tbody>\n",
       "</table>\n",
       "</div>"
      ],
      "text/plain": [
       "   probeid   timestamp                       probe_ip hop_no  \\\n",
       "0        3  1446062329    83.160.101.12,83.160.101.12    1;2   \n",
       "1        4  1446062329    83.163.50.165,83.163.50.165    1;2   \n",
       "2        5  1446062329  83.163.239.181,83.163.239.181    1;2   \n",
       "3        7  1446062329          84.28.33.3,84.28.33.3    1;2   \n",
       "4        8  1446062329      83.68.21.139,83.68.21.139    1;2   \n",
       "\n",
       "                                     result_hop_blob hop1 hop2  \\\n",
       "0  [{'ttl': 64, 'size': 68, 'rtt': 1.942, 'from':...             \n",
       "1  [{'ttl': 64, 'size': 68, 'rtt': 1.925, 'from':...             \n",
       "2  [{'ttl': 64, 'size': 68, 'rtt': 3.094, 'from':...             \n",
       "3  [{'ttl': 64, 'size': 68, 'rtt': 15.795, 'from'...             \n",
       "4  [{'ttl': 64, 'size': 68, 'rtt': 16.722, 'from'...             \n",
       "\n",
       "   if_residential  if_nat  \n",
       "0               0       0  \n",
       "1               0       0  \n",
       "2               0       0  \n",
       "3               0       0  \n",
       "4               0       0  "
      ]
     },
     "execution_count": 9,
     "metadata": {},
     "output_type": "execute_result"
    }
   ],
   "source": [
    "df.head()"
   ]
  },
  {
   "cell_type": "code",
   "execution_count": 10,
   "metadata": {
    "collapsed": false
   },
   "outputs": [
    {
     "name": "stdout",
     "output_type": "stream",
     "text": [
      "****************************************************************************************************************************************************************************************************************************************************************************************************************************************************************************************************************************************************************************************************************************************************************************************************************************************************************************************************************************************************************************************************************************************************************************************************************************************************"
     ]
    }
   ],
   "source": [
    "for i, row in df.iterrows():\n",
    "    result_hop_blob = df.ix[i, 'result_hop_blob']\n",
    "    result_hop_blob = result_hop_blob.replace('True', '\"True\"')\n",
    "    froms = return_concat_from_field_values(result_hop_blob)\n",
    "    h1, h2 = froms.split(';')\n",
    "    df.ix[i, 'hop1'] = h1\n",
    "    df.ix[i, 'hop2'] = h2"
   ]
  },
  {
   "cell_type": "code",
   "execution_count": 11,
   "metadata": {
    "collapsed": false
   },
   "outputs": [],
   "source": [
    "del df['hop_no']\n",
    "del df['result_hop_blob']"
   ]
  },
  {
   "cell_type": "code",
   "execution_count": 12,
   "metadata": {
    "collapsed": false
   },
   "outputs": [],
   "source": [
    "def shrink_probe_ip(probe_ip_str):\n",
    "    probe_ip_list = probe_ip_str.split(',');\n",
    "    probe_ip_set = set(probe_ip_list)\n",
    "    if len(probe_ip_set) == 1: return probe_ip_set.pop()\n",
    "    else: return None\n",
    "df['probe_ip'] = df['probe_ip'].apply(shrink_probe_ip)"
   ]
  },
  {
   "cell_type": "code",
   "execution_count": 13,
   "metadata": {
    "collapsed": false
   },
   "outputs": [
    {
     "data": {
      "text/plain": [
       "probeid           6819\n",
       "timestamp         6819\n",
       "probe_ip          6819\n",
       "hop1              6819\n",
       "hop2              6819\n",
       "if_residential    6819\n",
       "if_nat            6819\n",
       "dtype: int64"
      ]
     },
     "execution_count": 13,
     "metadata": {},
     "output_type": "execute_result"
    }
   ],
   "source": [
    "df.count()"
   ]
  },
  {
   "cell_type": "code",
   "execution_count": 14,
   "metadata": {
    "collapsed": false
   },
   "outputs": [
    {
     "name": "stdout",
     "output_type": "stream",
     "text": [
      ".................................................................................................................................................................................................................[Errno -3] Temporary failure in name resolution <class 'socket.gaierror'> 91.193.68.45\n",
      ".................................................................[Errno -3] Temporary failure in name resolution <class 'socket.gaierror'> 194.190.158.21\n",
      "..........................................................................................................[Errno -3] Temporary failure in name resolution <class 'socket.gaierror'> 38.66.26.182\n",
      "................................................................................................................................................................................................................................................................................................................................[Errno -3] Temporary failure in name resolution <class 'socket.gaierror'> 153.16.38.64\n",
      "..............................................................................................................................................................................................................................................................................................................................................[Errno -3] Temporary failure in name resolution <class 'socket.gaierror'> 103.25.229.154\n",
      "..........[Errno -3] Temporary failure in name resolution <class 'socket.gaierror'> 78.197.20.43\n",
      "........................[Errno -3] Temporary failure in name resolution <class 'socket.gaierror'> 153.16.25.237\n",
      ".[Errno -3] Temporary failure in name resolution <class 'socket.gaierror'> 153.16.25.25\n",
      "...................................................................................................................................................................................................................................................................................................................................................................[Errno -3] Temporary failure in name resolution <class 'socket.gaierror'> 84.240.205.197\n",
      "............................................................[Errno -3] Temporary failure in name resolution <class 'socket.gaierror'> 93.84.64.67\n",
      ".............................................................................................................................................................................................................................................................[Errno -3] Temporary failure in name resolution <class 'socket.gaierror'> 91.191.0.134\n",
      "......................................................[Errno -3] Temporary failure in name resolution <class 'socket.gaierror'> 103.247.72.244\n",
      "............................................................................................................................................................................[Errno -3] Temporary failure in name resolution <class 'socket.gaierror'> 202.6.102.34\n",
      "..........[Errno -3] Temporary failure in name resolution <class 'socket.gaierror'> 41.190.138.12\n",
      "........................................................................................................................................................................................................................................................................................................................................................................................................................................................................................................................................................................[Errno -3] Temporary failure in name resolution <class 'socket.gaierror'> 81.187.237.237\n",
      "....................[Errno -3] Temporary failure in name resolution <class 'socket.gaierror'> 172.77.23.228\n",
      "......................[Errno -3] Temporary failure in name resolution <class 'socket.gaierror'> 86.8.140.125\n",
      ".........................................[Errno -3] Temporary failure in name resolution <class 'socket.gaierror'> 195.8.200.13\n",
      "......................................................[Errno -3] Temporary failure in name resolution <class 'socket.gaierror'> 184.20.171.198\n",
      ".....[Errno -3] Temporary failure in name resolution <class 'socket.gaierror'> 209.236.15.54\n",
      "...........................................................[Errno -3] Temporary failure in name resolution <class 'socket.gaierror'> 147.52.2.242\n",
      "................................................................[Errno -3] Temporary failure in name resolution <class 'socket.gaierror'> 154.70.20.15\n",
      ".................[Errno -3] Temporary failure in name resolution <class 'socket.gaierror'> 80.86.166.131\n",
      ".........................................................[Errno -3] Temporary failure in name resolution <class 'socket.gaierror'> 89.39.201.235\n",
      "..........[Errno -3] Temporary failure in name resolution <class 'socket.gaierror'> 192.231.228.11\n",
      "....................[Errno -3] Temporary failure in name resolution <class 'socket.gaierror'> 195.95.241.59\n",
      "...................................................................................................................................................................................................................................[Errno -3] Temporary failure in name resolution <class 'socket.gaierror'> 116.86.207.181\n",
      "..........................................[Errno -3] Temporary failure in name resolution <class 'socket.gaierror'> 103.224.117.98\n",
      "............................................................................................................................................................................................................[Errno -3] Temporary failure in name resolution <class 'socket.gaierror'> 101.100.172.82\n",
      "............................................[Errno -3] Temporary failure in name resolution <class 'socket.gaierror'> 196.43.135.1\n",
      ".............[Errno -3] Temporary failure in name resolution <class 'socket.gaierror'> 63.223.18.10\n",
      "........................................................................................................................................[Errno -3] Temporary failure in name resolution <class 'socket.gaierror'> 203.176.189.15\n",
      "...................................................................................................................................................................................[Errno -3] Temporary failure in name resolution <class 'socket.gaierror'> 196.28.246.202\n",
      ".......................................................................................................................................[Errno -3] Temporary failure in name resolution <class 'socket.gaierror'> 130.204.75.242\n",
      "...............[Errno -3] Temporary failure in name resolution <class 'socket.gaierror'> 200.131.56.10\n",
      "...................................................................................................................................................................[Errno -3] Temporary failure in name resolution <class 'socket.gaierror'> 203.19.110.40\n",
      "..................................................................................................................................................[Errno -3] Temporary failure in name resolution <class 'socket.gaierror'> 185.29.68.60\n",
      ".......................[Errno -3] Temporary failure in name resolution <class 'socket.gaierror'> 121.121.109.55\n",
      "...........................................................................................................[Errno -3] Temporary failure in name resolution <class 'socket.gaierror'> 194.6.223.69\n",
      ".......[Errno -3] Temporary failure in name resolution <class 'socket.gaierror'> 216.54.239.52\n",
      "...........................................................................[Errno -3] Temporary failure in name resolution <class 'socket.gaierror'> 173.245.57.22\n",
      "...................................................................................................................................[Errno -3] Temporary failure in name resolution <class 'socket.gaierror'> 116.88.84.107\n",
      "....................................................................................................................................[Errno -3] Temporary failure in name resolution <class 'socket.gaierror'> 200.131.56.12\n",
      ".....[Errno -3] Temporary failure in name resolution <class 'socket.gaierror'> 80.248.67.81\n",
      "..................................................................................[Errno -3] Temporary failure in name resolution <class 'socket.gaierror'> 24.55.125.185\n",
      "................................................................[Errno -3] Temporary failure in name resolution <class 'socket.gaierror'> 103.36.18.82\n",
      "........................[Errno -3] Temporary failure in name resolution <class 'socket.gaierror'> 103.231.241.40\n",
      "....................................................................................................................................[Errno -3] Temporary failure in name resolution <class 'socket.gaierror'> 125.167.122.138\n",
      "[Errno -3] Temporary failure in name resolution <class 'socket.gaierror'> 41.207.8.82\n",
      "................................................[Errno -3] Temporary failure in name resolution <class 'socket.gaierror'> 116.88.60.189\n",
      "................................[Errno -3] Temporary failure in name resolution <class 'socket.gaierror'> 62.235.59.74\n",
      "........................................................................................................................................................[Errno -3] Temporary failure in name resolution <class 'socket.gaierror'> 80.86.67.235\n",
      "............[Errno -3] Temporary failure in name resolution <class 'socket.gaierror'> 185.42.224.37\n",
      "...................[Errno -3] Temporary failure in name resolution <class 'socket.gaierror'> 82.150.49.150\n",
      ".................[Errno -3] Temporary failure in name resolution <class 'socket.gaierror'> 195.56.216.159\n",
      "...............[Errno -3] Temporary failure in name resolution <class 'socket.gaierror'> 176.113.173.24\n",
      "..........[Errno -3] Temporary failure in name resolution <class 'socket.gaierror'> 109.69.13.94\n",
      "........................................................................................................................................................................................................................................................................................................[Errno -3] Temporary failure in name resolution <class 'socket.gaierror'> 184.21.207.206\n",
      ".....................[Errno -3] Temporary failure in name resolution <class 'socket.gaierror'> 223.25.36.3\n",
      "..[Errno -3] Temporary failure in name resolution <class 'socket.gaierror'> 130.105.73.12\n",
      "..................[Errno -3] Temporary failure in name resolution <class 'socket.gaierror'> 208.46.199.146\n",
      "...[Errno -3] Temporary failure in name resolution <class 'socket.gaierror'> 122.129.118.11\n",
      "...................................................................................................................................................................................................................................................[Errno -3] Temporary failure in name resolution <class 'socket.gaierror'> 173.241.170.11\n",
      "....[Errno -3] Temporary failure in name resolution <class 'socket.gaierror'> 103.244.185.98\n",
      ".............[Errno -3] Temporary failure in name resolution <class 'socket.gaierror'> 88.213.161.10\n",
      ".........................................................................................................................................................................[Errno -3] Temporary failure in name resolution <class 'socket.gaierror'> 121.58.223.194\n",
      "...................[Errno -3] Temporary failure in name resolution <class 'socket.gaierror'> 121.58.230.163\n",
      "...............................................[Errno -3] Temporary failure in name resolution <class 'socket.gaierror'> 93.125.87.75\n",
      ".......................................................................................................................................................................................................[Errno -3] Temporary failure in name resolution <class 'socket.gaierror'> 194.54.164.85\n",
      ".........................................[Errno -3] Temporary failure in name resolution <class 'socket.gaierror'> 31.44.38.69\n",
      "......................................................................[Errno -3] Temporary failure in name resolution <class 'socket.gaierror'> 154.70.3.64\n",
      ".............................................................................................................................................[Errno -3] Temporary failure in name resolution <class 'socket.gaierror'> 103.21.170.181\n",
      ".......[Errno -3] Temporary failure in name resolution <class 'socket.gaierror'> 103.2.147.42\n",
      "..........................................................................................................................[Errno -3] Temporary failure in name resolution <class 'socket.gaierror'> 37.32.120.67\n",
      "...[Errno -3] Temporary failure in name resolution <class 'socket.gaierror'> 125.62.202.71\n",
      "........................................."
     ]
    }
   ],
   "source": [
    "def get_rdns_from_ip(ip):\n",
    "    import socket\n",
    "    try: rdns,_ = socket.getnameinfo( (str(ip), 0) ,0 )\n",
    "    except Exception as e: print(e, type(e), ip)    \n",
    "    else: print('.', end=''); return rdns \n",
    "df['reverse_dns'] = df['probe_ip'].apply(get_rdns_from_ip)"
   ]
  },
  {
   "cell_type": "code",
   "execution_count": 15,
   "metadata": {
    "collapsed": false
   },
   "outputs": [
    {
     "data": {
      "text/html": [
       "<div>\n",
       "<table border=\"1\" class=\"dataframe\">\n",
       "  <thead>\n",
       "    <tr style=\"text-align: right;\">\n",
       "      <th></th>\n",
       "      <th>probeid</th>\n",
       "      <th>timestamp</th>\n",
       "      <th>probe_ip</th>\n",
       "      <th>hop1</th>\n",
       "      <th>hop2</th>\n",
       "      <th>if_residential</th>\n",
       "      <th>if_nat</th>\n",
       "      <th>reverse_dns</th>\n",
       "    </tr>\n",
       "  </thead>\n",
       "  <tbody>\n",
       "    <tr>\n",
       "      <th>0</th>\n",
       "      <td>3</td>\n",
       "      <td>1446062329</td>\n",
       "      <td>83.160.101.12</td>\n",
       "      <td>192.168.178.1, 192.168.178.1, 192.168.178.1</td>\n",
       "      <td>194.109.5.218, 194.109.5.218, 194.109.5.218</td>\n",
       "      <td>0</td>\n",
       "      <td>0</td>\n",
       "      <td>idante.xs4all.nl</td>\n",
       "    </tr>\n",
       "    <tr>\n",
       "      <th>1</th>\n",
       "      <td>4</td>\n",
       "      <td>1446062329</td>\n",
       "      <td>83.163.50.165</td>\n",
       "      <td>192.168.178.1, 192.168.178.1, 192.168.178.1</td>\n",
       "      <td>194.109.5.218, 194.109.5.218, 194.109.5.218</td>\n",
       "      <td>0</td>\n",
       "      <td>0</td>\n",
       "      <td>soenda.xs4all.nl</td>\n",
       "    </tr>\n",
       "    <tr>\n",
       "      <th>2</th>\n",
       "      <td>5</td>\n",
       "      <td>1446062329</td>\n",
       "      <td>83.163.239.181</td>\n",
       "      <td>192.168.178.1, 192.168.178.1, 192.168.178.1</td>\n",
       "      <td>194.109.5.218, 194.109.5.218, 194.109.5.218</td>\n",
       "      <td>0</td>\n",
       "      <td>0</td>\n",
       "      <td>a83-163-239-181.adsl.xs4all.nl</td>\n",
       "    </tr>\n",
       "    <tr>\n",
       "      <th>3</th>\n",
       "      <td>7</td>\n",
       "      <td>1446062329</td>\n",
       "      <td>84.28.33.3</td>\n",
       "      <td>10.71.1.11, 10.71.1.11, 10.71.1.11</td>\n",
       "      <td>10.252.4.1, 10.252.4.1, 10.252.4.1</td>\n",
       "      <td>0</td>\n",
       "      <td>0</td>\n",
       "      <td>541C2103.cm-5-5a.dynamic.ziggo.nl</td>\n",
       "    </tr>\n",
       "    <tr>\n",
       "      <th>4</th>\n",
       "      <td>8</td>\n",
       "      <td>1446062329</td>\n",
       "      <td>83.68.21.139</td>\n",
       "      <td>10.71.6.11, 10.71.6.11, 10.71.6.11</td>\n",
       "      <td>194.109.5.175, 194.109.5.175, 194.109.5.175</td>\n",
       "      <td>0</td>\n",
       "      <td>0</td>\n",
       "      <td>dfk.xs4all.nl</td>\n",
       "    </tr>\n",
       "  </tbody>\n",
       "</table>\n",
       "</div>"
      ],
      "text/plain": [
       "   probeid   timestamp        probe_ip  \\\n",
       "0        3  1446062329   83.160.101.12   \n",
       "1        4  1446062329   83.163.50.165   \n",
       "2        5  1446062329  83.163.239.181   \n",
       "3        7  1446062329      84.28.33.3   \n",
       "4        8  1446062329    83.68.21.139   \n",
       "\n",
       "                                          hop1  \\\n",
       "0  192.168.178.1, 192.168.178.1, 192.168.178.1   \n",
       "1  192.168.178.1, 192.168.178.1, 192.168.178.1   \n",
       "2  192.168.178.1, 192.168.178.1, 192.168.178.1   \n",
       "3           10.71.1.11, 10.71.1.11, 10.71.1.11   \n",
       "4           10.71.6.11, 10.71.6.11, 10.71.6.11   \n",
       "\n",
       "                                           hop2  if_residential  if_nat  \\\n",
       "0   194.109.5.218, 194.109.5.218, 194.109.5.218               0       0   \n",
       "1   194.109.5.218, 194.109.5.218, 194.109.5.218               0       0   \n",
       "2   194.109.5.218, 194.109.5.218, 194.109.5.218               0       0   \n",
       "3            10.252.4.1, 10.252.4.1, 10.252.4.1               0       0   \n",
       "4   194.109.5.175, 194.109.5.175, 194.109.5.175               0       0   \n",
       "\n",
       "                         reverse_dns  \n",
       "0                   idante.xs4all.nl  \n",
       "1                   soenda.xs4all.nl  \n",
       "2     a83-163-239-181.adsl.xs4all.nl  \n",
       "3  541C2103.cm-5-5a.dynamic.ziggo.nl  \n",
       "4                      dfk.xs4all.nl  "
      ]
     },
     "execution_count": 15,
     "metadata": {},
     "output_type": "execute_result"
    }
   ],
   "source": [
    "df.head()"
   ]
  },
  {
   "cell_type": "code",
   "execution_count": null,
   "metadata": {
    "collapsed": true
   },
   "outputs": [],
   "source": []
  },
  {
   "cell_type": "code",
   "execution_count": 16,
   "metadata": {
    "collapsed": false
   },
   "outputs": [],
   "source": [
    "def check_if_nated(hop1):\n",
    "    if hop1 is None or hop1 == 'None': return None\n",
    "    if_nat = []\n",
    "    queries = hop1.split(',')\n",
    "    for query in queries:\n",
    "        ip = ipaddress.ip_address(query.strip())\n",
    "        if_nat.append(1 if ip.is_private else 0)\n",
    "    return set(if_nat)"
   ]
  },
  {
   "cell_type": "code",
   "execution_count": 17,
   "metadata": {
    "collapsed": false
   },
   "outputs": [],
   "source": [
    "for index, row in df.iterrows():\n",
    "    hop1 = row['hop1']\n",
    "    if_nat = check_if_nated(hop1)    \n",
    "    if if_nat is not None and len(if_nat) == 1: \n",
    "        value = if_nat.pop()\n",
    "        df.ix[index, 'if_nat'] = value"
   ]
  },
  {
   "cell_type": "code",
   "execution_count": 18,
   "metadata": {
    "collapsed": false
   },
   "outputs": [],
   "source": [
    "def check_if_residential(hop1, hop2):\n",
    "    if hop1 is None or hop1 == 'None': print('.', end=\"\"); return None\n",
    "    if hop2 is None or hop2 == 'None': print('-', end=\"\"); return None    \n",
    "    \n",
    "    if_residential = []\n",
    "    h1_queries = hop1.split(','); h2_queries = hop2.split(',')    \n",
    "    if len(h1_queries) != len(h2_queries): print('^', end=\"\"); return None\n",
    "    \n",
    "    num_queries = len(h1_queries)          # = len(h2_queries)\n",
    "    for index in range(num_queries):\n",
    "        h1_ip = ipaddress.ip_address(h1_queries[index].strip())\n",
    "        h2_ip = ipaddress.ip_address(h2_queries[index].strip())            \n",
    "        if_residential.append(1 if h1_ip.is_private and not h2_ip.is_private else 0)            \n",
    "\n",
    "    return set(if_residential)"
   ]
  },
  {
   "cell_type": "code",
   "execution_count": 19,
   "metadata": {
    "collapsed": false
   },
   "outputs": [
    {
     "name": "stdout",
     "output_type": "stream",
     "text": [
      "^^^.^^.^.^^^.^^^^^^^^..^.^^^^.^^^.^^^^.^^^.^^^.^.^..^^^^^^^^^^^^^^^^^^^^.^^^^^^..^^^^^^^^^^^^^.^^^^^^^^.^^^^..^^^.^^^^^.^^^^^^.^^^.^^.^^^^^^..^^^^^^.^^^^^^.^^^^^.^..^^^.^.^^^^^^^^^^^^^^^^^^^^^^^^^^^^^^^..^.^^.^.^^^.^^^.^^.^^^.^^^.^^.^^^.^^^^^^^^^^^^^^^^^^^^^^^^^^^^^^^^^^^^^^^^^^^^^^^^^^^.^.^^^^^^^^^^^^.^^.^^^^.^^..^.^^^.^^^^^^^^..^^^^^^^^^^^^^^^^^^^^^^^^^^.^^^^^^^^^^.^^^^^^^^^.^^^.^^^^.^^.^..^^^^.^^^^^^^^.^^^..^^^.^^^^^^^^^^^^^^^^^^^^^^^.^^^..^^^^^^..^..^^^^^^^^^^^^^^^^^^^^^^^.^.^^^^^^^^^^^^^^^^^^^^^^^^^^^^^.^^^^.^^^^^^^^^^^^^^^^^^^.^^^.^^^^.^^.^.^^^^^.^^^^^^.^^^^.^^^^.^^^^^.^^..^^^^^^^^^^^.^^^^^.^..^.^^^.^.^.^^^^.^.^.^^^^.^^.^^^^^.^^..^^.^^^.^^^^^.^^^^^^^^^^^^..^^^^^..^^^^.^^^^..^.^^^^^^^.^^^^^^^^^^...^^^^^^.^..^^^^..^^^^^^.^^^.^^^^^^^^..^^^..^^^^^^^...^^^^^..^^.^^^^^^^^^.^.^^^.^.^^.^^^^^^^^.^^^^^^..^^^.^^^^^^.^^^^^.^^^^^^^.^^.^^^^^^^^^^^^^^^^^^^^^^^^^^.^^^^^^^^^^.^^^^^.^^^.^^^^^.^^^^^^^^^^^^^^^^^^^^^^^^^^^^^.^^^^^^^..^.^^^^^.^^.^."
     ]
    }
   ],
   "source": [
    "for index, row in df.iterrows():\n",
    "    hop1 = row['hop1']; hop2 = row['hop2']\n",
    "    if_residential = check_if_residential(hop1, hop2)\n",
    "    if if_residential is not None and len(if_residential) == 1: \n",
    "        value = if_residential.pop()\n",
    "        df.ix[index, 'if_residential'] = value"
   ]
  },
  {
   "cell_type": "code",
   "execution_count": 20,
   "metadata": {
    "collapsed": true
   },
   "outputs": [],
   "source": [
    "del df['hop1']\n",
    "del df['hop2']"
   ]
  },
  {
   "cell_type": "code",
   "execution_count": 21,
   "metadata": {
    "collapsed": false
   },
   "outputs": [
    {
     "data": {
      "text/html": [
       "<div>\n",
       "<table border=\"1\" class=\"dataframe\">\n",
       "  <thead>\n",
       "    <tr style=\"text-align: right;\">\n",
       "      <th></th>\n",
       "      <th>probeid</th>\n",
       "      <th>timestamp</th>\n",
       "      <th>probe_ip</th>\n",
       "      <th>if_residential</th>\n",
       "      <th>if_nat</th>\n",
       "      <th>reverse_dns</th>\n",
       "    </tr>\n",
       "  </thead>\n",
       "  <tbody>\n",
       "    <tr>\n",
       "      <th>0</th>\n",
       "      <td>3</td>\n",
       "      <td>1446062329</td>\n",
       "      <td>83.160.101.12</td>\n",
       "      <td>1</td>\n",
       "      <td>1</td>\n",
       "      <td>idante.xs4all.nl</td>\n",
       "    </tr>\n",
       "    <tr>\n",
       "      <th>1</th>\n",
       "      <td>4</td>\n",
       "      <td>1446062329</td>\n",
       "      <td>83.163.50.165</td>\n",
       "      <td>1</td>\n",
       "      <td>1</td>\n",
       "      <td>soenda.xs4all.nl</td>\n",
       "    </tr>\n",
       "    <tr>\n",
       "      <th>2</th>\n",
       "      <td>5</td>\n",
       "      <td>1446062329</td>\n",
       "      <td>83.163.239.181</td>\n",
       "      <td>1</td>\n",
       "      <td>1</td>\n",
       "      <td>a83-163-239-181.adsl.xs4all.nl</td>\n",
       "    </tr>\n",
       "    <tr>\n",
       "      <th>3</th>\n",
       "      <td>7</td>\n",
       "      <td>1446062329</td>\n",
       "      <td>84.28.33.3</td>\n",
       "      <td>0</td>\n",
       "      <td>1</td>\n",
       "      <td>541C2103.cm-5-5a.dynamic.ziggo.nl</td>\n",
       "    </tr>\n",
       "    <tr>\n",
       "      <th>4</th>\n",
       "      <td>8</td>\n",
       "      <td>1446062329</td>\n",
       "      <td>83.68.21.139</td>\n",
       "      <td>1</td>\n",
       "      <td>1</td>\n",
       "      <td>dfk.xs4all.nl</td>\n",
       "    </tr>\n",
       "  </tbody>\n",
       "</table>\n",
       "</div>"
      ],
      "text/plain": [
       "   probeid   timestamp        probe_ip  if_residential  if_nat  \\\n",
       "0        3  1446062329   83.160.101.12               1       1   \n",
       "1        4  1446062329   83.163.50.165               1       1   \n",
       "2        5  1446062329  83.163.239.181               1       1   \n",
       "3        7  1446062329      84.28.33.3               0       1   \n",
       "4        8  1446062329    83.68.21.139               1       1   \n",
       "\n",
       "                         reverse_dns  \n",
       "0                   idante.xs4all.nl  \n",
       "1                   soenda.xs4all.nl  \n",
       "2     a83-163-239-181.adsl.xs4all.nl  \n",
       "3  541C2103.cm-5-5a.dynamic.ziggo.nl  \n",
       "4                      dfk.xs4all.nl  "
      ]
     },
     "execution_count": 21,
     "metadata": {},
     "output_type": "execute_result"
    }
   ],
   "source": [
    "df.head()"
   ]
  },
  {
   "cell_type": "code",
   "execution_count": 22,
   "metadata": {
    "collapsed": false
   },
   "outputs": [
    {
     "data": {
      "text/plain": [
       "probeid           6819\n",
       "timestamp         6819\n",
       "probe_ip          6819\n",
       "if_residential    6819\n",
       "if_nat            6819\n",
       "reverse_dns       6744\n",
       "dtype: int64"
      ]
     },
     "execution_count": 22,
     "metadata": {},
     "output_type": "execute_result"
    }
   ],
   "source": [
    "df.count()"
   ]
  },
  {
   "cell_type": "code",
   "execution_count": 23,
   "metadata": {
    "collapsed": false
   },
   "outputs": [
    {
     "data": {
      "text/plain": [
       "3079"
      ]
     },
     "execution_count": 23,
     "metadata": {},
     "output_type": "execute_result"
    }
   ],
   "source": [
    "df['if_residential'].sum()"
   ]
  },
  {
   "cell_type": "code",
   "execution_count": 24,
   "metadata": {
    "collapsed": false
   },
   "outputs": [
    {
     "data": {
      "text/plain": [
       "4789"
      ]
     },
     "execution_count": 24,
     "metadata": {},
     "output_type": "execute_result"
    }
   ],
   "source": [
    "df['if_nat'].sum()"
   ]
  },
  {
   "cell_type": "code",
   "execution_count": 25,
   "metadata": {
    "collapsed": true
   },
   "outputs": [],
   "source": [
    "cur = con.execute('pragma foreign_keys=ON')"
   ]
  },
  {
   "cell_type": "code",
   "execution_count": 26,
   "metadata": {
    "collapsed": true
   },
   "outputs": [],
   "source": [
    "df = df.set_index('probeid')"
   ]
  },
  {
   "cell_type": "code",
   "execution_count": 27,
   "metadata": {
    "collapsed": true
   },
   "outputs": [],
   "source": [
    "del df['probe_ip']"
   ]
  },
  {
   "cell_type": "code",
   "execution_count": 28,
   "metadata": {
    "collapsed": false
   },
   "outputs": [
    {
     "data": {
      "text/html": [
       "<div>\n",
       "<table border=\"1\" class=\"dataframe\">\n",
       "  <thead>\n",
       "    <tr style=\"text-align: right;\">\n",
       "      <th></th>\n",
       "      <th>timestamp</th>\n",
       "      <th>if_residential</th>\n",
       "      <th>if_nat</th>\n",
       "      <th>reverse_dns</th>\n",
       "    </tr>\n",
       "    <tr>\n",
       "      <th>probeid</th>\n",
       "      <th></th>\n",
       "      <th></th>\n",
       "      <th></th>\n",
       "      <th></th>\n",
       "    </tr>\n",
       "  </thead>\n",
       "  <tbody>\n",
       "    <tr>\n",
       "      <th>3</th>\n",
       "      <td>1446062329</td>\n",
       "      <td>1</td>\n",
       "      <td>1</td>\n",
       "      <td>idante.xs4all.nl</td>\n",
       "    </tr>\n",
       "    <tr>\n",
       "      <th>4</th>\n",
       "      <td>1446062329</td>\n",
       "      <td>1</td>\n",
       "      <td>1</td>\n",
       "      <td>soenda.xs4all.nl</td>\n",
       "    </tr>\n",
       "    <tr>\n",
       "      <th>5</th>\n",
       "      <td>1446062329</td>\n",
       "      <td>1</td>\n",
       "      <td>1</td>\n",
       "      <td>a83-163-239-181.adsl.xs4all.nl</td>\n",
       "    </tr>\n",
       "    <tr>\n",
       "      <th>7</th>\n",
       "      <td>1446062329</td>\n",
       "      <td>0</td>\n",
       "      <td>1</td>\n",
       "      <td>541C2103.cm-5-5a.dynamic.ziggo.nl</td>\n",
       "    </tr>\n",
       "    <tr>\n",
       "      <th>8</th>\n",
       "      <td>1446062329</td>\n",
       "      <td>1</td>\n",
       "      <td>1</td>\n",
       "      <td>dfk.xs4all.nl</td>\n",
       "    </tr>\n",
       "  </tbody>\n",
       "</table>\n",
       "</div>"
      ],
      "text/plain": [
       "          timestamp  if_residential  if_nat                        reverse_dns\n",
       "probeid                                                                       \n",
       "3        1446062329               1       1                   idante.xs4all.nl\n",
       "4        1446062329               1       1                   soenda.xs4all.nl\n",
       "5        1446062329               1       1     a83-163-239-181.adsl.xs4all.nl\n",
       "7        1446062329               0       1  541C2103.cm-5-5a.dynamic.ziggo.nl\n",
       "8        1446062329               1       1                      dfk.xs4all.nl"
      ]
     },
     "execution_count": 28,
     "metadata": {},
     "output_type": "execute_result"
    }
   ],
   "source": [
    "df.head()"
   ]
  },
  {
   "cell_type": "code",
   "execution_count": 29,
   "metadata": {
    "collapsed": false
   },
   "outputs": [],
   "source": [
    "df.to_sql(  '%s'%RA_ONE_OFF_EXTENSIONS\n",
    "          , con\n",
    "          , flavor='sqlite'\n",
    "          , if_exists = 'append'\n",
    "          , index_label = 'probeid'\n",
    "         )"
   ]
  },
  {
   "cell_type": "code",
   "execution_count": 30,
   "metadata": {
    "collapsed": true
   },
   "outputs": [],
   "source": [
    "con.commit()\n",
    "con.close()"
   ]
  }
 ],
 "metadata": {
  "kernelspec": {
   "display_name": "Python 3",
   "language": "python",
   "name": "python3"
  },
  "language_info": {
   "codemirror_mode": {
    "name": "ipython",
    "version": 3
   },
   "file_extension": ".py",
   "mimetype": "text/x-python",
   "name": "python",
   "nbconvert_exporter": "python",
   "pygments_lexer": "ipython3",
   "version": "3.4.2"
  }
 },
 "nbformat": 4,
 "nbformat_minor": 0
}
