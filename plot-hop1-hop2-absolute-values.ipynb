{
 "cells": [
  {
   "cell_type": "markdown",
   "metadata": {},
   "source": [
    "*This notebook plots the private network latency contribution as a ratio of hop1 to hop2 latencies.*\n",
    "- - - "
   ]
  },
  {
   "cell_type": "code",
   "execution_count": 1,
   "metadata": {
    "collapsed": false
   },
   "outputs": [
    {
     "name": "stdout",
     "output_type": "stream",
     "text": [
      "Populating the interactive namespace from numpy and matplotlib\n"
     ]
    }
   ],
   "source": [
    "%pylab inline"
   ]
  },
  {
   "cell_type": "code",
   "execution_count": 2,
   "metadata": {
    "collapsed": true
   },
   "outputs": [],
   "source": [
    "import warnings\n",
    "warnings.filterwarnings('ignore')"
   ]
  },
  {
   "cell_type": "code",
   "execution_count": 3,
   "metadata": {
    "collapsed": false
   },
   "outputs": [
    {
     "data": {
      "text/html": [
       "<style>body {\n",
       "    margin: 0;\n",
       "    font-family: Helvetica;\n",
       "}\n",
       "table.dataframe {\n",
       "    border-collapse: collapse;\n",
       "    border: none;\n",
       "}\n",
       "table.dataframe tr {\n",
       "    border: none;\n",
       "}\n",
       "table.dataframe td, table.dataframe th {\n",
       "    margin: 0;\n",
       "    border: 1px solid white;\n",
       "    padding-left: 0.25em;\n",
       "    padding-right: 0.25em;\n",
       "}\n",
       "table.dataframe th:not(:empty) {\n",
       "    background-color: #fec;\n",
       "    text-align: left;\n",
       "    font-weight: normal;\n",
       "}\n",
       "table.dataframe tr:nth-child(2) th:empty {\n",
       "    border-left: none;\n",
       "    border-right: 1px dashed #888;\n",
       "}\n",
       "table.dataframe td {\n",
       "    border: 2px solid #ccf;\n",
       "    background-color: #f4f4ff;\n",
       "}\n",
       "h3 {\n",
       "    color: white;\n",
       "    background-color: black;\n",
       "    padding: 0.5em;\n",
       "}\n",
       "\n",
       ".CodeMirror {\n",
       "    font-family: 'Monaco for Powerline';\n",
       "}\n",
       "\n",
       "div.cell.code_cell {\n",
       "    font-family: 'Monaco for Powerline';\n",
       "}\n",
       "\n",
       "div.output_area pre {\n",
       "    font-family: 'Monaco for Powerline';\n",
       "}\n",
       "</style>"
      ],
      "text/plain": [
       "<IPython.core.display.HTML object>"
      ]
     },
     "execution_count": 3,
     "metadata": {},
     "output_type": "execute_result"
    }
   ],
   "source": [
    "from IPython.core.display import HTML\n",
    "css = open('style-table.css').read() + open('style-notebook.css').read()\n",
    "HTML('<style>{}</style>'.format(css))"
   ]
  },
  {
   "cell_type": "code",
   "execution_count": 4,
   "metadata": {
    "collapsed": false
   },
   "outputs": [],
   "source": [
    "import sqlite3\n",
    "import pandas as pd"
   ]
  },
  {
   "cell_type": "code",
   "execution_count": 5,
   "metadata": {
    "collapsed": true
   },
   "outputs": [],
   "source": [
    "DB_LOCATION = 'lastmile.db'"
   ]
  },
  {
   "cell_type": "code",
   "execution_count": 6,
   "metadata": {
    "collapsed": true
   },
   "outputs": [],
   "source": [
    "RA_PROBE = 'ra_probe'\n",
    "RA_PROBE_API = 'ra_probe_api'\n",
    "RA_ASN = 'ra_asn'\n",
    "RA_ONE_OFF_EXTENSIONS = 'ra_one_off_extensions'\n",
    "RA_LATENCIES_AGG = 'ra_latencies_agg'"
   ]
  },
  {
   "cell_type": "code",
   "execution_count": 7,
   "metadata": {
    "collapsed": true
   },
   "outputs": [],
   "source": [
    "SK_ONE_OFF_EXTENSIONS = 'sk_one_off_extensions'\n",
    "SK_LATENCIES_AGG = 'sk_latencies_agg'\n",
    "SK_ASN = 'sk_asn'\n",
    "METADATA_SNAPSHOT = 'metadata_snapshot'\n",
    "METADATA_SNAPSHOT_EXTENSIONS = 'metadata_snapshot_extensions'"
   ]
  },
  {
   "cell_type": "code",
   "execution_count": 8,
   "metadata": {
    "collapsed": false
   },
   "outputs": [],
   "source": [
    "con = sqlite3.connect(DB_LOCATION)"
   ]
  },
  {
   "cell_type": "code",
   "execution_count": 9,
   "metadata": {
    "collapsed": false
   },
   "outputs": [],
   "source": [
    "query_ra = '''SELECT      agg.probeid\n",
    "                        , agg.timestamp\n",
    "                        , s.asn\n",
    "                        , s.asn_holder_name\n",
    "                        , agg.h1_median as h1\n",
    "                        , agg.h2_median as h2\n",
    "                        , agg.h1_median || ';' || agg.h2_median as h1h2\n",
    "                        \n",
    "\n",
    "               FROM   %s                             as  agg\n",
    "                    , %s                             as  api               \n",
    "                    , %s                             as  s                  \n",
    "                    , %s                             as  hardware\n",
    "                    , %s                             as  ext\n",
    "\n",
    "               WHERE     agg.probeid                  =  api.probeid\n",
    "               AND       agg.probeid                  =  hardware.probeid\n",
    "               AND       agg.probeid                  =  ext.probeid\n",
    "               AND       api.asn_v4                   =  s.asn\n",
    "               \n",
    "\n",
    "               AND       hardware.hardware_version    =  'v3'\n",
    "               AND       ext.if_residential           =  1\n",
    "               \n",
    "            '''%(  RA_LATENCIES_AGG\n",
    "                 , RA_PROBE_API\n",
    "                 , RA_ASN\n",
    "                 , RA_PROBE\n",
    "                 , RA_ONE_OFF_EXTENSIONS\n",
    "                )\n",
    "\n",
    "df_ra = pd.read_sql(query_ra, con)"
   ]
  },
  {
   "cell_type": "code",
   "execution_count": 10,
   "metadata": {
    "collapsed": false
   },
   "outputs": [
    {
     "data": {
      "text/plain": [
       "probeid            134724\n",
       "timestamp          134724\n",
       "asn                134724\n",
       "asn_holder_name    134724\n",
       "h1                 133920\n",
       "h2                 130563\n",
       "h1h2               130006\n",
       "dtype: int64"
      ]
     },
     "execution_count": 10,
     "metadata": {},
     "output_type": "execute_result"
    }
   ],
   "source": [
    "df_ra.count()"
   ]
  },
  {
   "cell_type": "code",
   "execution_count": 11,
   "metadata": {
    "collapsed": false
   },
   "outputs": [
    {
     "data": {
      "text/html": [
       "<div>\n",
       "<table border=\"1\" class=\"dataframe\">\n",
       "  <thead>\n",
       "    <tr style=\"text-align: right;\">\n",
       "      <th></th>\n",
       "      <th>probeid</th>\n",
       "      <th>timestamp</th>\n",
       "      <th>asn</th>\n",
       "      <th>asn_holder_name</th>\n",
       "      <th>h1</th>\n",
       "      <th>h2</th>\n",
       "      <th>h1h2</th>\n",
       "    </tr>\n",
       "  </thead>\n",
       "  <tbody>\n",
       "    <tr>\n",
       "      <th>0</th>\n",
       "      <td>10006</td>\n",
       "      <td>1406548034</td>\n",
       "      <td>3265</td>\n",
       "      <td>XS4ALL-NL XS4ALL Internet BV,NL</td>\n",
       "      <td>0.429</td>\n",
       "      <td>20.490</td>\n",
       "      <td>0.429;20.49</td>\n",
       "    </tr>\n",
       "    <tr>\n",
       "      <th>1</th>\n",
       "      <td>10006</td>\n",
       "      <td>1406562432</td>\n",
       "      <td>3265</td>\n",
       "      <td>XS4ALL-NL XS4ALL Internet BV,NL</td>\n",
       "      <td>0.431</td>\n",
       "      <td>17.700</td>\n",
       "      <td>0.431;17.7</td>\n",
       "    </tr>\n",
       "    <tr>\n",
       "      <th>2</th>\n",
       "      <td>10006</td>\n",
       "      <td>1406576835</td>\n",
       "      <td>3265</td>\n",
       "      <td>XS4ALL-NL XS4ALL Internet BV,NL</td>\n",
       "      <td>0.438</td>\n",
       "      <td>17.776</td>\n",
       "      <td>0.438;17.776</td>\n",
       "    </tr>\n",
       "    <tr>\n",
       "      <th>3</th>\n",
       "      <td>10006</td>\n",
       "      <td>1406591230</td>\n",
       "      <td>3265</td>\n",
       "      <td>XS4ALL-NL XS4ALL Internet BV,NL</td>\n",
       "      <td>0.478</td>\n",
       "      <td>17.577</td>\n",
       "      <td>0.478;17.577</td>\n",
       "    </tr>\n",
       "    <tr>\n",
       "      <th>4</th>\n",
       "      <td>10006</td>\n",
       "      <td>1406605631</td>\n",
       "      <td>3265</td>\n",
       "      <td>XS4ALL-NL XS4ALL Internet BV,NL</td>\n",
       "      <td>0.422</td>\n",
       "      <td>17.526</td>\n",
       "      <td>0.422;17.526</td>\n",
       "    </tr>\n",
       "  </tbody>\n",
       "</table>\n",
       "</div>"
      ],
      "text/plain": [
       "   probeid   timestamp   asn                  asn_holder_name     h1      h2  \\\n",
       "0    10006  1406548034  3265  XS4ALL-NL XS4ALL Internet BV,NL  0.429  20.490   \n",
       "1    10006  1406562432  3265  XS4ALL-NL XS4ALL Internet BV,NL  0.431  17.700   \n",
       "2    10006  1406576835  3265  XS4ALL-NL XS4ALL Internet BV,NL  0.438  17.776   \n",
       "3    10006  1406591230  3265  XS4ALL-NL XS4ALL Internet BV,NL  0.478  17.577   \n",
       "4    10006  1406605631  3265  XS4ALL-NL XS4ALL Internet BV,NL  0.422  17.526   \n",
       "\n",
       "           h1h2  \n",
       "0   0.429;20.49  \n",
       "1    0.431;17.7  \n",
       "2  0.438;17.776  \n",
       "3  0.478;17.577  \n",
       "4  0.422;17.526  "
      ]
     },
     "execution_count": 11,
     "metadata": {},
     "output_type": "execute_result"
    }
   ],
   "source": [
    "df_ra.head()"
   ]
  },
  {
   "cell_type": "code",
   "execution_count": 12,
   "metadata": {
    "collapsed": false
   },
   "outputs": [],
   "source": [
    "query_sk = ''' SELECT     agg.probeid\n",
    "                        , agg.timestamp\n",
    "                        , s.asn       \n",
    "                        , s.asn_holder_name\n",
    "                        , meta.product                        \n",
    "                        , agg.h1_avg as h1\n",
    "                        , agg.h2_avg as h2\n",
    "                        , agg.h1_avg || ';' || agg.h2_avg as h1h2\n",
    "\n",
    "\n",
    "                                                                                     \n",
    "               FROM       %s                            as   agg\n",
    "                        , %s                            as   api               \n",
    "                        , %s                            as   ext\n",
    "                        , %s                            as   s\n",
    "                        , %s                            as   meta\n",
    "                        \n",
    "                        \n",
    "\n",
    "               WHERE      agg.probeid                    =    ext.probeid\n",
    "               AND        agg.probeid                    =    api.probeid\n",
    "               AND        agg.probeid                    =    meta.id               \n",
    "               AND        api.asn                        =    s.asn               \n",
    "               \n",
    "               AND        ext.if_residential             =    1\n",
    "               AND        agg.h1_avg                     <>   0\n",
    "               AND        agg.h2_avg                     <>   0\n",
    "               \n",
    "           '''%(   SK_LATENCIES_AGG\n",
    "                 , METADATA_SNAPSHOT_EXTENSIONS                \n",
    "                 , SK_ONE_OFF_EXTENSIONS\n",
    "                 , SK_ASN        \n",
    "                 , METADATA_SNAPSHOT                \n",
    "               )\n",
    "\n",
    "df_sk = pd.read_sql(query_sk, con)"
   ]
  },
  {
   "cell_type": "code",
   "execution_count": 13,
   "metadata": {
    "collapsed": true
   },
   "outputs": [],
   "source": [
    "df_ra = df_ra.dropna()"
   ]
  },
  {
   "cell_type": "code",
   "execution_count": 14,
   "metadata": {
    "collapsed": true
   },
   "outputs": [],
   "source": [
    "df_sk = df_sk.dropna()"
   ]
  },
  {
   "cell_type": "code",
   "execution_count": 15,
   "metadata": {
    "collapsed": false
   },
   "outputs": [
    {
     "data": {
      "text/plain": [
       "probeid            435841\n",
       "timestamp          435841\n",
       "asn                435841\n",
       "asn_holder_name    435841\n",
       "product            435841\n",
       "h1                 435841\n",
       "h2                 435841\n",
       "h1h2               435841\n",
       "dtype: int64"
      ]
     },
     "execution_count": 15,
     "metadata": {},
     "output_type": "execute_result"
    }
   ],
   "source": [
    "df_sk.count()"
   ]
  },
  {
   "cell_type": "code",
   "execution_count": 16,
   "metadata": {
    "collapsed": false
   },
   "outputs": [
    {
     "data": {
      "text/plain": [
       "probeid            130006\n",
       "timestamp          130006\n",
       "asn                130006\n",
       "asn_holder_name    130006\n",
       "h1                 130006\n",
       "h2                 130006\n",
       "h1h2               130006\n",
       "dtype: int64"
      ]
     },
     "execution_count": 16,
     "metadata": {},
     "output_type": "execute_result"
    }
   ],
   "source": [
    "df_ra.count()"
   ]
  },
  {
   "cell_type": "code",
   "execution_count": 17,
   "metadata": {
    "collapsed": true
   },
   "outputs": [],
   "source": [
    "def calculate_private_contribution(h1h2):\n",
    "    try: h1,h2 = h1h2.split(';')\n",
    "    except Exception as e: print(e, type(e), h1h2); return None\n",
    "    \n",
    "    try: contribution = float(h1)/float(h2) *100\n",
    "    except Exception as e: print(e, type(e), h1, h2); return None\n",
    "    \n",
    "    return contribution"
   ]
  },
  {
   "cell_type": "code",
   "execution_count": 18,
   "metadata": {
    "collapsed": true
   },
   "outputs": [],
   "source": [
    "df_ra['private_contribution'] = df_ra['h1h2'].apply(calculate_private_contribution)\n",
    "df_sk['private_contribution'] = df_sk['h1h2'].apply(calculate_private_contribution)"
   ]
  },
  {
   "cell_type": "code",
   "execution_count": 19,
   "metadata": {
    "collapsed": false
   },
   "outputs": [],
   "source": [
    "df_ra_groupby = df_ra.groupby('probeid')\n",
    "df_ra_agg = df_ra_groupby['h1', 'h2', 'private_contribution'].agg(['median'])\n",
    "df_ra_merged = pd.merge(df_ra, df_ra_agg, left_on='probeid', right_index=True)\n",
    "\n",
    "del df_ra_merged['timestamp']\n",
    "del df_ra_merged['h1']; del df_ra_merged['h2']\n",
    "del df_ra_merged['h1h2']\n",
    "del df_ra_merged['private_contribution']\n",
    "\n",
    "df_ra_merged = df_ra_merged.drop_duplicates()\n",
    "df_ra_merged.rename(columns={ df_ra_merged.columns[3]: 'h1_median'\n",
    "                             ,df_ra_merged.columns[4]: 'h2_median'\n",
    "                             ,df_ra_merged.columns[5]: 'private_contribution'\n",
    "                            }, inplace=True)"
   ]
  },
  {
   "cell_type": "code",
   "execution_count": 20,
   "metadata": {
    "collapsed": false
   },
   "outputs": [],
   "source": [
    "df_sk_groupby = df_sk.groupby('probeid')\n",
    "df_sk_agg = df_sk_groupby['h1', 'h2', 'private_contribution'].agg(['median'])\n",
    "df_sk_merged = pd.merge(df_sk, df_sk_agg, left_on='probeid', right_index=True)\n",
    "\n",
    "del df_sk_merged['timestamp']\n",
    "del df_sk_merged['h1']; del df_sk_merged['h2']\n",
    "del df_sk_merged['h1h2']\n",
    "del df_sk_merged['private_contribution']"
   ]
  },
  {
   "cell_type": "code",
   "execution_count": 21,
   "metadata": {
    "collapsed": false
   },
   "outputs": [],
   "source": [
    "df_sk_merged = df_sk_merged.drop_duplicates()\n",
    "df_sk_merged.rename(columns={  df_sk_merged.columns[4]: 'h1_median'                             \n",
    "                             , df_sk_merged.columns[5]: 'h2_median'\n",
    "                             , df_sk_merged.columns[6]: 'private_contribution'\n",
    "\n",
    "                            }, inplace=True)"
   ]
  },
  {
   "cell_type": "code",
   "execution_count": 22,
   "metadata": {
    "collapsed": false
   },
   "outputs": [
    {
     "data": {
      "text/plain": [
       "probeid                 691\n",
       "asn                     691\n",
       "asn_holder_name         691\n",
       "h1_median               691\n",
       "h2_median               691\n",
       "private_contribution    691\n",
       "dtype: int64"
      ]
     },
     "execution_count": 22,
     "metadata": {},
     "output_type": "execute_result"
    }
   ],
   "source": [
    "df_ra_merged.count()"
   ]
  },
  {
   "cell_type": "code",
   "execution_count": 23,
   "metadata": {
    "collapsed": false
   },
   "outputs": [
    {
     "data": {
      "text/plain": [
       "probeid                 1245\n",
       "asn                     1245\n",
       "asn_holder_name         1245\n",
       "product                 1245\n",
       "h1_median               1245\n",
       "h2_median               1245\n",
       "private_contribution    1245\n",
       "dtype: int64"
      ]
     },
     "execution_count": 23,
     "metadata": {},
     "output_type": "execute_result"
    }
   ],
   "source": [
    "df_sk_merged.count()"
   ]
  },
  {
   "cell_type": "code",
   "execution_count": 24,
   "metadata": {
    "collapsed": false
   },
   "outputs": [],
   "source": [
    "import Cdf\n",
    "import Pmf\n",
    "\n",
    "ra_h1_sample = df_ra_merged.sort('h1_median')['h1_median'].values\n",
    "ra_h2_sample = df_ra_merged.sort('h2_median')['h2_median'].values\n",
    "sk_h1_sample = df_sk_merged.sort('h1_median')['h1_median'].values\n",
    "sk_h2_sample = df_sk_merged.sort('h2_median')['h2_median'].values\n",
    "\n",
    "ra_h1_c = Cdf.MakeCdfFromList(ra_h1_sample)\n",
    "ra_h2_c = Cdf.MakeCdfFromList(ra_h2_sample)\n",
    "sk_h1_c = Cdf.MakeCdfFromList(sk_h1_sample)\n",
    "sk_h2_c = Cdf.MakeCdfFromList(sk_h2_sample)"
   ]
  },
  {
   "cell_type": "code",
   "execution_count": 25,
   "metadata": {
    "collapsed": false
   },
   "outputs": [
    {
     "data": {
      "text/plain": [
       "probeid                 691\n",
       "asn                     691\n",
       "asn_holder_name         691\n",
       "h1_median               691\n",
       "h2_median               691\n",
       "private_contribution    691\n",
       "dtype: int64"
      ]
     },
     "execution_count": 25,
     "metadata": {},
     "output_type": "execute_result"
    }
   ],
   "source": [
    "df_ra_merged.count()"
   ]
  },
  {
   "cell_type": "code",
   "execution_count": 26,
   "metadata": {
    "collapsed": false
   },
   "outputs": [
    {
     "data": {
      "text/plain": [
       "array([ 50,  75, 100])"
      ]
     },
     "execution_count": 26,
     "metadata": {},
     "output_type": "execute_result"
    }
   ],
   "source": [
    "np.arange(50,110,25)"
   ]
  },
  {
   "cell_type": "code",
   "execution_count": 27,
   "metadata": {
    "collapsed": false
   },
   "outputs": [
    {
     "data": {
      "text/plain": [
       "89.730999999999995"
      ]
     },
     "execution_count": 27,
     "metadata": {},
     "output_type": "execute_result"
    }
   ],
   "source": [
    "ra_h1_c.xs[-1]"
   ]
  },
  {
   "cell_type": "code",
   "execution_count": 28,
   "metadata": {
    "collapsed": false
   },
   "outputs": [
    {
     "name": "stdout",
     "output_type": "stream",
     "text": [
      "RIPE Atlas; [0, 1] ms; 92.47%; 639/691\n",
      "RIPE Atlas; (1, 20] ms; 7.09%; 49/691\n",
      "RIPE Atlas; (20, _) ms; 0.43%; 3/691\n",
      "total: 100.000000\n"
     ]
    }
   ],
   "source": [
    "total = df_ra_merged['probeid'].count()\n",
    "c1 = df_ra_merged[df_ra_merged.h1_median <= 1]['probeid'].count()\n",
    "c2 = df_ra_merged[df_ra_merged.h1_median > 1][df_ra_merged.h1_median <= 20]['probeid'].count()\n",
    "c3 = df_ra_merged[df_ra_merged.h1_median > 20]['probeid'].count()\n",
    "\n",
    "percent1 = float(c1)/total * 100\n",
    "print('RIPE Atlas; [0, 1] ms; %0.2f%%; %d/%d'%(percent1, c1, total))\n",
    "\n",
    "percent2 = float(c2)/total * 100\n",
    "print('RIPE Atlas; (1, 20] ms; %0.2f%%; %d/%d'%(percent2, c2, total))\n",
    "\n",
    "percent3 = float(c3)/total * 100\n",
    "print('RIPE Atlas; (20, _) ms; %0.2f%%; %d/%d'%(percent3, c3, total))\n",
    "\n",
    "print('total: %f'%(percent1 + percent2 + percent3))"
   ]
  },
  {
   "cell_type": "code",
   "execution_count": 29,
   "metadata": {
    "collapsed": false
   },
   "outputs": [
    {
     "data": {
      "text/plain": [
       "array([100, 200, 300])"
      ]
     },
     "execution_count": 29,
     "metadata": {},
     "output_type": "execute_result"
    }
   ],
   "source": [
    "np.arange(100,301,100)"
   ]
  },
  {
   "cell_type": "code",
   "execution_count": 30,
   "metadata": {
    "collapsed": false
   },
   "outputs": [
    {
     "data": {
      "text/plain": [
       "250.92500000000001"
      ]
     },
     "execution_count": 30,
     "metadata": {},
     "output_type": "execute_result"
    }
   ],
   "source": [
    "sk_h2_c.xs[-1]"
   ]
  },
  {
   "cell_type": "code",
   "execution_count": 31,
   "metadata": {
    "collapsed": false
   },
   "outputs": [
    {
     "data": {
      "text/html": [
       "<div>\n",
       "<table border=\"1\" class=\"dataframe\">\n",
       "  <thead>\n",
       "    <tr style=\"text-align: right;\">\n",
       "      <th></th>\n",
       "      <th>probeid</th>\n",
       "      <th>asn</th>\n",
       "      <th>asn_holder_name</th>\n",
       "      <th>product</th>\n",
       "      <th>h1_median</th>\n",
       "      <th>h2_median</th>\n",
       "      <th>private_contribution</th>\n",
       "    </tr>\n",
       "  </thead>\n",
       "  <tbody>\n",
       "    <tr>\n",
       "      <th>45233</th>\n",
       "      <td>140864</td>\n",
       "      <td>6871</td>\n",
       "      <td>PLUSNET PlusNet PLC,GB</td>\n",
       "      <td>20</td>\n",
       "      <td>50.7525</td>\n",
       "      <td>47.6725</td>\n",
       "      <td>98.229535</td>\n",
       "    </tr>\n",
       "    <tr>\n",
       "      <th>88488</th>\n",
       "      <td>142024</td>\n",
       "      <td>6871</td>\n",
       "      <td>PLUSNET PlusNet PLC,GB</td>\n",
       "      <td>20</td>\n",
       "      <td>48.5505</td>\n",
       "      <td>63.6645</td>\n",
       "      <td>91.211900</td>\n",
       "    </tr>\n",
       "    <tr>\n",
       "      <th>89699</th>\n",
       "      <td>142036</td>\n",
       "      <td>6871</td>\n",
       "      <td>PLUSNET PlusNet PLC,GB</td>\n",
       "      <td>8</td>\n",
       "      <td>50.4685</td>\n",
       "      <td>49.7155</td>\n",
       "      <td>96.026989</td>\n",
       "    </tr>\n",
       "    <tr>\n",
       "      <th>135978</th>\n",
       "      <td>143580</td>\n",
       "      <td>6871</td>\n",
       "      <td>PLUSNET PlusNet PLC,GB</td>\n",
       "      <td>8</td>\n",
       "      <td>54.0135</td>\n",
       "      <td>56.8900</td>\n",
       "      <td>88.264341</td>\n",
       "    </tr>\n",
       "  </tbody>\n",
       "</table>\n",
       "</div>"
      ],
      "text/plain": [
       "        probeid   asn         asn_holder_name product  h1_median  h2_median  \\\n",
       "45233    140864  6871  PLUSNET PlusNet PLC,GB      20    50.7525    47.6725   \n",
       "88488    142024  6871  PLUSNET PlusNet PLC,GB      20    48.5505    63.6645   \n",
       "89699    142036  6871  PLUSNET PlusNet PLC,GB       8    50.4685    49.7155   \n",
       "135978   143580  6871  PLUSNET PlusNet PLC,GB       8    54.0135    56.8900   \n",
       "\n",
       "        private_contribution  \n",
       "45233              98.229535  \n",
       "88488              91.211900  \n",
       "89699              96.026989  \n",
       "135978             88.264341  "
      ]
     },
     "execution_count": 31,
     "metadata": {},
     "output_type": "execute_result"
    }
   ],
   "source": [
    "df_sk_merged[df_sk_merged.h1_median > 30][df_sk_merged.private_contribution < 100]"
   ]
  },
  {
   "cell_type": "code",
   "execution_count": 32,
   "metadata": {
    "collapsed": false
   },
   "outputs": [
    {
     "name": "stdout",
     "output_type": "stream",
     "text": [
      "SamKnows; [0, 1.5] ms; 79.68%; 992/1245\n",
      "SamKnows; (1.5, 30] ms; 10.20%; 127/1245\n",
      "SamKnows; (30, _) ms; 10.12%; 126/1245\n",
      "total: 100.000000\n"
     ]
    }
   ],
   "source": [
    "total = df_sk_merged['probeid'].count()\n",
    "c1 = df_sk_merged[df_sk_merged.h1_median <= 1.5]['probeid'].count()\n",
    "c2 = df_sk_merged[df_sk_merged.h1_median > 1.5][df_sk_merged.h1_median <= 30]['probeid'].count()\n",
    "c3 = df_sk_merged[df_sk_merged.h1_median > 30]['probeid'].count()\n",
    "\n",
    "percent1 = float(c1)/total * 100\n",
    "print('SamKnows; [0, 1.5] ms; %0.2f%%; %d/%d'%(percent1, c1, total))\n",
    "\n",
    "percent2 = float(c2)/total * 100\n",
    "print('SamKnows; (1.5, 30] ms; %0.2f%%; %d/%d'%(percent2, c2, total))\n",
    "\n",
    "percent3 = float(c3)/total * 100\n",
    "print('SamKnows; (30, _) ms; %0.2f%%; %d/%d'%(percent3, c3, total))\n",
    "\n",
    "print('total: %f'%(percent1 + percent2 + percent3))"
   ]
  },
  {
   "cell_type": "code",
   "execution_count": 33,
   "metadata": {
    "collapsed": true
   },
   "outputs": [],
   "source": [
    "df_ra_merged_rate = df_ra_merged[df_ra_merged.private_contribution > 100]\n",
    "df_sk_merged_rate = df_sk_merged[df_sk_merged.private_contribution > 100]\n",
    "\n",
    "ra_percent = df_ra_merged_rate['probeid'].count()/df_ra_merged['probeid'].count() * 100\n",
    "sk_percent = df_sk_merged_rate['probeid'].count()/df_sk_merged['probeid'].count() * 100"
   ]
  },
  {
   "cell_type": "code",
   "execution_count": 34,
   "metadata": {
    "collapsed": false
   },
   "outputs": [
    {
     "data": {
      "image/png": "[encoded data removed]",
      "text/plain": [
       "<matplotlib.figure.Figure at 0x7f4d20250080>"
      ]
     },
     "metadata": {},
     "output_type": "display_data"
    }
   ],
   "source": [
    "# ------ plt.style.use('ggplot')\n",
    "fig = plt.figure(figsize=(5,1))\n",
    "plt.rcParams['font.size'] = 12\n",
    "yticks = np.arange(0.88,1.02,0.04)\n",
    "ax = plt.gca()\n",
    "\n",
    "ax.plot (  sk_h1_c.xs\n",
    "          , sk_h1_c.ps\n",
    "          , marker='s'\n",
    "          , linewidth=0.3\n",
    "          , markersize=5\n",
    "          , fillstyle='none'\n",
    "          , color='Red'\n",
    "         )\n",
    "\n",
    "ax.plot (  sk_h2_c.xs\n",
    "          , sk_h2_c.ps\n",
    "          , marker='x'\n",
    "          , linewidth=0.3\n",
    "          , markersize=5\n",
    "          , fillstyle='none'\n",
    "          , color='Green'\n",
    "         )\n",
    "\n",
    "ax.spines['right'].set_color('none')\n",
    "ax.spines['top'].set_color('none')\n",
    "ax.yaxis.set_ticks_position('left')\n",
    "ax.xaxis.set_ticks_position('bottom')\n",
    "ax.spines['bottom'].set_position(('axes', -0.05))\n",
    "ax.spines['left'].set_position(('axes', -0.05))\n",
    "\n",
    "ax = fig.axes[0]\n",
    "ax.grid(False)\n",
    "ax.set_yticks(yticks)\n",
    "ax.set_ylim([0.88,1.01])\n",
    "ax.set_xlim([30, 90])\n",
    "ax.set_xscale('linear')\n",
    "ax.set_xlabel('Latencies (ms)', fontsize=12)\n",
    "ax.set_ylabel('CDF (%d Probes)'%df_sk_merged_rate['probeid'].count(), fontsize=12)\n",
    "ax.set_ylabel('CDF (%d)'%df_sk_merged_rate['probeid'].count(), fontsize=12)\n",
    "ax.legend([  'hop1', 'hop2'%df_ra_merged_rate['probeid'].count()\n",
    "          ], fontsize=12, loc='lower right')\n",
    "plt.title('SamKnows (%0.2f%% Probes)'%sk_percent, fontsize=12, y=1.05)\n",
    "plt.savefig('samknows-h1-h2-icmp-rate-limits.pdf', format='pdf', bbox_inches='tight')"
   ]
  }
 ],
 "metadata": {
  "kernelspec": {
   "display_name": "Python 3",
   "language": "python",
   "name": "python3"
  },
  "language_info": {
   "codemirror_mode": {
    "name": "ipython",
    "version": 3
   },
   "file_extension": ".py",
   "mimetype": "text/x-python",
   "name": "python",
   "nbconvert_exporter": "python",
   "pygments_lexer": "ipython3",
   "version": "3.4.2"
  }
 },
 "nbformat": 4,
 "nbformat_minor": 0
}
