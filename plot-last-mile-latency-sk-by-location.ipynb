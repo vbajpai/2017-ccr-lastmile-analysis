{
 "cells": [
  {
   "cell_type": "markdown",
   "metadata": {},
   "source": [
    "*This notebook plots the lastmile latency separated by location for RIPE Atlas and SamKnows probes.*\n",
    "- - - "
   ]
  },
  {
   "cell_type": "code",
   "execution_count": 90,
   "metadata": {
    "collapsed": false
   },
   "outputs": [
    {
     "data": {
      "text/html": [
       "<style>body {\n",
       "    margin: 0;\n",
       "    font-family: Helvetica;\n",
       "}\n",
       "table.dataframe {\n",
       "    border-collapse: collapse;\n",
       "    border: none;\n",
       "}\n",
       "table.dataframe tr {\n",
       "    border: none;\n",
       "}\n",
       "table.dataframe td, table.dataframe th {\n",
       "    margin: 0;\n",
       "    border: 1px solid white;\n",
       "    padding-left: 0.25em;\n",
       "    padding-right: 0.25em;\n",
       "}\n",
       "table.dataframe th:not(:empty) {\n",
       "    background-color: #fec;\n",
       "    text-align: left;\n",
       "    font-weight: normal;\n",
       "}\n",
       "table.dataframe tr:nth-child(2) th:empty {\n",
       "    border-left: none;\n",
       "    border-right: 1px dashed #888;\n",
       "}\n",
       "table.dataframe td {\n",
       "    border: 2px solid #ccf;\n",
       "    background-color: #f4f4ff;\n",
       "}\n",
       "h3 {\n",
       "    color: white;\n",
       "    background-color: black;\n",
       "    padding: 0.5em;\n",
       "}\n",
       "\n",
       ".CodeMirror {\n",
       "    font-family: 'Monaco for Powerline';\n",
       "}\n",
       "\n",
       "div.cell.code_cell {\n",
       "    font-family: 'Monaco for Powerline';\n",
       "}\n",
       "\n",
       "div.output_area pre {\n",
       "    font-family: 'Monaco for Powerline';\n",
       "}\n",
       "</style>"
      ],
      "text/plain": [
       "<IPython.core.display.HTML object>"
      ]
     },
     "execution_count": 90,
     "metadata": {},
     "output_type": "execute_result"
    }
   ],
   "source": [
    "from IPython.core.display import HTML\n",
    "css = open('style-table.css').read() + open('style-notebook.css').read()\n",
    "HTML('<style>{}</style>'.format(css))"
   ]
  },
  {
   "cell_type": "code",
   "execution_count": 91,
   "metadata": {
    "collapsed": false
   },
   "outputs": [
    {
     "name": "stdout",
     "output_type": "stream",
     "text": [
      "Populating the interactive namespace from numpy and matplotlib\n"
     ]
    }
   ],
   "source": [
    "%pylab inline"
   ]
  },
  {
   "cell_type": "code",
   "execution_count": 92,
   "metadata": {
    "collapsed": false
   },
   "outputs": [],
   "source": [
    "import sqlite3\n",
    "import pandas as pd"
   ]
  },
  {
   "cell_type": "code",
   "execution_count": 93,
   "metadata": {
    "collapsed": true
   },
   "outputs": [],
   "source": [
    "DB_LOCATION = 'lastmile.db'"
   ]
  },
  {
   "cell_type": "code",
   "execution_count": 94,
   "metadata": {
    "collapsed": true
   },
   "outputs": [],
   "source": [
    "METADATA_SNAPSHOT = 'metadata_snapshot'\n",
    "METADATA_SNAPSHOT_EXTENSIONS = 'metadata_snapshot_extensions'\n",
    "SK_ASN = 'sk_asn'\n",
    "SK_ONE_OFF_EXTENSIONS = 'sk_one_off_extensions'\n",
    "SK_LATENCIES_AGG = 'sk_latencies_agg'\n",
    "UNIT_REPORT = 'unit_report'"
   ]
  },
  {
   "cell_type": "code",
   "execution_count": 95,
   "metadata": {
    "collapsed": false
   },
   "outputs": [],
   "source": [
    "con = sqlite3.connect(DB_LOCATION)"
   ]
  },
  {
   "cell_type": "code",
   "execution_count": 96,
   "metadata": {
    "collapsed": false
   },
   "outputs": [],
   "source": [
    "query_sk = '''SELECT      agg.probeid\n",
    "                        , agg.timestamp\n",
    "                        , s.asn\n",
    "                        , meta.product\n",
    "                        , s.asn_holder_name\n",
    "                        , s.asn_access_type                \n",
    "                        , ext.access_type_technology\n",
    "                        , agg.h1_avg || ';' || agg.h2_avg as h1h2\n",
    "\n",
    "               FROM   %s                             as  agg\n",
    "                    , %s                             as  api\n",
    "                    , %s                             as  s\n",
    "                    , %s                             as  meta\n",
    "                    , %s                             as  ext\n",
    "\n",
    "               WHERE     agg.probeid                  =  api.probeid\n",
    "               AND       agg.probeid                  =  ext.probeid\n",
    "               AND       api.asn                      =  s.asn\n",
    "               AND       agg.probeid                  =  meta.id\n",
    "\n",
    "               AND       ext.if_residential           =  1\n",
    "               AND       agg.h1_avg                   <>   0\n",
    "               AND       agg.h2_avg                   <>   0\n",
    "\n",
    "               \n",
    "            '''%(  SK_LATENCIES_AGG\n",
    "                 , METADATA_SNAPSHOT_EXTENSIONS\n",
    "                 , SK_ASN\n",
    "                 , METADATA_SNAPSHOT\n",
    "                 , SK_ONE_OFF_EXTENSIONS\n",
    "                )\n",
    "\n",
    "df_sk = pd.read_sql(query_sk, con)"
   ]
  },
  {
   "cell_type": "code",
   "execution_count": 97,
   "metadata": {
    "collapsed": false
   },
   "outputs": [
    {
     "data": {
      "text/plain": [
       "probeid                   435841\n",
       "timestamp                 435841\n",
       "asn                       435841\n",
       "product                   435841\n",
       "asn_holder_name           435841\n",
       "asn_access_type           415903\n",
       "access_type_technology    102512\n",
       "h1h2                      435841\n",
       "dtype: int64"
      ]
     },
     "execution_count": 97,
     "metadata": {},
     "output_type": "execute_result"
    }
   ],
   "source": [
    "df_sk.count()"
   ]
  },
  {
   "cell_type": "code",
   "execution_count": 98,
   "metadata": {
    "collapsed": false
   },
   "outputs": [
    {
     "data": {
      "text/html": [
       "<div>\n",
       "<table border=\"1\" class=\"dataframe\">\n",
       "  <thead>\n",
       "    <tr style=\"text-align: right;\">\n",
       "      <th></th>\n",
       "      <th>probeid</th>\n",
       "      <th>timestamp</th>\n",
       "      <th>asn</th>\n",
       "      <th>product</th>\n",
       "      <th>asn_holder_name</th>\n",
       "      <th>asn_access_type</th>\n",
       "      <th>access_type_technology</th>\n",
       "      <th>h1h2</th>\n",
       "    </tr>\n",
       "  </thead>\n",
       "  <tbody>\n",
       "    <tr>\n",
       "      <th>0</th>\n",
       "      <td>14905</td>\n",
       "      <td>2014-07-28 00:36:14</td>\n",
       "      <td>2856</td>\n",
       "      <td>40</td>\n",
       "      <td>BT-UK-AS BT Public Internet Service,GB</td>\n",
       "      <td>DSL</td>\n",
       "      <td>None</td>\n",
       "      <td>0.794;7.423</td>\n",
       "    </tr>\n",
       "    <tr>\n",
       "      <th>1</th>\n",
       "      <td>14905</td>\n",
       "      <td>2014-07-28 00:36:18</td>\n",
       "      <td>2856</td>\n",
       "      <td>40</td>\n",
       "      <td>BT-UK-AS BT Public Internet Service,GB</td>\n",
       "      <td>DSL</td>\n",
       "      <td>None</td>\n",
       "      <td>0.787;7.41</td>\n",
       "    </tr>\n",
       "    <tr>\n",
       "      <th>2</th>\n",
       "      <td>14905</td>\n",
       "      <td>2014-07-28 12:36:52</td>\n",
       "      <td>2856</td>\n",
       "      <td>40</td>\n",
       "      <td>BT-UK-AS BT Public Internet Service,GB</td>\n",
       "      <td>DSL</td>\n",
       "      <td>None</td>\n",
       "      <td>0.786;7.687</td>\n",
       "    </tr>\n",
       "    <tr>\n",
       "      <th>3</th>\n",
       "      <td>14905</td>\n",
       "      <td>2014-07-28 12:36:56</td>\n",
       "      <td>2856</td>\n",
       "      <td>40</td>\n",
       "      <td>BT-UK-AS BT Public Internet Service,GB</td>\n",
       "      <td>DSL</td>\n",
       "      <td>None</td>\n",
       "      <td>0.808;7.539</td>\n",
       "    </tr>\n",
       "    <tr>\n",
       "      <th>4</th>\n",
       "      <td>14905</td>\n",
       "      <td>2014-07-28 16:36:10</td>\n",
       "      <td>2856</td>\n",
       "      <td>40</td>\n",
       "      <td>BT-UK-AS BT Public Internet Service,GB</td>\n",
       "      <td>DSL</td>\n",
       "      <td>None</td>\n",
       "      <td>0.813;7.576</td>\n",
       "    </tr>\n",
       "  </tbody>\n",
       "</table>\n",
       "</div>"
      ],
      "text/plain": [
       "   probeid            timestamp   asn product  \\\n",
       "0    14905  2014-07-28 00:36:14  2856      40   \n",
       "1    14905  2014-07-28 00:36:18  2856      40   \n",
       "2    14905  2014-07-28 12:36:52  2856      40   \n",
       "3    14905  2014-07-28 12:36:56  2856      40   \n",
       "4    14905  2014-07-28 16:36:10  2856      40   \n",
       "\n",
       "                          asn_holder_name asn_access_type  \\\n",
       "0  BT-UK-AS BT Public Internet Service,GB             DSL   \n",
       "1  BT-UK-AS BT Public Internet Service,GB             DSL   \n",
       "2  BT-UK-AS BT Public Internet Service,GB             DSL   \n",
       "3  BT-UK-AS BT Public Internet Service,GB             DSL   \n",
       "4  BT-UK-AS BT Public Internet Service,GB             DSL   \n",
       "\n",
       "  access_type_technology         h1h2  \n",
       "0                   None  0.794;7.423  \n",
       "1                   None   0.787;7.41  \n",
       "2                   None  0.786;7.687  \n",
       "3                   None  0.808;7.539  \n",
       "4                   None  0.813;7.576  "
      ]
     },
     "execution_count": 98,
     "metadata": {},
     "output_type": "execute_result"
    }
   ],
   "source": [
    "df_sk.head()"
   ]
  },
  {
   "cell_type": "code",
   "execution_count": 99,
   "metadata": {
    "collapsed": true
   },
   "outputs": [],
   "source": [
    "df_sk = df_sk.dropna(subset = ['h1h2'])"
   ]
  },
  {
   "cell_type": "code",
   "execution_count": 100,
   "metadata": {
    "collapsed": false
   },
   "outputs": [
    {
     "data": {
      "text/plain": [
       "probeid                   435841\n",
       "timestamp                 435841\n",
       "asn                       435841\n",
       "product                   435841\n",
       "asn_holder_name           435841\n",
       "asn_access_type           415903\n",
       "access_type_technology    102512\n",
       "h1h2                      435841\n",
       "dtype: int64"
      ]
     },
     "execution_count": 100,
     "metadata": {},
     "output_type": "execute_result"
    }
   ],
   "source": [
    "df_sk.count()"
   ]
  },
  {
   "cell_type": "code",
   "execution_count": 101,
   "metadata": {
    "collapsed": false
   },
   "outputs": [
    {
     "data": {
      "text/html": [
       "<div>\n",
       "<table border=\"1\" class=\"dataframe\">\n",
       "  <thead>\n",
       "    <tr style=\"text-align: right;\">\n",
       "      <th></th>\n",
       "      <th>probeid</th>\n",
       "      <th>timestamp</th>\n",
       "      <th>asn</th>\n",
       "      <th>product</th>\n",
       "      <th>asn_holder_name</th>\n",
       "      <th>asn_access_type</th>\n",
       "      <th>access_type_technology</th>\n",
       "      <th>h1h2</th>\n",
       "    </tr>\n",
       "  </thead>\n",
       "  <tbody>\n",
       "    <tr>\n",
       "      <th>0</th>\n",
       "      <td>14905</td>\n",
       "      <td>2014-07-28 00:36:14</td>\n",
       "      <td>2856</td>\n",
       "      <td>40</td>\n",
       "      <td>BT-UK-AS BT Public Internet Service,GB</td>\n",
       "      <td>DSL</td>\n",
       "      <td>None</td>\n",
       "      <td>0.794;7.423</td>\n",
       "    </tr>\n",
       "    <tr>\n",
       "      <th>1</th>\n",
       "      <td>14905</td>\n",
       "      <td>2014-07-28 00:36:18</td>\n",
       "      <td>2856</td>\n",
       "      <td>40</td>\n",
       "      <td>BT-UK-AS BT Public Internet Service,GB</td>\n",
       "      <td>DSL</td>\n",
       "      <td>None</td>\n",
       "      <td>0.787;7.41</td>\n",
       "    </tr>\n",
       "    <tr>\n",
       "      <th>2</th>\n",
       "      <td>14905</td>\n",
       "      <td>2014-07-28 12:36:52</td>\n",
       "      <td>2856</td>\n",
       "      <td>40</td>\n",
       "      <td>BT-UK-AS BT Public Internet Service,GB</td>\n",
       "      <td>DSL</td>\n",
       "      <td>None</td>\n",
       "      <td>0.786;7.687</td>\n",
       "    </tr>\n",
       "    <tr>\n",
       "      <th>3</th>\n",
       "      <td>14905</td>\n",
       "      <td>2014-07-28 12:36:56</td>\n",
       "      <td>2856</td>\n",
       "      <td>40</td>\n",
       "      <td>BT-UK-AS BT Public Internet Service,GB</td>\n",
       "      <td>DSL</td>\n",
       "      <td>None</td>\n",
       "      <td>0.808;7.539</td>\n",
       "    </tr>\n",
       "    <tr>\n",
       "      <th>4</th>\n",
       "      <td>14905</td>\n",
       "      <td>2014-07-28 16:36:10</td>\n",
       "      <td>2856</td>\n",
       "      <td>40</td>\n",
       "      <td>BT-UK-AS BT Public Internet Service,GB</td>\n",
       "      <td>DSL</td>\n",
       "      <td>None</td>\n",
       "      <td>0.813;7.576</td>\n",
       "    </tr>\n",
       "  </tbody>\n",
       "</table>\n",
       "</div>"
      ],
      "text/plain": [
       "   probeid            timestamp   asn product  \\\n",
       "0    14905  2014-07-28 00:36:14  2856      40   \n",
       "1    14905  2014-07-28 00:36:18  2856      40   \n",
       "2    14905  2014-07-28 12:36:52  2856      40   \n",
       "3    14905  2014-07-28 12:36:56  2856      40   \n",
       "4    14905  2014-07-28 16:36:10  2856      40   \n",
       "\n",
       "                          asn_holder_name asn_access_type  \\\n",
       "0  BT-UK-AS BT Public Internet Service,GB             DSL   \n",
       "1  BT-UK-AS BT Public Internet Service,GB             DSL   \n",
       "2  BT-UK-AS BT Public Internet Service,GB             DSL   \n",
       "3  BT-UK-AS BT Public Internet Service,GB             DSL   \n",
       "4  BT-UK-AS BT Public Internet Service,GB             DSL   \n",
       "\n",
       "  access_type_technology         h1h2  \n",
       "0                   None  0.794;7.423  \n",
       "1                   None   0.787;7.41  \n",
       "2                   None  0.786;7.687  \n",
       "3                   None  0.808;7.539  \n",
       "4                   None  0.813;7.576  "
      ]
     },
     "execution_count": 101,
     "metadata": {},
     "output_type": "execute_result"
    }
   ],
   "source": [
    "df_sk.head()"
   ]
  },
  {
   "cell_type": "code",
   "execution_count": 102,
   "metadata": {
    "collapsed": false
   },
   "outputs": [],
   "source": [
    "def calculate_lastmile_latency(h1h2):\n",
    "    try: h1,h2 = h1h2.split(';')\n",
    "    except Exception as e: print(e, type(e), h1h2); return None\n",
    "    \n",
    "    try: lastmile = float(h2) - float(h1)\n",
    "    except Exception as e: print(e, type(e), h1, h2); return None\n",
    "    \n",
    "    return lastmile"
   ]
  },
  {
   "cell_type": "code",
   "execution_count": 103,
   "metadata": {
    "collapsed": false
   },
   "outputs": [],
   "source": [
    "df_sk['lastmile'] = df_sk['h1h2'].apply(calculate_lastmile_latency)"
   ]
  },
  {
   "cell_type": "code",
   "execution_count": 104,
   "metadata": {
    "collapsed": false
   },
   "outputs": [
    {
     "data": {
      "text/html": [
       "<div>\n",
       "<table border=\"1\" class=\"dataframe\">\n",
       "  <thead>\n",
       "    <tr style=\"text-align: right;\">\n",
       "      <th></th>\n",
       "      <th>probeid</th>\n",
       "      <th>timestamp</th>\n",
       "      <th>asn</th>\n",
       "      <th>product</th>\n",
       "      <th>asn_holder_name</th>\n",
       "      <th>asn_access_type</th>\n",
       "      <th>access_type_technology</th>\n",
       "      <th>h1h2</th>\n",
       "      <th>lastmile</th>\n",
       "    </tr>\n",
       "  </thead>\n",
       "  <tbody>\n",
       "    <tr>\n",
       "      <th>0</th>\n",
       "      <td>14905</td>\n",
       "      <td>2014-07-28 00:36:14</td>\n",
       "      <td>2856</td>\n",
       "      <td>40</td>\n",
       "      <td>BT-UK-AS BT Public Internet Service,GB</td>\n",
       "      <td>DSL</td>\n",
       "      <td>None</td>\n",
       "      <td>0.794;7.423</td>\n",
       "      <td>6.629</td>\n",
       "    </tr>\n",
       "    <tr>\n",
       "      <th>1</th>\n",
       "      <td>14905</td>\n",
       "      <td>2014-07-28 00:36:18</td>\n",
       "      <td>2856</td>\n",
       "      <td>40</td>\n",
       "      <td>BT-UK-AS BT Public Internet Service,GB</td>\n",
       "      <td>DSL</td>\n",
       "      <td>None</td>\n",
       "      <td>0.787;7.41</td>\n",
       "      <td>6.623</td>\n",
       "    </tr>\n",
       "    <tr>\n",
       "      <th>2</th>\n",
       "      <td>14905</td>\n",
       "      <td>2014-07-28 12:36:52</td>\n",
       "      <td>2856</td>\n",
       "      <td>40</td>\n",
       "      <td>BT-UK-AS BT Public Internet Service,GB</td>\n",
       "      <td>DSL</td>\n",
       "      <td>None</td>\n",
       "      <td>0.786;7.687</td>\n",
       "      <td>6.901</td>\n",
       "    </tr>\n",
       "    <tr>\n",
       "      <th>3</th>\n",
       "      <td>14905</td>\n",
       "      <td>2014-07-28 12:36:56</td>\n",
       "      <td>2856</td>\n",
       "      <td>40</td>\n",
       "      <td>BT-UK-AS BT Public Internet Service,GB</td>\n",
       "      <td>DSL</td>\n",
       "      <td>None</td>\n",
       "      <td>0.808;7.539</td>\n",
       "      <td>6.731</td>\n",
       "    </tr>\n",
       "    <tr>\n",
       "      <th>4</th>\n",
       "      <td>14905</td>\n",
       "      <td>2014-07-28 16:36:10</td>\n",
       "      <td>2856</td>\n",
       "      <td>40</td>\n",
       "      <td>BT-UK-AS BT Public Internet Service,GB</td>\n",
       "      <td>DSL</td>\n",
       "      <td>None</td>\n",
       "      <td>0.813;7.576</td>\n",
       "      <td>6.763</td>\n",
       "    </tr>\n",
       "  </tbody>\n",
       "</table>\n",
       "</div>"
      ],
      "text/plain": [
       "   probeid            timestamp   asn product  \\\n",
       "0    14905  2014-07-28 00:36:14  2856      40   \n",
       "1    14905  2014-07-28 00:36:18  2856      40   \n",
       "2    14905  2014-07-28 12:36:52  2856      40   \n",
       "3    14905  2014-07-28 12:36:56  2856      40   \n",
       "4    14905  2014-07-28 16:36:10  2856      40   \n",
       "\n",
       "                          asn_holder_name asn_access_type  \\\n",
       "0  BT-UK-AS BT Public Internet Service,GB             DSL   \n",
       "1  BT-UK-AS BT Public Internet Service,GB             DSL   \n",
       "2  BT-UK-AS BT Public Internet Service,GB             DSL   \n",
       "3  BT-UK-AS BT Public Internet Service,GB             DSL   \n",
       "4  BT-UK-AS BT Public Internet Service,GB             DSL   \n",
       "\n",
       "  access_type_technology         h1h2  lastmile  \n",
       "0                   None  0.794;7.423     6.629  \n",
       "1                   None   0.787;7.41     6.623  \n",
       "2                   None  0.786;7.687     6.901  \n",
       "3                   None  0.808;7.539     6.731  \n",
       "4                   None  0.813;7.576     6.763  "
      ]
     },
     "execution_count": 104,
     "metadata": {},
     "output_type": "execute_result"
    }
   ],
   "source": [
    "df_sk.head()"
   ]
  },
  {
   "cell_type": "code",
   "execution_count": 105,
   "metadata": {
    "collapsed": false
   },
   "outputs": [
    {
     "data": {
      "text/plain": [
       "probeid                   435841\n",
       "timestamp                 435841\n",
       "asn                       435841\n",
       "product                   435841\n",
       "asn_holder_name           435841\n",
       "asn_access_type           415903\n",
       "access_type_technology    102512\n",
       "h1h2                      435841\n",
       "lastmile                  435841\n",
       "dtype: int64"
      ]
     },
     "execution_count": 105,
     "metadata": {},
     "output_type": "execute_result"
    }
   ],
   "source": [
    "df_sk.count()"
   ]
  },
  {
   "cell_type": "code",
   "execution_count": 106,
   "metadata": {
    "collapsed": true
   },
   "outputs": [],
   "source": [
    "df_sk_groupby = df_sk.groupby('probeid')\n",
    "df_sk_agg = df_sk_groupby['lastmile'].agg(['median'])\n",
    "df_sk_merged = pd.merge(df_sk, df_sk_agg, left_on='probeid', right_index=True)\n",
    "\n",
    "del df_sk_merged['timestamp']\n",
    "del df_sk_merged['h1h2']\n",
    "del df_sk_merged['lastmile']\n",
    "\n",
    "df_sk_merged = df_sk_merged.drop_duplicates()\n",
    "df_sk_merged.rename(columns={'median': 'lastmile_median'}, inplace=True)"
   ]
  },
  {
   "cell_type": "code",
   "execution_count": 107,
   "metadata": {
    "collapsed": false
   },
   "outputs": [
    {
     "name": "stderr",
     "output_type": "stream",
     "text": [
      "/home/vbajpai/.virtualenvs/ripeatlas-v6-caches-data-collection-analysis-python3/lib/python3.4/site-packages/ipykernel/__main__.py:1: FutureWarning: sort(columns=....) is deprecated, use sort_values(by=.....)\n",
      "  if __name__ == '__main__':\n"
     ]
    }
   ],
   "source": [
    "df_sk_merged = df_sk_merged.sort('lastmile_median')"
   ]
  },
  {
   "cell_type": "code",
   "execution_count": 108,
   "metadata": {
    "collapsed": false
   },
   "outputs": [
    {
     "data": {
      "text/plain": [
       "probeid                   1245\n",
       "asn                       1245\n",
       "product                   1245\n",
       "asn_holder_name           1245\n",
       "asn_access_type           1187\n",
       "access_type_technology     290\n",
       "lastmile_median           1245\n",
       "dtype: int64"
      ]
     },
     "execution_count": 108,
     "metadata": {},
     "output_type": "execute_result"
    }
   ],
   "source": [
    "df_sk_merged.count()"
   ]
  },
  {
   "cell_type": "code",
   "execution_count": 109,
   "metadata": {
    "collapsed": false
   },
   "outputs": [
    {
     "data": {
      "text/html": [
       "<div>\n",
       "<table border=\"1\" class=\"dataframe\">\n",
       "  <thead>\n",
       "    <tr style=\"text-align: right;\">\n",
       "      <th></th>\n",
       "      <th>probeid</th>\n",
       "      <th>asn</th>\n",
       "      <th>product</th>\n",
       "      <th>asn_holder_name</th>\n",
       "      <th>asn_access_type</th>\n",
       "      <th>access_type_technology</th>\n",
       "      <th>lastmile_median</th>\n",
       "    </tr>\n",
       "  </thead>\n",
       "  <tbody>\n",
       "    <tr>\n",
       "      <th>411520</th>\n",
       "      <td>421758</td>\n",
       "      <td>13037</td>\n",
       "      <td>40</td>\n",
       "      <td>ZEN-AS Zen Internet Ltd,GB</td>\n",
       "      <td>DSL</td>\n",
       "      <td>DSL</td>\n",
       "      <td>-46.8325</td>\n",
       "    </tr>\n",
       "    <tr>\n",
       "      <th>235617</th>\n",
       "      <td>146348</td>\n",
       "      <td>13037</td>\n",
       "      <td>80</td>\n",
       "      <td>ZEN-AS Zen Internet Ltd,GB</td>\n",
       "      <td>DSL</td>\n",
       "      <td>DSL</td>\n",
       "      <td>-45.8645</td>\n",
       "    </tr>\n",
       "    <tr>\n",
       "      <th>53135</th>\n",
       "      <td>141004</td>\n",
       "      <td>2856</td>\n",
       "      <td>20</td>\n",
       "      <td>BT-UK-AS BT Public Internet Service,GB</td>\n",
       "      <td>DSL</td>\n",
       "      <td>None</td>\n",
       "      <td>-44.1935</td>\n",
       "    </tr>\n",
       "    <tr>\n",
       "      <th>313640</th>\n",
       "      <td>148302</td>\n",
       "      <td>6871</td>\n",
       "      <td>80</td>\n",
       "      <td>PLUSNET PlusNet PLC,GB</td>\n",
       "      <td>DSL</td>\n",
       "      <td>None</td>\n",
       "      <td>-43.7715</td>\n",
       "    </tr>\n",
       "    <tr>\n",
       "      <th>149707</th>\n",
       "      <td>143906</td>\n",
       "      <td>6871</td>\n",
       "      <td>80</td>\n",
       "      <td>PLUSNET PlusNet PLC,GB</td>\n",
       "      <td>DSL</td>\n",
       "      <td>None</td>\n",
       "      <td>-41.7680</td>\n",
       "    </tr>\n",
       "  </tbody>\n",
       "</table>\n",
       "</div>"
      ],
      "text/plain": [
       "        probeid    asn product                         asn_holder_name  \\\n",
       "411520   421758  13037      40              ZEN-AS Zen Internet Ltd,GB   \n",
       "235617   146348  13037      80              ZEN-AS Zen Internet Ltd,GB   \n",
       "53135    141004   2856      20  BT-UK-AS BT Public Internet Service,GB   \n",
       "313640   148302   6871      80                  PLUSNET PlusNet PLC,GB   \n",
       "149707   143906   6871      80                  PLUSNET PlusNet PLC,GB   \n",
       "\n",
       "       asn_access_type access_type_technology  lastmile_median  \n",
       "411520             DSL                    DSL         -46.8325  \n",
       "235617             DSL                    DSL         -45.8645  \n",
       "53135              DSL                   None         -44.1935  \n",
       "313640             DSL                   None         -43.7715  \n",
       "149707             DSL                   None         -41.7680  "
      ]
     },
     "execution_count": 109,
     "metadata": {},
     "output_type": "execute_result"
    }
   ],
   "source": [
    "df_sk_merged.head()"
   ]
  },
  {
   "cell_type": "code",
   "execution_count": 110,
   "metadata": {
    "collapsed": false
   },
   "outputs": [
    {
     "name": "stdout",
     "output_type": "stream",
     "text": [
      "146332,143508,143020,147324,141472,143084,"
     ]
    }
   ],
   "source": [
    "def myfunc(x):\n",
    "    count = 0\n",
    "    manual = x['asn_access_type']; rdns = x['access_type_technology']\n",
    "    \n",
    "    chosen = None\n",
    "    if manual is None and rdns is None: chosen = None\n",
    "    elif manual is None and rdns is not None: chosen = rdns\n",
    "    elif manual is not None and rdns is None: chosen = manual\n",
    "    elif manual == rdns: chosen = rdns\n",
    "    elif manual != rdns:\n",
    "        if rdns == 'FIBRE': chosen = rdns    \n",
    "        else: print(x['probeid'], end=','); count += 1\n",
    "    else: print('wow!')   \n",
    "        \n",
    "    return chosen\n",
    "\n",
    "df_sk_merged['chosen'] = df_sk_merged.apply(myfunc, axis=1)"
   ]
  },
  {
   "cell_type": "code",
   "execution_count": 111,
   "metadata": {
    "collapsed": false
   },
   "outputs": [
    {
     "data": {
      "text/html": [
       "<div>\n",
       "<table border=\"1\" class=\"dataframe\">\n",
       "  <thead>\n",
       "    <tr style=\"text-align: right;\">\n",
       "      <th></th>\n",
       "      <th>probeid</th>\n",
       "      <th>asn</th>\n",
       "      <th>product</th>\n",
       "      <th>asn_holder_name</th>\n",
       "      <th>asn_access_type</th>\n",
       "      <th>access_type_technology</th>\n",
       "      <th>lastmile_median</th>\n",
       "      <th>chosen</th>\n",
       "    </tr>\n",
       "  </thead>\n",
       "  <tbody>\n",
       "    <tr>\n",
       "      <th>106248</th>\n",
       "      <td>143084</td>\n",
       "      <td>5089</td>\n",
       "      <td>8</td>\n",
       "      <td>NTL Virgin Media Limited,GB</td>\n",
       "      <td>CABLE</td>\n",
       "      <td>DSL</td>\n",
       "      <td>42.8175</td>\n",
       "      <td>None</td>\n",
       "    </tr>\n",
       "  </tbody>\n",
       "</table>\n",
       "</div>"
      ],
      "text/plain": [
       "        probeid   asn product              asn_holder_name asn_access_type  \\\n",
       "106248   143084  5089       8  NTL Virgin Media Limited,GB           CABLE   \n",
       "\n",
       "       access_type_technology  lastmile_median chosen  \n",
       "106248                    DSL          42.8175   None  "
      ]
     },
     "execution_count": 111,
     "metadata": {},
     "output_type": "execute_result"
    }
   ],
   "source": [
    "df_sk_merged[df_sk_merged.probeid == 143084  ]"
   ]
  },
  {
   "cell_type": "code",
   "execution_count": 112,
   "metadata": {
    "collapsed": false
   },
   "outputs": [
    {
     "data": {
      "text/plain": [
       "probeid                   1245\n",
       "asn                       1245\n",
       "product                   1245\n",
       "asn_holder_name           1245\n",
       "asn_access_type           1187\n",
       "access_type_technology     290\n",
       "lastmile_median           1245\n",
       "chosen                    1189\n",
       "dtype: int64"
      ]
     },
     "execution_count": 112,
     "metadata": {},
     "output_type": "execute_result"
    }
   ],
   "source": [
    "df_sk_merged.count()"
   ]
  },
  {
   "cell_type": "code",
   "execution_count": 113,
   "metadata": {
    "collapsed": false
   },
   "outputs": [],
   "source": [
    "def create_pretty_node_names(asn, holder):\n",
    "    \n",
    "    d = {\n",
    "          'NTL'        : 'VIRGINMEDIA'\n",
    "        , 'AS3215'     : 'ORANGE'        \n",
    "        , 'VODANET'    : 'VODAFONE'\n",
    "        , 'PROXAD'     : 'FREE'\n",
    "        , 'ROADRUNNER' : 'TWC'\n",
    "        , 'TDDE'       : 'TELEFONICA-DE'\n",
    "        , 'TT'         : 'TALKTALK'\n",
    "        , 'AS20712'    : 'A&A'\n",
    "        \n",
    "    }\n",
    "    \n",
    "    firstname = holder.split('-')[0].split(' ')[0]\n",
    "    try: firstname = d[firstname]\n",
    "    except Exception as e: pass\n",
    "    \n",
    "    if 'AS' in str(asn): nodename = '%s (%s)'%(firstname, asn)\n",
    "    else: nodename = '%s (AS%s)'%(firstname, asn)\n",
    "    return nodename\n",
    "\n",
    "def myfunc(x):\n",
    "    asn = x['asn']; holder = x['asn_holder_name']; \n",
    "    nodename = create_pretty_node_names(asn, holder)\n",
    "    x['nodename'] = nodename\n",
    "    return x\n",
    "\n",
    "df_sk_merged = df_sk_merged.apply(myfunc, axis=1)"
   ]
  },
  {
   "cell_type": "code",
   "execution_count": 114,
   "metadata": {
    "collapsed": false
   },
   "outputs": [],
   "source": [
    "del df_sk_merged['asn_access_type']\n",
    "del df_sk_merged['access_type_technology']\n",
    "del df_sk_merged['asn']\n",
    "del df_sk_merged['asn_holder_name']"
   ]
  },
  {
   "cell_type": "code",
   "execution_count": 115,
   "metadata": {
    "collapsed": false
   },
   "outputs": [
    {
     "data": {
      "text/html": [
       "<div>\n",
       "<table border=\"1\" class=\"dataframe\">\n",
       "  <thead>\n",
       "    <tr style=\"text-align: right;\">\n",
       "      <th></th>\n",
       "      <th>probeid</th>\n",
       "      <th>product</th>\n",
       "      <th>lastmile_median</th>\n",
       "      <th>chosen</th>\n",
       "      <th>nodename</th>\n",
       "    </tr>\n",
       "  </thead>\n",
       "  <tbody>\n",
       "    <tr>\n",
       "      <th>411520</th>\n",
       "      <td>421758</td>\n",
       "      <td>40</td>\n",
       "      <td>-46.8325</td>\n",
       "      <td>DSL</td>\n",
       "      <td>ZEN (AS13037)</td>\n",
       "    </tr>\n",
       "    <tr>\n",
       "      <th>235617</th>\n",
       "      <td>146348</td>\n",
       "      <td>80</td>\n",
       "      <td>-45.8645</td>\n",
       "      <td>DSL</td>\n",
       "      <td>ZEN (AS13037)</td>\n",
       "    </tr>\n",
       "    <tr>\n",
       "      <th>53135</th>\n",
       "      <td>141004</td>\n",
       "      <td>20</td>\n",
       "      <td>-44.1935</td>\n",
       "      <td>DSL</td>\n",
       "      <td>BT (AS2856)</td>\n",
       "    </tr>\n",
       "    <tr>\n",
       "      <th>313640</th>\n",
       "      <td>148302</td>\n",
       "      <td>80</td>\n",
       "      <td>-43.7715</td>\n",
       "      <td>DSL</td>\n",
       "      <td>PLUSNET (AS6871)</td>\n",
       "    </tr>\n",
       "    <tr>\n",
       "      <th>149707</th>\n",
       "      <td>143906</td>\n",
       "      <td>80</td>\n",
       "      <td>-41.7680</td>\n",
       "      <td>DSL</td>\n",
       "      <td>PLUSNET (AS6871)</td>\n",
       "    </tr>\n",
       "  </tbody>\n",
       "</table>\n",
       "</div>"
      ],
      "text/plain": [
       "        probeid product  lastmile_median chosen          nodename\n",
       "411520   421758      40         -46.8325    DSL     ZEN (AS13037)\n",
       "235617   146348      80         -45.8645    DSL     ZEN (AS13037)\n",
       "53135    141004      20         -44.1935    DSL       BT (AS2856)\n",
       "313640   148302      80         -43.7715    DSL  PLUSNET (AS6871)\n",
       "149707   143906      80         -41.7680    DSL  PLUSNET (AS6871)"
      ]
     },
     "execution_count": 115,
     "metadata": {},
     "output_type": "execute_result"
    }
   ],
   "source": [
    "df_sk_merged.head()"
   ]
  },
  {
   "cell_type": "code",
   "execution_count": 116,
   "metadata": {
    "collapsed": false
   },
   "outputs": [
    {
     "data": {
      "text/plain": [
       "probeid            1245\n",
       "product            1245\n",
       "lastmile_median    1245\n",
       "chosen             1189\n",
       "nodename           1245\n",
       "dtype: int64"
      ]
     },
     "execution_count": 116,
     "metadata": {},
     "output_type": "execute_result"
    }
   ],
   "source": [
    "df_sk_merged.count()"
   ]
  },
  {
   "cell_type": "code",
   "execution_count": 117,
   "metadata": {
    "collapsed": false
   },
   "outputs": [],
   "source": [
    "df_sk_merged = df_sk_merged.dropna()"
   ]
  },
  {
   "cell_type": "code",
   "execution_count": 118,
   "metadata": {
    "collapsed": false
   },
   "outputs": [
    {
     "data": {
      "text/plain": [
       "probeid            1189\n",
       "product            1189\n",
       "lastmile_median    1189\n",
       "chosen             1189\n",
       "nodename           1189\n",
       "dtype: int64"
      ]
     },
     "execution_count": 118,
     "metadata": {},
     "output_type": "execute_result"
    }
   ],
   "source": [
    "df_sk_merged.count()"
   ]
  },
  {
   "cell_type": "code",
   "execution_count": 119,
   "metadata": {
    "collapsed": true
   },
   "outputs": [],
   "source": [
    "df_sk = df_sk_merged "
   ]
  },
  {
   "cell_type": "code",
   "execution_count": 120,
   "metadata": {
    "collapsed": false
   },
   "outputs": [
    {
     "data": {
      "text/html": [
       "<div>\n",
       "<table border=\"1\" class=\"dataframe\">\n",
       "  <thead>\n",
       "    <tr style=\"text-align: right;\">\n",
       "      <th></th>\n",
       "      <th>probeid</th>\n",
       "      <th>product</th>\n",
       "      <th>lastmile_median</th>\n",
       "      <th>chosen</th>\n",
       "      <th>nodename</th>\n",
       "    </tr>\n",
       "  </thead>\n",
       "  <tbody>\n",
       "    <tr>\n",
       "      <th>411520</th>\n",
       "      <td>421758</td>\n",
       "      <td>40</td>\n",
       "      <td>-46.8325</td>\n",
       "      <td>DSL</td>\n",
       "      <td>ZEN (AS13037)</td>\n",
       "    </tr>\n",
       "    <tr>\n",
       "      <th>235617</th>\n",
       "      <td>146348</td>\n",
       "      <td>80</td>\n",
       "      <td>-45.8645</td>\n",
       "      <td>DSL</td>\n",
       "      <td>ZEN (AS13037)</td>\n",
       "    </tr>\n",
       "    <tr>\n",
       "      <th>53135</th>\n",
       "      <td>141004</td>\n",
       "      <td>20</td>\n",
       "      <td>-44.1935</td>\n",
       "      <td>DSL</td>\n",
       "      <td>BT (AS2856)</td>\n",
       "    </tr>\n",
       "    <tr>\n",
       "      <th>313640</th>\n",
       "      <td>148302</td>\n",
       "      <td>80</td>\n",
       "      <td>-43.7715</td>\n",
       "      <td>DSL</td>\n",
       "      <td>PLUSNET (AS6871)</td>\n",
       "    </tr>\n",
       "    <tr>\n",
       "      <th>149707</th>\n",
       "      <td>143906</td>\n",
       "      <td>80</td>\n",
       "      <td>-41.7680</td>\n",
       "      <td>DSL</td>\n",
       "      <td>PLUSNET (AS6871)</td>\n",
       "    </tr>\n",
       "  </tbody>\n",
       "</table>\n",
       "</div>"
      ],
      "text/plain": [
       "        probeid product  lastmile_median chosen          nodename\n",
       "411520   421758      40         -46.8325    DSL     ZEN (AS13037)\n",
       "235617   146348      80         -45.8645    DSL     ZEN (AS13037)\n",
       "53135    141004      20         -44.1935    DSL       BT (AS2856)\n",
       "313640   148302      80         -43.7715    DSL  PLUSNET (AS6871)\n",
       "149707   143906      80         -41.7680    DSL  PLUSNET (AS6871)"
      ]
     },
     "execution_count": 120,
     "metadata": {},
     "output_type": "execute_result"
    }
   ],
   "source": [
    "df_sk.head()"
   ]
  },
  {
   "cell_type": "code",
   "execution_count": 121,
   "metadata": {
    "collapsed": false
   },
   "outputs": [],
   "source": [
    "query_sk = '''SELECT      unit_id as 'probeid'\n",
    "                        , unit.latitude\n",
    "                        , unit.longitude\n",
    "\n",
    "               FROM   %s                             as  unit\n",
    "                    , %s                             as  ext\n",
    "                    , %s                             as  agg \n",
    "\n",
    "               WHERE     agg.probeid                  =  ext.probeid\n",
    "               AND       ext.probeid                  =  unit.unit_id\n",
    "               AND       ext.if_residential           =  1\n",
    "               AND       agg.h1_avg                   <> 0\n",
    "               AND       agg.h2_avg                   <> 0\n",
    "               AND       dtime = (SELECT max(dtime) from UNIT_REPORT)\n",
    "               \n",
    "            '''%(  UNIT_REPORT\n",
    "                 , SK_ONE_OFF_EXTENSIONS\n",
    "                 , SK_LATENCIES_AGG\n",
    "                )\n",
    "\n",
    "df_sk_geo = pd.read_sql(query_sk, con)"
   ]
  },
  {
   "cell_type": "code",
   "execution_count": 122,
   "metadata": {
    "collapsed": false
   },
   "outputs": [],
   "source": [
    "df_sk_geo = df_sk_geo.drop_duplicates()"
   ]
  },
  {
   "cell_type": "code",
   "execution_count": 123,
   "metadata": {
    "collapsed": false
   },
   "outputs": [
    {
     "data": {
      "text/plain": [
       "probeid      1176\n",
       "latitude     1175\n",
       "longitude    1175\n",
       "dtype: int64"
      ]
     },
     "execution_count": 123,
     "metadata": {},
     "output_type": "execute_result"
    }
   ],
   "source": [
    "df_sk_geo.count()"
   ]
  },
  {
   "cell_type": "code",
   "execution_count": 124,
   "metadata": {
    "collapsed": true
   },
   "outputs": [],
   "source": [
    "df_sk = pd.merge(df_sk, df_sk_geo, on='probeid', how='outer')"
   ]
  },
  {
   "cell_type": "code",
   "execution_count": 125,
   "metadata": {
    "collapsed": false
   },
   "outputs": [
    {
     "data": {
      "text/plain": [
       "probeid            1240\n",
       "product            1189\n",
       "lastmile_median    1189\n",
       "chosen             1189\n",
       "nodename           1189\n",
       "latitude           1175\n",
       "longitude          1175\n",
       "dtype: int64"
      ]
     },
     "execution_count": 125,
     "metadata": {},
     "output_type": "execute_result"
    }
   ],
   "source": [
    "df_sk.count()"
   ]
  },
  {
   "cell_type": "code",
   "execution_count": 126,
   "metadata": {
    "collapsed": true
   },
   "outputs": [],
   "source": [
    "df_sk = df_sk.dropna()"
   ]
  },
  {
   "cell_type": "code",
   "execution_count": 127,
   "metadata": {
    "collapsed": false
   },
   "outputs": [
    {
     "data": {
      "text/plain": [
       "probeid            1125\n",
       "product            1125\n",
       "lastmile_median    1125\n",
       "chosen             1125\n",
       "nodename           1125\n",
       "latitude           1125\n",
       "longitude          1125\n",
       "dtype: int64"
      ]
     },
     "execution_count": 127,
     "metadata": {},
     "output_type": "execute_result"
    }
   ],
   "source": [
    "df_sk.count()"
   ]
  },
  {
   "cell_type": "code",
   "execution_count": 128,
   "metadata": {
    "collapsed": false
   },
   "outputs": [
    {
     "data": {
      "text/html": [
       "<div>\n",
       "<table border=\"1\" class=\"dataframe\">\n",
       "  <thead>\n",
       "    <tr style=\"text-align: right;\">\n",
       "      <th></th>\n",
       "      <th>probeid</th>\n",
       "      <th>product</th>\n",
       "      <th>lastmile_median</th>\n",
       "      <th>chosen</th>\n",
       "      <th>nodename</th>\n",
       "      <th>latitude</th>\n",
       "      <th>longitude</th>\n",
       "    </tr>\n",
       "  </thead>\n",
       "  <tbody>\n",
       "    <tr>\n",
       "      <th>0</th>\n",
       "      <td>421758</td>\n",
       "      <td>40</td>\n",
       "      <td>-46.8325</td>\n",
       "      <td>DSL</td>\n",
       "      <td>ZEN (AS13037)</td>\n",
       "      <td>51.5000</td>\n",
       "      <td>-0.1300</td>\n",
       "    </tr>\n",
       "    <tr>\n",
       "      <th>1</th>\n",
       "      <td>146348</td>\n",
       "      <td>80</td>\n",
       "      <td>-45.8645</td>\n",
       "      <td>DSL</td>\n",
       "      <td>ZEN (AS13037)</td>\n",
       "      <td>51.5142</td>\n",
       "      <td>-0.0931</td>\n",
       "    </tr>\n",
       "    <tr>\n",
       "      <th>2</th>\n",
       "      <td>141004</td>\n",
       "      <td>20</td>\n",
       "      <td>-44.1935</td>\n",
       "      <td>DSL</td>\n",
       "      <td>BT (AS2856)</td>\n",
       "      <td>51.1833</td>\n",
       "      <td>-0.6000</td>\n",
       "    </tr>\n",
       "    <tr>\n",
       "      <th>3</th>\n",
       "      <td>148302</td>\n",
       "      <td>80</td>\n",
       "      <td>-43.7715</td>\n",
       "      <td>DSL</td>\n",
       "      <td>PLUSNET (AS6871)</td>\n",
       "      <td>51.5000</td>\n",
       "      <td>-0.1300</td>\n",
       "    </tr>\n",
       "    <tr>\n",
       "      <th>4</th>\n",
       "      <td>143906</td>\n",
       "      <td>80</td>\n",
       "      <td>-41.7680</td>\n",
       "      <td>DSL</td>\n",
       "      <td>PLUSNET (AS6871)</td>\n",
       "      <td>51.5000</td>\n",
       "      <td>-0.1300</td>\n",
       "    </tr>\n",
       "  </tbody>\n",
       "</table>\n",
       "</div>"
      ],
      "text/plain": [
       "   probeid product  lastmile_median chosen          nodename  latitude  \\\n",
       "0   421758      40         -46.8325    DSL     ZEN (AS13037)   51.5000   \n",
       "1   146348      80         -45.8645    DSL     ZEN (AS13037)   51.5142   \n",
       "2   141004      20         -44.1935    DSL       BT (AS2856)   51.1833   \n",
       "3   148302      80         -43.7715    DSL  PLUSNET (AS6871)   51.5000   \n",
       "4   143906      80         -41.7680    DSL  PLUSNET (AS6871)   51.5000   \n",
       "\n",
       "   longitude  \n",
       "0    -0.1300  \n",
       "1    -0.0931  \n",
       "2    -0.6000  \n",
       "3    -0.1300  \n",
       "4    -0.1300  "
      ]
     },
     "execution_count": 128,
     "metadata": {},
     "output_type": "execute_result"
    }
   ],
   "source": [
    "df_sk.head()"
   ]
  },
  {
   "cell_type": "code",
   "execution_count": 129,
   "metadata": {
    "collapsed": false
   },
   "outputs": [],
   "source": [
    "df_sk_dsl   = df_sk_merged[df_sk_merged.chosen == 'DSL']\n",
    "df_sk_cable = df_sk_merged[df_sk_merged.chosen == 'CABLE']\n",
    "df_sk_fibre = df_sk_merged[df_sk_merged.chosen == 'FIBRE']"
   ]
  },
  {
   "cell_type": "markdown",
   "metadata": {},
   "source": [
    "### RIPE Atlas"
   ]
  },
  {
   "cell_type": "code",
   "execution_count": 130,
   "metadata": {
    "collapsed": true
   },
   "outputs": [],
   "source": [
    "RA_PROBE = 'ra_probe'\n",
    "RA_PROBE_API = 'ra_probe_api'\n",
    "RA_ASN = 'ra_asn'\n",
    "RA_ONE_OFF_EXTENSIONS = 'ra_one_off_extensions'\n",
    "RA_LATENCIES_AGG = 'ra_latencies_agg'"
   ]
  },
  {
   "cell_type": "code",
   "execution_count": 131,
   "metadata": {
    "collapsed": true
   },
   "outputs": [],
   "source": [
    "con = sqlite3.connect(DB_LOCATION)"
   ]
  },
  {
   "cell_type": "code",
   "execution_count": 132,
   "metadata": {
    "collapsed": true
   },
   "outputs": [],
   "source": [
    "query_ra = '''SELECT      agg.probeid\n",
    "                        , api.latitude\n",
    "                        , api.longitude\n",
    "                        , agg.timestamp\n",
    "                        , s.asn\n",
    "                        , s.asn_holder_name\n",
    "                        , s.asn_access_type                \n",
    "                        , ext.access_type_technology\n",
    "                        , agg.h1_median || ';' || agg.h2_median as h1h2\n",
    "\n",
    "               FROM   %s                             as  agg\n",
    "                    , %s                             as  api\n",
    "                    , %s                             as  s               \n",
    "                    , %s                             as  hardware\n",
    "                    , %s                             as  ext\n",
    "\n",
    "               WHERE     agg.probeid                  =  api.probeid\n",
    "               AND       agg.probeid                  =  hardware.probeid\n",
    "               AND       agg.probeid                  =  ext.probeid\n",
    "               AND       api.asn_v4                   =  s.asn\n",
    "\n",
    "               AND       hardware.hardware_version    =  'v3'\n",
    "               AND       ext.if_residential           =  1\n",
    "\n",
    "               \n",
    "            '''%(  RA_LATENCIES_AGG\n",
    "                 , RA_PROBE_API\n",
    "                 , RA_ASN\n",
    "                 , RA_PROBE\n",
    "                 , RA_ONE_OFF_EXTENSIONS\n",
    "                )\n",
    "\n",
    "df_ra = pd.read_sql(query_ra, con)"
   ]
  },
  {
   "cell_type": "code",
   "execution_count": 133,
   "metadata": {
    "collapsed": false
   },
   "outputs": [
    {
     "data": {
      "text/plain": [
       "probeid                   134724\n",
       "latitude                  134724\n",
       "longitude                 134724\n",
       "timestamp                 134724\n",
       "asn                       134724\n",
       "asn_holder_name           134724\n",
       "asn_access_type           134724\n",
       "access_type_technology     43963\n",
       "h1h2                      130006\n",
       "dtype: int64"
      ]
     },
     "execution_count": 133,
     "metadata": {},
     "output_type": "execute_result"
    }
   ],
   "source": [
    "df_ra.count()"
   ]
  },
  {
   "cell_type": "code",
   "execution_count": 134,
   "metadata": {
    "collapsed": false
   },
   "outputs": [
    {
     "data": {
      "text/html": [
       "<div>\n",
       "<table border=\"1\" class=\"dataframe\">\n",
       "  <thead>\n",
       "    <tr style=\"text-align: right;\">\n",
       "      <th></th>\n",
       "      <th>probeid</th>\n",
       "      <th>latitude</th>\n",
       "      <th>longitude</th>\n",
       "      <th>timestamp</th>\n",
       "      <th>asn</th>\n",
       "      <th>asn_holder_name</th>\n",
       "      <th>asn_access_type</th>\n",
       "      <th>access_type_technology</th>\n",
       "      <th>h1h2</th>\n",
       "    </tr>\n",
       "  </thead>\n",
       "  <tbody>\n",
       "    <tr>\n",
       "      <th>0</th>\n",
       "      <td>10006</td>\n",
       "      <td>52.3805</td>\n",
       "      <td>4.9275</td>\n",
       "      <td>1406548034</td>\n",
       "      <td>3265</td>\n",
       "      <td>XS4ALL-NL XS4ALL Internet BV,NL</td>\n",
       "      <td>DSL</td>\n",
       "      <td>DSL</td>\n",
       "      <td>0.429;20.49</td>\n",
       "    </tr>\n",
       "    <tr>\n",
       "      <th>1</th>\n",
       "      <td>10006</td>\n",
       "      <td>52.3805</td>\n",
       "      <td>4.9275</td>\n",
       "      <td>1406562432</td>\n",
       "      <td>3265</td>\n",
       "      <td>XS4ALL-NL XS4ALL Internet BV,NL</td>\n",
       "      <td>DSL</td>\n",
       "      <td>DSL</td>\n",
       "      <td>0.431;17.7</td>\n",
       "    </tr>\n",
       "    <tr>\n",
       "      <th>2</th>\n",
       "      <td>10006</td>\n",
       "      <td>52.3805</td>\n",
       "      <td>4.9275</td>\n",
       "      <td>1406576835</td>\n",
       "      <td>3265</td>\n",
       "      <td>XS4ALL-NL XS4ALL Internet BV,NL</td>\n",
       "      <td>DSL</td>\n",
       "      <td>DSL</td>\n",
       "      <td>0.438;17.776</td>\n",
       "    </tr>\n",
       "    <tr>\n",
       "      <th>3</th>\n",
       "      <td>10006</td>\n",
       "      <td>52.3805</td>\n",
       "      <td>4.9275</td>\n",
       "      <td>1406591230</td>\n",
       "      <td>3265</td>\n",
       "      <td>XS4ALL-NL XS4ALL Internet BV,NL</td>\n",
       "      <td>DSL</td>\n",
       "      <td>DSL</td>\n",
       "      <td>0.478;17.577</td>\n",
       "    </tr>\n",
       "    <tr>\n",
       "      <th>4</th>\n",
       "      <td>10006</td>\n",
       "      <td>52.3805</td>\n",
       "      <td>4.9275</td>\n",
       "      <td>1406605631</td>\n",
       "      <td>3265</td>\n",
       "      <td>XS4ALL-NL XS4ALL Internet BV,NL</td>\n",
       "      <td>DSL</td>\n",
       "      <td>DSL</td>\n",
       "      <td>0.422;17.526</td>\n",
       "    </tr>\n",
       "  </tbody>\n",
       "</table>\n",
       "</div>"
      ],
      "text/plain": [
       "   probeid  latitude  longitude   timestamp   asn  \\\n",
       "0    10006   52.3805     4.9275  1406548034  3265   \n",
       "1    10006   52.3805     4.9275  1406562432  3265   \n",
       "2    10006   52.3805     4.9275  1406576835  3265   \n",
       "3    10006   52.3805     4.9275  1406591230  3265   \n",
       "4    10006   52.3805     4.9275  1406605631  3265   \n",
       "\n",
       "                   asn_holder_name asn_access_type access_type_technology  \\\n",
       "0  XS4ALL-NL XS4ALL Internet BV,NL             DSL                    DSL   \n",
       "1  XS4ALL-NL XS4ALL Internet BV,NL             DSL                    DSL   \n",
       "2  XS4ALL-NL XS4ALL Internet BV,NL             DSL                    DSL   \n",
       "3  XS4ALL-NL XS4ALL Internet BV,NL             DSL                    DSL   \n",
       "4  XS4ALL-NL XS4ALL Internet BV,NL             DSL                    DSL   \n",
       "\n",
       "           h1h2  \n",
       "0   0.429;20.49  \n",
       "1    0.431;17.7  \n",
       "2  0.438;17.776  \n",
       "3  0.478;17.577  \n",
       "4  0.422;17.526  "
      ]
     },
     "execution_count": 134,
     "metadata": {},
     "output_type": "execute_result"
    }
   ],
   "source": [
    "df_ra.head()"
   ]
  },
  {
   "cell_type": "code",
   "execution_count": 135,
   "metadata": {
    "collapsed": true
   },
   "outputs": [],
   "source": [
    "df_ra = df_ra.dropna(subset = ['h1h2'])"
   ]
  },
  {
   "cell_type": "code",
   "execution_count": 136,
   "metadata": {
    "collapsed": false
   },
   "outputs": [
    {
     "data": {
      "text/plain": [
       "probeid                   130006\n",
       "latitude                  130006\n",
       "longitude                 130006\n",
       "timestamp                 130006\n",
       "asn                       130006\n",
       "asn_holder_name           130006\n",
       "asn_access_type           130006\n",
       "access_type_technology     40625\n",
       "h1h2                      130006\n",
       "dtype: int64"
      ]
     },
     "execution_count": 136,
     "metadata": {},
     "output_type": "execute_result"
    }
   ],
   "source": [
    "df_ra.count()"
   ]
  },
  {
   "cell_type": "code",
   "execution_count": 137,
   "metadata": {
    "collapsed": false
   },
   "outputs": [],
   "source": [
    "def calculate_lastmile_latency(h1h2):\n",
    "    try: h1,h2 = h1h2.split(';')\n",
    "    except Exception as e: print(e, type(e), h1h2); return None\n",
    "    \n",
    "    try: lastmile = float(h2) - float(h1)\n",
    "    except Exception as e: print(e, type(e), h1, h2); return None\n",
    "    \n",
    "    return lastmile"
   ]
  },
  {
   "cell_type": "code",
   "execution_count": 138,
   "metadata": {
    "collapsed": true
   },
   "outputs": [],
   "source": [
    "df_ra['lastmile'] = df_ra['h1h2'].apply(calculate_lastmile_latency)"
   ]
  },
  {
   "cell_type": "code",
   "execution_count": 139,
   "metadata": {
    "collapsed": false
   },
   "outputs": [
    {
     "data": {
      "text/plain": [
       "probeid                   130006\n",
       "latitude                  130006\n",
       "longitude                 130006\n",
       "timestamp                 130006\n",
       "asn                       130006\n",
       "asn_holder_name           130006\n",
       "asn_access_type           130006\n",
       "access_type_technology     40625\n",
       "h1h2                      130006\n",
       "lastmile                  130006\n",
       "dtype: int64"
      ]
     },
     "execution_count": 139,
     "metadata": {},
     "output_type": "execute_result"
    }
   ],
   "source": [
    "df_ra.count()"
   ]
  },
  {
   "cell_type": "code",
   "execution_count": 140,
   "metadata": {
    "collapsed": true
   },
   "outputs": [],
   "source": [
    "df_ra_groupby = df_ra.groupby('probeid')\n",
    "df_ra_agg = df_ra_groupby['lastmile'].agg(['median'])\n",
    "df_ra_merged = pd.merge(df_ra, df_ra_agg, left_on='probeid', right_index=True)\n",
    "\n",
    "del df_ra_merged['timestamp']\n",
    "del df_ra_merged['h1h2']\n",
    "del df_ra_merged['lastmile']\n",
    "\n",
    "df_ra_merged = df_ra_merged.drop_duplicates()\n",
    "df_ra_merged.rename(columns={'median': 'lastmile_median'}, inplace=True)"
   ]
  },
  {
   "cell_type": "code",
   "execution_count": 141,
   "metadata": {
    "collapsed": false
   },
   "outputs": [
    {
     "name": "stderr",
     "output_type": "stream",
     "text": [
      "/home/vbajpai/.virtualenvs/ripeatlas-v6-caches-data-collection-analysis-python3/lib/python3.4/site-packages/ipykernel/__main__.py:1: FutureWarning: sort(columns=....) is deprecated, use sort_values(by=.....)\n",
      "  if __name__ == '__main__':\n"
     ]
    }
   ],
   "source": [
    "df_ra_merged = df_ra_merged.sort('lastmile_median')"
   ]
  },
  {
   "cell_type": "code",
   "execution_count": 142,
   "metadata": {
    "collapsed": false
   },
   "outputs": [
    {
     "data": {
      "text/plain": [
       "probeid                   691\n",
       "latitude                  691\n",
       "longitude                 691\n",
       "asn                       691\n",
       "asn_holder_name           691\n",
       "asn_access_type           691\n",
       "access_type_technology    221\n",
       "lastmile_median           691\n",
       "dtype: int64"
      ]
     },
     "execution_count": 142,
     "metadata": {},
     "output_type": "execute_result"
    }
   ],
   "source": [
    "df_ra_merged.count()"
   ]
  },
  {
   "cell_type": "code",
   "execution_count": 143,
   "metadata": {
    "collapsed": false
   },
   "outputs": [
    {
     "data": {
      "text/html": [
       "<div>\n",
       "<table border=\"1\" class=\"dataframe\">\n",
       "  <thead>\n",
       "    <tr style=\"text-align: right;\">\n",
       "      <th></th>\n",
       "      <th>probeid</th>\n",
       "      <th>latitude</th>\n",
       "      <th>longitude</th>\n",
       "      <th>asn</th>\n",
       "      <th>asn_holder_name</th>\n",
       "      <th>asn_access_type</th>\n",
       "      <th>access_type_technology</th>\n",
       "      <th>lastmile_median</th>\n",
       "    </tr>\n",
       "  </thead>\n",
       "  <tbody>\n",
       "    <tr>\n",
       "      <th>71433</th>\n",
       "      <td>14682</td>\n",
       "      <td>51.7385</td>\n",
       "      <td>-0.2985</td>\n",
       "      <td>13037</td>\n",
       "      <td>ZEN-AS Zen Internet Ltd,GB</td>\n",
       "      <td>DSL</td>\n",
       "      <td>DSL</td>\n",
       "      <td>-83.901</td>\n",
       "    </tr>\n",
       "    <tr>\n",
       "      <th>81120</th>\n",
       "      <td>15389</td>\n",
       "      <td>52.3315</td>\n",
       "      <td>4.9615</td>\n",
       "      <td>3265</td>\n",
       "      <td>XS4ALL-NL XS4ALL Internet BV,NL</td>\n",
       "      <td>DSL</td>\n",
       "      <td>DSL</td>\n",
       "      <td>-72.740</td>\n",
       "    </tr>\n",
       "    <tr>\n",
       "      <th>68553</th>\n",
       "      <td>14582</td>\n",
       "      <td>51.7285</td>\n",
       "      <td>-4.9185</td>\n",
       "      <td>2856</td>\n",
       "      <td>BT-UK-AS BT Public Internet Service,GB</td>\n",
       "      <td>DSL</td>\n",
       "      <td>None</td>\n",
       "      <td>-39.872</td>\n",
       "    </tr>\n",
       "    <tr>\n",
       "      <th>94226</th>\n",
       "      <td>16233</td>\n",
       "      <td>52.4985</td>\n",
       "      <td>5.7485</td>\n",
       "      <td>3265</td>\n",
       "      <td>XS4ALL-NL XS4ALL Internet BV,NL</td>\n",
       "      <td>DSL</td>\n",
       "      <td>None</td>\n",
       "      <td>0.007</td>\n",
       "    </tr>\n",
       "    <tr>\n",
       "      <th>208</th>\n",
       "      <td>10007</td>\n",
       "      <td>38.3205</td>\n",
       "      <td>-122.3225</td>\n",
       "      <td>7922</td>\n",
       "      <td>COMCAST-7922 - Comcast Cable Communications, I...</td>\n",
       "      <td>CABLE</td>\n",
       "      <td>CABLE</td>\n",
       "      <td>0.049</td>\n",
       "    </tr>\n",
       "  </tbody>\n",
       "</table>\n",
       "</div>"
      ],
      "text/plain": [
       "       probeid  latitude  longitude    asn  \\\n",
       "71433    14682   51.7385    -0.2985  13037   \n",
       "81120    15389   52.3315     4.9615   3265   \n",
       "68553    14582   51.7285    -4.9185   2856   \n",
       "94226    16233   52.4985     5.7485   3265   \n",
       "208      10007   38.3205  -122.3225   7922   \n",
       "\n",
       "                                         asn_holder_name asn_access_type  \\\n",
       "71433                         ZEN-AS Zen Internet Ltd,GB             DSL   \n",
       "81120                    XS4ALL-NL XS4ALL Internet BV,NL             DSL   \n",
       "68553             BT-UK-AS BT Public Internet Service,GB             DSL   \n",
       "94226                    XS4ALL-NL XS4ALL Internet BV,NL             DSL   \n",
       "208    COMCAST-7922 - Comcast Cable Communications, I...           CABLE   \n",
       "\n",
       "      access_type_technology  lastmile_median  \n",
       "71433                    DSL          -83.901  \n",
       "81120                    DSL          -72.740  \n",
       "68553                   None          -39.872  \n",
       "94226                   None            0.007  \n",
       "208                    CABLE            0.049  "
      ]
     },
     "execution_count": 143,
     "metadata": {},
     "output_type": "execute_result"
    }
   ],
   "source": [
    "df_ra_merged.head()"
   ]
  },
  {
   "cell_type": "code",
   "execution_count": 144,
   "metadata": {
    "collapsed": false
   },
   "outputs": [
    {
     "name": "stdout",
     "output_type": "stream",
     "text": [
      "10151\n"
     ]
    }
   ],
   "source": [
    "def myfunc(x):\n",
    "    count = 0\n",
    "    manual = x['asn_access_type']; rdns = x['access_type_technology']\n",
    "    \n",
    "    chosen = None\n",
    "    if manual is None and rdns is None: chosen = None\n",
    "    elif manual is None and rdns is not None: chosen = rdns\n",
    "    elif manual is not None and rdns is None: chosen = manual\n",
    "    elif manual == rdns: chosen = rdns\n",
    "    elif manual != rdns:\n",
    "        if rdns == 'FIBRE': chosen = rdns    \n",
    "        else: print(x['probeid']); count += 1\n",
    "    else: print('wow!')   \n",
    "        \n",
    "    return chosen\n",
    "\n",
    "df_ra_merged['chosen'] = df_ra_merged.apply(myfunc, axis=1)"
   ]
  },
  {
   "cell_type": "code",
   "execution_count": 145,
   "metadata": {
    "collapsed": false
   },
   "outputs": [
    {
     "data": {
      "text/plain": [
       "probeid                   691\n",
       "latitude                  691\n",
       "longitude                 691\n",
       "asn                       691\n",
       "asn_holder_name           691\n",
       "asn_access_type           691\n",
       "access_type_technology    221\n",
       "lastmile_median           691\n",
       "chosen                    690\n",
       "dtype: int64"
      ]
     },
     "execution_count": 145,
     "metadata": {},
     "output_type": "execute_result"
    }
   ],
   "source": [
    "df_ra_merged.count()"
   ]
  },
  {
   "cell_type": "code",
   "execution_count": 146,
   "metadata": {
    "collapsed": true
   },
   "outputs": [],
   "source": [
    "def create_pretty_node_names(asn, holder):\n",
    "    \n",
    "    d = {\n",
    "          'NTL'        : 'VIRGINMEDIA'\n",
    "        , 'AS3215'     : 'ORANGE'        \n",
    "        , 'VODANET'    : 'VODAFONE'\n",
    "        , 'PROXAD'     : 'FREE'\n",
    "        , 'ROADRUNNER' : 'TWC'\n",
    "        , 'TDDE'       : 'TELEFONICA-DE'\n",
    "        , 'TT'         : 'TALKTALK'\n",
    "    }\n",
    "    \n",
    "    firstname = holder.split('-')[0].split(' ')[0]\n",
    "    try: firstname = d[firstname]\n",
    "    except Exception as e: pass\n",
    "    \n",
    "    if 'AS' in str(asn): nodename = '%s (%s)'%(firstname, asn)\n",
    "    else: nodename = '%s (AS%s)'%(firstname, asn)\n",
    "    return nodename\n",
    "\n",
    "def myfunc(x):\n",
    "    asn = x['asn']; holder = x['asn_holder_name']; \n",
    "    nodename = create_pretty_node_names(asn, holder)\n",
    "    x['nodename'] = nodename\n",
    "    return x\n",
    "\n",
    "df_ra_merged = df_ra_merged.apply(myfunc, axis=1)"
   ]
  },
  {
   "cell_type": "code",
   "execution_count": 147,
   "metadata": {
    "collapsed": true
   },
   "outputs": [],
   "source": [
    "del df_ra_merged['asn_access_type']\n",
    "del df_ra_merged['access_type_technology']\n",
    "del df_ra_merged['asn']\n",
    "del df_ra_merged['asn_holder_name']"
   ]
  },
  {
   "cell_type": "code",
   "execution_count": 148,
   "metadata": {
    "collapsed": true
   },
   "outputs": [],
   "source": [
    "df_ra = df_ra_merged.dropna()"
   ]
  },
  {
   "cell_type": "code",
   "execution_count": 149,
   "metadata": {
    "collapsed": false
   },
   "outputs": [
    {
     "data": {
      "text/plain": [
       "probeid            690\n",
       "latitude           690\n",
       "longitude          690\n",
       "lastmile_median    690\n",
       "chosen             690\n",
       "nodename           690\n",
       "dtype: int64"
      ]
     },
     "execution_count": 149,
     "metadata": {},
     "output_type": "execute_result"
    }
   ],
   "source": [
    "df_ra.count()"
   ]
  },
  {
   "cell_type": "code",
   "execution_count": 150,
   "metadata": {
    "collapsed": false
   },
   "outputs": [
    {
     "data": {
      "text/html": [
       "<div>\n",
       "<table border=\"1\" class=\"dataframe\">\n",
       "  <thead>\n",
       "    <tr style=\"text-align: right;\">\n",
       "      <th></th>\n",
       "      <th>probeid</th>\n",
       "      <th>latitude</th>\n",
       "      <th>longitude</th>\n",
       "      <th>lastmile_median</th>\n",
       "      <th>chosen</th>\n",
       "      <th>nodename</th>\n",
       "    </tr>\n",
       "  </thead>\n",
       "  <tbody>\n",
       "    <tr>\n",
       "      <th>71433</th>\n",
       "      <td>14682</td>\n",
       "      <td>51.7385</td>\n",
       "      <td>-0.2985</td>\n",
       "      <td>-83.901</td>\n",
       "      <td>DSL</td>\n",
       "      <td>ZEN (AS13037)</td>\n",
       "    </tr>\n",
       "    <tr>\n",
       "      <th>81120</th>\n",
       "      <td>15389</td>\n",
       "      <td>52.3315</td>\n",
       "      <td>4.9615</td>\n",
       "      <td>-72.740</td>\n",
       "      <td>DSL</td>\n",
       "      <td>XS4ALL (AS3265)</td>\n",
       "    </tr>\n",
       "    <tr>\n",
       "      <th>68553</th>\n",
       "      <td>14582</td>\n",
       "      <td>51.7285</td>\n",
       "      <td>-4.9185</td>\n",
       "      <td>-39.872</td>\n",
       "      <td>DSL</td>\n",
       "      <td>BT (AS2856)</td>\n",
       "    </tr>\n",
       "    <tr>\n",
       "      <th>94226</th>\n",
       "      <td>16233</td>\n",
       "      <td>52.4985</td>\n",
       "      <td>5.7485</td>\n",
       "      <td>0.007</td>\n",
       "      <td>DSL</td>\n",
       "      <td>XS4ALL (AS3265)</td>\n",
       "    </tr>\n",
       "    <tr>\n",
       "      <th>208</th>\n",
       "      <td>10007</td>\n",
       "      <td>38.3205</td>\n",
       "      <td>-122.3225</td>\n",
       "      <td>0.049</td>\n",
       "      <td>CABLE</td>\n",
       "      <td>COMCAST (AS7922)</td>\n",
       "    </tr>\n",
       "  </tbody>\n",
       "</table>\n",
       "</div>"
      ],
      "text/plain": [
       "       probeid  latitude  longitude  lastmile_median chosen          nodename\n",
       "71433    14682   51.7385    -0.2985          -83.901    DSL     ZEN (AS13037)\n",
       "81120    15389   52.3315     4.9615          -72.740    DSL   XS4ALL (AS3265)\n",
       "68553    14582   51.7285    -4.9185          -39.872    DSL       BT (AS2856)\n",
       "94226    16233   52.4985     5.7485            0.007    DSL   XS4ALL (AS3265)\n",
       "208      10007   38.3205  -122.3225            0.049  CABLE  COMCAST (AS7922)"
      ]
     },
     "execution_count": 150,
     "metadata": {},
     "output_type": "execute_result"
    }
   ],
   "source": [
    "df_ra_merged.head()"
   ]
  },
  {
   "cell_type": "code",
   "execution_count": 151,
   "metadata": {
    "collapsed": true
   },
   "outputs": [],
   "source": [
    "df_ra_dsl   = df_ra[df_ra.chosen == 'DSL']\n",
    "df_ra_cable = df_ra[df_ra.chosen == 'CABLE']\n",
    "df_ra_fibre = df_ra[df_ra.chosen == 'FIBRE']"
   ]
  },
  {
   "cell_type": "code",
   "execution_count": 152,
   "metadata": {
    "collapsed": true
   },
   "outputs": [],
   "source": [
    "from mpl_toolkits.basemap import Basemap"
   ]
  },
  {
   "cell_type": "code",
   "execution_count": 153,
   "metadata": {
    "collapsed": true
   },
   "outputs": [],
   "source": [
    "def probes_in_region(df, llcrnrlat, llcrnrlon, urcrnrlat, urcrnrlon):\n",
    "    count = 0\n",
    "    for x,y in zip (df['latitude'].values, df['longitude'].values):\n",
    "        if (x > llcrnrlat and y > llcrnrlon and x < urcrnrlat and y < urcrnrlon):\n",
    "            count+=1\n",
    "    return count"
   ]
  },
  {
   "cell_type": "code",
   "execution_count": 154,
   "metadata": {
    "collapsed": false
   },
   "outputs": [],
   "source": [
    "df_comcast = df_ra[df_ra.nodename == 'COMCAST (AS7922)']\n",
    "df_twc = df_ra[df_ra.nodename == 'TWC (AS20001)']"
   ]
  },
  {
   "cell_type": "code",
   "execution_count": 155,
   "metadata": {
    "collapsed": false
   },
   "outputs": [
    {
     "data": {
      "image/png": "[encoded data removed]",
      "text/plain": [
       "<matplotlib.figure.Figure at 0x7f2912039550>"
      ]
     },
     "metadata": {},
     "output_type": "display_data"
    }
   ],
   "source": [
    "plt.style.use('ggplot')\n",
    "fig = plt.figure(figsize=(10,9))\n",
    "plt.rcParams['font.size'] = 22\n",
    "\n",
    "m = Basemap (  projection    =    'merc'\n",
    "             \n",
    "             , llcrnrlat     =    +24.04529  \n",
    "             , llcrnrlon     =    -128.82032\n",
    "             \n",
    "             , urcrnrlat     =    +49.55921 \n",
    "             , urcrnrlon     =    -64.90235 \n",
    "             \n",
    "             , lat_ts        =    20\n",
    "             , resolution    =    'c'\n",
    "            )\n",
    "\n",
    "m.drawcoastlines()\n",
    "m.drawmapboundary(fill_color='white')\n",
    "\n",
    "x,y = m(df_comcast['longitude'].values, df_comcast['latitude'].values)\n",
    "z = df_comcast['lastmile_median'].values\n",
    "m.hexbin(  x, y, C=z, gridsize = 15, reduce_C_function = numpy.median, mincnt = 1, cmap = 'coolwarm')\n",
    "\n",
    "cb = m.colorbar(format='%02d ms')\n",
    "#cb.set_ticks([1, 2, 4, 8, 16, 32, 64])\n",
    "nodename = df_comcast['nodename'].values[0]\n",
    "nodename = nodename.split()[0]\n",
    "plt.title('%s (RIPE Atlas)'%nodename, fontsize=22, y=1.02)\n",
    "nodename = nodename.split()[0]\n",
    "plt.savefig('%s-lastmile-latency-geo-map.pdf'%(nodename), format='pdf', bbox_inches='tight')"
   ]
  },
  {
   "cell_type": "code",
   "execution_count": 156,
   "metadata": {
    "collapsed": false
   },
   "outputs": [],
   "source": [
    "def draw_uk_plots(df, cmap):\n",
    "\n",
    "    plt.style.use('ggplot')\n",
    "    fig = plt.figure(figsize=(9,7))\n",
    "    plt.rcParams['font.size'] = 22\n",
    "\n",
    "    llcrnrlat     =    +48.31559   \n",
    "    llcrnrlon     =    -8.53932 \n",
    "    urcrnrlat     =    +58.28890                \n",
    "    urcrnrlon     =    +3.32592\n",
    "\n",
    "    m = Basemap (  projection    =    'merc'\n",
    "\n",
    "                 , llcrnrlat     =    llcrnrlat\n",
    "                 , llcrnrlon     =    llcrnrlon\n",
    "\n",
    "                 , urcrnrlat     =    urcrnrlat                \n",
    "                 , urcrnrlon     =    urcrnrlon\n",
    "\n",
    "                 , lat_ts        =    20\n",
    "                 , resolution    =    'c'\n",
    "                )\n",
    "\n",
    "    m.drawcoastlines()\n",
    "    m.drawmapboundary(fill_color='white')\n",
    "    m.drawcountries()\n",
    "\n",
    "    x,y = m(df['longitude'].values, df['latitude'].values)\n",
    "    z = df['lastmile_median'].values\n",
    "\n",
    "    m.hexbin(  x, y, C=z, gridsize = 15\n",
    "             , reduce_C_function = numpy.median, mincnt = 1, cmap = cmap)\n",
    "    cb = m.colorbar(format='%02d ms')\n",
    "    #cb.set_ticks([1, 2, 4, 8, 16, 32, 64])\n",
    "\n",
    "    nodename = df['nodename'].values[0]\n",
    "    nodename = nodename.split()[0]\n",
    "    plt.title('%s (SamKnows)'%nodename, fontsize=22, y=1.02)\n",
    "    nodename = nodename.split()[0]\n",
    "    plt.savefig('%s-lastmile-latency-geo-map.pdf'%(nodename), format='pdf', bbox_inches='tight')"
   ]
  },
  {
   "cell_type": "code",
   "execution_count": 157,
   "metadata": {
    "collapsed": false
   },
   "outputs": [],
   "source": [
    "df_bt = df_sk[df_sk.nodename == 'BT (AS2856)']\n",
    "df_bt = df_bt[df_bt.lastmile_median > 0]\n",
    "df_bt = df_bt[df_bt.lastmile_median < 64]"
   ]
  },
  {
   "cell_type": "code",
   "execution_count": 158,
   "metadata": {
    "collapsed": false
   },
   "outputs": [],
   "source": [
    "df_vm = df_sk[df_sk.nodename == 'VIRGINMEDIA (AS5089)']\n",
    "df_vm = df_vm[df_vm.lastmile_median > 0]\n",
    "df_vm = df_vm[df_vm.lastmile_median < 64]"
   ]
  },
  {
   "cell_type": "code",
   "execution_count": 159,
   "metadata": {
    "collapsed": false
   },
   "outputs": [],
   "source": [
    "df_ot = df_sk[df_sk.nodename == 'OPALTELECOM (AS13285)']\n",
    "df_tc = df_sk[df_sk.nodename == 'TISCALI (AS9105)']\n",
    "df_tt = df_sk[df_sk.nodename == 'TALKTALK (AS43234)']\n",
    "df_ta = pd.concat([df_ot, df_tc, df_tt])\n",
    "df_ta['nodename'] = 'TALKTALK'\n",
    "\n",
    "df_ta = df_ta[df_ta.lastmile_median > 0]\n",
    "df_ta = df_ta[df_ta.lastmile_median < 64]"
   ]
  },
  {
   "cell_type": "code",
   "execution_count": 160,
   "metadata": {
    "collapsed": false
   },
   "outputs": [
    {
     "data": {
      "image/png": "[encoded data removed]",
      "text/plain": [
       "<matplotlib.figure.Figure at 0x7f291352a320>"
      ]
     },
     "metadata": {},
     "output_type": "display_data"
    }
   ],
   "source": [
    "draw_uk_plots(df_bt, cmap = 'coolwarm')"
   ]
  },
  {
   "cell_type": "code",
   "execution_count": 161,
   "metadata": {
    "collapsed": false
   },
   "outputs": [
    {
     "data": {
      "image/png": "[encoded data removed]",
      "text/plain": [
       "<matplotlib.figure.Figure at 0x7f29126976d8>"
      ]
     },
     "metadata": {},
     "output_type": "display_data"
    }
   ],
   "source": [
    "draw_uk_plots(df_vm, cmap = 'coolwarm')"
   ]
  },
  {
   "cell_type": "code",
   "execution_count": 162,
   "metadata": {
    "collapsed": false
   },
   "outputs": [
    {
     "data": {
      "image/png": "[encoded data removed]",
      "text/plain": [
       "<matplotlib.figure.Figure at 0x7f29109ab240>"
      ]
     },
     "metadata": {},
     "output_type": "display_data"
    }
   ],
   "source": [
    "draw_uk_plots(df_ta, cmap = 'coolwarm')"
   ]
  },
  {
   "cell_type": "code",
   "execution_count": 163,
   "metadata": {
    "collapsed": true
   },
   "outputs": [],
   "source": [
    "df_fr = df_ra[df_ra.nodename == 'FREE (AS12322)']\n",
    "df_fr = df_fr[df_fr.lastmile_median > 0]"
   ]
  },
  {
   "cell_type": "code",
   "execution_count": 164,
   "metadata": {
    "collapsed": false
   },
   "outputs": [
    {
     "data": {
      "image/png": "[encoded data removed]",
      "text/plain": [
       "<matplotlib.figure.Figure at 0x7f2919437630>"
      ]
     },
     "metadata": {},
     "output_type": "display_data"
    }
   ],
   "source": [
    "plt.style.use('ggplot')\n",
    "fig = plt.figure(figsize=(6,9))\n",
    "plt.rcParams['font.size'] = 22\n",
    "\n",
    "llcrnrlat     =    +41.61900  \n",
    "llcrnrlon     =    -05.04945\n",
    "urcrnrlat     =    +52.11639              \n",
    "urcrnrlon     =    +10.67711\n",
    "\n",
    "m = Basemap (  projection    =    'merc'\n",
    "             \n",
    "             , llcrnrlat     =    llcrnrlat\n",
    "             , llcrnrlon     =    llcrnrlon\n",
    "             \n",
    "             , urcrnrlat     =    urcrnrlat         \n",
    "             , urcrnrlon     =    urcrnrlon\n",
    "             \n",
    "             , lat_ts        =    20\n",
    "             , resolution    =    'c'\n",
    "            )\n",
    "\n",
    "m.drawcoastlines()\n",
    "m.drawmapboundary(fill_color='white')\n",
    "m.drawcountries()\n",
    "\n",
    "x,y = m(df_fr['longitude'].values, df_fr['latitude'].values)\n",
    "z = df_fr['lastmile_median'].values\n",
    "\n",
    "m.hexbin(  x, y, C=z, gridsize = 15\n",
    "         , reduce_C_function = numpy.median, mincnt = 1, cmap = 'coolwarm')\n",
    "cb = m.colorbar(format='%02d ms')\n",
    "#cb.set_ticks([1, 2, 4, 8, 16, 32, 64])\n",
    "nodename = df_fr['nodename'].values[0]\n",
    "nodename = nodename.split()[0]\n",
    "plt.title('%s (RIPE Atlas)'%nodename, fontsize=22, y=1.02)\n",
    "nodename = nodename.split()[0]\n",
    "plt.savefig('%s-lastmile-latency-geo-map.pdf'%(nodename), format='pdf', bbox_inches='tight')"
   ]
  }
 ],
 "metadata": {
  "kernelspec": {
   "display_name": "Python 3",
   "language": "python",
   "name": "python3"
  },
  "language_info": {
   "codemirror_mode": {
    "name": "ipython",
    "version": 3
   },
   "file_extension": ".py",
   "mimetype": "text/x-python",
   "name": "python",
   "nbconvert_exporter": "python",
   "pygments_lexer": "ipython3",
   "version": "3.4.2"
  }
 },
 "nbformat": 4,
 "nbformat_minor": 0
}
