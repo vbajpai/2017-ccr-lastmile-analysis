{
 "cells": [
  {
   "cell_type": "markdown",
   "metadata": {},
   "source": [
    "*This notebook gets the number of atlas v3 residential and samknows residential probes for each ASN (having equal or more than 10 probes) which ran month-long measurements. It uses this data to plot the distribution of ^ probes within each AS.*\n",
    "- - - "
   ]
  },
  {
   "cell_type": "code",
   "execution_count": 1,
   "metadata": {
    "collapsed": false
   },
   "outputs": [
    {
     "name": "stdout",
     "output_type": "stream",
     "text": [
      "Populating the interactive namespace from numpy and matplotlib\n"
     ]
    }
   ],
   "source": [
    "%pylab inline"
   ]
  },
  {
   "cell_type": "code",
   "execution_count": 2,
   "metadata": {
    "collapsed": false
   },
   "outputs": [],
   "source": [
    "import sqlite3\n",
    "import pandas as pd\n",
    "import requests\n",
    "import ipaddress\n",
    "import time"
   ]
  },
  {
   "cell_type": "code",
   "execution_count": 3,
   "metadata": {
    "collapsed": true
   },
   "outputs": [],
   "source": [
    "DB_LOCATION = 'lastmile.db'"
   ]
  },
  {
   "cell_type": "code",
   "execution_count": 4,
   "metadata": {
    "collapsed": true
   },
   "outputs": [],
   "source": [
    "RA_PROBE = 'ra_probe'\n",
    "RA_PROBE_API = 'ra_probe_api'\n",
    "RA_ASN = 'ra_asn'\n",
    "RA_ONE_OFF_EXTENSIONS = 'ra_one_off_extensions'\n",
    "RA_LATENCIES_AGG = 'ra_latencies_agg'"
   ]
  },
  {
   "cell_type": "code",
   "execution_count": 5,
   "metadata": {
    "collapsed": true
   },
   "outputs": [],
   "source": [
    "METADATA_SNAPSHOT_EXTENSIONS = 'metadata_snapshot_extensions'\n",
    "SK_ONE_OFF_EXTENSIONS = 'sk_one_off_extensions'\n",
    "SK_ASN = 'sk_asn'"
   ]
  },
  {
   "cell_type": "code",
   "execution_count": 6,
   "metadata": {
    "collapsed": false
   },
   "outputs": [],
   "source": [
    "con = sqlite3.connect(DB_LOCATION)"
   ]
  },
  {
   "cell_type": "code",
   "execution_count": 7,
   "metadata": {
    "collapsed": true
   },
   "outputs": [],
   "source": [
    "query_sk = ''' SELECT     s.asn\n",
    "                        , s.asn_holder_name\n",
    "                        , s.asn_access_type\n",
    "                        , count(distinct(oe.probeid)) as probes\n",
    "                                                                                      \n",
    "               FROM       %s                            as   se\n",
    "                        , %s                            as   oe\n",
    "                        , %s                            as   s \n",
    "\n",
    "               WHERE      se.probeid                    =    oe.probeid\n",
    "               AND        se.asn                        =    s.asn     \n",
    "               AND        oe.if_residential             =    1         \n",
    "                                                       \n",
    "\n",
    "               GROUP BY s.asn\n",
    "               HAVING probes >= 10\n",
    "               \n",
    "               ORDER BY asn_access_type, probes DESC               \n",
    "               \n",
    "           '''%(   METADATA_SNAPSHOT_EXTENSIONS\n",
    "                 , SK_ONE_OFF_EXTENSIONS\n",
    "                 , SK_ASN\n",
    "               )\n",
    "\n",
    "df_sk = pd.read_sql(query_sk, con)"
   ]
  },
  {
   "cell_type": "code",
   "execution_count": 8,
   "metadata": {
    "collapsed": false
   },
   "outputs": [],
   "source": [
    "query_ra = '''SELECT    s.asn             \n",
    "                      , s.asn_holder_name\n",
    "                      , s.asn_access_type\n",
    "                      , count(distinct(agg.probeid)) as probes\n",
    "\n",
    "               FROM   %s                             as  agg\n",
    "                    , %s                             as  api\n",
    "                    , %s                             as  s\n",
    "                    , %s                             as  hardware\n",
    "                    , %s                             as  ext\n",
    "\n",
    "               WHERE     agg.probeid                  =  api.probeid\n",
    "               AND       agg.probeid                  =  hardware.probeid\n",
    "               AND       agg.probeid                  =  ext.probeid\n",
    "\n",
    "               AND       api.asn_v4                   =  s.asn\n",
    "               AND       hardware.hardware_version    =  'v3'\n",
    "               AND       ext.if_residential           =  1\n",
    "\n",
    "\n",
    "\n",
    "               GROUP BY s.asn\n",
    "               HAVING probes >= 10\n",
    "               \n",
    "               ORDER BY asn_access_type, probes DESC\n",
    "\n",
    "            '''%(  RA_LATENCIES_AGG\n",
    "                 , RA_PROBE_API\n",
    "                 , RA_ASN\n",
    "                 , RA_PROBE\n",
    "                 , RA_ONE_OFF_EXTENSIONS\n",
    "                )\n",
    "\n",
    "df_ra = pd.read_sql(query_ra, con)"
   ]
  },
  {
   "cell_type": "code",
   "execution_count": 9,
   "metadata": {
    "collapsed": false
   },
   "outputs": [
    {
     "data": {
      "text/plain": [
       "asn                19\n",
       "asn_holder_name    19\n",
       "asn_access_type    19\n",
       "probes             19\n",
       "dtype: int64"
      ]
     },
     "execution_count": 9,
     "metadata": {},
     "output_type": "execute_result"
    }
   ],
   "source": [
    "df_ra.count()"
   ]
  },
  {
   "cell_type": "code",
   "execution_count": 10,
   "metadata": {
    "collapsed": false
   },
   "outputs": [
    {
     "data": {
      "text/html": [
       "<div>\n",
       "<table border=\"1\" class=\"dataframe\">\n",
       "  <thead>\n",
       "    <tr style=\"text-align: right;\">\n",
       "      <th></th>\n",
       "      <th>asn</th>\n",
       "      <th>asn_holder_name</th>\n",
       "      <th>asn_access_type</th>\n",
       "      <th>probes</th>\n",
       "    </tr>\n",
       "  </thead>\n",
       "  <tbody>\n",
       "    <tr>\n",
       "      <th>0</th>\n",
       "      <td>7922</td>\n",
       "      <td>COMCAST-7922 - Comcast Cable Communications, I...</td>\n",
       "      <td>CABLE</td>\n",
       "      <td>122</td>\n",
       "    </tr>\n",
       "    <tr>\n",
       "      <th>1</th>\n",
       "      <td>6848</td>\n",
       "      <td>TELENET-AS Telenet N.V.,BE</td>\n",
       "      <td>CABLE</td>\n",
       "      <td>30</td>\n",
       "    </tr>\n",
       "    <tr>\n",
       "      <th>2</th>\n",
       "      <td>6830</td>\n",
       "      <td>LGI-UPC Liberty Global Operations B.V.,AT</td>\n",
       "      <td>CABLE</td>\n",
       "      <td>23</td>\n",
       "    </tr>\n",
       "    <tr>\n",
       "      <th>3</th>\n",
       "      <td>5089</td>\n",
       "      <td>NTL Virgin Media Limited,GB</td>\n",
       "      <td>CABLE</td>\n",
       "      <td>20</td>\n",
       "    </tr>\n",
       "    <tr>\n",
       "      <th>4</th>\n",
       "      <td>9143</td>\n",
       "      <td>ZIGGO Ziggo B.V.,NL</td>\n",
       "      <td>CABLE</td>\n",
       "      <td>19</td>\n",
       "    </tr>\n",
       "    <tr>\n",
       "      <th>5</th>\n",
       "      <td>20001</td>\n",
       "      <td>ROADRUNNER-WEST - Time Warner Cable Internet L...</td>\n",
       "      <td>CABLE</td>\n",
       "      <td>16</td>\n",
       "    </tr>\n",
       "    <tr>\n",
       "      <th>6</th>\n",
       "      <td>12322</td>\n",
       "      <td>PROXAD Free SAS,FR</td>\n",
       "      <td>DSL</td>\n",
       "      <td>137</td>\n",
       "    </tr>\n",
       "    <tr>\n",
       "      <th>7</th>\n",
       "      <td>3320</td>\n",
       "      <td>DTAG Deutsche Telekom AG,DE</td>\n",
       "      <td>DSL</td>\n",
       "      <td>61</td>\n",
       "    </tr>\n",
       "    <tr>\n",
       "      <th>8</th>\n",
       "      <td>3215</td>\n",
       "      <td>AS3215 Orange S.A.,FR</td>\n",
       "      <td>DSL</td>\n",
       "      <td>60</td>\n",
       "    </tr>\n",
       "    <tr>\n",
       "      <th>9</th>\n",
       "      <td>3265</td>\n",
       "      <td>XS4ALL-NL XS4ALL Internet BV,NL</td>\n",
       "      <td>DSL</td>\n",
       "      <td>30</td>\n",
       "    </tr>\n",
       "    <tr>\n",
       "      <th>10</th>\n",
       "      <td>15557</td>\n",
       "      <td>LDCOMNET Societe Francaise du Radiotelephone S...</td>\n",
       "      <td>DSL</td>\n",
       "      <td>29</td>\n",
       "    </tr>\n",
       "    <tr>\n",
       "      <th>11</th>\n",
       "      <td>35540</td>\n",
       "      <td>OVH-TELECOM OVH SAS,FR</td>\n",
       "      <td>DSL</td>\n",
       "      <td>29</td>\n",
       "    </tr>\n",
       "    <tr>\n",
       "      <th>12</th>\n",
       "      <td>5432</td>\n",
       "      <td>BELGACOM-SKYNET-AS BELGACOM S.A.,BE</td>\n",
       "      <td>DSL</td>\n",
       "      <td>25</td>\n",
       "    </tr>\n",
       "    <tr>\n",
       "      <th>13</th>\n",
       "      <td>701</td>\n",
       "      <td>UUNET - MCI Communications Services, Inc. d/b/...</td>\n",
       "      <td>DSL</td>\n",
       "      <td>23</td>\n",
       "    </tr>\n",
       "    <tr>\n",
       "      <th>14</th>\n",
       "      <td>2856</td>\n",
       "      <td>BT-UK-AS BT Public Internet Service,GB</td>\n",
       "      <td>DSL</td>\n",
       "      <td>23</td>\n",
       "    </tr>\n",
       "    <tr>\n",
       "      <th>15</th>\n",
       "      <td>6805</td>\n",
       "      <td>TDDE-ASN1 Telefonica Germany GmbH &amp; Co.OHG,DE</td>\n",
       "      <td>DSL</td>\n",
       "      <td>13</td>\n",
       "    </tr>\n",
       "    <tr>\n",
       "      <th>16</th>\n",
       "      <td>13037</td>\n",
       "      <td>ZEN-AS Zen Internet Ltd,GB</td>\n",
       "      <td>DSL</td>\n",
       "      <td>12</td>\n",
       "    </tr>\n",
       "    <tr>\n",
       "      <th>17</th>\n",
       "      <td>3209</td>\n",
       "      <td>VODANET Vodafone GmbH,DE</td>\n",
       "      <td>DSL</td>\n",
       "      <td>10</td>\n",
       "    </tr>\n",
       "    <tr>\n",
       "      <th>18</th>\n",
       "      <td>18106</td>\n",
       "      <td>VIEWQWEST-SG-AP Viewqwest Pte Ltd,SG</td>\n",
       "      <td>FIBRE</td>\n",
       "      <td>14</td>\n",
       "    </tr>\n",
       "  </tbody>\n",
       "</table>\n",
       "</div>"
      ],
      "text/plain": [
       "      asn                                    asn_holder_name asn_access_type  \\\n",
       "0    7922  COMCAST-7922 - Comcast Cable Communications, I...           CABLE   \n",
       "1    6848                         TELENET-AS Telenet N.V.,BE           CABLE   \n",
       "2    6830          LGI-UPC Liberty Global Operations B.V.,AT           CABLE   \n",
       "3    5089                        NTL Virgin Media Limited,GB           CABLE   \n",
       "4    9143                                ZIGGO Ziggo B.V.,NL           CABLE   \n",
       "5   20001  ROADRUNNER-WEST - Time Warner Cable Internet L...           CABLE   \n",
       "6   12322                                 PROXAD Free SAS,FR             DSL   \n",
       "7    3320                        DTAG Deutsche Telekom AG,DE             DSL   \n",
       "8    3215                              AS3215 Orange S.A.,FR             DSL   \n",
       "9    3265                    XS4ALL-NL XS4ALL Internet BV,NL             DSL   \n",
       "10  15557  LDCOMNET Societe Francaise du Radiotelephone S...             DSL   \n",
       "11  35540                             OVH-TELECOM OVH SAS,FR             DSL   \n",
       "12   5432                BELGACOM-SKYNET-AS BELGACOM S.A.,BE             DSL   \n",
       "13    701  UUNET - MCI Communications Services, Inc. d/b/...             DSL   \n",
       "14   2856             BT-UK-AS BT Public Internet Service,GB             DSL   \n",
       "15   6805      TDDE-ASN1 Telefonica Germany GmbH & Co.OHG,DE             DSL   \n",
       "16  13037                         ZEN-AS Zen Internet Ltd,GB             DSL   \n",
       "17   3209                           VODANET Vodafone GmbH,DE             DSL   \n",
       "18  18106               VIEWQWEST-SG-AP Viewqwest Pte Ltd,SG           FIBRE   \n",
       "\n",
       "    probes  \n",
       "0      122  \n",
       "1       30  \n",
       "2       23  \n",
       "3       20  \n",
       "4       19  \n",
       "5       16  \n",
       "6      137  \n",
       "7       61  \n",
       "8       60  \n",
       "9       30  \n",
       "10      29  \n",
       "11      29  \n",
       "12      25  \n",
       "13      23  \n",
       "14      23  \n",
       "15      13  \n",
       "16      12  \n",
       "17      10  \n",
       "18      14  "
      ]
     },
     "execution_count": 10,
     "metadata": {},
     "output_type": "execute_result"
    }
   ],
   "source": [
    "df_ra.head(n=19)"
   ]
  },
  {
   "cell_type": "code",
   "execution_count": 11,
   "metadata": {
    "collapsed": false
   },
   "outputs": [
    {
     "data": {
      "text/plain": [
       "asn                9\n",
       "asn_holder_name    9\n",
       "asn_access_type    9\n",
       "probes             9\n",
       "dtype: int64"
      ]
     },
     "execution_count": 11,
     "metadata": {},
     "output_type": "execute_result"
    }
   ],
   "source": [
    "df_sk.count()"
   ]
  },
  {
   "cell_type": "code",
   "execution_count": 12,
   "metadata": {
    "collapsed": false
   },
   "outputs": [
    {
     "data": {
      "text/html": [
       "<div>\n",
       "<table border=\"1\" class=\"dataframe\">\n",
       "  <thead>\n",
       "    <tr style=\"text-align: right;\">\n",
       "      <th></th>\n",
       "      <th>asn</th>\n",
       "      <th>asn_holder_name</th>\n",
       "      <th>asn_access_type</th>\n",
       "      <th>probes</th>\n",
       "    </tr>\n",
       "  </thead>\n",
       "  <tbody>\n",
       "    <tr>\n",
       "      <th>0</th>\n",
       "      <td>5089</td>\n",
       "      <td>NTL Virgin Media Limited,GB</td>\n",
       "      <td>CABLE</td>\n",
       "      <td>201</td>\n",
       "    </tr>\n",
       "    <tr>\n",
       "      <th>1</th>\n",
       "      <td>2856</td>\n",
       "      <td>BT-UK-AS BT Public Internet Service,GB</td>\n",
       "      <td>DSL</td>\n",
       "      <td>314</td>\n",
       "    </tr>\n",
       "    <tr>\n",
       "      <th>2</th>\n",
       "      <td>6871</td>\n",
       "      <td>PLUSNET PlusNet PLC,GB</td>\n",
       "      <td>DSL</td>\n",
       "      <td>271</td>\n",
       "    </tr>\n",
       "    <tr>\n",
       "      <th>3</th>\n",
       "      <td>13285</td>\n",
       "      <td>OPALTELECOM-AS TalkTalk Communications Limited,GB</td>\n",
       "      <td>DSL</td>\n",
       "      <td>132</td>\n",
       "    </tr>\n",
       "    <tr>\n",
       "      <th>4</th>\n",
       "      <td>12576</td>\n",
       "      <td>ORANGE-PCS Orange Personal Communications Serv...</td>\n",
       "      <td>DSL</td>\n",
       "      <td>82</td>\n",
       "    </tr>\n",
       "    <tr>\n",
       "      <th>5</th>\n",
       "      <td>9105</td>\n",
       "      <td>TISCALI-UK Tiscali UK,GB</td>\n",
       "      <td>DSL</td>\n",
       "      <td>73</td>\n",
       "    </tr>\n",
       "    <tr>\n",
       "      <th>6</th>\n",
       "      <td>5607</td>\n",
       "      <td>BSKYB-BROADBAND-AS British Sky Broadcasting Li...</td>\n",
       "      <td>DSL</td>\n",
       "      <td>36</td>\n",
       "    </tr>\n",
       "    <tr>\n",
       "      <th>7</th>\n",
       "      <td>13037</td>\n",
       "      <td>ZEN-AS Zen Internet Ltd,GB</td>\n",
       "      <td>DSL</td>\n",
       "      <td>35</td>\n",
       "    </tr>\n",
       "    <tr>\n",
       "      <th>8</th>\n",
       "      <td>43234</td>\n",
       "      <td>TT-AOLUK-AS TalkTalk Communications Limited,GB</td>\n",
       "      <td>DSL</td>\n",
       "      <td>34</td>\n",
       "    </tr>\n",
       "  </tbody>\n",
       "</table>\n",
       "</div>"
      ],
      "text/plain": [
       "     asn                                    asn_holder_name asn_access_type  \\\n",
       "0   5089                        NTL Virgin Media Limited,GB           CABLE   \n",
       "1   2856             BT-UK-AS BT Public Internet Service,GB             DSL   \n",
       "2   6871                             PLUSNET PlusNet PLC,GB             DSL   \n",
       "3  13285  OPALTELECOM-AS TalkTalk Communications Limited,GB             DSL   \n",
       "4  12576  ORANGE-PCS Orange Personal Communications Serv...             DSL   \n",
       "5   9105                           TISCALI-UK Tiscali UK,GB             DSL   \n",
       "6   5607  BSKYB-BROADBAND-AS British Sky Broadcasting Li...             DSL   \n",
       "7  13037                         ZEN-AS Zen Internet Ltd,GB             DSL   \n",
       "8  43234     TT-AOLUK-AS TalkTalk Communications Limited,GB             DSL   \n",
       "\n",
       "   probes  \n",
       "0     201  \n",
       "1     314  \n",
       "2     271  \n",
       "3     132  \n",
       "4      82  \n",
       "5      73  \n",
       "6      36  \n",
       "7      35  \n",
       "8      34  "
      ]
     },
     "execution_count": 12,
     "metadata": {},
     "output_type": "execute_result"
    }
   ],
   "source": [
    "df_sk.head(n=9)"
   ]
  },
  {
   "cell_type": "code",
   "execution_count": 13,
   "metadata": {
    "collapsed": false
   },
   "outputs": [],
   "source": [
    "def create_pretty_node_names(asn, holder):\n",
    "    \n",
    "    d = {\n",
    "          'NTL'        : 'VIRGINMEDIA'\n",
    "        , 'AS3215'     : 'ORANGE'        \n",
    "        , 'VODANET'    : 'VODAFONE'\n",
    "        , 'PROXAD'     : 'FREE'\n",
    "        , 'ROADRUNNER' : 'TWC'\n",
    "        , 'TDDE'       : 'TELEFONICA-DE'\n",
    "        , 'TT'         : 'TALKTALK'\n",
    "    }\n",
    "    \n",
    "    firstname = holder.split('-')[0].split(' ')[0]\n",
    "    try: firstname = d[firstname]\n",
    "    except Exception as e: pass\n",
    "    \n",
    "    if 'AS' in str(asn): nodename = '%s (%s)'%(firstname, asn)\n",
    "    else: nodename = '%s (AS%s)'%(firstname, asn)\n",
    "    return nodename"
   ]
  },
  {
   "cell_type": "code",
   "execution_count": 14,
   "metadata": {
    "collapsed": true
   },
   "outputs": [],
   "source": [
    "def myfunc(x):\n",
    "    asn = x['asn']; holder = x['asn_holder_name']; \n",
    "    nodename = create_pretty_node_names(asn, holder)\n",
    "    x['nodename'] = nodename\n",
    "    return x"
   ]
  },
  {
   "cell_type": "code",
   "execution_count": 15,
   "metadata": {
    "collapsed": false
   },
   "outputs": [],
   "source": [
    "df_ra = df_ra.apply(myfunc, axis=1)\n",
    "df_sk = df_sk.apply(myfunc, axis=1)"
   ]
  },
  {
   "cell_type": "code",
   "execution_count": 16,
   "metadata": {
    "collapsed": false
   },
   "outputs": [],
   "source": [
    "del df_ra['asn_holder_name']; del df_sk['asn_holder_name']\n",
    "del df_ra['asn']; del df_sk['asn']"
   ]
  },
  {
   "cell_type": "code",
   "execution_count": 17,
   "metadata": {
    "collapsed": true
   },
   "outputs": [],
   "source": [
    "del df_ra['asn_access_type']; del df_sk['asn_access_type']"
   ]
  },
  {
   "cell_type": "code",
   "execution_count": 18,
   "metadata": {
    "collapsed": false
   },
   "outputs": [
    {
     "name": "stderr",
     "output_type": "stream",
     "text": [
      "/home/vbajpai/.virtualenvs/lastmile-data-collection-analysis-python3/lib/python3.4/site-packages/ipykernel/__main__.py:1: FutureWarning: sort(columns=....) is deprecated, use sort_values(by=.....)\n",
      "  if __name__ == '__main__':\n",
      "/home/vbajpai/.virtualenvs/lastmile-data-collection-analysis-python3/lib/python3.4/site-packages/ipykernel/__main__.py:2: FutureWarning: sort(columns=....) is deprecated, use sort_values(by=.....)\n",
      "  from ipykernel import kernelapp as app\n"
     ]
    }
   ],
   "source": [
    "df_ra = df_ra.sort('probes')\n",
    "df_sk = df_sk.sort('probes')"
   ]
  },
  {
   "cell_type": "code",
   "execution_count": 19,
   "metadata": {
    "collapsed": false
   },
   "outputs": [],
   "source": [
    "df_ra = df_ra.reset_index()\n",
    "df_sk = df_sk.reset_index()"
   ]
  },
  {
   "cell_type": "code",
   "execution_count": 20,
   "metadata": {
    "collapsed": false
   },
   "outputs": [],
   "source": [
    "del df_ra['index']; del df_sk['index']"
   ]
  },
  {
   "cell_type": "code",
   "execution_count": 21,
   "metadata": {
    "collapsed": false
   },
   "outputs": [
    {
     "data": {
      "text/plain": [
       "probes      19\n",
       "nodename    19\n",
       "dtype: int64"
      ]
     },
     "execution_count": 21,
     "metadata": {},
     "output_type": "execute_result"
    }
   ],
   "source": [
    "df_ra.count()"
   ]
  },
  {
   "cell_type": "code",
   "execution_count": 22,
   "metadata": {
    "collapsed": false
   },
   "outputs": [
    {
     "data": {
      "text/html": [
       "<div>\n",
       "<table border=\"1\" class=\"dataframe\">\n",
       "  <thead>\n",
       "    <tr style=\"text-align: right;\">\n",
       "      <th></th>\n",
       "      <th>probes</th>\n",
       "      <th>nodename</th>\n",
       "    </tr>\n",
       "  </thead>\n",
       "  <tbody>\n",
       "    <tr>\n",
       "      <th>0</th>\n",
       "      <td>10</td>\n",
       "      <td>VODAFONE (AS3209)</td>\n",
       "    </tr>\n",
       "    <tr>\n",
       "      <th>1</th>\n",
       "      <td>12</td>\n",
       "      <td>ZEN (AS13037)</td>\n",
       "    </tr>\n",
       "    <tr>\n",
       "      <th>2</th>\n",
       "      <td>13</td>\n",
       "      <td>TELEFONICA-DE (AS6805)</td>\n",
       "    </tr>\n",
       "    <tr>\n",
       "      <th>3</th>\n",
       "      <td>14</td>\n",
       "      <td>VIEWQWEST (AS18106)</td>\n",
       "    </tr>\n",
       "    <tr>\n",
       "      <th>4</th>\n",
       "      <td>16</td>\n",
       "      <td>TWC (AS20001)</td>\n",
       "    </tr>\n",
       "    <tr>\n",
       "      <th>5</th>\n",
       "      <td>19</td>\n",
       "      <td>ZIGGO (AS9143)</td>\n",
       "    </tr>\n",
       "    <tr>\n",
       "      <th>6</th>\n",
       "      <td>20</td>\n",
       "      <td>VIRGINMEDIA (AS5089)</td>\n",
       "    </tr>\n",
       "    <tr>\n",
       "      <th>7</th>\n",
       "      <td>23</td>\n",
       "      <td>LGI (AS6830)</td>\n",
       "    </tr>\n",
       "    <tr>\n",
       "      <th>8</th>\n",
       "      <td>23</td>\n",
       "      <td>BT (AS2856)</td>\n",
       "    </tr>\n",
       "    <tr>\n",
       "      <th>9</th>\n",
       "      <td>23</td>\n",
       "      <td>UUNET (AS701)</td>\n",
       "    </tr>\n",
       "    <tr>\n",
       "      <th>10</th>\n",
       "      <td>25</td>\n",
       "      <td>BELGACOM (AS5432)</td>\n",
       "    </tr>\n",
       "    <tr>\n",
       "      <th>11</th>\n",
       "      <td>29</td>\n",
       "      <td>LDCOMNET (AS15557)</td>\n",
       "    </tr>\n",
       "    <tr>\n",
       "      <th>12</th>\n",
       "      <td>29</td>\n",
       "      <td>OVH (AS35540)</td>\n",
       "    </tr>\n",
       "    <tr>\n",
       "      <th>13</th>\n",
       "      <td>30</td>\n",
       "      <td>XS4ALL (AS3265)</td>\n",
       "    </tr>\n",
       "    <tr>\n",
       "      <th>14</th>\n",
       "      <td>30</td>\n",
       "      <td>TELENET (AS6848)</td>\n",
       "    </tr>\n",
       "    <tr>\n",
       "      <th>15</th>\n",
       "      <td>60</td>\n",
       "      <td>ORANGE (AS3215)</td>\n",
       "    </tr>\n",
       "    <tr>\n",
       "      <th>16</th>\n",
       "      <td>61</td>\n",
       "      <td>DTAG (AS3320)</td>\n",
       "    </tr>\n",
       "    <tr>\n",
       "      <th>17</th>\n",
       "      <td>122</td>\n",
       "      <td>COMCAST (AS7922)</td>\n",
       "    </tr>\n",
       "    <tr>\n",
       "      <th>18</th>\n",
       "      <td>137</td>\n",
       "      <td>FREE (AS12322)</td>\n",
       "    </tr>\n",
       "  </tbody>\n",
       "</table>\n",
       "</div>"
      ],
      "text/plain": [
       "    probes                nodename\n",
       "0       10       VODAFONE (AS3209)\n",
       "1       12           ZEN (AS13037)\n",
       "2       13  TELEFONICA-DE (AS6805)\n",
       "3       14     VIEWQWEST (AS18106)\n",
       "4       16           TWC (AS20001)\n",
       "5       19          ZIGGO (AS9143)\n",
       "6       20    VIRGINMEDIA (AS5089)\n",
       "7       23            LGI (AS6830)\n",
       "8       23             BT (AS2856)\n",
       "9       23           UUNET (AS701)\n",
       "10      25       BELGACOM (AS5432)\n",
       "11      29      LDCOMNET (AS15557)\n",
       "12      29           OVH (AS35540)\n",
       "13      30         XS4ALL (AS3265)\n",
       "14      30        TELENET (AS6848)\n",
       "15      60         ORANGE (AS3215)\n",
       "16      61           DTAG (AS3320)\n",
       "17     122        COMCAST (AS7922)\n",
       "18     137          FREE (AS12322)"
      ]
     },
     "execution_count": 22,
     "metadata": {},
     "output_type": "execute_result"
    }
   ],
   "source": [
    "df_ra.head(n=19)"
   ]
  },
  {
   "cell_type": "code",
   "execution_count": 23,
   "metadata": {
    "collapsed": false
   },
   "outputs": [
    {
     "data": {
      "text/plain": [
       "probes      9\n",
       "nodename    9\n",
       "dtype: int64"
      ]
     },
     "execution_count": 23,
     "metadata": {},
     "output_type": "execute_result"
    }
   ],
   "source": [
    "df_sk.count()"
   ]
  },
  {
   "cell_type": "code",
   "execution_count": 24,
   "metadata": {
    "collapsed": false
   },
   "outputs": [
    {
     "data": {
      "text/html": [
       "<div>\n",
       "<table border=\"1\" class=\"dataframe\">\n",
       "  <thead>\n",
       "    <tr style=\"text-align: right;\">\n",
       "      <th></th>\n",
       "      <th>probes</th>\n",
       "      <th>nodename</th>\n",
       "    </tr>\n",
       "  </thead>\n",
       "  <tbody>\n",
       "    <tr>\n",
       "      <th>0</th>\n",
       "      <td>34</td>\n",
       "      <td>TALKTALK (AS43234)</td>\n",
       "    </tr>\n",
       "    <tr>\n",
       "      <th>1</th>\n",
       "      <td>35</td>\n",
       "      <td>ZEN (AS13037)</td>\n",
       "    </tr>\n",
       "    <tr>\n",
       "      <th>2</th>\n",
       "      <td>36</td>\n",
       "      <td>BSKYB (AS5607)</td>\n",
       "    </tr>\n",
       "    <tr>\n",
       "      <th>3</th>\n",
       "      <td>73</td>\n",
       "      <td>TISCALI (AS9105)</td>\n",
       "    </tr>\n",
       "    <tr>\n",
       "      <th>4</th>\n",
       "      <td>82</td>\n",
       "      <td>ORANGE (AS12576)</td>\n",
       "    </tr>\n",
       "    <tr>\n",
       "      <th>5</th>\n",
       "      <td>132</td>\n",
       "      <td>OPALTELECOM (AS13285)</td>\n",
       "    </tr>\n",
       "    <tr>\n",
       "      <th>6</th>\n",
       "      <td>201</td>\n",
       "      <td>VIRGINMEDIA (AS5089)</td>\n",
       "    </tr>\n",
       "    <tr>\n",
       "      <th>7</th>\n",
       "      <td>271</td>\n",
       "      <td>PLUSNET (AS6871)</td>\n",
       "    </tr>\n",
       "    <tr>\n",
       "      <th>8</th>\n",
       "      <td>314</td>\n",
       "      <td>BT (AS2856)</td>\n",
       "    </tr>\n",
       "  </tbody>\n",
       "</table>\n",
       "</div>"
      ],
      "text/plain": [
       "   probes               nodename\n",
       "0      34     TALKTALK (AS43234)\n",
       "1      35          ZEN (AS13037)\n",
       "2      36         BSKYB (AS5607)\n",
       "3      73       TISCALI (AS9105)\n",
       "4      82       ORANGE (AS12576)\n",
       "5     132  OPALTELECOM (AS13285)\n",
       "6     201   VIRGINMEDIA (AS5089)\n",
       "7     271       PLUSNET (AS6871)\n",
       "8     314            BT (AS2856)"
      ]
     },
     "execution_count": 24,
     "metadata": {},
     "output_type": "execute_result"
    }
   ],
   "source": [
    "df_sk.head(n=38)"
   ]
  },
  {
   "cell_type": "code",
   "execution_count": 25,
   "metadata": {
    "collapsed": true
   },
   "outputs": [],
   "source": [
    "df_sk['nodename'] = df_sk['nodename'].apply(lambda node: node.split()[0])\n",
    "df_ra['nodename'] = df_ra['nodename'].apply(lambda node: node.split()[0])"
   ]
  },
  {
   "cell_type": "code",
   "execution_count": 30,
   "metadata": {
    "collapsed": false
   },
   "outputs": [
    {
     "data": {
      "text/plain": [
       "<matplotlib.figure.Figure at 0x7fafb54a6b00>"
      ]
     },
     "metadata": {},
     "output_type": "display_data"
    },
    {
     "data": {
      "image/png": "[encoded data removed]",
      "text/plain": [
       "<matplotlib.figure.Figure at 0x7fafb5533160>"
      ]
     },
     "metadata": {},
     "output_type": "display_data"
    }
   ],
   "source": [
    "plt.style.use('ggplot')\n",
    "plt.figure()\n",
    "plt.rcParams['font.size'] = 12\n",
    "\n",
    "xticks = [i for i in range(0, 200, 30)]\n",
    "num_probes = sum(df_ra['probes'].values)\n",
    "\n",
    "ax = df_ra.plot(kind='barh', x='nodename', y='probes', xticks=xticks,\n",
    "             legend=None, figsize=(3.5,4.5), grid=False);\n",
    "\n",
    "for idx, label in enumerate(df_ra.index):\n",
    "    pos = df_ra.ix[idx][1]\n",
    "    value = df_ra.ix[idx][0]\n",
    "    plt.annotate(str(value), xy=(value + 5, idx), va='center', fontsize=12, color='blue')    \n",
    "\n",
    "ax.yaxis.set_ticks_position('none')\n",
    "ax.xaxis.set_ticks_position('none')\n",
    "\n",
    "ax.spines['top'].set_visible(False)\n",
    "ax.spines['right'].set_visible(False)\n",
    "ax.spines['left'].set_visible(False)\n",
    "ax.spines['bottom'].set_visible(False)\n",
    "\n",
    "ax.set_axis_bgcolor('#E2E2E2')    \n",
    "plt.xlim(0,max(xticks) - 10)\n",
    "plt.xlabel('# (Probes)', fontsize=12)\n",
    "plt.ylabel('')\n",
    "plt.title('RIPE Atlas (%d)'%num_probes, fontsize=12, y=1.02)\n",
    "plt.savefig('ripeatlas-dataset-distribution.pdf', format='pdf', bbox_inches='tight')"
   ]
  },
  {
   "cell_type": "code",
   "execution_count": 31,
   "metadata": {
    "collapsed": false
   },
   "outputs": [
    {
     "data": {
      "text/plain": [
       "<matplotlib.figure.Figure at 0x7fafb5400048>"
      ]
     },
     "metadata": {},
     "output_type": "display_data"
    },
    {
     "data": {
      "image/png": "[encoded data removed]",
      "text/plain": [
       "<matplotlib.figure.Figure at 0x7fafb53528d0>"
      ]
     },
     "metadata": {},
     "output_type": "display_data"
    }
   ],
   "source": [
    "plt.style.use('ggplot')\n",
    "plt.figure()\n",
    "plt.rcParams['font.size'] = 12\n",
    "\n",
    "\n",
    "xticks = [i for i in range(0, 451, 80)]\n",
    "num_probes = sum(df_sk['probes'].values)\n",
    "\n",
    "ax = df_sk.plot(kind='barh', x='nodename', y='probes', xticks=xticks,\n",
    "             legend=None, figsize=(3.5,2.5), grid=False);\n",
    "\n",
    "for idx, label in enumerate(df_sk.index):\n",
    "    pos = df_sk.ix[idx][1]\n",
    "    value = df_sk.ix[idx][0]\n",
    "    plt.annotate(str(value), xy=(value + 5, idx), va='center', fontsize=12, color='blue')    \n",
    "\n",
    "ax.yaxis.set_ticks_position('none')\n",
    "ax.xaxis.set_ticks_position('none')\n",
    "\n",
    "ax.spines['top'].set_visible(False)\n",
    "ax.spines['right'].set_visible(False)\n",
    "ax.spines['left'].set_visible(False)\n",
    "ax.spines['bottom'].set_visible(False)\n",
    "\n",
    "ax.set_axis_bgcolor('#E2E2E2')    \n",
    "plt.xlim(0,max(xticks) - 10)\n",
    "plt.xlabel('# (Probes)', fontsize=12)\n",
    "plt.ylabel('')\n",
    "plt.title('SamKnows (%d)'%num_probes, fontsize=12, y=1.02)\n",
    "plt.savefig('samknows-dataset-distribution.pdf', format='pdf', bbox_inches='tight')"
   ]
  },
  {
   "cell_type": "code",
   "execution_count": null,
   "metadata": {
    "collapsed": true
   },
   "outputs": [],
   "source": []
  }
 ],
 "metadata": {
  "kernelspec": {
   "display_name": "Python 3",
   "language": "python",
   "name": "python3"
  },
  "language_info": {
   "codemirror_mode": {
    "name": "ipython",
    "version": 3
   },
   "file_extension": ".py",
   "mimetype": "text/x-python",
   "name": "python",
   "nbconvert_exporter": "python",
   "pygments_lexer": "ipython3",
   "version": "3.4.2"
  }
 },
 "nbformat": 4,
 "nbformat_minor": 0
}
