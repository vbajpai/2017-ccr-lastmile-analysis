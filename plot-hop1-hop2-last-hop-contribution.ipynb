{
 "cells": [
  {
   "cell_type": "markdown",
   "metadata": {},
   "source": [
    "This notebook plots the private network latency contribution as a ratio of hop1 to hop2 latencies.\n",
    "- - - "
   ]
  },
  {
   "cell_type": "code",
   "execution_count": 101,
   "metadata": {
    "collapsed": false
   },
   "outputs": [
    {
     "name": "stdout",
     "output_type": "stream",
     "text": [
      "Populating the interactive namespace from numpy and matplotlib\n"
     ]
    },
    {
     "name": "stderr",
     "output_type": "stream",
     "text": [
      "WARNING: pylab import has clobbered these variables: ['yticks', 'f']\n",
      "`%matplotlib` prevents importing * from pylab and numpy\n"
     ]
    }
   ],
   "source": [
    "%pylab inline"
   ]
  },
  {
   "cell_type": "code",
   "execution_count": 102,
   "metadata": {
    "collapsed": true
   },
   "outputs": [],
   "source": [
    "import warnings\n",
    "warnings.filterwarnings('ignore')"
   ]
  },
  {
   "cell_type": "code",
   "execution_count": 103,
   "metadata": {
    "collapsed": false
   },
   "outputs": [
    {
     "data": {
      "text/html": [
       "<style>body {\n",
       "    margin: 0;\n",
       "    font-family: Helvetica;\n",
       "}\n",
       "table.dataframe {\n",
       "    border-collapse: collapse;\n",
       "    border: none;\n",
       "}\n",
       "table.dataframe tr {\n",
       "    border: none;\n",
       "}\n",
       "table.dataframe td, table.dataframe th {\n",
       "    margin: 0;\n",
       "    border: 1px solid white;\n",
       "    padding-left: 0.25em;\n",
       "    padding-right: 0.25em;\n",
       "}\n",
       "table.dataframe th:not(:empty) {\n",
       "    background-color: #fec;\n",
       "    text-align: left;\n",
       "    font-weight: normal;\n",
       "}\n",
       "table.dataframe tr:nth-child(2) th:empty {\n",
       "    border-left: none;\n",
       "    border-right: 1px dashed #888;\n",
       "}\n",
       "table.dataframe td {\n",
       "    border: 2px solid #ccf;\n",
       "    background-color: #f4f4ff;\n",
       "}\n",
       "h3 {\n",
       "    color: white;\n",
       "    background-color: black;\n",
       "    padding: 0.5em;\n",
       "}\n",
       "\n",
       ".CodeMirror {\n",
       "    font-family: 'Monaco for Powerline';\n",
       "}\n",
       "\n",
       "div.cell.code_cell {\n",
       "    font-family: 'Monaco for Powerline';\n",
       "}\n",
       "\n",
       "div.output_area pre {\n",
       "    font-family: 'Monaco for Powerline';\n",
       "}\n",
       "</style>"
      ],
      "text/plain": [
       "<IPython.core.display.HTML object>"
      ]
     },
     "execution_count": 103,
     "metadata": {},
     "output_type": "execute_result"
    }
   ],
   "source": [
    "from IPython.core.display import HTML\n",
    "css = open('style-table.css').read() + open('style-notebook.css').read()\n",
    "HTML('<style>{}</style>'.format(css))"
   ]
  },
  {
   "cell_type": "code",
   "execution_count": 104,
   "metadata": {
    "collapsed": false
   },
   "outputs": [],
   "source": [
    "import sqlite3\n",
    "import pandas as pd"
   ]
  },
  {
   "cell_type": "code",
   "execution_count": 105,
   "metadata": {
    "collapsed": true
   },
   "outputs": [],
   "source": [
    "DB_LOCATION = 'lastmile.db'"
   ]
  },
  {
   "cell_type": "code",
   "execution_count": 106,
   "metadata": {
    "collapsed": true
   },
   "outputs": [],
   "source": [
    "RA_PROBE = 'ra_probe'\n",
    "RA_ONE_OFF_EXTENSIONS = 'ra_one_off_extensions'\n",
    "RA_LATENCIES_AGG = 'ra_latencies_agg'\n",
    "RA_LATENCIES_LAST_HOP_AGG = 'ra_latencies_last_hop_agg'"
   ]
  },
  {
   "cell_type": "code",
   "execution_count": 107,
   "metadata": {
    "collapsed": true
   },
   "outputs": [],
   "source": [
    "SK_ONE_OFF_EXTENSIONS = 'sk_one_off_extensions'\n",
    "SK_LATENCIES_AGG = 'sk_latencies_agg'\n",
    "SK_LATENCIES_LAST_HOP_AGG = 'sk_latencies_last_hop_agg'\n",
    "SK_ASN = 'sk_asn'\n",
    "METADATA_SNAPSHOT = 'metadata_snapshot'\n",
    "METADATA_SNAPSHOT_EXTENSIONS = 'metadata_snapshot_extensions'"
   ]
  },
  {
   "cell_type": "code",
   "execution_count": 108,
   "metadata": {
    "collapsed": false
   },
   "outputs": [],
   "source": [
    "con = sqlite3.connect(DB_LOCATION)"
   ]
  },
  {
   "cell_type": "code",
   "execution_count": 109,
   "metadata": {
    "collapsed": false
   },
   "outputs": [],
   "source": [
    "query_ra = '''SELECT      agg.probeid\n",
    "                        , agg.timestamp\n",
    "                        , agg.h1_median || ';' || agg.h2_median || ';' || lh.last_hop_median as h1h2lh\n",
    "\n",
    "               FROM   %s                             as  agg\n",
    "                    , %s                             as  hardware\n",
    "                    , %s                             as  ext\n",
    "                    , %s                             as  lh\n",
    "\n",
    "               WHERE     agg.probeid                  =  hardware.probeid\n",
    "               AND       agg.probeid                  =  ext.probeid\n",
    "               AND       agg.probeid                  =  lh.probeid\n",
    "               AND       agg.timestamp                =  lh.timestamp               \n",
    "\n",
    "               AND       hardware.hardware_version    =  'v3'\n",
    "               AND       ext.if_residential           =  1\n",
    "               \n",
    "            '''%(  RA_LATENCIES_AGG\n",
    "                 , RA_PROBE\n",
    "                 , RA_ONE_OFF_EXTENSIONS\n",
    "                 , RA_LATENCIES_LAST_HOP_AGG\n",
    "                )\n",
    "\n",
    "df_ra = pd.read_sql(query_ra, con)"
   ]
  },
  {
   "cell_type": "code",
   "execution_count": 110,
   "metadata": {
    "collapsed": false
   },
   "outputs": [
    {
     "data": {
      "text/plain": [
       "probeid      133533\n",
       "timestamp    133533\n",
       "h1h2lh       129045\n",
       "dtype: int64"
      ]
     },
     "execution_count": 110,
     "metadata": {},
     "output_type": "execute_result"
    }
   ],
   "source": [
    "df_ra.count()"
   ]
  },
  {
   "cell_type": "code",
   "execution_count": 111,
   "metadata": {
    "collapsed": false
   },
   "outputs": [
    {
     "data": {
      "text/html": [
       "<div>\n",
       "<table border=\"1\" class=\"dataframe\">\n",
       "  <thead>\n",
       "    <tr style=\"text-align: right;\">\n",
       "      <th></th>\n",
       "      <th>probeid</th>\n",
       "      <th>timestamp</th>\n",
       "      <th>h1h2lh</th>\n",
       "    </tr>\n",
       "  </thead>\n",
       "  <tbody>\n",
       "    <tr>\n",
       "      <th>0</th>\n",
       "      <td>10006</td>\n",
       "      <td>1406548034</td>\n",
       "      <td>0.429;20.49;64.929</td>\n",
       "    </tr>\n",
       "    <tr>\n",
       "      <th>1</th>\n",
       "      <td>10006</td>\n",
       "      <td>1406562432</td>\n",
       "      <td>0.431;17.7;64.194</td>\n",
       "    </tr>\n",
       "    <tr>\n",
       "      <th>2</th>\n",
       "      <td>10006</td>\n",
       "      <td>1406576835</td>\n",
       "      <td>0.438;17.776;64.473</td>\n",
       "    </tr>\n",
       "    <tr>\n",
       "      <th>3</th>\n",
       "      <td>10006</td>\n",
       "      <td>1406591230</td>\n",
       "      <td>0.478;17.577;64.46</td>\n",
       "    </tr>\n",
       "    <tr>\n",
       "      <th>4</th>\n",
       "      <td>10006</td>\n",
       "      <td>1406605631</td>\n",
       "      <td>0.422;17.526;64.059</td>\n",
       "    </tr>\n",
       "  </tbody>\n",
       "</table>\n",
       "</div>"
      ],
      "text/plain": [
       "   probeid   timestamp               h1h2lh\n",
       "0    10006  1406548034   0.429;20.49;64.929\n",
       "1    10006  1406562432    0.431;17.7;64.194\n",
       "2    10006  1406576835  0.438;17.776;64.473\n",
       "3    10006  1406591230   0.478;17.577;64.46\n",
       "4    10006  1406605631  0.422;17.526;64.059"
      ]
     },
     "execution_count": 111,
     "metadata": {},
     "output_type": "execute_result"
    }
   ],
   "source": [
    "df_ra.head()"
   ]
  },
  {
   "cell_type": "code",
   "execution_count": 112,
   "metadata": {
    "collapsed": false
   },
   "outputs": [],
   "source": [
    "query_sk = ''' SELECT     agg.probeid\n",
    "                        , agg.timestamp\n",
    "                        , s.asn       \n",
    "                        , s.asn_holder_name\n",
    "                        , meta.product                        \n",
    "                        , agg.h1_avg || ';' || agg.h2_avg || ';' || lh.last_hop_avg as h1h2lh\n",
    "\n",
    "                                                                                     \n",
    "               FROM       %s                            as   agg\n",
    "                        , %s                            as   api               \n",
    "                        , %s                            as   ext\n",
    "                        , %s                            as   s\n",
    "                        , %s                            as   meta\n",
    "                        , %s                            as   lh\n",
    "                        \n",
    "                        \n",
    "\n",
    "               WHERE      agg.probeid                    =    ext.probeid\n",
    "               AND        agg.probeid                    =    api.probeid\n",
    "               AND        agg.probeid                    =    meta.id               \n",
    "               AND        agg.probeid                    =    lh.probeid\n",
    "               AND        agg.timestamp                  =    lh.timestamp\n",
    "               AND        api.asn                        =    s.asn               \n",
    "               \n",
    "               AND        ext.if_residential             =    1\n",
    "               AND        agg.h1_avg                     <>   0\n",
    "               AND        agg.h2_avg                     <>   0\n",
    "               AND        lh.last_hop_avg                <>   0               \n",
    "               \n",
    "           '''%(   SK_LATENCIES_AGG\n",
    "                 , METADATA_SNAPSHOT_EXTENSIONS                \n",
    "                 , SK_ONE_OFF_EXTENSIONS\n",
    "                 , SK_ASN        \n",
    "                 , METADATA_SNAPSHOT                \n",
    "                 , SK_LATENCIES_LAST_HOP_AGG\n",
    "               )\n",
    "\n",
    "df_sk = pd.read_sql(query_sk, con)"
   ]
  },
  {
   "cell_type": "code",
   "execution_count": 113,
   "metadata": {
    "collapsed": false
   },
   "outputs": [
    {
     "data": {
      "text/plain": [
       "probeid            435813\n",
       "timestamp          435813\n",
       "asn                435813\n",
       "asn_holder_name    435813\n",
       "product            435813\n",
       "h1h2lh             435813\n",
       "dtype: int64"
      ]
     },
     "execution_count": 113,
     "metadata": {},
     "output_type": "execute_result"
    }
   ],
   "source": [
    "df_sk.count()"
   ]
  },
  {
   "cell_type": "code",
   "execution_count": 114,
   "metadata": {
    "collapsed": false
   },
   "outputs": [
    {
     "data": {
      "text/html": [
       "<div>\n",
       "<table border=\"1\" class=\"dataframe\">\n",
       "  <thead>\n",
       "    <tr style=\"text-align: right;\">\n",
       "      <th></th>\n",
       "      <th>probeid</th>\n",
       "      <th>timestamp</th>\n",
       "      <th>asn</th>\n",
       "      <th>asn_holder_name</th>\n",
       "      <th>product</th>\n",
       "      <th>h1h2lh</th>\n",
       "    </tr>\n",
       "  </thead>\n",
       "  <tbody>\n",
       "    <tr>\n",
       "      <th>0</th>\n",
       "      <td>14905</td>\n",
       "      <td>2014-07-28 00:36:14</td>\n",
       "      <td>2856</td>\n",
       "      <td>BT-UK-AS BT Public Internet Service,GB</td>\n",
       "      <td>40</td>\n",
       "      <td>0.794;7.423;22.676</td>\n",
       "    </tr>\n",
       "    <tr>\n",
       "      <th>1</th>\n",
       "      <td>14905</td>\n",
       "      <td>2014-07-28 00:36:18</td>\n",
       "      <td>2856</td>\n",
       "      <td>BT-UK-AS BT Public Internet Service,GB</td>\n",
       "      <td>40</td>\n",
       "      <td>0.787;7.41;100.878</td>\n",
       "    </tr>\n",
       "    <tr>\n",
       "      <th>2</th>\n",
       "      <td>14905</td>\n",
       "      <td>2014-07-28 12:36:52</td>\n",
       "      <td>2856</td>\n",
       "      <td>BT-UK-AS BT Public Internet Service,GB</td>\n",
       "      <td>40</td>\n",
       "      <td>0.786;7.687;24.642</td>\n",
       "    </tr>\n",
       "    <tr>\n",
       "      <th>3</th>\n",
       "      <td>14905</td>\n",
       "      <td>2014-07-28 12:36:56</td>\n",
       "      <td>2856</td>\n",
       "      <td>BT-UK-AS BT Public Internet Service,GB</td>\n",
       "      <td>40</td>\n",
       "      <td>0.808;7.539;98.557</td>\n",
       "    </tr>\n",
       "    <tr>\n",
       "      <th>4</th>\n",
       "      <td>14905</td>\n",
       "      <td>2014-07-28 16:36:10</td>\n",
       "      <td>2856</td>\n",
       "      <td>BT-UK-AS BT Public Internet Service,GB</td>\n",
       "      <td>40</td>\n",
       "      <td>0.813;7.576;19.646</td>\n",
       "    </tr>\n",
       "  </tbody>\n",
       "</table>\n",
       "</div>"
      ],
      "text/plain": [
       "   probeid            timestamp   asn                         asn_holder_name  \\\n",
       "0    14905  2014-07-28 00:36:14  2856  BT-UK-AS BT Public Internet Service,GB   \n",
       "1    14905  2014-07-28 00:36:18  2856  BT-UK-AS BT Public Internet Service,GB   \n",
       "2    14905  2014-07-28 12:36:52  2856  BT-UK-AS BT Public Internet Service,GB   \n",
       "3    14905  2014-07-28 12:36:56  2856  BT-UK-AS BT Public Internet Service,GB   \n",
       "4    14905  2014-07-28 16:36:10  2856  BT-UK-AS BT Public Internet Service,GB   \n",
       "\n",
       "  product              h1h2lh  \n",
       "0      40  0.794;7.423;22.676  \n",
       "1      40  0.787;7.41;100.878  \n",
       "2      40  0.786;7.687;24.642  \n",
       "3      40  0.808;7.539;98.557  \n",
       "4      40  0.813;7.576;19.646  "
      ]
     },
     "execution_count": 114,
     "metadata": {},
     "output_type": "execute_result"
    }
   ],
   "source": [
    "df_sk.head()"
   ]
  },
  {
   "cell_type": "code",
   "execution_count": 115,
   "metadata": {
    "collapsed": true
   },
   "outputs": [],
   "source": [
    "df_ra = df_ra.dropna()"
   ]
  },
  {
   "cell_type": "code",
   "execution_count": 116,
   "metadata": {
    "collapsed": true
   },
   "outputs": [],
   "source": [
    "df_sk = df_sk.dropna()"
   ]
  },
  {
   "cell_type": "code",
   "execution_count": 117,
   "metadata": {
    "collapsed": false
   },
   "outputs": [
    {
     "data": {
      "text/plain": [
       "probeid            435813\n",
       "timestamp          435813\n",
       "asn                435813\n",
       "asn_holder_name    435813\n",
       "product            435813\n",
       "h1h2lh             435813\n",
       "dtype: int64"
      ]
     },
     "execution_count": 117,
     "metadata": {},
     "output_type": "execute_result"
    }
   ],
   "source": [
    "df_sk.count()"
   ]
  },
  {
   "cell_type": "code",
   "execution_count": 118,
   "metadata": {
    "collapsed": false
   },
   "outputs": [
    {
     "data": {
      "text/plain": [
       "probeid      129045\n",
       "timestamp    129045\n",
       "h1h2lh       129045\n",
       "dtype: int64"
      ]
     },
     "execution_count": 118,
     "metadata": {},
     "output_type": "execute_result"
    }
   ],
   "source": [
    "df_ra.count()"
   ]
  },
  {
   "cell_type": "code",
   "execution_count": 119,
   "metadata": {
    "collapsed": true
   },
   "outputs": [],
   "source": [
    "def calculate_private_contribution(h1h2lh):\n",
    "    try: h1,h2,lh = h1h2lh.split(';')\n",
    "    except Exception as e: print(e, type(e), h1h2); return None\n",
    "    \n",
    "    try: contribution = float(h1) / float(h2) * 100\n",
    "    except Exception as e: print(e, type(e), h1, h2); return None\n",
    "    \n",
    "    return contribution"
   ]
  },
  {
   "cell_type": "code",
   "execution_count": 120,
   "metadata": {
    "collapsed": false
   },
   "outputs": [],
   "source": [
    "def calculate_contribution(h1h2lh):\n",
    "    try: h1,h2,lh = h1h2lh.split(';')\n",
    "    except Exception as e: print(e, type(e), h1h2); return None\n",
    "    \n",
    "    try: contribution = float(h2) - float(h1) / float(lh) * 100\n",
    "    except Exception as e: print(e, type(e), h1, h2); return None\n",
    "    \n",
    "    return contribution"
   ]
  },
  {
   "cell_type": "code",
   "execution_count": 121,
   "metadata": {
    "collapsed": false
   },
   "outputs": [],
   "source": [
    "df_ra['lm_contribution'] = df_ra['h1h2lh'].apply(calculate_contribution)\n",
    "df_sk['lm_contribution'] = df_sk['h1h2lh'].apply(calculate_contribution)\n",
    "\n",
    "df_ra['pv_contribution'] = df_ra['h1h2lh'].apply(calculate_private_contribution)\n",
    "df_sk['pv_contribution'] = df_sk['h1h2lh'].apply(calculate_private_contribution)"
   ]
  },
  {
   "cell_type": "code",
   "execution_count": 122,
   "metadata": {
    "collapsed": true
   },
   "outputs": [],
   "source": [
    "df_ra_groupby = df_ra.groupby('probeid')\n",
    "df_ra_agg = df_ra_groupby['lm_contribution', 'pv_contribution'].agg(['median'])\n",
    "df_ra_merged = pd.merge(df_ra, df_ra_agg, left_on='probeid', right_index=True)\n",
    "\n",
    "del df_ra_merged['timestamp']\n",
    "del df_ra_merged['h1h2lh']\n",
    "del df_ra_merged['lm_contribution']\n",
    "del df_ra_merged['pv_contribution']\n",
    "\n",
    "df_ra_merged = df_ra_merged.drop_duplicates()\n",
    "df_ra_merged.rename(columns={'median': 'lm_contribution'}, inplace=True)"
   ]
  },
  {
   "cell_type": "code",
   "execution_count": 123,
   "metadata": {
    "collapsed": false
   },
   "outputs": [],
   "source": [
    "df_sk_groupby = df_sk.groupby('probeid')\n",
    "df_sk_agg = df_sk_groupby['lm_contribution', 'pv_contribution'].agg(['median'])\n",
    "df_sk_merged = pd.merge(df_sk, df_sk_agg, left_on='probeid', right_index=True)\n",
    "\n",
    "del df_sk_merged['timestamp']\n",
    "del df_sk_merged['h1h2lh']\n",
    "del df_sk_merged['lm_contribution']\n",
    "del df_sk_merged['pv_contribution']\n",
    "\n",
    "df_sk_merged = df_sk_merged.drop_duplicates()\n",
    "df_sk_merged.rename(columns={'median': 'lm_contribution'}, inplace=True)"
   ]
  },
  {
   "cell_type": "code",
   "execution_count": 124,
   "metadata": {
    "collapsed": false
   },
   "outputs": [
    {
     "data": {
      "text/plain": [
       "probeid                      691\n",
       "(lm_contribution, median)    691\n",
       "(pv_contribution, median)    691\n",
       "dtype: int64"
      ]
     },
     "execution_count": 124,
     "metadata": {},
     "output_type": "execute_result"
    }
   ],
   "source": [
    "df_ra_merged.count()"
   ]
  },
  {
   "cell_type": "code",
   "execution_count": 125,
   "metadata": {
    "collapsed": false
   },
   "outputs": [
    {
     "data": {
      "text/plain": [
       "probeid                      1245\n",
       "asn                          1245\n",
       "asn_holder_name              1245\n",
       "product                      1245\n",
       "(lm_contribution, median)    1245\n",
       "(pv_contribution, median)    1245\n",
       "dtype: int64"
      ]
     },
     "execution_count": 125,
     "metadata": {},
     "output_type": "execute_result"
    }
   ],
   "source": [
    "df_sk_merged.count()"
   ]
  },
  {
   "cell_type": "code",
   "execution_count": 126,
   "metadata": {
    "collapsed": true
   },
   "outputs": [],
   "source": [
    "df_sk_merged.columns = ['probeid', 'asn', 'asn_holder_name', 'product', 'lm_contribution', 'pv_contribution']\n",
    "df_ra_merged.columns = ['probeid', 'lm_contribution', 'pv_contribution']"
   ]
  },
  {
   "cell_type": "code",
   "execution_count": 127,
   "metadata": {
    "collapsed": false
   },
   "outputs": [
    {
     "data": {
      "text/plain": [
       "probeid            3\n",
       "lm_contribution    3\n",
       "pv_contribution    3\n",
       "dtype: int64"
      ]
     },
     "execution_count": 127,
     "metadata": {},
     "output_type": "execute_result"
    }
   ],
   "source": [
    "df_ra_merged[df_ra_merged.pv_contribution >= 100].count()"
   ]
  },
  {
   "cell_type": "code",
   "execution_count": 128,
   "metadata": {
    "collapsed": false
   },
   "outputs": [
    {
     "data": {
      "text/plain": [
       "probeid            124\n",
       "asn                124\n",
       "asn_holder_name    124\n",
       "product            124\n",
       "lm_contribution    124\n",
       "pv_contribution    124\n",
       "dtype: int64"
      ]
     },
     "execution_count": 128,
     "metadata": {},
     "output_type": "execute_result"
    }
   ],
   "source": [
    "df_sk_merged[df_sk_merged.pv_contribution >= 100].count()"
   ]
  },
  {
   "cell_type": "markdown",
   "metadata": {},
   "source": [
    "### remove probes where hop1 > 100% of hop2"
   ]
  },
  {
   "cell_type": "code",
   "execution_count": 129,
   "metadata": {
    "collapsed": false
   },
   "outputs": [],
   "source": [
    "df_sk_merged = df_sk_merged[df_sk_merged.pv_contribution < 100]\n",
    "df_ra_merged = df_ra_merged[df_ra_merged.pv_contribution < 100]"
   ]
  },
  {
   "cell_type": "code",
   "execution_count": 130,
   "metadata": {
    "collapsed": false
   },
   "outputs": [],
   "source": [
    "import Cdf\n",
    "import Pmf\n",
    "ra_sample = df_ra_merged['lm_contribution'].values\n",
    "sk_sample = df_sk_merged['lm_contribution'].values\n",
    "ra_c = Cdf.MakeCdfFromList(ra_sample)\n",
    "sk_c = Cdf.MakeCdfFromList(sk_sample)"
   ]
  },
  {
   "cell_type": "code",
   "execution_count": 131,
   "metadata": {
    "collapsed": false
   },
   "outputs": [
    {
     "data": {
      "image/png": "[encoded data removed]",
      "text/plain": [
       "<matplotlib.figure.Figure at 0x7ff9bd553a90>"
      ]
     },
     "metadata": {},
     "output_type": "display_data"
    }
   ],
   "source": [
    "# ---- plt.style.use('ggplot')\n",
    "fig = plt.figure(figsize=(5,1.5))\n",
    "plt.rcParams['font.size'] = 12\n",
    "yticks = np.arange(0,1.1,0.2)\n",
    "ax = plt.gca()\n",
    "\n",
    "ax.plot (   sk_c.xs\n",
    "          , sk_c.ps\n",
    "          , marker='s'\n",
    "          , linewidth=0.3\n",
    "          , markersize=5\n",
    "          , fillstyle='none'\n",
    "          , color='Blue'\n",
    "         )\n",
    "\n",
    "ax.plot (  ra_c.xs\n",
    "          , ra_c.ps\n",
    "          , marker='x'\n",
    "          , linewidth=0.3\n",
    "          , markersize=5\n",
    "          , color='Violet'\n",
    "         )\n",
    "\n",
    "ax.spines['right'].set_color('none')\n",
    "ax.spines['top'].set_color('none')\n",
    "ax.yaxis.set_ticks_position('left')\n",
    "ax.xaxis.set_ticks_position('bottom')\n",
    "ax.spines['bottom'].set_position(('axes', -0.05))\n",
    "ax.spines['left'].set_position(('axes', -0.05))\n",
    "\n",
    "ax.yaxis.set_label_coords(-0.21, 0.45)\n",
    "ax = fig.axes[0]\n",
    "ax.grid(False)\n",
    "ax.set_yticks(yticks)\n",
    "ax.set_ylim([0,1.05])\n",
    "ax.set_xlim(xmin=0.1)\n",
    "ax.set_xscale('log')\n",
    "ax.set_xlabel(' (hop2 - hop1) / last-hop (%)', fontsize=12)\n",
    "ax.set_ylabel('CDF', fontsize=12)\n",
    "ax.legend(['SamKnows   (1.1K)', 'RIPE Atlas (0.6K)'], fontsize=12, bbox_to_anchor=(0.9, -0.55))\n",
    "ax.legend(['SamKnows   (1.1K)', 'RIPE Atlas (0.6K)'], fontsize=12, loc='best')\n",
    "plt.title('Residential Probes', fontsize=12, y=1.05)\n",
    "plt.savefig('ripeatlas-samknows-lm-contribution.pdf', format='pdf', bbox_inches='tight')"
   ]
  },
  {
   "cell_type": "code",
   "execution_count": 132,
   "metadata": {
    "collapsed": false
   },
   "outputs": [],
   "source": [
    "with open('ra-lm-contribution.csv', 'w') as f: \n",
    "    f.write('values; percentile\\n')\n",
    "    for x, y in zip(ra_c.xs, ra_c.ps): f.write('%.2f; %.2f\\n'%(x,y))\n",
    "        \n",
    "with open('sk-lm-contribution.csv', 'w') as f: \n",
    "    f.write('values; percentile\\n')\n",
    "    for x, y in zip(sk_c.xs, sk_c.ps): f.write('%.2f; %.2f\\n'%(x,y))        "
   ]
  }
 ],
 "metadata": {
  "kernelspec": {
   "display_name": "Python 3",
   "language": "python",
   "name": "python3"
  },
  "language_info": {
   "codemirror_mode": {
    "name": "ipython",
    "version": 3
   },
   "file_extension": ".py",
   "mimetype": "text/x-python",
   "name": "python",
   "nbconvert_exporter": "python",
   "pygments_lexer": "ipython3",
   "version": "3.4.2"
  }
 },
 "nbformat": 4,
 "nbformat_minor": 0
}
