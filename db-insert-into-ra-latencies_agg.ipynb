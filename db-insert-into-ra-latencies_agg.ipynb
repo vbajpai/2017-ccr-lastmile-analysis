{
 "cells": [
  {
   "cell_type": "markdown",
   "metadata": {},
   "source": [
    "*This notebook gets the raw ripeatlas h1 and h2 latencies for each (probeid, timestamp) tuple from `ra_latencies` table; aggregates the h1_latencies and h2_latencies across 3 queries and generates a 5-tuple then inserts entire dataframe in `ra_latencies_agg` table.*\n",
    "- - - "
   ]
  },
  {
   "cell_type": "code",
   "execution_count": 1,
   "metadata": {
    "collapsed": false
   },
   "outputs": [],
   "source": [
    "import sqlite3\n",
    "import pandas as pd\n",
    "import requests\n",
    "import ipaddress\n",
    "import time"
   ]
  },
  {
   "cell_type": "code",
   "execution_count": 3,
   "metadata": {
    "collapsed": true
   },
   "outputs": [],
   "source": [
    "DB_LOCATION = 'lastmile.db'\n",
    "RA_LATENCIES = 'ra_latencies'\n",
    "RA_LATENCIES_AGG = 'ra_latencies_agg'"
   ]
  },
  {
   "cell_type": "code",
   "execution_count": 4,
   "metadata": {
    "collapsed": false
   },
   "outputs": [],
   "source": [
    "con = sqlite3.connect(DB_LOCATION)"
   ]
  },
  {
   "cell_type": "code",
   "execution_count": 5,
   "metadata": {
    "collapsed": false
   },
   "outputs": [],
   "source": [
    "query = '''SELECT    probeid\n",
    "                   , timestamp\n",
    "                   , h1_latencies\n",
    "                   , h2_latencies\n",
    "           FROM      %s\n",
    "        '''%(RA_LATENCIES)\n",
    "\n",
    "df = pd.read_sql(query, con)"
   ]
  },
  {
   "cell_type": "code",
   "execution_count": 6,
   "metadata": {
    "collapsed": false
   },
   "outputs": [
    {
     "data": {
      "text/html": [
       "<div style=\"max-height:1000px;max-width:1500px;overflow:auto;\">\n",
       "<table border=\"1\" class=\"dataframe\">\n",
       "  <thead>\n",
       "    <tr style=\"text-align: right;\">\n",
       "      <th></th>\n",
       "      <th>probeid</th>\n",
       "      <th>timestamp</th>\n",
       "      <th>h1_latencies</th>\n",
       "      <th>h2_latencies</th>\n",
       "    </tr>\n",
       "  </thead>\n",
       "  <tbody>\n",
       "    <tr>\n",
       "      <th>0</th>\n",
       "      <td>10006</td>\n",
       "      <td>1406548034</td>\n",
       "      <td>0.559, 0.429, 0.412</td>\n",
       "      <td>20.49, 27.571, 17.716</td>\n",
       "    </tr>\n",
       "    <tr>\n",
       "      <th>1</th>\n",
       "      <td>10006</td>\n",
       "      <td>1406562432</td>\n",
       "      <td>0.579, 0.431, 0.423</td>\n",
       "      <td>17.7, 17.281, 51.434</td>\n",
       "    </tr>\n",
       "    <tr>\n",
       "      <th>2</th>\n",
       "      <td>10006</td>\n",
       "      <td>1406576835</td>\n",
       "      <td>0.58, 0.438, 0.42</td>\n",
       "      <td>34.678, 17.776, 17.473</td>\n",
       "    </tr>\n",
       "    <tr>\n",
       "      <th>3</th>\n",
       "      <td>10006</td>\n",
       "      <td>1406591230</td>\n",
       "      <td>0.769, 0.453, 0.478</td>\n",
       "      <td>17.577, 18.21, 17.533</td>\n",
       "    </tr>\n",
       "    <tr>\n",
       "      <th>4</th>\n",
       "      <td>10006</td>\n",
       "      <td>1406605631</td>\n",
       "      <td>0.534, 0.422, 0.416</td>\n",
       "      <td>17.442, 37.561, 17.526</td>\n",
       "    </tr>\n",
       "  </tbody>\n",
       "</table>\n",
       "</div>"
      ],
      "text/plain": [
       "   probeid   timestamp         h1_latencies             h2_latencies\n",
       "0    10006  1406548034  0.559, 0.429, 0.412    20.49, 27.571, 17.716\n",
       "1    10006  1406562432  0.579, 0.431, 0.423     17.7, 17.281, 51.434\n",
       "2    10006  1406576835    0.58, 0.438, 0.42   34.678, 17.776, 17.473\n",
       "3    10006  1406591230  0.769, 0.453, 0.478    17.577, 18.21, 17.533\n",
       "4    10006  1406605631  0.534, 0.422, 0.416   17.442, 37.561, 17.526"
      ]
     },
     "execution_count": 6,
     "metadata": {},
     "output_type": "execute_result"
    }
   ],
   "source": [
    "df.head()"
   ]
  },
  {
   "cell_type": "code",
   "execution_count": 45,
   "metadata": {
    "collapsed": true
   },
   "outputs": [],
   "source": [
    "def percentile(n):\n",
    "    import numpy as np\n",
    "    def percentile_(x):\n",
    "        return np.percentile(x, n)\n",
    "    percentile_.__name__ = 'percentile_%s' % n\n",
    "    return percentile_ "
   ]
  },
  {
   "cell_type": "code",
   "execution_count": 57,
   "metadata": {
    "collapsed": false
   },
   "outputs": [],
   "source": [
    "def get_min(latencies):\n",
    "    latencies = latencies.strip()\n",
    "    if latencies is None or latencies == 'None': return None\n",
    "    latencies = [float(latency) for latency in latencies.split(',')]\n",
    "    min = percentile(0)(latencies)\n",
    "    return min"
   ]
  },
  {
   "cell_type": "code",
   "execution_count": 67,
   "metadata": {
    "collapsed": true
   },
   "outputs": [],
   "source": [
    "def get_q1(latencies):\n",
    "    latencies = latencies.strip()\n",
    "    if latencies is None or latencies == 'None': return None\n",
    "    latencies = [float(latency) for latency in latencies.split(',')]\n",
    "    q1 = percentile(25)(latencies)\n",
    "    return q1"
   ]
  },
  {
   "cell_type": "code",
   "execution_count": 65,
   "metadata": {
    "collapsed": true
   },
   "outputs": [],
   "source": [
    "def get_median(latencies):\n",
    "    latencies = latencies.strip()\n",
    "    if latencies is None or latencies == 'None': return None\n",
    "    latencies = [float(latency) for latency in latencies.split(',')]\n",
    "    median = percentile(50)(latencies)\n",
    "    return median"
   ]
  },
  {
   "cell_type": "code",
   "execution_count": 69,
   "metadata": {
    "collapsed": true
   },
   "outputs": [],
   "source": [
    "def get_q2(latencies):\n",
    "    latencies = latencies.strip()\n",
    "    if latencies is None or latencies == 'None': return None\n",
    "    latencies = [float(latency) for latency in latencies.split(',')]\n",
    "    q2 = percentile(75)(latencies)\n",
    "    return q2"
   ]
  },
  {
   "cell_type": "code",
   "execution_count": 61,
   "metadata": {
    "collapsed": true
   },
   "outputs": [],
   "source": [
    "def get_max(latencies):\n",
    "    latencies = latencies.strip()\n",
    "    if latencies is None or latencies == 'None': return None\n",
    "    latencies = [float(latency) for latency in latencies.split(',')]\n",
    "    max = percentile(100)(latencies)\n",
    "    return max"
   ]
  },
  {
   "cell_type": "code",
   "execution_count": 74,
   "metadata": {
    "collapsed": false
   },
   "outputs": [],
   "source": [
    "df['h1_min'] = df['h1_latencies'].apply(get_min)\n",
    "df['h2_min'] = df['h2_latencies'].apply(get_min)"
   ]
  },
  {
   "cell_type": "code",
   "execution_count": 75,
   "metadata": {
    "collapsed": true
   },
   "outputs": [],
   "source": [
    "df['h1_q1'] = df['h1_latencies'].apply(get_q1)\n",
    "df['h2_q1'] = df['h2_latencies'].apply(get_q1)"
   ]
  },
  {
   "cell_type": "code",
   "execution_count": 76,
   "metadata": {
    "collapsed": true
   },
   "outputs": [],
   "source": [
    "df['h1_median'] = df['h1_latencies'].apply(get_median)\n",
    "df['h2_median'] = df['h2_latencies'].apply(get_median)"
   ]
  },
  {
   "cell_type": "code",
   "execution_count": 77,
   "metadata": {
    "collapsed": true
   },
   "outputs": [],
   "source": [
    "df['h1_q2'] = df['h1_latencies'].apply(get_q2)\n",
    "df['h2_q2'] = df['h2_latencies'].apply(get_q2)"
   ]
  },
  {
   "cell_type": "code",
   "execution_count": 78,
   "metadata": {
    "collapsed": true
   },
   "outputs": [],
   "source": [
    "df['h1_max'] = df['h1_latencies'].apply(get_max)\n",
    "df['h2_max'] = df['h2_latencies'].apply(get_max)"
   ]
  },
  {
   "cell_type": "code",
   "execution_count": 79,
   "metadata": {
    "collapsed": false
   },
   "outputs": [
    {
     "data": {
      "text/html": [
       "<div style=\"max-height:1000px;max-width:1500px;overflow:auto;\">\n",
       "<table border=\"1\" class=\"dataframe\">\n",
       "  <thead>\n",
       "    <tr style=\"text-align: right;\">\n",
       "      <th></th>\n",
       "      <th>probeid</th>\n",
       "      <th>timestamp</th>\n",
       "      <th>h1_latencies</th>\n",
       "      <th>h2_latencies</th>\n",
       "      <th>h1_min</th>\n",
       "      <th>h1_max</th>\n",
       "      <th>h2_min</th>\n",
       "      <th>h2_max</th>\n",
       "      <th>h1_q1</th>\n",
       "      <th>h2_q1</th>\n",
       "      <th>h1_median</th>\n",
       "      <th>h2_median</th>\n",
       "      <th>h1_q2</th>\n",
       "      <th>h2_q2</th>\n",
       "    </tr>\n",
       "  </thead>\n",
       "  <tbody>\n",
       "    <tr>\n",
       "      <th>0</th>\n",
       "      <td>10006</td>\n",
       "      <td>1406548034</td>\n",
       "      <td>0.559, 0.429, 0.412</td>\n",
       "      <td>20.49, 27.571, 17.716</td>\n",
       "      <td>0.412</td>\n",
       "      <td>0.559</td>\n",
       "      <td>17.716</td>\n",
       "      <td>27.571</td>\n",
       "      <td>0.4205</td>\n",
       "      <td>19.1030</td>\n",
       "      <td>0.429</td>\n",
       "      <td>20.490</td>\n",
       "      <td>0.4940</td>\n",
       "      <td>24.0305</td>\n",
       "    </tr>\n",
       "    <tr>\n",
       "      <th>1</th>\n",
       "      <td>10006</td>\n",
       "      <td>1406562432</td>\n",
       "      <td>0.579, 0.431, 0.423</td>\n",
       "      <td>17.7, 17.281, 51.434</td>\n",
       "      <td>0.423</td>\n",
       "      <td>0.579</td>\n",
       "      <td>17.281</td>\n",
       "      <td>51.434</td>\n",
       "      <td>0.4270</td>\n",
       "      <td>17.4905</td>\n",
       "      <td>0.431</td>\n",
       "      <td>17.700</td>\n",
       "      <td>0.5050</td>\n",
       "      <td>34.5670</td>\n",
       "    </tr>\n",
       "    <tr>\n",
       "      <th>2</th>\n",
       "      <td>10006</td>\n",
       "      <td>1406576835</td>\n",
       "      <td>0.58, 0.438, 0.42</td>\n",
       "      <td>34.678, 17.776, 17.473</td>\n",
       "      <td>0.420</td>\n",
       "      <td>0.580</td>\n",
       "      <td>17.473</td>\n",
       "      <td>34.678</td>\n",
       "      <td>0.4290</td>\n",
       "      <td>17.6245</td>\n",
       "      <td>0.438</td>\n",
       "      <td>17.776</td>\n",
       "      <td>0.5090</td>\n",
       "      <td>26.2270</td>\n",
       "    </tr>\n",
       "    <tr>\n",
       "      <th>3</th>\n",
       "      <td>10006</td>\n",
       "      <td>1406591230</td>\n",
       "      <td>0.769, 0.453, 0.478</td>\n",
       "      <td>17.577, 18.21, 17.533</td>\n",
       "      <td>0.453</td>\n",
       "      <td>0.769</td>\n",
       "      <td>17.533</td>\n",
       "      <td>18.210</td>\n",
       "      <td>0.4655</td>\n",
       "      <td>17.5550</td>\n",
       "      <td>0.478</td>\n",
       "      <td>17.577</td>\n",
       "      <td>0.6235</td>\n",
       "      <td>17.8935</td>\n",
       "    </tr>\n",
       "    <tr>\n",
       "      <th>4</th>\n",
       "      <td>10006</td>\n",
       "      <td>1406605631</td>\n",
       "      <td>0.534, 0.422, 0.416</td>\n",
       "      <td>17.442, 37.561, 17.526</td>\n",
       "      <td>0.416</td>\n",
       "      <td>0.534</td>\n",
       "      <td>17.442</td>\n",
       "      <td>37.561</td>\n",
       "      <td>0.4190</td>\n",
       "      <td>17.4840</td>\n",
       "      <td>0.422</td>\n",
       "      <td>17.526</td>\n",
       "      <td>0.4780</td>\n",
       "      <td>27.5435</td>\n",
       "    </tr>\n",
       "  </tbody>\n",
       "</table>\n",
       "</div>"
      ],
      "text/plain": [
       "   probeid   timestamp         h1_latencies             h2_latencies  h1_min  \\\n",
       "0    10006  1406548034  0.559, 0.429, 0.412    20.49, 27.571, 17.716   0.412   \n",
       "1    10006  1406562432  0.579, 0.431, 0.423     17.7, 17.281, 51.434   0.423   \n",
       "2    10006  1406576835    0.58, 0.438, 0.42   34.678, 17.776, 17.473   0.420   \n",
       "3    10006  1406591230  0.769, 0.453, 0.478    17.577, 18.21, 17.533   0.453   \n",
       "4    10006  1406605631  0.534, 0.422, 0.416   17.442, 37.561, 17.526   0.416   \n",
       "\n",
       "   h1_max  h2_min  h2_max   h1_q1    h2_q1  h1_median  h2_median   h1_q2  \\\n",
       "0   0.559  17.716  27.571  0.4205  19.1030      0.429     20.490  0.4940   \n",
       "1   0.579  17.281  51.434  0.4270  17.4905      0.431     17.700  0.5050   \n",
       "2   0.580  17.473  34.678  0.4290  17.6245      0.438     17.776  0.5090   \n",
       "3   0.769  17.533  18.210  0.4655  17.5550      0.478     17.577  0.6235   \n",
       "4   0.534  17.442  37.561  0.4190  17.4840      0.422     17.526  0.4780   \n",
       "\n",
       "     h2_q2  \n",
       "0  24.0305  \n",
       "1  34.5670  \n",
       "2  26.2270  \n",
       "3  17.8935  \n",
       "4  27.5435  "
      ]
     },
     "execution_count": 79,
     "metadata": {},
     "output_type": "execute_result"
    }
   ],
   "source": [
    "df.head()"
   ]
  },
  {
   "cell_type": "code",
   "execution_count": 80,
   "metadata": {
    "collapsed": false
   },
   "outputs": [],
   "source": [
    "del df['h1_latencies']\n",
    "del df['h2_latencies']"
   ]
  },
  {
   "cell_type": "code",
   "execution_count": 81,
   "metadata": {
    "collapsed": false
   },
   "outputs": [
    {
     "data": {
      "text/html": [
       "<div style=\"max-height:1000px;max-width:1500px;overflow:auto;\">\n",
       "<table border=\"1\" class=\"dataframe\">\n",
       "  <thead>\n",
       "    <tr style=\"text-align: right;\">\n",
       "      <th></th>\n",
       "      <th>probeid</th>\n",
       "      <th>timestamp</th>\n",
       "      <th>h1_min</th>\n",
       "      <th>h1_max</th>\n",
       "      <th>h2_min</th>\n",
       "      <th>h2_max</th>\n",
       "      <th>h1_q1</th>\n",
       "      <th>h2_q1</th>\n",
       "      <th>h1_median</th>\n",
       "      <th>h2_median</th>\n",
       "      <th>h1_q2</th>\n",
       "      <th>h2_q2</th>\n",
       "    </tr>\n",
       "  </thead>\n",
       "  <tbody>\n",
       "    <tr>\n",
       "      <th>0</th>\n",
       "      <td>10006</td>\n",
       "      <td>1406548034</td>\n",
       "      <td>0.412</td>\n",
       "      <td>0.559</td>\n",
       "      <td>17.716</td>\n",
       "      <td>27.571</td>\n",
       "      <td>0.4205</td>\n",
       "      <td>19.1030</td>\n",
       "      <td>0.429</td>\n",
       "      <td>20.490</td>\n",
       "      <td>0.4940</td>\n",
       "      <td>24.0305</td>\n",
       "    </tr>\n",
       "    <tr>\n",
       "      <th>1</th>\n",
       "      <td>10006</td>\n",
       "      <td>1406562432</td>\n",
       "      <td>0.423</td>\n",
       "      <td>0.579</td>\n",
       "      <td>17.281</td>\n",
       "      <td>51.434</td>\n",
       "      <td>0.4270</td>\n",
       "      <td>17.4905</td>\n",
       "      <td>0.431</td>\n",
       "      <td>17.700</td>\n",
       "      <td>0.5050</td>\n",
       "      <td>34.5670</td>\n",
       "    </tr>\n",
       "    <tr>\n",
       "      <th>2</th>\n",
       "      <td>10006</td>\n",
       "      <td>1406576835</td>\n",
       "      <td>0.420</td>\n",
       "      <td>0.580</td>\n",
       "      <td>17.473</td>\n",
       "      <td>34.678</td>\n",
       "      <td>0.4290</td>\n",
       "      <td>17.6245</td>\n",
       "      <td>0.438</td>\n",
       "      <td>17.776</td>\n",
       "      <td>0.5090</td>\n",
       "      <td>26.2270</td>\n",
       "    </tr>\n",
       "    <tr>\n",
       "      <th>3</th>\n",
       "      <td>10006</td>\n",
       "      <td>1406591230</td>\n",
       "      <td>0.453</td>\n",
       "      <td>0.769</td>\n",
       "      <td>17.533</td>\n",
       "      <td>18.210</td>\n",
       "      <td>0.4655</td>\n",
       "      <td>17.5550</td>\n",
       "      <td>0.478</td>\n",
       "      <td>17.577</td>\n",
       "      <td>0.6235</td>\n",
       "      <td>17.8935</td>\n",
       "    </tr>\n",
       "    <tr>\n",
       "      <th>4</th>\n",
       "      <td>10006</td>\n",
       "      <td>1406605631</td>\n",
       "      <td>0.416</td>\n",
       "      <td>0.534</td>\n",
       "      <td>17.442</td>\n",
       "      <td>37.561</td>\n",
       "      <td>0.4190</td>\n",
       "      <td>17.4840</td>\n",
       "      <td>0.422</td>\n",
       "      <td>17.526</td>\n",
       "      <td>0.4780</td>\n",
       "      <td>27.5435</td>\n",
       "    </tr>\n",
       "  </tbody>\n",
       "</table>\n",
       "</div>"
      ],
      "text/plain": [
       "   probeid   timestamp  h1_min  h1_max  h2_min  h2_max   h1_q1    h2_q1  \\\n",
       "0    10006  1406548034   0.412   0.559  17.716  27.571  0.4205  19.1030   \n",
       "1    10006  1406562432   0.423   0.579  17.281  51.434  0.4270  17.4905   \n",
       "2    10006  1406576835   0.420   0.580  17.473  34.678  0.4290  17.6245   \n",
       "3    10006  1406591230   0.453   0.769  17.533  18.210  0.4655  17.5550   \n",
       "4    10006  1406605631   0.416   0.534  17.442  37.561  0.4190  17.4840   \n",
       "\n",
       "   h1_median  h2_median   h1_q2    h2_q2  \n",
       "0      0.429     20.490  0.4940  24.0305  \n",
       "1      0.431     17.700  0.5050  34.5670  \n",
       "2      0.438     17.776  0.5090  26.2270  \n",
       "3      0.478     17.577  0.6235  17.8935  \n",
       "4      0.422     17.526  0.4780  27.5435  "
      ]
     },
     "execution_count": 81,
     "metadata": {},
     "output_type": "execute_result"
    }
   ],
   "source": [
    "df.head()"
   ]
  },
  {
   "cell_type": "code",
   "execution_count": 86,
   "metadata": {
    "collapsed": false
   },
   "outputs": [
    {
     "data": {
      "text/plain": [
       "probeid      137017\n",
       "timestamp    137017\n",
       "h1_min       136180\n",
       "h1_max       136180\n",
       "h2_min       132742\n",
       "h2_max       132742\n",
       "h1_q1        136180\n",
       "h2_q1        132742\n",
       "h1_median    136180\n",
       "h2_median    132742\n",
       "h1_q2        136180\n",
       "h2_q2        132742\n",
       "dtype: int64"
      ]
     },
     "execution_count": 86,
     "metadata": {},
     "output_type": "execute_result"
    }
   ],
   "source": [
    "df.count()"
   ]
  },
  {
   "cell_type": "code",
   "execution_count": 87,
   "metadata": {
    "collapsed": true
   },
   "outputs": [],
   "source": [
    "cur = con.execute('pragma foreign_keys=ON')"
   ]
  },
  {
   "cell_type": "code",
   "execution_count": 88,
   "metadata": {
    "collapsed": false
   },
   "outputs": [],
   "source": [
    "index_label = ['probeid', 'timestamp']\n",
    "df = df.set_index(index_label)"
   ]
  },
  {
   "cell_type": "code",
   "execution_count": 89,
   "metadata": {
    "collapsed": false
   },
   "outputs": [
    {
     "data": {
      "text/html": [
       "<div style=\"max-height:1000px;max-width:1500px;overflow:auto;\">\n",
       "<table border=\"1\" class=\"dataframe\">\n",
       "  <thead>\n",
       "    <tr style=\"text-align: right;\">\n",
       "      <th></th>\n",
       "      <th></th>\n",
       "      <th>h1_min</th>\n",
       "      <th>h1_max</th>\n",
       "      <th>h2_min</th>\n",
       "      <th>h2_max</th>\n",
       "      <th>h1_q1</th>\n",
       "      <th>h2_q1</th>\n",
       "      <th>h1_median</th>\n",
       "      <th>h2_median</th>\n",
       "      <th>h1_q2</th>\n",
       "      <th>h2_q2</th>\n",
       "    </tr>\n",
       "    <tr>\n",
       "      <th>probeid</th>\n",
       "      <th>timestamp</th>\n",
       "      <th></th>\n",
       "      <th></th>\n",
       "      <th></th>\n",
       "      <th></th>\n",
       "      <th></th>\n",
       "      <th></th>\n",
       "      <th></th>\n",
       "      <th></th>\n",
       "      <th></th>\n",
       "      <th></th>\n",
       "    </tr>\n",
       "  </thead>\n",
       "  <tbody>\n",
       "    <tr>\n",
       "      <th rowspan=\"5\" valign=\"top\">10006</th>\n",
       "      <th>1406548034</th>\n",
       "      <td>0.412</td>\n",
       "      <td>0.559</td>\n",
       "      <td>17.716</td>\n",
       "      <td>27.571</td>\n",
       "      <td>0.4205</td>\n",
       "      <td>19.1030</td>\n",
       "      <td>0.429</td>\n",
       "      <td>20.490</td>\n",
       "      <td>0.4940</td>\n",
       "      <td>24.0305</td>\n",
       "    </tr>\n",
       "    <tr>\n",
       "      <th>1406562432</th>\n",
       "      <td>0.423</td>\n",
       "      <td>0.579</td>\n",
       "      <td>17.281</td>\n",
       "      <td>51.434</td>\n",
       "      <td>0.4270</td>\n",
       "      <td>17.4905</td>\n",
       "      <td>0.431</td>\n",
       "      <td>17.700</td>\n",
       "      <td>0.5050</td>\n",
       "      <td>34.5670</td>\n",
       "    </tr>\n",
       "    <tr>\n",
       "      <th>1406576835</th>\n",
       "      <td>0.420</td>\n",
       "      <td>0.580</td>\n",
       "      <td>17.473</td>\n",
       "      <td>34.678</td>\n",
       "      <td>0.4290</td>\n",
       "      <td>17.6245</td>\n",
       "      <td>0.438</td>\n",
       "      <td>17.776</td>\n",
       "      <td>0.5090</td>\n",
       "      <td>26.2270</td>\n",
       "    </tr>\n",
       "    <tr>\n",
       "      <th>1406591230</th>\n",
       "      <td>0.453</td>\n",
       "      <td>0.769</td>\n",
       "      <td>17.533</td>\n",
       "      <td>18.210</td>\n",
       "      <td>0.4655</td>\n",
       "      <td>17.5550</td>\n",
       "      <td>0.478</td>\n",
       "      <td>17.577</td>\n",
       "      <td>0.6235</td>\n",
       "      <td>17.8935</td>\n",
       "    </tr>\n",
       "    <tr>\n",
       "      <th>1406605631</th>\n",
       "      <td>0.416</td>\n",
       "      <td>0.534</td>\n",
       "      <td>17.442</td>\n",
       "      <td>37.561</td>\n",
       "      <td>0.4190</td>\n",
       "      <td>17.4840</td>\n",
       "      <td>0.422</td>\n",
       "      <td>17.526</td>\n",
       "      <td>0.4780</td>\n",
       "      <td>27.5435</td>\n",
       "    </tr>\n",
       "  </tbody>\n",
       "</table>\n",
       "</div>"
      ],
      "text/plain": [
       "                    h1_min  h1_max  h2_min  h2_max   h1_q1    h2_q1  \\\n",
       "probeid timestamp                                                     \n",
       "10006   1406548034   0.412   0.559  17.716  27.571  0.4205  19.1030   \n",
       "        1406562432   0.423   0.579  17.281  51.434  0.4270  17.4905   \n",
       "        1406576835   0.420   0.580  17.473  34.678  0.4290  17.6245   \n",
       "        1406591230   0.453   0.769  17.533  18.210  0.4655  17.5550   \n",
       "        1406605631   0.416   0.534  17.442  37.561  0.4190  17.4840   \n",
       "\n",
       "                    h1_median  h2_median   h1_q2    h2_q2  \n",
       "probeid timestamp                                          \n",
       "10006   1406548034      0.429     20.490  0.4940  24.0305  \n",
       "        1406562432      0.431     17.700  0.5050  34.5670  \n",
       "        1406576835      0.438     17.776  0.5090  26.2270  \n",
       "        1406591230      0.478     17.577  0.6235  17.8935  \n",
       "        1406605631      0.422     17.526  0.4780  27.5435  "
      ]
     },
     "execution_count": 89,
     "metadata": {},
     "output_type": "execute_result"
    }
   ],
   "source": [
    "df.head()"
   ]
  },
  {
   "cell_type": "code",
   "execution_count": 90,
   "metadata": {
    "collapsed": true
   },
   "outputs": [],
   "source": [
    "df.to_sql(  '%s'%RA_LATENCIES_AGG\n",
    "          , con\n",
    "          , flavor='sqlite'\n",
    "          , if_exists = 'append'\n",
    "          , index_label = index_label\n",
    "         )"
   ]
  },
  {
   "cell_type": "code",
   "execution_count": 91,
   "metadata": {
    "collapsed": true
   },
   "outputs": [],
   "source": [
    "con.commit()\n",
    "con.close()"
   ]
  }
 ],
 "metadata": {
  "kernelspec": {
   "display_name": "Python 3",
   "language": "python",
   "name": "python3"
  },
  "language_info": {
   "codemirror_mode": {
    "name": "ipython",
    "version": 3
   },
   "file_extension": ".py",
   "mimetype": "text/x-python",
   "name": "python",
   "nbconvert_exporter": "python",
   "pygments_lexer": "ipython3",
   "version": "3.4.2"
  }
 },
 "nbformat": 4,
 "nbformat_minor": 0
}
