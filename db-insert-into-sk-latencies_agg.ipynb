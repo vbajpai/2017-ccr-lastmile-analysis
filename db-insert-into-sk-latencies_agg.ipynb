{
 "cells": [
  {
   "cell_type": "markdown",
   "metadata": {},
   "source": [
    "*This notebook gets the raw samknows traceroute measurement data from `curr_traceroute` table; prunes the data to fetch (probeid, timestamp, h1_latencies, h2_latencies) then inserts entire dataframe in `sk_latencies_agg` table.*\n",
    "- - - "
   ]
  },
  {
   "cell_type": "code",
   "execution_count": 40,
   "metadata": {
    "collapsed": false
   },
   "outputs": [],
   "source": [
    "import sqlite3\n",
    "import pandas as pd\n",
    "import requests\n",
    "import ipaddress\n",
    "import time"
   ]
  },
  {
   "cell_type": "code",
   "execution_count": 41,
   "metadata": {
    "collapsed": true
   },
   "outputs": [],
   "source": [
    "DB_LOCATION = 'lastmile.db'\n",
    "CURR_TRACEROUTE = 'curr_traceroute'\n",
    "SK_LATENCIES_AGG = 'sk_latencies_agg'"
   ]
  },
  {
   "cell_type": "code",
   "execution_count": 53,
   "metadata": {
    "collapsed": false
   },
   "outputs": [],
   "source": [
    "con = sqlite3.connect(DB_LOCATION)"
   ]
  },
  {
   "cell_type": "code",
   "execution_count": 43,
   "metadata": {
    "collapsed": false
   },
   "outputs": [],
   "source": [
    "query = '''SELECT    unit_id as probeid\n",
    "                   , dtime as timestamp\n",
    "                   , GROUP_CONCAT(hop, ';') as hop_no\n",
    "                   , GROUP_CONCAT(rtt_avg, ';') as rtts_h1_h2\n",
    "                   , '' as h1_avg\n",
    "                   , '' as h2_avg\n",
    "           FROM      %s\n",
    "           WHERE     hop IN (1, 2)\n",
    "           GROUP BY  probeid, timestamp\n",
    "        '''%(CURR_TRACEROUTE)\n",
    "\n",
    "df = pd.read_sql(query, con)"
   ]
  },
  {
   "cell_type": "code",
   "execution_count": 44,
   "metadata": {
    "collapsed": false
   },
   "outputs": [
    {
     "data": {
      "text/html": [
       "<div style=\"max-height:1000px;max-width:1500px;overflow:auto;\">\n",
       "<table border=\"1\" class=\"dataframe\">\n",
       "  <thead>\n",
       "    <tr style=\"text-align: right;\">\n",
       "      <th></th>\n",
       "      <th>probeid</th>\n",
       "      <th>timestamp</th>\n",
       "      <th>hop_no</th>\n",
       "      <th>rtts_h1_h2</th>\n",
       "      <th>h1_avg</th>\n",
       "      <th>h2_avg</th>\n",
       "    </tr>\n",
       "  </thead>\n",
       "  <tbody>\n",
       "    <tr>\n",
       "      <th>0</th>\n",
       "      <td>14190</td>\n",
       "      <td>2014-07-28 05:42:57</td>\n",
       "      <td>2</td>\n",
       "      <td>1211</td>\n",
       "      <td></td>\n",
       "      <td></td>\n",
       "    </tr>\n",
       "    <tr>\n",
       "      <th>1</th>\n",
       "      <td>14190</td>\n",
       "      <td>2014-07-28 05:43:01</td>\n",
       "      <td>1;2</td>\n",
       "      <td>377;1280</td>\n",
       "      <td></td>\n",
       "      <td></td>\n",
       "    </tr>\n",
       "    <tr>\n",
       "      <th>2</th>\n",
       "      <td>14190</td>\n",
       "      <td>2014-07-28 13:41:21</td>\n",
       "      <td>1;2</td>\n",
       "      <td>424;1383</td>\n",
       "      <td></td>\n",
       "      <td></td>\n",
       "    </tr>\n",
       "    <tr>\n",
       "      <th>3</th>\n",
       "      <td>14190</td>\n",
       "      <td>2014-07-28 13:41:24</td>\n",
       "      <td>1;2</td>\n",
       "      <td>362;1669</td>\n",
       "      <td></td>\n",
       "      <td></td>\n",
       "    </tr>\n",
       "    <tr>\n",
       "      <th>4</th>\n",
       "      <td>14190</td>\n",
       "      <td>2014-07-28 17:43:23</td>\n",
       "      <td>1;2</td>\n",
       "      <td>395;1297</td>\n",
       "      <td></td>\n",
       "      <td></td>\n",
       "    </tr>\n",
       "  </tbody>\n",
       "</table>\n",
       "</div>"
      ],
      "text/plain": [
       "   probeid            timestamp hop_no rtts_h1_h2 h1_avg h2_avg\n",
       "0    14190  2014-07-28 05:42:57      2       1211              \n",
       "1    14190  2014-07-28 05:43:01    1;2   377;1280              \n",
       "2    14190  2014-07-28 13:41:21    1;2   424;1383              \n",
       "3    14190  2014-07-28 13:41:24    1;2   362;1669              \n",
       "4    14190  2014-07-28 17:43:23    1;2   395;1297              "
      ]
     },
     "execution_count": 44,
     "metadata": {},
     "output_type": "execute_result"
    }
   ],
   "source": [
    "df.head()"
   ]
  },
  {
   "cell_type": "code",
   "execution_count": 45,
   "metadata": {
    "collapsed": false
   },
   "outputs": [
    {
     "name": "stdout",
     "output_type": "stream",
     "text": [
      "**********************************************************************************************************************************************************************************************************************************************************************************************************************************************************************************************************************************************************************************************************************************************************************************************************************************************************************************************************************************************************************************************************************************************************************************************************************************************************************************************************************************************************************************************************************************************************************************************************************************************************************************************************************************************************************************************************************************************************************************************************************************************************************************************************************************************************************************************************************************************************************************************************************************************************************************************************************************************************************************************************************************************************************************************************************************************************************************************************************************************************************************************************************************************************************************************************************************************************************************************************************************************************************************************************************************************************************************************************************************************************************************************************************************************************************************************************************************************************************************************************************************************************************************************************************************************************************************************************************************************************************************************************************************************************************************************************************************************************************************************************************************************************************************************************************************************************************************************************************************************************************************************************************************************************************************************************************************************************************************************************************************************************************************************************************************************************************************************************************************************************************************************************************************************"
     ]
    }
   ],
   "source": [
    "def get_h1_rtt(rtts): \n",
    "    try: h1, h2 = rtts.split(';'); return float(h1)/1000\n",
    "    except Exception as e: print('*', end=''); return None\n",
    "def get_h2_rtt(rtts): \n",
    "    try: h1, h2 = rtts.split(';'); return float(h2)/1000\n",
    "    except Exception as e: print('*', end=''); return None\n",
    "\n",
    "df['h1_avg'] = df['rtts_h1_h2'].apply(get_h1_rtt)\n",
    "df['h2_avg'] = df['rtts_h1_h2'].apply(get_h2_rtt)"
   ]
  },
  {
   "cell_type": "code",
   "execution_count": 46,
   "metadata": {
    "collapsed": false
   },
   "outputs": [],
   "source": [
    "del df['hop_no']\n",
    "del df['rtts_h1_h2']"
   ]
  },
  {
   "cell_type": "code",
   "execution_count": 47,
   "metadata": {
    "collapsed": false
   },
   "outputs": [
    {
     "data": {
      "text/html": [
       "<div style=\"max-height:1000px;max-width:1500px;overflow:auto;\">\n",
       "<table border=\"1\" class=\"dataframe\">\n",
       "  <thead>\n",
       "    <tr style=\"text-align: right;\">\n",
       "      <th></th>\n",
       "      <th>probeid</th>\n",
       "      <th>timestamp</th>\n",
       "      <th>h1_avg</th>\n",
       "      <th>h2_avg</th>\n",
       "    </tr>\n",
       "  </thead>\n",
       "  <tbody>\n",
       "    <tr>\n",
       "      <th>0</th>\n",
       "      <td>14190</td>\n",
       "      <td>2014-07-28 05:42:57</td>\n",
       "      <td>NaN</td>\n",
       "      <td>NaN</td>\n",
       "    </tr>\n",
       "    <tr>\n",
       "      <th>1</th>\n",
       "      <td>14190</td>\n",
       "      <td>2014-07-28 05:43:01</td>\n",
       "      <td>0.377</td>\n",
       "      <td>1.280</td>\n",
       "    </tr>\n",
       "    <tr>\n",
       "      <th>2</th>\n",
       "      <td>14190</td>\n",
       "      <td>2014-07-28 13:41:21</td>\n",
       "      <td>0.424</td>\n",
       "      <td>1.383</td>\n",
       "    </tr>\n",
       "    <tr>\n",
       "      <th>3</th>\n",
       "      <td>14190</td>\n",
       "      <td>2014-07-28 13:41:24</td>\n",
       "      <td>0.362</td>\n",
       "      <td>1.669</td>\n",
       "    </tr>\n",
       "    <tr>\n",
       "      <th>4</th>\n",
       "      <td>14190</td>\n",
       "      <td>2014-07-28 17:43:23</td>\n",
       "      <td>0.395</td>\n",
       "      <td>1.297</td>\n",
       "    </tr>\n",
       "  </tbody>\n",
       "</table>\n",
       "</div>"
      ],
      "text/plain": [
       "   probeid            timestamp  h1_avg  h2_avg\n",
       "0    14190  2014-07-28 05:42:57     NaN     NaN\n",
       "1    14190  2014-07-28 05:43:01   0.377   1.280\n",
       "2    14190  2014-07-28 13:41:21   0.424   1.383\n",
       "3    14190  2014-07-28 13:41:24   0.362   1.669\n",
       "4    14190  2014-07-28 17:43:23   0.395   1.297"
      ]
     },
     "execution_count": 47,
     "metadata": {},
     "output_type": "execute_result"
    }
   ],
   "source": [
    "df.head()"
   ]
  },
  {
   "cell_type": "code",
   "execution_count": 48,
   "metadata": {
    "collapsed": false
   },
   "outputs": [
    {
     "data": {
      "text/plain": [
       "probeid      783990\n",
       "timestamp    783990\n",
       "h1_avg       781903\n",
       "h2_avg       781903\n",
       "dtype: int64"
      ]
     },
     "execution_count": 48,
     "metadata": {},
     "output_type": "execute_result"
    }
   ],
   "source": [
    "df.count()"
   ]
  },
  {
   "cell_type": "code",
   "execution_count": 49,
   "metadata": {
    "collapsed": true
   },
   "outputs": [],
   "source": [
    "cur = con.execute('pragma foreign_keys=ON')"
   ]
  },
  {
   "cell_type": "code",
   "execution_count": 50,
   "metadata": {
    "collapsed": false
   },
   "outputs": [],
   "source": [
    "index_label = ['probeid', 'timestamp']\n",
    "df = df.set_index(index_label)"
   ]
  },
  {
   "cell_type": "code",
   "execution_count": 51,
   "metadata": {
    "collapsed": false
   },
   "outputs": [
    {
     "data": {
      "text/html": [
       "<div style=\"max-height:1000px;max-width:1500px;overflow:auto;\">\n",
       "<table border=\"1\" class=\"dataframe\">\n",
       "  <thead>\n",
       "    <tr style=\"text-align: right;\">\n",
       "      <th></th>\n",
       "      <th></th>\n",
       "      <th>h1_avg</th>\n",
       "      <th>h2_avg</th>\n",
       "    </tr>\n",
       "    <tr>\n",
       "      <th>probeid</th>\n",
       "      <th>timestamp</th>\n",
       "      <th></th>\n",
       "      <th></th>\n",
       "    </tr>\n",
       "  </thead>\n",
       "  <tbody>\n",
       "    <tr>\n",
       "      <th rowspan=\"5\" valign=\"top\">14190</th>\n",
       "      <th>2014-07-28 05:42:57</th>\n",
       "      <td>NaN</td>\n",
       "      <td>NaN</td>\n",
       "    </tr>\n",
       "    <tr>\n",
       "      <th>2014-07-28 05:43:01</th>\n",
       "      <td>0.377</td>\n",
       "      <td>1.280</td>\n",
       "    </tr>\n",
       "    <tr>\n",
       "      <th>2014-07-28 13:41:21</th>\n",
       "      <td>0.424</td>\n",
       "      <td>1.383</td>\n",
       "    </tr>\n",
       "    <tr>\n",
       "      <th>2014-07-28 13:41:24</th>\n",
       "      <td>0.362</td>\n",
       "      <td>1.669</td>\n",
       "    </tr>\n",
       "    <tr>\n",
       "      <th>2014-07-28 17:43:23</th>\n",
       "      <td>0.395</td>\n",
       "      <td>1.297</td>\n",
       "    </tr>\n",
       "  </tbody>\n",
       "</table>\n",
       "</div>"
      ],
      "text/plain": [
       "                             h1_avg  h2_avg\n",
       "probeid timestamp                          \n",
       "14190   2014-07-28 05:42:57     NaN     NaN\n",
       "        2014-07-28 05:43:01   0.377   1.280\n",
       "        2014-07-28 13:41:21   0.424   1.383\n",
       "        2014-07-28 13:41:24   0.362   1.669\n",
       "        2014-07-28 17:43:23   0.395   1.297"
      ]
     },
     "execution_count": 51,
     "metadata": {},
     "output_type": "execute_result"
    }
   ],
   "source": [
    "df.head()"
   ]
  },
  {
   "cell_type": "code",
   "execution_count": 54,
   "metadata": {
    "collapsed": true
   },
   "outputs": [],
   "source": [
    "df.to_sql(  '%s'%SK_LATENCIES_AGG\n",
    "          , con\n",
    "          , flavor='sqlite'\n",
    "          , if_exists = 'append'\n",
    "          , index_label = index_label\n",
    "         )"
   ]
  },
  {
   "cell_type": "code",
   "execution_count": 55,
   "metadata": {
    "collapsed": true
   },
   "outputs": [],
   "source": [
    "con.commit()\n",
    "con.close()"
   ]
  }
 ],
 "metadata": {
  "kernelspec": {
   "display_name": "Python 3",
   "language": "python",
   "name": "python3"
  },
  "language_info": {
   "codemirror_mode": {
    "name": "ipython",
    "version": 3
   },
   "file_extension": ".py",
   "mimetype": "text/x-python",
   "name": "python",
   "nbconvert_exporter": "python",
   "pygments_lexer": "ipython3",
   "version": "3.4.2"
  }
 },
 "nbformat": 4,
 "nbformat_minor": 0
}
