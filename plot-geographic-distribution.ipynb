{
 "cells": [
  {
   "cell_type": "markdown",
   "metadata": {},
   "source": [
    "*This notebook plots the geographic distribution of probes*\n",
    "- - - "
   ]
  },
  {
   "cell_type": "code",
   "execution_count": 1,
   "metadata": {
    "collapsed": false
   },
   "outputs": [
    {
     "name": "stdout",
     "output_type": "stream",
     "text": [
      "Populating the interactive namespace from numpy and matplotlib\n"
     ]
    }
   ],
   "source": [
    "%pylab inline"
   ]
  },
  {
   "cell_type": "code",
   "execution_count": 2,
   "metadata": {
    "collapsed": false
   },
   "outputs": [],
   "source": [
    "import sqlite3\n",
    "import pandas as pd\n",
    "from mpl_toolkits.basemap import Basemap"
   ]
  },
  {
   "cell_type": "code",
   "execution_count": 3,
   "metadata": {
    "collapsed": true
   },
   "outputs": [],
   "source": [
    "DB_LOCATION = 'lastmile.db'"
   ]
  },
  {
   "cell_type": "code",
   "execution_count": 4,
   "metadata": {
    "collapsed": true
   },
   "outputs": [],
   "source": [
    "RA_PROBE = 'ra_probe'\n",
    "RA_PROBE_API = 'ra_probe_api'\n",
    "RA_ONE_OFF_EXTENSIONS = 'ra_one_off_extensions'\n",
    "RA_LATENCIES_AGG = 'ra_latencies_agg'"
   ]
  },
  {
   "cell_type": "code",
   "execution_count": 5,
   "metadata": {
    "collapsed": true
   },
   "outputs": [],
   "source": [
    "SK_ONE_OFF_EXTENSIONS = 'sk_one_off_extensions'\n",
    "SK_LATENCIES_AGG = 'sk_latencies_agg'\n",
    "UNIT_REPORT = 'unit_report'"
   ]
  },
  {
   "cell_type": "code",
   "execution_count": 6,
   "metadata": {
    "collapsed": false
   },
   "outputs": [],
   "source": [
    "con = sqlite3.connect(DB_LOCATION)"
   ]
  },
  {
   "cell_type": "code",
   "execution_count": 7,
   "metadata": {
    "collapsed": false
   },
   "outputs": [],
   "source": [
    "query_ra = '''SELECT      agg.probeid\n",
    "                        , api.latitude\n",
    "                        , api.longitude\n",
    "\n",
    "               FROM   %s                             as  agg\n",
    "                    , %s                             as  api\n",
    "                    , %s                             as  hardware\n",
    "                    , %s                             as  ext\n",
    "\n",
    "               WHERE     agg.probeid                  =  hardware.probeid\n",
    "               AND       agg.probeid                  =  api.probeid               \n",
    "               AND       agg.probeid                  =  ext.probeid\n",
    "\n",
    "               AND       hardware.hardware_version    =  'v3'\n",
    "               AND       ext.if_residential           =  1\n",
    "               \n",
    "               GROUP BY agg.probeid\n",
    "               \n",
    "            '''%(  RA_LATENCIES_AGG\n",
    "                 , RA_PROBE_API\n",
    "                 , RA_PROBE\n",
    "                 , RA_ONE_OFF_EXTENSIONS\n",
    "                )\n",
    "\n",
    "df_ra = pd.read_sql(query_ra, con)"
   ]
  },
  {
   "cell_type": "code",
   "execution_count": 8,
   "metadata": {
    "collapsed": false
   },
   "outputs": [],
   "source": [
    "query_sk = ''' SELECT     agg.probeid\n",
    "                        , unit.latitude\n",
    "                        , unit.longitude\n",
    "                                                                                     \n",
    "               FROM       %s                            as   agg          \n",
    "                        , %s                            as   ext\n",
    "                        , %s                            as   unit\n",
    "                        \n",
    "                        \n",
    "\n",
    "               WHERE      agg.probeid                    =    ext.probeid\n",
    "               AND        agg.probeid                    =    unit.unit_id                     \n",
    "               \n",
    "               AND        ext.if_residential             =    1\n",
    "               AND        agg.h1_avg                     <>   0\n",
    "               AND        agg.h2_avg                     <>   0\n",
    "               \n",
    "               GROUP BY agg.probeid\n",
    "               \n",
    "           '''%(   SK_LATENCIES_AGG\n",
    "                 , SK_ONE_OFF_EXTENSIONS\n",
    "                 , UNIT_REPORT                \n",
    "               )\n",
    "\n",
    "df_sk = pd.read_sql(query_sk, con)"
   ]
  },
  {
   "cell_type": "code",
   "execution_count": 9,
   "metadata": {
    "collapsed": true
   },
   "outputs": [],
   "source": [
    "df_ra = df_ra.dropna()"
   ]
  },
  {
   "cell_type": "code",
   "execution_count": 10,
   "metadata": {
    "collapsed": true
   },
   "outputs": [],
   "source": [
    "df_sk = df_sk.dropna()"
   ]
  },
  {
   "cell_type": "code",
   "execution_count": 11,
   "metadata": {
    "collapsed": false
   },
   "outputs": [
    {
     "data": {
      "text/plain": [
       "probeid      696\n",
       "latitude     696\n",
       "longitude    696\n",
       "dtype: int64"
      ]
     },
     "execution_count": 11,
     "metadata": {},
     "output_type": "execute_result"
    }
   ],
   "source": [
    "df_ra.count()"
   ]
  },
  {
   "cell_type": "code",
   "execution_count": 12,
   "metadata": {
    "collapsed": false
   },
   "outputs": [
    {
     "data": {
      "text/html": [
       "<div>\n",
       "<table border=\"1\" class=\"dataframe\">\n",
       "  <thead>\n",
       "    <tr style=\"text-align: right;\">\n",
       "      <th></th>\n",
       "      <th>probeid</th>\n",
       "      <th>latitude</th>\n",
       "      <th>longitude</th>\n",
       "    </tr>\n",
       "  </thead>\n",
       "  <tbody>\n",
       "    <tr>\n",
       "      <th>0</th>\n",
       "      <td>10006</td>\n",
       "      <td>52.3805</td>\n",
       "      <td>4.9275</td>\n",
       "    </tr>\n",
       "    <tr>\n",
       "      <th>1</th>\n",
       "      <td>10007</td>\n",
       "      <td>38.3205</td>\n",
       "      <td>-122.3225</td>\n",
       "    </tr>\n",
       "    <tr>\n",
       "      <th>2</th>\n",
       "      <td>10010</td>\n",
       "      <td>52.3475</td>\n",
       "      <td>4.9175</td>\n",
       "    </tr>\n",
       "    <tr>\n",
       "      <th>3</th>\n",
       "      <td>10012</td>\n",
       "      <td>52.3685</td>\n",
       "      <td>4.8975</td>\n",
       "    </tr>\n",
       "    <tr>\n",
       "      <th>4</th>\n",
       "      <td>10013</td>\n",
       "      <td>52.3685</td>\n",
       "      <td>5.2175</td>\n",
       "    </tr>\n",
       "  </tbody>\n",
       "</table>\n",
       "</div>"
      ],
      "text/plain": [
       "   probeid  latitude  longitude\n",
       "0    10006   52.3805     4.9275\n",
       "1    10007   38.3205  -122.3225\n",
       "2    10010   52.3475     4.9175\n",
       "3    10012   52.3685     4.8975\n",
       "4    10013   52.3685     5.2175"
      ]
     },
     "execution_count": 12,
     "metadata": {},
     "output_type": "execute_result"
    }
   ],
   "source": [
    "df_ra.head()"
   ]
  },
  {
   "cell_type": "code",
   "execution_count": 13,
   "metadata": {
    "collapsed": false
   },
   "outputs": [
    {
     "data": {
      "text/plain": [
       "probeid      1244\n",
       "latitude     1244\n",
       "longitude    1244\n",
       "dtype: int64"
      ]
     },
     "execution_count": 13,
     "metadata": {},
     "output_type": "execute_result"
    }
   ],
   "source": [
    "df_sk.count()"
   ]
  },
  {
   "cell_type": "code",
   "execution_count": 14,
   "metadata": {
    "collapsed": false
   },
   "outputs": [
    {
     "data": {
      "text/html": [
       "<div>\n",
       "<table border=\"1\" class=\"dataframe\">\n",
       "  <thead>\n",
       "    <tr style=\"text-align: right;\">\n",
       "      <th></th>\n",
       "      <th>probeid</th>\n",
       "      <th>latitude</th>\n",
       "      <th>longitude</th>\n",
       "    </tr>\n",
       "  </thead>\n",
       "  <tbody>\n",
       "    <tr>\n",
       "      <th>0</th>\n",
       "      <td>14905</td>\n",
       "      <td>55.9500</td>\n",
       "      <td>-3.2000</td>\n",
       "    </tr>\n",
       "    <tr>\n",
       "      <th>1</th>\n",
       "      <td>14971</td>\n",
       "      <td>55.9500</td>\n",
       "      <td>-3.2000</td>\n",
       "    </tr>\n",
       "    <tr>\n",
       "      <th>2</th>\n",
       "      <td>15015</td>\n",
       "      <td>53.3667</td>\n",
       "      <td>-1.5000</td>\n",
       "    </tr>\n",
       "    <tr>\n",
       "      <th>3</th>\n",
       "      <td>15058</td>\n",
       "      <td>50.7167</td>\n",
       "      <td>-1.8833</td>\n",
       "    </tr>\n",
       "    <tr>\n",
       "      <th>4</th>\n",
       "      <td>15129</td>\n",
       "      <td>51.5000</td>\n",
       "      <td>-0.1300</td>\n",
       "    </tr>\n",
       "  </tbody>\n",
       "</table>\n",
       "</div>"
      ],
      "text/plain": [
       "   probeid  latitude  longitude\n",
       "0    14905   55.9500    -3.2000\n",
       "1    14971   55.9500    -3.2000\n",
       "2    15015   53.3667    -1.5000\n",
       "3    15058   50.7167    -1.8833\n",
       "4    15129   51.5000    -0.1300"
      ]
     },
     "execution_count": 14,
     "metadata": {},
     "output_type": "execute_result"
    }
   ],
   "source": [
    "df_sk.head()"
   ]
  },
  {
   "cell_type": "code",
   "execution_count": 15,
   "metadata": {
    "collapsed": true
   },
   "outputs": [],
   "source": [
    "def probes_in_region(df, llcrnrlat, llcrnrlon, urcrnrlat, urcrnrlon):\n",
    "    count = 0\n",
    "    for x,y in zip (df['latitude'].values, df['longitude'].values):\n",
    "        if (x > llcrnrlat and y > llcrnrlon and x < urcrnrlat and y < urcrnrlon):\n",
    "            count+=1\n",
    "    return count"
   ]
  },
  {
   "cell_type": "code",
   "execution_count": 16,
   "metadata": {
    "collapsed": false
   },
   "outputs": [
    {
     "data": {
      "image/png": "[encoded data removed]",
      "text/plain": [
       "<matplotlib.figure.Figure at 0x7f855d5085c0>"
      ]
     },
     "metadata": {},
     "output_type": "display_data"
    }
   ],
   "source": [
    "#---- plt.style.use('ggplot')\n",
    "fig = plt.figure(figsize=(5,5))\n",
    "plt.rcParams['font.size'] = 22\n",
    "\n",
    "llcrnrlat     =    +41.61900  \n",
    "llcrnrlon     =    -12.04945\n",
    "urcrnrlat     =    +59.11639              \n",
    "urcrnrlon     =    +27.67711\n",
    "\n",
    "m = Basemap (  projection    =    'merc'\n",
    "             \n",
    "             , llcrnrlat     =    llcrnrlat\n",
    "             , llcrnrlon     =    llcrnrlon\n",
    "             \n",
    "             , urcrnrlat     =    urcrnrlat         \n",
    "             , urcrnrlon     =    urcrnrlon\n",
    "             \n",
    "             , lat_ts        =    20\n",
    "             , resolution    =    'c'\n",
    "            )\n",
    "\n",
    "m.drawcoastlines()\n",
    "m.fillcontinents(color='white',lake_color='lightcyan')\n",
    "#m.fillcontinents()\n",
    "#m.drawparallels(np.arange(-90.,91.,30.))\n",
    "#m.drawmeridians(np.arange(-180.,181.,60.))\n",
    "m.drawmapboundary(fill_color='lightcyan')\n",
    "m.drawcountries()\n",
    "\n",
    "count = probes_in_region(df_ra, llcrnrlat, llcrnrlon, urcrnrlat, urcrnrlon )\n",
    "\n",
    "#plt.title(\"RIPE Atlas (EU) [#%d]\"%count, fontsize=32, y=1.02)\n",
    "\n",
    "#plt.text(  0,0\n",
    "#         , \"RIPE Atlas (EU) [#%d]\"%count \n",
    "#         , horizontalalignment='right'\n",
    "#         , verticalalignment='bottom'\n",
    "#         , rotation='vertical'\n",
    "#         , fontsize=22)\n",
    "\n",
    "x,y = m(df_sk['longitude'].values, df_sk['latitude'].values)\n",
    "m.plot(x, y, 'r.', markersize=10, fillstyle='none')\n",
    "\n",
    "x,y = m(df_ra['longitude'].values, df_ra['latitude'].values)\n",
    "m.plot(x, y, 'b.', markersize=10, fillstyle='none')\n",
    "\n",
    "plt.savefig('probes-geo-distribution-eu.pdf', format='pdf', bbox_inches='tight')"
   ]
  },
  {
   "cell_type": "code",
   "execution_count": 17,
   "metadata": {
    "collapsed": false
   },
   "outputs": [
    {
     "data": {
      "image/png": "[encoded data removed]",
      "text/plain": [
       "<matplotlib.figure.Figure at 0x7f855d508710>"
      ]
     },
     "metadata": {},
     "output_type": "display_data"
    }
   ],
   "source": [
    "#---- plt.style.use('ggplot')\n",
    "fig = plt.figure(figsize=(5,5))\n",
    "plt.rcParams['font.size'] = 22\n",
    "\n",
    "llcrnrlat     =    +14.04529  \n",
    "llcrnrlon     =    -162.82032\n",
    "urcrnrlat     =    +52.55921 \n",
    "urcrnrlon     =    -51.90235 \n",
    "\n",
    "m = Basemap (  projection    =    'merc'\n",
    "             \n",
    "             , llcrnrlat     =    +14.04529  \n",
    "             , llcrnrlon     =    -162.82032\n",
    "             \n",
    "             , urcrnrlat     =    +52.55921 \n",
    "             , urcrnrlon     =    -51.90235 \n",
    "             \n",
    "             , lat_ts        =    20\n",
    "             , resolution    =    'c'\n",
    "            )\n",
    "\n",
    "m.drawcoastlines()\n",
    "m.fillcontinents(color='white',lake_color='lightcyan')\n",
    "#m.fillcontinents()\n",
    "#m.drawparallels(np.arange(-90.,91.,30.))\n",
    "#m.drawmeridians(np.arange(-180.,181.,60.))\n",
    "m.drawmapboundary(fill_color='lightcyan')\n",
    "m.drawcountries()\n",
    "\n",
    "ra_count = probes_in_region(df_ra, llcrnrlat, llcrnrlon, urcrnrlat, urcrnrlon )\n",
    "sk_count = probes_in_region(df_sk, llcrnrlat, llcrnrlon, urcrnrlat, urcrnrlon )\n",
    "\n",
    "#plt.title(\"RIPE Atlas [#%d] | SamKnows [#%d] (US)\"%(ra_count, sk_count)\n",
    "#          , fontsize=42\n",
    "#          , y=-0.12\n",
    "#        )\n",
    "\n",
    "#plt.text(  0,0\n",
    "#         , \"RIPE Atlas [#%d]\\nSamKnows [#%d] (US)\"%(ra_count, sk_count)\n",
    "#         , horizontalalignment='right'\n",
    "#         , verticalalignment='bottom'\n",
    "#         , rotation='vertical'\n",
    "#         , fontsize=22)\n",
    "\n",
    "x,y = m(df_ra['longitude'].values, df_ra['latitude'].values)\n",
    "m.plot(x, y, 'b.', markersize=10, fillstyle='none')\n",
    "\n",
    "x,y = m(df_sk['longitude'].values, df_sk['latitude'].values)\n",
    "m.plot(x, y, 'r.', markersize=10, fillstyle='none')\n",
    "\n",
    "plt.savefig('probes-geo-distribution-us.pdf', format='pdf', bbox_inches='tight')"
   ]
  }
 ],
 "metadata": {
  "kernelspec": {
   "display_name": "Python 3",
   "language": "python",
   "name": "python3"
  },
  "language_info": {
   "codemirror_mode": {
    "name": "ipython",
    "version": 3
   },
   "file_extension": ".py",
   "mimetype": "text/x-python",
   "name": "python",
   "nbconvert_exporter": "python",
   "pygments_lexer": "ipython3",
   "version": "3.4.2"
  }
 },
 "nbformat": 4,
 "nbformat_minor": 0
}
