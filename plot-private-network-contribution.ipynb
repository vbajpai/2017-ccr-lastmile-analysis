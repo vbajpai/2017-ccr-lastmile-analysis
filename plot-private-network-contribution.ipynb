{
 "cells": [
  {
   "cell_type": "markdown",
   "metadata": {},
   "source": [
    "*This notebook plots the private network latency contribution as a ratio of hop1 to hop2 latencies.*\n",
    "- - - "
   ]
  },
  {
   "cell_type": "code",
   "execution_count": 1,
   "metadata": {
    "collapsed": false
   },
   "outputs": [
    {
     "name": "stdout",
     "output_type": "stream",
     "text": [
      "Populating the interactive namespace from numpy and matplotlib\n"
     ]
    }
   ],
   "source": [
    "%pylab inline"
   ]
  },
  {
   "cell_type": "code",
   "execution_count": 2,
   "metadata": {
    "collapsed": true
   },
   "outputs": [],
   "source": [
    "import warnings\n",
    "warnings.filterwarnings('ignore')"
   ]
  },
  {
   "cell_type": "code",
   "execution_count": 3,
   "metadata": {
    "collapsed": false
   },
   "outputs": [
    {
     "data": {
      "text/html": [
       "<style>body {\n",
       "    margin: 0;\n",
       "    font-family: Helvetica;\n",
       "}\n",
       "table.dataframe {\n",
       "    border-collapse: collapse;\n",
       "    border: none;\n",
       "}\n",
       "table.dataframe tr {\n",
       "    border: none;\n",
       "}\n",
       "table.dataframe td, table.dataframe th {\n",
       "    margin: 0;\n",
       "    border: 1px solid white;\n",
       "    padding-left: 0.25em;\n",
       "    padding-right: 0.25em;\n",
       "}\n",
       "table.dataframe th:not(:empty) {\n",
       "    background-color: #fec;\n",
       "    text-align: left;\n",
       "    font-weight: normal;\n",
       "}\n",
       "table.dataframe tr:nth-child(2) th:empty {\n",
       "    border-left: none;\n",
       "    border-right: 1px dashed #888;\n",
       "}\n",
       "table.dataframe td {\n",
       "    border: 2px solid #ccf;\n",
       "    background-color: #f4f4ff;\n",
       "}\n",
       "h3 {\n",
       "    color: white;\n",
       "    background-color: black;\n",
       "    padding: 0.5em;\n",
       "}\n",
       "\n",
       ".CodeMirror {\n",
       "    font-family: 'Monaco for Powerline';\n",
       "}\n",
       "\n",
       "div.cell.code_cell {\n",
       "    font-family: 'Monaco for Powerline';\n",
       "}\n",
       "\n",
       "div.output_area pre {\n",
       "    font-family: 'Monaco for Powerline';\n",
       "}\n",
       "</style>"
      ],
      "text/plain": [
       "<IPython.core.display.HTML object>"
      ]
     },
     "execution_count": 3,
     "metadata": {},
     "output_type": "execute_result"
    }
   ],
   "source": [
    "from IPython.core.display import HTML\n",
    "css = open('style-table.css').read() + open('style-notebook.css').read()\n",
    "HTML('<style>{}</style>'.format(css))"
   ]
  },
  {
   "cell_type": "code",
   "execution_count": 4,
   "metadata": {
    "collapsed": false
   },
   "outputs": [],
   "source": [
    "import sqlite3\n",
    "import pandas as pd"
   ]
  },
  {
   "cell_type": "code",
   "execution_count": 5,
   "metadata": {
    "collapsed": true
   },
   "outputs": [],
   "source": [
    "DB_LOCATION = 'lastmile.db'"
   ]
  },
  {
   "cell_type": "code",
   "execution_count": 6,
   "metadata": {
    "collapsed": true
   },
   "outputs": [],
   "source": [
    "RA_PROBE = 'ra_probe'\n",
    "RA_ONE_OFF_EXTENSIONS = 'ra_one_off_extensions'\n",
    "RA_LATENCIES_AGG = 'ra_latencies_agg'"
   ]
  },
  {
   "cell_type": "code",
   "execution_count": 7,
   "metadata": {
    "collapsed": true
   },
   "outputs": [],
   "source": [
    "SK_ONE_OFF_EXTENSIONS = 'sk_one_off_extensions'\n",
    "SK_LATENCIES_AGG = 'sk_latencies_agg'\n",
    "SK_ASN = 'sk_asn'\n",
    "METADATA_SNAPSHOT = 'metadata_snapshot'\n",
    "METADATA_SNAPSHOT_EXTENSIONS = 'metadata_snapshot_extensions'"
   ]
  },
  {
   "cell_type": "code",
   "execution_count": 8,
   "metadata": {
    "collapsed": false
   },
   "outputs": [],
   "source": [
    "con = sqlite3.connect(DB_LOCATION)"
   ]
  },
  {
   "cell_type": "code",
   "execution_count": 9,
   "metadata": {
    "collapsed": false
   },
   "outputs": [],
   "source": [
    "query_ra = '''SELECT      agg.probeid\n",
    "                        , agg.timestamp\n",
    "                        , agg.h1_median || ';' || agg.h2_median as h1h2\n",
    "\n",
    "               FROM   %s                             as  agg\n",
    "                    , %s                             as  hardware\n",
    "                    , %s                             as  ext\n",
    "\n",
    "               WHERE     agg.probeid                  =  hardware.probeid\n",
    "               AND       agg.probeid                  =  ext.probeid\n",
    "\n",
    "               AND       hardware.hardware_version    =  'v3'\n",
    "               AND       ext.if_residential           =  1\n",
    "               \n",
    "            '''%(  RA_LATENCIES_AGG\n",
    "                 , RA_PROBE\n",
    "                 , RA_ONE_OFF_EXTENSIONS\n",
    "                )\n",
    "\n",
    "df_ra = pd.read_sql(query_ra, con)"
   ]
  },
  {
   "cell_type": "code",
   "execution_count": 10,
   "metadata": {
    "collapsed": false
   },
   "outputs": [
    {
     "data": {
      "text/plain": [
       "probeid      134724\n",
       "timestamp    134724\n",
       "h1h2         130006\n",
       "dtype: int64"
      ]
     },
     "execution_count": 10,
     "metadata": {},
     "output_type": "execute_result"
    }
   ],
   "source": [
    "df_ra.count()"
   ]
  },
  {
   "cell_type": "code",
   "execution_count": 11,
   "metadata": {
    "collapsed": false
   },
   "outputs": [
    {
     "data": {
      "text/html": [
       "<div>\n",
       "<table border=\"1\" class=\"dataframe\">\n",
       "  <thead>\n",
       "    <tr style=\"text-align: right;\">\n",
       "      <th></th>\n",
       "      <th>probeid</th>\n",
       "      <th>timestamp</th>\n",
       "      <th>h1h2</th>\n",
       "    </tr>\n",
       "  </thead>\n",
       "  <tbody>\n",
       "    <tr>\n",
       "      <th>0</th>\n",
       "      <td>10006</td>\n",
       "      <td>1406548034</td>\n",
       "      <td>0.429;20.49</td>\n",
       "    </tr>\n",
       "    <tr>\n",
       "      <th>1</th>\n",
       "      <td>10006</td>\n",
       "      <td>1406562432</td>\n",
       "      <td>0.431;17.7</td>\n",
       "    </tr>\n",
       "    <tr>\n",
       "      <th>2</th>\n",
       "      <td>10006</td>\n",
       "      <td>1406576835</td>\n",
       "      <td>0.438;17.776</td>\n",
       "    </tr>\n",
       "    <tr>\n",
       "      <th>3</th>\n",
       "      <td>10006</td>\n",
       "      <td>1406591230</td>\n",
       "      <td>0.478;17.577</td>\n",
       "    </tr>\n",
       "    <tr>\n",
       "      <th>4</th>\n",
       "      <td>10006</td>\n",
       "      <td>1406605631</td>\n",
       "      <td>0.422;17.526</td>\n",
       "    </tr>\n",
       "  </tbody>\n",
       "</table>\n",
       "</div>"
      ],
      "text/plain": [
       "   probeid   timestamp          h1h2\n",
       "0    10006  1406548034   0.429;20.49\n",
       "1    10006  1406562432    0.431;17.7\n",
       "2    10006  1406576835  0.438;17.776\n",
       "3    10006  1406591230  0.478;17.577\n",
       "4    10006  1406605631  0.422;17.526"
      ]
     },
     "execution_count": 11,
     "metadata": {},
     "output_type": "execute_result"
    }
   ],
   "source": [
    "df_ra.head()"
   ]
  },
  {
   "cell_type": "code",
   "execution_count": 12,
   "metadata": {
    "collapsed": false
   },
   "outputs": [],
   "source": [
    "query_sk = ''' SELECT     agg.probeid\n",
    "                        , agg.timestamp\n",
    "                        , s.asn       \n",
    "                        , s.asn_holder_name\n",
    "                        , meta.product                        \n",
    "                        , agg.h1_avg || ';' || agg.h2_avg as h1h2\n",
    "\n",
    "                                                                                     \n",
    "               FROM       %s                            as   agg\n",
    "                        , %s                            as   api               \n",
    "                        , %s                            as   ext\n",
    "                        , %s                            as   s\n",
    "                        , %s                            as   meta\n",
    "                        \n",
    "                        \n",
    "\n",
    "               WHERE      agg.probeid                    =    ext.probeid\n",
    "               AND        agg.probeid                    =    api.probeid\n",
    "               AND        agg.probeid                    =    meta.id               \n",
    "               AND        api.asn                        =    s.asn               \n",
    "               \n",
    "               AND        ext.if_residential             =    1\n",
    "               AND        agg.h1_avg                     <>   0\n",
    "               AND        agg.h2_avg                     <>   0\n",
    "               \n",
    "           '''%(   SK_LATENCIES_AGG\n",
    "                 , METADATA_SNAPSHOT_EXTENSIONS                \n",
    "                 , SK_ONE_OFF_EXTENSIONS\n",
    "                 , SK_ASN        \n",
    "                 , METADATA_SNAPSHOT                \n",
    "               )\n",
    "\n",
    "df_sk = pd.read_sql(query_sk, con)"
   ]
  },
  {
   "cell_type": "code",
   "execution_count": 13,
   "metadata": {
    "collapsed": true
   },
   "outputs": [],
   "source": [
    "df_ra = df_ra.dropna()"
   ]
  },
  {
   "cell_type": "code",
   "execution_count": 14,
   "metadata": {
    "collapsed": true
   },
   "outputs": [],
   "source": [
    "df_sk = df_sk.dropna()"
   ]
  },
  {
   "cell_type": "code",
   "execution_count": 15,
   "metadata": {
    "collapsed": false
   },
   "outputs": [
    {
     "data": {
      "text/plain": [
       "probeid            435841\n",
       "timestamp          435841\n",
       "asn                435841\n",
       "asn_holder_name    435841\n",
       "product            435841\n",
       "h1h2               435841\n",
       "dtype: int64"
      ]
     },
     "execution_count": 15,
     "metadata": {},
     "output_type": "execute_result"
    }
   ],
   "source": [
    "df_sk.count()"
   ]
  },
  {
   "cell_type": "code",
   "execution_count": 16,
   "metadata": {
    "collapsed": false
   },
   "outputs": [
    {
     "data": {
      "text/plain": [
       "probeid      130006\n",
       "timestamp    130006\n",
       "h1h2         130006\n",
       "dtype: int64"
      ]
     },
     "execution_count": 16,
     "metadata": {},
     "output_type": "execute_result"
    }
   ],
   "source": [
    "df_ra.count()"
   ]
  },
  {
   "cell_type": "code",
   "execution_count": 17,
   "metadata": {
    "collapsed": false
   },
   "outputs": [],
   "source": [
    "def calculate_private_contribution(h1h2):\n",
    "    try: h1,h2 = h1h2.split(';')\n",
    "    except Exception as e: print(e, type(e), h1h2); return None\n",
    "    \n",
    "    try: contribution = float(h1)/float(h2) *100\n",
    "    except Exception as e: print(e, type(e), h1, h2); return None\n",
    "    \n",
    "    return contribution"
   ]
  },
  {
   "cell_type": "code",
   "execution_count": 18,
   "metadata": {
    "collapsed": false
   },
   "outputs": [],
   "source": [
    "df_ra['private_contribution'] = df_ra['h1h2'].apply(calculate_private_contribution)\n",
    "df_sk['private_contribution'] = df_sk['h1h2'].apply(calculate_private_contribution)"
   ]
  },
  {
   "cell_type": "code",
   "execution_count": 19,
   "metadata": {
    "collapsed": true
   },
   "outputs": [],
   "source": [
    "df_ra_groupby = df_ra.groupby('probeid')\n",
    "df_ra_agg = df_ra_groupby['private_contribution'].agg(['median'])\n",
    "df_ra_merged = pd.merge(df_ra, df_ra_agg, left_on='probeid', right_index=True)\n",
    "\n",
    "del df_ra_merged['timestamp']\n",
    "del df_ra_merged['h1h2']\n",
    "del df_ra_merged['private_contribution']\n",
    "\n",
    "df_ra_merged = df_ra_merged.drop_duplicates()\n",
    "df_ra_merged.rename(columns={'median': 'private_contribution'}, inplace=True)"
   ]
  },
  {
   "cell_type": "code",
   "execution_count": 20,
   "metadata": {
    "collapsed": false
   },
   "outputs": [],
   "source": [
    "df_sk_groupby = df_sk.groupby('probeid')\n",
    "df_sk_agg = df_sk_groupby['private_contribution'].agg(['median'])\n",
    "df_sk_merged = pd.merge(df_sk, df_sk_agg, left_on='probeid', right_index=True)\n",
    "\n",
    "del df_sk_merged['timestamp']\n",
    "del df_sk_merged['h1h2']\n",
    "del df_sk_merged['private_contribution']\n",
    "\n",
    "df_sk_merged = df_sk_merged.drop_duplicates()\n",
    "df_sk_merged.rename(columns={'median': 'private_contribution'}, inplace=True)"
   ]
  },
  {
   "cell_type": "code",
   "execution_count": 21,
   "metadata": {
    "collapsed": false
   },
   "outputs": [
    {
     "data": {
      "text/plain": [
       "probeid                 691\n",
       "private_contribution    691\n",
       "dtype: int64"
      ]
     },
     "execution_count": 21,
     "metadata": {},
     "output_type": "execute_result"
    }
   ],
   "source": [
    "df_ra_merged.count()"
   ]
  },
  {
   "cell_type": "code",
   "execution_count": 22,
   "metadata": {
    "collapsed": false
   },
   "outputs": [
    {
     "data": {
      "text/plain": [
       "probeid                 1245\n",
       "asn                     1245\n",
       "asn_holder_name         1245\n",
       "product                 1245\n",
       "private_contribution    1245\n",
       "dtype: int64"
      ]
     },
     "execution_count": 22,
     "metadata": {},
     "output_type": "execute_result"
    }
   ],
   "source": [
    "df_sk_merged.count()"
   ]
  },
  {
   "cell_type": "code",
   "execution_count": 23,
   "metadata": {
    "collapsed": false
   },
   "outputs": [],
   "source": [
    "df_ra_merged = df_ra_merged.sort('private_contribution')\n",
    "df_sk_merged = df_sk_merged.sort('private_contribution')"
   ]
  },
  {
   "cell_type": "code",
   "execution_count": 24,
   "metadata": {
    "collapsed": false
   },
   "outputs": [
    {
     "data": {
      "text/plain": [
       "probeid                 3\n",
       "private_contribution    3\n",
       "dtype: int64"
      ]
     },
     "execution_count": 24,
     "metadata": {},
     "output_type": "execute_result"
    }
   ],
   "source": [
    "df_ra_merged[df_ra_merged.private_contribution >= 100].count()"
   ]
  },
  {
   "cell_type": "code",
   "execution_count": 25,
   "metadata": {
    "collapsed": false
   },
   "outputs": [
    {
     "data": {
      "text/plain": [
       "probeid                 124\n",
       "asn                     124\n",
       "asn_holder_name         124\n",
       "product                 124\n",
       "private_contribution    124\n",
       "dtype: int64"
      ]
     },
     "execution_count": 25,
     "metadata": {},
     "output_type": "execute_result"
    }
   ],
   "source": [
    "df_sk_merged[df_sk_merged.private_contribution >= 100].count()"
   ]
  },
  {
   "cell_type": "code",
   "execution_count": 29,
   "metadata": {
    "collapsed": false
   },
   "outputs": [
    {
     "data": {
      "text/plain": [
       "0.75822102314089923"
      ]
     },
     "execution_count": 29,
     "metadata": {},
     "output_type": "execute_result"
    }
   ],
   "source": [
    "df_ra_merged['private_contribution'].values[1]"
   ]
  },
  {
   "cell_type": "code",
   "execution_count": 30,
   "metadata": {
    "collapsed": false
   },
   "outputs": [],
   "source": [
    "import Cdf\n",
    "import Pmf\n",
    "ra_sample = df_ra_merged['private_contribution'].values\n",
    "sk_sample = df_sk_merged['private_contribution'].values\n",
    "ra_c = Cdf.MakeCdfFromList(ra_sample)\n",
    "sk_c = Cdf.MakeCdfFromList(sk_sample)"
   ]
  },
  {
   "cell_type": "code",
   "execution_count": 50,
   "metadata": {
    "collapsed": false
   },
   "outputs": [
    {
     "data": {
      "image/png": "[encoded data removed]",
      "text/plain": [
       "<matplotlib.figure.Figure at 0x7fc35ca7cbe0>"
      ]
     },
     "metadata": {},
     "output_type": "display_data"
    }
   ],
   "source": [
    "# ---- plt.style.use('ggplot')\n",
    "fig = plt.figure(figsize=(5,1.5))\n",
    "plt.rcParams['font.size'] = 12\n",
    "yticks = np.arange(0,1.1,0.2)\n",
    "ax = plt.gca()\n",
    "\n",
    "ax.plot (  sk_c.xs\n",
    "          , sk_c.ps\n",
    "          , marker='s'\n",
    "          , linewidth=0.3\n",
    "          , markersize=5\n",
    "          , fillstyle='none'\n",
    "          , color='Blue'\n",
    "         )\n",
    "\n",
    "ax.plot (  ra_c.xs\n",
    "          , ra_c.ps\n",
    "          , marker='x'\n",
    "          , linewidth=0.3\n",
    "          , markersize=5\n",
    "          , color='Violet'\n",
    "         )\n",
    "\n",
    "ax.spines['right'].set_color('none')\n",
    "ax.spines['top'].set_color('none')\n",
    "ax.yaxis.set_ticks_position('left')\n",
    "ax.xaxis.set_ticks_position('bottom')\n",
    "ax.spines['bottom'].set_position(('axes', -0.05))\n",
    "ax.spines['left'].set_position(('axes', -0.05))\n",
    "\n",
    "ax.yaxis.set_label_coords(-0.21, 0.45)\n",
    "ax = fig.axes[0]\n",
    "ax.grid(False)\n",
    "ax.set_yticks(yticks)\n",
    "ax.set_ylim([0,1.05])\n",
    "#ax.set_xlim(xmin=100)\n",
    "ax.set_xscale('log')\n",
    "ax.set_xlabel('hop1/hop2 (%)', fontsize=12)\n",
    "ax.set_ylabel('CDF', fontsize=12)\n",
    "ax.legend(['SamKnows   (1.1K)', 'RIPE Atlas (0.6K)'], fontsize=12, bbox_to_anchor=(0.9, -0.55))\n",
    "ax.legend(['SamKnows   (1.1K)', 'RIPE Atlas (0.6K)'], fontsize=12, loc='best')\n",
    "plt.title('Residential Probes', fontsize=12, y=1.05)\n",
    "plt.savefig('ripeatlas-samknows-private-contribution.pdf', format='pdf', bbox_inches='tight')"
   ]
  }
 ],
 "metadata": {
  "kernelspec": {
   "display_name": "Python 3",
   "language": "python",
   "name": "python3"
  },
  "language_info": {
   "codemirror_mode": {
    "name": "ipython",
    "version": 3
   },
   "file_extension": ".py",
   "mimetype": "text/x-python",
   "name": "python",
   "nbconvert_exporter": "python",
   "pygments_lexer": "ipython3",
   "version": "3.4.2"
  }
 },
 "nbformat": 4,
 "nbformat_minor": 0
}
