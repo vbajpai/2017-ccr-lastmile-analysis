{
 "cells": [
  {
   "cell_type": "markdown",
   "metadata": {},
   "source": [
    "*This notebook gets the raw samknows traceroute measurement data from `curr_traceroute` table; prunes the data to fetch (probeid, timestamp, last_hop_latencies) then inserts entire dataframe in `sk_latencies_last_hop_agg` table.*\n",
    "- - - "
   ]
  },
  {
   "cell_type": "code",
   "execution_count": 1,
   "metadata": {
    "collapsed": false
   },
   "outputs": [],
   "source": [
    "import sqlite3\n",
    "import pandas as pd\n",
    "import requests\n",
    "import ipaddress\n",
    "import time"
   ]
  },
  {
   "cell_type": "code",
   "execution_count": 2,
   "metadata": {
    "collapsed": true
   },
   "outputs": [],
   "source": [
    "DB_LOCATION = 'lastmile.db'\n",
    "CURR_TRACEROUTE = 'curr_traceroute'\n",
    "SK_LATENCIES_AGG = 'sk_latencies_last_hop_agg'"
   ]
  },
  {
   "cell_type": "code",
   "execution_count": 3,
   "metadata": {
    "collapsed": false
   },
   "outputs": [],
   "source": [
    "con = sqlite3.connect(DB_LOCATION)"
   ]
  },
  {
   "cell_type": "code",
   "execution_count": 4,
   "metadata": {
    "collapsed": false
   },
   "outputs": [],
   "source": [
    "query = '''SELECT    unit_id as probeid\n",
    "                   , dtime as timestamp\n",
    "                   , GROUP_CONCAT(hop, ';') as hops\n",
    "                   , GROUP_CONCAT(rtt_avg, ';') as rtts\n",
    "                   , '' as last_hop\n",
    "                   , '' as last_hop_avg\n",
    "           FROM      %s\n",
    "           GROUP BY  probeid, timestamp\n",
    "        '''%(CURR_TRACEROUTE)\n",
    "\n",
    "df = pd.read_sql(query, con)"
   ]
  },
  {
   "cell_type": "code",
   "execution_count": 5,
   "metadata": {
    "collapsed": false
   },
   "outputs": [
    {
     "data": {
      "text/html": [
       "<div>\n",
       "<table border=\"1\" class=\"dataframe\">\n",
       "  <thead>\n",
       "    <tr style=\"text-align: right;\">\n",
       "      <th></th>\n",
       "      <th>probeid</th>\n",
       "      <th>timestamp</th>\n",
       "      <th>hops</th>\n",
       "      <th>rtts</th>\n",
       "      <th>last_hop</th>\n",
       "      <th>last_hop_avg</th>\n",
       "    </tr>\n",
       "  </thead>\n",
       "  <tbody>\n",
       "    <tr>\n",
       "      <th>0</th>\n",
       "      <td>14190</td>\n",
       "      <td>2014-07-28 05:42:57</td>\n",
       "      <td>2;3;4;5;6;7;8;9;10;11</td>\n",
       "      <td>1211;1829;1874;7781;8786;17540;12890;7868;7757...</td>\n",
       "      <td></td>\n",
       "      <td></td>\n",
       "    </tr>\n",
       "    <tr>\n",
       "      <th>1</th>\n",
       "      <td>14190</td>\n",
       "      <td>2014-07-28 05:43:01</td>\n",
       "      <td>1;2;3;4;5;6;7;8;9;10;11;12;13;14;15;16</td>\n",
       "      <td>377;1280;1956;4216;11309;10287;16797;9089;1151...</td>\n",
       "      <td></td>\n",
       "      <td></td>\n",
       "    </tr>\n",
       "    <tr>\n",
       "      <th>2</th>\n",
       "      <td>14190</td>\n",
       "      <td>2014-07-28 13:41:21</td>\n",
       "      <td>1;2;3;4;5;6;7;8;9;10;11</td>\n",
       "      <td>424;1383;1827;2183;8265;12836;19957;16784;1227...</td>\n",
       "      <td></td>\n",
       "      <td></td>\n",
       "    </tr>\n",
       "    <tr>\n",
       "      <th>3</th>\n",
       "      <td>14190</td>\n",
       "      <td>2014-07-28 13:41:24</td>\n",
       "      <td>1;2;3;4;5;6;7;8;9;10;11;12;13;14;15;16</td>\n",
       "      <td>362;1669;1723;71457;10363;10321;10385;9262;942...</td>\n",
       "      <td></td>\n",
       "      <td></td>\n",
       "    </tr>\n",
       "    <tr>\n",
       "      <th>4</th>\n",
       "      <td>14190</td>\n",
       "      <td>2014-07-28 17:43:23</td>\n",
       "      <td>1;2;3;4;5;6;7;8;9;10;11</td>\n",
       "      <td>395;1297;1807;2262;11179;10952;13786;7872;1209...</td>\n",
       "      <td></td>\n",
       "      <td></td>\n",
       "    </tr>\n",
       "  </tbody>\n",
       "</table>\n",
       "</div>"
      ],
      "text/plain": [
       "   probeid            timestamp                                    hops  \\\n",
       "0    14190  2014-07-28 05:42:57                   2;3;4;5;6;7;8;9;10;11   \n",
       "1    14190  2014-07-28 05:43:01  1;2;3;4;5;6;7;8;9;10;11;12;13;14;15;16   \n",
       "2    14190  2014-07-28 13:41:21                 1;2;3;4;5;6;7;8;9;10;11   \n",
       "3    14190  2014-07-28 13:41:24  1;2;3;4;5;6;7;8;9;10;11;12;13;14;15;16   \n",
       "4    14190  2014-07-28 17:43:23                 1;2;3;4;5;6;7;8;9;10;11   \n",
       "\n",
       "                                                rtts last_hop last_hop_avg  \n",
       "0  1211;1829;1874;7781;8786;17540;12890;7868;7757...                        \n",
       "1  377;1280;1956;4216;11309;10287;16797;9089;1151...                        \n",
       "2  424;1383;1827;2183;8265;12836;19957;16784;1227...                        \n",
       "3  362;1669;1723;71457;10363;10321;10385;9262;942...                        \n",
       "4  395;1297;1807;2262;11179;10952;13786;7872;1209...                        "
      ]
     },
     "execution_count": 5,
     "metadata": {},
     "output_type": "execute_result"
    }
   ],
   "source": [
    "df.head()"
   ]
  },
  {
   "cell_type": "code",
   "execution_count": 6,
   "metadata": {
    "collapsed": false
   },
   "outputs": [],
   "source": [
    "def get_last_hop_rtt(rtts): \n",
    "    try: last_hop_rtt = rtts.split(';')[-1]; return float(last_hop_rtt)/1000\n",
    "    except Exception as e: print('*', end=''); return None\n",
    "    \n",
    "def get_last_hop(hops): \n",
    "    try: last_hop = hops.split(';')[-1]; return float(last_hop)\n",
    "    except Exception as e: print('*', end=''); return None\n",
    "\n",
    "df['last_hop_avg'] = df['rtts'].apply(get_last_hop_rtt)\n",
    "df['last_hop']     = df['hops'].apply(get_last_hop)"
   ]
  },
  {
   "cell_type": "code",
   "execution_count": 7,
   "metadata": {
    "collapsed": false
   },
   "outputs": [],
   "source": [
    "del df['hops']\n",
    "del df['rtts']"
   ]
  },
  {
   "cell_type": "code",
   "execution_count": 8,
   "metadata": {
    "collapsed": false
   },
   "outputs": [
    {
     "data": {
      "text/html": [
       "<div>\n",
       "<table border=\"1\" class=\"dataframe\">\n",
       "  <thead>\n",
       "    <tr style=\"text-align: right;\">\n",
       "      <th></th>\n",
       "      <th>probeid</th>\n",
       "      <th>timestamp</th>\n",
       "      <th>last_hop</th>\n",
       "      <th>last_hop_avg</th>\n",
       "    </tr>\n",
       "  </thead>\n",
       "  <tbody>\n",
       "    <tr>\n",
       "      <th>0</th>\n",
       "      <td>14190</td>\n",
       "      <td>2014-07-28 05:42:57</td>\n",
       "      <td>11</td>\n",
       "      <td>7.668</td>\n",
       "    </tr>\n",
       "    <tr>\n",
       "      <th>1</th>\n",
       "      <td>14190</td>\n",
       "      <td>2014-07-28 05:43:01</td>\n",
       "      <td>16</td>\n",
       "      <td>77.968</td>\n",
       "    </tr>\n",
       "    <tr>\n",
       "      <th>2</th>\n",
       "      <td>14190</td>\n",
       "      <td>2014-07-28 13:41:21</td>\n",
       "      <td>11</td>\n",
       "      <td>7.719</td>\n",
       "    </tr>\n",
       "    <tr>\n",
       "      <th>3</th>\n",
       "      <td>14190</td>\n",
       "      <td>2014-07-28 13:41:24</td>\n",
       "      <td>16</td>\n",
       "      <td>78.150</td>\n",
       "    </tr>\n",
       "    <tr>\n",
       "      <th>4</th>\n",
       "      <td>14190</td>\n",
       "      <td>2014-07-28 17:43:23</td>\n",
       "      <td>11</td>\n",
       "      <td>7.639</td>\n",
       "    </tr>\n",
       "  </tbody>\n",
       "</table>\n",
       "</div>"
      ],
      "text/plain": [
       "   probeid            timestamp  last_hop  last_hop_avg\n",
       "0    14190  2014-07-28 05:42:57        11         7.668\n",
       "1    14190  2014-07-28 05:43:01        16        77.968\n",
       "2    14190  2014-07-28 13:41:21        11         7.719\n",
       "3    14190  2014-07-28 13:41:24        16        78.150\n",
       "4    14190  2014-07-28 17:43:23        11         7.639"
      ]
     },
     "execution_count": 8,
     "metadata": {},
     "output_type": "execute_result"
    }
   ],
   "source": [
    "df.head()"
   ]
  },
  {
   "cell_type": "code",
   "execution_count": 9,
   "metadata": {
    "collapsed": false
   },
   "outputs": [
    {
     "data": {
      "text/plain": [
       "probeid         789124\n",
       "timestamp       789124\n",
       "last_hop        789124\n",
       "last_hop_avg    789124\n",
       "dtype: int64"
      ]
     },
     "execution_count": 9,
     "metadata": {},
     "output_type": "execute_result"
    }
   ],
   "source": [
    "df.count()"
   ]
  },
  {
   "cell_type": "code",
   "execution_count": 10,
   "metadata": {
    "collapsed": true
   },
   "outputs": [],
   "source": [
    "cur = con.execute('pragma foreign_keys=ON')"
   ]
  },
  {
   "cell_type": "code",
   "execution_count": 11,
   "metadata": {
    "collapsed": false
   },
   "outputs": [],
   "source": [
    "index_label = ['probeid', 'timestamp']\n",
    "df = df.set_index(index_label)"
   ]
  },
  {
   "cell_type": "code",
   "execution_count": 12,
   "metadata": {
    "collapsed": false
   },
   "outputs": [
    {
     "data": {
      "text/html": [
       "<div>\n",
       "<table border=\"1\" class=\"dataframe\">\n",
       "  <thead>\n",
       "    <tr style=\"text-align: right;\">\n",
       "      <th></th>\n",
       "      <th></th>\n",
       "      <th>last_hop</th>\n",
       "      <th>last_hop_avg</th>\n",
       "    </tr>\n",
       "    <tr>\n",
       "      <th>probeid</th>\n",
       "      <th>timestamp</th>\n",
       "      <th></th>\n",
       "      <th></th>\n",
       "    </tr>\n",
       "  </thead>\n",
       "  <tbody>\n",
       "    <tr>\n",
       "      <th rowspan=\"5\" valign=\"top\">14190</th>\n",
       "      <th>2014-07-28 05:42:57</th>\n",
       "      <td>11</td>\n",
       "      <td>7.668</td>\n",
       "    </tr>\n",
       "    <tr>\n",
       "      <th>2014-07-28 05:43:01</th>\n",
       "      <td>16</td>\n",
       "      <td>77.968</td>\n",
       "    </tr>\n",
       "    <tr>\n",
       "      <th>2014-07-28 13:41:21</th>\n",
       "      <td>11</td>\n",
       "      <td>7.719</td>\n",
       "    </tr>\n",
       "    <tr>\n",
       "      <th>2014-07-28 13:41:24</th>\n",
       "      <td>16</td>\n",
       "      <td>78.150</td>\n",
       "    </tr>\n",
       "    <tr>\n",
       "      <th>2014-07-28 17:43:23</th>\n",
       "      <td>11</td>\n",
       "      <td>7.639</td>\n",
       "    </tr>\n",
       "  </tbody>\n",
       "</table>\n",
       "</div>"
      ],
      "text/plain": [
       "                             last_hop  last_hop_avg\n",
       "probeid timestamp                                  \n",
       "14190   2014-07-28 05:42:57        11         7.668\n",
       "        2014-07-28 05:43:01        16        77.968\n",
       "        2014-07-28 13:41:21        11         7.719\n",
       "        2014-07-28 13:41:24        16        78.150\n",
       "        2014-07-28 17:43:23        11         7.639"
      ]
     },
     "execution_count": 12,
     "metadata": {},
     "output_type": "execute_result"
    }
   ],
   "source": [
    "df.head()"
   ]
  },
  {
   "cell_type": "code",
   "execution_count": 13,
   "metadata": {
    "collapsed": true
   },
   "outputs": [],
   "source": [
    "df.to_sql(  '%s'%SK_LATENCIES_AGG\n",
    "          , con\n",
    "          , flavor='sqlite'\n",
    "          , if_exists = 'append'\n",
    "          , index_label = index_label\n",
    "         )"
   ]
  },
  {
   "cell_type": "code",
   "execution_count": 14,
   "metadata": {
    "collapsed": true
   },
   "outputs": [],
   "source": [
    "con.commit()\n",
    "con.close()"
   ]
  },
  {
   "cell_type": "code",
   "execution_count": null,
   "metadata": {
    "collapsed": true
   },
   "outputs": [],
   "source": []
  }
 ],
 "metadata": {
  "kernelspec": {
   "display_name": "Python 3",
   "language": "python",
   "name": "python3"
  },
  "language_info": {
   "codemirror_mode": {
    "name": "ipython",
    "version": 3
   },
   "file_extension": ".py",
   "mimetype": "text/x-python",
   "name": "python",
   "nbconvert_exporter": "python",
   "pygments_lexer": "ipython3",
   "version": "3.4.2"
  }
 },
 "nbformat": 4,
 "nbformat_minor": 0
}
