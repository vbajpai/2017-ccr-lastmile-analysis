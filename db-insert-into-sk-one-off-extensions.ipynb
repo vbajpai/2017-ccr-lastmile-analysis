{
 "cells": [
  {
   "cell_type": "markdown",
   "metadata": {},
   "source": [
    "*This notebook gets the raw traceroute measurement data from `curr_traceroute` table and filters the NATed and residential probe IDs, then inserts entire dataframe (probeid, timestamp, if_nat, if_residential, reverse_dns column) in `sk_one_off_extensions` table. Corresponding access_types derived from reverse_dns should be a separate notebook*\n",
    "- - - "
   ]
  },
  {
   "cell_type": "code",
   "execution_count": 1,
   "metadata": {
    "collapsed": false
   },
   "outputs": [],
   "source": [
    "import sqlite3\n",
    "import pandas as pd\n",
    "import requests\n",
    "import ipaddress\n",
    "import time"
   ]
  },
  {
   "cell_type": "code",
   "execution_count": 11,
   "metadata": {
    "collapsed": true
   },
   "outputs": [],
   "source": [
    "DB_LOCATION = 'lastmile.db'\n",
    "CURR_TRACEROUTE = 'curr_traceroute'\n",
    "SK_ONE_OFF_EXTENSIONS = 'sk_one_off_extensions'\n",
    "METADATA_SNAPSHOT = 'metadata_snapshot'"
   ]
  },
  {
   "cell_type": "code",
   "execution_count": 39,
   "metadata": {
    "collapsed": false
   },
   "outputs": [],
   "source": [
    "con = sqlite3.connect(DB_LOCATION)"
   ]
  },
  {
   "cell_type": "code",
   "execution_count": 12,
   "metadata": {
    "collapsed": false
   },
   "outputs": [],
   "source": [
    "timestamp = int(time.time())\n",
    "query1 = ''' SELECT  unit_id \n",
    "                   , dtime\n",
    "                   , GROUP_CONCAT(hop, ';') as hop_no\n",
    "                   , GROUP_CONCAT(hop_address, ';') as hop_address\n",
    "\n",
    "             FROM      %s\n",
    "             WHERE hop IN (1,2)\n",
    "             GROUP BY  unit_id, dtime\n",
    "         '''%(CURR_TRACEROUTE)\n",
    "\n",
    "query  = ''' SELECT  unit_id as probeid\n",
    "                   , %d as timestamp \n",
    "                   , public_ip\n",
    "                   , hop_no\n",
    "                   , hop_address\n",
    "                   , '' as hop1\n",
    "                   , '' as hop2\n",
    "                   , 0  as if_residential\n",
    "                   , 0  as if_nat\n",
    "             FROM (%s) as a, %s as b \n",
    "             WHERE a.unit_id = b.id\n",
    "             GROUP BY probeid\n",
    "        '''%(timestamp, query1, METADATA_SNAPSHOT)\n",
    "\n",
    "df = pd.read_sql(query, con)"
   ]
  },
  {
   "cell_type": "code",
   "execution_count": 13,
   "metadata": {
    "collapsed": false
   },
   "outputs": [
    {
     "data": {
      "text/html": [
       "<div style=\"max-height:1000px;max-width:1500px;overflow:auto;\">\n",
       "<table border=\"1\" class=\"dataframe\">\n",
       "  <thead>\n",
       "    <tr style=\"text-align: right;\">\n",
       "      <th></th>\n",
       "      <th>probeid</th>\n",
       "      <th>timestamp</th>\n",
       "      <th>public_ip</th>\n",
       "      <th>hop_no</th>\n",
       "      <th>hop_address</th>\n",
       "      <th>hop1</th>\n",
       "      <th>hop2</th>\n",
       "      <th>if_residential</th>\n",
       "      <th>if_nat</th>\n",
       "    </tr>\n",
       "  </thead>\n",
       "  <tbody>\n",
       "    <tr>\n",
       "      <th>2204</th>\n",
       "      <td>584164</td>\n",
       "      <td>1430076405</td>\n",
       "      <td>83.216.94.110</td>\n",
       "      <td>1;2</td>\n",
       "      <td>192.168.15.1;</td>\n",
       "      <td></td>\n",
       "      <td></td>\n",
       "      <td>0</td>\n",
       "      <td>0</td>\n",
       "    </tr>\n",
       "    <tr>\n",
       "      <th>2205</th>\n",
       "      <td>584166</td>\n",
       "      <td>1430076405</td>\n",
       "      <td>83.216.95.26</td>\n",
       "      <td>1;2</td>\n",
       "      <td>192.168.15.1;</td>\n",
       "      <td></td>\n",
       "      <td></td>\n",
       "      <td>0</td>\n",
       "      <td>0</td>\n",
       "    </tr>\n",
       "    <tr>\n",
       "      <th>2206</th>\n",
       "      <td>589646</td>\n",
       "      <td>1430076405</td>\n",
       "      <td>81.108.189.199</td>\n",
       "      <td>1;2</td>\n",
       "      <td>192.168.0.1;81.108.189.1</td>\n",
       "      <td></td>\n",
       "      <td></td>\n",
       "      <td>0</td>\n",
       "      <td>0</td>\n",
       "    </tr>\n",
       "    <tr>\n",
       "      <th>2207</th>\n",
       "      <td>601700</td>\n",
       "      <td>1430076405</td>\n",
       "      <td>82.32.143.10</td>\n",
       "      <td>1;2</td>\n",
       "      <td>10.0.1.1;82.32.142.1</td>\n",
       "      <td></td>\n",
       "      <td></td>\n",
       "      <td>0</td>\n",
       "      <td>0</td>\n",
       "    </tr>\n",
       "    <tr>\n",
       "      <th>2208</th>\n",
       "      <td>608580</td>\n",
       "      <td>1430076405</td>\n",
       "      <td>31.185.194.101</td>\n",
       "      <td>1;2</td>\n",
       "      <td>192.168.1.254;195.166.128.188</td>\n",
       "      <td></td>\n",
       "      <td></td>\n",
       "      <td>0</td>\n",
       "      <td>0</td>\n",
       "    </tr>\n",
       "  </tbody>\n",
       "</table>\n",
       "</div>"
      ],
      "text/plain": [
       "      probeid   timestamp       public_ip hop_no  \\\n",
       "2204   584164  1430076405   83.216.94.110    1;2   \n",
       "2205   584166  1430076405    83.216.95.26    1;2   \n",
       "2206   589646  1430076405  81.108.189.199    1;2   \n",
       "2207   601700  1430076405    82.32.143.10    1;2   \n",
       "2208   608580  1430076405  31.185.194.101    1;2   \n",
       "\n",
       "                        hop_address hop1 hop2  if_residential  if_nat  \n",
       "2204                  192.168.15.1;                         0       0  \n",
       "2205                  192.168.15.1;                         0       0  \n",
       "2206       192.168.0.1;81.108.189.1                         0       0  \n",
       "2207           10.0.1.1;82.32.142.1                         0       0  \n",
       "2208  192.168.1.254;195.166.128.188                         0       0  "
      ]
     },
     "execution_count": 13,
     "metadata": {},
     "output_type": "execute_result"
    }
   ],
   "source": [
    "df.tail()"
   ]
  },
  {
   "cell_type": "code",
   "execution_count": 14,
   "metadata": {
    "collapsed": false
   },
   "outputs": [
    {
     "data": {
      "text/plain": [
       "probeid           2209\n",
       "timestamp         2209\n",
       "public_ip         2209\n",
       "hop_no            2209\n",
       "hop_address       2209\n",
       "hop1              2209\n",
       "hop2              2209\n",
       "if_residential    2209\n",
       "if_nat            2209\n",
       "dtype: int64"
      ]
     },
     "execution_count": 14,
     "metadata": {},
     "output_type": "execute_result"
    }
   ],
   "source": [
    "df.count()"
   ]
  },
  {
   "cell_type": "code",
   "execution_count": 15,
   "metadata": {
    "collapsed": true
   },
   "outputs": [],
   "source": [
    "def get_hop1_address(froms):\n",
    "    try: h1,_ = froms.split(';')\n",
    "    except Exception as e: h1 = None\n",
    "    return h1\n",
    "\n",
    "def get_hop2_address(froms):\n",
    "    try: _,h2 = froms.split(';')\n",
    "    except Exception as e: h2 = None\n",
    "    return h2\n",
    "\n",
    "df['hop1'] = df['hop_address'].apply(get_hop1_address)\n",
    "df['hop2'] = df['hop_address'].apply(get_hop2_address)"
   ]
  },
  {
   "cell_type": "code",
   "execution_count": 16,
   "metadata": {
    "collapsed": false
   },
   "outputs": [],
   "source": [
    "del df['hop_no']\n",
    "del df['hop_address']"
   ]
  },
  {
   "cell_type": "code",
   "execution_count": 17,
   "metadata": {
    "collapsed": false
   },
   "outputs": [
    {
     "data": {
      "text/html": [
       "<div style=\"max-height:1000px;max-width:1500px;overflow:auto;\">\n",
       "<table border=\"1\" class=\"dataframe\">\n",
       "  <thead>\n",
       "    <tr style=\"text-align: right;\">\n",
       "      <th></th>\n",
       "      <th>probeid</th>\n",
       "      <th>timestamp</th>\n",
       "      <th>public_ip</th>\n",
       "      <th>hop1</th>\n",
       "      <th>hop2</th>\n",
       "      <th>if_residential</th>\n",
       "      <th>if_nat</th>\n",
       "    </tr>\n",
       "  </thead>\n",
       "  <tbody>\n",
       "    <tr>\n",
       "      <th>0</th>\n",
       "      <td>14190</td>\n",
       "      <td>1430076405</td>\n",
       "      <td>178.78.87.102</td>\n",
       "      <td>192.168.1.1</td>\n",
       "      <td>10.55.212.2</td>\n",
       "      <td>0</td>\n",
       "      <td>0</td>\n",
       "    </tr>\n",
       "    <tr>\n",
       "      <th>1</th>\n",
       "      <td>14266</td>\n",
       "      <td>1430076405</td>\n",
       "      <td>95.145.135.27</td>\n",
       "      <td>192.168.1.1</td>\n",
       "      <td></td>\n",
       "      <td>0</td>\n",
       "      <td>0</td>\n",
       "    </tr>\n",
       "    <tr>\n",
       "      <th>2</th>\n",
       "      <td>14851</td>\n",
       "      <td>1430076405</td>\n",
       "      <td>86.153.18.233</td>\n",
       "      <td>192.168.1.254</td>\n",
       "      <td>172.16.13.6</td>\n",
       "      <td>0</td>\n",
       "      <td>0</td>\n",
       "    </tr>\n",
       "    <tr>\n",
       "      <th>3</th>\n",
       "      <td>14880</td>\n",
       "      <td>1430076405</td>\n",
       "      <td>151.230.25.209</td>\n",
       "      <td>192.168.0.1</td>\n",
       "      <td></td>\n",
       "      <td>0</td>\n",
       "      <td>0</td>\n",
       "    </tr>\n",
       "    <tr>\n",
       "      <th>4</th>\n",
       "      <td>14905</td>\n",
       "      <td>1430076405</td>\n",
       "      <td>31.53.231.115</td>\n",
       "      <td>192.168.1.254</td>\n",
       "      <td>217.32.142.194</td>\n",
       "      <td>0</td>\n",
       "      <td>0</td>\n",
       "    </tr>\n",
       "  </tbody>\n",
       "</table>\n",
       "</div>"
      ],
      "text/plain": [
       "   probeid   timestamp       public_ip           hop1            hop2  \\\n",
       "0    14190  1430076405   178.78.87.102    192.168.1.1     10.55.212.2   \n",
       "1    14266  1430076405   95.145.135.27    192.168.1.1                   \n",
       "2    14851  1430076405   86.153.18.233  192.168.1.254     172.16.13.6   \n",
       "3    14880  1430076405  151.230.25.209    192.168.0.1                   \n",
       "4    14905  1430076405   31.53.231.115  192.168.1.254  217.32.142.194   \n",
       "\n",
       "   if_residential  if_nat  \n",
       "0               0       0  \n",
       "1               0       0  \n",
       "2               0       0  \n",
       "3               0       0  \n",
       "4               0       0  "
      ]
     },
     "execution_count": 17,
     "metadata": {},
     "output_type": "execute_result"
    }
   ],
   "source": [
    "df.head()"
   ]
  },
  {
   "cell_type": "code",
   "execution_count": 19,
   "metadata": {
    "collapsed": false
   },
   "outputs": [
    {
     "data": {
      "text/plain": [
       "probeid           2209\n",
       "timestamp         2209\n",
       "public_ip         2209\n",
       "hop1              2205\n",
       "hop2              2205\n",
       "if_residential    2209\n",
       "if_nat            2209\n",
       "dtype: int64"
      ]
     },
     "execution_count": 19,
     "metadata": {},
     "output_type": "execute_result"
    }
   ],
   "source": [
    "df.count()"
   ]
  },
  {
   "cell_type": "code",
   "execution_count": 20,
   "metadata": {
    "collapsed": false
   },
   "outputs": [
    {
     "name": "stdout",
     "output_type": "stream",
     "text": [
      "................................................................................................................................................................................................................................................................................................................................................................................................................................................................................................................................................................................................................................................................................................................................................................................................................................................................................................................................................................................................................................................................................................................................................................................................................................................................................................................................................................................................................................................................................................................................................................................................................................................................................................................................................................................................................................................................................................................................................................................................................................................................................................................................................................................................................................................................................................."
     ]
    }
   ],
   "source": [
    "def get_rdns_from_ip(ip):\n",
    "    import socket\n",
    "    try: rdns,_ = socket.getnameinfo( (str(ip), 0) ,0 )\n",
    "    except Exception as e: print(e, type(e), ip)    \n",
    "    else: print('.', end=''); return rdns \n",
    "df['reverse_dns'] = df['public_ip'].apply(get_rdns_from_ip)"
   ]
  },
  {
   "cell_type": "code",
   "execution_count": 21,
   "metadata": {
    "collapsed": false
   },
   "outputs": [],
   "source": [
    "def check_if_nated(hop1):\n",
    "    if hop1 is None or hop1 == 'None': return None\n",
    "    try: ip = ipaddress.ip_address(hop1.strip())\n",
    "    except Exception as e: print('.',end=''); return None\n",
    "    else: if_nat = 1 if ip.is_private else 0; return if_nat"
   ]
  },
  {
   "cell_type": "code",
   "execution_count": 22,
   "metadata": {
    "collapsed": false
   },
   "outputs": [
    {
     "name": "stdout",
     "output_type": "stream",
     "text": [
      "...................."
     ]
    }
   ],
   "source": [
    "for index, row in df.iterrows():\n",
    "    hop1 = row['hop1']\n",
    "    if_nat = check_if_nated(hop1)    \n",
    "    if if_nat is not None: df.ix[index, 'if_nat'] = if_nat"
   ]
  },
  {
   "cell_type": "code",
   "execution_count": 23,
   "metadata": {
    "collapsed": false
   },
   "outputs": [
    {
     "data": {
      "text/html": [
       "<div style=\"max-height:1000px;max-width:1500px;overflow:auto;\">\n",
       "<table border=\"1\" class=\"dataframe\">\n",
       "  <thead>\n",
       "    <tr style=\"text-align: right;\">\n",
       "      <th></th>\n",
       "      <th>probeid</th>\n",
       "      <th>timestamp</th>\n",
       "      <th>public_ip</th>\n",
       "      <th>hop1</th>\n",
       "      <th>hop2</th>\n",
       "      <th>if_residential</th>\n",
       "      <th>if_nat</th>\n",
       "      <th>reverse_dns</th>\n",
       "    </tr>\n",
       "  </thead>\n",
       "  <tbody>\n",
       "    <tr>\n",
       "      <th>0</th>\n",
       "      <td>14190</td>\n",
       "      <td>1430076405</td>\n",
       "      <td>178.78.87.102</td>\n",
       "      <td>192.168.1.1</td>\n",
       "      <td>10.55.212.2</td>\n",
       "      <td>0</td>\n",
       "      <td>1</td>\n",
       "      <td>178-78-87-102.static.kc.net.uk</td>\n",
       "    </tr>\n",
       "    <tr>\n",
       "      <th>1</th>\n",
       "      <td>14266</td>\n",
       "      <td>1430076405</td>\n",
       "      <td>95.145.135.27</td>\n",
       "      <td>192.168.1.1</td>\n",
       "      <td></td>\n",
       "      <td>0</td>\n",
       "      <td>1</td>\n",
       "      <td>95.145.135.27</td>\n",
       "    </tr>\n",
       "    <tr>\n",
       "      <th>2</th>\n",
       "      <td>14851</td>\n",
       "      <td>1430076405</td>\n",
       "      <td>86.153.18.233</td>\n",
       "      <td>192.168.1.254</td>\n",
       "      <td>172.16.13.6</td>\n",
       "      <td>0</td>\n",
       "      <td>1</td>\n",
       "      <td>host86-153-18-233.range86-153.btcentralplus.com</td>\n",
       "    </tr>\n",
       "    <tr>\n",
       "      <th>3</th>\n",
       "      <td>14880</td>\n",
       "      <td>1430076405</td>\n",
       "      <td>151.230.25.209</td>\n",
       "      <td>192.168.0.1</td>\n",
       "      <td></td>\n",
       "      <td>0</td>\n",
       "      <td>1</td>\n",
       "      <td>97e619d1.skybroadband.com</td>\n",
       "    </tr>\n",
       "    <tr>\n",
       "      <th>4</th>\n",
       "      <td>14905</td>\n",
       "      <td>1430076405</td>\n",
       "      <td>31.53.231.115</td>\n",
       "      <td>192.168.1.254</td>\n",
       "      <td>217.32.142.194</td>\n",
       "      <td>0</td>\n",
       "      <td>1</td>\n",
       "      <td>host31-53-231-115.range31-53.btcentralplus.com</td>\n",
       "    </tr>\n",
       "  </tbody>\n",
       "</table>\n",
       "</div>"
      ],
      "text/plain": [
       "   probeid   timestamp       public_ip           hop1            hop2  \\\n",
       "0    14190  1430076405   178.78.87.102    192.168.1.1     10.55.212.2   \n",
       "1    14266  1430076405   95.145.135.27    192.168.1.1                   \n",
       "2    14851  1430076405   86.153.18.233  192.168.1.254     172.16.13.6   \n",
       "3    14880  1430076405  151.230.25.209    192.168.0.1                   \n",
       "4    14905  1430076405   31.53.231.115  192.168.1.254  217.32.142.194   \n",
       "\n",
       "   if_residential  if_nat                                      reverse_dns  \n",
       "0               0       1                   178-78-87-102.static.kc.net.uk  \n",
       "1               0       1                                    95.145.135.27  \n",
       "2               0       1  host86-153-18-233.range86-153.btcentralplus.com  \n",
       "3               0       1                        97e619d1.skybroadband.com  \n",
       "4               0       1   host31-53-231-115.range31-53.btcentralplus.com  "
      ]
     },
     "execution_count": 23,
     "metadata": {},
     "output_type": "execute_result"
    }
   ],
   "source": [
    "df.head()"
   ]
  },
  {
   "cell_type": "code",
   "execution_count": 24,
   "metadata": {
    "collapsed": false
   },
   "outputs": [],
   "source": [
    "def check_if_residential(hop1, hop2):\n",
    "    if hop1 is None or hop1 == 'None' or hop1 == '' : print('.', end=\"\"); return None\n",
    "    if hop2 is None or hop2 == 'None' or hop2 == '' : print('-', end=\"\"); return None\n",
    "    \n",
    "    try: \n",
    "        h1_ip = ipaddress.ip_address(hop1.strip())\n",
    "        h2_ip = ipaddress.ip_address(hop2.strip())            \n",
    "    except Exception as e: print('*', end=''); return None\n",
    "    if_residential = 1 if h1_ip.is_private and not h2_ip.is_private else 0\n",
    "    return if_residential"
   ]
  },
  {
   "cell_type": "code",
   "execution_count": 25,
   "metadata": {
    "collapsed": false
   },
   "outputs": [
    {
     "name": "stdout",
     "output_type": "stream",
     "text": [
      "-----------------------..----------.---------------*-.-----------------.----------------------.------------------.------------------.------*-------.--------------------------------------*---------------------------------------------------------..-------..---.--------------.------------------------------------------------------------------------..---------.------.-----------------------------------.-------------------..---------------.---.----------------------------------------------------------------------*----------------------------------------"
     ]
    }
   ],
   "source": [
    "for index, row in df.iterrows():\n",
    "    hop1 = row['hop1']; hop2 = row['hop2']\n",
    "    if_residential = check_if_residential(hop1, hop2)\n",
    "    if if_residential is not None: df.ix[index, 'if_residential'] = if_residential"
   ]
  },
  {
   "cell_type": "code",
   "execution_count": 26,
   "metadata": {
    "collapsed": false
   },
   "outputs": [
    {
     "data": {
      "text/html": [
       "<div style=\"max-height:1000px;max-width:1500px;overflow:auto;\">\n",
       "<table border=\"1\" class=\"dataframe\">\n",
       "  <thead>\n",
       "    <tr style=\"text-align: right;\">\n",
       "      <th></th>\n",
       "      <th>probeid</th>\n",
       "      <th>timestamp</th>\n",
       "      <th>public_ip</th>\n",
       "      <th>hop1</th>\n",
       "      <th>hop2</th>\n",
       "      <th>if_residential</th>\n",
       "      <th>if_nat</th>\n",
       "      <th>reverse_dns</th>\n",
       "    </tr>\n",
       "  </thead>\n",
       "  <tbody>\n",
       "    <tr>\n",
       "      <th>0</th>\n",
       "      <td>14190</td>\n",
       "      <td>1430076405</td>\n",
       "      <td>178.78.87.102</td>\n",
       "      <td>192.168.1.1</td>\n",
       "      <td>10.55.212.2</td>\n",
       "      <td>0</td>\n",
       "      <td>1</td>\n",
       "      <td>178-78-87-102.static.kc.net.uk</td>\n",
       "    </tr>\n",
       "    <tr>\n",
       "      <th>1</th>\n",
       "      <td>14266</td>\n",
       "      <td>1430076405</td>\n",
       "      <td>95.145.135.27</td>\n",
       "      <td>192.168.1.1</td>\n",
       "      <td></td>\n",
       "      <td>0</td>\n",
       "      <td>1</td>\n",
       "      <td>95.145.135.27</td>\n",
       "    </tr>\n",
       "    <tr>\n",
       "      <th>2</th>\n",
       "      <td>14851</td>\n",
       "      <td>1430076405</td>\n",
       "      <td>86.153.18.233</td>\n",
       "      <td>192.168.1.254</td>\n",
       "      <td>172.16.13.6</td>\n",
       "      <td>0</td>\n",
       "      <td>1</td>\n",
       "      <td>host86-153-18-233.range86-153.btcentralplus.com</td>\n",
       "    </tr>\n",
       "    <tr>\n",
       "      <th>3</th>\n",
       "      <td>14880</td>\n",
       "      <td>1430076405</td>\n",
       "      <td>151.230.25.209</td>\n",
       "      <td>192.168.0.1</td>\n",
       "      <td></td>\n",
       "      <td>0</td>\n",
       "      <td>1</td>\n",
       "      <td>97e619d1.skybroadband.com</td>\n",
       "    </tr>\n",
       "    <tr>\n",
       "      <th>4</th>\n",
       "      <td>14905</td>\n",
       "      <td>1430076405</td>\n",
       "      <td>31.53.231.115</td>\n",
       "      <td>192.168.1.254</td>\n",
       "      <td>217.32.142.194</td>\n",
       "      <td>1</td>\n",
       "      <td>1</td>\n",
       "      <td>host31-53-231-115.range31-53.btcentralplus.com</td>\n",
       "    </tr>\n",
       "  </tbody>\n",
       "</table>\n",
       "</div>"
      ],
      "text/plain": [
       "   probeid   timestamp       public_ip           hop1            hop2  \\\n",
       "0    14190  1430076405   178.78.87.102    192.168.1.1     10.55.212.2   \n",
       "1    14266  1430076405   95.145.135.27    192.168.1.1                   \n",
       "2    14851  1430076405   86.153.18.233  192.168.1.254     172.16.13.6   \n",
       "3    14880  1430076405  151.230.25.209    192.168.0.1                   \n",
       "4    14905  1430076405   31.53.231.115  192.168.1.254  217.32.142.194   \n",
       "\n",
       "   if_residential  if_nat                                      reverse_dns  \n",
       "0               0       1                   178-78-87-102.static.kc.net.uk  \n",
       "1               0       1                                    95.145.135.27  \n",
       "2               0       1  host86-153-18-233.range86-153.btcentralplus.com  \n",
       "3               0       1                        97e619d1.skybroadband.com  \n",
       "4               1       1   host31-53-231-115.range31-53.btcentralplus.com  "
      ]
     },
     "execution_count": 26,
     "metadata": {},
     "output_type": "execute_result"
    }
   ],
   "source": [
    "df.head()"
   ]
  },
  {
   "cell_type": "code",
   "execution_count": 27,
   "metadata": {
    "collapsed": false
   },
   "outputs": [
    {
     "data": {
      "text/plain": [
       "probeid           2209\n",
       "timestamp         2209\n",
       "public_ip         2209\n",
       "hop1              2205\n",
       "hop2              2205\n",
       "if_residential    2209\n",
       "if_nat            2209\n",
       "reverse_dns       2209\n",
       "dtype: int64"
      ]
     },
     "execution_count": 27,
     "metadata": {},
     "output_type": "execute_result"
    }
   ],
   "source": [
    "df.count()"
   ]
  },
  {
   "cell_type": "code",
   "execution_count": 28,
   "metadata": {
    "collapsed": true
   },
   "outputs": [],
   "source": [
    "del df['hop1']\n",
    "del df['hop2']"
   ]
  },
  {
   "cell_type": "code",
   "execution_count": 29,
   "metadata": {
    "collapsed": false
   },
   "outputs": [
    {
     "data": {
      "text/html": [
       "<div style=\"max-height:1000px;max-width:1500px;overflow:auto;\">\n",
       "<table border=\"1\" class=\"dataframe\">\n",
       "  <thead>\n",
       "    <tr style=\"text-align: right;\">\n",
       "      <th></th>\n",
       "      <th>probeid</th>\n",
       "      <th>timestamp</th>\n",
       "      <th>public_ip</th>\n",
       "      <th>if_residential</th>\n",
       "      <th>if_nat</th>\n",
       "      <th>reverse_dns</th>\n",
       "    </tr>\n",
       "  </thead>\n",
       "  <tbody>\n",
       "    <tr>\n",
       "      <th>0</th>\n",
       "      <td>14190</td>\n",
       "      <td>1430076405</td>\n",
       "      <td>178.78.87.102</td>\n",
       "      <td>0</td>\n",
       "      <td>1</td>\n",
       "      <td>178-78-87-102.static.kc.net.uk</td>\n",
       "    </tr>\n",
       "    <tr>\n",
       "      <th>1</th>\n",
       "      <td>14266</td>\n",
       "      <td>1430076405</td>\n",
       "      <td>95.145.135.27</td>\n",
       "      <td>0</td>\n",
       "      <td>1</td>\n",
       "      <td>95.145.135.27</td>\n",
       "    </tr>\n",
       "    <tr>\n",
       "      <th>2</th>\n",
       "      <td>14851</td>\n",
       "      <td>1430076405</td>\n",
       "      <td>86.153.18.233</td>\n",
       "      <td>0</td>\n",
       "      <td>1</td>\n",
       "      <td>host86-153-18-233.range86-153.btcentralplus.com</td>\n",
       "    </tr>\n",
       "    <tr>\n",
       "      <th>3</th>\n",
       "      <td>14880</td>\n",
       "      <td>1430076405</td>\n",
       "      <td>151.230.25.209</td>\n",
       "      <td>0</td>\n",
       "      <td>1</td>\n",
       "      <td>97e619d1.skybroadband.com</td>\n",
       "    </tr>\n",
       "    <tr>\n",
       "      <th>4</th>\n",
       "      <td>14905</td>\n",
       "      <td>1430076405</td>\n",
       "      <td>31.53.231.115</td>\n",
       "      <td>1</td>\n",
       "      <td>1</td>\n",
       "      <td>host31-53-231-115.range31-53.btcentralplus.com</td>\n",
       "    </tr>\n",
       "  </tbody>\n",
       "</table>\n",
       "</div>"
      ],
      "text/plain": [
       "   probeid   timestamp       public_ip  if_residential  if_nat  \\\n",
       "0    14190  1430076405   178.78.87.102               0       1   \n",
       "1    14266  1430076405   95.145.135.27               0       1   \n",
       "2    14851  1430076405   86.153.18.233               0       1   \n",
       "3    14880  1430076405  151.230.25.209               0       1   \n",
       "4    14905  1430076405   31.53.231.115               1       1   \n",
       "\n",
       "                                       reverse_dns  \n",
       "0                   178-78-87-102.static.kc.net.uk  \n",
       "1                                    95.145.135.27  \n",
       "2  host86-153-18-233.range86-153.btcentralplus.com  \n",
       "3                        97e619d1.skybroadband.com  \n",
       "4   host31-53-231-115.range31-53.btcentralplus.com  "
      ]
     },
     "execution_count": 29,
     "metadata": {},
     "output_type": "execute_result"
    }
   ],
   "source": [
    "df.head()"
   ]
  },
  {
   "cell_type": "code",
   "execution_count": 30,
   "metadata": {
    "collapsed": false
   },
   "outputs": [
    {
     "data": {
      "text/plain": [
       "probeid           2209\n",
       "timestamp         2209\n",
       "public_ip         2209\n",
       "if_residential    2209\n",
       "if_nat            2209\n",
       "reverse_dns       2209\n",
       "dtype: int64"
      ]
     },
     "execution_count": 30,
     "metadata": {},
     "output_type": "execute_result"
    }
   ],
   "source": [
    "df.count()"
   ]
  },
  {
   "cell_type": "code",
   "execution_count": 31,
   "metadata": {
    "collapsed": false
   },
   "outputs": [
    {
     "data": {
      "text/plain": [
       "1245"
      ]
     },
     "execution_count": 31,
     "metadata": {},
     "output_type": "execute_result"
    }
   ],
   "source": [
    "df['if_residential'].sum()"
   ]
  },
  {
   "cell_type": "code",
   "execution_count": 32,
   "metadata": {
    "collapsed": false
   },
   "outputs": [
    {
     "data": {
      "text/plain": [
       "2061"
      ]
     },
     "execution_count": 32,
     "metadata": {},
     "output_type": "execute_result"
    }
   ],
   "source": [
    "df['if_nat'].sum()"
   ]
  },
  {
   "cell_type": "code",
   "execution_count": 33,
   "metadata": {
    "collapsed": true
   },
   "outputs": [],
   "source": [
    "cur = con.execute('pragma foreign_keys=ON')"
   ]
  },
  {
   "cell_type": "code",
   "execution_count": 34,
   "metadata": {
    "collapsed": true
   },
   "outputs": [],
   "source": [
    "df = df.set_index('probeid')"
   ]
  },
  {
   "cell_type": "code",
   "execution_count": 35,
   "metadata": {
    "collapsed": true
   },
   "outputs": [],
   "source": [
    "del df['public_ip']"
   ]
  },
  {
   "cell_type": "code",
   "execution_count": 36,
   "metadata": {
    "collapsed": false
   },
   "outputs": [
    {
     "data": {
      "text/html": [
       "<div style=\"max-height:1000px;max-width:1500px;overflow:auto;\">\n",
       "<table border=\"1\" class=\"dataframe\">\n",
       "  <thead>\n",
       "    <tr style=\"text-align: right;\">\n",
       "      <th></th>\n",
       "      <th>timestamp</th>\n",
       "      <th>if_residential</th>\n",
       "      <th>if_nat</th>\n",
       "      <th>reverse_dns</th>\n",
       "    </tr>\n",
       "    <tr>\n",
       "      <th>probeid</th>\n",
       "      <th></th>\n",
       "      <th></th>\n",
       "      <th></th>\n",
       "      <th></th>\n",
       "    </tr>\n",
       "  </thead>\n",
       "  <tbody>\n",
       "    <tr>\n",
       "      <th>14190</th>\n",
       "      <td>1430076405</td>\n",
       "      <td>0</td>\n",
       "      <td>1</td>\n",
       "      <td>178-78-87-102.static.kc.net.uk</td>\n",
       "    </tr>\n",
       "    <tr>\n",
       "      <th>14266</th>\n",
       "      <td>1430076405</td>\n",
       "      <td>0</td>\n",
       "      <td>1</td>\n",
       "      <td>95.145.135.27</td>\n",
       "    </tr>\n",
       "    <tr>\n",
       "      <th>14851</th>\n",
       "      <td>1430076405</td>\n",
       "      <td>0</td>\n",
       "      <td>1</td>\n",
       "      <td>host86-153-18-233.range86-153.btcentralplus.com</td>\n",
       "    </tr>\n",
       "    <tr>\n",
       "      <th>14880</th>\n",
       "      <td>1430076405</td>\n",
       "      <td>0</td>\n",
       "      <td>1</td>\n",
       "      <td>97e619d1.skybroadband.com</td>\n",
       "    </tr>\n",
       "    <tr>\n",
       "      <th>14905</th>\n",
       "      <td>1430076405</td>\n",
       "      <td>1</td>\n",
       "      <td>1</td>\n",
       "      <td>host31-53-231-115.range31-53.btcentralplus.com</td>\n",
       "    </tr>\n",
       "  </tbody>\n",
       "</table>\n",
       "</div>"
      ],
      "text/plain": [
       "          timestamp  if_residential  if_nat  \\\n",
       "probeid                                       \n",
       "14190    1430076405               0       1   \n",
       "14266    1430076405               0       1   \n",
       "14851    1430076405               0       1   \n",
       "14880    1430076405               0       1   \n",
       "14905    1430076405               1       1   \n",
       "\n",
       "                                             reverse_dns  \n",
       "probeid                                                   \n",
       "14190                     178-78-87-102.static.kc.net.uk  \n",
       "14266                                      95.145.135.27  \n",
       "14851    host86-153-18-233.range86-153.btcentralplus.com  \n",
       "14880                          97e619d1.skybroadband.com  \n",
       "14905     host31-53-231-115.range31-53.btcentralplus.com  "
      ]
     },
     "execution_count": 36,
     "metadata": {},
     "output_type": "execute_result"
    }
   ],
   "source": [
    "df.head()"
   ]
  },
  {
   "cell_type": "code",
   "execution_count": 40,
   "metadata": {
    "collapsed": false
   },
   "outputs": [],
   "source": [
    "df.to_sql(  '%s'%SK_ONE_OFF_EXTENSIONS\n",
    "          , con\n",
    "          , flavor='sqlite'\n",
    "          , if_exists = 'append'\n",
    "          , index_label = 'probeid'\n",
    "         )"
   ]
  },
  {
   "cell_type": "code",
   "execution_count": 41,
   "metadata": {
    "collapsed": true
   },
   "outputs": [],
   "source": [
    "con.commit()\n",
    "con.close()"
   ]
  }
 ],
 "metadata": {
  "kernelspec": {
   "display_name": "Python 3",
   "language": "python",
   "name": "python3"
  },
  "language_info": {
   "codemirror_mode": {
    "name": "ipython",
    "version": 3
   },
   "file_extension": ".py",
   "mimetype": "text/x-python",
   "name": "python",
   "nbconvert_exporter": "python",
   "pygments_lexer": "ipython3",
   "version": "3.4.1"
  }
 },
 "nbformat": 4,
 "nbformat_minor": 0
}
