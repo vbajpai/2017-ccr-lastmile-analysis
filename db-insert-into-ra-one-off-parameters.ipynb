{
 "cells": [
  {
   "cell_type": "markdown",
   "metadata": {},
   "source": [
    "*This notebook gets the UDM ID from `ra_one_off` table, fetches the measurement data from RIPE and inserts the entire dataset into `ra_one_off_parameters`.*\n",
    "- - - "
   ]
  },
  {
   "cell_type": "code",
   "execution_count": 2,
   "metadata": {
    "collapsed": false
   },
   "outputs": [
    {
     "data": {
      "text/html": [
       "<style>body {\n",
       "    margin: 0;\n",
       "    font-family: Helvetica;\n",
       "}\n",
       "table.dataframe {\n",
       "    border-collapse: collapse;\n",
       "    border: none;\n",
       "}\n",
       "table.dataframe tr {\n",
       "    border: none;\n",
       "}\n",
       "table.dataframe td, table.dataframe th {\n",
       "    margin: 0;\n",
       "    border: 1px solid white;\n",
       "    padding-left: 0.25em;\n",
       "    padding-right: 0.25em;\n",
       "}\n",
       "table.dataframe th:not(:empty) {\n",
       "    background-color: #fec;\n",
       "    text-align: left;\n",
       "    font-weight: normal;\n",
       "}\n",
       "table.dataframe tr:nth-child(2) th:empty {\n",
       "    border-left: none;\n",
       "    border-right: 1px dashed #888;\n",
       "}\n",
       "table.dataframe td {\n",
       "    border: 2px solid #ccf;\n",
       "    background-color: #f4f4ff;\n",
       "}\n",
       "h3 {\n",
       "    color: white;\n",
       "    background-color: black;\n",
       "    padding: 0.5em;\n",
       "}\n",
       "\n",
       ".CodeMirror {\n",
       "    font-family: 'Monaco for Powerline';\n",
       "}\n",
       "\n",
       "div.cell.code_cell {\n",
       "    font-family: 'Monaco for Powerline';\n",
       "}\n",
       "\n",
       "div.output_area pre {\n",
       "    font-family: 'Monaco for Powerline';\n",
       "}\n",
       "</style>"
      ],
      "text/plain": [
       "<IPython.core.display.HTML object>"
      ]
     },
     "execution_count": 2,
     "metadata": {},
     "output_type": "execute_result"
    }
   ],
   "source": [
    "from IPython.core.display import HTML\n",
    "css = open('style-table.css').read() + open('style-notebook.css').read()\n",
    "HTML('<style>{}</style>'.format(css))"
   ]
  },
  {
   "cell_type": "code",
   "execution_count": 3,
   "metadata": {
    "collapsed": false
   },
   "outputs": [],
   "source": [
    "import sqlite3\n",
    "import pandas as pd\n",
    "import requests\n",
    "import ipaddress\n",
    "import time"
   ]
  },
  {
   "cell_type": "code",
   "execution_count": 4,
   "metadata": {
    "collapsed": true
   },
   "outputs": [],
   "source": [
    "def get_json_resource_from_absolute_uri(url, query_params):\n",
    "    try: res = requests.get(url, params = query_params)\n",
    "    except Exception as e: print(e, file=sys.stderr)\n",
    "    else:\n",
    "        try: res_json = res.json()\n",
    "        except Exception as e: print(e, file=sys.stderr)\n",
    "        else: \n",
    "            return res_json"
   ]
  },
  {
   "cell_type": "code",
   "execution_count": 5,
   "metadata": {
    "collapsed": true
   },
   "outputs": [],
   "source": [
    "def get_udm_data(udm):\n",
    "    if udm is None: return None\n",
    "    base_uri = 'https://atlas.ripe.net'; \n",
    "    url = '%s/api/v2/measurements/%s/results'%(base_uri, str(udm))\n",
    "    try: res_json = get_json_resource_from_absolute_uri(url, 'format=json')\n",
    "    except Exception as e: print(e, file=sys.stderr)\n",
    "    else: return res_json"
   ]
  },
  {
   "cell_type": "code",
   "execution_count": 6,
   "metadata": {
    "collapsed": true
   },
   "outputs": [],
   "source": [
    "DB_LOCATION = 'lastmile.db'\n",
    "RA_ONE_OFF = 'ra_one_off'\n",
    "RA_ONE_OFF_PARAMETERS = 'ra_one_off_parameters'"
   ]
  },
  {
   "cell_type": "code",
   "execution_count": 7,
   "metadata": {
    "collapsed": false
   },
   "outputs": [],
   "source": [
    "con = sqlite3.connect(DB_LOCATION)"
   ]
  },
  {
   "cell_type": "code",
   "execution_count": 8,
   "metadata": {
    "collapsed": false
   },
   "outputs": [],
   "source": [
    "query = '''SELECT    o.msm_id as 'udmid'\n",
    "                   , o.asn_v4 as 'source_asn'\n",
    "           FROM    %s as o\n",
    "        '''%(RA_ONE_OFF)\n",
    "\n",
    "df = pd.read_sql(query, con)"
   ]
  },
  {
   "cell_type": "code",
   "execution_count": 9,
   "metadata": {
    "collapsed": false
   },
   "outputs": [
    {
     "data": {
      "text/plain": [
       "udmid         2751\n",
       "source_asn    2751\n",
       "dtype: int64"
      ]
     },
     "execution_count": 9,
     "metadata": {},
     "output_type": "execute_result"
    }
   ],
   "source": [
    "df.count()"
   ]
  },
  {
   "cell_type": "code",
   "execution_count": 10,
   "metadata": {
    "collapsed": false
   },
   "outputs": [
    {
     "data": {
      "text/html": [
       "<div>\n",
       "<table border=\"1\" class=\"dataframe\">\n",
       "  <thead>\n",
       "    <tr style=\"text-align: right;\">\n",
       "      <th></th>\n",
       "      <th>udmid</th>\n",
       "      <th>source_asn</th>\n",
       "    </tr>\n",
       "  </thead>\n",
       "  <tbody>\n",
       "    <tr>\n",
       "      <th>0</th>\n",
       "      <td>2863204</td>\n",
       "      <td>7922</td>\n",
       "    </tr>\n",
       "    <tr>\n",
       "      <th>1</th>\n",
       "      <td>2863205</td>\n",
       "      <td>6830</td>\n",
       "    </tr>\n",
       "    <tr>\n",
       "      <th>2</th>\n",
       "      <td>2863206</td>\n",
       "      <td>12322</td>\n",
       "    </tr>\n",
       "    <tr>\n",
       "      <th>3</th>\n",
       "      <td>2863207</td>\n",
       "      <td>3320</td>\n",
       "    </tr>\n",
       "    <tr>\n",
       "      <th>4</th>\n",
       "      <td>2863208</td>\n",
       "      <td>3215</td>\n",
       "    </tr>\n",
       "  </tbody>\n",
       "</table>\n",
       "</div>"
      ],
      "text/plain": [
       "     udmid  source_asn\n",
       "0  2863204        7922\n",
       "1  2863205        6830\n",
       "2  2863206       12322\n",
       "3  2863207        3320\n",
       "4  2863208        3215"
      ]
     },
     "execution_count": 10,
     "metadata": {},
     "output_type": "execute_result"
    }
   ],
   "source": [
    "df.head()"
   ]
  },
  {
   "cell_type": "code",
   "execution_count": 11,
   "metadata": {
    "collapsed": true
   },
   "outputs": [],
   "source": [
    "def get_df_udm_json_data(udm_json_data):\n",
    "    \n",
    "    df = pd.DataFrame(udm_json_data)\n",
    "\n",
    "    df.rename (  columns={  'from'        :    'probe_ip'\n",
    "                          , 'prb_id'      :    'probeid'\n",
    "                          , 'size'        :    'packet_size'                      \n",
    "                          , 'timestamp'   :    'starttime'                                            \n",
    "                          , 'type'        :    'msm_type'                                            \n",
    "                         }\n",
    "               , inplace=True\n",
    "              )\n",
    "    \n",
    "    df_result = pd.DataFrame(df['result'][0])\n",
    "    df_result['probeid'] = df['probeid'][0]\n",
    "\n",
    "    for index, row in df.iterrows():\n",
    "        if index == 0: continue\n",
    "        df_temp = pd.DataFrame(df['result'][index])\n",
    "        df_temp['probeid'] = df['probeid'][index]\n",
    "        df_result = df_result.append(df_temp)    \n",
    "        \n",
    "    del df['result']        \n",
    "    \n",
    "    df_joined = df.merge(df_result, on='probeid')\n",
    "    \n",
    "    try: \n",
    "        df_joined.drop('error', axis=1, inplace=True)\n",
    "        print('*', end='')\n",
    "    except Exception as e: pass\n",
    "    \n",
    "    df_joined.rename (  columns={  'hop'         :    'result_hop_no'\n",
    "                                 , 'result'      :    'result_hop_blob'\n",
    "                                }\n",
    "                      , inplace=True\n",
    "                     )\n",
    "    \n",
    "    try: df_joined['result_hop_blob'] = df_joined['result_hop_blob'].apply(str)\n",
    "    except KeyError as e: df_joined['result_hop_blob'] = ''\n",
    "        \n",
    "    df_joined.dropna(  how='any'\n",
    "                     , subset=['msm_id', 'probeid', 'endtime', 'result_hop_no']\n",
    "                     , inplace=True\n",
    "                    )\n",
    "        \n",
    "    return df_joined"
   ]
  },
  {
   "cell_type": "code",
   "execution_count": 12,
   "metadata": {
    "collapsed": true
   },
   "outputs": [],
   "source": [
    "def write_df_to_table(con, df, tablename):\n",
    "    cur = con.execute('pragma foreign_keys=ON')\n",
    "    \n",
    "    index_label = ['msm_id', 'probeid', 'endtime', 'result_hop_no']\n",
    "    df = df.set_index(index_label)\n",
    "    \n",
    "    df.to_sql(  '%s'%tablename\n",
    "              , con\n",
    "              , flavor='sqlite'\n",
    "              , if_exists = 'append'\n",
    "              , index_label = index_label\n",
    "             )\n",
    "\n",
    "    con.commit()"
   ]
  },
  {
   "cell_type": "code",
   "execution_count": 13,
   "metadata": {
    "collapsed": false
   },
   "outputs": [
    {
     "name": "stdout",
     "output_type": "stream",
     "text": [
      "..............................................................................................................*......................................................................................................................................................................................................................................................................................................................................................................................................................................*.................................................^.......................................................................................^.........................................^............................................................................................................................^........................................................................^.....................^........................................^..........^^.............^..^............................^.....^.........................^..........^..........................................................^......^............................................................^..........................^..............................^................^....^.^......^..........................................................................................^...^..................................^.....................................^......^..^..............^..............^^...^..............^...^.........^......................^.^.......................................................^.....................................^..^.......................^................................^...............................^....................................^....................^.............^............................................................................................^.......^..........^.....................................^...............................................................................^.............^.........^...............................^.........^..................^....................^..............................^.........^...................................^........^...................................................................................................^...^.........^...........^.............................................................^..^........................................^...............^............................^........^^.............................................................^..^...................................................................................^...................................^.........^......................^........."
     ]
    }
   ],
   "source": [
    "for index, row in df.iterrows():\n",
    "    udmid, source_asn = row\n",
    "    try:\n",
    "        udm_json_data = get_udm_data(udmid)\n",
    "        if len(udm_json_data) == 0: \n",
    "            print('^', end=\"\"); continue\n",
    "        df = get_df_udm_json_data(udm_json_data)\n",
    "        write_df_to_table(con, df, RA_ONE_OFF_PARAMETERS)\n",
    "    except Exception as e: print(e, udmid)\n",
    "    else: print('.', end=\"\")"
   ]
  },
  {
   "cell_type": "code",
   "execution_count": 14,
   "metadata": {
    "collapsed": true
   },
   "outputs": [],
   "source": [
    "con.close()"
   ]
  }
 ],
 "metadata": {
  "kernelspec": {
   "display_name": "Python 3",
   "language": "python",
   "name": "python3"
  },
  "language_info": {
   "codemirror_mode": {
    "name": "ipython",
    "version": 3
   },
   "file_extension": ".py",
   "mimetype": "text/x-python",
   "name": "python",
   "nbconvert_exporter": "python",
   "pygments_lexer": "ipython3",
   "version": "3.4.2"
  }
 },
 "nbformat": 4,
 "nbformat_minor": 0
}
