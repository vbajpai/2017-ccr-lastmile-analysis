{
 "cells": [
  {
   "cell_type": "markdown",
   "metadata": {},
   "source": [
    "*This notebook shows the interleaving depth level changes as a step-wise function from 4 probes behind the DSL network.*\n",
    "- - - "
   ]
  },
  {
   "cell_type": "code",
   "execution_count": 1,
   "metadata": {
    "collapsed": false
   },
   "outputs": [
    {
     "name": "stdout",
     "output_type": "stream",
     "text": [
      "Populating the interactive namespace from numpy and matplotlib\n"
     ]
    }
   ],
   "source": [
    "%pylab inline"
   ]
  },
  {
   "cell_type": "code",
   "execution_count": 2,
   "metadata": {
    "collapsed": false
   },
   "outputs": [
    {
     "data": {
      "text/html": [
       "<style>body {\n",
       "    margin: 0;\n",
       "    font-family: Helvetica;\n",
       "}\n",
       "table.dataframe {\n",
       "    border-collapse: collapse;\n",
       "    border: none;\n",
       "}\n",
       "table.dataframe tr {\n",
       "    border: none;\n",
       "}\n",
       "table.dataframe td, table.dataframe th {\n",
       "    margin: 0;\n",
       "    border: 1px solid white;\n",
       "    padding-left: 0.25em;\n",
       "    padding-right: 0.25em;\n",
       "}\n",
       "table.dataframe th:not(:empty) {\n",
       "    background-color: #fec;\n",
       "    text-align: left;\n",
       "    font-weight: normal;\n",
       "}\n",
       "table.dataframe tr:nth-child(2) th:empty {\n",
       "    border-left: none;\n",
       "    border-right: 1px dashed #888;\n",
       "}\n",
       "table.dataframe td {\n",
       "    border: 2px solid #ccf;\n",
       "    background-color: #f4f4ff;\n",
       "}\n",
       "h3 {\n",
       "    color: white;\n",
       "    background-color: black;\n",
       "    padding: 0.5em;\n",
       "}\n",
       "\n",
       ".CodeMirror {\n",
       "    font-family: 'Monaco for Powerline';\n",
       "}\n",
       "\n",
       "div.cell.code_cell {\n",
       "    font-family: 'Monaco for Powerline';\n",
       "}\n",
       "\n",
       "div.output_area pre {\n",
       "    font-family: 'Monaco for Powerline';\n",
       "}\n",
       "</style>"
      ],
      "text/plain": [
       "<IPython.core.display.HTML object>"
      ]
     },
     "execution_count": 2,
     "metadata": {},
     "output_type": "execute_result"
    }
   ],
   "source": [
    "from IPython.core.display import HTML\n",
    "css = open('style-table.css').read() + open('style-notebook.css').read()\n",
    "HTML('<style>{}</style>'.format(css))"
   ]
  },
  {
   "cell_type": "code",
   "execution_count": 3,
   "metadata": {
    "collapsed": false
   },
   "outputs": [],
   "source": [
    "import sqlite3\n",
    "import pandas as pd\n",
    "import matplotlib.dates as dates"
   ]
  },
  {
   "cell_type": "code",
   "execution_count": 4,
   "metadata": {
    "collapsed": true
   },
   "outputs": [],
   "source": [
    "DB_LOCATION = 'lastmile.db'"
   ]
  },
  {
   "cell_type": "code",
   "execution_count": 5,
   "metadata": {
    "collapsed": true
   },
   "outputs": [],
   "source": [
    "RA_PROBE = 'ra_probe'\n",
    "RA_PROBE_API = 'ra_probe_api'\n",
    "RA_ASN = 'ra_asn'\n",
    "RA_ONE_OFF_EXTENSIONS = 'ra_one_off_extensions'\n",
    "RA_LATENCIES_AGG = 'ra_latencies_agg'"
   ]
  },
  {
   "cell_type": "code",
   "execution_count": 6,
   "metadata": {
    "collapsed": true
   },
   "outputs": [],
   "source": [
    "SK_ONE_OFF_EXTENSIONS = 'sk_one_off_extensions'\n",
    "SK_LATENCIES_AGG = 'sk_latencies_agg'\n",
    "SK_ASN = 'sk_asn'\n",
    "METADATA_SNAPSHOT = 'metadata_snapshot'\n",
    "METADATA_SNAPSHOT_EXTENSIONS = 'metadata_snapshot_extensions'"
   ]
  },
  {
   "cell_type": "code",
   "execution_count": 7,
   "metadata": {
    "collapsed": false
   },
   "outputs": [],
   "source": [
    "con = sqlite3.connect(DB_LOCATION)"
   ]
  },
  {
   "cell_type": "code",
   "execution_count": 8,
   "metadata": {
    "collapsed": false
   },
   "outputs": [],
   "source": [
    "query_ra = '''SELECT      agg.probeid\n",
    "                        , agg.timestamp\n",
    "                        , s.asn\n",
    "                        , s.asn_holder_name\n",
    "                        , s.asn_access_type\n",
    "                        , agg.h1_median as h1\n",
    "                        , agg.h2_median as h2                        \n",
    "\n",
    "               FROM   %s                             as  agg\n",
    "                    , %s                             as  api               \n",
    "                    , %s                             as  s                  \n",
    "                    , %s                             as  hardware\n",
    "                    , %s                             as  ext\n",
    "\n",
    "               WHERE     agg.probeid                  =  api.probeid\n",
    "               AND       agg.probeid                  =  hardware.probeid\n",
    "               AND       agg.probeid                  =  ext.probeid\n",
    "               AND       api.asn_v4                   =  s.asn\n",
    "               \n",
    "\n",
    "               AND       hardware.hardware_version    =  'v3'\n",
    "               AND       ext.if_residential           =  1\n",
    "               \n",
    "            '''%(  RA_LATENCIES_AGG\n",
    "                 , RA_PROBE_API\n",
    "                 , RA_ASN\n",
    "                 , RA_PROBE\n",
    "                 , RA_ONE_OFF_EXTENSIONS\n",
    "                )\n",
    "\n",
    "df_ra = pd.read_sql(query_ra, con)"
   ]
  },
  {
   "cell_type": "code",
   "execution_count": 9,
   "metadata": {
    "collapsed": false
   },
   "outputs": [
    {
     "data": {
      "text/plain": [
       "probeid            134724\n",
       "timestamp          134724\n",
       "asn                134724\n",
       "asn_holder_name    134724\n",
       "asn_access_type    134724\n",
       "h1                 133920\n",
       "h2                 130563\n",
       "dtype: int64"
      ]
     },
     "execution_count": 9,
     "metadata": {},
     "output_type": "execute_result"
    }
   ],
   "source": [
    "df_ra.count()"
   ]
  },
  {
   "cell_type": "code",
   "execution_count": 10,
   "metadata": {
    "collapsed": false
   },
   "outputs": [
    {
     "data": {
      "text/html": [
       "<div>\n",
       "<table border=\"1\" class=\"dataframe\">\n",
       "  <thead>\n",
       "    <tr style=\"text-align: right;\">\n",
       "      <th></th>\n",
       "      <th>probeid</th>\n",
       "      <th>timestamp</th>\n",
       "      <th>asn</th>\n",
       "      <th>asn_holder_name</th>\n",
       "      <th>asn_access_type</th>\n",
       "      <th>h1</th>\n",
       "      <th>h2</th>\n",
       "    </tr>\n",
       "  </thead>\n",
       "  <tbody>\n",
       "    <tr>\n",
       "      <th>0</th>\n",
       "      <td>10006</td>\n",
       "      <td>1406548034</td>\n",
       "      <td>3265</td>\n",
       "      <td>XS4ALL-NL XS4ALL Internet BV,NL</td>\n",
       "      <td>DSL</td>\n",
       "      <td>0.429</td>\n",
       "      <td>20.490</td>\n",
       "    </tr>\n",
       "    <tr>\n",
       "      <th>1</th>\n",
       "      <td>10006</td>\n",
       "      <td>1406562432</td>\n",
       "      <td>3265</td>\n",
       "      <td>XS4ALL-NL XS4ALL Internet BV,NL</td>\n",
       "      <td>DSL</td>\n",
       "      <td>0.431</td>\n",
       "      <td>17.700</td>\n",
       "    </tr>\n",
       "    <tr>\n",
       "      <th>2</th>\n",
       "      <td>10006</td>\n",
       "      <td>1406576835</td>\n",
       "      <td>3265</td>\n",
       "      <td>XS4ALL-NL XS4ALL Internet BV,NL</td>\n",
       "      <td>DSL</td>\n",
       "      <td>0.438</td>\n",
       "      <td>17.776</td>\n",
       "    </tr>\n",
       "    <tr>\n",
       "      <th>3</th>\n",
       "      <td>10006</td>\n",
       "      <td>1406591230</td>\n",
       "      <td>3265</td>\n",
       "      <td>XS4ALL-NL XS4ALL Internet BV,NL</td>\n",
       "      <td>DSL</td>\n",
       "      <td>0.478</td>\n",
       "      <td>17.577</td>\n",
       "    </tr>\n",
       "    <tr>\n",
       "      <th>4</th>\n",
       "      <td>10006</td>\n",
       "      <td>1406605631</td>\n",
       "      <td>3265</td>\n",
       "      <td>XS4ALL-NL XS4ALL Internet BV,NL</td>\n",
       "      <td>DSL</td>\n",
       "      <td>0.422</td>\n",
       "      <td>17.526</td>\n",
       "    </tr>\n",
       "  </tbody>\n",
       "</table>\n",
       "</div>"
      ],
      "text/plain": [
       "   probeid   timestamp   asn                  asn_holder_name asn_access_type  \\\n",
       "0    10006  1406548034  3265  XS4ALL-NL XS4ALL Internet BV,NL             DSL   \n",
       "1    10006  1406562432  3265  XS4ALL-NL XS4ALL Internet BV,NL             DSL   \n",
       "2    10006  1406576835  3265  XS4ALL-NL XS4ALL Internet BV,NL             DSL   \n",
       "3    10006  1406591230  3265  XS4ALL-NL XS4ALL Internet BV,NL             DSL   \n",
       "4    10006  1406605631  3265  XS4ALL-NL XS4ALL Internet BV,NL             DSL   \n",
       "\n",
       "      h1      h2  \n",
       "0  0.429  20.490  \n",
       "1  0.431  17.700  \n",
       "2  0.438  17.776  \n",
       "3  0.478  17.577  \n",
       "4  0.422  17.526  "
      ]
     },
     "execution_count": 10,
     "metadata": {},
     "output_type": "execute_result"
    }
   ],
   "source": [
    "df_ra.head()"
   ]
  },
  {
   "cell_type": "code",
   "execution_count": 11,
   "metadata": {
    "collapsed": false
   },
   "outputs": [],
   "source": [
    "query_sk = ''' SELECT     agg.probeid\n",
    "                        , agg.timestamp\n",
    "                        , s.asn \n",
    "                        , s.asn_access_type\n",
    "                        , s.asn_holder_name\n",
    "                        , meta.product                        \n",
    "                        , agg.h1_avg as h1\n",
    "                        , agg.h2_avg as h2\n",
    "                                                                                     \n",
    "               FROM       %s                            as   agg\n",
    "                        , %s                            as   api               \n",
    "                        , %s                            as   ext\n",
    "                        , %s                            as   s\n",
    "                        , %s                            as   meta\n",
    "                        \n",
    "                        \n",
    "\n",
    "               WHERE      agg.probeid                    =    ext.probeid\n",
    "               AND        agg.probeid                    =    api.probeid\n",
    "               AND        agg.probeid                    =    meta.id               \n",
    "               AND        api.asn                        =    s.asn               \n",
    "               \n",
    "               AND        ext.if_residential             =    1\n",
    "               AND        agg.h1_avg                     <>   0\n",
    "               AND        agg.h2_avg                     <>   0\n",
    "               \n",
    "           '''%(   SK_LATENCIES_AGG\n",
    "                 , METADATA_SNAPSHOT_EXTENSIONS                \n",
    "                 , SK_ONE_OFF_EXTENSIONS\n",
    "                 , SK_ASN        \n",
    "                 , METADATA_SNAPSHOT                \n",
    "               )\n",
    "\n",
    "df_sk = pd.read_sql(query_sk, con)"
   ]
  },
  {
   "cell_type": "code",
   "execution_count": 12,
   "metadata": {
    "collapsed": true
   },
   "outputs": [],
   "source": [
    "df_ra = df_ra.dropna()"
   ]
  },
  {
   "cell_type": "code",
   "execution_count": 13,
   "metadata": {
    "collapsed": true
   },
   "outputs": [],
   "source": [
    "df_sk = df_sk.dropna()"
   ]
  },
  {
   "cell_type": "code",
   "execution_count": 14,
   "metadata": {
    "collapsed": false
   },
   "outputs": [
    {
     "data": {
      "text/plain": [
       "probeid            415903\n",
       "timestamp          415903\n",
       "asn                415903\n",
       "asn_access_type    415903\n",
       "asn_holder_name    415903\n",
       "product            415903\n",
       "h1                 415903\n",
       "h2                 415903\n",
       "dtype: int64"
      ]
     },
     "execution_count": 14,
     "metadata": {},
     "output_type": "execute_result"
    }
   ],
   "source": [
    "df_sk.count()"
   ]
  },
  {
   "cell_type": "code",
   "execution_count": 15,
   "metadata": {
    "collapsed": false
   },
   "outputs": [
    {
     "data": {
      "text/plain": [
       "probeid            130006\n",
       "timestamp          130006\n",
       "asn                130006\n",
       "asn_holder_name    130006\n",
       "asn_access_type    130006\n",
       "h1                 130006\n",
       "h2                 130006\n",
       "dtype: int64"
      ]
     },
     "execution_count": 15,
     "metadata": {},
     "output_type": "execute_result"
    }
   ],
   "source": [
    "df_ra.count()"
   ]
  },
  {
   "cell_type": "code",
   "execution_count": 16,
   "metadata": {
    "collapsed": false
   },
   "outputs": [],
   "source": [
    "from datetime import datetime as dt\n",
    "\n",
    "def timestamp_string_to_datetime(timestamp_str):\n",
    "    date_object = dt.strptime(timestamp_str, '%Y-%m-%d %H:%M:%S')\n",
    "    return date_object\n",
    "\n",
    "def get_datetime_from_timestamp(ts): return datetime.datetime.fromtimestamp(ts)\n",
    "def get_nearest_day_from_datetime(dt): return dt.strftime('%Y-%m-%d')\n",
    "\n",
    "def get_nearest_day_from_timestamp(ts):\n",
    "    d = get_datetime_from_timestamp(ts)\n",
    "    d = d.strftime('%Y-%m-%d')\n",
    "    return d"
   ]
  },
  {
   "cell_type": "code",
   "execution_count": 17,
   "metadata": {
    "collapsed": true
   },
   "outputs": [],
   "source": [
    "df_sk['timestamp'] = df_sk['timestamp'].apply(timestamp_string_to_datetime)\n",
    "df_ra['timestamp'] = df_ra['timestamp'].apply(get_datetime_from_timestamp)"
   ]
  },
  {
   "cell_type": "code",
   "execution_count": 18,
   "metadata": {
    "collapsed": false
   },
   "outputs": [],
   "source": [
    "df_ra = df_ra[df_ra.asn_access_type == 'DSL']\n",
    "df_sk = df_sk[df_sk.asn_access_type == 'DSL']"
   ]
  },
  {
   "cell_type": "code",
   "execution_count": 19,
   "metadata": {
    "collapsed": false
   },
   "outputs": [
    {
     "data": {
      "text/plain": [
       "probeid            85407\n",
       "timestamp          85407\n",
       "asn                85407\n",
       "asn_holder_name    85407\n",
       "asn_access_type    85407\n",
       "h1                 85407\n",
       "h2                 85407\n",
       "dtype: int64"
      ]
     },
     "execution_count": 19,
     "metadata": {},
     "output_type": "execute_result"
    }
   ],
   "source": [
    "df_ra.count()"
   ]
  },
  {
   "cell_type": "code",
   "execution_count": 20,
   "metadata": {
    "collapsed": false
   },
   "outputs": [
    {
     "data": {
      "text/plain": [
       "probeid            345047\n",
       "timestamp          345047\n",
       "asn                345047\n",
       "asn_access_type    345047\n",
       "asn_holder_name    345047\n",
       "product            345047\n",
       "h1                 345047\n",
       "h2                 345047\n",
       "dtype: int64"
      ]
     },
     "execution_count": 20,
     "metadata": {},
     "output_type": "execute_result"
    }
   ],
   "source": [
    "df_sk.count()"
   ]
  },
  {
   "cell_type": "code",
   "execution_count": 21,
   "metadata": {
    "collapsed": true
   },
   "outputs": [],
   "source": [
    "def create_pretty_node_names(asn, holder):\n",
    "    \n",
    "    d = {\n",
    "          'NTL'        : 'VIRGINMEDIA'\n",
    "        , 'AS3215'     : 'ORANGE'        \n",
    "        , 'VODANET'    : 'VODAFONE'\n",
    "        , 'PROXAD'     : 'FREE'\n",
    "        , 'ROADRUNNER' : 'TWC'\n",
    "        , 'TDDE'       : 'TELEFONICA-DE'\n",
    "        , 'TT'         : 'TALKTALK'\n",
    "    }\n",
    "    \n",
    "    firstname = holder.split('-')[0].split(' ')[0]\n",
    "    try: firstname = d[firstname]\n",
    "    except Exception as e: pass\n",
    "    \n",
    "    if 'AS' in str(asn): nodename = '%s (%s)'%(firstname, asn)\n",
    "    else: nodename = '%s (AS%s)'%(firstname, asn)\n",
    "    return nodename\n",
    "\n",
    "def myfunc(x):\n",
    "    asn = x['asn']; holder = x['asn_holder_name']; \n",
    "    nodename = create_pretty_node_names(asn, holder)\n",
    "    x['nodename'] = nodename\n",
    "    return x"
   ]
  },
  {
   "cell_type": "code",
   "execution_count": 22,
   "metadata": {
    "collapsed": false
   },
   "outputs": [],
   "source": [
    "df_ra_groupby = df_ra.groupby(['asn', 'asn_holder_name'])\n",
    "df_sk_groupby = df_sk.groupby(['asn', 'asn_holder_name'])"
   ]
  },
  {
   "cell_type": "code",
   "execution_count": 23,
   "metadata": {
    "collapsed": false
   },
   "outputs": [],
   "source": [
    "from scipy.cluster.vq import kmeans\n",
    "from scipy.signal import argrelextrema\n",
    "\n",
    "def calculate_kde(df):\n",
    "\n",
    "    x = df.sort('h2')['h2'].values\n",
    "    from scipy.stats import kde    \n",
    "    try: density = kde.gaussian_kde(x)\n",
    "    except Exception as e: print(e, type(e), key, end=''); return None\n",
    "    else: \n",
    "        xgrid = np.linspace(x.min(), x.max(), len(x))   \n",
    "        ygrid = density(xgrid)\n",
    "        return xgrid, ygrid\n",
    "        \n",
    "def calculate_kde_peaks(df):\n",
    "    \n",
    "    xgrid, ygrid = calculate_kde(df)\n",
    "    maximas_indexes = argrelextrema(ygrid, np.greater)[0]\n",
    "    max_y = ygrid[maximas_indexes]        \n",
    "    max_x = xgrid[maximas_indexes]\n",
    "    zipped_x_y = zip(max_x, max_y)\n",
    "    peaks = []\n",
    "    prev = None; interval = False\n",
    "    for x, y in zipped_x_y:\n",
    "        if prev is None: interval = True\n",
    "        if prev is not None: \n",
    "            if abs(x - prev) < 10: continue\n",
    "            else: interval = True\n",
    "        if interval:\n",
    "            prev = x\n",
    "            if y >= 0.02: peaks.append((x,y))\n",
    "    return (peaks)"
   ]
  },
  {
   "cell_type": "code",
   "execution_count": 24,
   "metadata": {
    "collapsed": false
   },
   "outputs": [],
   "source": [
    "from scipy.cluster.vq import kmeans\n",
    "from scipy.signal import argrelextrema\n",
    "import matplotlib.pyplot as plt     \n",
    "\n",
    "def draw_kde(df):\n",
    "    xgrid, ygrid = calculate_kde(df)\n",
    "    plt.plot(xgrid, ygrid)"
   ]
  },
  {
   "cell_type": "code",
   "execution_count": 25,
   "metadata": {
    "collapsed": true
   },
   "outputs": [],
   "source": [
    "import Cdf\n",
    "\n",
    "markers = ['d', 'x', '+', 'o', 'p', 'v', '8', '*', 'D', '<', 's']\n",
    "\n",
    "def draw_cdf(df, nodename, ax):\n",
    "    \n",
    "    sample = df['h1'].values\n",
    "    sample = [x for x in sample if x > 0]\n",
    "    c = Cdf.MakeCdfFromList(sample)\n",
    "    \n",
    "    ax.plot (  c.xs\n",
    "              , c.ps\n",
    "              #, marker='s'\n",
    "              , linewidth=1\n",
    "              , color='Red'\n",
    "              #, markersize=15\n",
    "              , fillstyle='none'\n",
    "              , label=\"hop1\"\n",
    "             )\n",
    "\n",
    "    sample = df['h2'].values\n",
    "    sample = [x for x in sample if x > 0]\n",
    "    c = Cdf.MakeCdfFromList(sample)\n",
    "\n",
    "    ax.plot (  c.xs\n",
    "              , c.ps\n",
    "              #, marker='x'\n",
    "              , linewidth=1\n",
    "              #, markersize=15\n",
    "              , fillstyle='none'\n",
    "              , color='Green'\n",
    "              , label=\"hop2\"\n",
    "             )    "
   ]
  },
  {
   "cell_type": "code",
   "execution_count": 26,
   "metadata": {
    "collapsed": false
   },
   "outputs": [],
   "source": [
    "def draw_timeseries(df, nodename, ax):\n",
    "    \n",
    "    df.plot  (  'timestamp'\n",
    "              , ['h1', 'h2']\n",
    "              #, marker='o'\n",
    "              , linewidth=1\n",
    "              #, markersize=15\n",
    "              , fillstyle='none'\n",
    "              , ax = ax\n",
    "              , color=['Red', 'Green']\n",
    "             )\n",
    "    \n",
    "    ax.set_label([\"hop1\", \"hop2\"])\n",
    "    return df"
   ]
  },
  {
   "cell_type": "code",
   "execution_count": 27,
   "metadata": {
    "collapsed": false
   },
   "outputs": [],
   "source": [
    "def get_clusters(df):\n",
    "\n",
    "    y = df.sort('h2')['h2'].values\n",
    "    x = range(len(y))\n",
    "    m = np.matrix([x, y]).transpose()\n",
    "    from scipy.cluster.vq import kmeans\n",
    "    kclust = kmeans(m, 3)\n",
    "    return kclust"
   ]
  },
  {
   "cell_type": "code",
   "execution_count": 28,
   "metadata": {
    "collapsed": true
   },
   "outputs": [],
   "source": [
    "def start_plot():    \n",
    "    # ------- plt.style.use('ggplot')\n",
    "    fig = plt.figure(figsize=(6,3))\n",
    "    plt.rcParams['font.size'] = 22\n",
    "    ax = fig.add_subplot(111)\n",
    "    return ax\n",
    "\n",
    "def stop_plot_cdf(ax, chosen, count, platform = '-', fs = 22):\n",
    "    \n",
    "    ax.spines['right'].set_color('none')\n",
    "    ax.spines['top'].set_color('none')\n",
    "    ax.yaxis.set_ticks_position('left')\n",
    "    ax.xaxis.set_ticks_position('bottom')\n",
    "    ax.spines['bottom'].set_position(('axes', -0.05))\n",
    "    ax.spines['left'].set_position(('axes', -0.05))\n",
    "    \n",
    "    ax.grid(False)\n",
    "    ax.set_xlim([0.25, 64])    \n",
    "    ax.set_xscale('log', basex=2)\n",
    "    ax.set_xlabel('RTT (ms)', fontsize=fs)\n",
    "    ax.set_ylabel('CDF', fontsize=fs)\n",
    "\n",
    "    xticks = [0.25, 0.5, 1, 2, 4, 8, 16, 32, 64]    \n",
    "    xticklabels = ['', '', '1', '', '4', '', '16', '', '64']                 \n",
    "    ax.set_xticks(xticks, xticks)\n",
    "    ax.set_xticklabels(xticklabels)    \n",
    "    ax.legend(loc='best', fontsize=fs)\n",
    "    ax.set_title('%s (%s)'%(chosen, platform), fontsize=fs, y=1.05)\n",
    "    \n",
    "def stop_plot_timeseries(ax, chosen, count, platform = '-', fs = 22):\n",
    "    \n",
    "    ax.spines['right'].set_color('none')\n",
    "    ax.spines['top'].set_color('none')\n",
    "    ax.yaxis.set_ticks_position('left')\n",
    "    ax.xaxis.set_ticks_position('bottom')\n",
    "    ax.spines['bottom'].set_position(('axes', -0.05))\n",
    "    ax.spines['left'].set_position(('axes', -0.05))\n",
    "    \n",
    "    ax.grid(False)\n",
    "    ax.set_ylim([0.25, 64])    \n",
    "    ax.set_yscale('log', basey=2)\n",
    "    ax.set_ylabel('RTT (ms)', fontsize=fs)\n",
    "    ax.set_xlabel('Aug 2014', fontsize=fs)    \n",
    "\n",
    "    ax.xaxis.set_major_locator(dates.WeekdayLocator(byweekday=1, interval=2))\n",
    "    ax.xaxis.set_major_formatter(dates.DateFormatter('%d/%m\\n'))\n",
    "    ax.xaxis.set_tick_params(which='major', labelsize=fs)\n",
    "    \n",
    "    yticks      = [0.25, 0.5, 1, 2, 4, 8, 16, 32, 64]        \n",
    "    yticklabels = ['', '', '1', '', '4', '', '16', '', '64']         \n",
    "    ax.set_yticks(yticks, yticks)   \n",
    "    ax.set_yticklabels(yticklabels)\n",
    "    ax.legend([\"hop1\", \"hop2\"], loc='best', fontsize=fs)\n",
    "    ax.set_title('%s (%s)'%(chosen, platform), fontsize=fs, y=1.05)    "
   ]
  },
  {
   "cell_type": "code",
   "execution_count": 29,
   "metadata": {
    "collapsed": true
   },
   "outputs": [],
   "source": [
    "def start_cdf(df, probeid, ax, platform = '-', fs = 22):\n",
    "    df_probe = df[df.probeid == probeid]\n",
    "    asn = df_probe['asn'].values[0]; holder = df_probe['asn_holder_name'].values[0]\n",
    "    nodename = create_pretty_node_names(asn, holder)\n",
    "\n",
    "    try: draw_cdf(df_probe, probeid, ax)\n",
    "    except Exception as e: print(e)            \n",
    "    stop_plot_cdf(ax=ax, chosen=nodename.split()[0], count=df_probe['probeid'].count(), platform = platform, fs = fs)    "
   ]
  },
  {
   "cell_type": "code",
   "execution_count": 30,
   "metadata": {
    "collapsed": false
   },
   "outputs": [],
   "source": [
    "def start_timeseries(df, probeid, ax, platform = '-', fs = 22):\n",
    "    df_probe = df[df.probeid == probeid]\n",
    "    asn = df_probe['asn'].values[0]; holder = df_probe['asn_holder_name'].values[0]\n",
    "    nodename = create_pretty_node_names(asn, holder)\n",
    "    \n",
    "    df = draw_timeseries(df_probe, probeid, ax)  \n",
    "    stop_plot_timeseries(ax=ax, chosen=nodename.split()[0], count=df_probe['probeid'].count(), platform = platform, fs = fs)"
   ]
  },
  {
   "cell_type": "code",
   "execution_count": 47,
   "metadata": {
    "collapsed": false
   },
   "outputs": [
    {
     "data": {
      "image/png": "[encoded data removed]",
      "text/plain": [
       "<matplotlib.figure.Figure at 0x7f7d47f56c88>"
      ]
     },
     "metadata": {},
     "output_type": "display_data"
    }
   ],
   "source": [
    "fig, ((ax1, ax2, ax3, ax4), (bx1, bx2, bx3, bx4)) = plt.subplots(2, 4, sharey='row')\n",
    "fig.set_size_inches(18, 4)\n",
    "fs = 15\n",
    "plt.rcParams['font.size'] = fs\n",
    "\n",
    "probeid = 17225\n",
    "start_cdf(df_ra, probeid, ax1, platform = 'RIPE Atlas', fs = 15)\n",
    "\n",
    "probeid = 16717\n",
    "start_cdf(df_ra, probeid, ax2, platform = 'RIPE Atlas', fs = 15)\n",
    "\n",
    "probeid = 202398\n",
    "start_cdf(df_sk, probeid, ax3, platform = 'SamKnows', fs = 15)\n",
    "\n",
    "probeid = 148550\n",
    "start_cdf(df_sk, probeid, ax4, platform = 'SamKnows', fs = 15)\n",
    "\n",
    "ax1.legend_.remove()\n",
    "ax2.legend_.remove()\n",
    "ax3.legend_.remove()\n",
    "ax4.legend_.remove()\n",
    "\n",
    "#ax1.set_xlabel('')\n",
    "#ax2.set_xlabel('')\n",
    "#ax3.set_xlabel('')\n",
    "#ax4.set_xlabel('')\n",
    "\n",
    "ax2.set_ylabel('', fontsize=22)\n",
    "ax3.set_ylabel('', fontsize=22)\n",
    "ax4.set_ylabel('', fontsize=22)\n",
    "\n",
    "yticks      = [0.0, 0.2, 0.4, 0.6, 0.8, 1.0]        \n",
    "yticklabels = ['', '0.2', '', '0.6', '', '1.0']         \n",
    "ax1.set_yticks(yticks, yticks)   \n",
    "ax1.set_yticklabels(yticklabels)\n",
    "\n",
    "yticklabels = ax2.get_yticklabels() + ax3.get_yticklabels() + ax4.get_yticklabels()\n",
    "plt.setp(yticklabels, visible=False)\n",
    "\n",
    "probeid = 17225\n",
    "start_timeseries(df_ra, probeid, bx1, platform = 'RIPE Atlas', fs = 15)\n",
    "\n",
    "probeid = 16717\n",
    "start_timeseries(df_ra, probeid, bx2, platform = 'RIPE Atlas', fs = 15)\n",
    "\n",
    "probeid = 202398\n",
    "start_timeseries(df_sk, probeid, bx3, platform = 'SamKnows', fs = 15)\n",
    "\n",
    "probeid = 148550\n",
    "start_timeseries(df_sk, probeid, bx4, platform = 'SamKnows', fs = 15)\n",
    "\n",
    "yticklabels = bx2.get_yticklabels() + bx3.get_yticklabels() + bx4.get_yticklabels()\n",
    "plt.setp(yticklabels, visible=False)\n",
    "\n",
    "bx1.legend_.remove()\n",
    "bx2.legend_.remove()\n",
    "bx3.legend_.remove()\n",
    "bx4.legend(['hop1', 'hop2'], fontsize=fs, loc='best', bbox_to_anchor=(-0.8, -1.2), ncol=2)\n",
    "bx4.legend(['hop1', 'hop2'], fontsize=fs, loc='best', bbox_to_anchor=(1.5, 2), ncol=1)\n",
    "\n",
    "bx1.set_title('')\n",
    "bx2.set_title('')\n",
    "bx3.set_title('')\n",
    "bx4.set_title('')\n",
    "\n",
    "#bx1.set_xlabel('')\n",
    "#bx2.set_xlabel('')\n",
    "#bx3.set_xlabel('')\n",
    "#bx4.set_xlabel('')\n",
    "\n",
    "fig.subplots_adjust(hspace = 1)\n",
    "plt.savefig('interleaving.pdf', format='pdf', bbox_inches='tight')"
   ]
  }
 ],
 "metadata": {
  "kernelspec": {
   "display_name": "Python 3",
   "language": "python",
   "name": "python3"
  },
  "language_info": {
   "codemirror_mode": {
    "name": "ipython",
    "version": 3
   },
   "file_extension": ".py",
   "mimetype": "text/x-python",
   "name": "python",
   "nbconvert_exporter": "python",
   "pygments_lexer": "ipython3",
   "version": "3.4.2"
  }
 },
 "nbformat": 4,
 "nbformat_minor": 0
}
