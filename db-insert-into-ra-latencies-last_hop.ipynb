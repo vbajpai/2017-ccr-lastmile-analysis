{
 "cells": [
  {
   "cell_type": "markdown",
   "metadata": {},
   "source": [
    "*This notebook gets the raw atlas traceroute measurement data from `ra_traceroute_parameters` table; prunes the data to fetch (probeid, timestamp, h1_latencies, h2_latencies) then inserts entire dataframe in `ra_latencies` table.*\n",
    "- - - "
   ]
  },
  {
   "cell_type": "code",
   "execution_count": 58,
   "metadata": {
    "collapsed": false
   },
   "outputs": [],
   "source": [
    "import sqlite3\n",
    "import pandas as pd\n",
    "import requests\n",
    "import ipaddress\n",
    "import time"
   ]
  },
  {
   "cell_type": "code",
   "execution_count": 59,
   "metadata": {
    "collapsed": true
   },
   "outputs": [],
   "source": [
    "DB_LOCATION = 'lastmile.db'\n",
    "RA_TRACEROUTE_PARAMETERS = 'ra_traceroute_parameters'\n",
    "RA_LATENCIES_LAST_HOP = 'ra_latencies_last_hop'"
   ]
  },
  {
   "cell_type": "code",
   "execution_count": 60,
   "metadata": {
    "collapsed": false
   },
   "outputs": [],
   "source": [
    "con = sqlite3.connect(DB_LOCATION)"
   ]
  },
  {
   "cell_type": "code",
   "execution_count": 61,
   "metadata": {
    "collapsed": false
   },
   "outputs": [],
   "source": [
    "query = '''SELECT    probeid\n",
    "                   , starttime as timestamp\n",
    "                   , GROUP_CONCAT(result_hop_no, ';') as hop_no\n",
    "                   , GROUP_CONCAT(result_hop_blob, ';') as result_hop_blob\n",
    "                   , '' as last_hop\n",
    "                   , '' as last_hop_blob                   \n",
    "                   , '' as last_hop_latencies\n",
    "           FROM      %s\n",
    "           GROUP BY  probeid, starttime\n",
    "        '''%(RA_TRACEROUTE_PARAMETERS)\n",
    "\n",
    "df = pd.read_sql(query, con)"
   ]
  },
  {
   "cell_type": "code",
   "execution_count": 62,
   "metadata": {
    "collapsed": true
   },
   "outputs": [],
   "source": [
    "def get_last_hop(hop_no): last_hop = hop_no.split(';')[-1]; return last_hop\n",
    "def get_last_hop_blob(result_hop_blob): last_hop_blob = result_hop_blob.split(';')[-1]; return last_hop_blob\n",
    "\n",
    "df['last_hop'] = df['hop_no'].apply(get_last_hop)\n",
    "df['last_hop_blob'] = df['result_hop_blob'].apply(get_last_hop_blob)"
   ]
  },
  {
   "cell_type": "code",
   "execution_count": 63,
   "metadata": {
    "collapsed": false
   },
   "outputs": [
    {
     "data": {
      "text/html": [
       "<div>\n",
       "<table border=\"1\" class=\"dataframe\">\n",
       "  <thead>\n",
       "    <tr style=\"text-align: right;\">\n",
       "      <th></th>\n",
       "      <th>probeid</th>\n",
       "      <th>timestamp</th>\n",
       "      <th>hop_no</th>\n",
       "      <th>result_hop_blob</th>\n",
       "      <th>last_hop</th>\n",
       "      <th>last_hop_blob</th>\n",
       "      <th>last_hop_latencies</th>\n",
       "    </tr>\n",
       "  </thead>\n",
       "  <tbody>\n",
       "    <tr>\n",
       "      <th>0</th>\n",
       "      <td>10006</td>\n",
       "      <td>1406548034</td>\n",
       "      <td>1;2;3;4;5;6;7;8;9;10;11;12;13;14;15;16;17;18</td>\n",
       "      <td>[{'size': 76, 'rtt': 0.559, 'ttl': 64, 'from':...</td>\n",
       "      <td>18</td>\n",
       "      <td>[{'size': 48, 'rtt': 64.929, 'ttl': 55, 'from'...</td>\n",
       "      <td></td>\n",
       "    </tr>\n",
       "    <tr>\n",
       "      <th>1</th>\n",
       "      <td>10006</td>\n",
       "      <td>1406562432</td>\n",
       "      <td>1;2;3;4;5;6;7;8;9;10;11;12;13;14;15;16;17;18</td>\n",
       "      <td>[{'size': 76, 'rtt': 0.579, 'ttl': 64, 'from':...</td>\n",
       "      <td>18</td>\n",
       "      <td>[{'size': 48, 'rtt': 64.001, 'ttl': 55, 'from'...</td>\n",
       "      <td></td>\n",
       "    </tr>\n",
       "    <tr>\n",
       "      <th>2</th>\n",
       "      <td>10006</td>\n",
       "      <td>1406576835</td>\n",
       "      <td>1;2;3;4;5;6;7;8;9;10;11;12;13;14;15;16;17;18</td>\n",
       "      <td>[{'size': 76, 'rtt': 0.58, 'ttl': 64, 'from': ...</td>\n",
       "      <td>18</td>\n",
       "      <td>[{'size': 48, 'rtt': 64.473, 'ttl': 55, 'from'...</td>\n",
       "      <td></td>\n",
       "    </tr>\n",
       "    <tr>\n",
       "      <th>3</th>\n",
       "      <td>10006</td>\n",
       "      <td>1406591230</td>\n",
       "      <td>1;2;3;4;5;6;7;8;9;10;11;12;13;14;15;16;17;18</td>\n",
       "      <td>[{'size': 76, 'rtt': 0.769, 'ttl': 64, 'from':...</td>\n",
       "      <td>18</td>\n",
       "      <td>[{'size': 48, 'rtt': 64.46, 'ttl': 55, 'from':...</td>\n",
       "      <td></td>\n",
       "    </tr>\n",
       "    <tr>\n",
       "      <th>4</th>\n",
       "      <td>10006</td>\n",
       "      <td>1406605631</td>\n",
       "      <td>1;2;3;4;5;6;7;8;9;10;11;12;13;14;15;16;17;18</td>\n",
       "      <td>[{'size': 76, 'rtt': 0.534, 'ttl': 64, 'from':...</td>\n",
       "      <td>18</td>\n",
       "      <td>[{'size': 48, 'rtt': 64.059, 'ttl': 55, 'from'...</td>\n",
       "      <td></td>\n",
       "    </tr>\n",
       "  </tbody>\n",
       "</table>\n",
       "</div>"
      ],
      "text/plain": [
       "   probeid   timestamp                                        hop_no  \\\n",
       "0    10006  1406548034  1;2;3;4;5;6;7;8;9;10;11;12;13;14;15;16;17;18   \n",
       "1    10006  1406562432  1;2;3;4;5;6;7;8;9;10;11;12;13;14;15;16;17;18   \n",
       "2    10006  1406576835  1;2;3;4;5;6;7;8;9;10;11;12;13;14;15;16;17;18   \n",
       "3    10006  1406591230  1;2;3;4;5;6;7;8;9;10;11;12;13;14;15;16;17;18   \n",
       "4    10006  1406605631  1;2;3;4;5;6;7;8;9;10;11;12;13;14;15;16;17;18   \n",
       "\n",
       "                                     result_hop_blob last_hop  \\\n",
       "0  [{'size': 76, 'rtt': 0.559, 'ttl': 64, 'from':...       18   \n",
       "1  [{'size': 76, 'rtt': 0.579, 'ttl': 64, 'from':...       18   \n",
       "2  [{'size': 76, 'rtt': 0.58, 'ttl': 64, 'from': ...       18   \n",
       "3  [{'size': 76, 'rtt': 0.769, 'ttl': 64, 'from':...       18   \n",
       "4  [{'size': 76, 'rtt': 0.534, 'ttl': 64, 'from':...       18   \n",
       "\n",
       "                                       last_hop_blob last_hop_latencies  \n",
       "0  [{'size': 48, 'rtt': 64.929, 'ttl': 55, 'from'...                     \n",
       "1  [{'size': 48, 'rtt': 64.001, 'ttl': 55, 'from'...                     \n",
       "2  [{'size': 48, 'rtt': 64.473, 'ttl': 55, 'from'...                     \n",
       "3  [{'size': 48, 'rtt': 64.46, 'ttl': 55, 'from':...                     \n",
       "4  [{'size': 48, 'rtt': 64.059, 'ttl': 55, 'from'...                     "
      ]
     },
     "execution_count": 63,
     "metadata": {},
     "output_type": "execute_result"
    }
   ],
   "source": [
    "df.head()"
   ]
  },
  {
   "cell_type": "code",
   "execution_count": 64,
   "metadata": {
    "collapsed": true
   },
   "outputs": [],
   "source": [
    "del df['hop_no']\n",
    "del df['result_hop_blob']"
   ]
  },
  {
   "cell_type": "code",
   "execution_count": 65,
   "metadata": {
    "collapsed": false
   },
   "outputs": [
    {
     "data": {
      "text/html": [
       "<div>\n",
       "<table border=\"1\" class=\"dataframe\">\n",
       "  <thead>\n",
       "    <tr style=\"text-align: right;\">\n",
       "      <th></th>\n",
       "      <th>probeid</th>\n",
       "      <th>timestamp</th>\n",
       "      <th>last_hop</th>\n",
       "      <th>last_hop_blob</th>\n",
       "      <th>last_hop_latencies</th>\n",
       "    </tr>\n",
       "  </thead>\n",
       "  <tbody>\n",
       "    <tr>\n",
       "      <th>0</th>\n",
       "      <td>10006</td>\n",
       "      <td>1406548034</td>\n",
       "      <td>18</td>\n",
       "      <td>[{'size': 48, 'rtt': 64.929, 'ttl': 55, 'from'...</td>\n",
       "      <td></td>\n",
       "    </tr>\n",
       "    <tr>\n",
       "      <th>1</th>\n",
       "      <td>10006</td>\n",
       "      <td>1406562432</td>\n",
       "      <td>18</td>\n",
       "      <td>[{'size': 48, 'rtt': 64.001, 'ttl': 55, 'from'...</td>\n",
       "      <td></td>\n",
       "    </tr>\n",
       "    <tr>\n",
       "      <th>2</th>\n",
       "      <td>10006</td>\n",
       "      <td>1406576835</td>\n",
       "      <td>18</td>\n",
       "      <td>[{'size': 48, 'rtt': 64.473, 'ttl': 55, 'from'...</td>\n",
       "      <td></td>\n",
       "    </tr>\n",
       "    <tr>\n",
       "      <th>3</th>\n",
       "      <td>10006</td>\n",
       "      <td>1406591230</td>\n",
       "      <td>18</td>\n",
       "      <td>[{'size': 48, 'rtt': 64.46, 'ttl': 55, 'from':...</td>\n",
       "      <td></td>\n",
       "    </tr>\n",
       "    <tr>\n",
       "      <th>4</th>\n",
       "      <td>10006</td>\n",
       "      <td>1406605631</td>\n",
       "      <td>18</td>\n",
       "      <td>[{'size': 48, 'rtt': 64.059, 'ttl': 55, 'from'...</td>\n",
       "      <td></td>\n",
       "    </tr>\n",
       "  </tbody>\n",
       "</table>\n",
       "</div>"
      ],
      "text/plain": [
       "   probeid   timestamp last_hop  \\\n",
       "0    10006  1406548034       18   \n",
       "1    10006  1406562432       18   \n",
       "2    10006  1406576835       18   \n",
       "3    10006  1406591230       18   \n",
       "4    10006  1406605631       18   \n",
       "\n",
       "                                       last_hop_blob last_hop_latencies  \n",
       "0  [{'size': 48, 'rtt': 64.929, 'ttl': 55, 'from'...                     \n",
       "1  [{'size': 48, 'rtt': 64.001, 'ttl': 55, 'from'...                     \n",
       "2  [{'size': 48, 'rtt': 64.473, 'ttl': 55, 'from'...                     \n",
       "3  [{'size': 48, 'rtt': 64.46, 'ttl': 55, 'from':...                     \n",
       "4  [{'size': 48, 'rtt': 64.059, 'ttl': 55, 'from'...                     "
      ]
     },
     "execution_count": 65,
     "metadata": {},
     "output_type": "execute_result"
    }
   ],
   "source": [
    "df.head()"
   ]
  },
  {
   "cell_type": "code",
   "execution_count": 66,
   "metadata": {
    "collapsed": false
   },
   "outputs": [],
   "source": [
    "def return_all_rtt_field_values(json_string):\n",
    "    import json\n",
    "    try: json_data = json.loads(json_string)\n",
    "    except Exception as e: print(e, type(e), json_string)\n",
    "    try: \n",
    "        rtt_field_values = ', '.join([str(item['rtt']) for item in json_data])        \n",
    "    except Exception as e: print('*', end=\"\"); return None\n",
    "    else: return rtt_field_values"
   ]
  },
  {
   "cell_type": "code",
   "execution_count": 67,
   "metadata": {
    "collapsed": false
   },
   "outputs": [],
   "source": [
    "def return_concat_from_field_values(a):\n",
    "    a = a.replace(\"'\", '\"')\n",
    "    a = return_all_rtt_field_values(a)\n",
    "    return a"
   ]
  },
  {
   "cell_type": "code",
   "execution_count": 68,
   "metadata": {
    "collapsed": false
   },
   "outputs": [
    {
     "name": "stdout",
     "output_type": "stream",
     "text": [
      "***********************************************************************************************************************************************************************************************************************Expecting value: line 1 column 1 (char 0) <class 'ValueError'> nan\n",
      "**************************Expecting value: line 1 column 1 (char 0) <class 'ValueError'> nan\n",
      "*Expecting value: line 1 column 1 (char 0) <class 'ValueError'> nan\n",
      "***************************************************************************Expecting value: line 1 column 1 (char 0) <class 'ValueError'> nan\n",
      "****************************************************************Expecting value: line 1 column 1 (char 0) <class 'ValueError'> nan\n",
      "************************************************************************************Expecting value: line 1 column 1 (char 0) <class 'ValueError'> nan\n",
      "**********Expecting value: line 1 column 1 (char 0) <class 'ValueError'> nan\n",
      "*Expecting value: line 1 column 1 (char 0) <class 'ValueError'> nan\n",
      "****************************Expecting value: line 1 column 1 (char 0) <class 'ValueError'> nan\n",
      "*Expecting value: line 1 column 1 (char 0) <class 'ValueError'> nan\n",
      "******Expecting value: line 1 column 1 (char 0) <class 'ValueError'> nan\n",
      "******************************************************************Expecting value: line 1 column 1 (char 0) <class 'ValueError'> nan\n",
      "*Expecting value: line 1 column 1 (char 0) <class 'ValueError'> nan\n",
      "***********************************************************************************************************************************Expecting value: line 1 column 1 (char 0) <class 'ValueError'> nan\n",
      "*************************************************************************************Expecting value: line 1 column 1 (char 0) <class 'ValueError'> nan\n",
      "*Expecting value: line 1 column 1 (char 0) <class 'ValueError'> nan\n",
      "***********************************************************************************Expecting value: line 1 column 1 (char 0) <class 'ValueError'> nan\n",
      "********************Expecting value: line 1 column 1 (char 0) <class 'ValueError'> nan\n",
      "*Expecting value: line 1 column 1 (char 0) <class 'ValueError'> nan\n",
      "********************************************************Expecting value: line 1 column 1 (char 0) <class 'ValueError'> nan\n",
      "*Expecting value: line 1 column 1 (char 0) <class 'ValueError'> nan\n",
      "*********************************Expecting value: line 1 column 1 (char 0) <class 'ValueError'> nan\n",
      "*Expecting value: line 1 column 1 (char 0) <class 'ValueError'> nan\n",
      "***Expecting value: line 1 column 1 (char 0) <class 'ValueError'> nan\n",
      "********************************************************Expecting value: line 1 column 1 (char 0) <class 'ValueError'> nan\n",
      "****************Expecting value: line 1 column 1 (char 0) <class 'ValueError'> nan\n",
      "*************Expecting value: line 1 column 1 (char 0) <class 'ValueError'> nan\n",
      "*Expecting value: line 1 column 1 (char 0) <class 'ValueError'> nan\n",
      "*Expecting value: line 1 column 1 (char 0) <class 'ValueError'> nan\n",
      "*Expecting value: line 1 column 1 (char 0) <class 'ValueError'> nan\n",
      "*************************************************************************************************************************"
     ]
    }
   ],
   "source": [
    "def get_rtts(last_hop_blob):\n",
    "    last_hop_blob = last_hop_blob.replace('True', '\"True\"')\n",
    "    rtts = return_concat_from_field_values(last_hop_blob)\n",
    "    return rtts    \n",
    "df['last_hop_latencies'] = df['last_hop_blob'].apply(get_rtts)"
   ]
  },
  {
   "cell_type": "code",
   "execution_count": 69,
   "metadata": {
    "collapsed": false
   },
   "outputs": [
    {
     "data": {
      "text/html": [
       "<div>\n",
       "<table border=\"1\" class=\"dataframe\">\n",
       "  <thead>\n",
       "    <tr style=\"text-align: right;\">\n",
       "      <th></th>\n",
       "      <th>probeid</th>\n",
       "      <th>timestamp</th>\n",
       "      <th>last_hop</th>\n",
       "      <th>last_hop_blob</th>\n",
       "      <th>last_hop_latencies</th>\n",
       "    </tr>\n",
       "  </thead>\n",
       "  <tbody>\n",
       "    <tr>\n",
       "      <th>0</th>\n",
       "      <td>10006</td>\n",
       "      <td>1406548034</td>\n",
       "      <td>18</td>\n",
       "      <td>[{'size': 48, 'rtt': 64.929, 'ttl': 55, 'from'...</td>\n",
       "      <td>64.929, 65.337, 63.992</td>\n",
       "    </tr>\n",
       "    <tr>\n",
       "      <th>1</th>\n",
       "      <td>10006</td>\n",
       "      <td>1406562432</td>\n",
       "      <td>18</td>\n",
       "      <td>[{'size': 48, 'rtt': 64.001, 'ttl': 55, 'from'...</td>\n",
       "      <td>64.001, 64.404, 64.194</td>\n",
       "    </tr>\n",
       "    <tr>\n",
       "      <th>2</th>\n",
       "      <td>10006</td>\n",
       "      <td>1406576835</td>\n",
       "      <td>18</td>\n",
       "      <td>[{'size': 48, 'rtt': 64.473, 'ttl': 55, 'from'...</td>\n",
       "      <td>64.473, 64.215, 64.613</td>\n",
       "    </tr>\n",
       "    <tr>\n",
       "      <th>3</th>\n",
       "      <td>10006</td>\n",
       "      <td>1406591230</td>\n",
       "      <td>18</td>\n",
       "      <td>[{'size': 48, 'rtt': 64.46, 'ttl': 55, 'from':...</td>\n",
       "      <td>64.46, 65.16, 63.902</td>\n",
       "    </tr>\n",
       "    <tr>\n",
       "      <th>4</th>\n",
       "      <td>10006</td>\n",
       "      <td>1406605631</td>\n",
       "      <td>18</td>\n",
       "      <td>[{'size': 48, 'rtt': 64.059, 'ttl': 55, 'from'...</td>\n",
       "      <td>64.059, 63.728, 64.401</td>\n",
       "    </tr>\n",
       "  </tbody>\n",
       "</table>\n",
       "</div>"
      ],
      "text/plain": [
       "   probeid   timestamp last_hop  \\\n",
       "0    10006  1406548034       18   \n",
       "1    10006  1406562432       18   \n",
       "2    10006  1406576835       18   \n",
       "3    10006  1406591230       18   \n",
       "4    10006  1406605631       18   \n",
       "\n",
       "                                       last_hop_blob      last_hop_latencies  \n",
       "0  [{'size': 48, 'rtt': 64.929, 'ttl': 55, 'from'...  64.929, 65.337, 63.992  \n",
       "1  [{'size': 48, 'rtt': 64.001, 'ttl': 55, 'from'...  64.001, 64.404, 64.194  \n",
       "2  [{'size': 48, 'rtt': 64.473, 'ttl': 55, 'from'...  64.473, 64.215, 64.613  \n",
       "3  [{'size': 48, 'rtt': 64.46, 'ttl': 55, 'from':...    64.46, 65.16, 63.902  \n",
       "4  [{'size': 48, 'rtt': 64.059, 'ttl': 55, 'from'...  64.059, 63.728, 64.401  "
      ]
     },
     "execution_count": 69,
     "metadata": {},
     "output_type": "execute_result"
    }
   ],
   "source": [
    "df.head()"
   ]
  },
  {
   "cell_type": "code",
   "execution_count": 70,
   "metadata": {
    "collapsed": true
   },
   "outputs": [],
   "source": [
    "del df['last_hop_blob']"
   ]
  },
  {
   "cell_type": "code",
   "execution_count": 71,
   "metadata": {
    "collapsed": false
   },
   "outputs": [
    {
     "data": {
      "text/html": [
       "<div>\n",
       "<table border=\"1\" class=\"dataframe\">\n",
       "  <thead>\n",
       "    <tr style=\"text-align: right;\">\n",
       "      <th></th>\n",
       "      <th>probeid</th>\n",
       "      <th>timestamp</th>\n",
       "      <th>last_hop</th>\n",
       "      <th>last_hop_latencies</th>\n",
       "    </tr>\n",
       "  </thead>\n",
       "  <tbody>\n",
       "    <tr>\n",
       "      <th>0</th>\n",
       "      <td>10006</td>\n",
       "      <td>1406548034</td>\n",
       "      <td>18</td>\n",
       "      <td>64.929, 65.337, 63.992</td>\n",
       "    </tr>\n",
       "    <tr>\n",
       "      <th>1</th>\n",
       "      <td>10006</td>\n",
       "      <td>1406562432</td>\n",
       "      <td>18</td>\n",
       "      <td>64.001, 64.404, 64.194</td>\n",
       "    </tr>\n",
       "    <tr>\n",
       "      <th>2</th>\n",
       "      <td>10006</td>\n",
       "      <td>1406576835</td>\n",
       "      <td>18</td>\n",
       "      <td>64.473, 64.215, 64.613</td>\n",
       "    </tr>\n",
       "    <tr>\n",
       "      <th>3</th>\n",
       "      <td>10006</td>\n",
       "      <td>1406591230</td>\n",
       "      <td>18</td>\n",
       "      <td>64.46, 65.16, 63.902</td>\n",
       "    </tr>\n",
       "    <tr>\n",
       "      <th>4</th>\n",
       "      <td>10006</td>\n",
       "      <td>1406605631</td>\n",
       "      <td>18</td>\n",
       "      <td>64.059, 63.728, 64.401</td>\n",
       "    </tr>\n",
       "  </tbody>\n",
       "</table>\n",
       "</div>"
      ],
      "text/plain": [
       "   probeid   timestamp last_hop      last_hop_latencies\n",
       "0    10006  1406548034       18  64.929, 65.337, 63.992\n",
       "1    10006  1406562432       18  64.001, 64.404, 64.194\n",
       "2    10006  1406576835       18  64.473, 64.215, 64.613\n",
       "3    10006  1406591230       18    64.46, 65.16, 63.902\n",
       "4    10006  1406605631       18  64.059, 63.728, 64.401"
      ]
     },
     "execution_count": 71,
     "metadata": {},
     "output_type": "execute_result"
    }
   ],
   "source": [
    "df.head()"
   ]
  },
  {
   "cell_type": "code",
   "execution_count": 72,
   "metadata": {
    "collapsed": false
   },
   "outputs": [
    {
     "data": {
      "text/plain": [
       "probeid               137017\n",
       "timestamp             137017\n",
       "last_hop              137017\n",
       "last_hop_latencies    135815\n",
       "dtype: int64"
      ]
     },
     "execution_count": 72,
     "metadata": {},
     "output_type": "execute_result"
    }
   ],
   "source": [
    "df.count()"
   ]
  },
  {
   "cell_type": "code",
   "execution_count": 73,
   "metadata": {
    "collapsed": true
   },
   "outputs": [],
   "source": [
    "cur = con.execute('pragma foreign_keys=ON')"
   ]
  },
  {
   "cell_type": "code",
   "execution_count": 74,
   "metadata": {
    "collapsed": false
   },
   "outputs": [],
   "source": [
    "index_label = ['probeid', 'timestamp']\n",
    "df = df.set_index(index_label)"
   ]
  },
  {
   "cell_type": "code",
   "execution_count": 75,
   "metadata": {
    "collapsed": false
   },
   "outputs": [
    {
     "data": {
      "text/html": [
       "<div>\n",
       "<table border=\"1\" class=\"dataframe\">\n",
       "  <thead>\n",
       "    <tr style=\"text-align: right;\">\n",
       "      <th></th>\n",
       "      <th></th>\n",
       "      <th>last_hop</th>\n",
       "      <th>last_hop_latencies</th>\n",
       "    </tr>\n",
       "    <tr>\n",
       "      <th>probeid</th>\n",
       "      <th>timestamp</th>\n",
       "      <th></th>\n",
       "      <th></th>\n",
       "    </tr>\n",
       "  </thead>\n",
       "  <tbody>\n",
       "    <tr>\n",
       "      <th rowspan=\"5\" valign=\"top\">10006</th>\n",
       "      <th>1406548034</th>\n",
       "      <td>18</td>\n",
       "      <td>64.929, 65.337, 63.992</td>\n",
       "    </tr>\n",
       "    <tr>\n",
       "      <th>1406562432</th>\n",
       "      <td>18</td>\n",
       "      <td>64.001, 64.404, 64.194</td>\n",
       "    </tr>\n",
       "    <tr>\n",
       "      <th>1406576835</th>\n",
       "      <td>18</td>\n",
       "      <td>64.473, 64.215, 64.613</td>\n",
       "    </tr>\n",
       "    <tr>\n",
       "      <th>1406591230</th>\n",
       "      <td>18</td>\n",
       "      <td>64.46, 65.16, 63.902</td>\n",
       "    </tr>\n",
       "    <tr>\n",
       "      <th>1406605631</th>\n",
       "      <td>18</td>\n",
       "      <td>64.059, 63.728, 64.401</td>\n",
       "    </tr>\n",
       "  </tbody>\n",
       "</table>\n",
       "</div>"
      ],
      "text/plain": [
       "                   last_hop      last_hop_latencies\n",
       "probeid timestamp                                  \n",
       "10006   1406548034       18  64.929, 65.337, 63.992\n",
       "        1406562432       18  64.001, 64.404, 64.194\n",
       "        1406576835       18  64.473, 64.215, 64.613\n",
       "        1406591230       18    64.46, 65.16, 63.902\n",
       "        1406605631       18  64.059, 63.728, 64.401"
      ]
     },
     "execution_count": 75,
     "metadata": {},
     "output_type": "execute_result"
    }
   ],
   "source": [
    "df.head()"
   ]
  },
  {
   "cell_type": "code",
   "execution_count": 76,
   "metadata": {
    "collapsed": true
   },
   "outputs": [],
   "source": [
    "df.to_sql(  '%s'%RA_LATENCIES_LAST_HOP\n",
    "          , con\n",
    "          , flavor='sqlite'\n",
    "          , if_exists = 'append'\n",
    "          , index_label = index_label\n",
    "         )"
   ]
  },
  {
   "cell_type": "code",
   "execution_count": 77,
   "metadata": {
    "collapsed": true
   },
   "outputs": [],
   "source": [
    "con.commit()\n",
    "con.close()"
   ]
  }
 ],
 "metadata": {
  "kernelspec": {
   "display_name": "Python 3",
   "language": "python",
   "name": "python3"
  },
  "language_info": {
   "codemirror_mode": {
    "name": "ipython",
    "version": 3
   },
   "file_extension": ".py",
   "mimetype": "text/x-python",
   "name": "python",
   "nbconvert_exporter": "python",
   "pygments_lexer": "ipython3",
   "version": "3.4.2"
  }
 },
 "nbformat": 4,
 "nbformat_minor": 0
}
