{
 "cells": [
  {
   "cell_type": "markdown",
   "metadata": {},
   "source": [
    "*This notebook gets the raw ripeatlas last hop latencies for each (probeid, timestamp) tuple from `ra_latencies_last_hop` table; aggregates the last_hop latencies across 3 queries and generates a 5-tuple then inserts entire dataframe in `ra_latencies_last_hop_agg` table.*\n",
    "- - - "
   ]
  },
  {
   "cell_type": "code",
   "execution_count": 27,
   "metadata": {
    "collapsed": false
   },
   "outputs": [],
   "source": [
    "import sqlite3\n",
    "import pandas as pd\n",
    "import requests\n",
    "import ipaddress\n",
    "import time"
   ]
  },
  {
   "cell_type": "code",
   "execution_count": 28,
   "metadata": {
    "collapsed": true
   },
   "outputs": [],
   "source": [
    "DB_LOCATION = 'lastmile.db'\n",
    "RA_LATENCIES_LAST_HOP = 'ra_latencies_last_hop'\n",
    "RA_LATENCIES_LAST_HOP_AGG = 'ra_latencies_last_hop_agg'"
   ]
  },
  {
   "cell_type": "code",
   "execution_count": 29,
   "metadata": {
    "collapsed": false
   },
   "outputs": [],
   "source": [
    "con = sqlite3.connect(DB_LOCATION)"
   ]
  },
  {
   "cell_type": "code",
   "execution_count": 30,
   "metadata": {
    "collapsed": false
   },
   "outputs": [],
   "source": [
    "query = '''SELECT    probeid\n",
    "                   , timestamp\n",
    "                   , last_hop\n",
    "                   , last_hop_latencies\n",
    "           FROM      %s\n",
    "        '''%(RA_LATENCIES_LAST_HOP)\n",
    "\n",
    "df = pd.read_sql(query, con)"
   ]
  },
  {
   "cell_type": "code",
   "execution_count": 31,
   "metadata": {
    "collapsed": false
   },
   "outputs": [
    {
     "data": {
      "text/plain": [
       "probeid               137017\n",
       "timestamp             137017\n",
       "last_hop              137017\n",
       "last_hop_latencies    135815\n",
       "dtype: int64"
      ]
     },
     "execution_count": 31,
     "metadata": {},
     "output_type": "execute_result"
    }
   ],
   "source": [
    "df.count()"
   ]
  },
  {
   "cell_type": "code",
   "execution_count": 32,
   "metadata": {
    "collapsed": false
   },
   "outputs": [],
   "source": [
    "df = df.dropna()"
   ]
  },
  {
   "cell_type": "code",
   "execution_count": 33,
   "metadata": {
    "collapsed": false
   },
   "outputs": [
    {
     "data": {
      "text/html": [
       "<div>\n",
       "<table border=\"1\" class=\"dataframe\">\n",
       "  <thead>\n",
       "    <tr style=\"text-align: right;\">\n",
       "      <th></th>\n",
       "      <th>probeid</th>\n",
       "      <th>timestamp</th>\n",
       "      <th>last_hop</th>\n",
       "      <th>last_hop_latencies</th>\n",
       "    </tr>\n",
       "  </thead>\n",
       "  <tbody>\n",
       "    <tr>\n",
       "      <th>0</th>\n",
       "      <td>10006</td>\n",
       "      <td>1406548034</td>\n",
       "      <td>18</td>\n",
       "      <td>64.929, 65.337, 63.992</td>\n",
       "    </tr>\n",
       "    <tr>\n",
       "      <th>1</th>\n",
       "      <td>10006</td>\n",
       "      <td>1406562432</td>\n",
       "      <td>18</td>\n",
       "      <td>64.001, 64.404, 64.194</td>\n",
       "    </tr>\n",
       "    <tr>\n",
       "      <th>2</th>\n",
       "      <td>10006</td>\n",
       "      <td>1406576835</td>\n",
       "      <td>18</td>\n",
       "      <td>64.473, 64.215, 64.613</td>\n",
       "    </tr>\n",
       "    <tr>\n",
       "      <th>3</th>\n",
       "      <td>10006</td>\n",
       "      <td>1406591230</td>\n",
       "      <td>18</td>\n",
       "      <td>64.46, 65.16, 63.902</td>\n",
       "    </tr>\n",
       "    <tr>\n",
       "      <th>4</th>\n",
       "      <td>10006</td>\n",
       "      <td>1406605631</td>\n",
       "      <td>18</td>\n",
       "      <td>64.059, 63.728, 64.401</td>\n",
       "    </tr>\n",
       "  </tbody>\n",
       "</table>\n",
       "</div>"
      ],
      "text/plain": [
       "   probeid   timestamp  last_hop      last_hop_latencies\n",
       "0    10006  1406548034        18  64.929, 65.337, 63.992\n",
       "1    10006  1406562432        18  64.001, 64.404, 64.194\n",
       "2    10006  1406576835        18  64.473, 64.215, 64.613\n",
       "3    10006  1406591230        18    64.46, 65.16, 63.902\n",
       "4    10006  1406605631        18  64.059, 63.728, 64.401"
      ]
     },
     "execution_count": 33,
     "metadata": {},
     "output_type": "execute_result"
    }
   ],
   "source": [
    "df.head()"
   ]
  },
  {
   "cell_type": "code",
   "execution_count": 34,
   "metadata": {
    "collapsed": true
   },
   "outputs": [],
   "source": [
    "def percentile(n):\n",
    "    import numpy as np\n",
    "    def percentile_(x):\n",
    "        return np.percentile(x, n)\n",
    "    percentile_.__name__ = 'percentile_%s' % n\n",
    "    return percentile_ "
   ]
  },
  {
   "cell_type": "code",
   "execution_count": 35,
   "metadata": {
    "collapsed": false
   },
   "outputs": [],
   "source": [
    "def get_min(latencies):\n",
    "    latencies = latencies.strip()\n",
    "    if latencies is None or latencies == 'None': return None\n",
    "    latencies = [float(latency) for latency in latencies.split(',')]\n",
    "    min = percentile(0)(latencies)\n",
    "    return min"
   ]
  },
  {
   "cell_type": "code",
   "execution_count": 36,
   "metadata": {
    "collapsed": true
   },
   "outputs": [],
   "source": [
    "def get_q1(latencies):\n",
    "    latencies = latencies.strip()\n",
    "    if latencies is None or latencies == 'None': return None\n",
    "    latencies = [float(latency) for latency in latencies.split(',')]\n",
    "    q1 = percentile(25)(latencies)\n",
    "    return q1"
   ]
  },
  {
   "cell_type": "code",
   "execution_count": 37,
   "metadata": {
    "collapsed": true
   },
   "outputs": [],
   "source": [
    "def get_median(latencies):\n",
    "    latencies = latencies.strip()\n",
    "    if latencies is None or latencies == 'None': return None\n",
    "    latencies = [float(latency) for latency in latencies.split(',')]\n",
    "    median = percentile(50)(latencies)\n",
    "    return median"
   ]
  },
  {
   "cell_type": "code",
   "execution_count": 38,
   "metadata": {
    "collapsed": true
   },
   "outputs": [],
   "source": [
    "def get_q2(latencies):\n",
    "    latencies = latencies.strip()\n",
    "    if latencies is None or latencies == 'None': return None\n",
    "    latencies = [float(latency) for latency in latencies.split(',')]\n",
    "    q2 = percentile(75)(latencies)\n",
    "    return q2"
   ]
  },
  {
   "cell_type": "code",
   "execution_count": 39,
   "metadata": {
    "collapsed": true
   },
   "outputs": [],
   "source": [
    "def get_max(latencies):\n",
    "    latencies = latencies.strip()\n",
    "    if latencies is None or latencies == 'None': return None\n",
    "    latencies = [float(latency) for latency in latencies.split(',')]\n",
    "    max = percentile(100)(latencies)\n",
    "    return max"
   ]
  },
  {
   "cell_type": "code",
   "execution_count": 40,
   "metadata": {
    "collapsed": false
   },
   "outputs": [],
   "source": [
    "df['last_hop_min']    = df['last_hop_latencies'].apply(get_min)\n",
    "df['last_hop_q1']     = df['last_hop_latencies'].apply(get_q1)\n",
    "df['last_hop_median'] = df['last_hop_latencies'].apply(get_median)\n",
    "df['last_hop_q2']     = df['last_hop_latencies'].apply(get_q2)\n",
    "df['last_hop_max']    = df['last_hop_latencies'].apply(get_max)"
   ]
  },
  {
   "cell_type": "code",
   "execution_count": 41,
   "metadata": {
    "collapsed": false
   },
   "outputs": [
    {
     "data": {
      "text/html": [
       "<div>\n",
       "<table border=\"1\" class=\"dataframe\">\n",
       "  <thead>\n",
       "    <tr style=\"text-align: right;\">\n",
       "      <th></th>\n",
       "      <th>probeid</th>\n",
       "      <th>timestamp</th>\n",
       "      <th>last_hop</th>\n",
       "      <th>last_hop_latencies</th>\n",
       "      <th>last_hop_min</th>\n",
       "      <th>last_hop_q1</th>\n",
       "      <th>last_hop_median</th>\n",
       "      <th>last_hop_q2</th>\n",
       "      <th>last_hop_max</th>\n",
       "    </tr>\n",
       "  </thead>\n",
       "  <tbody>\n",
       "    <tr>\n",
       "      <th>0</th>\n",
       "      <td>10006</td>\n",
       "      <td>1406548034</td>\n",
       "      <td>18</td>\n",
       "      <td>64.929, 65.337, 63.992</td>\n",
       "      <td>63.992</td>\n",
       "      <td>64.4605</td>\n",
       "      <td>64.929</td>\n",
       "      <td>65.133</td>\n",
       "      <td>65.337</td>\n",
       "    </tr>\n",
       "    <tr>\n",
       "      <th>1</th>\n",
       "      <td>10006</td>\n",
       "      <td>1406562432</td>\n",
       "      <td>18</td>\n",
       "      <td>64.001, 64.404, 64.194</td>\n",
       "      <td>64.001</td>\n",
       "      <td>64.0975</td>\n",
       "      <td>64.194</td>\n",
       "      <td>64.299</td>\n",
       "      <td>64.404</td>\n",
       "    </tr>\n",
       "    <tr>\n",
       "      <th>2</th>\n",
       "      <td>10006</td>\n",
       "      <td>1406576835</td>\n",
       "      <td>18</td>\n",
       "      <td>64.473, 64.215, 64.613</td>\n",
       "      <td>64.215</td>\n",
       "      <td>64.3440</td>\n",
       "      <td>64.473</td>\n",
       "      <td>64.543</td>\n",
       "      <td>64.613</td>\n",
       "    </tr>\n",
       "    <tr>\n",
       "      <th>3</th>\n",
       "      <td>10006</td>\n",
       "      <td>1406591230</td>\n",
       "      <td>18</td>\n",
       "      <td>64.46, 65.16, 63.902</td>\n",
       "      <td>63.902</td>\n",
       "      <td>64.1810</td>\n",
       "      <td>64.460</td>\n",
       "      <td>64.810</td>\n",
       "      <td>65.160</td>\n",
       "    </tr>\n",
       "    <tr>\n",
       "      <th>4</th>\n",
       "      <td>10006</td>\n",
       "      <td>1406605631</td>\n",
       "      <td>18</td>\n",
       "      <td>64.059, 63.728, 64.401</td>\n",
       "      <td>63.728</td>\n",
       "      <td>63.8935</td>\n",
       "      <td>64.059</td>\n",
       "      <td>64.230</td>\n",
       "      <td>64.401</td>\n",
       "    </tr>\n",
       "  </tbody>\n",
       "</table>\n",
       "</div>"
      ],
      "text/plain": [
       "   probeid   timestamp  last_hop      last_hop_latencies  last_hop_min  \\\n",
       "0    10006  1406548034        18  64.929, 65.337, 63.992        63.992   \n",
       "1    10006  1406562432        18  64.001, 64.404, 64.194        64.001   \n",
       "2    10006  1406576835        18  64.473, 64.215, 64.613        64.215   \n",
       "3    10006  1406591230        18    64.46, 65.16, 63.902        63.902   \n",
       "4    10006  1406605631        18  64.059, 63.728, 64.401        63.728   \n",
       "\n",
       "   last_hop_q1  last_hop_median  last_hop_q2  last_hop_max  \n",
       "0      64.4605           64.929       65.133        65.337  \n",
       "1      64.0975           64.194       64.299        64.404  \n",
       "2      64.3440           64.473       64.543        64.613  \n",
       "3      64.1810           64.460       64.810        65.160  \n",
       "4      63.8935           64.059       64.230        64.401  "
      ]
     },
     "execution_count": 41,
     "metadata": {},
     "output_type": "execute_result"
    }
   ],
   "source": [
    "df.head()"
   ]
  },
  {
   "cell_type": "code",
   "execution_count": 42,
   "metadata": {
    "collapsed": false
   },
   "outputs": [],
   "source": [
    "del df['last_hop_latencies']"
   ]
  },
  {
   "cell_type": "code",
   "execution_count": 43,
   "metadata": {
    "collapsed": false
   },
   "outputs": [
    {
     "data": {
      "text/html": [
       "<div>\n",
       "<table border=\"1\" class=\"dataframe\">\n",
       "  <thead>\n",
       "    <tr style=\"text-align: right;\">\n",
       "      <th></th>\n",
       "      <th>probeid</th>\n",
       "      <th>timestamp</th>\n",
       "      <th>last_hop</th>\n",
       "      <th>last_hop_min</th>\n",
       "      <th>last_hop_q1</th>\n",
       "      <th>last_hop_median</th>\n",
       "      <th>last_hop_q2</th>\n",
       "      <th>last_hop_max</th>\n",
       "    </tr>\n",
       "  </thead>\n",
       "  <tbody>\n",
       "    <tr>\n",
       "      <th>0</th>\n",
       "      <td>10006</td>\n",
       "      <td>1406548034</td>\n",
       "      <td>18</td>\n",
       "      <td>63.992</td>\n",
       "      <td>64.4605</td>\n",
       "      <td>64.929</td>\n",
       "      <td>65.133</td>\n",
       "      <td>65.337</td>\n",
       "    </tr>\n",
       "    <tr>\n",
       "      <th>1</th>\n",
       "      <td>10006</td>\n",
       "      <td>1406562432</td>\n",
       "      <td>18</td>\n",
       "      <td>64.001</td>\n",
       "      <td>64.0975</td>\n",
       "      <td>64.194</td>\n",
       "      <td>64.299</td>\n",
       "      <td>64.404</td>\n",
       "    </tr>\n",
       "    <tr>\n",
       "      <th>2</th>\n",
       "      <td>10006</td>\n",
       "      <td>1406576835</td>\n",
       "      <td>18</td>\n",
       "      <td>64.215</td>\n",
       "      <td>64.3440</td>\n",
       "      <td>64.473</td>\n",
       "      <td>64.543</td>\n",
       "      <td>64.613</td>\n",
       "    </tr>\n",
       "    <tr>\n",
       "      <th>3</th>\n",
       "      <td>10006</td>\n",
       "      <td>1406591230</td>\n",
       "      <td>18</td>\n",
       "      <td>63.902</td>\n",
       "      <td>64.1810</td>\n",
       "      <td>64.460</td>\n",
       "      <td>64.810</td>\n",
       "      <td>65.160</td>\n",
       "    </tr>\n",
       "    <tr>\n",
       "      <th>4</th>\n",
       "      <td>10006</td>\n",
       "      <td>1406605631</td>\n",
       "      <td>18</td>\n",
       "      <td>63.728</td>\n",
       "      <td>63.8935</td>\n",
       "      <td>64.059</td>\n",
       "      <td>64.230</td>\n",
       "      <td>64.401</td>\n",
       "    </tr>\n",
       "  </tbody>\n",
       "</table>\n",
       "</div>"
      ],
      "text/plain": [
       "   probeid   timestamp  last_hop  last_hop_min  last_hop_q1  last_hop_median  \\\n",
       "0    10006  1406548034        18        63.992      64.4605           64.929   \n",
       "1    10006  1406562432        18        64.001      64.0975           64.194   \n",
       "2    10006  1406576835        18        64.215      64.3440           64.473   \n",
       "3    10006  1406591230        18        63.902      64.1810           64.460   \n",
       "4    10006  1406605631        18        63.728      63.8935           64.059   \n",
       "\n",
       "   last_hop_q2  last_hop_max  \n",
       "0       65.133        65.337  \n",
       "1       64.299        64.404  \n",
       "2       64.543        64.613  \n",
       "3       64.810        65.160  \n",
       "4       64.230        64.401  "
      ]
     },
     "execution_count": 43,
     "metadata": {},
     "output_type": "execute_result"
    }
   ],
   "source": [
    "df.head()"
   ]
  },
  {
   "cell_type": "code",
   "execution_count": 44,
   "metadata": {
    "collapsed": false
   },
   "outputs": [
    {
     "data": {
      "text/plain": [
       "probeid            135815\n",
       "timestamp          135815\n",
       "last_hop           135815\n",
       "last_hop_min       135815\n",
       "last_hop_q1        135815\n",
       "last_hop_median    135815\n",
       "last_hop_q2        135815\n",
       "last_hop_max       135815\n",
       "dtype: int64"
      ]
     },
     "execution_count": 44,
     "metadata": {},
     "output_type": "execute_result"
    }
   ],
   "source": [
    "df.count()"
   ]
  },
  {
   "cell_type": "code",
   "execution_count": 45,
   "metadata": {
    "collapsed": true
   },
   "outputs": [],
   "source": [
    "cur = con.execute('pragma foreign_keys=ON')"
   ]
  },
  {
   "cell_type": "code",
   "execution_count": 46,
   "metadata": {
    "collapsed": false
   },
   "outputs": [],
   "source": [
    "index_label = ['probeid', 'timestamp']\n",
    "df = df.set_index(index_label)"
   ]
  },
  {
   "cell_type": "code",
   "execution_count": 47,
   "metadata": {
    "collapsed": false
   },
   "outputs": [
    {
     "data": {
      "text/html": [
       "<div>\n",
       "<table border=\"1\" class=\"dataframe\">\n",
       "  <thead>\n",
       "    <tr style=\"text-align: right;\">\n",
       "      <th></th>\n",
       "      <th></th>\n",
       "      <th>last_hop</th>\n",
       "      <th>last_hop_min</th>\n",
       "      <th>last_hop_q1</th>\n",
       "      <th>last_hop_median</th>\n",
       "      <th>last_hop_q2</th>\n",
       "      <th>last_hop_max</th>\n",
       "    </tr>\n",
       "    <tr>\n",
       "      <th>probeid</th>\n",
       "      <th>timestamp</th>\n",
       "      <th></th>\n",
       "      <th></th>\n",
       "      <th></th>\n",
       "      <th></th>\n",
       "      <th></th>\n",
       "      <th></th>\n",
       "    </tr>\n",
       "  </thead>\n",
       "  <tbody>\n",
       "    <tr>\n",
       "      <th rowspan=\"5\" valign=\"top\">10006</th>\n",
       "      <th>1406548034</th>\n",
       "      <td>18</td>\n",
       "      <td>63.992</td>\n",
       "      <td>64.4605</td>\n",
       "      <td>64.929</td>\n",
       "      <td>65.133</td>\n",
       "      <td>65.337</td>\n",
       "    </tr>\n",
       "    <tr>\n",
       "      <th>1406562432</th>\n",
       "      <td>18</td>\n",
       "      <td>64.001</td>\n",
       "      <td>64.0975</td>\n",
       "      <td>64.194</td>\n",
       "      <td>64.299</td>\n",
       "      <td>64.404</td>\n",
       "    </tr>\n",
       "    <tr>\n",
       "      <th>1406576835</th>\n",
       "      <td>18</td>\n",
       "      <td>64.215</td>\n",
       "      <td>64.3440</td>\n",
       "      <td>64.473</td>\n",
       "      <td>64.543</td>\n",
       "      <td>64.613</td>\n",
       "    </tr>\n",
       "    <tr>\n",
       "      <th>1406591230</th>\n",
       "      <td>18</td>\n",
       "      <td>63.902</td>\n",
       "      <td>64.1810</td>\n",
       "      <td>64.460</td>\n",
       "      <td>64.810</td>\n",
       "      <td>65.160</td>\n",
       "    </tr>\n",
       "    <tr>\n",
       "      <th>1406605631</th>\n",
       "      <td>18</td>\n",
       "      <td>63.728</td>\n",
       "      <td>63.8935</td>\n",
       "      <td>64.059</td>\n",
       "      <td>64.230</td>\n",
       "      <td>64.401</td>\n",
       "    </tr>\n",
       "  </tbody>\n",
       "</table>\n",
       "</div>"
      ],
      "text/plain": [
       "                    last_hop  last_hop_min  last_hop_q1  last_hop_median  \\\n",
       "probeid timestamp                                                          \n",
       "10006   1406548034        18        63.992      64.4605           64.929   \n",
       "        1406562432        18        64.001      64.0975           64.194   \n",
       "        1406576835        18        64.215      64.3440           64.473   \n",
       "        1406591230        18        63.902      64.1810           64.460   \n",
       "        1406605631        18        63.728      63.8935           64.059   \n",
       "\n",
       "                    last_hop_q2  last_hop_max  \n",
       "probeid timestamp                              \n",
       "10006   1406548034       65.133        65.337  \n",
       "        1406562432       64.299        64.404  \n",
       "        1406576835       64.543        64.613  \n",
       "        1406591230       64.810        65.160  \n",
       "        1406605631       64.230        64.401  "
      ]
     },
     "execution_count": 47,
     "metadata": {},
     "output_type": "execute_result"
    }
   ],
   "source": [
    "df.head()"
   ]
  },
  {
   "cell_type": "code",
   "execution_count": 48,
   "metadata": {
    "collapsed": true
   },
   "outputs": [],
   "source": [
    "df.to_sql(  '%s'%RA_LATENCIES_LAST_HOP_AGG\n",
    "          , con\n",
    "          , flavor='sqlite'\n",
    "          , if_exists = 'append'\n",
    "          , index_label = index_label\n",
    "         )"
   ]
  },
  {
   "cell_type": "code",
   "execution_count": 49,
   "metadata": {
    "collapsed": true
   },
   "outputs": [],
   "source": [
    "con.commit()\n",
    "con.close()"
   ]
  }
 ],
 "metadata": {
  "kernelspec": {
   "display_name": "Python 3",
   "language": "python",
   "name": "python3"
  },
  "language_info": {
   "codemirror_mode": {
    "name": "ipython",
    "version": 3
   },
   "file_extension": ".py",
   "mimetype": "text/x-python",
   "name": "python",
   "nbconvert_exporter": "python",
   "pygments_lexer": "ipython3",
   "version": "3.4.2"
  }
 },
 "nbformat": 4,
 "nbformat_minor": 0
}
